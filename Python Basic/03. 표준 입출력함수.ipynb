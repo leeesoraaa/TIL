{
 "cells": [
  {
   "cell_type": "markdown",
   "id": "70961fb8",
   "metadata": {},
   "source": [
    "# 표준 입력함수: input()\n",
    "\n",
    "- 파이썬에서 기본적으로 데이터를 키보드로 입력할 때 사용하는 함수: 콘솔(con sole)환경\n",
    "- input 함수는 입력되는 모든 것을 문자열로 취급한다.\n",
    "- 형식: 변수 = input()"
   ]
  },
  {
   "cell_type": "code",
   "execution_count": null,
   "id": "0dc7c763",
   "metadata": {
    "ExecuteTime": {
     "end_time": "2023-08-22T02:43:06.559691Z",
     "start_time": "2023-08-22T02:42:54.884897Z"
    }
   },
   "outputs": [],
   "source": [
    "# '=' 연산자의 연산방향은 오른쪽에서 왼쪽이다. x = 9\n",
    "# '+' 연산자의 연산방향은 좌에서 우이다. 10 + 3\n",
    "a = input()\n",
    "print(a)"
   ]
  },
  {
   "cell_type": "code",
   "execution_count": null,
   "id": "0cd47b62",
   "metadata": {
    "ExecuteTime": {
     "end_time": "2023-08-22T02:44:51.881446Z",
     "start_time": "2023-08-22T02:44:41.322739Z"
    }
   },
   "outputs": [],
   "source": [
    "# input(message)\n",
    "b = input(\"숫자입력:\")\n",
    "print(\"입력받은 숫자:\", b)"
   ]
  },
  {
   "cell_type": "code",
   "execution_count": null,
   "id": "a1e95914",
   "metadata": {
    "ExecuteTime": {
     "end_time": "2023-08-22T02:50:22.001874Z",
     "start_time": "2023-08-22T02:50:20.029909Z"
    }
   },
   "outputs": [],
   "source": [
    "# 반지름을 입력받아 원의 면적과 둘레를 계산하는 프로그램을 구현하시오.\n",
    "\n",
    "## 선언문 = 초기화(변수의 처음값을 담는 역할을 수행하는 문장)\n",
    "pi = 3.14\n",
    "\n",
    "## 입력문\n",
    "r = int(input(\"반지름:\"))\n",
    "\n",
    "## 처리문\n",
    "\n",
    "## 출력문\n",
    "print(\"원의 둘레:\", 2 * pi * r)\n",
    "print(\"원의 면적:\", r * r * pi)"
   ]
  },
  {
   "cell_type": "code",
   "execution_count": null,
   "id": "ff9def1e",
   "metadata": {
    "ExecuteTime": {
     "end_time": "2023-08-22T02:54:24.879594Z",
     "start_time": "2023-08-22T02:54:14.756143Z"
    }
   },
   "outputs": [],
   "source": [
    "# 두 개의 숫자를 입력받아 합과 곱을 출력하는 프로그램을 구현하시오.\n",
    "\n",
    "## 입력문\n",
    "su1 = int(input('첫번째숫자:'))\n",
    "su2 = int(input('두번째숫자:'))\n",
    "\n",
    "## 처리문\n",
    "hap = su1 + su2\n",
    "gob = su1 * su2\n",
    "\n",
    "## 출력문\n",
    "print(\"합:\", hap)\n",
    "print(\"곱:\", gob)"
   ]
  },
  {
   "cell_type": "markdown",
   "id": "03223e6a",
   "metadata": {},
   "source": [
    "## 여러 값을 한 번에 입력받는 함수\n",
    "- split(): 특정 문자를 기준으로 문자열을 잘라내는 함수\n",
    "- map(): map(변환함수, 반복가능한 객체)"
   ]
  },
  {
   "cell_type": "code",
   "execution_count": null,
   "id": "5c3c2722",
   "metadata": {
    "ExecuteTime": {
     "end_time": "2023-08-22T02:57:41.293017Z",
     "start_time": "2023-08-22T02:57:31.996646Z"
    }
   },
   "outputs": [],
   "source": [
    "num = input()\n",
    "print(num)"
   ]
  },
  {
   "cell_type": "code",
   "execution_count": null,
   "id": "00e25164",
   "metadata": {
    "ExecuteTime": {
     "end_time": "2023-08-22T03:00:30.161915Z",
     "start_time": "2023-08-22T03:00:25.971097Z"
    }
   },
   "outputs": [],
   "source": [
    "# split() 함수의 기본은 공백을 기준으로 잘라냄\n",
    "num = input().split()\n",
    "print(num) # 리스트 형태로 출력됨"
   ]
  },
  {
   "cell_type": "code",
   "execution_count": null,
   "id": "5d6edb7f",
   "metadata": {
    "ExecuteTime": {
     "end_time": "2023-08-22T03:02:09.047606Z",
     "start_time": "2023-08-22T03:02:00.916763Z"
    }
   },
   "outputs": [],
   "source": [
    "num = map(int, input().split()) # map 객체로 반환(주소 반환)\n",
    "print(num)"
   ]
  },
  {
   "cell_type": "code",
   "execution_count": null,
   "id": "6a09f523",
   "metadata": {
    "ExecuteTime": {
     "end_time": "2023-08-22T03:04:46.807260Z",
     "start_time": "2023-08-22T03:04:44.054450Z"
    }
   },
   "outputs": [],
   "source": [
    "# list(리스트)는 1차원 배열을 의미하는 자료형으로 R에서 Vector 형식을 갖는다.\n",
    "num = list(map(int, input().split()))\n",
    "print(num)"
   ]
  },
  {
   "cell_type": "markdown",
   "id": "15d7d195",
   "metadata": {},
   "source": [
    "# 표준 출력함수: print()\n",
    "\n",
    "- 기본형: print(\"출력내용\")\n",
    "- print(a, b, c)"
   ]
  },
  {
   "cell_type": "markdown",
   "id": "4731cda4",
   "metadata": {},
   "source": [
    "## 형식화된 문자열을 이용한 출력\n",
    "\n",
    "- 형식: 형식화된 문자열.format(변수)"
   ]
  },
  {
   "cell_type": "code",
   "execution_count": null,
   "id": "d519493a",
   "metadata": {
    "ExecuteTime": {
     "end_time": "2023-08-22T03:36:17.787239Z",
     "start_time": "2023-08-22T03:36:17.772076Z"
    }
   },
   "outputs": [],
   "source": [
    "x = 9\n",
    "print(x)\n",
    "print(\"x =\", x)"
   ]
  },
  {
   "cell_type": "code",
   "execution_count": null,
   "id": "8d546fe8",
   "metadata": {
    "ExecuteTime": {
     "end_time": "2023-08-22T03:39:48.316078Z",
     "start_time": "2023-08-22T03:39:48.308229Z"
    }
   },
   "outputs": [],
   "source": [
    "print(\"정수1:{0}\".format(x))\n",
    "print(\"결과: {}\".format(3**5))\n",
    "print(\"덧셈: {0}, 곱셈: {1}\".format(x+x, x*x))"
   ]
  },
  {
   "cell_type": "code",
   "execution_count": null,
   "id": "1b978fa4",
   "metadata": {
    "ExecuteTime": {
     "end_time": "2023-08-22T03:46:06.027021Z",
     "start_time": "2023-08-22T03:46:06.016405Z"
    }
   },
   "outputs": [],
   "source": [
    "name = \"홍길동\"\n",
    "age = 23\n",
    "gender = 'M' # %c를 쓸 땐 '' 만 가능"
   ]
  },
  {
   "cell_type": "code",
   "execution_count": null,
   "id": "5e34b024",
   "metadata": {
    "ExecuteTime": {
     "end_time": "2023-08-22T03:41:00.551926Z",
     "start_time": "2023-08-22T03:41:00.533233Z"
    }
   },
   "outputs": [],
   "source": [
    "print(\"홍길동님의 나이는 23세이고 성별은 남자입니다.\")"
   ]
  },
  {
   "cell_type": "code",
   "execution_count": null,
   "id": "649298f3",
   "metadata": {
    "ExecuteTime": {
     "end_time": "2023-08-22T03:46:08.388508Z",
     "start_time": "2023-08-22T03:46:08.378206Z"
    }
   },
   "outputs": [],
   "source": [
    "print(\"%s님의 나이는 %d세이고 성별은 %c입니다.\" %(name, age, gender))"
   ]
  },
  {
   "cell_type": "code",
   "execution_count": null,
   "id": "5cd0ccbd",
   "metadata": {
    "ExecuteTime": {
     "end_time": "2023-08-22T03:46:51.997547Z",
     "start_time": "2023-08-22T03:46:51.990563Z"
    }
   },
   "outputs": [],
   "source": [
    "x = 8.3 / 2.7\n",
    "x"
   ]
  },
  {
   "cell_type": "code",
   "execution_count": null,
   "id": "080aa336",
   "metadata": {
    "ExecuteTime": {
     "end_time": "2023-08-22T03:47:10.328009Z",
     "start_time": "2023-08-22T03:47:10.324053Z"
    }
   },
   "outputs": [],
   "source": [
    "print(\"결과: %f\" % x)"
   ]
  },
  {
   "cell_type": "code",
   "execution_count": null,
   "id": "a78d203d",
   "metadata": {
    "ExecuteTime": {
     "end_time": "2023-08-22T03:47:28.440946Z",
     "start_time": "2023-08-22T03:47:28.428683Z"
    }
   },
   "outputs": [],
   "source": [
    "print(\"결과: %.2f\" % x)"
   ]
  },
  {
   "cell_type": "code",
   "execution_count": null,
   "id": "04012da3",
   "metadata": {
    "ExecuteTime": {
     "end_time": "2023-08-22T03:49:09.916219Z",
     "start_time": "2023-08-22T03:49:09.912309Z"
    }
   },
   "outputs": [],
   "source": [
    "a = 10\n",
    "b = 20\n",
    "\n",
    "print(\"a = {}, b = {}\".format(a,b))\n",
    "print(\"a = {0}, b = {1}\".format(a, b))"
   ]
  },
  {
   "cell_type": "code",
   "execution_count": null,
   "id": "bd9611af",
   "metadata": {
    "ExecuteTime": {
     "end_time": "2023-08-22T03:49:52.504119Z",
     "start_time": "2023-08-22T03:49:52.497058Z"
    }
   },
   "outputs": [],
   "source": [
    "print(\"a = {1}, b = {0}\".format(b,a))"
   ]
  },
  {
   "cell_type": "code",
   "execution_count": null,
   "id": "ff79ddab",
   "metadata": {
    "ExecuteTime": {
     "end_time": "2023-08-22T05:10:48.361929Z",
     "start_time": "2023-08-22T05:10:48.338620Z"
    }
   },
   "outputs": [],
   "source": [
    "print(\"실수 1:{:.3f}\".format(8.3 / 2.7))"
   ]
  },
  {
   "cell_type": "code",
   "execution_count": null,
   "id": "6b0d44b1",
   "metadata": {
    "ExecuteTime": {
     "end_time": "2023-08-22T05:12:21.167529Z",
     "start_time": "2023-08-22T05:12:21.160517Z"
    }
   },
   "outputs": [],
   "source": [
    "y = 2.5 * 4.8\n",
    "print(\"실수값: {0:5.4f}\".format(y))"
   ]
  },
  {
   "cell_type": "code",
   "execution_count": null,
   "id": "e5df1790",
   "metadata": {
    "ExecuteTime": {
     "end_time": "2023-08-22T05:14:28.553931Z",
     "start_time": "2023-08-22T05:14:28.540987Z"
    }
   },
   "outputs": [],
   "source": [
    "print(\"실수값: {}\".format(8.3/2.7))\n",
    "print(\"실수값: {0}\".format(8.3/2.7))\n",
    "print(\"실수값: {0:.3f}\".format(8.3/2.7))\n",
    "print(\"실수값: {0:.1f}\".format(8.3/2.7))\n",
    "print(\"실수값: {0:.2f}\".format(8.3/2.7))\n",
    "print(\"실수값: {0:.4f}\".format(8.3/2.7))\n",
    "print(\"실수값: {0:10.4f}\".format(8.3/2.7))"
   ]
  },
  {
   "cell_type": "markdown",
   "id": "7a91eaa3",
   "metadata": {},
   "source": [
    "## 서식기호를 이용한 출력"
   ]
  },
  {
   "cell_type": "code",
   "execution_count": null,
   "id": "67f415ed",
   "metadata": {
    "ExecuteTime": {
     "end_time": "2023-08-22T05:16:42.378495Z",
     "start_time": "2023-08-22T05:16:42.371519Z"
    }
   },
   "outputs": [],
   "source": [
    "# %s: 문자열\n",
    "# %c: 문자\n",
    "# %d: 정수\n",
    "# %f: 실수\n",
    "\n",
    "num = 12\n",
    "print(\"현재 시간은 %d입니다.\" % num)"
   ]
  },
  {
   "cell_type": "code",
   "execution_count": null,
   "id": "350bd484",
   "metadata": {
    "ExecuteTime": {
     "end_time": "2023-08-22T05:18:37.356714Z",
     "start_time": "2023-08-22T05:18:37.340755Z"
    }
   },
   "outputs": [],
   "source": [
    "hour = 14\n",
    "minute = 17\n",
    "print(\"현재 시간은 %d시 %d분입니다.\" %(hour, minute))"
   ]
  },
  {
   "cell_type": "code",
   "execution_count": null,
   "id": "d6cd51b8",
   "metadata": {
    "ExecuteTime": {
     "end_time": "2023-08-22T05:20:06.924553Z",
     "start_time": "2023-08-22T05:20:06.912584Z"
    }
   },
   "outputs": [],
   "source": [
    "name = \"길동\"\n",
    "height = 180\n",
    "weight = 78.5\n",
    "print(\"%s님의 키는 %d이고, 몸무게는 %.2f입니다.\" % (name, height, weight))"
   ]
  },
  {
   "cell_type": "code",
   "execution_count": null,
   "id": "cb5a7eee",
   "metadata": {
    "ExecuteTime": {
     "end_time": "2023-08-22T05:23:06.111522Z",
     "start_time": "2023-08-22T05:23:06.105545Z"
    }
   },
   "outputs": [],
   "source": [
    "# 서식지정자(%)와 서식기호 사이에 숫자는 자릿수를 의미한다.\n",
    "## 기본적으로 숫자는 오른쪽 정렬: 정렬(양수와 음수로 구분)\n",
    "print(\"숫자출력 %10d\" % 100)\n",
    "print(\"숫자출력 %10d\" % 10000)\n",
    "print(\"숫자출력 %-10d\" % 10000) #왼쪽 정렬"
   ]
  },
  {
   "cell_type": "code",
   "execution_count": null,
   "id": "eb0088e9",
   "metadata": {
    "ExecuteTime": {
     "end_time": "2023-08-22T05:25:39.318383Z",
     "start_time": "2023-08-22T05:25:39.303168Z"
    }
   },
   "outputs": [],
   "source": [
    "print(\"{name} is {job}\".format(name = 'John', job = \"programmer\"))"
   ]
  },
  {
   "cell_type": "code",
   "execution_count": null,
   "id": "d9964a6b",
   "metadata": {
    "ExecuteTime": {
     "end_time": "2023-08-22T05:27:33.664362Z",
     "start_time": "2023-08-22T05:27:33.655471Z"
    }
   },
   "outputs": [],
   "source": [
    "# 파이썬 3.6부터는 문자열 포매팅에 변수를 그대로 사용할 수 있다.\n",
    "# 문자열 앞에 문자열 포매팅이라는 의미로 f를 붙여준다.\n",
    "name = 'John'\n",
    "job = 'studying'\n",
    "print(f'{name} is {job}')"
   ]
  },
  {
   "cell_type": "code",
   "execution_count": null,
   "id": "ef97d8f3",
   "metadata": {
    "ExecuteTime": {
     "end_time": "2023-08-22T05:32:26.629626Z",
     "start_time": "2023-08-22T05:32:26.622649Z"
    }
   },
   "outputs": [],
   "source": [
    "# 문자정렬은 기본이 왼쪽 정렬\n",
    "# 인덱스 뒤에 :>(숫자)  숫자만큼 자릿수로 오른쪽 정렬\n",
    "\n",
    "print('{0}'.format('hi'))\n",
    "print('{0:>10s}'.format('hi')) # > : 오른쪽 정렬\n",
    "print('{0:<10s}'.format('hi')) # < : 왼쪽 정렬\n",
    "print('{0:^10s}'.format('hi')) # ^ : 가운데 정렬\n",
    "print('{0:=^10s}'.format('hi')) # = : 빈공간을 '='로 채우기"
   ]
  },
  {
   "cell_type": "code",
   "execution_count": null,
   "id": "fd3ca0e4",
   "metadata": {
    "ExecuteTime": {
     "end_time": "2023-08-22T05:33:18.603003Z",
     "start_time": "2023-08-22T05:33:18.587499Z"
    }
   },
   "outputs": [],
   "source": [
    "x = 4.2\n",
    "print(f\"{x:10.3f}\")"
   ]
  },
  {
   "cell_type": "code",
   "execution_count": null,
   "id": "7674ebf4",
   "metadata": {
    "ExecuteTime": {
     "end_time": "2023-08-22T05:37:35.963264Z",
     "start_time": "2023-08-22T05:37:35.945060Z"
    }
   },
   "outputs": [],
   "source": [
    "# swap: 자리바꿈\n",
    "x = 100\n",
    "y = 200\n",
    "print(\"x = %d, y = %d\" % (x, y))\n",
    "\n",
    "# 변수는 하나의 값을 담는 기억공간, 새로운 값이 들어오면 그 전 값은 지워진다.\n",
    "temp = x\n",
    "x = y\n",
    "y = temp\n",
    "print(\"x = %d, y = %d\" % (x, y))"
   ]
  },
  {
   "cell_type": "code",
   "execution_count": null,
   "id": "e1e88646",
   "metadata": {
    "ExecuteTime": {
     "end_time": "2023-08-22T05:38:33.192549Z",
     "start_time": "2023-08-22T05:38:33.175273Z"
    }
   },
   "outputs": [],
   "source": [
    "# swap: 자리바꿈\n",
    "x = 100\n",
    "y = 200\n",
    "print(\"x = %d, y = %d\" % (x, y))\n",
    "\n",
    "x, y = y, x # x, y = (y, x)\n",
    "print(\"x = %d, y = %d\" % (x, y))"
   ]
  },
  {
   "cell_type": "code",
   "execution_count": null,
   "id": "11429b39",
   "metadata": {
    "ExecuteTime": {
     "end_time": "2023-08-22T05:40:43.557096Z",
     "start_time": "2023-08-22T05:40:43.543668Z"
    }
   },
   "outputs": [],
   "source": [
    "# 파이썬의 자료구조: 리스트, 튜플, 집합(셋), 딕셔너리, 데이터프레임\n",
    "# 자료구조: 하나 이상의 데이터를 담아서 관리하는 공간\n",
    "\n",
    "## 패킹(packing)과 언패킹(unpacking)\n",
    "\n",
    "x = 1, 2, 3, 4, 5 # 패킹, # x = (1, 2, 3, 4, 5), tuple\n",
    "x"
   ]
  },
  {
   "cell_type": "code",
   "execution_count": null,
   "id": "66a70260",
   "metadata": {
    "ExecuteTime": {
     "end_time": "2023-08-22T05:42:44.465469Z",
     "start_time": "2023-08-22T05:42:44.454512Z"
    }
   },
   "outputs": [],
   "source": [
    "a, b, c, d, e = x # 언패킹\n",
    "print(a, b, c, d, e) # x와 개수가 똑같아야 함"
   ]
  },
  {
   "cell_type": "code",
   "execution_count": null,
   "id": "61400809",
   "metadata": {
    "ExecuteTime": {
     "start_time": "2023-08-22T06:06:30.478Z"
    }
   },
   "outputs": [],
   "source": [
    "# 두 개의 정수를 입력받아 사칙연산의 결과를 출력하는 프로그램을 구현하시오.\n",
    "\n",
    "## 입력형식\n",
    "## 숫자 = 10 20\n",
    "\n",
    "## 출력형식\n",
    "## 10 + 20 = 30\n",
    "## 10 - 20 = -10\n",
    "## 10 * 20 ="
   ]
  },
  {
   "cell_type": "code",
   "execution_count": 1,
   "id": "ce39c2fe",
   "metadata": {
    "ExecuteTime": {
     "end_time": "2023-08-22T06:10:35.905594Z",
     "start_time": "2023-08-22T06:10:31.245982Z"
    }
   },
   "outputs": [
    {
     "name": "stdout",
     "output_type": "stream",
     "text": [
      "숫자 = 10 20\n",
      "10 + 20 = 30\n"
     ]
    }
   ],
   "source": [
    "### 입력문\n",
    "su1, su2 = input('숫자 = ').split()\n",
    "\n",
    "### 처리문\n",
    "su1 = int(su1)\n",
    "su2 = int(su2)\n",
    "\n",
    "### 출력문\n",
    "print(f\"{su1} + {su2} = {su1+su2}\")"
   ]
  },
  {
   "cell_type": "code",
   "execution_count": 2,
   "id": "54a386d1",
   "metadata": {
    "ExecuteTime": {
     "end_time": "2023-08-22T06:10:45.822811Z",
     "start_time": "2023-08-22T06:10:40.638300Z"
    }
   },
   "outputs": [
    {
     "name": "stdout",
     "output_type": "stream",
     "text": [
      "숫자 =10, 20\n",
      "10 + 20 = 30\n"
     ]
    }
   ],
   "source": [
    "### 입력문\n",
    "su1, su2 = map(int, input('숫자 =').split(','))\n",
    "\n",
    "### 처리문\n",
    "\n",
    "### 출력문\n",
    "print(f\"{su1} + {su2} = {su1+su2}\")"
   ]
  },
  {
   "cell_type": "markdown",
   "id": "9e56929c",
   "metadata": {},
   "source": [
    "### 성적처리 프로그램 1단계\n",
    "국어, 영어, 수학점수를 입력받아 총점과 평균을 출력하는 프로그램을 구현하시오.  \n",
    "단, 평균은 소숫점 이하 둘째자리까지 표현할 것"
   ]
  },
  {
   "cell_type": "code",
   "execution_count": null,
   "id": "c91a8ffd",
   "metadata": {
    "ExecuteTime": {
     "start_time": "2023-08-22T05:57:09.202Z"
    }
   },
   "outputs": [],
   "source": [
    "# 입력형식\n",
    "## 국어 = \n",
    "## 영어 =\n",
    "## 수학 =\n",
    "\n",
    "# 출력형식\n",
    "## 총점 : xx점, 평균 : xx.xx점"
   ]
  },
  {
   "cell_type": "code",
   "execution_count": 3,
   "id": "30543b7b",
   "metadata": {
    "ExecuteTime": {
     "end_time": "2023-08-22T06:14:35.580540Z",
     "start_time": "2023-08-22T06:14:24.123310Z"
    }
   },
   "outputs": [
    {
     "name": "stdout",
     "output_type": "stream",
     "text": [
      "국어 = 90\n",
      "영어 = 88\n",
      "수학 = 72\n",
      "총점: 250점, 평균: 83.33점\n"
     ]
    }
   ],
   "source": [
    "kor = int(input(\"국어 = \"))\n",
    "eng = int(input(\"영어 = \"))\n",
    "mat = int(input(\"수학 = \"))\n",
    "\n",
    "tot = kor + eng + mat\n",
    "avg = tot / 3\n",
    "\n",
    "print(\"총점: {0}점, 평균: {1:.2f}점\".format(tot, avg))"
   ]
  },
  {
   "cell_type": "code",
   "execution_count": 6,
   "id": "a2767092",
   "metadata": {
    "ExecuteTime": {
     "end_time": "2023-08-22T06:17:44.882951Z",
     "start_time": "2023-08-22T06:17:41.155245Z"
    }
   },
   "outputs": [
    {
     "name": "stdout",
     "output_type": "stream",
     "text": [
      "90 88 72\n",
      "총점: 250, 평균:83.33\n"
     ]
    }
   ],
   "source": [
    "kor, eng, mat = map(int, input().split())\n",
    "tot = kor + eng + mat\n",
    "avg = tot / 3\n",
    "print(f\"총점: {tot}, 평균:{avg:.2f}\")"
   ]
  },
  {
   "cell_type": "code",
   "execution_count": null,
   "id": "31344c1c",
   "metadata": {},
   "outputs": [],
   "source": []
  }
 ],
 "metadata": {
  "kernelspec": {
   "display_name": "Python 3",
   "language": "python",
   "name": "python3"
  },
  "language_info": {
   "codemirror_mode": {
    "name": "ipython",
    "version": 3
   },
   "file_extension": ".py",
   "mimetype": "text/x-python",
   "name": "python",
   "nbconvert_exporter": "python",
   "pygments_lexer": "ipython3",
   "version": "3.8.8"
  },
  "toc": {
   "base_numbering": 1,
   "nav_menu": {},
   "number_sections": true,
   "sideBar": true,
   "skip_h1_title": false,
   "title_cell": "Table of Contents",
   "title_sidebar": "Contents",
   "toc_cell": false,
   "toc_position": {},
   "toc_section_display": true,
   "toc_window_display": false
  }
 },
 "nbformat": 4,
 "nbformat_minor": 5
}
