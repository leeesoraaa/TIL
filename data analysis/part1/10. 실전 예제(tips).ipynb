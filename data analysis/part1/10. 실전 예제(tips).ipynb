{
 "cells": [
  {
   "cell_type": "markdown",
   "id": "0dc6405c",
   "metadata": {},
   "source": [
    "1. 평균 팁\n",
    "2. 요일 별 평균 팁\n",
    "3. 점심/저녁의 팁 평균\n",
    "4. 흡연자 비율\n",
    "5. 성별 흡연 여부에 따른 평균\n",
    "6. 총 결제금액을 기준으로 내림차순 정렬\n",
    "7. 식당이 주에 몇일 영업하는지 추출\n",
    "8. 총 결제 금액을 3등분하여 'low', 'medium', 'high'의 평균 팁\n",
    "9. 총 결제 금액 별 tip 평균"
   ]
  },
  {
   "cell_type": "code",
   "execution_count": 2,
   "id": "317784aa",
   "metadata": {
    "ExecuteTime": {
     "end_time": "2023-09-27T08:58:00.676103Z",
     "start_time": "2023-09-27T08:57:59.122830Z"
    }
   },
   "outputs": [],
   "source": [
    "import numpy as np\n",
    "import pandas as pd\n",
    "import seaborn as sns\n",
    "import matplotlib as mpl\n",
    "import matplotlib.pyplot as plt\n",
    "tips = sns.load_dataset('tips')"
   ]
  },
  {
   "cell_type": "code",
   "execution_count": 2,
   "id": "10a73482",
   "metadata": {
    "ExecuteTime": {
     "end_time": "2023-09-27T08:02:44.603250Z",
     "start_time": "2023-09-27T08:02:44.580184Z"
    }
   },
   "outputs": [
    {
     "name": "stdout",
     "output_type": "stream",
     "text": [
      "<class 'pandas.core.frame.DataFrame'>\n",
      "RangeIndex: 244 entries, 0 to 243\n",
      "Data columns (total 7 columns):\n",
      " #   Column      Non-Null Count  Dtype   \n",
      "---  ------      --------------  -----   \n",
      " 0   total_bill  244 non-null    float64 \n",
      " 1   tip         244 non-null    float64 \n",
      " 2   sex         244 non-null    category\n",
      " 3   smoker      244 non-null    category\n",
      " 4   day         244 non-null    category\n",
      " 5   time        244 non-null    category\n",
      " 6   size        244 non-null    int64   \n",
      "dtypes: category(4), float64(2), int64(1)\n",
      "memory usage: 7.4 KB\n"
     ]
    }
   ],
   "source": [
    "tips.info()"
   ]
  },
  {
   "cell_type": "code",
   "execution_count": 3,
   "id": "6e854776",
   "metadata": {
    "ExecuteTime": {
     "end_time": "2023-09-27T08:03:26.568320Z",
     "start_time": "2023-09-27T08:03:26.526262Z"
    }
   },
   "outputs": [
    {
     "data": {
      "text/html": [
       "<div>\n",
       "<style scoped>\n",
       "    .dataframe tbody tr th:only-of-type {\n",
       "        vertical-align: middle;\n",
       "    }\n",
       "\n",
       "    .dataframe tbody tr th {\n",
       "        vertical-align: top;\n",
       "    }\n",
       "\n",
       "    .dataframe thead th {\n",
       "        text-align: right;\n",
       "    }\n",
       "</style>\n",
       "<table border=\"1\" class=\"dataframe\">\n",
       "  <thead>\n",
       "    <tr style=\"text-align: right;\">\n",
       "      <th></th>\n",
       "      <th>total_bill</th>\n",
       "      <th>tip</th>\n",
       "      <th>sex</th>\n",
       "      <th>smoker</th>\n",
       "      <th>day</th>\n",
       "      <th>time</th>\n",
       "      <th>size</th>\n",
       "    </tr>\n",
       "  </thead>\n",
       "  <tbody>\n",
       "    <tr>\n",
       "      <th>0</th>\n",
       "      <td>16.99</td>\n",
       "      <td>1.01</td>\n",
       "      <td>Female</td>\n",
       "      <td>No</td>\n",
       "      <td>Sun</td>\n",
       "      <td>Dinner</td>\n",
       "      <td>2</td>\n",
       "    </tr>\n",
       "    <tr>\n",
       "      <th>1</th>\n",
       "      <td>10.34</td>\n",
       "      <td>1.66</td>\n",
       "      <td>Male</td>\n",
       "      <td>No</td>\n",
       "      <td>Sun</td>\n",
       "      <td>Dinner</td>\n",
       "      <td>3</td>\n",
       "    </tr>\n",
       "    <tr>\n",
       "      <th>2</th>\n",
       "      <td>21.01</td>\n",
       "      <td>3.50</td>\n",
       "      <td>Male</td>\n",
       "      <td>No</td>\n",
       "      <td>Sun</td>\n",
       "      <td>Dinner</td>\n",
       "      <td>3</td>\n",
       "    </tr>\n",
       "    <tr>\n",
       "      <th>3</th>\n",
       "      <td>23.68</td>\n",
       "      <td>3.31</td>\n",
       "      <td>Male</td>\n",
       "      <td>No</td>\n",
       "      <td>Sun</td>\n",
       "      <td>Dinner</td>\n",
       "      <td>2</td>\n",
       "    </tr>\n",
       "    <tr>\n",
       "      <th>4</th>\n",
       "      <td>24.59</td>\n",
       "      <td>3.61</td>\n",
       "      <td>Female</td>\n",
       "      <td>No</td>\n",
       "      <td>Sun</td>\n",
       "      <td>Dinner</td>\n",
       "      <td>4</td>\n",
       "    </tr>\n",
       "    <tr>\n",
       "      <th>5</th>\n",
       "      <td>25.29</td>\n",
       "      <td>4.71</td>\n",
       "      <td>Male</td>\n",
       "      <td>No</td>\n",
       "      <td>Sun</td>\n",
       "      <td>Dinner</td>\n",
       "      <td>4</td>\n",
       "    </tr>\n",
       "    <tr>\n",
       "      <th>6</th>\n",
       "      <td>8.77</td>\n",
       "      <td>2.00</td>\n",
       "      <td>Male</td>\n",
       "      <td>No</td>\n",
       "      <td>Sun</td>\n",
       "      <td>Dinner</td>\n",
       "      <td>2</td>\n",
       "    </tr>\n",
       "    <tr>\n",
       "      <th>7</th>\n",
       "      <td>26.88</td>\n",
       "      <td>3.12</td>\n",
       "      <td>Male</td>\n",
       "      <td>No</td>\n",
       "      <td>Sun</td>\n",
       "      <td>Dinner</td>\n",
       "      <td>4</td>\n",
       "    </tr>\n",
       "    <tr>\n",
       "      <th>8</th>\n",
       "      <td>15.04</td>\n",
       "      <td>1.96</td>\n",
       "      <td>Male</td>\n",
       "      <td>No</td>\n",
       "      <td>Sun</td>\n",
       "      <td>Dinner</td>\n",
       "      <td>2</td>\n",
       "    </tr>\n",
       "    <tr>\n",
       "      <th>9</th>\n",
       "      <td>14.78</td>\n",
       "      <td>3.23</td>\n",
       "      <td>Male</td>\n",
       "      <td>No</td>\n",
       "      <td>Sun</td>\n",
       "      <td>Dinner</td>\n",
       "      <td>2</td>\n",
       "    </tr>\n",
       "  </tbody>\n",
       "</table>\n",
       "</div>"
      ],
      "text/plain": [
       "   total_bill   tip     sex smoker  day    time  size\n",
       "0       16.99  1.01  Female     No  Sun  Dinner     2\n",
       "1       10.34  1.66    Male     No  Sun  Dinner     3\n",
       "2       21.01  3.50    Male     No  Sun  Dinner     3\n",
       "3       23.68  3.31    Male     No  Sun  Dinner     2\n",
       "4       24.59  3.61  Female     No  Sun  Dinner     4\n",
       "5       25.29  4.71    Male     No  Sun  Dinner     4\n",
       "6        8.77  2.00    Male     No  Sun  Dinner     2\n",
       "7       26.88  3.12    Male     No  Sun  Dinner     4\n",
       "8       15.04  1.96    Male     No  Sun  Dinner     2\n",
       "9       14.78  3.23    Male     No  Sun  Dinner     2"
      ]
     },
     "execution_count": 3,
     "metadata": {},
     "output_type": "execute_result"
    }
   ],
   "source": [
    "tips.head(10)"
   ]
  },
  {
   "cell_type": "markdown",
   "id": "98a59ebc",
   "metadata": {},
   "source": [
    "- total_bill: 결제 금액\n",
    "- tip: 팁\n",
    "- sex: 결제한 사람의 성별\n",
    "- smoker: 흡연 여부\n",
    "- day: 요일\n",
    "- time: Lunch/Dinner\n",
    "- size: 인원 수"
   ]
  },
  {
   "cell_type": "markdown",
   "id": "382cc041",
   "metadata": {},
   "source": [
    "# 평균 팁"
   ]
  },
  {
   "cell_type": "code",
   "execution_count": 5,
   "id": "b2124e58",
   "metadata": {
    "ExecuteTime": {
     "end_time": "2023-09-27T08:05:46.957175Z",
     "start_time": "2023-09-27T08:05:46.936336Z"
    }
   },
   "outputs": [
    {
     "data": {
      "text/plain": [
       "3.0"
      ]
     },
     "execution_count": 5,
     "metadata": {},
     "output_type": "execute_result"
    }
   ],
   "source": [
    "round(tips['tip'].mean(), 2)\n",
    "# 전체 평균 팁은 약 3$이다."
   ]
  },
  {
   "cell_type": "markdown",
   "id": "ad0a491a",
   "metadata": {},
   "source": [
    "# 요일 별 평균 팁"
   ]
  },
  {
   "cell_type": "code",
   "execution_count": 7,
   "id": "ae3da216",
   "metadata": {
    "ExecuteTime": {
     "end_time": "2023-09-27T08:07:23.023118Z",
     "start_time": "2023-09-27T08:07:22.996795Z"
    }
   },
   "outputs": [
    {
     "data": {
      "text/plain": [
       "day\n",
       "Thur    2.77\n",
       "Fri     2.73\n",
       "Sat     2.99\n",
       "Sun     3.26\n",
       "Name: tip, dtype: float64"
      ]
     },
     "execution_count": 7,
     "metadata": {},
     "output_type": "execute_result"
    }
   ],
   "source": [
    "round(tips.groupby('day')['tip'].mean(), 2)\n",
    "# 일요일의 팁 평균이 가장 높고 목요일이 가장 적다.\n",
    "# 목,금,토,일 주 4일만 영업함"
   ]
  },
  {
   "cell_type": "markdown",
   "id": "fd2fca19",
   "metadata": {},
   "source": [
    "# 점심/저녁의 팁 평균"
   ]
  },
  {
   "cell_type": "code",
   "execution_count": 8,
   "id": "d3cda07d",
   "metadata": {
    "ExecuteTime": {
     "end_time": "2023-09-27T08:09:01.011323Z",
     "start_time": "2023-09-27T08:09:00.990865Z"
    }
   },
   "outputs": [
    {
     "data": {
      "text/plain": [
       "time\n",
       "Lunch     2.73\n",
       "Dinner    3.10\n",
       "Name: tip, dtype: float64"
      ]
     },
     "execution_count": 8,
     "metadata": {},
     "output_type": "execute_result"
    }
   ],
   "source": [
    "round(tips.groupby('time')['tip'].mean(), 2)\n",
    "# 점심시간대 보다 저녁시간에 평균 팁이 더 높다."
   ]
  },
  {
   "cell_type": "markdown",
   "id": "c5793836",
   "metadata": {},
   "source": [
    "## 평균 팁이 가장 높은 요일과 시간대"
   ]
  },
  {
   "cell_type": "code",
   "execution_count": 9,
   "id": "dd5e3299",
   "metadata": {
    "ExecuteTime": {
     "end_time": "2023-09-27T08:11:30.536428Z",
     "start_time": "2023-09-27T08:11:30.508148Z"
    }
   },
   "outputs": [
    {
     "data": {
      "text/plain": [
       "day   time  \n",
       "Sun   Dinner    3.26\n",
       "Thur  Dinner    3.00\n",
       "Sat   Dinner    2.99\n",
       "Fri   Dinner    2.94\n",
       "Thur  Lunch     2.77\n",
       "Fri   Lunch     2.38\n",
       "Sat   Lunch      NaN\n",
       "Sun   Lunch      NaN\n",
       "Name: tip, dtype: float64"
      ]
     },
     "execution_count": 9,
     "metadata": {},
     "output_type": "execute_result"
    }
   ],
   "source": [
    "round(tips.groupby(['day','time'])['tip'].mean(), 2).sort_values(ascending = False)\n",
    "# 일요일 저녁의 팁 평균이 가장 높다.\n",
    "# 주말엔 점심 장사를 하지 않는다."
   ]
  },
  {
   "cell_type": "markdown",
   "id": "7104f8d7",
   "metadata": {},
   "source": [
    "# 흡연자 비율"
   ]
  },
  {
   "cell_type": "code",
   "execution_count": 12,
   "id": "640cf541",
   "metadata": {
    "ExecuteTime": {
     "end_time": "2023-09-27T08:20:06.016288Z",
     "start_time": "2023-09-27T08:20:06.002543Z"
    }
   },
   "outputs": [
    {
     "data": {
      "text/plain": [
       "smoker\n",
       "Yes     93\n",
       "No     151\n",
       "dtype: int64"
      ]
     },
     "execution_count": 12,
     "metadata": {},
     "output_type": "execute_result"
    }
   ],
   "source": [
    "tips.groupby('smoker').size()"
   ]
  },
  {
   "cell_type": "code",
   "execution_count": 14,
   "id": "ceb68f98",
   "metadata": {
    "ExecuteTime": {
     "end_time": "2023-09-27T08:22:14.562622Z",
     "start_time": "2023-09-27T08:22:14.549988Z"
    }
   },
   "outputs": [
    {
     "data": {
      "text/plain": [
       "smoker\n",
       "Yes    38.11\n",
       "No     61.89\n",
       "dtype: float64"
      ]
     },
     "execution_count": 14,
     "metadata": {},
     "output_type": "execute_result"
    }
   ],
   "source": [
    "round(tips.groupby('smoker').size() / 244 * 100, 2)\n",
    "# 과반수가 비흡연자다."
   ]
  },
  {
   "cell_type": "markdown",
   "id": "7cad5d3c",
   "metadata": {},
   "source": [
    "# 성별과 흡연 여부에 따른 평균 팁"
   ]
  },
  {
   "cell_type": "code",
   "execution_count": 16,
   "id": "e5e4db94",
   "metadata": {
    "ExecuteTime": {
     "end_time": "2023-09-27T08:24:06.544342Z",
     "start_time": "2023-09-27T08:24:06.529431Z"
    }
   },
   "outputs": [
    {
     "data": {
      "text/plain": [
       "sex     smoker\n",
       "Male    Yes       3.05\n",
       "        No        3.11\n",
       "Female  Yes       2.93\n",
       "        No        2.77\n",
       "Name: tip, dtype: float64"
      ]
     },
     "execution_count": 16,
     "metadata": {},
     "output_type": "execute_result"
    }
   ],
   "source": [
    "round(tips.groupby(['sex', 'smoker'])['tip'].mean(), 2)\n",
    "# 비흡연자 남성의 평균 팁이 가장 높고 비흡연자 여성의 평균 팁이 가장 낮다."
   ]
  },
  {
   "cell_type": "markdown",
   "id": "0ba94082",
   "metadata": {},
   "source": [
    "# 총 결제금액을 기준으로 내림차순 정렬"
   ]
  },
  {
   "cell_type": "code",
   "execution_count": 18,
   "id": "3ac6c740",
   "metadata": {
    "ExecuteTime": {
     "end_time": "2023-09-27T08:33:43.415986Z",
     "start_time": "2023-09-27T08:33:43.379261Z"
    }
   },
   "outputs": [
    {
     "data": {
      "text/html": [
       "<div>\n",
       "<style scoped>\n",
       "    .dataframe tbody tr th:only-of-type {\n",
       "        vertical-align: middle;\n",
       "    }\n",
       "\n",
       "    .dataframe tbody tr th {\n",
       "        vertical-align: top;\n",
       "    }\n",
       "\n",
       "    .dataframe thead th {\n",
       "        text-align: right;\n",
       "    }\n",
       "</style>\n",
       "<table border=\"1\" class=\"dataframe\">\n",
       "  <thead>\n",
       "    <tr style=\"text-align: right;\">\n",
       "      <th></th>\n",
       "      <th>total_bill</th>\n",
       "      <th>tip</th>\n",
       "      <th>sex</th>\n",
       "      <th>smoker</th>\n",
       "      <th>day</th>\n",
       "      <th>time</th>\n",
       "      <th>size</th>\n",
       "    </tr>\n",
       "  </thead>\n",
       "  <tbody>\n",
       "    <tr>\n",
       "      <th>170</th>\n",
       "      <td>50.81</td>\n",
       "      <td>10.00</td>\n",
       "      <td>Male</td>\n",
       "      <td>Yes</td>\n",
       "      <td>Sat</td>\n",
       "      <td>Dinner</td>\n",
       "      <td>3</td>\n",
       "    </tr>\n",
       "    <tr>\n",
       "      <th>212</th>\n",
       "      <td>48.33</td>\n",
       "      <td>9.00</td>\n",
       "      <td>Male</td>\n",
       "      <td>No</td>\n",
       "      <td>Sat</td>\n",
       "      <td>Dinner</td>\n",
       "      <td>4</td>\n",
       "    </tr>\n",
       "    <tr>\n",
       "      <th>59</th>\n",
       "      <td>48.27</td>\n",
       "      <td>6.73</td>\n",
       "      <td>Male</td>\n",
       "      <td>No</td>\n",
       "      <td>Sat</td>\n",
       "      <td>Dinner</td>\n",
       "      <td>4</td>\n",
       "    </tr>\n",
       "    <tr>\n",
       "      <th>156</th>\n",
       "      <td>48.17</td>\n",
       "      <td>5.00</td>\n",
       "      <td>Male</td>\n",
       "      <td>No</td>\n",
       "      <td>Sun</td>\n",
       "      <td>Dinner</td>\n",
       "      <td>6</td>\n",
       "    </tr>\n",
       "    <tr>\n",
       "      <th>182</th>\n",
       "      <td>45.35</td>\n",
       "      <td>3.50</td>\n",
       "      <td>Male</td>\n",
       "      <td>Yes</td>\n",
       "      <td>Sun</td>\n",
       "      <td>Dinner</td>\n",
       "      <td>3</td>\n",
       "    </tr>\n",
       "    <tr>\n",
       "      <th>...</th>\n",
       "      <td>...</td>\n",
       "      <td>...</td>\n",
       "      <td>...</td>\n",
       "      <td>...</td>\n",
       "      <td>...</td>\n",
       "      <td>...</td>\n",
       "      <td>...</td>\n",
       "    </tr>\n",
       "    <tr>\n",
       "      <th>149</th>\n",
       "      <td>7.51</td>\n",
       "      <td>2.00</td>\n",
       "      <td>Male</td>\n",
       "      <td>No</td>\n",
       "      <td>Thur</td>\n",
       "      <td>Lunch</td>\n",
       "      <td>2</td>\n",
       "    </tr>\n",
       "    <tr>\n",
       "      <th>111</th>\n",
       "      <td>7.25</td>\n",
       "      <td>1.00</td>\n",
       "      <td>Female</td>\n",
       "      <td>No</td>\n",
       "      <td>Sat</td>\n",
       "      <td>Dinner</td>\n",
       "      <td>1</td>\n",
       "    </tr>\n",
       "    <tr>\n",
       "      <th>172</th>\n",
       "      <td>7.25</td>\n",
       "      <td>5.15</td>\n",
       "      <td>Male</td>\n",
       "      <td>Yes</td>\n",
       "      <td>Sun</td>\n",
       "      <td>Dinner</td>\n",
       "      <td>2</td>\n",
       "    </tr>\n",
       "    <tr>\n",
       "      <th>92</th>\n",
       "      <td>5.75</td>\n",
       "      <td>1.00</td>\n",
       "      <td>Female</td>\n",
       "      <td>Yes</td>\n",
       "      <td>Fri</td>\n",
       "      <td>Dinner</td>\n",
       "      <td>2</td>\n",
       "    </tr>\n",
       "    <tr>\n",
       "      <th>67</th>\n",
       "      <td>3.07</td>\n",
       "      <td>1.00</td>\n",
       "      <td>Female</td>\n",
       "      <td>Yes</td>\n",
       "      <td>Sat</td>\n",
       "      <td>Dinner</td>\n",
       "      <td>1</td>\n",
       "    </tr>\n",
       "  </tbody>\n",
       "</table>\n",
       "<p>244 rows × 7 columns</p>\n",
       "</div>"
      ],
      "text/plain": [
       "     total_bill    tip     sex smoker   day    time  size\n",
       "170       50.81  10.00    Male    Yes   Sat  Dinner     3\n",
       "212       48.33   9.00    Male     No   Sat  Dinner     4\n",
       "59        48.27   6.73    Male     No   Sat  Dinner     4\n",
       "156       48.17   5.00    Male     No   Sun  Dinner     6\n",
       "182       45.35   3.50    Male    Yes   Sun  Dinner     3\n",
       "..          ...    ...     ...    ...   ...     ...   ...\n",
       "149        7.51   2.00    Male     No  Thur   Lunch     2\n",
       "111        7.25   1.00  Female     No   Sat  Dinner     1\n",
       "172        7.25   5.15    Male    Yes   Sun  Dinner     2\n",
       "92         5.75   1.00  Female    Yes   Fri  Dinner     2\n",
       "67         3.07   1.00  Female    Yes   Sat  Dinner     1\n",
       "\n",
       "[244 rows x 7 columns]"
      ]
     },
     "execution_count": 18,
     "metadata": {},
     "output_type": "execute_result"
    }
   ],
   "source": [
    "tips.sort_values('total_bill', ascending=False)"
   ]
  },
  {
   "cell_type": "code",
   "execution_count": 19,
   "id": "b73c6f4f",
   "metadata": {
    "ExecuteTime": {
     "end_time": "2023-09-27T08:35:37.967607Z",
     "start_time": "2023-09-27T08:35:37.953307Z"
    }
   },
   "outputs": [
    {
     "data": {
      "text/plain": [
       "10.0"
      ]
     },
     "execution_count": 19,
     "metadata": {},
     "output_type": "execute_result"
    }
   ],
   "source": [
    "tips['tip'].max()\n",
    "# 총 결제 금액이 가장 많은 테이블이 팁을 가장 많이 냈다."
   ]
  },
  {
   "cell_type": "markdown",
   "id": "695a6ace",
   "metadata": {},
   "source": [
    "# 식당이 주에 몇일 영업하는지 추출\n",
    "- 문제 2번에서 목, 금, 토, 일 주 4일 영업함을 알아냄"
   ]
  },
  {
   "cell_type": "markdown",
   "id": "5f590ac3",
   "metadata": {},
   "source": [
    "# 총 결제 금액을 3등분하여 'low', 'medium', 'high'의 평균 팁"
   ]
  },
  {
   "cell_type": "code",
   "execution_count": 4,
   "id": "99315f5d",
   "metadata": {
    "ExecuteTime": {
     "end_time": "2023-09-27T08:58:24.646609Z",
     "start_time": "2023-09-27T08:58:24.635181Z"
    }
   },
   "outputs": [],
   "source": [
    "tot_bill = tips['total_bill'].tolist()\n",
    "tot_q = np.quantile(tot_bill,[0.75, 0.25])"
   ]
  },
  {
   "cell_type": "code",
   "execution_count": 5,
   "id": "53da89fb",
   "metadata": {
    "ExecuteTime": {
     "end_time": "2023-09-27T08:58:25.641487Z",
     "start_time": "2023-09-27T08:58:25.632608Z"
    }
   },
   "outputs": [
    {
     "data": {
      "text/plain": [
       "24.127499999999998"
      ]
     },
     "execution_count": 5,
     "metadata": {},
     "output_type": "execute_result"
    }
   ],
   "source": [
    "tot_q[0]"
   ]
  },
  {
   "cell_type": "code",
   "execution_count": 14,
   "id": "95a225bf",
   "metadata": {
    "ExecuteTime": {
     "end_time": "2023-09-27T09:04:53.314908Z",
     "start_time": "2023-09-27T09:04:53.297802Z"
    }
   },
   "outputs": [
    {
     "data": {
      "text/html": [
       "<div>\n",
       "<style scoped>\n",
       "    .dataframe tbody tr th:only-of-type {\n",
       "        vertical-align: middle;\n",
       "    }\n",
       "\n",
       "    .dataframe tbody tr th {\n",
       "        vertical-align: top;\n",
       "    }\n",
       "\n",
       "    .dataframe thead th {\n",
       "        text-align: right;\n",
       "    }\n",
       "</style>\n",
       "<table border=\"1\" class=\"dataframe\">\n",
       "  <thead>\n",
       "    <tr style=\"text-align: right;\">\n",
       "      <th></th>\n",
       "      <th>total_bill</th>\n",
       "      <th>tip</th>\n",
       "      <th>sex</th>\n",
       "      <th>smoker</th>\n",
       "      <th>day</th>\n",
       "      <th>time</th>\n",
       "      <th>size</th>\n",
       "    </tr>\n",
       "  </thead>\n",
       "  <tbody>\n",
       "    <tr>\n",
       "      <th>4</th>\n",
       "      <td>24.59</td>\n",
       "      <td>3.61</td>\n",
       "      <td>Female</td>\n",
       "      <td>No</td>\n",
       "      <td>Sun</td>\n",
       "      <td>Dinner</td>\n",
       "      <td>4</td>\n",
       "    </tr>\n",
       "    <tr>\n",
       "      <th>5</th>\n",
       "      <td>25.29</td>\n",
       "      <td>4.71</td>\n",
       "      <td>Male</td>\n",
       "      <td>No</td>\n",
       "      <td>Sun</td>\n",
       "      <td>Dinner</td>\n",
       "      <td>4</td>\n",
       "    </tr>\n",
       "    <tr>\n",
       "      <th>7</th>\n",
       "      <td>26.88</td>\n",
       "      <td>3.12</td>\n",
       "      <td>Male</td>\n",
       "      <td>No</td>\n",
       "      <td>Sun</td>\n",
       "      <td>Dinner</td>\n",
       "      <td>4</td>\n",
       "    </tr>\n",
       "    <tr>\n",
       "      <th>11</th>\n",
       "      <td>35.26</td>\n",
       "      <td>5.00</td>\n",
       "      <td>Female</td>\n",
       "      <td>No</td>\n",
       "      <td>Sun</td>\n",
       "      <td>Dinner</td>\n",
       "      <td>4</td>\n",
       "    </tr>\n",
       "    <tr>\n",
       "      <th>23</th>\n",
       "      <td>39.42</td>\n",
       "      <td>7.58</td>\n",
       "      <td>Male</td>\n",
       "      <td>No</td>\n",
       "      <td>Sat</td>\n",
       "      <td>Dinner</td>\n",
       "      <td>4</td>\n",
       "    </tr>\n",
       "    <tr>\n",
       "      <th>...</th>\n",
       "      <td>...</td>\n",
       "      <td>...</td>\n",
       "      <td>...</td>\n",
       "      <td>...</td>\n",
       "      <td>...</td>\n",
       "      <td>...</td>\n",
       "      <td>...</td>\n",
       "    </tr>\n",
       "    <tr>\n",
       "      <th>219</th>\n",
       "      <td>30.14</td>\n",
       "      <td>3.09</td>\n",
       "      <td>Female</td>\n",
       "      <td>Yes</td>\n",
       "      <td>Sat</td>\n",
       "      <td>Dinner</td>\n",
       "      <td>4</td>\n",
       "    </tr>\n",
       "    <tr>\n",
       "      <th>237</th>\n",
       "      <td>32.83</td>\n",
       "      <td>1.17</td>\n",
       "      <td>Male</td>\n",
       "      <td>Yes</td>\n",
       "      <td>Sat</td>\n",
       "      <td>Dinner</td>\n",
       "      <td>2</td>\n",
       "    </tr>\n",
       "    <tr>\n",
       "      <th>238</th>\n",
       "      <td>35.83</td>\n",
       "      <td>4.67</td>\n",
       "      <td>Female</td>\n",
       "      <td>No</td>\n",
       "      <td>Sat</td>\n",
       "      <td>Dinner</td>\n",
       "      <td>3</td>\n",
       "    </tr>\n",
       "    <tr>\n",
       "      <th>239</th>\n",
       "      <td>29.03</td>\n",
       "      <td>5.92</td>\n",
       "      <td>Male</td>\n",
       "      <td>No</td>\n",
       "      <td>Sat</td>\n",
       "      <td>Dinner</td>\n",
       "      <td>3</td>\n",
       "    </tr>\n",
       "    <tr>\n",
       "      <th>240</th>\n",
       "      <td>27.18</td>\n",
       "      <td>2.00</td>\n",
       "      <td>Female</td>\n",
       "      <td>Yes</td>\n",
       "      <td>Sat</td>\n",
       "      <td>Dinner</td>\n",
       "      <td>2</td>\n",
       "    </tr>\n",
       "  </tbody>\n",
       "</table>\n",
       "<p>61 rows × 7 columns</p>\n",
       "</div>"
      ],
      "text/plain": [
       "     total_bill   tip     sex smoker  day    time  size\n",
       "4         24.59  3.61  Female     No  Sun  Dinner     4\n",
       "5         25.29  4.71    Male     No  Sun  Dinner     4\n",
       "7         26.88  3.12    Male     No  Sun  Dinner     4\n",
       "11        35.26  5.00  Female     No  Sun  Dinner     4\n",
       "23        39.42  7.58    Male     No  Sat  Dinner     4\n",
       "..          ...   ...     ...    ...  ...     ...   ...\n",
       "219       30.14  3.09  Female    Yes  Sat  Dinner     4\n",
       "237       32.83  1.17    Male    Yes  Sat  Dinner     2\n",
       "238       35.83  4.67  Female     No  Sat  Dinner     3\n",
       "239       29.03  5.92    Male     No  Sat  Dinner     3\n",
       "240       27.18  2.00  Female    Yes  Sat  Dinner     2\n",
       "\n",
       "[61 rows x 7 columns]"
      ]
     },
     "execution_count": 14,
     "metadata": {},
     "output_type": "execute_result"
    }
   ],
   "source": [
    "high = tips[tips['total_bill'] >= tot_q[0]] \n",
    "high"
   ]
  },
  {
   "cell_type": "code",
   "execution_count": 11,
   "id": "54463aaf",
   "metadata": {
    "ExecuteTime": {
     "end_time": "2023-09-27T09:01:21.704433Z",
     "start_time": "2023-09-27T09:01:21.688904Z"
    }
   },
   "outputs": [
    {
     "data": {
      "text/html": [
       "<div>\n",
       "<style scoped>\n",
       "    .dataframe tbody tr th:only-of-type {\n",
       "        vertical-align: middle;\n",
       "    }\n",
       "\n",
       "    .dataframe tbody tr th {\n",
       "        vertical-align: top;\n",
       "    }\n",
       "\n",
       "    .dataframe thead th {\n",
       "        text-align: right;\n",
       "    }\n",
       "</style>\n",
       "<table border=\"1\" class=\"dataframe\">\n",
       "  <thead>\n",
       "    <tr style=\"text-align: right;\">\n",
       "      <th></th>\n",
       "      <th>total_bill</th>\n",
       "      <th>tip</th>\n",
       "      <th>sex</th>\n",
       "      <th>smoker</th>\n",
       "      <th>day</th>\n",
       "      <th>time</th>\n",
       "      <th>size</th>\n",
       "    </tr>\n",
       "  </thead>\n",
       "  <tbody>\n",
       "    <tr>\n",
       "      <th>0</th>\n",
       "      <td>16.99</td>\n",
       "      <td>1.01</td>\n",
       "      <td>Female</td>\n",
       "      <td>No</td>\n",
       "      <td>Sun</td>\n",
       "      <td>Dinner</td>\n",
       "      <td>2</td>\n",
       "    </tr>\n",
       "    <tr>\n",
       "      <th>2</th>\n",
       "      <td>21.01</td>\n",
       "      <td>3.50</td>\n",
       "      <td>Male</td>\n",
       "      <td>No</td>\n",
       "      <td>Sun</td>\n",
       "      <td>Dinner</td>\n",
       "      <td>3</td>\n",
       "    </tr>\n",
       "    <tr>\n",
       "      <th>3</th>\n",
       "      <td>23.68</td>\n",
       "      <td>3.31</td>\n",
       "      <td>Male</td>\n",
       "      <td>No</td>\n",
       "      <td>Sun</td>\n",
       "      <td>Dinner</td>\n",
       "      <td>2</td>\n",
       "    </tr>\n",
       "    <tr>\n",
       "      <th>8</th>\n",
       "      <td>15.04</td>\n",
       "      <td>1.96</td>\n",
       "      <td>Male</td>\n",
       "      <td>No</td>\n",
       "      <td>Sun</td>\n",
       "      <td>Dinner</td>\n",
       "      <td>2</td>\n",
       "    </tr>\n",
       "    <tr>\n",
       "      <th>9</th>\n",
       "      <td>14.78</td>\n",
       "      <td>3.23</td>\n",
       "      <td>Male</td>\n",
       "      <td>No</td>\n",
       "      <td>Sun</td>\n",
       "      <td>Dinner</td>\n",
       "      <td>2</td>\n",
       "    </tr>\n",
       "    <tr>\n",
       "      <th>...</th>\n",
       "      <td>...</td>\n",
       "      <td>...</td>\n",
       "      <td>...</td>\n",
       "      <td>...</td>\n",
       "      <td>...</td>\n",
       "      <td>...</td>\n",
       "      <td>...</td>\n",
       "    </tr>\n",
       "    <tr>\n",
       "      <th>231</th>\n",
       "      <td>15.69</td>\n",
       "      <td>3.00</td>\n",
       "      <td>Male</td>\n",
       "      <td>Yes</td>\n",
       "      <td>Sat</td>\n",
       "      <td>Dinner</td>\n",
       "      <td>3</td>\n",
       "    </tr>\n",
       "    <tr>\n",
       "      <th>234</th>\n",
       "      <td>15.53</td>\n",
       "      <td>3.00</td>\n",
       "      <td>Male</td>\n",
       "      <td>Yes</td>\n",
       "      <td>Sat</td>\n",
       "      <td>Dinner</td>\n",
       "      <td>2</td>\n",
       "    </tr>\n",
       "    <tr>\n",
       "      <th>241</th>\n",
       "      <td>22.67</td>\n",
       "      <td>2.00</td>\n",
       "      <td>Male</td>\n",
       "      <td>Yes</td>\n",
       "      <td>Sat</td>\n",
       "      <td>Dinner</td>\n",
       "      <td>2</td>\n",
       "    </tr>\n",
       "    <tr>\n",
       "      <th>242</th>\n",
       "      <td>17.82</td>\n",
       "      <td>1.75</td>\n",
       "      <td>Male</td>\n",
       "      <td>No</td>\n",
       "      <td>Sat</td>\n",
       "      <td>Dinner</td>\n",
       "      <td>2</td>\n",
       "    </tr>\n",
       "    <tr>\n",
       "      <th>243</th>\n",
       "      <td>18.78</td>\n",
       "      <td>3.00</td>\n",
       "      <td>Female</td>\n",
       "      <td>No</td>\n",
       "      <td>Thur</td>\n",
       "      <td>Dinner</td>\n",
       "      <td>2</td>\n",
       "    </tr>\n",
       "  </tbody>\n",
       "</table>\n",
       "<p>122 rows × 7 columns</p>\n",
       "</div>"
      ],
      "text/plain": [
       "     total_bill   tip     sex smoker   day    time  size\n",
       "0         16.99  1.01  Female     No   Sun  Dinner     2\n",
       "2         21.01  3.50    Male     No   Sun  Dinner     3\n",
       "3         23.68  3.31    Male     No   Sun  Dinner     2\n",
       "8         15.04  1.96    Male     No   Sun  Dinner     2\n",
       "9         14.78  3.23    Male     No   Sun  Dinner     2\n",
       "..          ...   ...     ...    ...   ...     ...   ...\n",
       "231       15.69  3.00    Male    Yes   Sat  Dinner     3\n",
       "234       15.53  3.00    Male    Yes   Sat  Dinner     2\n",
       "241       22.67  2.00    Male    Yes   Sat  Dinner     2\n",
       "242       17.82  1.75    Male     No   Sat  Dinner     2\n",
       "243       18.78  3.00  Female     No  Thur  Dinner     2\n",
       "\n",
       "[122 rows x 7 columns]"
      ]
     },
     "execution_count": 11,
     "metadata": {},
     "output_type": "execute_result"
    }
   ],
   "source": [
    "medium = tips[(tips['total_bill'] >= tot_q[1]) & (tips['total_bill'] < tot_q[0])]\n",
    "medium"
   ]
  },
  {
   "cell_type": "code",
   "execution_count": 12,
   "id": "54e1b4a4",
   "metadata": {
    "ExecuteTime": {
     "end_time": "2023-09-27T09:02:35.273616Z",
     "start_time": "2023-09-27T09:02:35.249016Z"
    }
   },
   "outputs": [
    {
     "data": {
      "text/html": [
       "<div>\n",
       "<style scoped>\n",
       "    .dataframe tbody tr th:only-of-type {\n",
       "        vertical-align: middle;\n",
       "    }\n",
       "\n",
       "    .dataframe tbody tr th {\n",
       "        vertical-align: top;\n",
       "    }\n",
       "\n",
       "    .dataframe thead th {\n",
       "        text-align: right;\n",
       "    }\n",
       "</style>\n",
       "<table border=\"1\" class=\"dataframe\">\n",
       "  <thead>\n",
       "    <tr style=\"text-align: right;\">\n",
       "      <th></th>\n",
       "      <th>total_bill</th>\n",
       "      <th>tip</th>\n",
       "      <th>sex</th>\n",
       "      <th>smoker</th>\n",
       "      <th>day</th>\n",
       "      <th>time</th>\n",
       "      <th>size</th>\n",
       "    </tr>\n",
       "  </thead>\n",
       "  <tbody>\n",
       "    <tr>\n",
       "      <th>1</th>\n",
       "      <td>10.34</td>\n",
       "      <td>1.66</td>\n",
       "      <td>Male</td>\n",
       "      <td>No</td>\n",
       "      <td>Sun</td>\n",
       "      <td>Dinner</td>\n",
       "      <td>3</td>\n",
       "    </tr>\n",
       "    <tr>\n",
       "      <th>6</th>\n",
       "      <td>8.77</td>\n",
       "      <td>2.00</td>\n",
       "      <td>Male</td>\n",
       "      <td>No</td>\n",
       "      <td>Sun</td>\n",
       "      <td>Dinner</td>\n",
       "      <td>2</td>\n",
       "    </tr>\n",
       "    <tr>\n",
       "      <th>10</th>\n",
       "      <td>10.27</td>\n",
       "      <td>1.71</td>\n",
       "      <td>Male</td>\n",
       "      <td>No</td>\n",
       "      <td>Sun</td>\n",
       "      <td>Dinner</td>\n",
       "      <td>2</td>\n",
       "    </tr>\n",
       "    <tr>\n",
       "      <th>16</th>\n",
       "      <td>10.33</td>\n",
       "      <td>1.67</td>\n",
       "      <td>Female</td>\n",
       "      <td>No</td>\n",
       "      <td>Sun</td>\n",
       "      <td>Dinner</td>\n",
       "      <td>3</td>\n",
       "    </tr>\n",
       "    <tr>\n",
       "      <th>27</th>\n",
       "      <td>12.69</td>\n",
       "      <td>2.00</td>\n",
       "      <td>Male</td>\n",
       "      <td>No</td>\n",
       "      <td>Sat</td>\n",
       "      <td>Dinner</td>\n",
       "      <td>2</td>\n",
       "    </tr>\n",
       "    <tr>\n",
       "      <th>...</th>\n",
       "      <td>...</td>\n",
       "      <td>...</td>\n",
       "      <td>...</td>\n",
       "      <td>...</td>\n",
       "      <td>...</td>\n",
       "      <td>...</td>\n",
       "      <td>...</td>\n",
       "    </tr>\n",
       "    <tr>\n",
       "      <th>228</th>\n",
       "      <td>13.28</td>\n",
       "      <td>2.72</td>\n",
       "      <td>Male</td>\n",
       "      <td>No</td>\n",
       "      <td>Sat</td>\n",
       "      <td>Dinner</td>\n",
       "      <td>2</td>\n",
       "    </tr>\n",
       "    <tr>\n",
       "      <th>232</th>\n",
       "      <td>11.61</td>\n",
       "      <td>3.39</td>\n",
       "      <td>Male</td>\n",
       "      <td>No</td>\n",
       "      <td>Sat</td>\n",
       "      <td>Dinner</td>\n",
       "      <td>2</td>\n",
       "    </tr>\n",
       "    <tr>\n",
       "      <th>233</th>\n",
       "      <td>10.77</td>\n",
       "      <td>1.47</td>\n",
       "      <td>Male</td>\n",
       "      <td>No</td>\n",
       "      <td>Sat</td>\n",
       "      <td>Dinner</td>\n",
       "      <td>2</td>\n",
       "    </tr>\n",
       "    <tr>\n",
       "      <th>235</th>\n",
       "      <td>10.07</td>\n",
       "      <td>1.25</td>\n",
       "      <td>Male</td>\n",
       "      <td>No</td>\n",
       "      <td>Sat</td>\n",
       "      <td>Dinner</td>\n",
       "      <td>2</td>\n",
       "    </tr>\n",
       "    <tr>\n",
       "      <th>236</th>\n",
       "      <td>12.60</td>\n",
       "      <td>1.00</td>\n",
       "      <td>Male</td>\n",
       "      <td>Yes</td>\n",
       "      <td>Sat</td>\n",
       "      <td>Dinner</td>\n",
       "      <td>2</td>\n",
       "    </tr>\n",
       "  </tbody>\n",
       "</table>\n",
       "<p>61 rows × 7 columns</p>\n",
       "</div>"
      ],
      "text/plain": [
       "     total_bill   tip     sex smoker  day    time  size\n",
       "1         10.34  1.66    Male     No  Sun  Dinner     3\n",
       "6          8.77  2.00    Male     No  Sun  Dinner     2\n",
       "10        10.27  1.71    Male     No  Sun  Dinner     2\n",
       "16        10.33  1.67  Female     No  Sun  Dinner     3\n",
       "27        12.69  2.00    Male     No  Sat  Dinner     2\n",
       "..          ...   ...     ...    ...  ...     ...   ...\n",
       "228       13.28  2.72    Male     No  Sat  Dinner     2\n",
       "232       11.61  3.39    Male     No  Sat  Dinner     2\n",
       "233       10.77  1.47    Male     No  Sat  Dinner     2\n",
       "235       10.07  1.25    Male     No  Sat  Dinner     2\n",
       "236       12.60  1.00    Male    Yes  Sat  Dinner     2\n",
       "\n",
       "[61 rows x 7 columns]"
      ]
     },
     "execution_count": 12,
     "metadata": {},
     "output_type": "execute_result"
    }
   ],
   "source": [
    "low = tips[tips['total_bill'] < tot_q[1]]\n",
    "low"
   ]
  },
  {
   "cell_type": "code",
   "execution_count": 16,
   "id": "00129bcd",
   "metadata": {
    "ExecuteTime": {
     "end_time": "2023-09-27T09:05:36.718745Z",
     "start_time": "2023-09-27T09:05:36.703278Z"
    }
   },
   "outputs": [
    {
     "name": "stdout",
     "output_type": "stream",
     "text": [
      "low 평균 팁: 1.92\n",
      "medium 평균 팁: 2.92\n",
      "high 평균 팁: 4.24\n"
     ]
    }
   ],
   "source": [
    "print(f\"low 평균 팁: {round(low['tip'].mean(), 2)}\")\n",
    "print(f\"medium 평균 팁: {round(medium['tip'].mean(), 2)}\")\n",
    "print(f\"high 평균 팁: {round(high['tip'].mean(), 2)}\")\n",
    "# 대체적으로 총 결제 금액이 많을 수록 평균 팁이 높다."
   ]
  },
  {
   "cell_type": "markdown",
   "id": "74d0a9a9",
   "metadata": {},
   "source": [
    "# 총 결제 금액 별 tip 평균"
   ]
  },
  {
   "cell_type": "code",
   "execution_count": 18,
   "id": "8aaff4d9",
   "metadata": {
    "ExecuteTime": {
     "end_time": "2023-09-27T09:10:13.132911Z",
     "start_time": "2023-09-27T09:10:13.116490Z"
    }
   },
   "outputs": [
    {
     "data": {
      "text/plain": [
       "total_bill\n",
       "3.07      1.000\n",
       "5.75      1.000\n",
       "7.25      3.075\n",
       "7.51      2.000\n",
       "7.56      1.440\n",
       "          ...  \n",
       "45.35     3.500\n",
       "48.17     5.000\n",
       "48.27     6.730\n",
       "48.33     9.000\n",
       "50.81    10.000\n",
       "Name: tip, Length: 229, dtype: float64"
      ]
     },
     "execution_count": 18,
     "metadata": {},
     "output_type": "execute_result"
    }
   ],
   "source": [
    "tips.groupby('total_bill')['tip'].mean()"
   ]
  },
  {
   "cell_type": "code",
   "execution_count": 20,
   "id": "adcbcf78",
   "metadata": {
    "ExecuteTime": {
     "end_time": "2023-09-27T09:11:26.124977Z",
     "start_time": "2023-09-27T09:11:26.109657Z"
    }
   },
   "outputs": [],
   "source": [
    "tips['round_totalbill'] = round(tips['total_bill'], -1)"
   ]
  },
  {
   "cell_type": "code",
   "execution_count": 21,
   "id": "ac9f1824",
   "metadata": {
    "ExecuteTime": {
     "end_time": "2023-09-27T09:11:34.055643Z",
     "start_time": "2023-09-27T09:11:34.043382Z"
    }
   },
   "outputs": [
    {
     "data": {
      "text/html": [
       "<div>\n",
       "<style scoped>\n",
       "    .dataframe tbody tr th:only-of-type {\n",
       "        vertical-align: middle;\n",
       "    }\n",
       "\n",
       "    .dataframe tbody tr th {\n",
       "        vertical-align: top;\n",
       "    }\n",
       "\n",
       "    .dataframe thead th {\n",
       "        text-align: right;\n",
       "    }\n",
       "</style>\n",
       "<table border=\"1\" class=\"dataframe\">\n",
       "  <thead>\n",
       "    <tr style=\"text-align: right;\">\n",
       "      <th></th>\n",
       "      <th>total_bill</th>\n",
       "      <th>tip</th>\n",
       "      <th>sex</th>\n",
       "      <th>smoker</th>\n",
       "      <th>day</th>\n",
       "      <th>time</th>\n",
       "      <th>size</th>\n",
       "      <th>round_totalbill</th>\n",
       "    </tr>\n",
       "  </thead>\n",
       "  <tbody>\n",
       "    <tr>\n",
       "      <th>0</th>\n",
       "      <td>16.99</td>\n",
       "      <td>1.01</td>\n",
       "      <td>Female</td>\n",
       "      <td>No</td>\n",
       "      <td>Sun</td>\n",
       "      <td>Dinner</td>\n",
       "      <td>2</td>\n",
       "      <td>20.0</td>\n",
       "    </tr>\n",
       "    <tr>\n",
       "      <th>1</th>\n",
       "      <td>10.34</td>\n",
       "      <td>1.66</td>\n",
       "      <td>Male</td>\n",
       "      <td>No</td>\n",
       "      <td>Sun</td>\n",
       "      <td>Dinner</td>\n",
       "      <td>3</td>\n",
       "      <td>10.0</td>\n",
       "    </tr>\n",
       "    <tr>\n",
       "      <th>2</th>\n",
       "      <td>21.01</td>\n",
       "      <td>3.50</td>\n",
       "      <td>Male</td>\n",
       "      <td>No</td>\n",
       "      <td>Sun</td>\n",
       "      <td>Dinner</td>\n",
       "      <td>3</td>\n",
       "      <td>20.0</td>\n",
       "    </tr>\n",
       "    <tr>\n",
       "      <th>3</th>\n",
       "      <td>23.68</td>\n",
       "      <td>3.31</td>\n",
       "      <td>Male</td>\n",
       "      <td>No</td>\n",
       "      <td>Sun</td>\n",
       "      <td>Dinner</td>\n",
       "      <td>2</td>\n",
       "      <td>20.0</td>\n",
       "    </tr>\n",
       "    <tr>\n",
       "      <th>4</th>\n",
       "      <td>24.59</td>\n",
       "      <td>3.61</td>\n",
       "      <td>Female</td>\n",
       "      <td>No</td>\n",
       "      <td>Sun</td>\n",
       "      <td>Dinner</td>\n",
       "      <td>4</td>\n",
       "      <td>20.0</td>\n",
       "    </tr>\n",
       "  </tbody>\n",
       "</table>\n",
       "</div>"
      ],
      "text/plain": [
       "   total_bill   tip     sex smoker  day    time  size  round_totalbill\n",
       "0       16.99  1.01  Female     No  Sun  Dinner     2             20.0\n",
       "1       10.34  1.66    Male     No  Sun  Dinner     3             10.0\n",
       "2       21.01  3.50    Male     No  Sun  Dinner     3             20.0\n",
       "3       23.68  3.31    Male     No  Sun  Dinner     2             20.0\n",
       "4       24.59  3.61  Female     No  Sun  Dinner     4             20.0"
      ]
     },
     "execution_count": 21,
     "metadata": {},
     "output_type": "execute_result"
    }
   ],
   "source": [
    "tips.head()"
   ]
  },
  {
   "cell_type": "code",
   "execution_count": 22,
   "id": "c454d54f",
   "metadata": {
    "ExecuteTime": {
     "end_time": "2023-09-27T09:11:54.806178Z",
     "start_time": "2023-09-27T09:11:54.780452Z"
    }
   },
   "outputs": [
    {
     "data": {
      "text/html": [
       "<div>\n",
       "<style scoped>\n",
       "    .dataframe tbody tr th:only-of-type {\n",
       "        vertical-align: middle;\n",
       "    }\n",
       "\n",
       "    .dataframe tbody tr th {\n",
       "        vertical-align: top;\n",
       "    }\n",
       "\n",
       "    .dataframe thead th {\n",
       "        text-align: right;\n",
       "    }\n",
       "</style>\n",
       "<table border=\"1\" class=\"dataframe\">\n",
       "  <thead>\n",
       "    <tr style=\"text-align: right;\">\n",
       "      <th></th>\n",
       "      <th>total_bill</th>\n",
       "      <th>tip</th>\n",
       "      <th>sex</th>\n",
       "      <th>smoker</th>\n",
       "      <th>day</th>\n",
       "      <th>time</th>\n",
       "      <th>size</th>\n",
       "      <th>round_totalbill</th>\n",
       "    </tr>\n",
       "  </thead>\n",
       "  <tbody>\n",
       "    <tr>\n",
       "      <th>239</th>\n",
       "      <td>29.03</td>\n",
       "      <td>5.92</td>\n",
       "      <td>Male</td>\n",
       "      <td>No</td>\n",
       "      <td>Sat</td>\n",
       "      <td>Dinner</td>\n",
       "      <td>3</td>\n",
       "      <td>30.0</td>\n",
       "    </tr>\n",
       "    <tr>\n",
       "      <th>240</th>\n",
       "      <td>27.18</td>\n",
       "      <td>2.00</td>\n",
       "      <td>Female</td>\n",
       "      <td>Yes</td>\n",
       "      <td>Sat</td>\n",
       "      <td>Dinner</td>\n",
       "      <td>2</td>\n",
       "      <td>30.0</td>\n",
       "    </tr>\n",
       "    <tr>\n",
       "      <th>241</th>\n",
       "      <td>22.67</td>\n",
       "      <td>2.00</td>\n",
       "      <td>Male</td>\n",
       "      <td>Yes</td>\n",
       "      <td>Sat</td>\n",
       "      <td>Dinner</td>\n",
       "      <td>2</td>\n",
       "      <td>20.0</td>\n",
       "    </tr>\n",
       "    <tr>\n",
       "      <th>242</th>\n",
       "      <td>17.82</td>\n",
       "      <td>1.75</td>\n",
       "      <td>Male</td>\n",
       "      <td>No</td>\n",
       "      <td>Sat</td>\n",
       "      <td>Dinner</td>\n",
       "      <td>2</td>\n",
       "      <td>20.0</td>\n",
       "    </tr>\n",
       "    <tr>\n",
       "      <th>243</th>\n",
       "      <td>18.78</td>\n",
       "      <td>3.00</td>\n",
       "      <td>Female</td>\n",
       "      <td>No</td>\n",
       "      <td>Thur</td>\n",
       "      <td>Dinner</td>\n",
       "      <td>2</td>\n",
       "      <td>20.0</td>\n",
       "    </tr>\n",
       "  </tbody>\n",
       "</table>\n",
       "</div>"
      ],
      "text/plain": [
       "     total_bill   tip     sex smoker   day    time  size  round_totalbill\n",
       "239       29.03  5.92    Male     No   Sat  Dinner     3             30.0\n",
       "240       27.18  2.00  Female    Yes   Sat  Dinner     2             30.0\n",
       "241       22.67  2.00    Male    Yes   Sat  Dinner     2             20.0\n",
       "242       17.82  1.75    Male     No   Sat  Dinner     2             20.0\n",
       "243       18.78  3.00  Female     No  Thur  Dinner     2             20.0"
      ]
     },
     "execution_count": 22,
     "metadata": {},
     "output_type": "execute_result"
    }
   ],
   "source": [
    "tips.tail()"
   ]
  },
  {
   "cell_type": "code",
   "execution_count": 23,
   "id": "9706ddad",
   "metadata": {
    "ExecuteTime": {
     "end_time": "2023-09-27T09:12:33.390865Z",
     "start_time": "2023-09-27T09:12:33.381770Z"
    }
   },
   "outputs": [
    {
     "data": {
      "text/plain": [
       "round_totalbill\n",
       "0.0     1.000000\n",
       "10.0    2.063544\n",
       "20.0    3.025596\n",
       "30.0    4.001538\n",
       "40.0    4.316364\n",
       "50.0    6.846000\n",
       "Name: tip, dtype: float64"
      ]
     },
     "execution_count": 23,
     "metadata": {},
     "output_type": "execute_result"
    }
   ],
   "source": [
    "tips.groupby('round_totalbill')['tip'].mean()\n",
    "# 총 결제 금액이 클 수록 팁 평균이 크다."
   ]
  },
  {
   "cell_type": "code",
   "execution_count": null,
   "id": "6ade0e3c",
   "metadata": {},
   "outputs": [],
   "source": []
  }
 ],
 "metadata": {
  "kernelspec": {
   "display_name": "Python 3 (ipykernel)",
   "language": "python",
   "name": "python3"
  },
  "language_info": {
   "codemirror_mode": {
    "name": "ipython",
    "version": 3
   },
   "file_extension": ".py",
   "mimetype": "text/x-python",
   "name": "python",
   "nbconvert_exporter": "python",
   "pygments_lexer": "ipython3",
   "version": "3.8.17"
  },
  "toc": {
   "base_numbering": 1,
   "nav_menu": {},
   "number_sections": true,
   "sideBar": true,
   "skip_h1_title": false,
   "title_cell": "Table of Contents",
   "title_sidebar": "Contents",
   "toc_cell": false,
   "toc_position": {},
   "toc_section_display": true,
   "toc_window_display": false
  }
 },
 "nbformat": 4,
 "nbformat_minor": 5
}
