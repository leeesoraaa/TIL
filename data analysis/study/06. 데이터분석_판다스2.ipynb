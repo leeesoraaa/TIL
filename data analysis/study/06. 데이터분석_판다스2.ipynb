{
 "cells": [
  {
   "cell_type": "markdown",
   "id": "c1f5c45f",
   "metadata": {},
   "source": [
    "# Pandas 소개"
   ]
  },
  {
   "cell_type": "markdown",
   "id": "3a39117c",
   "metadata": {},
   "source": [
    "## 모듈 로딩"
   ]
  },
  {
   "cell_type": "code",
   "execution_count": 1,
   "id": "0802a986",
   "metadata": {
    "ExecuteTime": {
     "end_time": "2023-09-26T00:05:52.230401Z",
     "start_time": "2023-09-26T00:05:50.723903Z"
    }
   },
   "outputs": [],
   "source": [
    "import numpy as np\n",
    "import pandas as pd\n",
    "import matplotlib as mpl\n",
    "import matplotlib.pyplot as plt\n",
    "%matplotlib inline"
   ]
  },
  {
   "cell_type": "markdown",
   "id": "a6da1a87",
   "metadata": {},
   "source": [
    "## 시리즈 클래스: Series\n",
    "- Series = value + index\n",
    "- numpy의 1차원 배열의 의미를 가진다."
   ]
  },
  {
   "cell_type": "markdown",
   "id": "5ac93f03",
   "metadata": {},
   "source": [
    "### 시리즈 생성"
   ]
  },
  {
   "cell_type": "code",
   "execution_count": 2,
   "id": "5e37bf1c",
   "metadata": {
    "ExecuteTime": {
     "end_time": "2023-09-26T00:10:19.141605Z",
     "start_time": "2023-09-26T00:10:19.109436Z"
    }
   },
   "outputs": [
    {
     "data": {
      "text/plain": [
       "서울    9904312\n",
       "부산    3448737\n",
       "인천    2890451\n",
       "대구    2466052\n",
       "dtype: int64"
      ]
     },
     "execution_count": 2,
     "metadata": {},
     "output_type": "execute_result"
    }
   ],
   "source": [
    "# 2015년도에 각 도시의 인구 데이터를 시리즈 객체로 생성\n",
    "s = pd.Series([9904312, 3448737, 2890451, 2466052],\n",
    "             index=['서울', '부산', '인천', '대구'])\n",
    "s"
   ]
  },
  {
   "cell_type": "code",
   "execution_count": 3,
   "id": "39b57e1f",
   "metadata": {
    "ExecuteTime": {
     "end_time": "2023-09-26T00:10:56.208952Z",
     "start_time": "2023-09-26T00:10:56.195724Z"
    }
   },
   "outputs": [
    {
     "data": {
      "text/plain": [
       "0    10\n",
       "1    11\n",
       "2    12\n",
       "3    13\n",
       "dtype: int64"
      ]
     },
     "execution_count": 3,
     "metadata": {},
     "output_type": "execute_result"
    }
   ],
   "source": [
    "# 인덱스를 지정하지 않으면 정수인덱스가 생성된다.\n",
    "# 0부터 시작되는 정수 인덱스가 부여된다.\n",
    "pd.Series(range(10, 14))"
   ]
  },
  {
   "cell_type": "code",
   "execution_count": 4,
   "id": "2a681ba6",
   "metadata": {
    "ExecuteTime": {
     "end_time": "2023-09-26T00:13:17.706321Z",
     "start_time": "2023-09-26T00:13:17.687139Z"
    }
   },
   "outputs": [
    {
     "data": {
      "text/plain": [
       "Index(['서울', '부산', '인천', '대구'], dtype='object')"
      ]
     },
     "execution_count": 4,
     "metadata": {},
     "output_type": "execute_result"
    }
   ],
   "source": [
    "# 속성: index, values, dtype\n",
    "s.index"
   ]
  },
  {
   "cell_type": "code",
   "execution_count": 5,
   "id": "e6b45166",
   "metadata": {
    "ExecuteTime": {
     "end_time": "2023-09-26T00:13:49.692624Z",
     "start_time": "2023-09-26T00:13:49.683491Z"
    }
   },
   "outputs": [
    {
     "data": {
      "text/plain": [
       "도시\n",
       "서울    9904312\n",
       "부산    3448737\n",
       "인천    2890451\n",
       "대구    2466052\n",
       "Name: 인구, dtype: int64"
      ]
     },
     "execution_count": 5,
     "metadata": {},
     "output_type": "execute_result"
    }
   ],
   "source": [
    "# 속성에 이름을 부여하는 name 속성\n",
    "s.name = '인구'\n",
    "s.index.name='도시'\n",
    "s"
   ]
  },
  {
   "cell_type": "markdown",
   "id": "2c1e30b2",
   "metadata": {},
   "source": [
    "### 시리즈 연산\n",
    "- 넘파이처럼 벡터화 연산을 수행한다."
   ]
  },
  {
   "cell_type": "code",
   "execution_count": 6,
   "id": "fa4e3eb7",
   "metadata": {
    "ExecuteTime": {
     "end_time": "2023-09-26T00:15:56.638619Z",
     "start_time": "2023-09-26T00:15:56.619630Z"
    }
   },
   "outputs": [
    {
     "data": {
      "text/plain": [
       "도시\n",
       "서울    9.904312\n",
       "부산    3.448737\n",
       "인천    2.890451\n",
       "대구    2.466052\n",
       "Name: 인구, dtype: float64"
      ]
     },
     "execution_count": 6,
     "metadata": {},
     "output_type": "execute_result"
    }
   ],
   "source": [
    "s / 1000000"
   ]
  },
  {
   "cell_type": "markdown",
   "id": "4a685e87",
   "metadata": {},
   "source": [
    "### 시리즈 인덱싱\n",
    "- 넘파이 배열의 인덱싱과 슬라이싱이 동일하다."
   ]
  },
  {
   "cell_type": "code",
   "execution_count": 7,
   "id": "5ec25170",
   "metadata": {
    "ExecuteTime": {
     "end_time": "2023-09-26T00:17:23.751472Z",
     "start_time": "2023-09-26T00:17:23.739539Z"
    }
   },
   "outputs": [
    {
     "data": {
      "text/plain": [
       "(3448737, 3448737)"
      ]
     },
     "execution_count": 7,
     "metadata": {},
     "output_type": "execute_result"
    }
   ],
   "source": [
    "s[1], s['부산']"
   ]
  },
  {
   "cell_type": "code",
   "execution_count": 8,
   "id": "a8f7a4d3",
   "metadata": {
    "ExecuteTime": {
     "end_time": "2023-09-26T00:17:51.154135Z",
     "start_time": "2023-09-26T00:17:51.145803Z"
    }
   },
   "outputs": [
    {
     "data": {
      "text/plain": [
       "(2466052, 2466052)"
      ]
     },
     "execution_count": 8,
     "metadata": {},
     "output_type": "execute_result"
    }
   ],
   "source": [
    "s[3], s['대구']"
   ]
  },
  {
   "cell_type": "code",
   "execution_count": 9,
   "id": "a2fdfbf1",
   "metadata": {
    "ExecuteTime": {
     "end_time": "2023-09-26T00:20:02.139106Z",
     "start_time": "2023-09-26T00:20:02.125044Z"
    }
   },
   "outputs": [
    {
     "data": {
      "text/plain": [
       "도시\n",
       "서울    9904312\n",
       "대구    2466052\n",
       "부산    3448737\n",
       "Name: 인구, dtype: int64"
      ]
     },
     "execution_count": 9,
     "metadata": {},
     "output_type": "execute_result"
    }
   ],
   "source": [
    "s[[0, 3, 1]]"
   ]
  },
  {
   "cell_type": "code",
   "execution_count": 10,
   "id": "999a3487",
   "metadata": {
    "ExecuteTime": {
     "end_time": "2023-09-26T00:20:16.460874Z",
     "start_time": "2023-09-26T00:20:16.440265Z"
    }
   },
   "outputs": [
    {
     "data": {
      "text/plain": [
       "도시\n",
       "서울    9904312\n",
       "대구    2466052\n",
       "부산    3448737\n",
       "Name: 인구, dtype: int64"
      ]
     },
     "execution_count": 10,
     "metadata": {},
     "output_type": "execute_result"
    }
   ],
   "source": [
    "s[['서울', '대구', '부산']]"
   ]
  },
  {
   "cell_type": "code",
   "execution_count": 11,
   "id": "5d008d7d",
   "metadata": {
    "ExecuteTime": {
     "end_time": "2023-09-26T00:22:24.349483Z",
     "start_time": "2023-09-26T00:22:24.339941Z"
    }
   },
   "outputs": [
    {
     "data": {
      "text/plain": [
       "도시\n",
       "서울    9904312\n",
       "부산    3448737\n",
       "Name: 인구, dtype: int64"
      ]
     },
     "execution_count": 11,
     "metadata": {},
     "output_type": "execute_result"
    }
   ],
   "source": [
    "# 조건식\n",
    "s[s >= 3000000]"
   ]
  },
  {
   "cell_type": "code",
   "execution_count": 12,
   "id": "49415b76",
   "metadata": {
    "ExecuteTime": {
     "end_time": "2023-09-26T00:23:18.344928Z",
     "start_time": "2023-09-26T00:23:18.336879Z"
    }
   },
   "outputs": [
    {
     "data": {
      "text/plain": [
       "도시\n",
       "부산    3448737\n",
       "인천    2890451\n",
       "Name: 인구, dtype: int64"
      ]
     },
     "execution_count": 12,
     "metadata": {},
     "output_type": "execute_result"
    }
   ],
   "source": [
    "# 인구가 250만 초과, 500만 미만\n",
    "s[(s > 2500000) & (s < 5000000)]"
   ]
  },
  {
   "cell_type": "markdown",
   "id": "e41ee37b",
   "metadata": {},
   "source": [
    "### 시리즈 슬라이싱"
   ]
  },
  {
   "cell_type": "code",
   "execution_count": 13,
   "id": "d6a9978e",
   "metadata": {
    "ExecuteTime": {
     "end_time": "2023-09-26T00:25:53.456303Z",
     "start_time": "2023-09-26T00:25:53.442475Z"
    }
   },
   "outputs": [
    {
     "data": {
      "text/plain": [
       "도시\n",
       "부산    3448737\n",
       "인천    2890451\n",
       "Name: 인구, dtype: int64"
      ]
     },
     "execution_count": 13,
     "metadata": {},
     "output_type": "execute_result"
    }
   ],
   "source": [
    "s[1:3]"
   ]
  },
  {
   "cell_type": "code",
   "execution_count": 14,
   "id": "f5287904",
   "metadata": {
    "ExecuteTime": {
     "end_time": "2023-09-26T00:26:26.932019Z",
     "start_time": "2023-09-26T00:26:26.912213Z"
    }
   },
   "outputs": [
    {
     "data": {
      "text/plain": [
       "도시\n",
       "부산    3448737\n",
       "인천    2890451\n",
       "대구    2466052\n",
       "Name: 인구, dtype: int64"
      ]
     },
     "execution_count": 14,
     "metadata": {},
     "output_type": "execute_result"
    }
   ],
   "source": [
    "s['부산':'대구'] # 인덱스라벨링(문자) 되어있을 경우 마지막을 포함한다."
   ]
  },
  {
   "cell_type": "markdown",
   "id": "91b78e36",
   "metadata": {},
   "source": [
    "**라벨값이 영문 문자열일 경우 인덱스 라벨의 속성인 것처럼 점(.)을 이용하여 인덱스 값에 접근 가능**"
   ]
  },
  {
   "cell_type": "code",
   "execution_count": 15,
   "id": "3cc33ee9",
   "metadata": {
    "ExecuteTime": {
     "end_time": "2023-09-26T00:27:45.246722Z",
     "start_time": "2023-09-26T00:27:45.237174Z"
    }
   },
   "outputs": [
    {
     "data": {
      "text/plain": [
       "a    0\n",
       "b    1\n",
       "c    2\n",
       "dtype: int32"
      ]
     },
     "execution_count": 15,
     "metadata": {},
     "output_type": "execute_result"
    }
   ],
   "source": [
    "s0 = pd.Series(np.arange(3), index=['a', 'b', 'c'])\n",
    "s0"
   ]
  },
  {
   "cell_type": "code",
   "execution_count": 16,
   "id": "64e7c9ed",
   "metadata": {
    "ExecuteTime": {
     "end_time": "2023-09-26T00:28:10.588445Z",
     "start_time": "2023-09-26T00:28:10.569812Z"
    }
   },
   "outputs": [
    {
     "data": {
      "text/plain": [
       "(0, 0)"
      ]
     },
     "execution_count": 16,
     "metadata": {},
     "output_type": "execute_result"
    }
   ],
   "source": [
    "s0[0], s0['a']"
   ]
  },
  {
   "cell_type": "code",
   "execution_count": 17,
   "id": "72d20dcb",
   "metadata": {
    "ExecuteTime": {
     "end_time": "2023-09-26T00:30:36.596027Z",
     "start_time": "2023-09-26T00:30:36.577987Z"
    }
   },
   "outputs": [
    {
     "data": {
      "text/plain": [
       "0"
      ]
     },
     "execution_count": 17,
     "metadata": {},
     "output_type": "execute_result"
    }
   ],
   "source": [
    "s0.a"
   ]
  },
  {
   "cell_type": "code",
   "execution_count": 18,
   "id": "293873ba",
   "metadata": {
    "ExecuteTime": {
     "end_time": "2023-09-26T00:30:52.606269Z",
     "start_time": "2023-09-26T00:30:52.599997Z"
    }
   },
   "outputs": [
    {
     "data": {
      "text/plain": [
       "(2, 2, 2)"
      ]
     },
     "execution_count": 18,
     "metadata": {},
     "output_type": "execute_result"
    }
   ],
   "source": [
    "s0['c'], s0.c, s0[2]"
   ]
  },
  {
   "cell_type": "markdown",
   "id": "9e2b0423",
   "metadata": {},
   "source": [
    "**시리즈와 딕셔너리 자료형**\n",
    "- 파이썬의 dictionary 자료형을 바로 판다스의 Series 객체로 변환이 가능\n",
    "- 딕셔너리의 키는 시리즈의 index가 된다.\n",
    "- 딕셔너리의 주요함수: get() == 사전['키], 사전.keys() => 시리즈객체명.index\n",
    "- 사전명.values() => 시리즈객체명.values\n",
    "- 사전명.items(): key와 value을 쌍으로 얻어오는 함수\n",
    "- in 연산자와 not in 연산자"
   ]
  },
  {
   "cell_type": "code",
   "execution_count": 19,
   "id": "bef4c195",
   "metadata": {
    "ExecuteTime": {
     "end_time": "2023-09-26T00:36:38.940358Z",
     "start_time": "2023-09-26T00:36:38.931223Z"
    }
   },
   "outputs": [
    {
     "data": {
      "text/plain": [
       "True"
      ]
     },
     "execution_count": 19,
     "metadata": {},
     "output_type": "execute_result"
    }
   ],
   "source": [
    "'서울' in s"
   ]
  },
  {
   "cell_type": "code",
   "execution_count": 20,
   "id": "3618e35c",
   "metadata": {
    "ExecuteTime": {
     "end_time": "2023-09-26T00:36:45.695714Z",
     "start_time": "2023-09-26T00:36:45.678491Z"
    }
   },
   "outputs": [
    {
     "data": {
      "text/plain": [
       "False"
      ]
     },
     "execution_count": 20,
     "metadata": {},
     "output_type": "execute_result"
    }
   ],
   "source": [
    "'대전' in s"
   ]
  },
  {
   "cell_type": "code",
   "execution_count": 22,
   "id": "2b1bbe25",
   "metadata": {
    "ExecuteTime": {
     "end_time": "2023-09-26T00:37:17.634495Z",
     "start_time": "2023-09-26T00:37:17.615805Z"
    }
   },
   "outputs": [
    {
     "name": "stdout",
     "output_type": "stream",
     "text": [
      "서울 9904312\n",
      "부산 3448737\n",
      "인천 2890451\n",
      "대구 2466052\n"
     ]
    }
   ],
   "source": [
    "for key, value in s.items():\n",
    "    print(key, value)"
   ]
  },
  {
   "cell_type": "code",
   "execution_count": 23,
   "id": "1a89b338",
   "metadata": {
    "ExecuteTime": {
     "end_time": "2023-09-26T00:38:37.775200Z",
     "start_time": "2023-09-26T00:38:37.755850Z"
    }
   },
   "outputs": [
    {
     "data": {
      "text/plain": [
       "서울    9631482\n",
       "부산    3393191\n",
       "인천    2632035\n",
       "대전    1490158\n",
       "dtype: int64"
      ]
     },
     "execution_count": 23,
     "metadata": {},
     "output_type": "execute_result"
    }
   ],
   "source": [
    "s2 = pd.Series({'서울':9631482, '부산':3393191, '인천':2632035, '대전':1490158})\n",
    "s2"
   ]
  },
  {
   "cell_type": "code",
   "execution_count": 24,
   "id": "41f2a752",
   "metadata": {
    "ExecuteTime": {
     "end_time": "2023-09-26T00:40:26.070591Z",
     "start_time": "2023-09-26T00:40:26.045978Z"
    }
   },
   "outputs": [
    {
     "data": {
      "text/plain": [
       "대구         NaN\n",
       "대전         NaN\n",
       "부산     55546.0\n",
       "서울    272830.0\n",
       "인천    258416.0\n",
       "dtype: float64"
      ]
     },
     "execution_count": 24,
     "metadata": {},
     "output_type": "execute_result"
    }
   ],
   "source": [
    "ds = s - s2\n",
    "ds"
   ]
  },
  {
   "cell_type": "markdown",
   "id": "0e836e4b",
   "metadata": {},
   "source": [
    "- 대구와 대전의 경우는 두 시리즈에 공통의 인덱스로 존재하지 않기 때문에 연산을 수행할 수 없어 그 결과값으로 NaN(Not a Number) 값을 가진다.\n",
    "- NaN값이 float 자료형에서만 적용되므로 연산의 결과가 모두 float형으로 바뀌었다."
   ]
  },
  {
   "cell_type": "code",
   "execution_count": 25,
   "id": "6e46fa06",
   "metadata": {
    "ExecuteTime": {
     "end_time": "2023-09-26T00:43:35.033001Z",
     "start_time": "2023-09-26T00:43:35.012894Z"
    }
   },
   "outputs": [
    {
     "data": {
      "text/plain": [
       "대구    False\n",
       "대전    False\n",
       "부산     True\n",
       "서울     True\n",
       "인천     True\n",
       "dtype: bool"
      ]
     },
     "execution_count": 25,
     "metadata": {},
     "output_type": "execute_result"
    }
   ],
   "source": [
    "# NaN이 아닌 값을 구하려면 notnull 메서드를 사용한다.\n",
    "ds.notnull()"
   ]
  },
  {
   "cell_type": "code",
   "execution_count": 26,
   "id": "60acf62b",
   "metadata": {
    "ExecuteTime": {
     "end_time": "2023-09-26T00:45:35.616845Z",
     "start_time": "2023-09-26T00:45:35.597325Z"
    }
   },
   "outputs": [
    {
     "data": {
      "text/plain": [
       "부산     55546.0\n",
       "서울    272830.0\n",
       "인천    258416.0\n",
       "dtype: float64"
      ]
     },
     "execution_count": 26,
     "metadata": {},
     "output_type": "execute_result"
    }
   ],
   "source": [
    "ds[ds.notnull()]"
   ]
  },
  {
   "cell_type": "code",
   "execution_count": 27,
   "id": "fc9535c9",
   "metadata": {
    "ExecuteTime": {
     "end_time": "2023-09-26T00:46:32.213230Z",
     "start_time": "2023-09-26T00:46:32.191863Z"
    }
   },
   "outputs": [
    {
     "data": {
      "text/plain": [
       "부산    1.636984\n",
       "서울    2.832690\n",
       "인천    9.818107\n",
       "dtype: float64"
      ]
     },
     "execution_count": 27,
     "metadata": {},
     "output_type": "execute_result"
    }
   ],
   "source": [
    "# 2010년도 자료와 2015년도 자료를 이용하여 인구 증가율(%)을 계산하시오.\n",
    "res = (s - s2) / s2 * 100\n",
    "res = res[res.notnull()]\n",
    "res"
   ]
  },
  {
   "cell_type": "markdown",
   "id": "0ff7f198",
   "metadata": {},
   "source": [
    "### 데이터의 갱신, 추가, 삭제\n",
    "- 인덱싱을 이용하면 딕셔너리 처럼 데이터를 갱신(update)하거나 추가(add)할 수 있다."
   ]
  },
  {
   "cell_type": "code",
   "execution_count": 28,
   "id": "06462fb1",
   "metadata": {
    "ExecuteTime": {
     "end_time": "2023-09-26T01:01:37.254673Z",
     "start_time": "2023-09-26T01:01:37.248682Z"
    }
   },
   "outputs": [
    {
     "data": {
      "text/plain": [
       "부산    1.630000\n",
       "서울    2.832690\n",
       "인천    9.818107\n",
       "dtype: float64"
      ]
     },
     "execution_count": 28,
     "metadata": {},
     "output_type": "execute_result"
    }
   ],
   "source": [
    "res['부산'] = 1.63\n",
    "res"
   ]
  },
  {
   "cell_type": "code",
   "execution_count": 29,
   "id": "2b81eebb",
   "metadata": {
    "ExecuteTime": {
     "end_time": "2023-09-26T01:02:24.594849Z",
     "start_time": "2023-09-26T01:02:24.581094Z"
    }
   },
   "outputs": [
    {
     "data": {
      "text/plain": [
       "부산    1.630000\n",
       "서울    2.832690\n",
       "인천    9.818107\n",
       "대구    1.410000\n",
       "dtype: float64"
      ]
     },
     "execution_count": 29,
     "metadata": {},
     "output_type": "execute_result"
    }
   ],
   "source": [
    "res['대구'] = 1.41\n",
    "res"
   ]
  },
  {
   "cell_type": "code",
   "execution_count": 30,
   "id": "a6057385",
   "metadata": {
    "ExecuteTime": {
     "end_time": "2023-09-26T01:02:33.896495Z",
     "start_time": "2023-09-26T01:02:33.878855Z"
    }
   },
   "outputs": [
    {
     "data": {
      "text/plain": [
       "부산    1.630000\n",
       "인천    9.818107\n",
       "대구    1.410000\n",
       "dtype: float64"
      ]
     },
     "execution_count": 30,
     "metadata": {},
     "output_type": "execute_result"
    }
   ],
   "source": [
    "del res['서울']\n",
    "res"
   ]
  },
  {
   "cell_type": "markdown",
   "id": "6f00af04",
   "metadata": {},
   "source": [
    "## 데이터프레임 클래스\n",
    "- 시리즈는 1차원 배열과 같다.\n",
    "- 데이터프레임은 2차원 배열(행렬, matrix)과 비슷하다.\n",
    "- 행렬은 행 인덱스와 열 인덱스가 존재한다."
   ]
  },
  {
   "cell_type": "markdown",
   "id": "de0baa2e",
   "metadata": {},
   "source": [
    "### 데이터프레임 생성\n",
    "- 여러 개의 시리즈 객체가 묶어서 생성된다.\n",
    "- 딕셔너리를 이용(키가 열 인덱스가 된다.)\n",
    "- 속성: data, index, dtype, columns"
   ]
  },
  {
   "cell_type": "code",
   "execution_count": 31,
   "id": "23655f9e",
   "metadata": {
    "ExecuteTime": {
     "end_time": "2023-09-26T01:10:46.357146Z",
     "start_time": "2023-09-26T01:10:46.306535Z"
    }
   },
   "outputs": [
    {
     "data": {
      "text/html": [
       "<div>\n",
       "<style scoped>\n",
       "    .dataframe tbody tr th:only-of-type {\n",
       "        vertical-align: middle;\n",
       "    }\n",
       "\n",
       "    .dataframe tbody tr th {\n",
       "        vertical-align: top;\n",
       "    }\n",
       "\n",
       "    .dataframe thead th {\n",
       "        text-align: right;\n",
       "    }\n",
       "</style>\n",
       "<table border=\"1\" class=\"dataframe\">\n",
       "  <thead>\n",
       "    <tr style=\"text-align: right;\">\n",
       "      <th></th>\n",
       "      <th>지역</th>\n",
       "      <th>2015</th>\n",
       "      <th>2010</th>\n",
       "      <th>2005</th>\n",
       "      <th>2000</th>\n",
       "      <th>2010-2015 증가율</th>\n",
       "    </tr>\n",
       "  </thead>\n",
       "  <tbody>\n",
       "    <tr>\n",
       "      <th>서울</th>\n",
       "      <td>수도권</td>\n",
       "      <td>9904312</td>\n",
       "      <td>9631482</td>\n",
       "      <td>9762546</td>\n",
       "      <td>9853972</td>\n",
       "      <td>0.0283</td>\n",
       "    </tr>\n",
       "    <tr>\n",
       "      <th>부산</th>\n",
       "      <td>경상권</td>\n",
       "      <td>3448737</td>\n",
       "      <td>3393191</td>\n",
       "      <td>3512547</td>\n",
       "      <td>3655437</td>\n",
       "      <td>0.0163</td>\n",
       "    </tr>\n",
       "    <tr>\n",
       "      <th>인천</th>\n",
       "      <td>수도권</td>\n",
       "      <td>2890451</td>\n",
       "      <td>2632035</td>\n",
       "      <td>2517680</td>\n",
       "      <td>2466338</td>\n",
       "      <td>0.0982</td>\n",
       "    </tr>\n",
       "    <tr>\n",
       "      <th>대구</th>\n",
       "      <td>경상권</td>\n",
       "      <td>2466052</td>\n",
       "      <td>2431774</td>\n",
       "      <td>2456016</td>\n",
       "      <td>2473990</td>\n",
       "      <td>0.0141</td>\n",
       "    </tr>\n",
       "  </tbody>\n",
       "</table>\n",
       "</div>"
      ],
      "text/plain": [
       "     지역     2015     2010     2005     2000  2010-2015 증가율\n",
       "서울  수도권  9904312  9631482  9762546  9853972         0.0283\n",
       "부산  경상권  3448737  3393191  3512547  3655437         0.0163\n",
       "인천  수도권  2890451  2632035  2517680  2466338         0.0982\n",
       "대구  경상권  2466052  2431774  2456016  2473990         0.0141"
      ]
     },
     "execution_count": 31,
     "metadata": {},
     "output_type": "execute_result"
    }
   ],
   "source": [
    "data = {\n",
    "    \"2015\": [9904312, 3448737, 2890451, 2466052],\n",
    "    \"2010\": [9631482, 3393191, 2632035, 2431774],\n",
    "    \"2005\": [9762546, 3512547, 2517680, 2456016],\n",
    "    \"2000\": [9853972, 3655437, 2466338, 2473990],\n",
    "    \"지역\": [\"수도권\", \"경상권\", \"수도권\", \"경상권\"],\n",
    "    \"2010-2015 증가율\": [0.0283, 0.0163, 0.0982, 0.0141]\n",
    "}\n",
    "columns = ['지역', '2015', '2010', '2005', '2000', '2010-2015 증가율']\n",
    "index = ['서울', '부산', '인천', '대구']\n",
    "df = pd.DataFrame(data, index=index, columns=columns)\n",
    "df"
   ]
  },
  {
   "cell_type": "code",
   "execution_count": 32,
   "id": "f2897347",
   "metadata": {
    "ExecuteTime": {
     "end_time": "2023-09-26T01:12:18.381868Z",
     "start_time": "2023-09-26T01:12:18.365623Z"
    }
   },
   "outputs": [
    {
     "data": {
      "text/plain": [
       "array([['수도권', 9904312, 9631482, 9762546, 9853972, 0.0283],\n",
       "       ['경상권', 3448737, 3393191, 3512547, 3655437, 0.0163],\n",
       "       ['수도권', 2890451, 2632035, 2517680, 2466338, 0.0982],\n",
       "       ['경상권', 2466052, 2431774, 2456016, 2473990, 0.0141]], dtype=object)"
      ]
     },
     "execution_count": 32,
     "metadata": {},
     "output_type": "execute_result"
    }
   ],
   "source": [
    "# 데이터 값에만 접근 values 속성\n",
    "# 열 인덱스와 행 인덱스는 각각 columns, index 속성\n",
    "df.values"
   ]
  },
  {
   "cell_type": "code",
   "execution_count": 33,
   "id": "c7f05b36",
   "metadata": {
    "ExecuteTime": {
     "end_time": "2023-09-26T01:12:22.231767Z",
     "start_time": "2023-09-26T01:12:22.225746Z"
    }
   },
   "outputs": [
    {
     "data": {
      "text/plain": [
       "Index(['지역', '2015', '2010', '2005', '2000', '2010-2015 증가율'], dtype='object')"
      ]
     },
     "execution_count": 33,
     "metadata": {},
     "output_type": "execute_result"
    }
   ],
   "source": [
    "df.columns"
   ]
  },
  {
   "cell_type": "code",
   "execution_count": 34,
   "id": "75f43bce",
   "metadata": {
    "ExecuteTime": {
     "end_time": "2023-09-26T01:13:47.375816Z",
     "start_time": "2023-09-26T01:13:47.366202Z"
    }
   },
   "outputs": [
    {
     "data": {
      "text/plain": [
       "Index(['서울', '부산', '인천', '대구'], dtype='object')"
      ]
     },
     "execution_count": 34,
     "metadata": {},
     "output_type": "execute_result"
    }
   ],
   "source": [
    "df.index"
   ]
  },
  {
   "cell_type": "code",
   "execution_count": 35,
   "id": "64da3a47",
   "metadata": {
    "ExecuteTime": {
     "end_time": "2023-09-26T01:14:54.742229Z",
     "start_time": "2023-09-26T01:14:54.730480Z"
    }
   },
   "outputs": [
    {
     "data": {
      "text/html": [
       "<div>\n",
       "<style scoped>\n",
       "    .dataframe tbody tr th:only-of-type {\n",
       "        vertical-align: middle;\n",
       "    }\n",
       "\n",
       "    .dataframe tbody tr th {\n",
       "        vertical-align: top;\n",
       "    }\n",
       "\n",
       "    .dataframe thead th {\n",
       "        text-align: right;\n",
       "    }\n",
       "</style>\n",
       "<table border=\"1\" class=\"dataframe\">\n",
       "  <thead>\n",
       "    <tr style=\"text-align: right;\">\n",
       "      <th>특성</th>\n",
       "      <th>지역</th>\n",
       "      <th>2015</th>\n",
       "      <th>2010</th>\n",
       "      <th>2005</th>\n",
       "      <th>2000</th>\n",
       "      <th>2010-2015 증가율</th>\n",
       "    </tr>\n",
       "    <tr>\n",
       "      <th>도시</th>\n",
       "      <th></th>\n",
       "      <th></th>\n",
       "      <th></th>\n",
       "      <th></th>\n",
       "      <th></th>\n",
       "      <th></th>\n",
       "    </tr>\n",
       "  </thead>\n",
       "  <tbody>\n",
       "    <tr>\n",
       "      <th>서울</th>\n",
       "      <td>수도권</td>\n",
       "      <td>9904312</td>\n",
       "      <td>9631482</td>\n",
       "      <td>9762546</td>\n",
       "      <td>9853972</td>\n",
       "      <td>0.0283</td>\n",
       "    </tr>\n",
       "    <tr>\n",
       "      <th>부산</th>\n",
       "      <td>경상권</td>\n",
       "      <td>3448737</td>\n",
       "      <td>3393191</td>\n",
       "      <td>3512547</td>\n",
       "      <td>3655437</td>\n",
       "      <td>0.0163</td>\n",
       "    </tr>\n",
       "    <tr>\n",
       "      <th>인천</th>\n",
       "      <td>수도권</td>\n",
       "      <td>2890451</td>\n",
       "      <td>2632035</td>\n",
       "      <td>2517680</td>\n",
       "      <td>2466338</td>\n",
       "      <td>0.0982</td>\n",
       "    </tr>\n",
       "    <tr>\n",
       "      <th>대구</th>\n",
       "      <td>경상권</td>\n",
       "      <td>2466052</td>\n",
       "      <td>2431774</td>\n",
       "      <td>2456016</td>\n",
       "      <td>2473990</td>\n",
       "      <td>0.0141</td>\n",
       "    </tr>\n",
       "  </tbody>\n",
       "</table>\n",
       "</div>"
      ],
      "text/plain": [
       "특성   지역     2015     2010     2005     2000  2010-2015 증가율\n",
       "도시                                                        \n",
       "서울  수도권  9904312  9631482  9762546  9853972         0.0283\n",
       "부산  경상권  3448737  3393191  3512547  3655437         0.0163\n",
       "인천  수도권  2890451  2632035  2517680  2466338         0.0982\n",
       "대구  경상권  2466052  2431774  2456016  2473990         0.0141"
      ]
     },
     "execution_count": 35,
     "metadata": {},
     "output_type": "execute_result"
    }
   ],
   "source": [
    "# 속성들에 이름을 부여할 때 name 속성\n",
    "df.index.name='도시'\n",
    "df.columns.name='특성'\n",
    "df"
   ]
  },
  {
   "cell_type": "code",
   "execution_count": 37,
   "id": "ee8e0223",
   "metadata": {
    "ExecuteTime": {
     "end_time": "2023-09-26T01:15:20.208697Z",
     "start_time": "2023-09-26T01:15:20.190709Z"
    }
   },
   "outputs": [
    {
     "data": {
      "text/html": [
       "<div>\n",
       "<style scoped>\n",
       "    .dataframe tbody tr th:only-of-type {\n",
       "        vertical-align: middle;\n",
       "    }\n",
       "\n",
       "    .dataframe tbody tr th {\n",
       "        vertical-align: top;\n",
       "    }\n",
       "\n",
       "    .dataframe thead th {\n",
       "        text-align: right;\n",
       "    }\n",
       "</style>\n",
       "<table border=\"1\" class=\"dataframe\">\n",
       "  <thead>\n",
       "    <tr style=\"text-align: right;\">\n",
       "      <th>도시</th>\n",
       "      <th>서울</th>\n",
       "      <th>부산</th>\n",
       "      <th>인천</th>\n",
       "      <th>대구</th>\n",
       "    </tr>\n",
       "    <tr>\n",
       "      <th>특성</th>\n",
       "      <th></th>\n",
       "      <th></th>\n",
       "      <th></th>\n",
       "      <th></th>\n",
       "    </tr>\n",
       "  </thead>\n",
       "  <tbody>\n",
       "    <tr>\n",
       "      <th>지역</th>\n",
       "      <td>수도권</td>\n",
       "      <td>경상권</td>\n",
       "      <td>수도권</td>\n",
       "      <td>경상권</td>\n",
       "    </tr>\n",
       "    <tr>\n",
       "      <th>2015</th>\n",
       "      <td>9904312</td>\n",
       "      <td>3448737</td>\n",
       "      <td>2890451</td>\n",
       "      <td>2466052</td>\n",
       "    </tr>\n",
       "    <tr>\n",
       "      <th>2010</th>\n",
       "      <td>9631482</td>\n",
       "      <td>3393191</td>\n",
       "      <td>2632035</td>\n",
       "      <td>2431774</td>\n",
       "    </tr>\n",
       "    <tr>\n",
       "      <th>2005</th>\n",
       "      <td>9762546</td>\n",
       "      <td>3512547</td>\n",
       "      <td>2517680</td>\n",
       "      <td>2456016</td>\n",
       "    </tr>\n",
       "    <tr>\n",
       "      <th>2000</th>\n",
       "      <td>9853972</td>\n",
       "      <td>3655437</td>\n",
       "      <td>2466338</td>\n",
       "      <td>2473990</td>\n",
       "    </tr>\n",
       "    <tr>\n",
       "      <th>2010-2015 증가율</th>\n",
       "      <td>0.0283</td>\n",
       "      <td>0.0163</td>\n",
       "      <td>0.0982</td>\n",
       "      <td>0.0141</td>\n",
       "    </tr>\n",
       "  </tbody>\n",
       "</table>\n",
       "</div>"
      ],
      "text/plain": [
       "도시                  서울       부산       인천       대구\n",
       "특성                                               \n",
       "지역                 수도권      경상권      수도권      경상권\n",
       "2015           9904312  3448737  2890451  2466052\n",
       "2010           9631482  3393191  2632035  2431774\n",
       "2005           9762546  3512547  2517680  2456016\n",
       "2000           9853972  3655437  2466338  2473990\n",
       "2010-2015 증가율   0.0283   0.0163   0.0982   0.0141"
      ]
     },
     "execution_count": 37,
     "metadata": {},
     "output_type": "execute_result"
    }
   ],
   "source": [
    "# 전치(transpose)\n",
    "df.T"
   ]
  },
  {
   "cell_type": "markdown",
   "id": "693ce776",
   "metadata": {},
   "source": [
    "### 열 데이터의 갱신, 추가, 삭제\n",
    "- 열 하나가 시리즈 객체와 같다."
   ]
  },
  {
   "cell_type": "code",
   "execution_count": 38,
   "id": "96e3f841",
   "metadata": {
    "ExecuteTime": {
     "end_time": "2023-09-26T01:18:22.738243Z",
     "start_time": "2023-09-26T01:18:22.721230Z"
    }
   },
   "outputs": [
    {
     "data": {
      "text/html": [
       "<div>\n",
       "<style scoped>\n",
       "    .dataframe tbody tr th:only-of-type {\n",
       "        vertical-align: middle;\n",
       "    }\n",
       "\n",
       "    .dataframe tbody tr th {\n",
       "        vertical-align: top;\n",
       "    }\n",
       "\n",
       "    .dataframe thead th {\n",
       "        text-align: right;\n",
       "    }\n",
       "</style>\n",
       "<table border=\"1\" class=\"dataframe\">\n",
       "  <thead>\n",
       "    <tr style=\"text-align: right;\">\n",
       "      <th>특성</th>\n",
       "      <th>지역</th>\n",
       "      <th>2015</th>\n",
       "      <th>2010</th>\n",
       "      <th>2005</th>\n",
       "      <th>2000</th>\n",
       "      <th>2010-2015 증가율</th>\n",
       "    </tr>\n",
       "    <tr>\n",
       "      <th>도시</th>\n",
       "      <th></th>\n",
       "      <th></th>\n",
       "      <th></th>\n",
       "      <th></th>\n",
       "      <th></th>\n",
       "      <th></th>\n",
       "    </tr>\n",
       "  </thead>\n",
       "  <tbody>\n",
       "    <tr>\n",
       "      <th>서울</th>\n",
       "      <td>수도권</td>\n",
       "      <td>9904312</td>\n",
       "      <td>9631482</td>\n",
       "      <td>9762546</td>\n",
       "      <td>9853972</td>\n",
       "      <td>2.83</td>\n",
       "    </tr>\n",
       "    <tr>\n",
       "      <th>부산</th>\n",
       "      <td>경상권</td>\n",
       "      <td>3448737</td>\n",
       "      <td>3393191</td>\n",
       "      <td>3512547</td>\n",
       "      <td>3655437</td>\n",
       "      <td>1.63</td>\n",
       "    </tr>\n",
       "    <tr>\n",
       "      <th>인천</th>\n",
       "      <td>수도권</td>\n",
       "      <td>2890451</td>\n",
       "      <td>2632035</td>\n",
       "      <td>2517680</td>\n",
       "      <td>2466338</td>\n",
       "      <td>9.82</td>\n",
       "    </tr>\n",
       "    <tr>\n",
       "      <th>대구</th>\n",
       "      <td>경상권</td>\n",
       "      <td>2466052</td>\n",
       "      <td>2431774</td>\n",
       "      <td>2456016</td>\n",
       "      <td>2473990</td>\n",
       "      <td>1.41</td>\n",
       "    </tr>\n",
       "  </tbody>\n",
       "</table>\n",
       "</div>"
      ],
      "text/plain": [
       "특성   지역     2015     2010     2005     2000  2010-2015 증가율\n",
       "도시                                                        \n",
       "서울  수도권  9904312  9631482  9762546  9853972           2.83\n",
       "부산  경상권  3448737  3393191  3512547  3655437           1.63\n",
       "인천  수도권  2890451  2632035  2517680  2466338           9.82\n",
       "대구  경상권  2466052  2431774  2456016  2473990           1.41"
      ]
     },
     "execution_count": 38,
     "metadata": {},
     "output_type": "execute_result"
    }
   ],
   "source": [
    "df['2010-2015 증가율'] = df['2010-2015 증가율'] * 100\n",
    "df"
   ]
  },
  {
   "cell_type": "code",
   "execution_count": 40,
   "id": "adf290a2",
   "metadata": {
    "ExecuteTime": {
     "end_time": "2023-09-26T01:20:07.581826Z",
     "start_time": "2023-09-26T01:20:07.557479Z"
    }
   },
   "outputs": [
    {
     "data": {
      "text/html": [
       "<div>\n",
       "<style scoped>\n",
       "    .dataframe tbody tr th:only-of-type {\n",
       "        vertical-align: middle;\n",
       "    }\n",
       "\n",
       "    .dataframe tbody tr th {\n",
       "        vertical-align: top;\n",
       "    }\n",
       "\n",
       "    .dataframe thead th {\n",
       "        text-align: right;\n",
       "    }\n",
       "</style>\n",
       "<table border=\"1\" class=\"dataframe\">\n",
       "  <thead>\n",
       "    <tr style=\"text-align: right;\">\n",
       "      <th>특성</th>\n",
       "      <th>지역</th>\n",
       "      <th>2015</th>\n",
       "      <th>2010</th>\n",
       "      <th>2005</th>\n",
       "      <th>2000</th>\n",
       "      <th>2010-2015 증가율</th>\n",
       "      <th>2005-2010 증가율</th>\n",
       "    </tr>\n",
       "    <tr>\n",
       "      <th>도시</th>\n",
       "      <th></th>\n",
       "      <th></th>\n",
       "      <th></th>\n",
       "      <th></th>\n",
       "      <th></th>\n",
       "      <th></th>\n",
       "      <th></th>\n",
       "    </tr>\n",
       "  </thead>\n",
       "  <tbody>\n",
       "    <tr>\n",
       "      <th>서울</th>\n",
       "      <td>수도권</td>\n",
       "      <td>9904312</td>\n",
       "      <td>9631482</td>\n",
       "      <td>9762546</td>\n",
       "      <td>9853972</td>\n",
       "      <td>2.83</td>\n",
       "      <td>-1.34</td>\n",
       "    </tr>\n",
       "    <tr>\n",
       "      <th>부산</th>\n",
       "      <td>경상권</td>\n",
       "      <td>3448737</td>\n",
       "      <td>3393191</td>\n",
       "      <td>3512547</td>\n",
       "      <td>3655437</td>\n",
       "      <td>1.63</td>\n",
       "      <td>-3.40</td>\n",
       "    </tr>\n",
       "    <tr>\n",
       "      <th>인천</th>\n",
       "      <td>수도권</td>\n",
       "      <td>2890451</td>\n",
       "      <td>2632035</td>\n",
       "      <td>2517680</td>\n",
       "      <td>2466338</td>\n",
       "      <td>9.82</td>\n",
       "      <td>4.54</td>\n",
       "    </tr>\n",
       "    <tr>\n",
       "      <th>대구</th>\n",
       "      <td>경상권</td>\n",
       "      <td>2466052</td>\n",
       "      <td>2431774</td>\n",
       "      <td>2456016</td>\n",
       "      <td>2473990</td>\n",
       "      <td>1.41</td>\n",
       "      <td>-0.99</td>\n",
       "    </tr>\n",
       "  </tbody>\n",
       "</table>\n",
       "</div>"
      ],
      "text/plain": [
       "특성   지역     2015     2010     2005     2000  2010-2015 증가율  2005-2010 증가율\n",
       "도시                                                                       \n",
       "서울  수도권  9904312  9631482  9762546  9853972           2.83          -1.34\n",
       "부산  경상권  3448737  3393191  3512547  3655437           1.63          -3.40\n",
       "인천  수도권  2890451  2632035  2517680  2466338           9.82           4.54\n",
       "대구  경상권  2466052  2431774  2456016  2473990           1.41          -0.99"
      ]
     },
     "execution_count": 40,
     "metadata": {},
     "output_type": "execute_result"
    }
   ],
   "source": [
    "# '2005-2010 증가율' 열 추가\n",
    "df['2005-2010 증가율'] = (((df['2010'] - df['2005']) / df['2005']) *100).round(2)\n",
    "df"
   ]
  },
  {
   "cell_type": "markdown",
   "id": "6385da7f",
   "metadata": {},
   "source": [
    "### 열 인덱싱\n",
    "- 딕셔너리와 비슷\n",
    "- 열이름이 딕셔너리의 키와 같다"
   ]
  },
  {
   "cell_type": "code",
   "execution_count": 41,
   "id": "5167f8c4",
   "metadata": {
    "ExecuteTime": {
     "end_time": "2023-09-26T01:22:26.892948Z",
     "start_time": "2023-09-26T01:22:26.874336Z"
    }
   },
   "outputs": [
    {
     "data": {
      "text/plain": [
       "도시\n",
       "서울    수도권\n",
       "부산    경상권\n",
       "인천    수도권\n",
       "대구    경상권\n",
       "Name: 지역, dtype: object"
      ]
     },
     "execution_count": 41,
     "metadata": {},
     "output_type": "execute_result"
    }
   ],
   "source": [
    "# 데이터프레임에서 하나의 열만 추출하면 시리즈 객체로 반환된다.\n",
    "df['지역']"
   ]
  },
  {
   "cell_type": "code",
   "execution_count": 42,
   "id": "1b28d228",
   "metadata": {
    "ExecuteTime": {
     "end_time": "2023-09-26T01:24:15.739462Z",
     "start_time": "2023-09-26T01:24:15.711665Z"
    }
   },
   "outputs": [
    {
     "data": {
      "text/html": [
       "<div>\n",
       "<style scoped>\n",
       "    .dataframe tbody tr th:only-of-type {\n",
       "        vertical-align: middle;\n",
       "    }\n",
       "\n",
       "    .dataframe tbody tr th {\n",
       "        vertical-align: top;\n",
       "    }\n",
       "\n",
       "    .dataframe thead th {\n",
       "        text-align: right;\n",
       "    }\n",
       "</style>\n",
       "<table border=\"1\" class=\"dataframe\">\n",
       "  <thead>\n",
       "    <tr style=\"text-align: right;\">\n",
       "      <th>특성</th>\n",
       "      <th>2010</th>\n",
       "      <th>2015</th>\n",
       "    </tr>\n",
       "    <tr>\n",
       "      <th>도시</th>\n",
       "      <th></th>\n",
       "      <th></th>\n",
       "    </tr>\n",
       "  </thead>\n",
       "  <tbody>\n",
       "    <tr>\n",
       "      <th>서울</th>\n",
       "      <td>9631482</td>\n",
       "      <td>9904312</td>\n",
       "    </tr>\n",
       "    <tr>\n",
       "      <th>부산</th>\n",
       "      <td>3393191</td>\n",
       "      <td>3448737</td>\n",
       "    </tr>\n",
       "    <tr>\n",
       "      <th>인천</th>\n",
       "      <td>2632035</td>\n",
       "      <td>2890451</td>\n",
       "    </tr>\n",
       "    <tr>\n",
       "      <th>대구</th>\n",
       "      <td>2431774</td>\n",
       "      <td>2466052</td>\n",
       "    </tr>\n",
       "  </tbody>\n",
       "</table>\n",
       "</div>"
      ],
      "text/plain": [
       "특성     2010     2015\n",
       "도시                  \n",
       "서울  9631482  9904312\n",
       "부산  3393191  3448737\n",
       "인천  2632035  2890451\n",
       "대구  2431774  2466052"
      ]
     },
     "execution_count": 42,
     "metadata": {},
     "output_type": "execute_result"
    }
   ],
   "source": [
    "# 여러 개의 열 인덱스로 추출하면 데이터프레임으로 반환된다\n",
    "df[['2010', '2015']]"
   ]
  },
  {
   "cell_type": "code",
   "execution_count": 43,
   "id": "92cece6a",
   "metadata": {
    "ExecuteTime": {
     "end_time": "2023-09-26T01:24:22.606263Z",
     "start_time": "2023-09-26T01:24:22.595226Z"
    }
   },
   "outputs": [
    {
     "data": {
      "text/html": [
       "<div>\n",
       "<style scoped>\n",
       "    .dataframe tbody tr th:only-of-type {\n",
       "        vertical-align: middle;\n",
       "    }\n",
       "\n",
       "    .dataframe tbody tr th {\n",
       "        vertical-align: top;\n",
       "    }\n",
       "\n",
       "    .dataframe thead th {\n",
       "        text-align: right;\n",
       "    }\n",
       "</style>\n",
       "<table border=\"1\" class=\"dataframe\">\n",
       "  <thead>\n",
       "    <tr style=\"text-align: right;\">\n",
       "      <th>특성</th>\n",
       "      <th>지역</th>\n",
       "    </tr>\n",
       "    <tr>\n",
       "      <th>도시</th>\n",
       "      <th></th>\n",
       "    </tr>\n",
       "  </thead>\n",
       "  <tbody>\n",
       "    <tr>\n",
       "      <th>서울</th>\n",
       "      <td>수도권</td>\n",
       "    </tr>\n",
       "    <tr>\n",
       "      <th>부산</th>\n",
       "      <td>경상권</td>\n",
       "    </tr>\n",
       "    <tr>\n",
       "      <th>인천</th>\n",
       "      <td>수도권</td>\n",
       "    </tr>\n",
       "    <tr>\n",
       "      <th>대구</th>\n",
       "      <td>경상권</td>\n",
       "    </tr>\n",
       "  </tbody>\n",
       "</table>\n",
       "</div>"
      ],
      "text/plain": [
       "특성   지역\n",
       "도시     \n",
       "서울  수도권\n",
       "부산  경상권\n",
       "인천  수도권\n",
       "대구  경상권"
      ]
     },
     "execution_count": 43,
     "metadata": {},
     "output_type": "execute_result"
    }
   ],
   "source": [
    "df[['지역']]"
   ]
  },
  {
   "cell_type": "code",
   "execution_count": 45,
   "id": "c4935a2c",
   "metadata": {
    "ExecuteTime": {
     "end_time": "2023-09-26T01:27:23.106589Z",
     "start_time": "2023-09-26T01:27:23.095572Z"
    }
   },
   "outputs": [
    {
     "data": {
      "text/html": [
       "<div>\n",
       "<style scoped>\n",
       "    .dataframe tbody tr th:only-of-type {\n",
       "        vertical-align: middle;\n",
       "    }\n",
       "\n",
       "    .dataframe tbody tr th {\n",
       "        vertical-align: top;\n",
       "    }\n",
       "\n",
       "    .dataframe thead th {\n",
       "        text-align: right;\n",
       "    }\n",
       "</style>\n",
       "<table border=\"1\" class=\"dataframe\">\n",
       "  <thead>\n",
       "    <tr style=\"text-align: right;\">\n",
       "      <th></th>\n",
       "      <th>weight</th>\n",
       "      <th>height</th>\n",
       "      <th>gender</th>\n",
       "    </tr>\n",
       "  </thead>\n",
       "  <tbody>\n",
       "    <tr>\n",
       "      <th>0</th>\n",
       "      <td>80.0</td>\n",
       "      <td>190</td>\n",
       "      <td>m</td>\n",
       "    </tr>\n",
       "    <tr>\n",
       "      <th>1</th>\n",
       "      <td>50.0</td>\n",
       "      <td>170</td>\n",
       "      <td>f</td>\n",
       "    </tr>\n",
       "    <tr>\n",
       "      <th>2</th>\n",
       "      <td>69.0</td>\n",
       "      <td>178</td>\n",
       "      <td>m</td>\n",
       "    </tr>\n",
       "    <tr>\n",
       "      <th>3</th>\n",
       "      <td>34.5</td>\n",
       "      <td>146</td>\n",
       "      <td>f</td>\n",
       "    </tr>\n",
       "    <tr>\n",
       "      <th>4</th>\n",
       "      <td>45.0</td>\n",
       "      <td>150</td>\n",
       "      <td>f</td>\n",
       "    </tr>\n",
       "  </tbody>\n",
       "</table>\n",
       "</div>"
      ],
      "text/plain": [
       "   weight  height gender\n",
       "0    80.0     190      m\n",
       "1    50.0     170      f\n",
       "2    69.0     178      m\n",
       "3    34.5     146      f\n",
       "4    45.0     150      f"
      ]
     },
     "execution_count": 45,
     "metadata": {},
     "output_type": "execute_result"
    }
   ],
   "source": [
    "tb1 = pd.DataFrame({\n",
    "    'weight':[80,50,69,34.5,45],\n",
    "    'height':[190,170,178,146,150],\n",
    "    'gender':['m', 'f', 'm', 'f', 'f']\n",
    "})\n",
    "tb1"
   ]
  },
  {
   "cell_type": "code",
   "execution_count": 46,
   "id": "78aff88c",
   "metadata": {
    "ExecuteTime": {
     "end_time": "2023-09-26T01:27:31.581425Z",
     "start_time": "2023-09-26T01:27:31.559996Z"
    }
   },
   "outputs": [
    {
     "data": {
      "text/plain": [
       "pandas.core.frame.DataFrame"
      ]
     },
     "execution_count": 46,
     "metadata": {},
     "output_type": "execute_result"
    }
   ],
   "source": [
    "type(tb1)"
   ]
  },
  {
   "cell_type": "code",
   "execution_count": 47,
   "id": "5b753113",
   "metadata": {
    "ExecuteTime": {
     "end_time": "2023-09-26T01:30:24.161741Z",
     "start_time": "2023-09-26T01:30:24.140973Z"
    }
   },
   "outputs": [
    {
     "data": {
      "text/html": [
       "<div>\n",
       "<style scoped>\n",
       "    .dataframe tbody tr th:only-of-type {\n",
       "        vertical-align: middle;\n",
       "    }\n",
       "\n",
       "    .dataframe tbody tr th {\n",
       "        vertical-align: top;\n",
       "    }\n",
       "\n",
       "    .dataframe thead th {\n",
       "        text-align: right;\n",
       "    }\n",
       "</style>\n",
       "<table border=\"1\" class=\"dataframe\">\n",
       "  <thead>\n",
       "    <tr style=\"text-align: right;\">\n",
       "      <th></th>\n",
       "      <th>weight</th>\n",
       "      <th>height</th>\n",
       "      <th>gender</th>\n",
       "    </tr>\n",
       "  </thead>\n",
       "  <tbody>\n",
       "    <tr>\n",
       "      <th>0</th>\n",
       "      <td>80.0</td>\n",
       "      <td>190</td>\n",
       "      <td>m</td>\n",
       "    </tr>\n",
       "    <tr>\n",
       "      <th>1</th>\n",
       "      <td>50.0</td>\n",
       "      <td>170</td>\n",
       "      <td>f</td>\n",
       "    </tr>\n",
       "    <tr>\n",
       "      <th>2</th>\n",
       "      <td>69.0</td>\n",
       "      <td>178</td>\n",
       "      <td>m</td>\n",
       "    </tr>\n",
       "  </tbody>\n",
       "</table>\n",
       "</div>"
      ],
      "text/plain": [
       "   weight  height gender\n",
       "0    80.0     190      m\n",
       "1    50.0     170      f\n",
       "2    69.0     178      m"
      ]
     },
     "execution_count": 47,
     "metadata": {},
     "output_type": "execute_result"
    }
   ],
   "source": [
    "tb1[tb1['height'] >= 160]"
   ]
  },
  {
   "cell_type": "code",
   "execution_count": 48,
   "id": "b91d1b4f",
   "metadata": {
    "ExecuteTime": {
     "end_time": "2023-09-26T01:30:41.567534Z",
     "start_time": "2023-09-26T01:30:41.547630Z"
    }
   },
   "outputs": [
    {
     "data": {
      "text/html": [
       "<div>\n",
       "<style scoped>\n",
       "    .dataframe tbody tr th:only-of-type {\n",
       "        vertical-align: middle;\n",
       "    }\n",
       "\n",
       "    .dataframe tbody tr th {\n",
       "        vertical-align: top;\n",
       "    }\n",
       "\n",
       "    .dataframe thead th {\n",
       "        text-align: right;\n",
       "    }\n",
       "</style>\n",
       "<table border=\"1\" class=\"dataframe\">\n",
       "  <thead>\n",
       "    <tr style=\"text-align: right;\">\n",
       "      <th></th>\n",
       "      <th>weight</th>\n",
       "      <th>height</th>\n",
       "      <th>gender</th>\n",
       "    </tr>\n",
       "  </thead>\n",
       "  <tbody>\n",
       "    <tr>\n",
       "      <th>0</th>\n",
       "      <td>80.0</td>\n",
       "      <td>190</td>\n",
       "      <td>m</td>\n",
       "    </tr>\n",
       "    <tr>\n",
       "      <th>1</th>\n",
       "      <td>50.0</td>\n",
       "      <td>170</td>\n",
       "      <td>f</td>\n",
       "    </tr>\n",
       "    <tr>\n",
       "      <th>2</th>\n",
       "      <td>69.0</td>\n",
       "      <td>178</td>\n",
       "      <td>m</td>\n",
       "    </tr>\n",
       "  </tbody>\n",
       "</table>\n",
       "</div>"
      ],
      "text/plain": [
       "   weight  height gender\n",
       "0    80.0     190      m\n",
       "1    50.0     170      f\n",
       "2    69.0     178      m"
      ]
     },
     "execution_count": 48,
     "metadata": {},
     "output_type": "execute_result"
    }
   ],
   "source": [
    "tb1[tb1.height >= 160]"
   ]
  },
  {
   "cell_type": "code",
   "execution_count": 49,
   "id": "b7fd475a",
   "metadata": {
    "ExecuteTime": {
     "end_time": "2023-09-26T01:32:57.596611Z",
     "start_time": "2023-09-26T01:32:57.586294Z"
    }
   },
   "outputs": [
    {
     "data": {
      "text/html": [
       "<div>\n",
       "<style scoped>\n",
       "    .dataframe tbody tr th:only-of-type {\n",
       "        vertical-align: middle;\n",
       "    }\n",
       "\n",
       "    .dataframe tbody tr th {\n",
       "        vertical-align: top;\n",
       "    }\n",
       "\n",
       "    .dataframe thead th {\n",
       "        text-align: right;\n",
       "    }\n",
       "</style>\n",
       "<table border=\"1\" class=\"dataframe\">\n",
       "  <thead>\n",
       "    <tr style=\"text-align: right;\">\n",
       "      <th></th>\n",
       "      <th>weight</th>\n",
       "      <th>height</th>\n",
       "      <th>gender</th>\n",
       "    </tr>\n",
       "  </thead>\n",
       "  <tbody>\n",
       "    <tr>\n",
       "      <th>3</th>\n",
       "      <td>34.5</td>\n",
       "      <td>146</td>\n",
       "      <td>f</td>\n",
       "    </tr>\n",
       "    <tr>\n",
       "      <th>4</th>\n",
       "      <td>45.0</td>\n",
       "      <td>150</td>\n",
       "      <td>f</td>\n",
       "    </tr>\n",
       "    <tr>\n",
       "      <th>1</th>\n",
       "      <td>50.0</td>\n",
       "      <td>170</td>\n",
       "      <td>f</td>\n",
       "    </tr>\n",
       "    <tr>\n",
       "      <th>2</th>\n",
       "      <td>69.0</td>\n",
       "      <td>178</td>\n",
       "      <td>m</td>\n",
       "    </tr>\n",
       "    <tr>\n",
       "      <th>0</th>\n",
       "      <td>80.0</td>\n",
       "      <td>190</td>\n",
       "      <td>m</td>\n",
       "    </tr>\n",
       "  </tbody>\n",
       "</table>\n",
       "</div>"
      ],
      "text/plain": [
       "   weight  height gender\n",
       "3    34.5     146      f\n",
       "4    45.0     150      f\n",
       "1    50.0     170      f\n",
       "2    69.0     178      m\n",
       "0    80.0     190      m"
      ]
     },
     "execution_count": 49,
     "metadata": {},
     "output_type": "execute_result"
    }
   ],
   "source": [
    "# 값을 대상으로 오름차순 정렬, ascending=True 생략된 개념\n",
    "tb1.sort_values('height')"
   ]
  },
  {
   "cell_type": "code",
   "execution_count": 50,
   "id": "4c2f301b",
   "metadata": {
    "ExecuteTime": {
     "end_time": "2023-09-26T01:33:19.812715Z",
     "start_time": "2023-09-26T01:33:19.791577Z"
    }
   },
   "outputs": [
    {
     "data": {
      "text/html": [
       "<div>\n",
       "<style scoped>\n",
       "    .dataframe tbody tr th:only-of-type {\n",
       "        vertical-align: middle;\n",
       "    }\n",
       "\n",
       "    .dataframe tbody tr th {\n",
       "        vertical-align: top;\n",
       "    }\n",
       "\n",
       "    .dataframe thead th {\n",
       "        text-align: right;\n",
       "    }\n",
       "</style>\n",
       "<table border=\"1\" class=\"dataframe\">\n",
       "  <thead>\n",
       "    <tr style=\"text-align: right;\">\n",
       "      <th></th>\n",
       "      <th>weight</th>\n",
       "      <th>height</th>\n",
       "      <th>gender</th>\n",
       "    </tr>\n",
       "  </thead>\n",
       "  <tbody>\n",
       "    <tr>\n",
       "      <th>0</th>\n",
       "      <td>80.0</td>\n",
       "      <td>190</td>\n",
       "      <td>m</td>\n",
       "    </tr>\n",
       "    <tr>\n",
       "      <th>2</th>\n",
       "      <td>69.0</td>\n",
       "      <td>178</td>\n",
       "      <td>m</td>\n",
       "    </tr>\n",
       "    <tr>\n",
       "      <th>1</th>\n",
       "      <td>50.0</td>\n",
       "      <td>170</td>\n",
       "      <td>f</td>\n",
       "    </tr>\n",
       "    <tr>\n",
       "      <th>4</th>\n",
       "      <td>45.0</td>\n",
       "      <td>150</td>\n",
       "      <td>f</td>\n",
       "    </tr>\n",
       "    <tr>\n",
       "      <th>3</th>\n",
       "      <td>34.5</td>\n",
       "      <td>146</td>\n",
       "      <td>f</td>\n",
       "    </tr>\n",
       "  </tbody>\n",
       "</table>\n",
       "</div>"
      ],
      "text/plain": [
       "   weight  height gender\n",
       "0    80.0     190      m\n",
       "2    69.0     178      m\n",
       "1    50.0     170      f\n",
       "4    45.0     150      f\n",
       "3    34.5     146      f"
      ]
     },
     "execution_count": 50,
     "metadata": {},
     "output_type": "execute_result"
    }
   ],
   "source": [
    "tb1.sort_values('height', ascending=False)  # 내림차순"
   ]
  },
  {
   "cell_type": "code",
   "execution_count": 51,
   "id": "2f28e5a1",
   "metadata": {
    "ExecuteTime": {
     "end_time": "2023-09-26T01:33:35.308265Z",
     "start_time": "2023-09-26T01:33:35.287410Z"
    }
   },
   "outputs": [
    {
     "data": {
      "text/plain": [
       "<bound method NDFrame.keys of    weight  height gender\n",
       "0    80.0     190      m\n",
       "1    50.0     170      f\n",
       "2    69.0     178      m\n",
       "3    34.5     146      f\n",
       "4    45.0     150      f>"
      ]
     },
     "execution_count": 51,
     "metadata": {},
     "output_type": "execute_result"
    }
   ],
   "source": [
    "tb1.keys"
   ]
  },
  {
   "cell_type": "code",
   "execution_count": 52,
   "id": "959ebeea",
   "metadata": {
    "ExecuteTime": {
     "end_time": "2023-09-26T01:35:00.270143Z",
     "start_time": "2023-09-26T01:35:00.262170Z"
    }
   },
   "outputs": [
    {
     "data": {
      "text/plain": [
       "Index(['weight', 'height', 'gender'], dtype='object')"
      ]
     },
     "execution_count": 52,
     "metadata": {},
     "output_type": "execute_result"
    }
   ],
   "source": [
    "tb1.columns"
   ]
  },
  {
   "cell_type": "code",
   "execution_count": 53,
   "id": "bf3d3d78",
   "metadata": {
    "ExecuteTime": {
     "end_time": "2023-09-26T01:35:05.114985Z",
     "start_time": "2023-09-26T01:35:05.103496Z"
    }
   },
   "outputs": [
    {
     "data": {
      "text/plain": [
       "RangeIndex(start=0, stop=5, step=1)"
      ]
     },
     "execution_count": 53,
     "metadata": {},
     "output_type": "execute_result"
    }
   ],
   "source": [
    "tb1.index"
   ]
  },
  {
   "cell_type": "code",
   "execution_count": 54,
   "id": "cf67699a",
   "metadata": {
    "ExecuteTime": {
     "end_time": "2023-09-26T01:35:11.837860Z",
     "start_time": "2023-09-26T01:35:11.831880Z"
    }
   },
   "outputs": [
    {
     "data": {
      "text/plain": [
       "array([[80.0, 190, 'm'],\n",
       "       [50.0, 170, 'f'],\n",
       "       [69.0, 178, 'm'],\n",
       "       [34.5, 146, 'f'],\n",
       "       [45.0, 150, 'f']], dtype=object)"
      ]
     },
     "execution_count": 54,
     "metadata": {},
     "output_type": "execute_result"
    }
   ],
   "source": [
    "tb1.values"
   ]
  },
  {
   "cell_type": "code",
   "execution_count": 55,
   "id": "1bd1c02f",
   "metadata": {
    "ExecuteTime": {
     "end_time": "2023-09-26T01:36:52.382347Z",
     "start_time": "2023-09-26T01:36:52.356497Z"
    }
   },
   "outputs": [
    {
     "data": {
      "text/html": [
       "<div>\n",
       "<style scoped>\n",
       "    .dataframe tbody tr th:only-of-type {\n",
       "        vertical-align: middle;\n",
       "    }\n",
       "\n",
       "    .dataframe tbody tr th {\n",
       "        vertical-align: top;\n",
       "    }\n",
       "\n",
       "    .dataframe thead th {\n",
       "        text-align: right;\n",
       "    }\n",
       "</style>\n",
       "<table border=\"1\" class=\"dataframe\">\n",
       "  <thead>\n",
       "    <tr style=\"text-align: right;\">\n",
       "      <th></th>\n",
       "      <th>year</th>\n",
       "      <th>names</th>\n",
       "      <th>points</th>\n",
       "      <th>penalty</th>\n",
       "    </tr>\n",
       "  </thead>\n",
       "  <tbody>\n",
       "    <tr>\n",
       "      <th>one</th>\n",
       "      <td>2014</td>\n",
       "      <td>김철수</td>\n",
       "      <td>1.5</td>\n",
       "      <td>NaN</td>\n",
       "    </tr>\n",
       "    <tr>\n",
       "      <th>two</th>\n",
       "      <td>2015</td>\n",
       "      <td>이철호</td>\n",
       "      <td>1.7</td>\n",
       "      <td>NaN</td>\n",
       "    </tr>\n",
       "    <tr>\n",
       "      <th>three</th>\n",
       "      <td>2016</td>\n",
       "      <td>김영희</td>\n",
       "      <td>3.6</td>\n",
       "      <td>NaN</td>\n",
       "    </tr>\n",
       "    <tr>\n",
       "      <th>four</th>\n",
       "      <td>2017</td>\n",
       "      <td>박민수</td>\n",
       "      <td>2.4</td>\n",
       "      <td>NaN</td>\n",
       "    </tr>\n",
       "    <tr>\n",
       "      <th>five</th>\n",
       "      <td>2018</td>\n",
       "      <td>송철호</td>\n",
       "      <td>2.9</td>\n",
       "      <td>NaN</td>\n",
       "    </tr>\n",
       "  </tbody>\n",
       "</table>\n",
       "</div>"
      ],
      "text/plain": [
       "       year names  points penalty\n",
       "one    2014   김철수     1.5     NaN\n",
       "two    2015   이철호     1.7     NaN\n",
       "three  2016   김영희     3.6     NaN\n",
       "four   2017   박민수     2.4     NaN\n",
       "five   2018   송철호     2.9     NaN"
      ]
     },
     "execution_count": 55,
     "metadata": {},
     "output_type": "execute_result"
    }
   ],
   "source": [
    "data={\n",
    "    \"names\": [\"김철수\",\"이철호\",\"김영희\",\"박민수\",\"송철호\"],\n",
    "    \"year\": [2014,2015,2016,2017,2018],\n",
    "    \"points\": [1.5, 1.7, 3.6, 2.4, 2.9]\n",
    "}\n",
    "df2 = pd.DataFrame(data, \n",
    "                  columns=['year', 'names', 'points', 'penalty'],\n",
    "                  index=['one', 'two', 'three', 'four', 'five'])\n",
    "df2"
   ]
  },
  {
   "cell_type": "code",
   "execution_count": 56,
   "id": "53e6ee86",
   "metadata": {
    "ExecuteTime": {
     "end_time": "2023-09-26T01:40:32.684880Z",
     "start_time": "2023-09-26T01:40:32.667661Z"
    }
   },
   "outputs": [
    {
     "data": {
      "text/html": [
       "<div>\n",
       "<style scoped>\n",
       "    .dataframe tbody tr th:only-of-type {\n",
       "        vertical-align: middle;\n",
       "    }\n",
       "\n",
       "    .dataframe tbody tr th {\n",
       "        vertical-align: top;\n",
       "    }\n",
       "\n",
       "    .dataframe thead th {\n",
       "        text-align: right;\n",
       "    }\n",
       "</style>\n",
       "<table border=\"1\" class=\"dataframe\">\n",
       "  <thead>\n",
       "    <tr style=\"text-align: right;\">\n",
       "      <th></th>\n",
       "      <th>year</th>\n",
       "      <th>names</th>\n",
       "      <th>points</th>\n",
       "      <th>penalty</th>\n",
       "    </tr>\n",
       "  </thead>\n",
       "  <tbody>\n",
       "    <tr>\n",
       "      <th>one</th>\n",
       "      <td>2014</td>\n",
       "      <td>김철수</td>\n",
       "      <td>1.5</td>\n",
       "      <td>0</td>\n",
       "    </tr>\n",
       "    <tr>\n",
       "      <th>two</th>\n",
       "      <td>2015</td>\n",
       "      <td>이철호</td>\n",
       "      <td>1.7</td>\n",
       "      <td>0</td>\n",
       "    </tr>\n",
       "    <tr>\n",
       "      <th>three</th>\n",
       "      <td>2016</td>\n",
       "      <td>김영희</td>\n",
       "      <td>3.6</td>\n",
       "      <td>0</td>\n",
       "    </tr>\n",
       "    <tr>\n",
       "      <th>four</th>\n",
       "      <td>2017</td>\n",
       "      <td>박민수</td>\n",
       "      <td>2.4</td>\n",
       "      <td>0</td>\n",
       "    </tr>\n",
       "    <tr>\n",
       "      <th>five</th>\n",
       "      <td>2018</td>\n",
       "      <td>송철호</td>\n",
       "      <td>2.9</td>\n",
       "      <td>0</td>\n",
       "    </tr>\n",
       "  </tbody>\n",
       "</table>\n",
       "</div>"
      ],
      "text/plain": [
       "       year names  points  penalty\n",
       "one    2014   김철수     1.5        0\n",
       "two    2015   이철호     1.7        0\n",
       "three  2016   김영희     3.6        0\n",
       "four   2017   박민수     2.4        0\n",
       "five   2018   송철호     2.9        0"
      ]
     },
     "execution_count": 56,
     "metadata": {},
     "output_type": "execute_result"
    }
   ],
   "source": [
    "# 결측값: Na, NaN\n",
    "# 보간법: 대체법, fillna(값)\n",
    "df3 = df2.fillna(0)\n",
    "df3"
   ]
  },
  {
   "cell_type": "code",
   "execution_count": 57,
   "id": "00b3c3c9",
   "metadata": {
    "ExecuteTime": {
     "end_time": "2023-09-26T01:41:04.626419Z",
     "start_time": "2023-09-26T01:41:04.591429Z"
    }
   },
   "outputs": [
    {
     "data": {
      "text/html": [
       "<div>\n",
       "<style scoped>\n",
       "    .dataframe tbody tr th:only-of-type {\n",
       "        vertical-align: middle;\n",
       "    }\n",
       "\n",
       "    .dataframe tbody tr th {\n",
       "        vertical-align: top;\n",
       "    }\n",
       "\n",
       "    .dataframe thead th {\n",
       "        text-align: right;\n",
       "    }\n",
       "</style>\n",
       "<table border=\"1\" class=\"dataframe\">\n",
       "  <thead>\n",
       "    <tr style=\"text-align: right;\">\n",
       "      <th></th>\n",
       "      <th>year</th>\n",
       "      <th>points</th>\n",
       "      <th>penalty</th>\n",
       "    </tr>\n",
       "  </thead>\n",
       "  <tbody>\n",
       "    <tr>\n",
       "      <th>count</th>\n",
       "      <td>5.000000</td>\n",
       "      <td>5.000000</td>\n",
       "      <td>5.0</td>\n",
       "    </tr>\n",
       "    <tr>\n",
       "      <th>mean</th>\n",
       "      <td>2016.000000</td>\n",
       "      <td>2.420000</td>\n",
       "      <td>0.0</td>\n",
       "    </tr>\n",
       "    <tr>\n",
       "      <th>std</th>\n",
       "      <td>1.581139</td>\n",
       "      <td>0.864292</td>\n",
       "      <td>0.0</td>\n",
       "    </tr>\n",
       "    <tr>\n",
       "      <th>min</th>\n",
       "      <td>2014.000000</td>\n",
       "      <td>1.500000</td>\n",
       "      <td>0.0</td>\n",
       "    </tr>\n",
       "    <tr>\n",
       "      <th>25%</th>\n",
       "      <td>2015.000000</td>\n",
       "      <td>1.700000</td>\n",
       "      <td>0.0</td>\n",
       "    </tr>\n",
       "    <tr>\n",
       "      <th>50%</th>\n",
       "      <td>2016.000000</td>\n",
       "      <td>2.400000</td>\n",
       "      <td>0.0</td>\n",
       "    </tr>\n",
       "    <tr>\n",
       "      <th>75%</th>\n",
       "      <td>2017.000000</td>\n",
       "      <td>2.900000</td>\n",
       "      <td>0.0</td>\n",
       "    </tr>\n",
       "    <tr>\n",
       "      <th>max</th>\n",
       "      <td>2018.000000</td>\n",
       "      <td>3.600000</td>\n",
       "      <td>0.0</td>\n",
       "    </tr>\n",
       "  </tbody>\n",
       "</table>\n",
       "</div>"
      ],
      "text/plain": [
       "              year    points  penalty\n",
       "count     5.000000  5.000000      5.0\n",
       "mean   2016.000000  2.420000      0.0\n",
       "std       1.581139  0.864292      0.0\n",
       "min    2014.000000  1.500000      0.0\n",
       "25%    2015.000000  1.700000      0.0\n",
       "50%    2016.000000  2.400000      0.0\n",
       "75%    2017.000000  2.900000      0.0\n",
       "max    2018.000000  3.600000      0.0"
      ]
     },
     "execution_count": 57,
     "metadata": {},
     "output_type": "execute_result"
    }
   ],
   "source": [
    "# 숫자 데이터의 기초 통계량을 추출하는 함수\n",
    "df3.describe()\n",
    "# count, mean, std, min, max, 사분위수"
   ]
  },
  {
   "cell_type": "code",
   "execution_count": 58,
   "id": "6c579968",
   "metadata": {
    "ExecuteTime": {
     "end_time": "2023-09-26T01:41:22.408267Z",
     "start_time": "2023-09-26T01:41:22.389149Z"
    }
   },
   "outputs": [
    {
     "name": "stdout",
     "output_type": "stream",
     "text": [
      "<class 'pandas.core.frame.DataFrame'>\n",
      "Index: 5 entries, one to five\n",
      "Data columns (total 4 columns):\n",
      " #   Column   Non-Null Count  Dtype  \n",
      "---  ------   --------------  -----  \n",
      " 0   year     5 non-null      int64  \n",
      " 1   names    5 non-null      object \n",
      " 2   points   5 non-null      float64\n",
      " 3   penalty  5 non-null      int64  \n",
      "dtypes: float64(1), int64(2), object(1)\n",
      "memory usage: 200.0+ bytes\n"
     ]
    }
   ],
   "source": [
    "# 데이터프레임에 대한 정보 추출'\n",
    "df3.info()"
   ]
  },
  {
   "cell_type": "code",
   "execution_count": 59,
   "id": "631eff6b",
   "metadata": {
    "ExecuteTime": {
     "end_time": "2023-09-26T01:43:35.145006Z",
     "start_time": "2023-09-26T01:43:35.129773Z"
    }
   },
   "outputs": [
    {
     "data": {
      "text/html": [
       "<div>\n",
       "<style scoped>\n",
       "    .dataframe tbody tr th:only-of-type {\n",
       "        vertical-align: middle;\n",
       "    }\n",
       "\n",
       "    .dataframe tbody tr th {\n",
       "        vertical-align: top;\n",
       "    }\n",
       "\n",
       "    .dataframe thead th {\n",
       "        text-align: right;\n",
       "    }\n",
       "</style>\n",
       "<table border=\"1\" class=\"dataframe\">\n",
       "  <thead>\n",
       "    <tr style=\"text-align: right;\">\n",
       "      <th></th>\n",
       "      <th>year</th>\n",
       "      <th>names</th>\n",
       "      <th>points</th>\n",
       "      <th>penalty</th>\n",
       "    </tr>\n",
       "  </thead>\n",
       "  <tbody>\n",
       "    <tr>\n",
       "      <th>one</th>\n",
       "      <td>2014</td>\n",
       "      <td>김철수</td>\n",
       "      <td>1.5</td>\n",
       "      <td>0.1</td>\n",
       "    </tr>\n",
       "    <tr>\n",
       "      <th>two</th>\n",
       "      <td>2015</td>\n",
       "      <td>이철호</td>\n",
       "      <td>1.7</td>\n",
       "      <td>0.2</td>\n",
       "    </tr>\n",
       "    <tr>\n",
       "      <th>three</th>\n",
       "      <td>2016</td>\n",
       "      <td>김영희</td>\n",
       "      <td>3.6</td>\n",
       "      <td>0.3</td>\n",
       "    </tr>\n",
       "    <tr>\n",
       "      <th>four</th>\n",
       "      <td>2017</td>\n",
       "      <td>박민수</td>\n",
       "      <td>2.4</td>\n",
       "      <td>0.4</td>\n",
       "    </tr>\n",
       "    <tr>\n",
       "      <th>five</th>\n",
       "      <td>2018</td>\n",
       "      <td>송철호</td>\n",
       "      <td>2.9</td>\n",
       "      <td>0.5</td>\n",
       "    </tr>\n",
       "  </tbody>\n",
       "</table>\n",
       "</div>"
      ],
      "text/plain": [
       "       year names  points  penalty\n",
       "one    2014   김철수     1.5      0.1\n",
       "two    2015   이철호     1.7      0.2\n",
       "three  2016   김영희     3.6      0.3\n",
       "four   2017   박민수     2.4      0.4\n",
       "five   2018   송철호     2.9      0.5"
      ]
     },
     "execution_count": 59,
     "metadata": {},
     "output_type": "execute_result"
    }
   ],
   "source": [
    "df3['penalty'] = [0.1,0.2,00.3,0.4,0.5]\n",
    "df3"
   ]
  },
  {
   "cell_type": "code",
   "execution_count": 60,
   "id": "515bb968",
   "metadata": {
    "ExecuteTime": {
     "end_time": "2023-09-26T01:44:29.426140Z",
     "start_time": "2023-09-26T01:44:29.410935Z"
    }
   },
   "outputs": [
    {
     "data": {
      "text/html": [
       "<div>\n",
       "<style scoped>\n",
       "    .dataframe tbody tr th:only-of-type {\n",
       "        vertical-align: middle;\n",
       "    }\n",
       "\n",
       "    .dataframe tbody tr th {\n",
       "        vertical-align: top;\n",
       "    }\n",
       "\n",
       "    .dataframe thead th {\n",
       "        text-align: right;\n",
       "    }\n",
       "</style>\n",
       "<table border=\"1\" class=\"dataframe\">\n",
       "  <thead>\n",
       "    <tr style=\"text-align: right;\">\n",
       "      <th></th>\n",
       "      <th>year</th>\n",
       "      <th>names</th>\n",
       "      <th>points</th>\n",
       "      <th>penalty</th>\n",
       "      <th>ages</th>\n",
       "    </tr>\n",
       "  </thead>\n",
       "  <tbody>\n",
       "    <tr>\n",
       "      <th>one</th>\n",
       "      <td>2014</td>\n",
       "      <td>김철수</td>\n",
       "      <td>1.5</td>\n",
       "      <td>0.1</td>\n",
       "      <td>10</td>\n",
       "    </tr>\n",
       "    <tr>\n",
       "      <th>two</th>\n",
       "      <td>2015</td>\n",
       "      <td>이철호</td>\n",
       "      <td>1.7</td>\n",
       "      <td>0.2</td>\n",
       "      <td>11</td>\n",
       "    </tr>\n",
       "    <tr>\n",
       "      <th>three</th>\n",
       "      <td>2016</td>\n",
       "      <td>김영희</td>\n",
       "      <td>3.6</td>\n",
       "      <td>0.3</td>\n",
       "      <td>12</td>\n",
       "    </tr>\n",
       "    <tr>\n",
       "      <th>four</th>\n",
       "      <td>2017</td>\n",
       "      <td>박민수</td>\n",
       "      <td>2.4</td>\n",
       "      <td>0.4</td>\n",
       "      <td>13</td>\n",
       "    </tr>\n",
       "    <tr>\n",
       "      <th>five</th>\n",
       "      <td>2018</td>\n",
       "      <td>송철호</td>\n",
       "      <td>2.9</td>\n",
       "      <td>0.5</td>\n",
       "      <td>14</td>\n",
       "    </tr>\n",
       "  </tbody>\n",
       "</table>\n",
       "</div>"
      ],
      "text/plain": [
       "       year names  points  penalty  ages\n",
       "one    2014   김철수     1.5      0.1    10\n",
       "two    2015   이철호     1.7      0.2    11\n",
       "three  2016   김영희     3.6      0.3    12\n",
       "four   2017   박민수     2.4      0.4    13\n",
       "five   2018   송철호     2.9      0.5    14"
      ]
     },
     "execution_count": 60,
     "metadata": {},
     "output_type": "execute_result"
    }
   ],
   "source": [
    "df3['ages'] = np.arange(10, 15)\n",
    "df3"
   ]
  },
  {
   "cell_type": "code",
   "execution_count": 61,
   "id": "198b201a",
   "metadata": {
    "ExecuteTime": {
     "end_time": "2023-09-26T01:44:55.785891Z",
     "start_time": "2023-09-26T01:44:55.770726Z"
    }
   },
   "outputs": [],
   "source": [
    "del df3['ages']"
   ]
  },
  {
   "cell_type": "code",
   "execution_count": 63,
   "id": "55a34cad",
   "metadata": {
    "ExecuteTime": {
     "end_time": "2023-09-26T01:45:01.657041Z",
     "start_time": "2023-09-26T01:45:01.635948Z"
    }
   },
   "outputs": [
    {
     "data": {
      "text/html": [
       "<div>\n",
       "<style scoped>\n",
       "    .dataframe tbody tr th:only-of-type {\n",
       "        vertical-align: middle;\n",
       "    }\n",
       "\n",
       "    .dataframe tbody tr th {\n",
       "        vertical-align: top;\n",
       "    }\n",
       "\n",
       "    .dataframe thead th {\n",
       "        text-align: right;\n",
       "    }\n",
       "</style>\n",
       "<table border=\"1\" class=\"dataframe\">\n",
       "  <thead>\n",
       "    <tr style=\"text-align: right;\">\n",
       "      <th></th>\n",
       "      <th>year</th>\n",
       "      <th>names</th>\n",
       "      <th>points</th>\n",
       "      <th>penalty</th>\n",
       "    </tr>\n",
       "  </thead>\n",
       "  <tbody>\n",
       "    <tr>\n",
       "      <th>one</th>\n",
       "      <td>2014</td>\n",
       "      <td>김철수</td>\n",
       "      <td>1.5</td>\n",
       "      <td>0.1</td>\n",
       "    </tr>\n",
       "    <tr>\n",
       "      <th>two</th>\n",
       "      <td>2015</td>\n",
       "      <td>이철호</td>\n",
       "      <td>1.7</td>\n",
       "      <td>0.2</td>\n",
       "    </tr>\n",
       "    <tr>\n",
       "      <th>three</th>\n",
       "      <td>2016</td>\n",
       "      <td>김영희</td>\n",
       "      <td>3.6</td>\n",
       "      <td>0.3</td>\n",
       "    </tr>\n",
       "    <tr>\n",
       "      <th>four</th>\n",
       "      <td>2017</td>\n",
       "      <td>박민수</td>\n",
       "      <td>2.4</td>\n",
       "      <td>0.4</td>\n",
       "    </tr>\n",
       "    <tr>\n",
       "      <th>five</th>\n",
       "      <td>2018</td>\n",
       "      <td>송철호</td>\n",
       "      <td>2.9</td>\n",
       "      <td>0.5</td>\n",
       "    </tr>\n",
       "  </tbody>\n",
       "</table>\n",
       "</div>"
      ],
      "text/plain": [
       "       year names  points  penalty\n",
       "one    2014   김철수     1.5      0.1\n",
       "two    2015   이철호     1.7      0.2\n",
       "three  2016   김영희     3.6      0.3\n",
       "four   2017   박민수     2.4      0.4\n",
       "five   2018   송철호     2.9      0.5"
      ]
     },
     "execution_count": 63,
     "metadata": {},
     "output_type": "execute_result"
    }
   ],
   "source": [
    "df3"
   ]
  },
  {
   "cell_type": "code",
   "execution_count": 64,
   "id": "4262ad9a",
   "metadata": {
    "ExecuteTime": {
     "end_time": "2023-09-26T01:46:25.582158Z",
     "start_time": "2023-09-26T01:46:25.562056Z"
    }
   },
   "outputs": [
    {
     "data": {
      "text/html": [
       "<div>\n",
       "<style scoped>\n",
       "    .dataframe tbody tr th:only-of-type {\n",
       "        vertical-align: middle;\n",
       "    }\n",
       "\n",
       "    .dataframe tbody tr th {\n",
       "        vertical-align: top;\n",
       "    }\n",
       "\n",
       "    .dataframe thead th {\n",
       "        text-align: right;\n",
       "    }\n",
       "</style>\n",
       "<table border=\"1\" class=\"dataframe\">\n",
       "  <thead>\n",
       "    <tr style=\"text-align: right;\">\n",
       "      <th></th>\n",
       "      <th>year</th>\n",
       "      <th>names</th>\n",
       "      <th>points</th>\n",
       "      <th>penalty</th>\n",
       "    </tr>\n",
       "  </thead>\n",
       "  <tbody>\n",
       "    <tr>\n",
       "      <th>one</th>\n",
       "      <td>2014</td>\n",
       "      <td>김철수</td>\n",
       "      <td>1.5</td>\n",
       "      <td>0.1</td>\n",
       "    </tr>\n",
       "    <tr>\n",
       "      <th>two</th>\n",
       "      <td>2015</td>\n",
       "      <td>이철호</td>\n",
       "      <td>1.7</td>\n",
       "      <td>0.2</td>\n",
       "    </tr>\n",
       "    <tr>\n",
       "      <th>three</th>\n",
       "      <td>2016</td>\n",
       "      <td>김영희</td>\n",
       "      <td>3.6</td>\n",
       "      <td>0.3</td>\n",
       "    </tr>\n",
       "  </tbody>\n",
       "</table>\n",
       "</div>"
      ],
      "text/plain": [
       "       year names  points  penalty\n",
       "one    2014   김철수     1.5      0.1\n",
       "two    2015   이철호     1.7      0.2\n",
       "three  2016   김영희     3.6      0.3"
      ]
     },
     "execution_count": 64,
     "metadata": {},
     "output_type": "execute_result"
    }
   ],
   "source": [
    "df3[0:3]"
   ]
  },
  {
   "cell_type": "code",
   "execution_count": 66,
   "id": "f532ff52",
   "metadata": {
    "ExecuteTime": {
     "end_time": "2023-09-26T01:47:01.311679Z",
     "start_time": "2023-09-26T01:47:01.301498Z"
    }
   },
   "outputs": [
    {
     "data": {
      "text/plain": [
       "year       2015\n",
       "names       이철호\n",
       "points      1.7\n",
       "penalty     0.2\n",
       "Name: two, dtype: object"
      ]
     },
     "execution_count": 66,
     "metadata": {},
     "output_type": "execute_result"
    }
   ],
   "source": [
    "df3.loc['two']  # 라벨링 되어 있는 행 인덱스 추출을 위한 .loc"
   ]
  },
  {
   "cell_type": "code",
   "execution_count": 67,
   "id": "3c3b02c1",
   "metadata": {
    "ExecuteTime": {
     "end_time": "2023-09-26T01:48:53.599573Z",
     "start_time": "2023-09-26T01:48:53.577039Z"
    }
   },
   "outputs": [
    {
     "data": {
      "text/html": [
       "<div>\n",
       "<style scoped>\n",
       "    .dataframe tbody tr th:only-of-type {\n",
       "        vertical-align: middle;\n",
       "    }\n",
       "\n",
       "    .dataframe tbody tr th {\n",
       "        vertical-align: top;\n",
       "    }\n",
       "\n",
       "    .dataframe thead th {\n",
       "        text-align: right;\n",
       "    }\n",
       "</style>\n",
       "<table border=\"1\" class=\"dataframe\">\n",
       "  <thead>\n",
       "    <tr style=\"text-align: right;\">\n",
       "      <th></th>\n",
       "      <th>year</th>\n",
       "      <th>names</th>\n",
       "      <th>points</th>\n",
       "      <th>penalty</th>\n",
       "    </tr>\n",
       "  </thead>\n",
       "  <tbody>\n",
       "    <tr>\n",
       "      <th>two</th>\n",
       "      <td>2015</td>\n",
       "      <td>이철호</td>\n",
       "      <td>1.7</td>\n",
       "      <td>0.2</td>\n",
       "    </tr>\n",
       "    <tr>\n",
       "      <th>three</th>\n",
       "      <td>2016</td>\n",
       "      <td>김영희</td>\n",
       "      <td>3.6</td>\n",
       "      <td>0.3</td>\n",
       "    </tr>\n",
       "    <tr>\n",
       "      <th>four</th>\n",
       "      <td>2017</td>\n",
       "      <td>박민수</td>\n",
       "      <td>2.4</td>\n",
       "      <td>0.4</td>\n",
       "    </tr>\n",
       "  </tbody>\n",
       "</table>\n",
       "</div>"
      ],
      "text/plain": [
       "       year names  points  penalty\n",
       "two    2015   이철호     1.7      0.2\n",
       "three  2016   김영희     3.6      0.3\n",
       "four   2017   박민수     2.4      0.4"
      ]
     },
     "execution_count": 67,
     "metadata": {},
     "output_type": "execute_result"
    }
   ],
   "source": [
    "df3.loc['two':'four']"
   ]
  },
  {
   "cell_type": "code",
   "execution_count": 68,
   "id": "71dbffa0",
   "metadata": {
    "ExecuteTime": {
     "end_time": "2023-09-26T01:49:13.406606Z",
     "start_time": "2023-09-26T01:49:13.389273Z"
    }
   },
   "outputs": [
    {
     "data": {
      "text/plain": [
       "two      1.7\n",
       "three    3.6\n",
       "four     2.4\n",
       "Name: points, dtype: float64"
      ]
     },
     "execution_count": 68,
     "metadata": {},
     "output_type": "execute_result"
    }
   ],
   "source": [
    "df3.loc['two' : 'four', 'points']"
   ]
  },
  {
   "cell_type": "code",
   "execution_count": 69,
   "id": "9c8aef2c",
   "metadata": {
    "ExecuteTime": {
     "end_time": "2023-09-26T01:50:00.939275Z",
     "start_time": "2023-09-26T01:50:00.916751Z"
    }
   },
   "outputs": [
    {
     "data": {
      "text/html": [
       "<div>\n",
       "<style scoped>\n",
       "    .dataframe tbody tr th:only-of-type {\n",
       "        vertical-align: middle;\n",
       "    }\n",
       "\n",
       "    .dataframe tbody tr th {\n",
       "        vertical-align: top;\n",
       "    }\n",
       "\n",
       "    .dataframe thead th {\n",
       "        text-align: right;\n",
       "    }\n",
       "</style>\n",
       "<table border=\"1\" class=\"dataframe\">\n",
       "  <thead>\n",
       "    <tr style=\"text-align: right;\">\n",
       "      <th></th>\n",
       "      <th>year</th>\n",
       "      <th>names</th>\n",
       "    </tr>\n",
       "  </thead>\n",
       "  <tbody>\n",
       "    <tr>\n",
       "      <th>one</th>\n",
       "      <td>2014</td>\n",
       "      <td>김철수</td>\n",
       "    </tr>\n",
       "    <tr>\n",
       "      <th>two</th>\n",
       "      <td>2015</td>\n",
       "      <td>이철호</td>\n",
       "    </tr>\n",
       "    <tr>\n",
       "      <th>three</th>\n",
       "      <td>2016</td>\n",
       "      <td>김영희</td>\n",
       "    </tr>\n",
       "    <tr>\n",
       "      <th>four</th>\n",
       "      <td>2017</td>\n",
       "      <td>박민수</td>\n",
       "    </tr>\n",
       "    <tr>\n",
       "      <th>five</th>\n",
       "      <td>2018</td>\n",
       "      <td>송철호</td>\n",
       "    </tr>\n",
       "  </tbody>\n",
       "</table>\n",
       "</div>"
      ],
      "text/plain": [
       "       year names\n",
       "one    2014   김철수\n",
       "two    2015   이철호\n",
       "three  2016   김영희\n",
       "four   2017   박민수\n",
       "five   2018   송철호"
      ]
     },
     "execution_count": 69,
     "metadata": {},
     "output_type": "execute_result"
    }
   ],
   "source": [
    "# 전체에서 특정 필드(year, names) 추출\n",
    "df3[['year', 'names']]"
   ]
  },
  {
   "cell_type": "code",
   "execution_count": 70,
   "id": "abc4603b",
   "metadata": {
    "ExecuteTime": {
     "end_time": "2023-09-26T01:51:21.432396Z",
     "start_time": "2023-09-26T01:51:21.412216Z"
    }
   },
   "outputs": [
    {
     "data": {
      "text/html": [
       "<div>\n",
       "<style scoped>\n",
       "    .dataframe tbody tr th:only-of-type {\n",
       "        vertical-align: middle;\n",
       "    }\n",
       "\n",
       "    .dataframe tbody tr th {\n",
       "        vertical-align: top;\n",
       "    }\n",
       "\n",
       "    .dataframe thead th {\n",
       "        text-align: right;\n",
       "    }\n",
       "</style>\n",
       "<table border=\"1\" class=\"dataframe\">\n",
       "  <thead>\n",
       "    <tr style=\"text-align: right;\">\n",
       "      <th></th>\n",
       "      <th>year</th>\n",
       "      <th>names</th>\n",
       "    </tr>\n",
       "  </thead>\n",
       "  <tbody>\n",
       "    <tr>\n",
       "      <th>one</th>\n",
       "      <td>2014</td>\n",
       "      <td>김철수</td>\n",
       "    </tr>\n",
       "    <tr>\n",
       "      <th>two</th>\n",
       "      <td>2015</td>\n",
       "      <td>이철호</td>\n",
       "    </tr>\n",
       "    <tr>\n",
       "      <th>three</th>\n",
       "      <td>2016</td>\n",
       "      <td>김영희</td>\n",
       "    </tr>\n",
       "    <tr>\n",
       "      <th>four</th>\n",
       "      <td>2017</td>\n",
       "      <td>박민수</td>\n",
       "    </tr>\n",
       "    <tr>\n",
       "      <th>five</th>\n",
       "      <td>2018</td>\n",
       "      <td>송철호</td>\n",
       "    </tr>\n",
       "  </tbody>\n",
       "</table>\n",
       "</div>"
      ],
      "text/plain": [
       "       year names\n",
       "one    2014   김철수\n",
       "two    2015   이철호\n",
       "three  2016   김영희\n",
       "four   2017   박민수\n",
       "five   2018   송철호"
      ]
     },
     "execution_count": 70,
     "metadata": {},
     "output_type": "execute_result"
    }
   ],
   "source": [
    "df3.loc[:, ['year', 'names']]"
   ]
  },
  {
   "cell_type": "code",
   "execution_count": 71,
   "id": "263b6e53",
   "metadata": {
    "ExecuteTime": {
     "end_time": "2023-09-26T01:51:43.000269Z",
     "start_time": "2023-09-26T01:51:42.988328Z"
    }
   },
   "outputs": [
    {
     "data": {
      "text/plain": [
       "'박민수'"
      ]
     },
     "execution_count": 71,
     "metadata": {},
     "output_type": "execute_result"
    }
   ],
   "source": [
    "df3.loc['four', 'names']"
   ]
  },
  {
   "cell_type": "code",
   "execution_count": 72,
   "id": "72e1cb89",
   "metadata": {
    "ExecuteTime": {
     "end_time": "2023-09-26T01:52:27.508028Z",
     "start_time": "2023-09-26T01:52:27.499058Z"
    }
   },
   "outputs": [
    {
     "data": {
      "text/plain": [
       "year       2017\n",
       "names       박민수\n",
       "points      2.4\n",
       "penalty     0.4\n",
       "Name: four, dtype: object"
      ]
     },
     "execution_count": 72,
     "metadata": {},
     "output_type": "execute_result"
    }
   ],
   "source": [
    "df3.iloc[3]  # 숫자 인덱스로 추출할 때 .iloc"
   ]
  },
  {
   "cell_type": "code",
   "execution_count": 73,
   "id": "7bc99f52",
   "metadata": {
    "ExecuteTime": {
     "end_time": "2023-09-26T01:53:03.410967Z",
     "start_time": "2023-09-26T01:53:03.388220Z"
    }
   },
   "outputs": [
    {
     "data": {
      "text/html": [
       "<div>\n",
       "<style scoped>\n",
       "    .dataframe tbody tr th:only-of-type {\n",
       "        vertical-align: middle;\n",
       "    }\n",
       "\n",
       "    .dataframe tbody tr th {\n",
       "        vertical-align: top;\n",
       "    }\n",
       "\n",
       "    .dataframe thead th {\n",
       "        text-align: right;\n",
       "    }\n",
       "</style>\n",
       "<table border=\"1\" class=\"dataframe\">\n",
       "  <thead>\n",
       "    <tr style=\"text-align: right;\">\n",
       "      <th></th>\n",
       "      <th>year</th>\n",
       "      <th>names</th>\n",
       "    </tr>\n",
       "  </thead>\n",
       "  <tbody>\n",
       "    <tr>\n",
       "      <th>four</th>\n",
       "      <td>2017</td>\n",
       "      <td>박민수</td>\n",
       "    </tr>\n",
       "    <tr>\n",
       "      <th>five</th>\n",
       "      <td>2018</td>\n",
       "      <td>송철호</td>\n",
       "    </tr>\n",
       "  </tbody>\n",
       "</table>\n",
       "</div>"
      ],
      "text/plain": [
       "      year names\n",
       "four  2017   박민수\n",
       "five  2018   송철호"
      ]
     },
     "execution_count": 73,
     "metadata": {},
     "output_type": "execute_result"
    }
   ],
   "source": [
    "df3.iloc[3:5, 0:2]"
   ]
  },
  {
   "cell_type": "code",
   "execution_count": 74,
   "id": "b56961f5",
   "metadata": {
    "ExecuteTime": {
     "end_time": "2023-09-26T02:08:23.738707Z",
     "start_time": "2023-09-26T02:08:23.726807Z"
    }
   },
   "outputs": [
    {
     "data": {
      "text/plain": [
       "'이철호'"
      ]
     },
     "execution_count": 74,
     "metadata": {},
     "output_type": "execute_result"
    }
   ],
   "source": [
    "df3.iloc[1,1]"
   ]
  },
  {
   "cell_type": "code",
   "execution_count": 78,
   "id": "54871185",
   "metadata": {
    "ExecuteTime": {
     "end_time": "2023-09-26T02:09:31.535138Z",
     "start_time": "2023-09-26T02:09:31.515348Z"
    }
   },
   "outputs": [
    {
     "data": {
      "text/html": [
       "<div>\n",
       "<style scoped>\n",
       "    .dataframe tbody tr th:only-of-type {\n",
       "        vertical-align: middle;\n",
       "    }\n",
       "\n",
       "    .dataframe tbody tr th {\n",
       "        vertical-align: top;\n",
       "    }\n",
       "\n",
       "    .dataframe thead th {\n",
       "        text-align: right;\n",
       "    }\n",
       "</style>\n",
       "<table border=\"1\" class=\"dataframe\">\n",
       "  <thead>\n",
       "    <tr style=\"text-align: right;\">\n",
       "      <th></th>\n",
       "      <th>year</th>\n",
       "      <th>names</th>\n",
       "      <th>points</th>\n",
       "      <th>penalty</th>\n",
       "    </tr>\n",
       "  </thead>\n",
       "  <tbody>\n",
       "    <tr>\n",
       "      <th>two</th>\n",
       "      <td>2015</td>\n",
       "      <td>이철호</td>\n",
       "      <td>1.7</td>\n",
       "      <td>0.2</td>\n",
       "    </tr>\n",
       "    <tr>\n",
       "      <th>three</th>\n",
       "      <td>2016</td>\n",
       "      <td>김영희</td>\n",
       "      <td>3.6</td>\n",
       "      <td>0.3</td>\n",
       "    </tr>\n",
       "    <tr>\n",
       "      <th>four</th>\n",
       "      <td>2017</td>\n",
       "      <td>박민수</td>\n",
       "      <td>2.4</td>\n",
       "      <td>0.4</td>\n",
       "    </tr>\n",
       "    <tr>\n",
       "      <th>five</th>\n",
       "      <td>2018</td>\n",
       "      <td>송철호</td>\n",
       "      <td>2.9</td>\n",
       "      <td>0.5</td>\n",
       "    </tr>\n",
       "  </tbody>\n",
       "</table>\n",
       "</div>"
      ],
      "text/plain": [
       "       year names  points  penalty\n",
       "two    2015   이철호     1.7      0.2\n",
       "three  2016   김영희     3.6      0.3\n",
       "four   2017   박민수     2.4      0.4\n",
       "five   2018   송철호     2.9      0.5"
      ]
     },
     "execution_count": 78,
     "metadata": {},
     "output_type": "execute_result"
    }
   ],
   "source": [
    "df3[df3['year'] >= 2015]"
   ]
  },
  {
   "cell_type": "code",
   "execution_count": 79,
   "id": "ea4e0e12",
   "metadata": {
    "ExecuteTime": {
     "end_time": "2023-09-26T02:10:15.485766Z",
     "start_time": "2023-09-26T02:10:15.463317Z"
    }
   },
   "outputs": [
    {
     "data": {
      "text/html": [
       "<div>\n",
       "<style scoped>\n",
       "    .dataframe tbody tr th:only-of-type {\n",
       "        vertical-align: middle;\n",
       "    }\n",
       "\n",
       "    .dataframe tbody tr th {\n",
       "        vertical-align: top;\n",
       "    }\n",
       "\n",
       "    .dataframe thead th {\n",
       "        text-align: right;\n",
       "    }\n",
       "</style>\n",
       "<table border=\"1\" class=\"dataframe\">\n",
       "  <thead>\n",
       "    <tr style=\"text-align: right;\">\n",
       "      <th></th>\n",
       "      <th>year</th>\n",
       "      <th>names</th>\n",
       "      <th>points</th>\n",
       "      <th>penalty</th>\n",
       "    </tr>\n",
       "  </thead>\n",
       "  <tbody>\n",
       "    <tr>\n",
       "      <th>two</th>\n",
       "      <td>2015</td>\n",
       "      <td>이철호</td>\n",
       "      <td>1.7</td>\n",
       "      <td>0.2</td>\n",
       "    </tr>\n",
       "    <tr>\n",
       "      <th>three</th>\n",
       "      <td>2016</td>\n",
       "      <td>김영희</td>\n",
       "      <td>3.6</td>\n",
       "      <td>0.3</td>\n",
       "    </tr>\n",
       "    <tr>\n",
       "      <th>four</th>\n",
       "      <td>2017</td>\n",
       "      <td>박민수</td>\n",
       "      <td>2.4</td>\n",
       "      <td>0.4</td>\n",
       "    </tr>\n",
       "    <tr>\n",
       "      <th>five</th>\n",
       "      <td>2018</td>\n",
       "      <td>송철호</td>\n",
       "      <td>2.9</td>\n",
       "      <td>0.5</td>\n",
       "    </tr>\n",
       "  </tbody>\n",
       "</table>\n",
       "</div>"
      ],
      "text/plain": [
       "       year names  points  penalty\n",
       "two    2015   이철호     1.7      0.2\n",
       "three  2016   김영희     3.6      0.3\n",
       "four   2017   박민수     2.4      0.4\n",
       "five   2018   송철호     2.9      0.5"
      ]
     },
     "execution_count": 79,
     "metadata": {},
     "output_type": "execute_result"
    }
   ],
   "source": [
    "df3.loc[df3['year'] >=2015, :]"
   ]
  },
  {
   "cell_type": "code",
   "execution_count": 80,
   "id": "7e8c714e",
   "metadata": {
    "ExecuteTime": {
     "end_time": "2023-09-26T02:10:33.284537Z",
     "start_time": "2023-09-26T02:10:33.266499Z"
    }
   },
   "outputs": [
    {
     "data": {
      "text/html": [
       "<div>\n",
       "<style scoped>\n",
       "    .dataframe tbody tr th:only-of-type {\n",
       "        vertical-align: middle;\n",
       "    }\n",
       "\n",
       "    .dataframe tbody tr th {\n",
       "        vertical-align: top;\n",
       "    }\n",
       "\n",
       "    .dataframe thead th {\n",
       "        text-align: right;\n",
       "    }\n",
       "</style>\n",
       "<table border=\"1\" class=\"dataframe\">\n",
       "  <thead>\n",
       "    <tr style=\"text-align: right;\">\n",
       "      <th></th>\n",
       "      <th>year</th>\n",
       "      <th>names</th>\n",
       "      <th>points</th>\n",
       "      <th>penalty</th>\n",
       "    </tr>\n",
       "  </thead>\n",
       "  <tbody>\n",
       "    <tr>\n",
       "      <th>two</th>\n",
       "      <td>2015</td>\n",
       "      <td>이철호</td>\n",
       "      <td>1.7</td>\n",
       "      <td>0.2</td>\n",
       "    </tr>\n",
       "    <tr>\n",
       "      <th>three</th>\n",
       "      <td>2016</td>\n",
       "      <td>김영희</td>\n",
       "      <td>3.6</td>\n",
       "      <td>0.3</td>\n",
       "    </tr>\n",
       "    <tr>\n",
       "      <th>four</th>\n",
       "      <td>2017</td>\n",
       "      <td>박민수</td>\n",
       "      <td>2.4</td>\n",
       "      <td>0.4</td>\n",
       "    </tr>\n",
       "    <tr>\n",
       "      <th>five</th>\n",
       "      <td>2018</td>\n",
       "      <td>송철호</td>\n",
       "      <td>2.9</td>\n",
       "      <td>0.5</td>\n",
       "    </tr>\n",
       "  </tbody>\n",
       "</table>\n",
       "</div>"
      ],
      "text/plain": [
       "       year names  points  penalty\n",
       "two    2015   이철호     1.7      0.2\n",
       "three  2016   김영희     3.6      0.3\n",
       "four   2017   박민수     2.4      0.4\n",
       "five   2018   송철호     2.9      0.5"
      ]
     },
     "execution_count": 80,
     "metadata": {},
     "output_type": "execute_result"
    }
   ],
   "source": [
    "df3.loc[df3.year >= 2015, :]"
   ]
  },
  {
   "cell_type": "markdown",
   "id": "615883d9",
   "metadata": {},
   "source": [
    "### 데이터프레임 조작"
   ]
  },
  {
   "cell_type": "code",
   "execution_count": 88,
   "id": "c316fd7a",
   "metadata": {
    "ExecuteTime": {
     "end_time": "2023-09-26T02:18:12.701685Z",
     "start_time": "2023-09-26T02:18:12.687673Z"
    }
   },
   "outputs": [
    {
     "data": {
      "text/html": [
       "<div>\n",
       "<style scoped>\n",
       "    .dataframe tbody tr th:only-of-type {\n",
       "        vertical-align: middle;\n",
       "    }\n",
       "\n",
       "    .dataframe tbody tr th {\n",
       "        vertical-align: top;\n",
       "    }\n",
       "\n",
       "    .dataframe thead th {\n",
       "        text-align: right;\n",
       "    }\n",
       "</style>\n",
       "<table border=\"1\" class=\"dataframe\">\n",
       "  <thead>\n",
       "    <tr style=\"text-align: right;\">\n",
       "      <th></th>\n",
       "      <th>0</th>\n",
       "      <th>1</th>\n",
       "      <th>2</th>\n",
       "      <th>3</th>\n",
       "    </tr>\n",
       "  </thead>\n",
       "  <tbody>\n",
       "    <tr>\n",
       "      <th>0</th>\n",
       "      <td>0.059631</td>\n",
       "      <td>-0.526357</td>\n",
       "      <td>2.544305</td>\n",
       "      <td>1.362406</td>\n",
       "    </tr>\n",
       "    <tr>\n",
       "      <th>1</th>\n",
       "      <td>-0.563498</td>\n",
       "      <td>-1.754153</td>\n",
       "      <td>0.345551</td>\n",
       "      <td>0.248332</td>\n",
       "    </tr>\n",
       "    <tr>\n",
       "      <th>2</th>\n",
       "      <td>0.029207</td>\n",
       "      <td>-0.528269</td>\n",
       "      <td>-0.574095</td>\n",
       "      <td>1.670678</td>\n",
       "    </tr>\n",
       "    <tr>\n",
       "      <th>3</th>\n",
       "      <td>0.339690</td>\n",
       "      <td>-0.267972</td>\n",
       "      <td>-0.818582</td>\n",
       "      <td>0.310584</td>\n",
       "    </tr>\n",
       "    <tr>\n",
       "      <th>4</th>\n",
       "      <td>0.970612</td>\n",
       "      <td>2.003373</td>\n",
       "      <td>0.560018</td>\n",
       "      <td>-0.544538</td>\n",
       "    </tr>\n",
       "    <tr>\n",
       "      <th>5</th>\n",
       "      <td>-0.365739</td>\n",
       "      <td>-0.581061</td>\n",
       "      <td>-1.687068</td>\n",
       "      <td>0.179679</td>\n",
       "    </tr>\n",
       "  </tbody>\n",
       "</table>\n",
       "</div>"
      ],
      "text/plain": [
       "          0         1         2         3\n",
       "0  0.059631 -0.526357  2.544305  1.362406\n",
       "1 -0.563498 -1.754153  0.345551  0.248332\n",
       "2  0.029207 -0.528269 -0.574095  1.670678\n",
       "3  0.339690 -0.267972 -0.818582  0.310584\n",
       "4  0.970612  2.003373  0.560018 -0.544538\n",
       "5 -0.365739 -0.581061 -1.687068  0.179679"
      ]
     },
     "execution_count": 88,
     "metadata": {},
     "output_type": "execute_result"
    }
   ],
   "source": [
    "df = pd.DataFrame(np.random.randn(6,4))\n",
    "df"
   ]
  },
  {
   "cell_type": "code",
   "execution_count": 89,
   "id": "705a3a03",
   "metadata": {
    "ExecuteTime": {
     "end_time": "2023-09-26T02:18:15.225819Z",
     "start_time": "2023-09-26T02:18:15.204944Z"
    }
   },
   "outputs": [
    {
     "data": {
      "text/html": [
       "<div>\n",
       "<style scoped>\n",
       "    .dataframe tbody tr th:only-of-type {\n",
       "        vertical-align: middle;\n",
       "    }\n",
       "\n",
       "    .dataframe tbody tr th {\n",
       "        vertical-align: top;\n",
       "    }\n",
       "\n",
       "    .dataframe thead th {\n",
       "        text-align: right;\n",
       "    }\n",
       "</style>\n",
       "<table border=\"1\" class=\"dataframe\">\n",
       "  <thead>\n",
       "    <tr style=\"text-align: right;\">\n",
       "      <th></th>\n",
       "      <th>A</th>\n",
       "      <th>B</th>\n",
       "      <th>C</th>\n",
       "      <th>D</th>\n",
       "    </tr>\n",
       "  </thead>\n",
       "  <tbody>\n",
       "    <tr>\n",
       "      <th>0</th>\n",
       "      <td>0.059631</td>\n",
       "      <td>-0.526357</td>\n",
       "      <td>2.544305</td>\n",
       "      <td>1.362406</td>\n",
       "    </tr>\n",
       "    <tr>\n",
       "      <th>1</th>\n",
       "      <td>-0.563498</td>\n",
       "      <td>-1.754153</td>\n",
       "      <td>0.345551</td>\n",
       "      <td>0.248332</td>\n",
       "    </tr>\n",
       "    <tr>\n",
       "      <th>2</th>\n",
       "      <td>0.029207</td>\n",
       "      <td>-0.528269</td>\n",
       "      <td>-0.574095</td>\n",
       "      <td>1.670678</td>\n",
       "    </tr>\n",
       "    <tr>\n",
       "      <th>3</th>\n",
       "      <td>0.339690</td>\n",
       "      <td>-0.267972</td>\n",
       "      <td>-0.818582</td>\n",
       "      <td>0.310584</td>\n",
       "    </tr>\n",
       "    <tr>\n",
       "      <th>4</th>\n",
       "      <td>0.970612</td>\n",
       "      <td>2.003373</td>\n",
       "      <td>0.560018</td>\n",
       "      <td>-0.544538</td>\n",
       "    </tr>\n",
       "    <tr>\n",
       "      <th>5</th>\n",
       "      <td>-0.365739</td>\n",
       "      <td>-0.581061</td>\n",
       "      <td>-1.687068</td>\n",
       "      <td>0.179679</td>\n",
       "    </tr>\n",
       "  </tbody>\n",
       "</table>\n",
       "</div>"
      ],
      "text/plain": [
       "          A         B         C         D\n",
       "0  0.059631 -0.526357  2.544305  1.362406\n",
       "1 -0.563498 -1.754153  0.345551  0.248332\n",
       "2  0.029207 -0.528269 -0.574095  1.670678\n",
       "3  0.339690 -0.267972 -0.818582  0.310584\n",
       "4  0.970612  2.003373  0.560018 -0.544538\n",
       "5 -0.365739 -0.581061 -1.687068  0.179679"
      ]
     },
     "execution_count": 89,
     "metadata": {},
     "output_type": "execute_result"
    }
   ],
   "source": [
    "df.columns = ['A', 'B', 'C', 'D']\n",
    "df"
   ]
  },
  {
   "cell_type": "code",
   "execution_count": 90,
   "id": "842372c3",
   "metadata": {
    "ExecuteTime": {
     "end_time": "2023-09-26T02:18:17.965275Z",
     "start_time": "2023-09-26T02:18:17.946642Z"
    }
   },
   "outputs": [
    {
     "data": {
      "text/html": [
       "<div>\n",
       "<style scoped>\n",
       "    .dataframe tbody tr th:only-of-type {\n",
       "        vertical-align: middle;\n",
       "    }\n",
       "\n",
       "    .dataframe tbody tr th {\n",
       "        vertical-align: top;\n",
       "    }\n",
       "\n",
       "    .dataframe thead th {\n",
       "        text-align: right;\n",
       "    }\n",
       "</style>\n",
       "<table border=\"1\" class=\"dataframe\">\n",
       "  <thead>\n",
       "    <tr style=\"text-align: right;\">\n",
       "      <th></th>\n",
       "      <th>A</th>\n",
       "      <th>B</th>\n",
       "      <th>C</th>\n",
       "      <th>D</th>\n",
       "    </tr>\n",
       "  </thead>\n",
       "  <tbody>\n",
       "    <tr>\n",
       "      <th>2023-09-26</th>\n",
       "      <td>0.059631</td>\n",
       "      <td>-0.526357</td>\n",
       "      <td>2.544305</td>\n",
       "      <td>1.362406</td>\n",
       "    </tr>\n",
       "    <tr>\n",
       "      <th>2023-09-27</th>\n",
       "      <td>-0.563498</td>\n",
       "      <td>-1.754153</td>\n",
       "      <td>0.345551</td>\n",
       "      <td>0.248332</td>\n",
       "    </tr>\n",
       "    <tr>\n",
       "      <th>2023-09-28</th>\n",
       "      <td>0.029207</td>\n",
       "      <td>-0.528269</td>\n",
       "      <td>-0.574095</td>\n",
       "      <td>1.670678</td>\n",
       "    </tr>\n",
       "    <tr>\n",
       "      <th>2023-09-29</th>\n",
       "      <td>0.339690</td>\n",
       "      <td>-0.267972</td>\n",
       "      <td>-0.818582</td>\n",
       "      <td>0.310584</td>\n",
       "    </tr>\n",
       "    <tr>\n",
       "      <th>2023-09-30</th>\n",
       "      <td>0.970612</td>\n",
       "      <td>2.003373</td>\n",
       "      <td>0.560018</td>\n",
       "      <td>-0.544538</td>\n",
       "    </tr>\n",
       "    <tr>\n",
       "      <th>2023-10-01</th>\n",
       "      <td>-0.365739</td>\n",
       "      <td>-0.581061</td>\n",
       "      <td>-1.687068</td>\n",
       "      <td>0.179679</td>\n",
       "    </tr>\n",
       "  </tbody>\n",
       "</table>\n",
       "</div>"
      ],
      "text/plain": [
       "                   A         B         C         D\n",
       "2023-09-26  0.059631 -0.526357  2.544305  1.362406\n",
       "2023-09-27 -0.563498 -1.754153  0.345551  0.248332\n",
       "2023-09-28  0.029207 -0.528269 -0.574095  1.670678\n",
       "2023-09-29  0.339690 -0.267972 -0.818582  0.310584\n",
       "2023-09-30  0.970612  2.003373  0.560018 -0.544538\n",
       "2023-10-01 -0.365739 -0.581061 -1.687068  0.179679"
      ]
     },
     "execution_count": 90,
     "metadata": {},
     "output_type": "execute_result"
    }
   ],
   "source": [
    "df.index = pd.date_range('20230926', periods=6)\n",
    "df"
   ]
  },
  {
   "cell_type": "code",
   "execution_count": 84,
   "id": "d66affbe",
   "metadata": {
    "ExecuteTime": {
     "end_time": "2023-09-26T02:16:25.943656Z",
     "start_time": "2023-09-26T02:16:25.925598Z"
    }
   },
   "outputs": [
    {
     "data": {
      "text/html": [
       "<div>\n",
       "<style scoped>\n",
       "    .dataframe tbody tr th:only-of-type {\n",
       "        vertical-align: middle;\n",
       "    }\n",
       "\n",
       "    .dataframe tbody tr th {\n",
       "        vertical-align: top;\n",
       "    }\n",
       "\n",
       "    .dataframe thead th {\n",
       "        text-align: right;\n",
       "    }\n",
       "</style>\n",
       "<table border=\"1\" class=\"dataframe\">\n",
       "  <thead>\n",
       "    <tr style=\"text-align: right;\">\n",
       "      <th></th>\n",
       "      <th>A</th>\n",
       "      <th>B</th>\n",
       "      <th>C</th>\n",
       "    </tr>\n",
       "  </thead>\n",
       "  <tbody>\n",
       "    <tr>\n",
       "      <th>2023-09-26</th>\n",
       "      <td>1.380691</td>\n",
       "      <td>-0.670735</td>\n",
       "      <td>-0.384409</td>\n",
       "    </tr>\n",
       "    <tr>\n",
       "      <th>2023-09-27</th>\n",
       "      <td>0.621493</td>\n",
       "      <td>1.338711</td>\n",
       "      <td>0.531217</td>\n",
       "    </tr>\n",
       "    <tr>\n",
       "      <th>2023-09-28</th>\n",
       "      <td>1.453497</td>\n",
       "      <td>-0.024863</td>\n",
       "      <td>0.069244</td>\n",
       "    </tr>\n",
       "    <tr>\n",
       "      <th>2023-09-29</th>\n",
       "      <td>0.981592</td>\n",
       "      <td>-0.387896</td>\n",
       "      <td>-0.350485</td>\n",
       "    </tr>\n",
       "    <tr>\n",
       "      <th>2023-09-30</th>\n",
       "      <td>0.385764</td>\n",
       "      <td>-0.770088</td>\n",
       "      <td>-0.866062</td>\n",
       "    </tr>\n",
       "    <tr>\n",
       "      <th>2023-10-01</th>\n",
       "      <td>0.806124</td>\n",
       "      <td>-0.781633</td>\n",
       "      <td>-1.038547</td>\n",
       "    </tr>\n",
       "  </tbody>\n",
       "</table>\n",
       "</div>"
      ],
      "text/plain": [
       "                   A         B         C\n",
       "2023-09-26  1.380691 -0.670735 -0.384409\n",
       "2023-09-27  0.621493  1.338711  0.531217\n",
       "2023-09-28  1.453497 -0.024863  0.069244\n",
       "2023-09-29  0.981592 -0.387896 -0.350485\n",
       "2023-09-30  0.385764 -0.770088 -0.866062\n",
       "2023-10-01  0.806124 -0.781633 -1.038547"
      ]
     },
     "execution_count": 84,
     "metadata": {},
     "output_type": "execute_result"
    }
   ],
   "source": [
    "# 삭제: del, drop\n",
    "# axis = 0: 행 / axis = 1: 열\n",
    "df.drop('D', axis = 1) # 삭제된 결과가 저장되지 않고 보여지기만 함"
   ]
  },
  {
   "cell_type": "code",
   "execution_count": 86,
   "id": "1de98c2a",
   "metadata": {
    "ExecuteTime": {
     "end_time": "2023-09-26T02:17:15.204770Z",
     "start_time": "2023-09-26T02:17:15.190306Z"
    }
   },
   "outputs": [
    {
     "data": {
      "text/html": [
       "<div>\n",
       "<style scoped>\n",
       "    .dataframe tbody tr th:only-of-type {\n",
       "        vertical-align: middle;\n",
       "    }\n",
       "\n",
       "    .dataframe tbody tr th {\n",
       "        vertical-align: top;\n",
       "    }\n",
       "\n",
       "    .dataframe thead th {\n",
       "        text-align: right;\n",
       "    }\n",
       "</style>\n",
       "<table border=\"1\" class=\"dataframe\">\n",
       "  <thead>\n",
       "    <tr style=\"text-align: right;\">\n",
       "      <th></th>\n",
       "      <th>A</th>\n",
       "      <th>B</th>\n",
       "      <th>C</th>\n",
       "      <th>D</th>\n",
       "    </tr>\n",
       "  </thead>\n",
       "  <tbody>\n",
       "    <tr>\n",
       "      <th>2023-09-26</th>\n",
       "      <td>1.380691</td>\n",
       "      <td>-0.670735</td>\n",
       "      <td>-0.384409</td>\n",
       "      <td>-0.288815</td>\n",
       "    </tr>\n",
       "    <tr>\n",
       "      <th>2023-09-27</th>\n",
       "      <td>0.621493</td>\n",
       "      <td>1.338711</td>\n",
       "      <td>0.531217</td>\n",
       "      <td>-1.747620</td>\n",
       "    </tr>\n",
       "    <tr>\n",
       "      <th>2023-09-28</th>\n",
       "      <td>1.453497</td>\n",
       "      <td>-0.024863</td>\n",
       "      <td>0.069244</td>\n",
       "      <td>2.758563</td>\n",
       "    </tr>\n",
       "    <tr>\n",
       "      <th>2023-09-29</th>\n",
       "      <td>0.981592</td>\n",
       "      <td>-0.387896</td>\n",
       "      <td>-0.350485</td>\n",
       "      <td>-0.691862</td>\n",
       "    </tr>\n",
       "    <tr>\n",
       "      <th>2023-09-30</th>\n",
       "      <td>0.385764</td>\n",
       "      <td>-0.770088</td>\n",
       "      <td>-0.866062</td>\n",
       "      <td>0.747255</td>\n",
       "    </tr>\n",
       "    <tr>\n",
       "      <th>2023-10-01</th>\n",
       "      <td>0.806124</td>\n",
       "      <td>-0.781633</td>\n",
       "      <td>-1.038547</td>\n",
       "      <td>-0.692377</td>\n",
       "    </tr>\n",
       "  </tbody>\n",
       "</table>\n",
       "</div>"
      ],
      "text/plain": [
       "                   A         B         C         D\n",
       "2023-09-26  1.380691 -0.670735 -0.384409 -0.288815\n",
       "2023-09-27  0.621493  1.338711  0.531217 -1.747620\n",
       "2023-09-28  1.453497 -0.024863  0.069244  2.758563\n",
       "2023-09-29  0.981592 -0.387896 -0.350485 -0.691862\n",
       "2023-09-30  0.385764 -0.770088 -0.866062  0.747255\n",
       "2023-10-01  0.806124 -0.781633 -1.038547 -0.692377"
      ]
     },
     "execution_count": 86,
     "metadata": {},
     "output_type": "execute_result"
    }
   ],
   "source": [
    "df"
   ]
  },
  {
   "cell_type": "code",
   "execution_count": 87,
   "id": "ad8ef211",
   "metadata": {
    "ExecuteTime": {
     "end_time": "2023-09-26T02:17:41.698354Z",
     "start_time": "2023-09-26T02:17:41.677760Z"
    }
   },
   "outputs": [
    {
     "data": {
      "text/html": [
       "<div>\n",
       "<style scoped>\n",
       "    .dataframe tbody tr th:only-of-type {\n",
       "        vertical-align: middle;\n",
       "    }\n",
       "\n",
       "    .dataframe tbody tr th {\n",
       "        vertical-align: top;\n",
       "    }\n",
       "\n",
       "    .dataframe thead th {\n",
       "        text-align: right;\n",
       "    }\n",
       "</style>\n",
       "<table border=\"1\" class=\"dataframe\">\n",
       "  <thead>\n",
       "    <tr style=\"text-align: right;\">\n",
       "      <th></th>\n",
       "      <th>A</th>\n",
       "      <th>B</th>\n",
       "      <th>C</th>\n",
       "    </tr>\n",
       "  </thead>\n",
       "  <tbody>\n",
       "    <tr>\n",
       "      <th>2023-09-26</th>\n",
       "      <td>1.380691</td>\n",
       "      <td>-0.670735</td>\n",
       "      <td>-0.384409</td>\n",
       "    </tr>\n",
       "    <tr>\n",
       "      <th>2023-09-27</th>\n",
       "      <td>0.621493</td>\n",
       "      <td>1.338711</td>\n",
       "      <td>0.531217</td>\n",
       "    </tr>\n",
       "    <tr>\n",
       "      <th>2023-09-28</th>\n",
       "      <td>1.453497</td>\n",
       "      <td>-0.024863</td>\n",
       "      <td>0.069244</td>\n",
       "    </tr>\n",
       "    <tr>\n",
       "      <th>2023-09-29</th>\n",
       "      <td>0.981592</td>\n",
       "      <td>-0.387896</td>\n",
       "      <td>-0.350485</td>\n",
       "    </tr>\n",
       "    <tr>\n",
       "      <th>2023-09-30</th>\n",
       "      <td>0.385764</td>\n",
       "      <td>-0.770088</td>\n",
       "      <td>-0.866062</td>\n",
       "    </tr>\n",
       "    <tr>\n",
       "      <th>2023-10-01</th>\n",
       "      <td>0.806124</td>\n",
       "      <td>-0.781633</td>\n",
       "      <td>-1.038547</td>\n",
       "    </tr>\n",
       "  </tbody>\n",
       "</table>\n",
       "</div>"
      ],
      "text/plain": [
       "                   A         B         C\n",
       "2023-09-26  1.380691 -0.670735 -0.384409\n",
       "2023-09-27  0.621493  1.338711  0.531217\n",
       "2023-09-28  1.453497 -0.024863  0.069244\n",
       "2023-09-29  0.981592 -0.387896 -0.350485\n",
       "2023-09-30  0.385764 -0.770088 -0.866062\n",
       "2023-10-01  0.806124 -0.781633 -1.038547"
      ]
     },
     "execution_count": 87,
     "metadata": {},
     "output_type": "execute_result"
    }
   ],
   "source": [
    "del df['D']  # 바로 삭제되어 결과가 저장 됨\n",
    "df"
   ]
  },
  {
   "cell_type": "code",
   "execution_count": 91,
   "id": "d98abf87",
   "metadata": {
    "ExecuteTime": {
     "end_time": "2023-09-26T02:18:28.262304Z",
     "start_time": "2023-09-26T02:18:28.240968Z"
    }
   },
   "outputs": [
    {
     "data": {
      "text/html": [
       "<div>\n",
       "<style scoped>\n",
       "    .dataframe tbody tr th:only-of-type {\n",
       "        vertical-align: middle;\n",
       "    }\n",
       "\n",
       "    .dataframe tbody tr th {\n",
       "        vertical-align: top;\n",
       "    }\n",
       "\n",
       "    .dataframe thead th {\n",
       "        text-align: right;\n",
       "    }\n",
       "</style>\n",
       "<table border=\"1\" class=\"dataframe\">\n",
       "  <thead>\n",
       "    <tr style=\"text-align: right;\">\n",
       "      <th></th>\n",
       "      <th>A</th>\n",
       "      <th>B</th>\n",
       "      <th>C</th>\n",
       "      <th>D</th>\n",
       "    </tr>\n",
       "  </thead>\n",
       "  <tbody>\n",
       "    <tr>\n",
       "      <th>2023-09-26</th>\n",
       "      <td>0.059631</td>\n",
       "      <td>-0.526357</td>\n",
       "      <td>2.544305</td>\n",
       "      <td>1.362406</td>\n",
       "    </tr>\n",
       "    <tr>\n",
       "      <th>2023-09-27</th>\n",
       "      <td>-0.563498</td>\n",
       "      <td>-1.754153</td>\n",
       "      <td>0.345551</td>\n",
       "      <td>0.248332</td>\n",
       "    </tr>\n",
       "    <tr>\n",
       "      <th>2023-09-28</th>\n",
       "      <td>0.029207</td>\n",
       "      <td>-0.528269</td>\n",
       "      <td>-0.574095</td>\n",
       "      <td>1.670678</td>\n",
       "    </tr>\n",
       "    <tr>\n",
       "      <th>2023-09-29</th>\n",
       "      <td>0.339690</td>\n",
       "      <td>-0.267972</td>\n",
       "      <td>-0.818582</td>\n",
       "      <td>0.310584</td>\n",
       "    </tr>\n",
       "    <tr>\n",
       "      <th>2023-09-30</th>\n",
       "      <td>0.970612</td>\n",
       "      <td>2.003373</td>\n",
       "      <td>0.560018</td>\n",
       "      <td>-0.544538</td>\n",
       "    </tr>\n",
       "    <tr>\n",
       "      <th>2023-10-01</th>\n",
       "      <td>-0.365739</td>\n",
       "      <td>-0.581061</td>\n",
       "      <td>-1.687068</td>\n",
       "      <td>0.179679</td>\n",
       "    </tr>\n",
       "  </tbody>\n",
       "</table>\n",
       "</div>"
      ],
      "text/plain": [
       "                   A         B         C         D\n",
       "2023-09-26  0.059631 -0.526357  2.544305  1.362406\n",
       "2023-09-27 -0.563498 -1.754153  0.345551  0.248332\n",
       "2023-09-28  0.029207 -0.528269 -0.574095  1.670678\n",
       "2023-09-29  0.339690 -0.267972 -0.818582  0.310584\n",
       "2023-09-30  0.970612  2.003373  0.560018 -0.544538\n",
       "2023-10-01 -0.365739 -0.581061 -1.687068  0.179679"
      ]
     },
     "execution_count": 91,
     "metadata": {},
     "output_type": "execute_result"
    }
   ],
   "source": [
    "df"
   ]
  },
  {
   "cell_type": "code",
   "execution_count": 92,
   "id": "b1c5470a",
   "metadata": {
    "ExecuteTime": {
     "end_time": "2023-09-26T02:18:35.253495Z",
     "start_time": "2023-09-26T02:18:35.248181Z"
    }
   },
   "outputs": [],
   "source": [
    "row = df  # 사본"
   ]
  },
  {
   "cell_type": "code",
   "execution_count": 93,
   "id": "ef8c5c25",
   "metadata": {
    "ExecuteTime": {
     "end_time": "2023-09-26T02:18:58.826038Z",
     "start_time": "2023-09-26T02:18:58.814039Z"
    }
   },
   "outputs": [
    {
     "data": {
      "text/html": [
       "<div>\n",
       "<style scoped>\n",
       "    .dataframe tbody tr th:only-of-type {\n",
       "        vertical-align: middle;\n",
       "    }\n",
       "\n",
       "    .dataframe tbody tr th {\n",
       "        vertical-align: top;\n",
       "    }\n",
       "\n",
       "    .dataframe thead th {\n",
       "        text-align: right;\n",
       "    }\n",
       "</style>\n",
       "<table border=\"1\" class=\"dataframe\">\n",
       "  <thead>\n",
       "    <tr style=\"text-align: right;\">\n",
       "      <th></th>\n",
       "      <th>A</th>\n",
       "      <th>B</th>\n",
       "      <th>C</th>\n",
       "      <th>D</th>\n",
       "    </tr>\n",
       "  </thead>\n",
       "  <tbody>\n",
       "    <tr>\n",
       "      <th>2023-09-26</th>\n",
       "      <td>0.059631</td>\n",
       "      <td>-0.526357</td>\n",
       "      <td>2.544305</td>\n",
       "      <td>1.362406</td>\n",
       "    </tr>\n",
       "    <tr>\n",
       "      <th>2023-09-27</th>\n",
       "      <td>-0.563498</td>\n",
       "      <td>-1.754153</td>\n",
       "      <td>0.345551</td>\n",
       "      <td>0.248332</td>\n",
       "    </tr>\n",
       "    <tr>\n",
       "      <th>2023-09-28</th>\n",
       "      <td>0.029207</td>\n",
       "      <td>-0.528269</td>\n",
       "      <td>-0.574095</td>\n",
       "      <td>1.670678</td>\n",
       "    </tr>\n",
       "    <tr>\n",
       "      <th>2023-09-29</th>\n",
       "      <td>0.339690</td>\n",
       "      <td>-0.267972</td>\n",
       "      <td>-0.818582</td>\n",
       "      <td>0.310584</td>\n",
       "    </tr>\n",
       "    <tr>\n",
       "      <th>2023-09-30</th>\n",
       "      <td>0.970612</td>\n",
       "      <td>2.003373</td>\n",
       "      <td>0.560018</td>\n",
       "      <td>-0.544538</td>\n",
       "    </tr>\n",
       "    <tr>\n",
       "      <th>2023-10-01</th>\n",
       "      <td>-0.365739</td>\n",
       "      <td>-0.581061</td>\n",
       "      <td>-1.687068</td>\n",
       "      <td>0.179679</td>\n",
       "    </tr>\n",
       "  </tbody>\n",
       "</table>\n",
       "</div>"
      ],
      "text/plain": [
       "                   A         B         C         D\n",
       "2023-09-26  0.059631 -0.526357  2.544305  1.362406\n",
       "2023-09-27 -0.563498 -1.754153  0.345551  0.248332\n",
       "2023-09-28  0.029207 -0.528269 -0.574095  1.670678\n",
       "2023-09-29  0.339690 -0.267972 -0.818582  0.310584\n",
       "2023-09-30  0.970612  2.003373  0.560018 -0.544538\n",
       "2023-10-01 -0.365739 -0.581061 -1.687068  0.179679"
      ]
     },
     "execution_count": 93,
     "metadata": {},
     "output_type": "execute_result"
    }
   ],
   "source": [
    "row"
   ]
  },
  {
   "cell_type": "code",
   "execution_count": 94,
   "id": "54a6f639",
   "metadata": {
    "ExecuteTime": {
     "end_time": "2023-09-26T02:20:03.408394Z",
     "start_time": "2023-09-26T02:20:03.387465Z"
    }
   },
   "outputs": [
    {
     "data": {
      "text/html": [
       "<div>\n",
       "<style scoped>\n",
       "    .dataframe tbody tr th:only-of-type {\n",
       "        vertical-align: middle;\n",
       "    }\n",
       "\n",
       "    .dataframe tbody tr th {\n",
       "        vertical-align: top;\n",
       "    }\n",
       "\n",
       "    .dataframe thead th {\n",
       "        text-align: right;\n",
       "    }\n",
       "</style>\n",
       "<table border=\"1\" class=\"dataframe\">\n",
       "  <thead>\n",
       "    <tr style=\"text-align: right;\">\n",
       "      <th></th>\n",
       "      <th>A</th>\n",
       "      <th>C</th>\n",
       "    </tr>\n",
       "  </thead>\n",
       "  <tbody>\n",
       "    <tr>\n",
       "      <th>2023-09-26</th>\n",
       "      <td>0.059631</td>\n",
       "      <td>2.544305</td>\n",
       "    </tr>\n",
       "    <tr>\n",
       "      <th>2023-09-27</th>\n",
       "      <td>-0.563498</td>\n",
       "      <td>0.345551</td>\n",
       "    </tr>\n",
       "    <tr>\n",
       "      <th>2023-09-28</th>\n",
       "      <td>0.029207</td>\n",
       "      <td>-0.574095</td>\n",
       "    </tr>\n",
       "    <tr>\n",
       "      <th>2023-09-29</th>\n",
       "      <td>0.339690</td>\n",
       "      <td>-0.818582</td>\n",
       "    </tr>\n",
       "    <tr>\n",
       "      <th>2023-09-30</th>\n",
       "      <td>0.970612</td>\n",
       "      <td>0.560018</td>\n",
       "    </tr>\n",
       "    <tr>\n",
       "      <th>2023-10-01</th>\n",
       "      <td>-0.365739</td>\n",
       "      <td>-1.687068</td>\n",
       "    </tr>\n",
       "  </tbody>\n",
       "</table>\n",
       "</div>"
      ],
      "text/plain": [
       "                   A         C\n",
       "2023-09-26  0.059631  2.544305\n",
       "2023-09-27 -0.563498  0.345551\n",
       "2023-09-28  0.029207 -0.574095\n",
       "2023-09-29  0.339690 -0.818582\n",
       "2023-09-30  0.970612  0.560018\n",
       "2023-10-01 -0.365739 -1.687068"
      ]
     },
     "execution_count": 94,
     "metadata": {},
     "output_type": "execute_result"
    }
   ],
   "source": [
    "row.drop(['B', 'D'], axis=1)"
   ]
  },
  {
   "cell_type": "code",
   "execution_count": 95,
   "id": "4b86596a",
   "metadata": {
    "ExecuteTime": {
     "end_time": "2023-09-26T02:20:07.068816Z",
     "start_time": "2023-09-26T02:20:07.046770Z"
    }
   },
   "outputs": [
    {
     "data": {
      "text/html": [
       "<div>\n",
       "<style scoped>\n",
       "    .dataframe tbody tr th:only-of-type {\n",
       "        vertical-align: middle;\n",
       "    }\n",
       "\n",
       "    .dataframe tbody tr th {\n",
       "        vertical-align: top;\n",
       "    }\n",
       "\n",
       "    .dataframe thead th {\n",
       "        text-align: right;\n",
       "    }\n",
       "</style>\n",
       "<table border=\"1\" class=\"dataframe\">\n",
       "  <thead>\n",
       "    <tr style=\"text-align: right;\">\n",
       "      <th></th>\n",
       "      <th>A</th>\n",
       "      <th>B</th>\n",
       "      <th>C</th>\n",
       "      <th>D</th>\n",
       "    </tr>\n",
       "  </thead>\n",
       "  <tbody>\n",
       "    <tr>\n",
       "      <th>2023-09-26</th>\n",
       "      <td>0.059631</td>\n",
       "      <td>-0.526357</td>\n",
       "      <td>2.544305</td>\n",
       "      <td>1.362406</td>\n",
       "    </tr>\n",
       "    <tr>\n",
       "      <th>2023-09-27</th>\n",
       "      <td>-0.563498</td>\n",
       "      <td>-1.754153</td>\n",
       "      <td>0.345551</td>\n",
       "      <td>0.248332</td>\n",
       "    </tr>\n",
       "    <tr>\n",
       "      <th>2023-09-28</th>\n",
       "      <td>0.029207</td>\n",
       "      <td>-0.528269</td>\n",
       "      <td>-0.574095</td>\n",
       "      <td>1.670678</td>\n",
       "    </tr>\n",
       "    <tr>\n",
       "      <th>2023-09-29</th>\n",
       "      <td>0.339690</td>\n",
       "      <td>-0.267972</td>\n",
       "      <td>-0.818582</td>\n",
       "      <td>0.310584</td>\n",
       "    </tr>\n",
       "    <tr>\n",
       "      <th>2023-09-30</th>\n",
       "      <td>0.970612</td>\n",
       "      <td>2.003373</td>\n",
       "      <td>0.560018</td>\n",
       "      <td>-0.544538</td>\n",
       "    </tr>\n",
       "    <tr>\n",
       "      <th>2023-10-01</th>\n",
       "      <td>-0.365739</td>\n",
       "      <td>-0.581061</td>\n",
       "      <td>-1.687068</td>\n",
       "      <td>0.179679</td>\n",
       "    </tr>\n",
       "  </tbody>\n",
       "</table>\n",
       "</div>"
      ],
      "text/plain": [
       "                   A         B         C         D\n",
       "2023-09-26  0.059631 -0.526357  2.544305  1.362406\n",
       "2023-09-27 -0.563498 -1.754153  0.345551  0.248332\n",
       "2023-09-28  0.029207 -0.528269 -0.574095  1.670678\n",
       "2023-09-29  0.339690 -0.267972 -0.818582  0.310584\n",
       "2023-09-30  0.970612  2.003373  0.560018 -0.544538\n",
       "2023-10-01 -0.365739 -0.581061 -1.687068  0.179679"
      ]
     },
     "execution_count": 95,
     "metadata": {},
     "output_type": "execute_result"
    }
   ],
   "source": [
    "row"
   ]
  },
  {
   "cell_type": "markdown",
   "id": "2cc4eb92",
   "metadata": {},
   "source": [
    "## 데이터 입출력\n",
    "- 다양한 파일 포맷을 지원한다.\n",
    "- csv(쉼표로 구분 된), Excel, HTML, JSON, HDF5, SAS, STATA, SQL"
   ]
  },
  {
   "cell_type": "code",
   "execution_count": 96,
   "id": "2ddfd993",
   "metadata": {
    "ExecuteTime": {
     "end_time": "2023-09-26T02:25:18.929345Z",
     "start_time": "2023-09-26T02:25:18.907909Z"
    }
   },
   "outputs": [
    {
     "name": "stdout",
     "output_type": "stream",
     "text": [
      "Writing sample1.csv\n"
     ]
    }
   ],
   "source": [
    "%%writefile sample1.csv\n",
    "c1, c2, c3\n",
    "1, 1.11, one\n",
    "2, 2.22, two\n",
    "3, 3.33, three"
   ]
  },
  {
   "cell_type": "markdown",
   "id": "e9634add",
   "metadata": {},
   "source": [
    "### csv 파일 로딩\n",
    "- pd.read_csv()"
   ]
  },
  {
   "cell_type": "code",
   "execution_count": 97,
   "id": "655ceaf4",
   "metadata": {
    "ExecuteTime": {
     "end_time": "2023-09-26T02:27:05.748605Z",
     "start_time": "2023-09-26T02:27:05.653418Z"
    }
   },
   "outputs": [
    {
     "data": {
      "text/html": [
       "<div>\n",
       "<style scoped>\n",
       "    .dataframe tbody tr th:only-of-type {\n",
       "        vertical-align: middle;\n",
       "    }\n",
       "\n",
       "    .dataframe tbody tr th {\n",
       "        vertical-align: top;\n",
       "    }\n",
       "\n",
       "    .dataframe thead th {\n",
       "        text-align: right;\n",
       "    }\n",
       "</style>\n",
       "<table border=\"1\" class=\"dataframe\">\n",
       "  <thead>\n",
       "    <tr style=\"text-align: right;\">\n",
       "      <th></th>\n",
       "      <th>c1</th>\n",
       "      <th>c2</th>\n",
       "      <th>c3</th>\n",
       "    </tr>\n",
       "  </thead>\n",
       "  <tbody>\n",
       "    <tr>\n",
       "      <th>0</th>\n",
       "      <td>1</td>\n",
       "      <td>1.11</td>\n",
       "      <td>one</td>\n",
       "    </tr>\n",
       "    <tr>\n",
       "      <th>1</th>\n",
       "      <td>2</td>\n",
       "      <td>2.22</td>\n",
       "      <td>two</td>\n",
       "    </tr>\n",
       "    <tr>\n",
       "      <th>2</th>\n",
       "      <td>3</td>\n",
       "      <td>3.33</td>\n",
       "      <td>three</td>\n",
       "    </tr>\n",
       "  </tbody>\n",
       "</table>\n",
       "</div>"
      ],
      "text/plain": [
       "   c1    c2      c3\n",
       "0   1  1.11     one\n",
       "1   2  2.22     two\n",
       "2   3  3.33   three"
      ]
     },
     "execution_count": 97,
     "metadata": {},
     "output_type": "execute_result"
    }
   ],
   "source": [
    "pd.read_csv('sample1.csv')  # 행 인덱스 자동 생성"
   ]
  },
  {
   "cell_type": "code",
   "execution_count": 98,
   "id": "ebf0d89a",
   "metadata": {
    "ExecuteTime": {
     "end_time": "2023-09-26T02:28:43.667511Z",
     "start_time": "2023-09-26T02:28:43.660619Z"
    }
   },
   "outputs": [
    {
     "name": "stdout",
     "output_type": "stream",
     "text": [
      "Writing sample2.csv\n"
     ]
    }
   ],
   "source": [
    "%%writefile sample2.csv   # 컬럼명이 없는 csv 파일 생성\n",
    "1, 1.11, one\n",
    "2, 2.22, two\n",
    "3, 3.33, three"
   ]
  },
  {
   "cell_type": "code",
   "execution_count": 100,
   "id": "3f3de3f3",
   "metadata": {
    "ExecuteTime": {
     "end_time": "2023-09-26T02:30:20.365996Z",
     "start_time": "2023-09-26T02:30:20.355786Z"
    }
   },
   "outputs": [
    {
     "data": {
      "text/html": [
       "<div>\n",
       "<style scoped>\n",
       "    .dataframe tbody tr th:only-of-type {\n",
       "        vertical-align: middle;\n",
       "    }\n",
       "\n",
       "    .dataframe tbody tr th {\n",
       "        vertical-align: top;\n",
       "    }\n",
       "\n",
       "    .dataframe thead th {\n",
       "        text-align: right;\n",
       "    }\n",
       "</style>\n",
       "<table border=\"1\" class=\"dataframe\">\n",
       "  <thead>\n",
       "    <tr style=\"text-align: right;\">\n",
       "      <th></th>\n",
       "      <th>c1</th>\n",
       "      <th>c2</th>\n",
       "      <th>c3</th>\n",
       "    </tr>\n",
       "  </thead>\n",
       "  <tbody>\n",
       "    <tr>\n",
       "      <th>0</th>\n",
       "      <td>1</td>\n",
       "      <td>1.11</td>\n",
       "      <td>one</td>\n",
       "    </tr>\n",
       "    <tr>\n",
       "      <th>1</th>\n",
       "      <td>2</td>\n",
       "      <td>2.22</td>\n",
       "      <td>two</td>\n",
       "    </tr>\n",
       "    <tr>\n",
       "      <th>2</th>\n",
       "      <td>3</td>\n",
       "      <td>3.33</td>\n",
       "      <td>three</td>\n",
       "    </tr>\n",
       "  </tbody>\n",
       "</table>\n",
       "</div>"
      ],
      "text/plain": [
       "   c1    c2      c3\n",
       "0   1  1.11     one\n",
       "1   2  2.22     two\n",
       "2   3  3.33   three"
      ]
     },
     "execution_count": 100,
     "metadata": {},
     "output_type": "execute_result"
    }
   ],
   "source": [
    "pd.read_csv('sample2.csv', names=['c1', 'c2', 'c3'])  #컬럼명을 부여하지 않으면 첫 행이 컬럼명이 된다."
   ]
  },
  {
   "cell_type": "code",
   "execution_count": 101,
   "id": "b74ebb10",
   "metadata": {
    "ExecuteTime": {
     "end_time": "2023-09-26T02:31:14.247750Z",
     "start_time": "2023-09-26T02:31:14.221343Z"
    }
   },
   "outputs": [
    {
     "data": {
      "text/html": [
       "<div>\n",
       "<style scoped>\n",
       "    .dataframe tbody tr th:only-of-type {\n",
       "        vertical-align: middle;\n",
       "    }\n",
       "\n",
       "    .dataframe tbody tr th {\n",
       "        vertical-align: top;\n",
       "    }\n",
       "\n",
       "    .dataframe thead th {\n",
       "        text-align: right;\n",
       "    }\n",
       "</style>\n",
       "<table border=\"1\" class=\"dataframe\">\n",
       "  <thead>\n",
       "    <tr style=\"text-align: right;\">\n",
       "      <th></th>\n",
       "      <th>c2</th>\n",
       "      <th>c3</th>\n",
       "    </tr>\n",
       "    <tr>\n",
       "      <th>c1</th>\n",
       "      <th></th>\n",
       "      <th></th>\n",
       "    </tr>\n",
       "  </thead>\n",
       "  <tbody>\n",
       "    <tr>\n",
       "      <th>1</th>\n",
       "      <td>1.11</td>\n",
       "      <td>one</td>\n",
       "    </tr>\n",
       "    <tr>\n",
       "      <th>2</th>\n",
       "      <td>2.22</td>\n",
       "      <td>two</td>\n",
       "    </tr>\n",
       "    <tr>\n",
       "      <th>3</th>\n",
       "      <td>3.33</td>\n",
       "      <td>three</td>\n",
       "    </tr>\n",
       "  </tbody>\n",
       "</table>\n",
       "</div>"
      ],
      "text/plain": [
       "      c2      c3\n",
       "c1              \n",
       "1   1.11     one\n",
       "2   2.22     two\n",
       "3   3.33   three"
      ]
     },
     "execution_count": 101,
     "metadata": {},
     "output_type": "execute_result"
    }
   ],
   "source": [
    "pd.read_csv('sample1.csv', index_col='c1')  # c1을 행인덱스로 사용하기"
   ]
  },
  {
   "cell_type": "code",
   "execution_count": 104,
   "id": "a17e4d49",
   "metadata": {
    "ExecuteTime": {
     "end_time": "2023-09-26T02:37:26.430295Z",
     "start_time": "2023-09-26T02:37:26.410676Z"
    }
   },
   "outputs": [
    {
     "name": "stdout",
     "output_type": "stream",
     "text": [
      "Writing sample3.txt\n"
     ]
    }
   ],
   "source": [
    "%%writefile sample3.txt\n",
    "c1        c2         c3        c4\n",
    "0.179181  -1.538472  1.347553  0.43381\n",
    "1.024209  0.087307  -1.281997  0.49265\n",
    "0.417899  -2.002308  0.255245  -1.10515"
   ]
  },
  {
   "cell_type": "code",
   "execution_count": 106,
   "id": "f9d0a381",
   "metadata": {
    "ExecuteTime": {
     "end_time": "2023-09-26T02:39:08.744140Z",
     "start_time": "2023-09-26T02:39:08.720386Z"
    }
   },
   "outputs": [
    {
     "data": {
      "text/html": [
       "<div>\n",
       "<style scoped>\n",
       "    .dataframe tbody tr th:only-of-type {\n",
       "        vertical-align: middle;\n",
       "    }\n",
       "\n",
       "    .dataframe tbody tr th {\n",
       "        vertical-align: top;\n",
       "    }\n",
       "\n",
       "    .dataframe thead th {\n",
       "        text-align: right;\n",
       "    }\n",
       "</style>\n",
       "<table border=\"1\" class=\"dataframe\">\n",
       "  <thead>\n",
       "    <tr style=\"text-align: right;\">\n",
       "      <th></th>\n",
       "      <th>c1</th>\n",
       "      <th>c2</th>\n",
       "      <th>c3</th>\n",
       "      <th>c4</th>\n",
       "    </tr>\n",
       "  </thead>\n",
       "  <tbody>\n",
       "    <tr>\n",
       "      <th>0</th>\n",
       "      <td>0.179181</td>\n",
       "      <td>-1.538472</td>\n",
       "      <td>1.347553</td>\n",
       "      <td>0.43381</td>\n",
       "    </tr>\n",
       "    <tr>\n",
       "      <th>1</th>\n",
       "      <td>1.024209</td>\n",
       "      <td>0.087307</td>\n",
       "      <td>-1.281997</td>\n",
       "      <td>0.49265</td>\n",
       "    </tr>\n",
       "    <tr>\n",
       "      <th>2</th>\n",
       "      <td>0.417899</td>\n",
       "      <td>-2.002308</td>\n",
       "      <td>0.255245</td>\n",
       "      <td>-1.10515</td>\n",
       "    </tr>\n",
       "  </tbody>\n",
       "</table>\n",
       "</div>"
      ],
      "text/plain": [
       "         c1        c2        c3       c4\n",
       "0  0.179181 -1.538472  1.347553  0.43381\n",
       "1  1.024209  0.087307 -1.281997  0.49265\n",
       "2  0.417899 -2.002308  0.255245 -1.10515"
      ]
     },
     "execution_count": 106,
     "metadata": {},
     "output_type": "execute_result"
    }
   ],
   "source": [
    "pd.read_table('sample3.txt', sep='\\s+')"
   ]
  },
  {
   "cell_type": "code",
   "execution_count": 107,
   "id": "2baae0f7",
   "metadata": {
    "ExecuteTime": {
     "end_time": "2023-09-26T02:40:18.480778Z",
     "start_time": "2023-09-26T02:40:18.460563Z"
    }
   },
   "outputs": [
    {
     "name": "stdout",
     "output_type": "stream",
     "text": [
      "Writing sample4.txt\n"
     ]
    }
   ],
   "source": [
    "%%writefile sample4.txt\n",
    "파일 제목: sample4.txt\n",
    "데이터 포맷의 설명:\n",
    "c1, c2, c3\n",
    "1, 1.11, one\n",
    "2, 2.22, two\n",
    "3, 3.33, three"
   ]
  },
  {
   "cell_type": "code",
   "execution_count": 108,
   "id": "73b72024",
   "metadata": {
    "ExecuteTime": {
     "end_time": "2023-09-26T02:41:56.438046Z",
     "start_time": "2023-09-26T02:41:56.428486Z"
    }
   },
   "outputs": [
    {
     "data": {
      "text/html": [
       "<div>\n",
       "<style scoped>\n",
       "    .dataframe tbody tr th:only-of-type {\n",
       "        vertical-align: middle;\n",
       "    }\n",
       "\n",
       "    .dataframe tbody tr th {\n",
       "        vertical-align: top;\n",
       "    }\n",
       "\n",
       "    .dataframe thead th {\n",
       "        text-align: right;\n",
       "    }\n",
       "</style>\n",
       "<table border=\"1\" class=\"dataframe\">\n",
       "  <thead>\n",
       "    <tr style=\"text-align: right;\">\n",
       "      <th></th>\n",
       "      <th>c1</th>\n",
       "      <th>c2</th>\n",
       "      <th>c3</th>\n",
       "    </tr>\n",
       "  </thead>\n",
       "  <tbody>\n",
       "    <tr>\n",
       "      <th>0</th>\n",
       "      <td>1</td>\n",
       "      <td>1.11</td>\n",
       "      <td>one</td>\n",
       "    </tr>\n",
       "    <tr>\n",
       "      <th>1</th>\n",
       "      <td>2</td>\n",
       "      <td>2.22</td>\n",
       "      <td>two</td>\n",
       "    </tr>\n",
       "    <tr>\n",
       "      <th>2</th>\n",
       "      <td>3</td>\n",
       "      <td>3.33</td>\n",
       "      <td>three</td>\n",
       "    </tr>\n",
       "  </tbody>\n",
       "</table>\n",
       "</div>"
      ],
      "text/plain": [
       "   c1    c2      c3\n",
       "0   1  1.11     one\n",
       "1   2  2.22     two\n",
       "2   3  3.33   three"
      ]
     },
     "execution_count": 108,
     "metadata": {},
     "output_type": "execute_result"
    }
   ],
   "source": [
    "# skiprows: 해당 행을 가져오지 않음\n",
    "pd.read_csv('sample4.txt', skiprows=[0,1])  # txt 파일이지만 구분기호를 쉼표를 썼기 때문에 csv파일로 읽어올 수 있다."
   ]
  },
  {
   "cell_type": "code",
   "execution_count": 109,
   "id": "714eaeac",
   "metadata": {
    "ExecuteTime": {
     "end_time": "2023-09-26T02:42:39.706348Z",
     "start_time": "2023-09-26T02:42:39.698934Z"
    }
   },
   "outputs": [
    {
     "name": "stdout",
     "output_type": "stream",
     "text": [
      "Writing sample5.csv\n"
     ]
    }
   ],
   "source": [
    "%%writefile sample5.csv\n",
    "c1, c2, c3\n",
    "1, 1.11, one\n",
    "2, 2.22, two\n",
    "누락, 3.33, three"
   ]
  },
  {
   "cell_type": "code",
   "execution_count": 110,
   "id": "bb2ee9cf",
   "metadata": {
    "ExecuteTime": {
     "end_time": "2023-09-26T02:43:53.569759Z",
     "start_time": "2023-09-26T02:43:53.545369Z"
    }
   },
   "outputs": [
    {
     "data": {
      "text/html": [
       "<div>\n",
       "<style scoped>\n",
       "    .dataframe tbody tr th:only-of-type {\n",
       "        vertical-align: middle;\n",
       "    }\n",
       "\n",
       "    .dataframe tbody tr th {\n",
       "        vertical-align: top;\n",
       "    }\n",
       "\n",
       "    .dataframe thead th {\n",
       "        text-align: right;\n",
       "    }\n",
       "</style>\n",
       "<table border=\"1\" class=\"dataframe\">\n",
       "  <thead>\n",
       "    <tr style=\"text-align: right;\">\n",
       "      <th></th>\n",
       "      <th>c1</th>\n",
       "      <th>c2</th>\n",
       "      <th>c3</th>\n",
       "    </tr>\n",
       "  </thead>\n",
       "  <tbody>\n",
       "    <tr>\n",
       "      <th>0</th>\n",
       "      <td>1.0</td>\n",
       "      <td>1.11</td>\n",
       "      <td>one</td>\n",
       "    </tr>\n",
       "    <tr>\n",
       "      <th>1</th>\n",
       "      <td>2.0</td>\n",
       "      <td>2.22</td>\n",
       "      <td>two</td>\n",
       "    </tr>\n",
       "    <tr>\n",
       "      <th>2</th>\n",
       "      <td>NaN</td>\n",
       "      <td>3.33</td>\n",
       "      <td>three</td>\n",
       "    </tr>\n",
       "  </tbody>\n",
       "</table>\n",
       "</div>"
      ],
      "text/plain": [
       "    c1    c2      c3\n",
       "0  1.0  1.11     one\n",
       "1  2.0  2.22     two\n",
       "2  NaN  3.33   three"
      ]
     },
     "execution_count": 110,
     "metadata": {},
     "output_type": "execute_result"
    }
   ],
   "source": [
    "# na_values: NaN으로 취급할 값을 담는 옵션\n",
    "df = pd.read_csv('sample5.csv', na_values=['누락'])\n",
    "df"
   ]
  },
  {
   "cell_type": "markdown",
   "id": "ea19610d",
   "metadata": {},
   "source": [
    "### csv 파일로 저장"
   ]
  },
  {
   "cell_type": "code",
   "execution_count": 111,
   "id": "ee1bce5a",
   "metadata": {
    "ExecuteTime": {
     "end_time": "2023-09-26T02:45:01.060423Z",
     "start_time": "2023-09-26T02:45:01.039992Z"
    }
   },
   "outputs": [],
   "source": [
    "df.to_csv('sample6.csv')"
   ]
  },
  {
   "cell_type": "markdown",
   "id": "80e71400",
   "metadata": {},
   "source": [
    "### 인터넷 상에 저장된 csv 파일 로딩"
   ]
  },
  {
   "cell_type": "code",
   "execution_count": 112,
   "id": "86e25920",
   "metadata": {
    "ExecuteTime": {
     "end_time": "2023-09-26T02:47:16.861210Z",
     "start_time": "2023-09-26T02:47:16.663144Z"
    }
   },
   "outputs": [],
   "source": [
    "titanic = pd.read_csv('https://raw.githubusercontent.com/datascienceschool/docker_rpython/master/data/titanic.csv')"
   ]
  },
  {
   "cell_type": "code",
   "execution_count": 113,
   "id": "41ab68ab",
   "metadata": {
    "ExecuteTime": {
     "end_time": "2023-09-26T02:48:32.188987Z",
     "start_time": "2023-09-26T02:48:32.174980Z"
    }
   },
   "outputs": [
    {
     "name": "stdout",
     "output_type": "stream",
     "text": [
      "<class 'pandas.core.frame.DataFrame'>\n",
      "RangeIndex: 891 entries, 0 to 890\n",
      "Data columns (total 12 columns):\n",
      " #   Column       Non-Null Count  Dtype  \n",
      "---  ------       --------------  -----  \n",
      " 0   PassengerId  891 non-null    int64  \n",
      " 1   Survived     891 non-null    int64  \n",
      " 2   Pclass       891 non-null    int64  \n",
      " 3   Name         891 non-null    object \n",
      " 4   Sex          891 non-null    object \n",
      " 5   Age          714 non-null    float64\n",
      " 6   SibSp        891 non-null    int64  \n",
      " 7   Parch        891 non-null    int64  \n",
      " 8   Ticket       891 non-null    object \n",
      " 9   Fare         891 non-null    float64\n",
      " 10  Cabin        204 non-null    object \n",
      " 11  Embarked     889 non-null    object \n",
      "dtypes: float64(2), int64(5), object(5)\n",
      "memory usage: 83.7+ KB\n"
     ]
    }
   ],
   "source": [
    "titanic.info()"
   ]
  },
  {
   "cell_type": "code",
   "execution_count": 114,
   "id": "0e57fe90",
   "metadata": {
    "ExecuteTime": {
     "end_time": "2023-09-26T02:48:59.783300Z",
     "start_time": "2023-09-26T02:48:59.756615Z"
    }
   },
   "outputs": [
    {
     "data": {
      "text/html": [
       "<div>\n",
       "<style scoped>\n",
       "    .dataframe tbody tr th:only-of-type {\n",
       "        vertical-align: middle;\n",
       "    }\n",
       "\n",
       "    .dataframe tbody tr th {\n",
       "        vertical-align: top;\n",
       "    }\n",
       "\n",
       "    .dataframe thead th {\n",
       "        text-align: right;\n",
       "    }\n",
       "</style>\n",
       "<table border=\"1\" class=\"dataframe\">\n",
       "  <thead>\n",
       "    <tr style=\"text-align: right;\">\n",
       "      <th></th>\n",
       "      <th>PassengerId</th>\n",
       "      <th>Survived</th>\n",
       "      <th>Pclass</th>\n",
       "      <th>Age</th>\n",
       "      <th>SibSp</th>\n",
       "      <th>Parch</th>\n",
       "      <th>Fare</th>\n",
       "    </tr>\n",
       "  </thead>\n",
       "  <tbody>\n",
       "    <tr>\n",
       "      <th>count</th>\n",
       "      <td>891.000000</td>\n",
       "      <td>891.000000</td>\n",
       "      <td>891.000000</td>\n",
       "      <td>714.000000</td>\n",
       "      <td>891.000000</td>\n",
       "      <td>891.000000</td>\n",
       "      <td>891.000000</td>\n",
       "    </tr>\n",
       "    <tr>\n",
       "      <th>mean</th>\n",
       "      <td>446.000000</td>\n",
       "      <td>0.383838</td>\n",
       "      <td>2.308642</td>\n",
       "      <td>29.699118</td>\n",
       "      <td>0.523008</td>\n",
       "      <td>0.381594</td>\n",
       "      <td>32.204208</td>\n",
       "    </tr>\n",
       "    <tr>\n",
       "      <th>std</th>\n",
       "      <td>257.353842</td>\n",
       "      <td>0.486592</td>\n",
       "      <td>0.836071</td>\n",
       "      <td>14.526497</td>\n",
       "      <td>1.102743</td>\n",
       "      <td>0.806057</td>\n",
       "      <td>49.693429</td>\n",
       "    </tr>\n",
       "    <tr>\n",
       "      <th>min</th>\n",
       "      <td>1.000000</td>\n",
       "      <td>0.000000</td>\n",
       "      <td>1.000000</td>\n",
       "      <td>0.420000</td>\n",
       "      <td>0.000000</td>\n",
       "      <td>0.000000</td>\n",
       "      <td>0.000000</td>\n",
       "    </tr>\n",
       "    <tr>\n",
       "      <th>25%</th>\n",
       "      <td>223.500000</td>\n",
       "      <td>0.000000</td>\n",
       "      <td>2.000000</td>\n",
       "      <td>20.125000</td>\n",
       "      <td>0.000000</td>\n",
       "      <td>0.000000</td>\n",
       "      <td>7.910400</td>\n",
       "    </tr>\n",
       "    <tr>\n",
       "      <th>50%</th>\n",
       "      <td>446.000000</td>\n",
       "      <td>0.000000</td>\n",
       "      <td>3.000000</td>\n",
       "      <td>28.000000</td>\n",
       "      <td>0.000000</td>\n",
       "      <td>0.000000</td>\n",
       "      <td>14.454200</td>\n",
       "    </tr>\n",
       "    <tr>\n",
       "      <th>75%</th>\n",
       "      <td>668.500000</td>\n",
       "      <td>1.000000</td>\n",
       "      <td>3.000000</td>\n",
       "      <td>38.000000</td>\n",
       "      <td>1.000000</td>\n",
       "      <td>0.000000</td>\n",
       "      <td>31.000000</td>\n",
       "    </tr>\n",
       "    <tr>\n",
       "      <th>max</th>\n",
       "      <td>891.000000</td>\n",
       "      <td>1.000000</td>\n",
       "      <td>3.000000</td>\n",
       "      <td>80.000000</td>\n",
       "      <td>8.000000</td>\n",
       "      <td>6.000000</td>\n",
       "      <td>512.329200</td>\n",
       "    </tr>\n",
       "  </tbody>\n",
       "</table>\n",
       "</div>"
      ],
      "text/plain": [
       "       PassengerId    Survived      Pclass         Age       SibSp  \\\n",
       "count   891.000000  891.000000  891.000000  714.000000  891.000000   \n",
       "mean    446.000000    0.383838    2.308642   29.699118    0.523008   \n",
       "std     257.353842    0.486592    0.836071   14.526497    1.102743   \n",
       "min       1.000000    0.000000    1.000000    0.420000    0.000000   \n",
       "25%     223.500000    0.000000    2.000000   20.125000    0.000000   \n",
       "50%     446.000000    0.000000    3.000000   28.000000    0.000000   \n",
       "75%     668.500000    1.000000    3.000000   38.000000    1.000000   \n",
       "max     891.000000    1.000000    3.000000   80.000000    8.000000   \n",
       "\n",
       "            Parch        Fare  \n",
       "count  891.000000  891.000000  \n",
       "mean     0.381594   32.204208  \n",
       "std      0.806057   49.693429  \n",
       "min      0.000000    0.000000  \n",
       "25%      0.000000    7.910400  \n",
       "50%      0.000000   14.454200  \n",
       "75%      0.000000   31.000000  \n",
       "max      6.000000  512.329200  "
      ]
     },
     "execution_count": 114,
     "metadata": {},
     "output_type": "execute_result"
    }
   ],
   "source": [
    "titanic.describe()"
   ]
  },
  {
   "cell_type": "code",
   "execution_count": 115,
   "id": "8f930deb",
   "metadata": {
    "ExecuteTime": {
     "end_time": "2023-09-26T02:50:54.653886Z",
     "start_time": "2023-09-26T02:50:54.638849Z"
    }
   },
   "outputs": [
    {
     "data": {
      "text/html": [
       "<div>\n",
       "<style scoped>\n",
       "    .dataframe tbody tr th:only-of-type {\n",
       "        vertical-align: middle;\n",
       "    }\n",
       "\n",
       "    .dataframe tbody tr th {\n",
       "        vertical-align: top;\n",
       "    }\n",
       "\n",
       "    .dataframe thead th {\n",
       "        text-align: right;\n",
       "    }\n",
       "</style>\n",
       "<table border=\"1\" class=\"dataframe\">\n",
       "  <thead>\n",
       "    <tr style=\"text-align: right;\">\n",
       "      <th></th>\n",
       "      <th>PassengerId</th>\n",
       "      <th>Survived</th>\n",
       "      <th>Pclass</th>\n",
       "      <th>Name</th>\n",
       "      <th>Sex</th>\n",
       "      <th>Age</th>\n",
       "      <th>SibSp</th>\n",
       "      <th>Parch</th>\n",
       "      <th>Ticket</th>\n",
       "      <th>Fare</th>\n",
       "      <th>Cabin</th>\n",
       "      <th>Embarked</th>\n",
       "    </tr>\n",
       "  </thead>\n",
       "  <tbody>\n",
       "    <tr>\n",
       "      <th>0</th>\n",
       "      <td>1</td>\n",
       "      <td>0</td>\n",
       "      <td>3</td>\n",
       "      <td>Braund, Mr. Owen Harris</td>\n",
       "      <td>male</td>\n",
       "      <td>22.0</td>\n",
       "      <td>1</td>\n",
       "      <td>0</td>\n",
       "      <td>A/5 21171</td>\n",
       "      <td>7.2500</td>\n",
       "      <td>NaN</td>\n",
       "      <td>S</td>\n",
       "    </tr>\n",
       "    <tr>\n",
       "      <th>1</th>\n",
       "      <td>2</td>\n",
       "      <td>1</td>\n",
       "      <td>1</td>\n",
       "      <td>Cumings, Mrs. John Bradley (Florence Briggs Th...</td>\n",
       "      <td>female</td>\n",
       "      <td>38.0</td>\n",
       "      <td>1</td>\n",
       "      <td>0</td>\n",
       "      <td>PC 17599</td>\n",
       "      <td>71.2833</td>\n",
       "      <td>C85</td>\n",
       "      <td>C</td>\n",
       "    </tr>\n",
       "    <tr>\n",
       "      <th>2</th>\n",
       "      <td>3</td>\n",
       "      <td>1</td>\n",
       "      <td>3</td>\n",
       "      <td>Heikkinen, Miss. Laina</td>\n",
       "      <td>female</td>\n",
       "      <td>26.0</td>\n",
       "      <td>0</td>\n",
       "      <td>0</td>\n",
       "      <td>STON/O2. 3101282</td>\n",
       "      <td>7.9250</td>\n",
       "      <td>NaN</td>\n",
       "      <td>S</td>\n",
       "    </tr>\n",
       "    <tr>\n",
       "      <th>3</th>\n",
       "      <td>4</td>\n",
       "      <td>1</td>\n",
       "      <td>1</td>\n",
       "      <td>Futrelle, Mrs. Jacques Heath (Lily May Peel)</td>\n",
       "      <td>female</td>\n",
       "      <td>35.0</td>\n",
       "      <td>1</td>\n",
       "      <td>0</td>\n",
       "      <td>113803</td>\n",
       "      <td>53.1000</td>\n",
       "      <td>C123</td>\n",
       "      <td>S</td>\n",
       "    </tr>\n",
       "    <tr>\n",
       "      <th>4</th>\n",
       "      <td>5</td>\n",
       "      <td>0</td>\n",
       "      <td>3</td>\n",
       "      <td>Allen, Mr. William Henry</td>\n",
       "      <td>male</td>\n",
       "      <td>35.0</td>\n",
       "      <td>0</td>\n",
       "      <td>0</td>\n",
       "      <td>373450</td>\n",
       "      <td>8.0500</td>\n",
       "      <td>NaN</td>\n",
       "      <td>S</td>\n",
       "    </tr>\n",
       "    <tr>\n",
       "      <th>...</th>\n",
       "      <td>...</td>\n",
       "      <td>...</td>\n",
       "      <td>...</td>\n",
       "      <td>...</td>\n",
       "      <td>...</td>\n",
       "      <td>...</td>\n",
       "      <td>...</td>\n",
       "      <td>...</td>\n",
       "      <td>...</td>\n",
       "      <td>...</td>\n",
       "      <td>...</td>\n",
       "      <td>...</td>\n",
       "    </tr>\n",
       "    <tr>\n",
       "      <th>886</th>\n",
       "      <td>887</td>\n",
       "      <td>0</td>\n",
       "      <td>2</td>\n",
       "      <td>Montvila, Rev. Juozas</td>\n",
       "      <td>male</td>\n",
       "      <td>27.0</td>\n",
       "      <td>0</td>\n",
       "      <td>0</td>\n",
       "      <td>211536</td>\n",
       "      <td>13.0000</td>\n",
       "      <td>NaN</td>\n",
       "      <td>S</td>\n",
       "    </tr>\n",
       "    <tr>\n",
       "      <th>887</th>\n",
       "      <td>888</td>\n",
       "      <td>1</td>\n",
       "      <td>1</td>\n",
       "      <td>Graham, Miss. Margaret Edith</td>\n",
       "      <td>female</td>\n",
       "      <td>19.0</td>\n",
       "      <td>0</td>\n",
       "      <td>0</td>\n",
       "      <td>112053</td>\n",
       "      <td>30.0000</td>\n",
       "      <td>B42</td>\n",
       "      <td>S</td>\n",
       "    </tr>\n",
       "    <tr>\n",
       "      <th>888</th>\n",
       "      <td>889</td>\n",
       "      <td>0</td>\n",
       "      <td>3</td>\n",
       "      <td>Johnston, Miss. Catherine Helen \"Carrie\"</td>\n",
       "      <td>female</td>\n",
       "      <td>NaN</td>\n",
       "      <td>1</td>\n",
       "      <td>2</td>\n",
       "      <td>W./C. 6607</td>\n",
       "      <td>23.4500</td>\n",
       "      <td>NaN</td>\n",
       "      <td>S</td>\n",
       "    </tr>\n",
       "    <tr>\n",
       "      <th>889</th>\n",
       "      <td>890</td>\n",
       "      <td>1</td>\n",
       "      <td>1</td>\n",
       "      <td>Behr, Mr. Karl Howell</td>\n",
       "      <td>male</td>\n",
       "      <td>26.0</td>\n",
       "      <td>0</td>\n",
       "      <td>0</td>\n",
       "      <td>111369</td>\n",
       "      <td>30.0000</td>\n",
       "      <td>C148</td>\n",
       "      <td>C</td>\n",
       "    </tr>\n",
       "    <tr>\n",
       "      <th>890</th>\n",
       "      <td>891</td>\n",
       "      <td>0</td>\n",
       "      <td>3</td>\n",
       "      <td>Dooley, Mr. Patrick</td>\n",
       "      <td>male</td>\n",
       "      <td>32.0</td>\n",
       "      <td>0</td>\n",
       "      <td>0</td>\n",
       "      <td>370376</td>\n",
       "      <td>7.7500</td>\n",
       "      <td>NaN</td>\n",
       "      <td>Q</td>\n",
       "    </tr>\n",
       "  </tbody>\n",
       "</table>\n",
       "<p>891 rows × 12 columns</p>\n",
       "</div>"
      ],
      "text/plain": [
       "     PassengerId  Survived  Pclass  \\\n",
       "0              1         0       3   \n",
       "1              2         1       1   \n",
       "2              3         1       3   \n",
       "3              4         1       1   \n",
       "4              5         0       3   \n",
       "..           ...       ...     ...   \n",
       "886          887         0       2   \n",
       "887          888         1       1   \n",
       "888          889         0       3   \n",
       "889          890         1       1   \n",
       "890          891         0       3   \n",
       "\n",
       "                                                  Name     Sex   Age  SibSp  \\\n",
       "0                              Braund, Mr. Owen Harris    male  22.0      1   \n",
       "1    Cumings, Mrs. John Bradley (Florence Briggs Th...  female  38.0      1   \n",
       "2                               Heikkinen, Miss. Laina  female  26.0      0   \n",
       "3         Futrelle, Mrs. Jacques Heath (Lily May Peel)  female  35.0      1   \n",
       "4                             Allen, Mr. William Henry    male  35.0      0   \n",
       "..                                                 ...     ...   ...    ...   \n",
       "886                              Montvila, Rev. Juozas    male  27.0      0   \n",
       "887                       Graham, Miss. Margaret Edith  female  19.0      0   \n",
       "888           Johnston, Miss. Catherine Helen \"Carrie\"  female   NaN      1   \n",
       "889                              Behr, Mr. Karl Howell    male  26.0      0   \n",
       "890                                Dooley, Mr. Patrick    male  32.0      0   \n",
       "\n",
       "     Parch            Ticket     Fare Cabin Embarked  \n",
       "0        0         A/5 21171   7.2500   NaN        S  \n",
       "1        0          PC 17599  71.2833   C85        C  \n",
       "2        0  STON/O2. 3101282   7.9250   NaN        S  \n",
       "3        0            113803  53.1000  C123        S  \n",
       "4        0            373450   8.0500   NaN        S  \n",
       "..     ...               ...      ...   ...      ...  \n",
       "886      0            211536  13.0000   NaN        S  \n",
       "887      0            112053  30.0000   B42        S  \n",
       "888      2        W./C. 6607  23.4500   NaN        S  \n",
       "889      0            111369  30.0000  C148        C  \n",
       "890      0            370376   7.7500   NaN        Q  \n",
       "\n",
       "[891 rows x 12 columns]"
      ]
     },
     "execution_count": 115,
     "metadata": {},
     "output_type": "execute_result"
    }
   ],
   "source": [
    "titanic"
   ]
  },
  {
   "cell_type": "code",
   "execution_count": 116,
   "id": "8fd2e1cc",
   "metadata": {
    "ExecuteTime": {
     "end_time": "2023-09-26T02:51:12.541438Z",
     "start_time": "2023-09-26T02:51:12.520739Z"
    }
   },
   "outputs": [
    {
     "data": {
      "text/html": [
       "<div>\n",
       "<style scoped>\n",
       "    .dataframe tbody tr th:only-of-type {\n",
       "        vertical-align: middle;\n",
       "    }\n",
       "\n",
       "    .dataframe tbody tr th {\n",
       "        vertical-align: top;\n",
       "    }\n",
       "\n",
       "    .dataframe thead th {\n",
       "        text-align: right;\n",
       "    }\n",
       "</style>\n",
       "<table border=\"1\" class=\"dataframe\">\n",
       "  <thead>\n",
       "    <tr style=\"text-align: right;\">\n",
       "      <th></th>\n",
       "      <th>PassengerId</th>\n",
       "      <th>Survived</th>\n",
       "      <th>Pclass</th>\n",
       "      <th>Name</th>\n",
       "      <th>Sex</th>\n",
       "      <th>Age</th>\n",
       "      <th>SibSp</th>\n",
       "      <th>Parch</th>\n",
       "      <th>Ticket</th>\n",
       "      <th>Fare</th>\n",
       "      <th>Cabin</th>\n",
       "      <th>Embarked</th>\n",
       "    </tr>\n",
       "  </thead>\n",
       "  <tbody>\n",
       "    <tr>\n",
       "      <th>0</th>\n",
       "      <td>1</td>\n",
       "      <td>0</td>\n",
       "      <td>3</td>\n",
       "      <td>Braund, Mr. Owen Harris</td>\n",
       "      <td>male</td>\n",
       "      <td>22.0</td>\n",
       "      <td>1</td>\n",
       "      <td>0</td>\n",
       "      <td>A/5 21171</td>\n",
       "      <td>7.2500</td>\n",
       "      <td>NaN</td>\n",
       "      <td>S</td>\n",
       "    </tr>\n",
       "    <tr>\n",
       "      <th>1</th>\n",
       "      <td>2</td>\n",
       "      <td>1</td>\n",
       "      <td>1</td>\n",
       "      <td>Cumings, Mrs. John Bradley (Florence Briggs Th...</td>\n",
       "      <td>female</td>\n",
       "      <td>38.0</td>\n",
       "      <td>1</td>\n",
       "      <td>0</td>\n",
       "      <td>PC 17599</td>\n",
       "      <td>71.2833</td>\n",
       "      <td>C85</td>\n",
       "      <td>C</td>\n",
       "    </tr>\n",
       "    <tr>\n",
       "      <th>2</th>\n",
       "      <td>3</td>\n",
       "      <td>1</td>\n",
       "      <td>3</td>\n",
       "      <td>Heikkinen, Miss. Laina</td>\n",
       "      <td>female</td>\n",
       "      <td>26.0</td>\n",
       "      <td>0</td>\n",
       "      <td>0</td>\n",
       "      <td>STON/O2. 3101282</td>\n",
       "      <td>7.9250</td>\n",
       "      <td>NaN</td>\n",
       "      <td>S</td>\n",
       "    </tr>\n",
       "    <tr>\n",
       "      <th>3</th>\n",
       "      <td>4</td>\n",
       "      <td>1</td>\n",
       "      <td>1</td>\n",
       "      <td>Futrelle, Mrs. Jacques Heath (Lily May Peel)</td>\n",
       "      <td>female</td>\n",
       "      <td>35.0</td>\n",
       "      <td>1</td>\n",
       "      <td>0</td>\n",
       "      <td>113803</td>\n",
       "      <td>53.1000</td>\n",
       "      <td>C123</td>\n",
       "      <td>S</td>\n",
       "    </tr>\n",
       "    <tr>\n",
       "      <th>4</th>\n",
       "      <td>5</td>\n",
       "      <td>0</td>\n",
       "      <td>3</td>\n",
       "      <td>Allen, Mr. William Henry</td>\n",
       "      <td>male</td>\n",
       "      <td>35.0</td>\n",
       "      <td>0</td>\n",
       "      <td>0</td>\n",
       "      <td>373450</td>\n",
       "      <td>8.0500</td>\n",
       "      <td>NaN</td>\n",
       "      <td>S</td>\n",
       "    </tr>\n",
       "  </tbody>\n",
       "</table>\n",
       "</div>"
      ],
      "text/plain": [
       "   PassengerId  Survived  Pclass  \\\n",
       "0            1         0       3   \n",
       "1            2         1       1   \n",
       "2            3         1       3   \n",
       "3            4         1       1   \n",
       "4            5         0       3   \n",
       "\n",
       "                                                Name     Sex   Age  SibSp  \\\n",
       "0                            Braund, Mr. Owen Harris    male  22.0      1   \n",
       "1  Cumings, Mrs. John Bradley (Florence Briggs Th...  female  38.0      1   \n",
       "2                             Heikkinen, Miss. Laina  female  26.0      0   \n",
       "3       Futrelle, Mrs. Jacques Heath (Lily May Peel)  female  35.0      1   \n",
       "4                           Allen, Mr. William Henry    male  35.0      0   \n",
       "\n",
       "   Parch            Ticket     Fare Cabin Embarked  \n",
       "0      0         A/5 21171   7.2500   NaN        S  \n",
       "1      0          PC 17599  71.2833   C85        C  \n",
       "2      0  STON/O2. 3101282   7.9250   NaN        S  \n",
       "3      0            113803  53.1000  C123        S  \n",
       "4      0            373450   8.0500   NaN        S  "
      ]
     },
     "execution_count": 116,
     "metadata": {},
     "output_type": "execute_result"
    }
   ],
   "source": [
    "# head, tail\n",
    "titanic.head()  # default = 5"
   ]
  },
  {
   "cell_type": "code",
   "execution_count": 117,
   "id": "a3d48879",
   "metadata": {
    "ExecuteTime": {
     "end_time": "2023-09-26T02:51:48.261159Z",
     "start_time": "2023-09-26T02:51:48.244848Z"
    }
   },
   "outputs": [
    {
     "data": {
      "text/html": [
       "<div>\n",
       "<style scoped>\n",
       "    .dataframe tbody tr th:only-of-type {\n",
       "        vertical-align: middle;\n",
       "    }\n",
       "\n",
       "    .dataframe tbody tr th {\n",
       "        vertical-align: top;\n",
       "    }\n",
       "\n",
       "    .dataframe thead th {\n",
       "        text-align: right;\n",
       "    }\n",
       "</style>\n",
       "<table border=\"1\" class=\"dataframe\">\n",
       "  <thead>\n",
       "    <tr style=\"text-align: right;\">\n",
       "      <th></th>\n",
       "      <th>PassengerId</th>\n",
       "      <th>Survived</th>\n",
       "      <th>Pclass</th>\n",
       "      <th>Name</th>\n",
       "      <th>Sex</th>\n",
       "      <th>Age</th>\n",
       "      <th>SibSp</th>\n",
       "      <th>Parch</th>\n",
       "      <th>Ticket</th>\n",
       "      <th>Fare</th>\n",
       "      <th>Cabin</th>\n",
       "      <th>Embarked</th>\n",
       "    </tr>\n",
       "  </thead>\n",
       "  <tbody>\n",
       "    <tr>\n",
       "      <th>881</th>\n",
       "      <td>882</td>\n",
       "      <td>0</td>\n",
       "      <td>3</td>\n",
       "      <td>Markun, Mr. Johann</td>\n",
       "      <td>male</td>\n",
       "      <td>33.0</td>\n",
       "      <td>0</td>\n",
       "      <td>0</td>\n",
       "      <td>349257</td>\n",
       "      <td>7.8958</td>\n",
       "      <td>NaN</td>\n",
       "      <td>S</td>\n",
       "    </tr>\n",
       "    <tr>\n",
       "      <th>882</th>\n",
       "      <td>883</td>\n",
       "      <td>0</td>\n",
       "      <td>3</td>\n",
       "      <td>Dahlberg, Miss. Gerda Ulrika</td>\n",
       "      <td>female</td>\n",
       "      <td>22.0</td>\n",
       "      <td>0</td>\n",
       "      <td>0</td>\n",
       "      <td>7552</td>\n",
       "      <td>10.5167</td>\n",
       "      <td>NaN</td>\n",
       "      <td>S</td>\n",
       "    </tr>\n",
       "    <tr>\n",
       "      <th>883</th>\n",
       "      <td>884</td>\n",
       "      <td>0</td>\n",
       "      <td>2</td>\n",
       "      <td>Banfield, Mr. Frederick James</td>\n",
       "      <td>male</td>\n",
       "      <td>28.0</td>\n",
       "      <td>0</td>\n",
       "      <td>0</td>\n",
       "      <td>C.A./SOTON 34068</td>\n",
       "      <td>10.5000</td>\n",
       "      <td>NaN</td>\n",
       "      <td>S</td>\n",
       "    </tr>\n",
       "    <tr>\n",
       "      <th>884</th>\n",
       "      <td>885</td>\n",
       "      <td>0</td>\n",
       "      <td>3</td>\n",
       "      <td>Sutehall, Mr. Henry Jr</td>\n",
       "      <td>male</td>\n",
       "      <td>25.0</td>\n",
       "      <td>0</td>\n",
       "      <td>0</td>\n",
       "      <td>SOTON/OQ 392076</td>\n",
       "      <td>7.0500</td>\n",
       "      <td>NaN</td>\n",
       "      <td>S</td>\n",
       "    </tr>\n",
       "    <tr>\n",
       "      <th>885</th>\n",
       "      <td>886</td>\n",
       "      <td>0</td>\n",
       "      <td>3</td>\n",
       "      <td>Rice, Mrs. William (Margaret Norton)</td>\n",
       "      <td>female</td>\n",
       "      <td>39.0</td>\n",
       "      <td>0</td>\n",
       "      <td>5</td>\n",
       "      <td>382652</td>\n",
       "      <td>29.1250</td>\n",
       "      <td>NaN</td>\n",
       "      <td>Q</td>\n",
       "    </tr>\n",
       "    <tr>\n",
       "      <th>886</th>\n",
       "      <td>887</td>\n",
       "      <td>0</td>\n",
       "      <td>2</td>\n",
       "      <td>Montvila, Rev. Juozas</td>\n",
       "      <td>male</td>\n",
       "      <td>27.0</td>\n",
       "      <td>0</td>\n",
       "      <td>0</td>\n",
       "      <td>211536</td>\n",
       "      <td>13.0000</td>\n",
       "      <td>NaN</td>\n",
       "      <td>S</td>\n",
       "    </tr>\n",
       "    <tr>\n",
       "      <th>887</th>\n",
       "      <td>888</td>\n",
       "      <td>1</td>\n",
       "      <td>1</td>\n",
       "      <td>Graham, Miss. Margaret Edith</td>\n",
       "      <td>female</td>\n",
       "      <td>19.0</td>\n",
       "      <td>0</td>\n",
       "      <td>0</td>\n",
       "      <td>112053</td>\n",
       "      <td>30.0000</td>\n",
       "      <td>B42</td>\n",
       "      <td>S</td>\n",
       "    </tr>\n",
       "    <tr>\n",
       "      <th>888</th>\n",
       "      <td>889</td>\n",
       "      <td>0</td>\n",
       "      <td>3</td>\n",
       "      <td>Johnston, Miss. Catherine Helen \"Carrie\"</td>\n",
       "      <td>female</td>\n",
       "      <td>NaN</td>\n",
       "      <td>1</td>\n",
       "      <td>2</td>\n",
       "      <td>W./C. 6607</td>\n",
       "      <td>23.4500</td>\n",
       "      <td>NaN</td>\n",
       "      <td>S</td>\n",
       "    </tr>\n",
       "    <tr>\n",
       "      <th>889</th>\n",
       "      <td>890</td>\n",
       "      <td>1</td>\n",
       "      <td>1</td>\n",
       "      <td>Behr, Mr. Karl Howell</td>\n",
       "      <td>male</td>\n",
       "      <td>26.0</td>\n",
       "      <td>0</td>\n",
       "      <td>0</td>\n",
       "      <td>111369</td>\n",
       "      <td>30.0000</td>\n",
       "      <td>C148</td>\n",
       "      <td>C</td>\n",
       "    </tr>\n",
       "    <tr>\n",
       "      <th>890</th>\n",
       "      <td>891</td>\n",
       "      <td>0</td>\n",
       "      <td>3</td>\n",
       "      <td>Dooley, Mr. Patrick</td>\n",
       "      <td>male</td>\n",
       "      <td>32.0</td>\n",
       "      <td>0</td>\n",
       "      <td>0</td>\n",
       "      <td>370376</td>\n",
       "      <td>7.7500</td>\n",
       "      <td>NaN</td>\n",
       "      <td>Q</td>\n",
       "    </tr>\n",
       "  </tbody>\n",
       "</table>\n",
       "</div>"
      ],
      "text/plain": [
       "     PassengerId  Survived  Pclass                                      Name  \\\n",
       "881          882         0       3                        Markun, Mr. Johann   \n",
       "882          883         0       3              Dahlberg, Miss. Gerda Ulrika   \n",
       "883          884         0       2             Banfield, Mr. Frederick James   \n",
       "884          885         0       3                    Sutehall, Mr. Henry Jr   \n",
       "885          886         0       3      Rice, Mrs. William (Margaret Norton)   \n",
       "886          887         0       2                     Montvila, Rev. Juozas   \n",
       "887          888         1       1              Graham, Miss. Margaret Edith   \n",
       "888          889         0       3  Johnston, Miss. Catherine Helen \"Carrie\"   \n",
       "889          890         1       1                     Behr, Mr. Karl Howell   \n",
       "890          891         0       3                       Dooley, Mr. Patrick   \n",
       "\n",
       "        Sex   Age  SibSp  Parch            Ticket     Fare Cabin Embarked  \n",
       "881    male  33.0      0      0            349257   7.8958   NaN        S  \n",
       "882  female  22.0      0      0              7552  10.5167   NaN        S  \n",
       "883    male  28.0      0      0  C.A./SOTON 34068  10.5000   NaN        S  \n",
       "884    male  25.0      0      0   SOTON/OQ 392076   7.0500   NaN        S  \n",
       "885  female  39.0      0      5            382652  29.1250   NaN        Q  \n",
       "886    male  27.0      0      0            211536  13.0000   NaN        S  \n",
       "887  female  19.0      0      0            112053  30.0000   B42        S  \n",
       "888  female   NaN      1      2        W./C. 6607  23.4500   NaN        S  \n",
       "889    male  26.0      0      0            111369  30.0000  C148        C  \n",
       "890    male  32.0      0      0            370376   7.7500   NaN        Q  "
      ]
     },
     "execution_count": 117,
     "metadata": {},
     "output_type": "execute_result"
    }
   ],
   "source": [
    "titanic.tail(10)"
   ]
  },
  {
   "cell_type": "markdown",
   "id": "1d9a2c40",
   "metadata": {},
   "source": [
    "## 고급 인덱싱\n",
    "- 데이터프레임에서 특정 데이터만 추출하는 기능을 인덱싱이라고 부른다.\n",
    "- 정수인덱싱, 라벨인덱싱\n",
    "- [행인덱스, 열인덱스]\n",
    "- loc: 라벨인덱싱\n",
    "- iloc: 정수인덱싱"
   ]
  },
  {
   "cell_type": "code",
   "execution_count": 119,
   "id": "b12efb1a",
   "metadata": {
    "ExecuteTime": {
     "end_time": "2023-09-26T03:18:39.815079Z",
     "start_time": "2023-09-26T03:18:39.799476Z"
    }
   },
   "outputs": [
    {
     "data": {
      "text/html": [
       "<div>\n",
       "<style scoped>\n",
       "    .dataframe tbody tr th:only-of-type {\n",
       "        vertical-align: middle;\n",
       "    }\n",
       "\n",
       "    .dataframe tbody tr th {\n",
       "        vertical-align: top;\n",
       "    }\n",
       "\n",
       "    .dataframe thead th {\n",
       "        text-align: right;\n",
       "    }\n",
       "</style>\n",
       "<table border=\"1\" class=\"dataframe\">\n",
       "  <thead>\n",
       "    <tr style=\"text-align: right;\">\n",
       "      <th></th>\n",
       "      <th>A</th>\n",
       "      <th>B</th>\n",
       "      <th>C</th>\n",
       "      <th>D</th>\n",
       "    </tr>\n",
       "  </thead>\n",
       "  <tbody>\n",
       "    <tr>\n",
       "      <th>a</th>\n",
       "      <td>10</td>\n",
       "      <td>11</td>\n",
       "      <td>12</td>\n",
       "      <td>13</td>\n",
       "    </tr>\n",
       "    <tr>\n",
       "      <th>b</th>\n",
       "      <td>14</td>\n",
       "      <td>15</td>\n",
       "      <td>16</td>\n",
       "      <td>17</td>\n",
       "    </tr>\n",
       "    <tr>\n",
       "      <th>c</th>\n",
       "      <td>18</td>\n",
       "      <td>19</td>\n",
       "      <td>20</td>\n",
       "      <td>21</td>\n",
       "    </tr>\n",
       "  </tbody>\n",
       "</table>\n",
       "</div>"
      ],
      "text/plain": [
       "    A   B   C   D\n",
       "a  10  11  12  13\n",
       "b  14  15  16  17\n",
       "c  18  19  20  21"
      ]
     },
     "execution_count": 119,
     "metadata": {},
     "output_type": "execute_result"
    }
   ],
   "source": [
    "df = pd.DataFrame(np.arange(10, 22).reshape(3,4),\n",
    "                  index = ['a', 'b', 'c'],\n",
    "                  columns = ['A', 'B', 'C', 'D']\n",
    "                 )\n",
    "df"
   ]
  },
  {
   "cell_type": "code",
   "execution_count": 120,
   "id": "d45864b6",
   "metadata": {
    "ExecuteTime": {
     "end_time": "2023-09-26T03:19:30.592263Z",
     "start_time": "2023-09-26T03:19:30.582218Z"
    }
   },
   "outputs": [
    {
     "data": {
      "text/plain": [
       "A    10\n",
       "B    11\n",
       "C    12\n",
       "D    13\n",
       "Name: a, dtype: int32"
      ]
     },
     "execution_count": 120,
     "metadata": {},
     "output_type": "execute_result"
    }
   ],
   "source": [
    "# 하나의 행 인덱스를 사용하는 경우\n",
    "df.loc['a']"
   ]
  },
  {
   "cell_type": "code",
   "execution_count": 121,
   "id": "e9c791c5",
   "metadata": {
    "ExecuteTime": {
     "end_time": "2023-09-26T03:20:09.051107Z",
     "start_time": "2023-09-26T03:20:09.029571Z"
    }
   },
   "outputs": [
    {
     "data": {
      "text/html": [
       "<div>\n",
       "<style scoped>\n",
       "    .dataframe tbody tr th:only-of-type {\n",
       "        vertical-align: middle;\n",
       "    }\n",
       "\n",
       "    .dataframe tbody tr th {\n",
       "        vertical-align: top;\n",
       "    }\n",
       "\n",
       "    .dataframe thead th {\n",
       "        text-align: right;\n",
       "    }\n",
       "</style>\n",
       "<table border=\"1\" class=\"dataframe\">\n",
       "  <thead>\n",
       "    <tr style=\"text-align: right;\">\n",
       "      <th></th>\n",
       "      <th>A</th>\n",
       "      <th>B</th>\n",
       "      <th>C</th>\n",
       "      <th>D</th>\n",
       "    </tr>\n",
       "  </thead>\n",
       "  <tbody>\n",
       "    <tr>\n",
       "      <th>b</th>\n",
       "      <td>14</td>\n",
       "      <td>15</td>\n",
       "      <td>16</td>\n",
       "      <td>17</td>\n",
       "    </tr>\n",
       "    <tr>\n",
       "      <th>c</th>\n",
       "      <td>18</td>\n",
       "      <td>19</td>\n",
       "      <td>20</td>\n",
       "      <td>21</td>\n",
       "    </tr>\n",
       "  </tbody>\n",
       "</table>\n",
       "</div>"
      ],
      "text/plain": [
       "    A   B   C   D\n",
       "b  14  15  16  17\n",
       "c  18  19  20  21"
      ]
     },
     "execution_count": 121,
     "metadata": {},
     "output_type": "execute_result"
    }
   ],
   "source": [
    "df.loc['b':'c']"
   ]
  },
  {
   "cell_type": "code",
   "execution_count": 122,
   "id": "8b3760db",
   "metadata": {
    "ExecuteTime": {
     "end_time": "2023-09-26T03:20:52.496962Z",
     "start_time": "2023-09-26T03:20:52.475520Z"
    }
   },
   "outputs": [
    {
     "data": {
      "text/html": [
       "<div>\n",
       "<style scoped>\n",
       "    .dataframe tbody tr th:only-of-type {\n",
       "        vertical-align: middle;\n",
       "    }\n",
       "\n",
       "    .dataframe tbody tr th {\n",
       "        vertical-align: top;\n",
       "    }\n",
       "\n",
       "    .dataframe thead th {\n",
       "        text-align: right;\n",
       "    }\n",
       "</style>\n",
       "<table border=\"1\" class=\"dataframe\">\n",
       "  <thead>\n",
       "    <tr style=\"text-align: right;\">\n",
       "      <th></th>\n",
       "      <th>A</th>\n",
       "      <th>B</th>\n",
       "      <th>C</th>\n",
       "      <th>D</th>\n",
       "    </tr>\n",
       "  </thead>\n",
       "  <tbody>\n",
       "    <tr>\n",
       "      <th>b</th>\n",
       "      <td>14</td>\n",
       "      <td>15</td>\n",
       "      <td>16</td>\n",
       "      <td>17</td>\n",
       "    </tr>\n",
       "    <tr>\n",
       "      <th>c</th>\n",
       "      <td>18</td>\n",
       "      <td>19</td>\n",
       "      <td>20</td>\n",
       "      <td>21</td>\n",
       "    </tr>\n",
       "  </tbody>\n",
       "</table>\n",
       "</div>"
      ],
      "text/plain": [
       "    A   B   C   D\n",
       "b  14  15  16  17\n",
       "c  18  19  20  21"
      ]
     },
     "execution_count": 122,
     "metadata": {},
     "output_type": "execute_result"
    }
   ],
   "source": [
    "# 행인덱스에 슬라이싱을 사용할 때는 loc 생략가능\n",
    "df['b':'c']"
   ]
  },
  {
   "cell_type": "code",
   "execution_count": 123,
   "id": "fc461b0d",
   "metadata": {
    "ExecuteTime": {
     "end_time": "2023-09-26T03:22:18.437403Z",
     "start_time": "2023-09-26T03:22:18.410595Z"
    }
   },
   "outputs": [
    {
     "data": {
      "text/html": [
       "<div>\n",
       "<style scoped>\n",
       "    .dataframe tbody tr th:only-of-type {\n",
       "        vertical-align: middle;\n",
       "    }\n",
       "\n",
       "    .dataframe tbody tr th {\n",
       "        vertical-align: top;\n",
       "    }\n",
       "\n",
       "    .dataframe thead th {\n",
       "        text-align: right;\n",
       "    }\n",
       "</style>\n",
       "<table border=\"1\" class=\"dataframe\">\n",
       "  <thead>\n",
       "    <tr style=\"text-align: right;\">\n",
       "      <th></th>\n",
       "      <th>A</th>\n",
       "      <th>B</th>\n",
       "      <th>C</th>\n",
       "      <th>D</th>\n",
       "    </tr>\n",
       "  </thead>\n",
       "  <tbody>\n",
       "    <tr>\n",
       "      <th>b</th>\n",
       "      <td>14</td>\n",
       "      <td>15</td>\n",
       "      <td>16</td>\n",
       "      <td>17</td>\n",
       "    </tr>\n",
       "    <tr>\n",
       "      <th>c</th>\n",
       "      <td>18</td>\n",
       "      <td>19</td>\n",
       "      <td>20</td>\n",
       "      <td>21</td>\n",
       "    </tr>\n",
       "  </tbody>\n",
       "</table>\n",
       "</div>"
      ],
      "text/plain": [
       "    A   B   C   D\n",
       "b  14  15  16  17\n",
       "c  18  19  20  21"
      ]
     },
     "execution_count": 123,
     "metadata": {},
     "output_type": "execute_result"
    }
   ],
   "source": [
    "df.loc[['b', 'c']]"
   ]
  },
  {
   "cell_type": "code",
   "execution_count": 124,
   "id": "b5d2872a",
   "metadata": {
    "ExecuteTime": {
     "end_time": "2023-09-26T03:23:04.379948Z",
     "start_time": "2023-09-26T03:23:04.366028Z"
    }
   },
   "outputs": [
    {
     "data": {
      "text/plain": [
       "a    10\n",
       "b    14\n",
       "c    18\n",
       "Name: A, dtype: int32"
      ]
     },
     "execution_count": 124,
     "metadata": {},
     "output_type": "execute_result"
    }
   ],
   "source": [
    "df['A']"
   ]
  },
  {
   "cell_type": "code",
   "execution_count": 125,
   "id": "4d006bda",
   "metadata": {
    "ExecuteTime": {
     "end_time": "2023-09-26T03:23:09.591986Z",
     "start_time": "2023-09-26T03:23:09.574409Z"
    }
   },
   "outputs": [
    {
     "data": {
      "text/plain": [
       "a    10\n",
       "b    14\n",
       "c    18\n",
       "Name: A, dtype: int32"
      ]
     },
     "execution_count": 125,
     "metadata": {},
     "output_type": "execute_result"
    }
   ],
   "source": [
    "df.A"
   ]
  },
  {
   "cell_type": "code",
   "execution_count": 126,
   "id": "8f9d1bda",
   "metadata": {
    "ExecuteTime": {
     "end_time": "2023-09-26T03:23:37.354220Z",
     "start_time": "2023-09-26T03:23:37.336402Z"
    }
   },
   "outputs": [
    {
     "data": {
      "text/html": [
       "<div>\n",
       "<style scoped>\n",
       "    .dataframe tbody tr th:only-of-type {\n",
       "        vertical-align: middle;\n",
       "    }\n",
       "\n",
       "    .dataframe tbody tr th {\n",
       "        vertical-align: top;\n",
       "    }\n",
       "\n",
       "    .dataframe thead th {\n",
       "        text-align: right;\n",
       "    }\n",
       "</style>\n",
       "<table border=\"1\" class=\"dataframe\">\n",
       "  <thead>\n",
       "    <tr style=\"text-align: right;\">\n",
       "      <th></th>\n",
       "      <th>A</th>\n",
       "      <th>B</th>\n",
       "      <th>C</th>\n",
       "      <th>D</th>\n",
       "    </tr>\n",
       "  </thead>\n",
       "  <tbody>\n",
       "    <tr>\n",
       "      <th>c</th>\n",
       "      <td>18</td>\n",
       "      <td>19</td>\n",
       "      <td>20</td>\n",
       "      <td>21</td>\n",
       "    </tr>\n",
       "  </tbody>\n",
       "</table>\n",
       "</div>"
      ],
      "text/plain": [
       "    A   B   C   D\n",
       "c  18  19  20  21"
      ]
     },
     "execution_count": 126,
     "metadata": {},
     "output_type": "execute_result"
    }
   ],
   "source": [
    "df[df.A > 15]"
   ]
  },
  {
   "cell_type": "code",
   "execution_count": 128,
   "id": "a53d0cb7",
   "metadata": {
    "ExecuteTime": {
     "end_time": "2023-09-26T03:24:52.196319Z",
     "start_time": "2023-09-26T03:24:52.180815Z"
    }
   },
   "outputs": [
    {
     "data": {
      "text/html": [
       "<div>\n",
       "<style scoped>\n",
       "    .dataframe tbody tr th:only-of-type {\n",
       "        vertical-align: middle;\n",
       "    }\n",
       "\n",
       "    .dataframe tbody tr th {\n",
       "        vertical-align: top;\n",
       "    }\n",
       "\n",
       "    .dataframe thead th {\n",
       "        text-align: right;\n",
       "    }\n",
       "</style>\n",
       "<table border=\"1\" class=\"dataframe\">\n",
       "  <thead>\n",
       "    <tr style=\"text-align: right;\">\n",
       "      <th></th>\n",
       "      <th>A</th>\n",
       "      <th>B</th>\n",
       "      <th>C</th>\n",
       "      <th>D</th>\n",
       "    </tr>\n",
       "  </thead>\n",
       "  <tbody>\n",
       "    <tr>\n",
       "      <th>c</th>\n",
       "      <td>18</td>\n",
       "      <td>19</td>\n",
       "      <td>20</td>\n",
       "      <td>21</td>\n",
       "    </tr>\n",
       "  </tbody>\n",
       "</table>\n",
       "</div>"
      ],
      "text/plain": [
       "    A   B   C   D\n",
       "c  18  19  20  21"
      ]
     },
     "execution_count": 128,
     "metadata": {},
     "output_type": "execute_result"
    }
   ],
   "source": [
    "df.loc[df.A > 15]"
   ]
  },
  {
   "cell_type": "code",
   "execution_count": 130,
   "id": "637b77d4",
   "metadata": {
    "ExecuteTime": {
     "end_time": "2023-09-26T03:26:18.617635Z",
     "start_time": "2023-09-26T03:26:18.601440Z"
    }
   },
   "outputs": [
    {
     "data": {
      "text/plain": [
       "a    10\n",
       "b    14\n",
       "c    18\n",
       "Name: A, dtype: int32"
      ]
     },
     "execution_count": 130,
     "metadata": {},
     "output_type": "execute_result"
    }
   ],
   "source": [
    "df['A']"
   ]
  },
  {
   "cell_type": "code",
   "execution_count": 131,
   "id": "d7dd9d2a",
   "metadata": {
    "ExecuteTime": {
     "end_time": "2023-09-26T03:26:37.865190Z",
     "start_time": "2023-09-26T03:26:37.849176Z"
    }
   },
   "outputs": [
    {
     "data": {
      "text/html": [
       "<div>\n",
       "<style scoped>\n",
       "    .dataframe tbody tr th:only-of-type {\n",
       "        vertical-align: middle;\n",
       "    }\n",
       "\n",
       "    .dataframe tbody tr th {\n",
       "        vertical-align: top;\n",
       "    }\n",
       "\n",
       "    .dataframe thead th {\n",
       "        text-align: right;\n",
       "    }\n",
       "</style>\n",
       "<table border=\"1\" class=\"dataframe\">\n",
       "  <thead>\n",
       "    <tr style=\"text-align: right;\">\n",
       "      <th></th>\n",
       "      <th>A</th>\n",
       "      <th>B</th>\n",
       "    </tr>\n",
       "  </thead>\n",
       "  <tbody>\n",
       "    <tr>\n",
       "      <th>a</th>\n",
       "      <td>10</td>\n",
       "      <td>11</td>\n",
       "    </tr>\n",
       "    <tr>\n",
       "      <th>b</th>\n",
       "      <td>14</td>\n",
       "      <td>15</td>\n",
       "    </tr>\n",
       "    <tr>\n",
       "      <th>c</th>\n",
       "      <td>18</td>\n",
       "      <td>19</td>\n",
       "    </tr>\n",
       "  </tbody>\n",
       "</table>\n",
       "</div>"
      ],
      "text/plain": [
       "    A   B\n",
       "a  10  11\n",
       "b  14  15\n",
       "c  18  19"
      ]
     },
     "execution_count": 131,
     "metadata": {},
     "output_type": "execute_result"
    }
   ],
   "source": [
    "df[['A', 'B']]"
   ]
  },
  {
   "cell_type": "code",
   "execution_count": 132,
   "id": "2f28ea4e",
   "metadata": {
    "ExecuteTime": {
     "end_time": "2023-09-26T03:26:58.612822Z",
     "start_time": "2023-09-26T03:26:58.589578Z"
    }
   },
   "outputs": [
    {
     "data": {
      "text/html": [
       "<div>\n",
       "<style scoped>\n",
       "    .dataframe tbody tr th:only-of-type {\n",
       "        vertical-align: middle;\n",
       "    }\n",
       "\n",
       "    .dataframe tbody tr th {\n",
       "        vertical-align: top;\n",
       "    }\n",
       "\n",
       "    .dataframe thead th {\n",
       "        text-align: right;\n",
       "    }\n",
       "</style>\n",
       "<table border=\"1\" class=\"dataframe\">\n",
       "  <thead>\n",
       "    <tr style=\"text-align: right;\">\n",
       "      <th></th>\n",
       "      <th>A</th>\n",
       "      <th>B</th>\n",
       "      <th>C</th>\n",
       "      <th>D</th>\n",
       "    </tr>\n",
       "  </thead>\n",
       "  <tbody>\n",
       "    <tr>\n",
       "      <th>a</th>\n",
       "      <td>10</td>\n",
       "      <td>11</td>\n",
       "      <td>12</td>\n",
       "      <td>13</td>\n",
       "    </tr>\n",
       "    <tr>\n",
       "      <th>b</th>\n",
       "      <td>14</td>\n",
       "      <td>15</td>\n",
       "      <td>16</td>\n",
       "      <td>17</td>\n",
       "    </tr>\n",
       "    <tr>\n",
       "      <th>c</th>\n",
       "      <td>18</td>\n",
       "      <td>19</td>\n",
       "      <td>20</td>\n",
       "      <td>21</td>\n",
       "    </tr>\n",
       "  </tbody>\n",
       "</table>\n",
       "</div>"
      ],
      "text/plain": [
       "    A   B   C   D\n",
       "a  10  11  12  13\n",
       "b  14  15  16  17\n",
       "c  18  19  20  21"
      ]
     },
     "execution_count": 132,
     "metadata": {},
     "output_type": "execute_result"
    }
   ],
   "source": [
    "df"
   ]
  },
  {
   "cell_type": "code",
   "execution_count": 133,
   "id": "3f74c8a5",
   "metadata": {
    "ExecuteTime": {
     "end_time": "2023-09-26T03:27:47.630520Z",
     "start_time": "2023-09-26T03:27:47.622458Z"
    }
   },
   "outputs": [
    {
     "data": {
      "text/plain": [
       "10"
      ]
     },
     "execution_count": 133,
     "metadata": {},
     "output_type": "execute_result"
    }
   ],
   "source": [
    "df.loc['a','A']  # 행 인덱싱이 들어가기 때문에 loc 필수"
   ]
  },
  {
   "cell_type": "code",
   "execution_count": 135,
   "id": "703d3826",
   "metadata": {
    "ExecuteTime": {
     "end_time": "2023-09-26T03:28:33.354853Z",
     "start_time": "2023-09-26T03:28:33.340670Z"
    }
   },
   "outputs": [
    {
     "data": {
      "text/plain": [
       "b    14\n",
       "c    18\n",
       "Name: A, dtype: int32"
      ]
     },
     "execution_count": 135,
     "metadata": {},
     "output_type": "execute_result"
    }
   ],
   "source": [
    "df.loc['b':, 'A']"
   ]
  },
  {
   "cell_type": "code",
   "execution_count": 137,
   "id": "5cf6580d",
   "metadata": {
    "ExecuteTime": {
     "end_time": "2023-09-26T03:30:14.929934Z",
     "start_time": "2023-09-26T03:30:14.919887Z"
    }
   },
   "outputs": [
    {
     "data": {
      "text/plain": [
       "11"
      ]
     },
     "execution_count": 137,
     "metadata": {},
     "output_type": "execute_result"
    }
   ],
   "source": [
    "df.iloc[0,1]  # (0,1)"
   ]
  },
  {
   "cell_type": "markdown",
   "id": "52e6cd4a",
   "metadata": {},
   "source": [
    "### 주요함수"
   ]
  },
  {
   "cell_type": "code",
   "execution_count": 138,
   "id": "42f2009b",
   "metadata": {
    "ExecuteTime": {
     "end_time": "2023-09-26T03:31:40.645548Z",
     "start_time": "2023-09-26T03:31:40.626558Z"
    }
   },
   "outputs": [
    {
     "data": {
      "text/plain": [
       "0    0\n",
       "1    1\n",
       "2    2\n",
       "3    3\n",
       "4    4\n",
       "5    5\n",
       "6    6\n",
       "7    7\n",
       "8    8\n",
       "9    9\n",
       "dtype: int64"
      ]
     },
     "execution_count": 138,
     "metadata": {},
     "output_type": "execute_result"
    }
   ],
   "source": [
    "# 데이터프레임의 데이터 갯수: count\n",
    "s = pd.Series(range(10))\n",
    "s"
   ]
  },
  {
   "cell_type": "code",
   "execution_count": 139,
   "id": "26487717",
   "metadata": {
    "ExecuteTime": {
     "end_time": "2023-09-26T03:32:19.702961Z",
     "start_time": "2023-09-26T03:32:19.684935Z"
    }
   },
   "outputs": [
    {
     "data": {
      "text/plain": [
       "10"
      ]
     },
     "execution_count": 139,
     "metadata": {},
     "output_type": "execute_result"
    }
   ],
   "source": [
    "s.count()"
   ]
  },
  {
   "cell_type": "code",
   "execution_count": 140,
   "id": "efb7daa1",
   "metadata": {
    "ExecuteTime": {
     "end_time": "2023-09-26T03:32:26.780800Z",
     "start_time": "2023-09-26T03:32:26.768729Z"
    }
   },
   "outputs": [
    {
     "data": {
      "text/plain": [
       "0    0.0\n",
       "1    1.0\n",
       "2    2.0\n",
       "3    NaN\n",
       "4    4.0\n",
       "5    5.0\n",
       "6    6.0\n",
       "7    7.0\n",
       "8    8.0\n",
       "9    9.0\n",
       "dtype: float64"
      ]
     },
     "execution_count": 140,
     "metadata": {},
     "output_type": "execute_result"
    }
   ],
   "source": [
    "s[3] = np.nan\n",
    "s"
   ]
  },
  {
   "cell_type": "code",
   "execution_count": 141,
   "id": "011dc200",
   "metadata": {
    "ExecuteTime": {
     "end_time": "2023-09-26T03:33:26.895627Z",
     "start_time": "2023-09-26T03:33:26.888566Z"
    }
   },
   "outputs": [
    {
     "data": {
      "text/plain": [
       "9"
      ]
     },
     "execution_count": 141,
     "metadata": {},
     "output_type": "execute_result"
    }
   ],
   "source": [
    "s.count()  # 결측값을 제외한 개수"
   ]
  },
  {
   "cell_type": "code",
   "execution_count": 142,
   "id": "3a737c84",
   "metadata": {
    "ExecuteTime": {
     "end_time": "2023-09-26T03:35:59.496221Z",
     "start_time": "2023-09-26T03:35:59.484820Z"
    }
   },
   "outputs": [
    {
     "data": {
      "text/html": [
       "<div>\n",
       "<style scoped>\n",
       "    .dataframe tbody tr th:only-of-type {\n",
       "        vertical-align: middle;\n",
       "    }\n",
       "\n",
       "    .dataframe tbody tr th {\n",
       "        vertical-align: top;\n",
       "    }\n",
       "\n",
       "    .dataframe thead th {\n",
       "        text-align: right;\n",
       "    }\n",
       "</style>\n",
       "<table border=\"1\" class=\"dataframe\">\n",
       "  <thead>\n",
       "    <tr style=\"text-align: right;\">\n",
       "      <th></th>\n",
       "      <th>0</th>\n",
       "      <th>1</th>\n",
       "      <th>2</th>\n",
       "      <th>3</th>\n",
       "    </tr>\n",
       "  </thead>\n",
       "  <tbody>\n",
       "    <tr>\n",
       "      <th>0</th>\n",
       "      <td>0.0</td>\n",
       "      <td>0.0</td>\n",
       "      <td>3.0</td>\n",
       "      <td>2.0</td>\n",
       "    </tr>\n",
       "    <tr>\n",
       "      <th>1</th>\n",
       "      <td>3.0</td>\n",
       "      <td>0.0</td>\n",
       "      <td>2.0</td>\n",
       "      <td>1.0</td>\n",
       "    </tr>\n",
       "    <tr>\n",
       "      <th>2</th>\n",
       "      <td>3.0</td>\n",
       "      <td>2.0</td>\n",
       "      <td>4.0</td>\n",
       "      <td>NaN</td>\n",
       "    </tr>\n",
       "    <tr>\n",
       "      <th>3</th>\n",
       "      <td>4.0</td>\n",
       "      <td>3.0</td>\n",
       "      <td>4.0</td>\n",
       "      <td>2.0</td>\n",
       "    </tr>\n",
       "  </tbody>\n",
       "</table>\n",
       "</div>"
      ],
      "text/plain": [
       "     0    1    2    3\n",
       "0  0.0  0.0  3.0  2.0\n",
       "1  3.0  0.0  2.0  1.0\n",
       "2  3.0  2.0  4.0  NaN\n",
       "3  4.0  3.0  4.0  2.0"
      ]
     },
     "execution_count": 142,
     "metadata": {},
     "output_type": "execute_result"
    }
   ],
   "source": [
    "np.random.seed(2)\n",
    "df = pd.DataFrame(np.random.randint(5, size = (4,4)), dtype=float)\n",
    "df.iloc[2, 3] = np.nan\n",
    "df"
   ]
  },
  {
   "cell_type": "code",
   "execution_count": 143,
   "id": "1cc5709d",
   "metadata": {
    "ExecuteTime": {
     "end_time": "2023-09-26T03:36:19.099048Z",
     "start_time": "2023-09-26T03:36:19.077614Z"
    }
   },
   "outputs": [
    {
     "data": {
      "text/plain": [
       "0    4\n",
       "1    4\n",
       "2    4\n",
       "3    3\n",
       "dtype: int64"
      ]
     },
     "execution_count": 143,
     "metadata": {},
     "output_type": "execute_result"
    }
   ],
   "source": [
    "df.count()  # 각 컬럼에 대한 행의 수(결측값 제외)"
   ]
  },
  {
   "cell_type": "code",
   "execution_count": 144,
   "id": "8838f7d5",
   "metadata": {
    "ExecuteTime": {
     "end_time": "2023-09-26T03:38:15.905748Z",
     "start_time": "2023-09-26T03:38:11.094648Z"
    }
   },
   "outputs": [
    {
     "data": {
      "text/html": [
       "<div>\n",
       "<style scoped>\n",
       "    .dataframe tbody tr th:only-of-type {\n",
       "        vertical-align: middle;\n",
       "    }\n",
       "\n",
       "    .dataframe tbody tr th {\n",
       "        vertical-align: top;\n",
       "    }\n",
       "\n",
       "    .dataframe thead th {\n",
       "        text-align: right;\n",
       "    }\n",
       "</style>\n",
       "<table border=\"1\" class=\"dataframe\">\n",
       "  <thead>\n",
       "    <tr style=\"text-align: right;\">\n",
       "      <th></th>\n",
       "      <th>survived</th>\n",
       "      <th>pclass</th>\n",
       "      <th>sex</th>\n",
       "      <th>age</th>\n",
       "      <th>sibsp</th>\n",
       "      <th>parch</th>\n",
       "      <th>fare</th>\n",
       "      <th>embarked</th>\n",
       "      <th>class</th>\n",
       "      <th>who</th>\n",
       "      <th>adult_male</th>\n",
       "      <th>deck</th>\n",
       "      <th>embark_town</th>\n",
       "      <th>alive</th>\n",
       "      <th>alone</th>\n",
       "    </tr>\n",
       "  </thead>\n",
       "  <tbody>\n",
       "    <tr>\n",
       "      <th>0</th>\n",
       "      <td>0</td>\n",
       "      <td>3</td>\n",
       "      <td>male</td>\n",
       "      <td>22.0</td>\n",
       "      <td>1</td>\n",
       "      <td>0</td>\n",
       "      <td>7.2500</td>\n",
       "      <td>S</td>\n",
       "      <td>Third</td>\n",
       "      <td>man</td>\n",
       "      <td>True</td>\n",
       "      <td>NaN</td>\n",
       "      <td>Southampton</td>\n",
       "      <td>no</td>\n",
       "      <td>False</td>\n",
       "    </tr>\n",
       "    <tr>\n",
       "      <th>1</th>\n",
       "      <td>1</td>\n",
       "      <td>1</td>\n",
       "      <td>female</td>\n",
       "      <td>38.0</td>\n",
       "      <td>1</td>\n",
       "      <td>0</td>\n",
       "      <td>71.2833</td>\n",
       "      <td>C</td>\n",
       "      <td>First</td>\n",
       "      <td>woman</td>\n",
       "      <td>False</td>\n",
       "      <td>C</td>\n",
       "      <td>Cherbourg</td>\n",
       "      <td>yes</td>\n",
       "      <td>False</td>\n",
       "    </tr>\n",
       "    <tr>\n",
       "      <th>2</th>\n",
       "      <td>1</td>\n",
       "      <td>3</td>\n",
       "      <td>female</td>\n",
       "      <td>26.0</td>\n",
       "      <td>0</td>\n",
       "      <td>0</td>\n",
       "      <td>7.9250</td>\n",
       "      <td>S</td>\n",
       "      <td>Third</td>\n",
       "      <td>woman</td>\n",
       "      <td>False</td>\n",
       "      <td>NaN</td>\n",
       "      <td>Southampton</td>\n",
       "      <td>yes</td>\n",
       "      <td>True</td>\n",
       "    </tr>\n",
       "    <tr>\n",
       "      <th>3</th>\n",
       "      <td>1</td>\n",
       "      <td>1</td>\n",
       "      <td>female</td>\n",
       "      <td>35.0</td>\n",
       "      <td>1</td>\n",
       "      <td>0</td>\n",
       "      <td>53.1000</td>\n",
       "      <td>S</td>\n",
       "      <td>First</td>\n",
       "      <td>woman</td>\n",
       "      <td>False</td>\n",
       "      <td>C</td>\n",
       "      <td>Southampton</td>\n",
       "      <td>yes</td>\n",
       "      <td>False</td>\n",
       "    </tr>\n",
       "    <tr>\n",
       "      <th>4</th>\n",
       "      <td>0</td>\n",
       "      <td>3</td>\n",
       "      <td>male</td>\n",
       "      <td>35.0</td>\n",
       "      <td>0</td>\n",
       "      <td>0</td>\n",
       "      <td>8.0500</td>\n",
       "      <td>S</td>\n",
       "      <td>Third</td>\n",
       "      <td>man</td>\n",
       "      <td>True</td>\n",
       "      <td>NaN</td>\n",
       "      <td>Southampton</td>\n",
       "      <td>no</td>\n",
       "      <td>True</td>\n",
       "    </tr>\n",
       "  </tbody>\n",
       "</table>\n",
       "</div>"
      ],
      "text/plain": [
       "   survived  pclass     sex   age  sibsp  parch     fare embarked  class  \\\n",
       "0         0       3    male  22.0      1      0   7.2500        S  Third   \n",
       "1         1       1  female  38.0      1      0  71.2833        C  First   \n",
       "2         1       3  female  26.0      0      0   7.9250        S  Third   \n",
       "3         1       1  female  35.0      1      0  53.1000        S  First   \n",
       "4         0       3    male  35.0      0      0   8.0500        S  Third   \n",
       "\n",
       "     who  adult_male deck  embark_town alive  alone  \n",
       "0    man        True  NaN  Southampton    no  False  \n",
       "1  woman       False    C    Cherbourg   yes  False  \n",
       "2  woman       False  NaN  Southampton   yes   True  \n",
       "3  woman       False    C  Southampton   yes  False  \n",
       "4    man        True  NaN  Southampton    no   True  "
      ]
     },
     "execution_count": 144,
     "metadata": {},
     "output_type": "execute_result"
    }
   ],
   "source": [
    "import seaborn as sns\n",
    "titanic = sns.load_dataset('titanic')\n",
    "titanic.head()"
   ]
  },
  {
   "cell_type": "code",
   "execution_count": 145,
   "id": "5b050e11",
   "metadata": {
    "ExecuteTime": {
     "end_time": "2023-09-26T03:39:04.791587Z",
     "start_time": "2023-09-26T03:39:04.774971Z"
    }
   },
   "outputs": [
    {
     "data": {
      "text/plain": [
       "survived       891\n",
       "pclass         891\n",
       "sex            891\n",
       "age            714\n",
       "sibsp          891\n",
       "parch          891\n",
       "fare           891\n",
       "embarked       889\n",
       "class          891\n",
       "who            891\n",
       "adult_male     891\n",
       "deck           203\n",
       "embark_town    889\n",
       "alive          891\n",
       "alone          891\n",
       "dtype: int64"
      ]
     },
     "execution_count": 145,
     "metadata": {},
     "output_type": "execute_result"
    }
   ],
   "source": [
    "# 타이타닉호의 승객 데이터를 활용하여 데이터의 개수를 추출하되, 각 열마다 추출하시오.\n",
    "titanic.count()"
   ]
  },
  {
   "cell_type": "markdown",
   "id": "e2e7678a",
   "metadata": {},
   "source": [
    "**value_counts(), 개별 값의 건수를 추출하는 함수**"
   ]
  },
  {
   "cell_type": "code",
   "execution_count": 147,
   "id": "7cad51ba",
   "metadata": {
    "ExecuteTime": {
     "end_time": "2023-09-26T03:41:42.096955Z",
     "start_time": "2023-09-26T03:41:42.087627Z"
    }
   },
   "outputs": [
    {
     "data": {
      "text/plain": [
       "95    3\n",
       "96    0\n",
       "97    0\n",
       "98    2\n",
       "99    5\n",
       "dtype: int32"
      ]
     },
     "execution_count": 147,
     "metadata": {},
     "output_type": "execute_result"
    }
   ],
   "source": [
    "s2 = pd.Series(np.random.randint(6, size=100))\n",
    "s2.tail()"
   ]
  },
  {
   "cell_type": "code",
   "execution_count": 148,
   "id": "14b0694c",
   "metadata": {
    "ExecuteTime": {
     "end_time": "2023-09-26T03:41:55.398392Z",
     "start_time": "2023-09-26T03:41:55.382503Z"
    }
   },
   "outputs": [
    {
     "data": {
      "text/plain": [
       "2    22\n",
       "0    18\n",
       "3    17\n",
       "1    15\n",
       "5    15\n",
       "4    13\n",
       "dtype: int64"
      ]
     },
     "execution_count": 148,
     "metadata": {},
     "output_type": "execute_result"
    }
   ],
   "source": [
    "# 0,1,2,3,4,5 각 값의 개수\n",
    "s2.value_counts()"
   ]
  },
  {
   "cell_type": "code",
   "execution_count": 149,
   "id": "07796da3",
   "metadata": {
    "ExecuteTime": {
     "end_time": "2023-09-26T03:43:44.668629Z",
     "start_time": "2023-09-26T03:43:44.648888Z"
    }
   },
   "outputs": [
    {
     "data": {
      "text/plain": [
       "0    549\n",
       "1    342\n",
       "Name: survived, dtype: int64"
      ]
     },
     "execution_count": 149,
     "metadata": {},
     "output_type": "execute_result"
    }
   ],
   "source": [
    "titanic['survived'].value_counts()  # 0:사망  1:생존"
   ]
  },
  {
   "cell_type": "code",
   "execution_count": 150,
   "id": "983a06e8",
   "metadata": {
    "ExecuteTime": {
     "end_time": "2023-09-26T03:44:29.343459Z",
     "start_time": "2023-09-26T03:44:29.331704Z"
    }
   },
   "outputs": [
    {
     "data": {
      "text/plain": [
       "3    491\n",
       "1    216\n",
       "2    184\n",
       "Name: pclass, dtype: int64"
      ]
     },
     "execution_count": 150,
     "metadata": {},
     "output_type": "execute_result"
    }
   ],
   "source": [
    "titanic['pclass'].value_counts()"
   ]
  },
  {
   "cell_type": "markdown",
   "id": "56df5bfa",
   "metadata": {},
   "source": [
    "**정렬**\n",
    "- sort_index: 인덱스 값을 기준으로 정렬\n",
    "- sort_values: 값을 기준으로 정렬"
   ]
  },
  {
   "cell_type": "code",
   "execution_count": 151,
   "id": "1a3ddf70",
   "metadata": {
    "ExecuteTime": {
     "end_time": "2023-09-26T05:04:49.425334Z",
     "start_time": "2023-09-26T05:04:49.413867Z"
    }
   },
   "outputs": [
    {
     "data": {
      "text/plain": [
       "2    22\n",
       "0    18\n",
       "3    17\n",
       "1    15\n",
       "5    15\n",
       "4    13\n",
       "dtype: int64"
      ]
     },
     "execution_count": 151,
     "metadata": {},
     "output_type": "execute_result"
    }
   ],
   "source": [
    "s2.value_counts() # 값에 대한 내림차순 정렬됨"
   ]
  },
  {
   "cell_type": "code",
   "execution_count": 152,
   "id": "9eb3c9db",
   "metadata": {
    "ExecuteTime": {
     "end_time": "2023-09-26T05:05:32.580312Z",
     "start_time": "2023-09-26T05:05:32.559327Z"
    }
   },
   "outputs": [
    {
     "data": {
      "text/plain": [
       "0    18\n",
       "1    15\n",
       "2    22\n",
       "3    17\n",
       "4    13\n",
       "5    15\n",
       "dtype: int64"
      ]
     },
     "execution_count": 152,
     "metadata": {},
     "output_type": "execute_result"
    }
   ],
   "source": [
    "s2.value_counts().sort_index() # 인덱스값에 대한 오름차순 정렬"
   ]
  },
  {
   "cell_type": "code",
   "execution_count": 153,
   "id": "17522fae",
   "metadata": {
    "ExecuteTime": {
     "end_time": "2023-09-26T05:06:21.255797Z",
     "start_time": "2023-09-26T05:06:21.235063Z"
    }
   },
   "outputs": [
    {
     "data": {
      "text/plain": [
       "0    0.0\n",
       "1    1.0\n",
       "2    2.0\n",
       "4    4.0\n",
       "5    5.0\n",
       "6    6.0\n",
       "7    7.0\n",
       "8    8.0\n",
       "9    9.0\n",
       "3    NaN\n",
       "dtype: float64"
      ]
     },
     "execution_count": 153,
     "metadata": {},
     "output_type": "execute_result"
    }
   ],
   "source": [
    "s.sort_values()  # 결측값이 있을 경우 가장 마지막에 결측값 "
   ]
  },
  {
   "cell_type": "code",
   "execution_count": 154,
   "id": "1e18b51f",
   "metadata": {
    "ExecuteTime": {
     "end_time": "2023-09-26T05:06:58.948250Z",
     "start_time": "2023-09-26T05:06:58.932292Z"
    }
   },
   "outputs": [
    {
     "data": {
      "text/plain": [
       "9    9.0\n",
       "8    8.0\n",
       "7    7.0\n",
       "6    6.0\n",
       "5    5.0\n",
       "4    4.0\n",
       "2    2.0\n",
       "1    1.0\n",
       "0    0.0\n",
       "3    NaN\n",
       "dtype: float64"
      ]
     },
     "execution_count": 154,
     "metadata": {},
     "output_type": "execute_result"
    }
   ],
   "source": [
    "s.sort_values(ascending=False)"
   ]
  },
  {
   "cell_type": "code",
   "execution_count": 155,
   "id": "98571a9d",
   "metadata": {
    "ExecuteTime": {
     "end_time": "2023-09-26T05:07:24.322292Z",
     "start_time": "2023-09-26T05:07:24.308074Z"
    }
   },
   "outputs": [
    {
     "data": {
      "text/html": [
       "<div>\n",
       "<style scoped>\n",
       "    .dataframe tbody tr th:only-of-type {\n",
       "        vertical-align: middle;\n",
       "    }\n",
       "\n",
       "    .dataframe tbody tr th {\n",
       "        vertical-align: top;\n",
       "    }\n",
       "\n",
       "    .dataframe thead th {\n",
       "        text-align: right;\n",
       "    }\n",
       "</style>\n",
       "<table border=\"1\" class=\"dataframe\">\n",
       "  <thead>\n",
       "    <tr style=\"text-align: right;\">\n",
       "      <th></th>\n",
       "      <th>0</th>\n",
       "      <th>1</th>\n",
       "      <th>2</th>\n",
       "      <th>3</th>\n",
       "    </tr>\n",
       "  </thead>\n",
       "  <tbody>\n",
       "    <tr>\n",
       "      <th>0</th>\n",
       "      <td>0.0</td>\n",
       "      <td>0.0</td>\n",
       "      <td>3.0</td>\n",
       "      <td>2.0</td>\n",
       "    </tr>\n",
       "    <tr>\n",
       "      <th>1</th>\n",
       "      <td>3.0</td>\n",
       "      <td>0.0</td>\n",
       "      <td>2.0</td>\n",
       "      <td>1.0</td>\n",
       "    </tr>\n",
       "    <tr>\n",
       "      <th>2</th>\n",
       "      <td>3.0</td>\n",
       "      <td>2.0</td>\n",
       "      <td>4.0</td>\n",
       "      <td>NaN</td>\n",
       "    </tr>\n",
       "    <tr>\n",
       "      <th>3</th>\n",
       "      <td>4.0</td>\n",
       "      <td>3.0</td>\n",
       "      <td>4.0</td>\n",
       "      <td>2.0</td>\n",
       "    </tr>\n",
       "  </tbody>\n",
       "</table>\n",
       "</div>"
      ],
      "text/plain": [
       "     0    1    2    3\n",
       "0  0.0  0.0  3.0  2.0\n",
       "1  3.0  0.0  2.0  1.0\n",
       "2  3.0  2.0  4.0  NaN\n",
       "3  4.0  3.0  4.0  2.0"
      ]
     },
     "execution_count": 155,
     "metadata": {},
     "output_type": "execute_result"
    }
   ],
   "source": [
    "df"
   ]
  },
  {
   "cell_type": "code",
   "execution_count": 156,
   "id": "89e31732",
   "metadata": {
    "ExecuteTime": {
     "end_time": "2023-09-26T05:07:59.866198Z",
     "start_time": "2023-09-26T05:07:59.846101Z"
    }
   },
   "outputs": [
    {
     "data": {
      "text/html": [
       "<div>\n",
       "<style scoped>\n",
       "    .dataframe tbody tr th:only-of-type {\n",
       "        vertical-align: middle;\n",
       "    }\n",
       "\n",
       "    .dataframe tbody tr th {\n",
       "        vertical-align: top;\n",
       "    }\n",
       "\n",
       "    .dataframe thead th {\n",
       "        text-align: right;\n",
       "    }\n",
       "</style>\n",
       "<table border=\"1\" class=\"dataframe\">\n",
       "  <thead>\n",
       "    <tr style=\"text-align: right;\">\n",
       "      <th></th>\n",
       "      <th>0</th>\n",
       "      <th>1</th>\n",
       "      <th>2</th>\n",
       "      <th>3</th>\n",
       "    </tr>\n",
       "  </thead>\n",
       "  <tbody>\n",
       "    <tr>\n",
       "      <th>1</th>\n",
       "      <td>3.0</td>\n",
       "      <td>0.0</td>\n",
       "      <td>2.0</td>\n",
       "      <td>1.0</td>\n",
       "    </tr>\n",
       "    <tr>\n",
       "      <th>0</th>\n",
       "      <td>0.0</td>\n",
       "      <td>0.0</td>\n",
       "      <td>3.0</td>\n",
       "      <td>2.0</td>\n",
       "    </tr>\n",
       "    <tr>\n",
       "      <th>2</th>\n",
       "      <td>3.0</td>\n",
       "      <td>2.0</td>\n",
       "      <td>4.0</td>\n",
       "      <td>NaN</td>\n",
       "    </tr>\n",
       "    <tr>\n",
       "      <th>3</th>\n",
       "      <td>4.0</td>\n",
       "      <td>3.0</td>\n",
       "      <td>4.0</td>\n",
       "      <td>2.0</td>\n",
       "    </tr>\n",
       "  </tbody>\n",
       "</table>\n",
       "</div>"
      ],
      "text/plain": [
       "     0    1    2    3\n",
       "1  3.0  0.0  2.0  1.0\n",
       "0  0.0  0.0  3.0  2.0\n",
       "2  3.0  2.0  4.0  NaN\n",
       "3  4.0  3.0  4.0  2.0"
      ]
     },
     "execution_count": 156,
     "metadata": {},
     "output_type": "execute_result"
    }
   ],
   "source": [
    "df.sort_values(by=2)"
   ]
  },
  {
   "cell_type": "code",
   "execution_count": 157,
   "id": "29be2e40",
   "metadata": {
    "ExecuteTime": {
     "end_time": "2023-09-26T05:09:03.481856Z",
     "start_time": "2023-09-26T05:09:03.456642Z"
    }
   },
   "outputs": [
    {
     "data": {
      "text/html": [
       "<div>\n",
       "<style scoped>\n",
       "    .dataframe tbody tr th:only-of-type {\n",
       "        vertical-align: middle;\n",
       "    }\n",
       "\n",
       "    .dataframe tbody tr th {\n",
       "        vertical-align: top;\n",
       "    }\n",
       "\n",
       "    .dataframe thead th {\n",
       "        text-align: right;\n",
       "    }\n",
       "</style>\n",
       "<table border=\"1\" class=\"dataframe\">\n",
       "  <thead>\n",
       "    <tr style=\"text-align: right;\">\n",
       "      <th></th>\n",
       "      <th>0</th>\n",
       "      <th>1</th>\n",
       "      <th>2</th>\n",
       "      <th>3</th>\n",
       "    </tr>\n",
       "  </thead>\n",
       "  <tbody>\n",
       "    <tr>\n",
       "      <th>1</th>\n",
       "      <td>3.0</td>\n",
       "      <td>0.0</td>\n",
       "      <td>2.0</td>\n",
       "      <td>1.0</td>\n",
       "    </tr>\n",
       "    <tr>\n",
       "      <th>0</th>\n",
       "      <td>0.0</td>\n",
       "      <td>0.0</td>\n",
       "      <td>3.0</td>\n",
       "      <td>2.0</td>\n",
       "    </tr>\n",
       "    <tr>\n",
       "      <th>2</th>\n",
       "      <td>3.0</td>\n",
       "      <td>2.0</td>\n",
       "      <td>4.0</td>\n",
       "      <td>NaN</td>\n",
       "    </tr>\n",
       "    <tr>\n",
       "      <th>3</th>\n",
       "      <td>4.0</td>\n",
       "      <td>3.0</td>\n",
       "      <td>4.0</td>\n",
       "      <td>2.0</td>\n",
       "    </tr>\n",
       "  </tbody>\n",
       "</table>\n",
       "</div>"
      ],
      "text/plain": [
       "     0    1    2    3\n",
       "1  3.0  0.0  2.0  1.0\n",
       "0  0.0  0.0  3.0  2.0\n",
       "2  3.0  2.0  4.0  NaN\n",
       "3  4.0  3.0  4.0  2.0"
      ]
     },
     "execution_count": 157,
     "metadata": {},
     "output_type": "execute_result"
    }
   ],
   "source": [
    "df.sort_values(by = [1, 2]) # 열 1을 기준으로 오름차순 정렬하되 값이 같은 경우 열 2를 기준으로 정렬"
   ]
  },
  {
   "cell_type": "code",
   "execution_count": 159,
   "id": "769201e0",
   "metadata": {
    "ExecuteTime": {
     "end_time": "2023-09-26T05:11:21.840864Z",
     "start_time": "2023-09-26T05:11:21.825852Z"
    }
   },
   "outputs": [
    {
     "data": {
      "text/plain": [
       "male      577\n",
       "female    314\n",
       "Name: sex, dtype: int64"
      ]
     },
     "execution_count": 159,
     "metadata": {},
     "output_type": "execute_result"
    }
   ],
   "source": [
    "# sort_values 메서드를 사용하여 타이타닉호 승객에 대한 성별(sex) 인원수, 나이별(age) 인원 수,\n",
    "# 선실별(class)인원수, 생존/사망(alive)인원 수를 추출하시오.\n",
    "titanic['sex'].value_counts()"
   ]
  },
  {
   "cell_type": "code",
   "execution_count": 164,
   "id": "61a1dc0b",
   "metadata": {
    "ExecuteTime": {
     "end_time": "2023-09-26T05:18:27.408969Z",
     "start_time": "2023-09-26T05:18:27.386925Z"
    }
   },
   "outputs": [
    {
     "data": {
      "text/plain": [
       "0.42     1\n",
       "0.67     1\n",
       "0.75     2\n",
       "0.83     2\n",
       "0.92     1\n",
       "        ..\n",
       "70.00    2\n",
       "70.50    1\n",
       "71.00    2\n",
       "74.00    1\n",
       "80.00    1\n",
       "Name: age, Length: 88, dtype: int64"
      ]
     },
     "execution_count": 164,
     "metadata": {},
     "output_type": "execute_result"
    }
   ],
   "source": [
    "titanic['age'].value_counts().sort_index()"
   ]
  },
  {
   "cell_type": "code",
   "execution_count": 161,
   "id": "f0a7b9af",
   "metadata": {
    "ExecuteTime": {
     "end_time": "2023-09-26T05:11:58.713837Z",
     "start_time": "2023-09-26T05:11:58.698854Z"
    }
   },
   "outputs": [
    {
     "data": {
      "text/plain": [
       "Third     491\n",
       "First     216\n",
       "Second    184\n",
       "Name: class, dtype: int64"
      ]
     },
     "execution_count": 161,
     "metadata": {},
     "output_type": "execute_result"
    }
   ],
   "source": [
    "titanic['class'].value_counts()"
   ]
  },
  {
   "cell_type": "code",
   "execution_count": 162,
   "id": "6741f484",
   "metadata": {
    "ExecuteTime": {
     "end_time": "2023-09-26T05:12:11.045963Z",
     "start_time": "2023-09-26T05:12:11.029991Z"
    }
   },
   "outputs": [
    {
     "data": {
      "text/plain": [
       "no     549\n",
       "yes    342\n",
       "Name: alive, dtype: int64"
      ]
     },
     "execution_count": 162,
     "metadata": {},
     "output_type": "execute_result"
    }
   ],
   "source": [
    "titanic['alive'].value_counts()"
   ]
  },
  {
   "cell_type": "markdown",
   "id": "366bfbf3",
   "metadata": {},
   "source": [
    "### 행/열 합계: sum(axis = 1(행), axis = 0(열))"
   ]
  },
  {
   "cell_type": "code",
   "execution_count": 165,
   "id": "4ab92d84",
   "metadata": {
    "ExecuteTime": {
     "end_time": "2023-09-26T05:21:41.099236Z",
     "start_time": "2023-09-26T05:21:41.080158Z"
    }
   },
   "outputs": [
    {
     "data": {
      "text/html": [
       "<div>\n",
       "<style scoped>\n",
       "    .dataframe tbody tr th:only-of-type {\n",
       "        vertical-align: middle;\n",
       "    }\n",
       "\n",
       "    .dataframe tbody tr th {\n",
       "        vertical-align: top;\n",
       "    }\n",
       "\n",
       "    .dataframe thead th {\n",
       "        text-align: right;\n",
       "    }\n",
       "</style>\n",
       "<table border=\"1\" class=\"dataframe\">\n",
       "  <thead>\n",
       "    <tr style=\"text-align: right;\">\n",
       "      <th></th>\n",
       "      <th>0</th>\n",
       "      <th>1</th>\n",
       "      <th>2</th>\n",
       "      <th>3</th>\n",
       "      <th>4</th>\n",
       "      <th>5</th>\n",
       "      <th>6</th>\n",
       "      <th>7</th>\n",
       "    </tr>\n",
       "  </thead>\n",
       "  <tbody>\n",
       "    <tr>\n",
       "      <th>0</th>\n",
       "      <td>4</td>\n",
       "      <td>2</td>\n",
       "      <td>9</td>\n",
       "      <td>7</td>\n",
       "      <td>1</td>\n",
       "      <td>9</td>\n",
       "      <td>2</td>\n",
       "      <td>1</td>\n",
       "    </tr>\n",
       "    <tr>\n",
       "      <th>1</th>\n",
       "      <td>0</td>\n",
       "      <td>7</td>\n",
       "      <td>1</td>\n",
       "      <td>8</td>\n",
       "      <td>9</td>\n",
       "      <td>0</td>\n",
       "      <td>7</td>\n",
       "      <td>0</td>\n",
       "    </tr>\n",
       "    <tr>\n",
       "      <th>2</th>\n",
       "      <td>5</td>\n",
       "      <td>2</td>\n",
       "      <td>5</td>\n",
       "      <td>1</td>\n",
       "      <td>3</td>\n",
       "      <td>3</td>\n",
       "      <td>1</td>\n",
       "      <td>8</td>\n",
       "    </tr>\n",
       "    <tr>\n",
       "      <th>3</th>\n",
       "      <td>6</td>\n",
       "      <td>8</td>\n",
       "      <td>1</td>\n",
       "      <td>5</td>\n",
       "      <td>7</td>\n",
       "      <td>0</td>\n",
       "      <td>9</td>\n",
       "      <td>1</td>\n",
       "    </tr>\n",
       "  </tbody>\n",
       "</table>\n",
       "</div>"
      ],
      "text/plain": [
       "   0  1  2  3  4  5  6  7\n",
       "0  4  2  9  7  1  9  2  1\n",
       "1  0  7  1  8  9  0  7  0\n",
       "2  5  2  5  1  3  3  1  8\n",
       "3  6  8  1  5  7  0  9  1"
      ]
     },
     "execution_count": 165,
     "metadata": {},
     "output_type": "execute_result"
    }
   ],
   "source": [
    "df3 = pd.DataFrame(np.random.randint(10, size=(4, 8)))\n",
    "df3"
   ]
  },
  {
   "cell_type": "code",
   "execution_count": 166,
   "id": "de650352",
   "metadata": {
    "ExecuteTime": {
     "end_time": "2023-09-26T05:22:02.283644Z",
     "start_time": "2023-09-26T05:22:02.276667Z"
    }
   },
   "outputs": [
    {
     "data": {
      "text/plain": [
       "0    35\n",
       "1    32\n",
       "2    28\n",
       "3    37\n",
       "dtype: int64"
      ]
     },
     "execution_count": 166,
     "metadata": {},
     "output_type": "execute_result"
    }
   ],
   "source": [
    "# 행방향 합계\n",
    "df3.sum(axis=1)"
   ]
  },
  {
   "cell_type": "code",
   "execution_count": 167,
   "id": "52eb61f7",
   "metadata": {
    "ExecuteTime": {
     "end_time": "2023-09-26T05:23:29.851361Z",
     "start_time": "2023-09-26T05:23:29.829154Z"
    }
   },
   "outputs": [
    {
     "data": {
      "text/plain": [
       "0    15\n",
       "1    19\n",
       "2    16\n",
       "3    21\n",
       "4    20\n",
       "5    12\n",
       "6    19\n",
       "7    10\n",
       "dtype: int64"
      ]
     },
     "execution_count": 167,
     "metadata": {},
     "output_type": "execute_result"
    }
   ],
   "source": [
    "# 열방향 합계\n",
    "df3.sum(axis=0)"
   ]
  },
  {
   "cell_type": "code",
   "execution_count": 168,
   "id": "422a4daf",
   "metadata": {
    "ExecuteTime": {
     "end_time": "2023-09-26T05:23:37.328597Z",
     "start_time": "2023-09-26T05:23:37.308117Z"
    }
   },
   "outputs": [
    {
     "data": {
      "text/plain": [
       "0    15\n",
       "1    19\n",
       "2    16\n",
       "3    21\n",
       "4    20\n",
       "5    12\n",
       "6    19\n",
       "7    10\n",
       "dtype: int64"
      ]
     },
     "execution_count": 168,
     "metadata": {},
     "output_type": "execute_result"
    }
   ],
   "source": [
    "df3.sum()  # axis 생략 시 열방향 계산(axis = 0)"
   ]
  },
  {
   "cell_type": "code",
   "execution_count": 169,
   "id": "4a78cd0e",
   "metadata": {
    "ExecuteTime": {
     "end_time": "2023-09-26T05:24:26.112825Z",
     "start_time": "2023-09-26T05:24:26.096299Z"
    }
   },
   "outputs": [
    {
     "data": {
      "text/html": [
       "<div>\n",
       "<style scoped>\n",
       "    .dataframe tbody tr th:only-of-type {\n",
       "        vertical-align: middle;\n",
       "    }\n",
       "\n",
       "    .dataframe tbody tr th {\n",
       "        vertical-align: top;\n",
       "    }\n",
       "\n",
       "    .dataframe thead th {\n",
       "        text-align: right;\n",
       "    }\n",
       "</style>\n",
       "<table border=\"1\" class=\"dataframe\">\n",
       "  <thead>\n",
       "    <tr style=\"text-align: right;\">\n",
       "      <th></th>\n",
       "      <th>0</th>\n",
       "      <th>1</th>\n",
       "      <th>2</th>\n",
       "      <th>3</th>\n",
       "      <th>4</th>\n",
       "      <th>5</th>\n",
       "      <th>6</th>\n",
       "      <th>7</th>\n",
       "      <th>RowSum</th>\n",
       "    </tr>\n",
       "  </thead>\n",
       "  <tbody>\n",
       "    <tr>\n",
       "      <th>0</th>\n",
       "      <td>4</td>\n",
       "      <td>2</td>\n",
       "      <td>9</td>\n",
       "      <td>7</td>\n",
       "      <td>1</td>\n",
       "      <td>9</td>\n",
       "      <td>2</td>\n",
       "      <td>1</td>\n",
       "      <td>35</td>\n",
       "    </tr>\n",
       "    <tr>\n",
       "      <th>1</th>\n",
       "      <td>0</td>\n",
       "      <td>7</td>\n",
       "      <td>1</td>\n",
       "      <td>8</td>\n",
       "      <td>9</td>\n",
       "      <td>0</td>\n",
       "      <td>7</td>\n",
       "      <td>0</td>\n",
       "      <td>32</td>\n",
       "    </tr>\n",
       "    <tr>\n",
       "      <th>2</th>\n",
       "      <td>5</td>\n",
       "      <td>2</td>\n",
       "      <td>5</td>\n",
       "      <td>1</td>\n",
       "      <td>3</td>\n",
       "      <td>3</td>\n",
       "      <td>1</td>\n",
       "      <td>8</td>\n",
       "      <td>28</td>\n",
       "    </tr>\n",
       "    <tr>\n",
       "      <th>3</th>\n",
       "      <td>6</td>\n",
       "      <td>8</td>\n",
       "      <td>1</td>\n",
       "      <td>5</td>\n",
       "      <td>7</td>\n",
       "      <td>0</td>\n",
       "      <td>9</td>\n",
       "      <td>1</td>\n",
       "      <td>37</td>\n",
       "    </tr>\n",
       "  </tbody>\n",
       "</table>\n",
       "</div>"
      ],
      "text/plain": [
       "   0  1  2  3  4  5  6  7  RowSum\n",
       "0  4  2  9  7  1  9  2  1      35\n",
       "1  0  7  1  8  9  0  7  0      32\n",
       "2  5  2  5  1  3  3  1  8      28\n",
       "3  6  8  1  5  7  0  9  1      37"
      ]
     },
     "execution_count": 169,
     "metadata": {},
     "output_type": "execute_result"
    }
   ],
   "source": [
    "df3['RowSum'] = df3.sum(axis=1)\n",
    "df3"
   ]
  },
  {
   "cell_type": "code",
   "execution_count": 170,
   "id": "3fed6fda",
   "metadata": {
    "ExecuteTime": {
     "end_time": "2023-09-26T05:25:30.459893Z",
     "start_time": "2023-09-26T05:25:30.440554Z"
    }
   },
   "outputs": [],
   "source": [
    "df3.loc['ColSum'] = df3.sum()"
   ]
  },
  {
   "cell_type": "code",
   "execution_count": 171,
   "id": "3d58e43b",
   "metadata": {
    "ExecuteTime": {
     "end_time": "2023-09-26T05:25:32.645633Z",
     "start_time": "2023-09-26T05:25:32.623403Z"
    }
   },
   "outputs": [
    {
     "data": {
      "text/html": [
       "<div>\n",
       "<style scoped>\n",
       "    .dataframe tbody tr th:only-of-type {\n",
       "        vertical-align: middle;\n",
       "    }\n",
       "\n",
       "    .dataframe tbody tr th {\n",
       "        vertical-align: top;\n",
       "    }\n",
       "\n",
       "    .dataframe thead th {\n",
       "        text-align: right;\n",
       "    }\n",
       "</style>\n",
       "<table border=\"1\" class=\"dataframe\">\n",
       "  <thead>\n",
       "    <tr style=\"text-align: right;\">\n",
       "      <th></th>\n",
       "      <th>0</th>\n",
       "      <th>1</th>\n",
       "      <th>2</th>\n",
       "      <th>3</th>\n",
       "      <th>4</th>\n",
       "      <th>5</th>\n",
       "      <th>6</th>\n",
       "      <th>7</th>\n",
       "      <th>RowSum</th>\n",
       "    </tr>\n",
       "  </thead>\n",
       "  <tbody>\n",
       "    <tr>\n",
       "      <th>0</th>\n",
       "      <td>4</td>\n",
       "      <td>2</td>\n",
       "      <td>9</td>\n",
       "      <td>7</td>\n",
       "      <td>1</td>\n",
       "      <td>9</td>\n",
       "      <td>2</td>\n",
       "      <td>1</td>\n",
       "      <td>35</td>\n",
       "    </tr>\n",
       "    <tr>\n",
       "      <th>1</th>\n",
       "      <td>0</td>\n",
       "      <td>7</td>\n",
       "      <td>1</td>\n",
       "      <td>8</td>\n",
       "      <td>9</td>\n",
       "      <td>0</td>\n",
       "      <td>7</td>\n",
       "      <td>0</td>\n",
       "      <td>32</td>\n",
       "    </tr>\n",
       "    <tr>\n",
       "      <th>2</th>\n",
       "      <td>5</td>\n",
       "      <td>2</td>\n",
       "      <td>5</td>\n",
       "      <td>1</td>\n",
       "      <td>3</td>\n",
       "      <td>3</td>\n",
       "      <td>1</td>\n",
       "      <td>8</td>\n",
       "      <td>28</td>\n",
       "    </tr>\n",
       "    <tr>\n",
       "      <th>3</th>\n",
       "      <td>6</td>\n",
       "      <td>8</td>\n",
       "      <td>1</td>\n",
       "      <td>5</td>\n",
       "      <td>7</td>\n",
       "      <td>0</td>\n",
       "      <td>9</td>\n",
       "      <td>1</td>\n",
       "      <td>37</td>\n",
       "    </tr>\n",
       "    <tr>\n",
       "      <th>ColSum</th>\n",
       "      <td>15</td>\n",
       "      <td>19</td>\n",
       "      <td>16</td>\n",
       "      <td>21</td>\n",
       "      <td>20</td>\n",
       "      <td>12</td>\n",
       "      <td>19</td>\n",
       "      <td>10</td>\n",
       "      <td>132</td>\n",
       "    </tr>\n",
       "  </tbody>\n",
       "</table>\n",
       "</div>"
      ],
      "text/plain": [
       "         0   1   2   3   4   5   6   7  RowSum\n",
       "0        4   2   9   7   1   9   2   1      35\n",
       "1        0   7   1   8   9   0   7   0      32\n",
       "2        5   2   5   1   3   3   1   8      28\n",
       "3        6   8   1   5   7   0   9   1      37\n",
       "ColSum  15  19  16  21  20  12  19  10     132"
      ]
     },
     "execution_count": 171,
     "metadata": {},
     "output_type": "execute_result"
    }
   ],
   "source": [
    "df3"
   ]
  },
  {
   "cell_type": "markdown",
   "id": "1d34e6bd",
   "metadata": {},
   "source": [
    "1. 타이타닉호 승객의 평균 나이는?\n",
    "2. 타이타닉호 승객 중 여성 승객의 평균 나이는?\n",
    "3. 타이타닉호 승객 중 1등실에 있는 여성 승객의 평균 나이는?"
   ]
  },
  {
   "cell_type": "code",
   "execution_count": 178,
   "id": "358920b2",
   "metadata": {
    "ExecuteTime": {
     "end_time": "2023-09-26T05:35:16.825116Z",
     "start_time": "2023-09-26T05:35:16.805979Z"
    }
   },
   "outputs": [
    {
     "data": {
      "text/plain": [
       "30.0"
      ]
     },
     "execution_count": 178,
     "metadata": {},
     "output_type": "execute_result"
    }
   ],
   "source": [
    "# 타이타닉호 승객의 평균나이\n",
    "round(titanic['age'].mean(), 0)"
   ]
  },
  {
   "cell_type": "code",
   "execution_count": 179,
   "id": "d398ba2c",
   "metadata": {
    "ExecuteTime": {
     "end_time": "2023-09-26T05:37:36.258993Z",
     "start_time": "2023-09-26T05:37:36.248686Z"
    }
   },
   "outputs": [
    {
     "data": {
      "text/plain": [
       "28.0"
      ]
     },
     "execution_count": 179,
     "metadata": {},
     "output_type": "execute_result"
    }
   ],
   "source": [
    "#2. 타이타닉호 승객 중 여성 승객의 평균 나이\n",
    "round(titanic[titanic['sex'] == 'female']['age'].mean(), 0)"
   ]
  },
  {
   "cell_type": "code",
   "execution_count": 181,
   "id": "f3f2f4a9",
   "metadata": {
    "ExecuteTime": {
     "end_time": "2023-09-26T05:39:34.777350Z",
     "start_time": "2023-09-26T05:39:34.764082Z"
    }
   },
   "outputs": [
    {
     "data": {
      "text/plain": [
       "35.0"
      ]
     },
     "execution_count": 181,
     "metadata": {},
     "output_type": "execute_result"
    }
   ],
   "source": [
    "#3. 1등실 여성 승객의 평균나이\n",
    "round(titanic[(titanic['sex'] == 'female') & (titanic['class'] == 'First')]['age'].mean(), 0)"
   ]
  },
  {
   "cell_type": "markdown",
   "id": "a28a3e08",
   "metadata": {},
   "source": [
    "### apply 변환\n",
    "- 행 또는 열 단위로 반복해서 특정 함수를 적용하는 기능\n",
    "- apply(함수, axis)\n",
    "- lambda 함수로 사용"
   ]
  },
  {
   "cell_type": "code",
   "execution_count": 182,
   "id": "845a92b1",
   "metadata": {
    "ExecuteTime": {
     "end_time": "2023-09-26T05:48:20.608425Z",
     "start_time": "2023-09-26T05:48:20.597032Z"
    }
   },
   "outputs": [
    {
     "data": {
      "text/html": [
       "<div>\n",
       "<style scoped>\n",
       "    .dataframe tbody tr th:only-of-type {\n",
       "        vertical-align: middle;\n",
       "    }\n",
       "\n",
       "    .dataframe tbody tr th {\n",
       "        vertical-align: top;\n",
       "    }\n",
       "\n",
       "    .dataframe thead th {\n",
       "        text-align: right;\n",
       "    }\n",
       "</style>\n",
       "<table border=\"1\" class=\"dataframe\">\n",
       "  <thead>\n",
       "    <tr style=\"text-align: right;\">\n",
       "      <th></th>\n",
       "      <th>A</th>\n",
       "      <th>B</th>\n",
       "      <th>C</th>\n",
       "    </tr>\n",
       "  </thead>\n",
       "  <tbody>\n",
       "    <tr>\n",
       "      <th>0</th>\n",
       "      <td>1</td>\n",
       "      <td>2</td>\n",
       "      <td>5</td>\n",
       "    </tr>\n",
       "    <tr>\n",
       "      <th>1</th>\n",
       "      <td>2</td>\n",
       "      <td>3</td>\n",
       "      <td>4</td>\n",
       "    </tr>\n",
       "    <tr>\n",
       "      <th>2</th>\n",
       "      <td>3</td>\n",
       "      <td>1</td>\n",
       "      <td>3</td>\n",
       "    </tr>\n",
       "    <tr>\n",
       "      <th>3</th>\n",
       "      <td>4</td>\n",
       "      <td>2</td>\n",
       "      <td>2</td>\n",
       "    </tr>\n",
       "    <tr>\n",
       "      <th>4</th>\n",
       "      <td>3</td>\n",
       "      <td>4</td>\n",
       "      <td>1</td>\n",
       "    </tr>\n",
       "  </tbody>\n",
       "</table>\n",
       "</div>"
      ],
      "text/plain": [
       "   A  B  C\n",
       "0  1  2  5\n",
       "1  2  3  4\n",
       "2  3  1  3\n",
       "3  4  2  2\n",
       "4  3  4  1"
      ]
     },
     "execution_count": 182,
     "metadata": {},
     "output_type": "execute_result"
    }
   ],
   "source": [
    "data = pd.DataFrame({\n",
    "    'A':[1,2,3,4,3],\n",
    "    'B':[2,3,1,2,4],\n",
    "    'C':[5,4,3,2,1]\n",
    "})\n",
    "data"
   ]
  },
  {
   "cell_type": "code",
   "execution_count": 183,
   "id": "92eaf567",
   "metadata": {
    "ExecuteTime": {
     "end_time": "2023-09-26T05:49:20.424503Z",
     "start_time": "2023-09-26T05:49:20.415301Z"
    }
   },
   "outputs": [
    {
     "data": {
      "text/plain": [
       "3"
      ]
     },
     "execution_count": 183,
     "metadata": {},
     "output_type": "execute_result"
    }
   ],
   "source": [
    "# 각 열의 최대값과 최소값의 차이\n",
    "data['A'].max() - data['A'].min()"
   ]
  },
  {
   "cell_type": "code",
   "execution_count": 184,
   "id": "b83a247e",
   "metadata": {
    "ExecuteTime": {
     "end_time": "2023-09-26T05:51:56.880788Z",
     "start_time": "2023-09-26T05:51:56.871267Z"
    }
   },
   "outputs": [
    {
     "data": {
      "text/plain": [
       "A    3\n",
       "B    3\n",
       "C    4\n",
       "dtype: int64"
      ]
     },
     "execution_count": 184,
     "metadata": {},
     "output_type": "execute_result"
    }
   ],
   "source": [
    "# lambda 입력값: 출력값\n",
    "data.apply(lambda x : x.max() - x.min())"
   ]
  },
  {
   "cell_type": "code",
   "execution_count": 185,
   "id": "f5d69da3",
   "metadata": {
    "ExecuteTime": {
     "end_time": "2023-09-26T05:52:44.401811Z",
     "start_time": "2023-09-26T05:52:44.380810Z"
    }
   },
   "outputs": [
    {
     "data": {
      "text/plain": [
       "0    4\n",
       "1    2\n",
       "2    2\n",
       "3    2\n",
       "4    3\n",
       "dtype: int64"
      ]
     },
     "execution_count": 185,
     "metadata": {},
     "output_type": "execute_result"
    }
   ],
   "source": [
    "data.apply(lambda x : x.max() - x.min(), axis = 1)"
   ]
  },
  {
   "cell_type": "code",
   "execution_count": 186,
   "id": "1aa6f5e1",
   "metadata": {
    "ExecuteTime": {
     "end_time": "2023-09-26T05:54:29.125275Z",
     "start_time": "2023-09-26T05:54:29.107321Z"
    }
   },
   "outputs": [
    {
     "data": {
      "text/html": [
       "<div>\n",
       "<style scoped>\n",
       "    .dataframe tbody tr th:only-of-type {\n",
       "        vertical-align: middle;\n",
       "    }\n",
       "\n",
       "    .dataframe tbody tr th {\n",
       "        vertical-align: top;\n",
       "    }\n",
       "\n",
       "    .dataframe thead th {\n",
       "        text-align: right;\n",
       "    }\n",
       "</style>\n",
       "<table border=\"1\" class=\"dataframe\">\n",
       "  <thead>\n",
       "    <tr style=\"text-align: right;\">\n",
       "      <th></th>\n",
       "      <th>A</th>\n",
       "      <th>B</th>\n",
       "      <th>C</th>\n",
       "    </tr>\n",
       "  </thead>\n",
       "  <tbody>\n",
       "    <tr>\n",
       "      <th>1</th>\n",
       "      <td>1.0</td>\n",
       "      <td>1.0</td>\n",
       "      <td>1</td>\n",
       "    </tr>\n",
       "    <tr>\n",
       "      <th>2</th>\n",
       "      <td>1.0</td>\n",
       "      <td>2.0</td>\n",
       "      <td>1</td>\n",
       "    </tr>\n",
       "    <tr>\n",
       "      <th>3</th>\n",
       "      <td>2.0</td>\n",
       "      <td>1.0</td>\n",
       "      <td>1</td>\n",
       "    </tr>\n",
       "    <tr>\n",
       "      <th>4</th>\n",
       "      <td>1.0</td>\n",
       "      <td>1.0</td>\n",
       "      <td>1</td>\n",
       "    </tr>\n",
       "    <tr>\n",
       "      <th>5</th>\n",
       "      <td>NaN</td>\n",
       "      <td>NaN</td>\n",
       "      <td>1</td>\n",
       "    </tr>\n",
       "  </tbody>\n",
       "</table>\n",
       "</div>"
      ],
      "text/plain": [
       "     A    B  C\n",
       "1  1.0  1.0  1\n",
       "2  1.0  2.0  1\n",
       "3  2.0  1.0  1\n",
       "4  1.0  1.0  1\n",
       "5  NaN  NaN  1"
      ]
     },
     "execution_count": 186,
     "metadata": {},
     "output_type": "execute_result"
    }
   ],
   "source": [
    "# 각 열에 어떤 값이 얼마나 사용되었는지를 알고 싶다면\n",
    "data.apply(pd.value_counts)"
   ]
  },
  {
   "cell_type": "code",
   "execution_count": 187,
   "id": "008767b7",
   "metadata": {
    "ExecuteTime": {
     "end_time": "2023-09-26T06:04:52.058468Z",
     "start_time": "2023-09-26T06:04:52.046653Z"
    }
   },
   "outputs": [],
   "source": [
    "# adult/child를 판정하여 컬럼(adult/child)를 추가하시오\n",
    "# 승객의 나이가 20살 이상이면 성인(adult) 그렇지 않으면 미성년(child)으로 표시할 것"
   ]
  },
  {
   "cell_type": "code",
   "execution_count": 188,
   "id": "616a4af5",
   "metadata": {
    "ExecuteTime": {
     "end_time": "2023-09-26T06:05:09.115039Z",
     "start_time": "2023-09-26T06:05:09.102259Z"
    }
   },
   "outputs": [
    {
     "data": {
      "text/plain": [
       "Index(['survived', 'pclass', 'sex', 'age', 'sibsp', 'parch', 'fare',\n",
       "       'embarked', 'class', 'who', 'adult_male', 'deck', 'embark_town',\n",
       "       'alive', 'alone'],\n",
       "      dtype='object')"
      ]
     },
     "execution_count": 188,
     "metadata": {},
     "output_type": "execute_result"
    }
   ],
   "source": [
    "titanic.columns"
   ]
  },
  {
   "cell_type": "code",
   "execution_count": 189,
   "id": "b14832b6",
   "metadata": {
    "ExecuteTime": {
     "end_time": "2023-09-26T06:07:24.175890Z",
     "start_time": "2023-09-26T06:07:24.142525Z"
    }
   },
   "outputs": [
    {
     "data": {
      "text/html": [
       "<div>\n",
       "<style scoped>\n",
       "    .dataframe tbody tr th:only-of-type {\n",
       "        vertical-align: middle;\n",
       "    }\n",
       "\n",
       "    .dataframe tbody tr th {\n",
       "        vertical-align: top;\n",
       "    }\n",
       "\n",
       "    .dataframe thead th {\n",
       "        text-align: right;\n",
       "    }\n",
       "</style>\n",
       "<table border=\"1\" class=\"dataframe\">\n",
       "  <thead>\n",
       "    <tr style=\"text-align: right;\">\n",
       "      <th></th>\n",
       "      <th>survived</th>\n",
       "      <th>pclass</th>\n",
       "      <th>sex</th>\n",
       "      <th>age</th>\n",
       "      <th>sibsp</th>\n",
       "      <th>parch</th>\n",
       "      <th>fare</th>\n",
       "      <th>embarked</th>\n",
       "      <th>class</th>\n",
       "      <th>who</th>\n",
       "      <th>adult_male</th>\n",
       "      <th>deck</th>\n",
       "      <th>embark_town</th>\n",
       "      <th>alive</th>\n",
       "      <th>alone</th>\n",
       "      <th>adult/child</th>\n",
       "    </tr>\n",
       "  </thead>\n",
       "  <tbody>\n",
       "    <tr>\n",
       "      <th>886</th>\n",
       "      <td>0</td>\n",
       "      <td>2</td>\n",
       "      <td>male</td>\n",
       "      <td>27.0</td>\n",
       "      <td>0</td>\n",
       "      <td>0</td>\n",
       "      <td>13.00</td>\n",
       "      <td>S</td>\n",
       "      <td>Second</td>\n",
       "      <td>man</td>\n",
       "      <td>True</td>\n",
       "      <td>NaN</td>\n",
       "      <td>Southampton</td>\n",
       "      <td>no</td>\n",
       "      <td>True</td>\n",
       "      <td>adult</td>\n",
       "    </tr>\n",
       "    <tr>\n",
       "      <th>887</th>\n",
       "      <td>1</td>\n",
       "      <td>1</td>\n",
       "      <td>female</td>\n",
       "      <td>19.0</td>\n",
       "      <td>0</td>\n",
       "      <td>0</td>\n",
       "      <td>30.00</td>\n",
       "      <td>S</td>\n",
       "      <td>First</td>\n",
       "      <td>woman</td>\n",
       "      <td>False</td>\n",
       "      <td>B</td>\n",
       "      <td>Southampton</td>\n",
       "      <td>yes</td>\n",
       "      <td>True</td>\n",
       "      <td>child</td>\n",
       "    </tr>\n",
       "    <tr>\n",
       "      <th>888</th>\n",
       "      <td>0</td>\n",
       "      <td>3</td>\n",
       "      <td>female</td>\n",
       "      <td>NaN</td>\n",
       "      <td>1</td>\n",
       "      <td>2</td>\n",
       "      <td>23.45</td>\n",
       "      <td>S</td>\n",
       "      <td>Third</td>\n",
       "      <td>woman</td>\n",
       "      <td>False</td>\n",
       "      <td>NaN</td>\n",
       "      <td>Southampton</td>\n",
       "      <td>no</td>\n",
       "      <td>False</td>\n",
       "      <td>child</td>\n",
       "    </tr>\n",
       "    <tr>\n",
       "      <th>889</th>\n",
       "      <td>1</td>\n",
       "      <td>1</td>\n",
       "      <td>male</td>\n",
       "      <td>26.0</td>\n",
       "      <td>0</td>\n",
       "      <td>0</td>\n",
       "      <td>30.00</td>\n",
       "      <td>C</td>\n",
       "      <td>First</td>\n",
       "      <td>man</td>\n",
       "      <td>True</td>\n",
       "      <td>C</td>\n",
       "      <td>Cherbourg</td>\n",
       "      <td>yes</td>\n",
       "      <td>True</td>\n",
       "      <td>adult</td>\n",
       "    </tr>\n",
       "    <tr>\n",
       "      <th>890</th>\n",
       "      <td>0</td>\n",
       "      <td>3</td>\n",
       "      <td>male</td>\n",
       "      <td>32.0</td>\n",
       "      <td>0</td>\n",
       "      <td>0</td>\n",
       "      <td>7.75</td>\n",
       "      <td>Q</td>\n",
       "      <td>Third</td>\n",
       "      <td>man</td>\n",
       "      <td>True</td>\n",
       "      <td>NaN</td>\n",
       "      <td>Queenstown</td>\n",
       "      <td>no</td>\n",
       "      <td>True</td>\n",
       "      <td>adult</td>\n",
       "    </tr>\n",
       "  </tbody>\n",
       "</table>\n",
       "</div>"
      ],
      "text/plain": [
       "     survived  pclass     sex   age  sibsp  parch   fare embarked   class  \\\n",
       "886         0       2    male  27.0      0      0  13.00        S  Second   \n",
       "887         1       1  female  19.0      0      0  30.00        S   First   \n",
       "888         0       3  female   NaN      1      2  23.45        S   Third   \n",
       "889         1       1    male  26.0      0      0  30.00        C   First   \n",
       "890         0       3    male  32.0      0      0   7.75        Q   Third   \n",
       "\n",
       "       who  adult_male deck  embark_town alive  alone adult/child  \n",
       "886    man        True  NaN  Southampton    no   True       adult  \n",
       "887  woman       False    B  Southampton   yes   True       child  \n",
       "888  woman       False  NaN  Southampton    no  False       child  \n",
       "889    man        True    C    Cherbourg   yes   True       adult  \n",
       "890    man        True  NaN   Queenstown    no   True       adult  "
      ]
     },
     "execution_count": 189,
     "metadata": {},
     "output_type": "execute_result"
    }
   ],
   "source": [
    "titanic['adult/child'] = titanic.apply(lambda x : 'adult' if x.age >= 20 else 'child', axis=1)\n",
    "titanic.tail()"
   ]
  },
  {
   "cell_type": "code",
   "execution_count": 190,
   "id": "12be5b91",
   "metadata": {
    "ExecuteTime": {
     "end_time": "2023-09-26T06:08:47.037927Z",
     "start_time": "2023-09-26T06:08:47.015813Z"
    }
   },
   "outputs": [
    {
     "data": {
      "text/html": [
       "<div>\n",
       "<style scoped>\n",
       "    .dataframe tbody tr th:only-of-type {\n",
       "        vertical-align: middle;\n",
       "    }\n",
       "\n",
       "    .dataframe tbody tr th {\n",
       "        vertical-align: top;\n",
       "    }\n",
       "\n",
       "    .dataframe thead th {\n",
       "        text-align: right;\n",
       "    }\n",
       "</style>\n",
       "<table border=\"1\" class=\"dataframe\">\n",
       "  <thead>\n",
       "    <tr style=\"text-align: right;\">\n",
       "      <th></th>\n",
       "      <th>0</th>\n",
       "      <th>1</th>\n",
       "      <th>2</th>\n",
       "      <th>3</th>\n",
       "    </tr>\n",
       "  </thead>\n",
       "  <tbody>\n",
       "    <tr>\n",
       "      <th>0</th>\n",
       "      <td>0.0</td>\n",
       "      <td>0.0</td>\n",
       "      <td>3.0</td>\n",
       "      <td>2.0</td>\n",
       "    </tr>\n",
       "    <tr>\n",
       "      <th>1</th>\n",
       "      <td>3.0</td>\n",
       "      <td>0.0</td>\n",
       "      <td>2.0</td>\n",
       "      <td>1.0</td>\n",
       "    </tr>\n",
       "    <tr>\n",
       "      <th>2</th>\n",
       "      <td>3.0</td>\n",
       "      <td>2.0</td>\n",
       "      <td>4.0</td>\n",
       "      <td>NaN</td>\n",
       "    </tr>\n",
       "    <tr>\n",
       "      <th>3</th>\n",
       "      <td>4.0</td>\n",
       "      <td>3.0</td>\n",
       "      <td>4.0</td>\n",
       "      <td>2.0</td>\n",
       "    </tr>\n",
       "  </tbody>\n",
       "</table>\n",
       "</div>"
      ],
      "text/plain": [
       "     0    1    2    3\n",
       "0  0.0  0.0  3.0  2.0\n",
       "1  3.0  0.0  2.0  1.0\n",
       "2  3.0  2.0  4.0  NaN\n",
       "3  4.0  3.0  4.0  2.0"
      ]
     },
     "execution_count": 190,
     "metadata": {},
     "output_type": "execute_result"
    }
   ],
   "source": [
    "df"
   ]
  },
  {
   "cell_type": "code",
   "execution_count": 191,
   "id": "af984b1a",
   "metadata": {
    "ExecuteTime": {
     "end_time": "2023-09-26T06:10:03.794144Z",
     "start_time": "2023-09-26T06:10:03.768128Z"
    }
   },
   "outputs": [
    {
     "data": {
      "text/html": [
       "<div>\n",
       "<style scoped>\n",
       "    .dataframe tbody tr th:only-of-type {\n",
       "        vertical-align: middle;\n",
       "    }\n",
       "\n",
       "    .dataframe tbody tr th {\n",
       "        vertical-align: top;\n",
       "    }\n",
       "\n",
       "    .dataframe thead th {\n",
       "        text-align: right;\n",
       "    }\n",
       "</style>\n",
       "<table border=\"1\" class=\"dataframe\">\n",
       "  <thead>\n",
       "    <tr style=\"text-align: right;\">\n",
       "      <th></th>\n",
       "      <th>0</th>\n",
       "      <th>1</th>\n",
       "      <th>2</th>\n",
       "      <th>3</th>\n",
       "    </tr>\n",
       "  </thead>\n",
       "  <tbody>\n",
       "    <tr>\n",
       "      <th>0.0</th>\n",
       "      <td>1.0</td>\n",
       "      <td>2.0</td>\n",
       "      <td>0.0</td>\n",
       "      <td>0.0</td>\n",
       "    </tr>\n",
       "    <tr>\n",
       "      <th>1.0</th>\n",
       "      <td>0.0</td>\n",
       "      <td>0.0</td>\n",
       "      <td>0.0</td>\n",
       "      <td>1.0</td>\n",
       "    </tr>\n",
       "    <tr>\n",
       "      <th>2.0</th>\n",
       "      <td>0.0</td>\n",
       "      <td>1.0</td>\n",
       "      <td>1.0</td>\n",
       "      <td>2.0</td>\n",
       "    </tr>\n",
       "    <tr>\n",
       "      <th>3.0</th>\n",
       "      <td>2.0</td>\n",
       "      <td>1.0</td>\n",
       "      <td>1.0</td>\n",
       "      <td>0.0</td>\n",
       "    </tr>\n",
       "    <tr>\n",
       "      <th>4.0</th>\n",
       "      <td>1.0</td>\n",
       "      <td>0.0</td>\n",
       "      <td>2.0</td>\n",
       "      <td>0.0</td>\n",
       "    </tr>\n",
       "  </tbody>\n",
       "</table>\n",
       "</div>"
      ],
      "text/plain": [
       "       0    1    2    3\n",
       "0.0  1.0  2.0  0.0  0.0\n",
       "1.0  0.0  0.0  0.0  1.0\n",
       "2.0  0.0  1.0  1.0  2.0\n",
       "3.0  2.0  1.0  1.0  0.0\n",
       "4.0  1.0  0.0  2.0  0.0"
      ]
     },
     "execution_count": 191,
     "metadata": {},
     "output_type": "execute_result"
    }
   ],
   "source": [
    "df.apply(pd.value_counts).fillna(0.0)"
   ]
  },
  {
   "cell_type": "code",
   "execution_count": 192,
   "id": "f953e7f8",
   "metadata": {
    "ExecuteTime": {
     "end_time": "2023-09-26T06:11:00.686482Z",
     "start_time": "2023-09-26T06:11:00.669411Z"
    }
   },
   "outputs": [
    {
     "data": {
      "text/html": [
       "<div>\n",
       "<style scoped>\n",
       "    .dataframe tbody tr th:only-of-type {\n",
       "        vertical-align: middle;\n",
       "    }\n",
       "\n",
       "    .dataframe tbody tr th {\n",
       "        vertical-align: top;\n",
       "    }\n",
       "\n",
       "    .dataframe thead th {\n",
       "        text-align: right;\n",
       "    }\n",
       "</style>\n",
       "<table border=\"1\" class=\"dataframe\">\n",
       "  <thead>\n",
       "    <tr style=\"text-align: right;\">\n",
       "      <th></th>\n",
       "      <th>0</th>\n",
       "      <th>1</th>\n",
       "      <th>2</th>\n",
       "      <th>3</th>\n",
       "    </tr>\n",
       "  </thead>\n",
       "  <tbody>\n",
       "    <tr>\n",
       "      <th>0.0</th>\n",
       "      <td>1</td>\n",
       "      <td>2</td>\n",
       "      <td>0</td>\n",
       "      <td>0</td>\n",
       "    </tr>\n",
       "    <tr>\n",
       "      <th>1.0</th>\n",
       "      <td>0</td>\n",
       "      <td>0</td>\n",
       "      <td>0</td>\n",
       "      <td>1</td>\n",
       "    </tr>\n",
       "    <tr>\n",
       "      <th>2.0</th>\n",
       "      <td>0</td>\n",
       "      <td>1</td>\n",
       "      <td>1</td>\n",
       "      <td>2</td>\n",
       "    </tr>\n",
       "    <tr>\n",
       "      <th>3.0</th>\n",
       "      <td>2</td>\n",
       "      <td>1</td>\n",
       "      <td>1</td>\n",
       "      <td>0</td>\n",
       "    </tr>\n",
       "    <tr>\n",
       "      <th>4.0</th>\n",
       "      <td>1</td>\n",
       "      <td>0</td>\n",
       "      <td>2</td>\n",
       "      <td>0</td>\n",
       "    </tr>\n",
       "  </tbody>\n",
       "</table>\n",
       "</div>"
      ],
      "text/plain": [
       "     0  1  2  3\n",
       "0.0  1  2  0  0\n",
       "1.0  0  0  0  1\n",
       "2.0  0  1  1  2\n",
       "3.0  2  1  1  0\n",
       "4.0  1  0  2  0"
      ]
     },
     "execution_count": 192,
     "metadata": {},
     "output_type": "execute_result"
    }
   ],
   "source": [
    "df.apply(pd.value_counts).fillna(0).astype(int)"
   ]
  },
  {
   "cell_type": "markdown",
   "id": "8ad49c58",
   "metadata": {},
   "source": [
    "## 데이터프레임의 인덱스 조작"
   ]
  },
  {
   "cell_type": "markdown",
   "id": "497dcae0",
   "metadata": {},
   "source": [
    "### 데이터프레임의 인덱스 설정 및 제거\n",
    "- set_index: 기존의 행 인덱스를 제거하고 데이터의 열 중 하나를 인덱스로 설정\n",
    "- reset_index: 기존의 행 인덱스를 제거하고 인덱스를 데이터 열로 추가"
   ]
  },
  {
   "cell_type": "code",
   "execution_count": 195,
   "id": "2ba1a66b",
   "metadata": {
    "ExecuteTime": {
     "end_time": "2023-09-26T06:17:50.193906Z",
     "start_time": "2023-09-26T06:17:50.178657Z"
    }
   },
   "outputs": [
    {
     "data": {
      "text/html": [
       "<div>\n",
       "<style scoped>\n",
       "    .dataframe tbody tr th:only-of-type {\n",
       "        vertical-align: middle;\n",
       "    }\n",
       "\n",
       "    .dataframe tbody tr th {\n",
       "        vertical-align: top;\n",
       "    }\n",
       "\n",
       "    .dataframe thead th {\n",
       "        text-align: right;\n",
       "    }\n",
       "</style>\n",
       "<table border=\"1\" class=\"dataframe\">\n",
       "  <thead>\n",
       "    <tr style=\"text-align: right;\">\n",
       "      <th></th>\n",
       "      <th>C1</th>\n",
       "      <th>C2</th>\n",
       "      <th>C3</th>\n",
       "      <th>C4</th>\n",
       "    </tr>\n",
       "  </thead>\n",
       "  <tbody>\n",
       "    <tr>\n",
       "      <th>0</th>\n",
       "      <td>A</td>\n",
       "      <td>0.3</td>\n",
       "      <td>0.29</td>\n",
       "      <td>0.05</td>\n",
       "    </tr>\n",
       "    <tr>\n",
       "      <th>1</th>\n",
       "      <td>B</td>\n",
       "      <td>0.19</td>\n",
       "      <td>0.47</td>\n",
       "      <td>0.23</td>\n",
       "    </tr>\n",
       "    <tr>\n",
       "      <th>2</th>\n",
       "      <td>C</td>\n",
       "      <td>0.1</td>\n",
       "      <td>0.55</td>\n",
       "      <td>0.64</td>\n",
       "    </tr>\n",
       "    <tr>\n",
       "      <th>3</th>\n",
       "      <td>D</td>\n",
       "      <td>0.28</td>\n",
       "      <td>0.85</td>\n",
       "      <td>0.16</td>\n",
       "    </tr>\n",
       "    <tr>\n",
       "      <th>4</th>\n",
       "      <td>E</td>\n",
       "      <td>0.21</td>\n",
       "      <td>0.99</td>\n",
       "      <td>0.87</td>\n",
       "    </tr>\n",
       "  </tbody>\n",
       "</table>\n",
       "</div>"
      ],
      "text/plain": [
       "  C1    C2    C3    C4\n",
       "0  A   0.3  0.29  0.05\n",
       "1  B  0.19  0.47  0.23\n",
       "2  C   0.1  0.55  0.64\n",
       "3  D  0.28  0.85  0.16\n",
       "4  E  0.21  0.99  0.87"
      ]
     },
     "execution_count": 195,
     "metadata": {},
     "output_type": "execute_result"
    }
   ],
   "source": [
    "df1 = pd.DataFrame(np.vstack([list('ABCDE'),\n",
    "                              np.round(np.random.rand(3, 5), 2)]).T,\n",
    "                   columns = ['C1', 'C2', 'C3', 'C4'])\n",
    "df1"
   ]
  },
  {
   "cell_type": "code",
   "execution_count": 196,
   "id": "e6967172",
   "metadata": {
    "ExecuteTime": {
     "end_time": "2023-09-26T06:19:10.408082Z",
     "start_time": "2023-09-26T06:19:10.387768Z"
    }
   },
   "outputs": [
    {
     "data": {
      "text/html": [
       "<div>\n",
       "<style scoped>\n",
       "    .dataframe tbody tr th:only-of-type {\n",
       "        vertical-align: middle;\n",
       "    }\n",
       "\n",
       "    .dataframe tbody tr th {\n",
       "        vertical-align: top;\n",
       "    }\n",
       "\n",
       "    .dataframe thead th {\n",
       "        text-align: right;\n",
       "    }\n",
       "</style>\n",
       "<table border=\"1\" class=\"dataframe\">\n",
       "  <thead>\n",
       "    <tr style=\"text-align: right;\">\n",
       "      <th></th>\n",
       "      <th>C2</th>\n",
       "      <th>C3</th>\n",
       "      <th>C4</th>\n",
       "    </tr>\n",
       "    <tr>\n",
       "      <th>C1</th>\n",
       "      <th></th>\n",
       "      <th></th>\n",
       "      <th></th>\n",
       "    </tr>\n",
       "  </thead>\n",
       "  <tbody>\n",
       "    <tr>\n",
       "      <th>A</th>\n",
       "      <td>0.3</td>\n",
       "      <td>0.29</td>\n",
       "      <td>0.05</td>\n",
       "    </tr>\n",
       "    <tr>\n",
       "      <th>B</th>\n",
       "      <td>0.19</td>\n",
       "      <td>0.47</td>\n",
       "      <td>0.23</td>\n",
       "    </tr>\n",
       "    <tr>\n",
       "      <th>C</th>\n",
       "      <td>0.1</td>\n",
       "      <td>0.55</td>\n",
       "      <td>0.64</td>\n",
       "    </tr>\n",
       "    <tr>\n",
       "      <th>D</th>\n",
       "      <td>0.28</td>\n",
       "      <td>0.85</td>\n",
       "      <td>0.16</td>\n",
       "    </tr>\n",
       "    <tr>\n",
       "      <th>E</th>\n",
       "      <td>0.21</td>\n",
       "      <td>0.99</td>\n",
       "      <td>0.87</td>\n",
       "    </tr>\n",
       "  </tbody>\n",
       "</table>\n",
       "</div>"
      ],
      "text/plain": [
       "      C2    C3    C4\n",
       "C1                  \n",
       "A    0.3  0.29  0.05\n",
       "B   0.19  0.47  0.23\n",
       "C    0.1  0.55  0.64\n",
       "D   0.28  0.85  0.16\n",
       "E   0.21  0.99  0.87"
      ]
     },
     "execution_count": 196,
     "metadata": {},
     "output_type": "execute_result"
    }
   ],
   "source": [
    "df2 = df1.set_index('C1')\n",
    "df2"
   ]
  },
  {
   "cell_type": "code",
   "execution_count": 197,
   "id": "002cad0e",
   "metadata": {
    "ExecuteTime": {
     "end_time": "2023-09-26T06:20:13.768459Z",
     "start_time": "2023-09-26T06:20:13.749415Z"
    }
   },
   "outputs": [
    {
     "data": {
      "text/html": [
       "<div>\n",
       "<style scoped>\n",
       "    .dataframe tbody tr th:only-of-type {\n",
       "        vertical-align: middle;\n",
       "    }\n",
       "\n",
       "    .dataframe tbody tr th {\n",
       "        vertical-align: top;\n",
       "    }\n",
       "\n",
       "    .dataframe thead th {\n",
       "        text-align: right;\n",
       "    }\n",
       "</style>\n",
       "<table border=\"1\" class=\"dataframe\">\n",
       "  <thead>\n",
       "    <tr style=\"text-align: right;\">\n",
       "      <th></th>\n",
       "      <th>C1</th>\n",
       "      <th>C2</th>\n",
       "      <th>C3</th>\n",
       "      <th>C4</th>\n",
       "    </tr>\n",
       "  </thead>\n",
       "  <tbody>\n",
       "    <tr>\n",
       "      <th>0</th>\n",
       "      <td>A</td>\n",
       "      <td>0.3</td>\n",
       "      <td>0.29</td>\n",
       "      <td>0.05</td>\n",
       "    </tr>\n",
       "    <tr>\n",
       "      <th>1</th>\n",
       "      <td>B</td>\n",
       "      <td>0.19</td>\n",
       "      <td>0.47</td>\n",
       "      <td>0.23</td>\n",
       "    </tr>\n",
       "    <tr>\n",
       "      <th>2</th>\n",
       "      <td>C</td>\n",
       "      <td>0.1</td>\n",
       "      <td>0.55</td>\n",
       "      <td>0.64</td>\n",
       "    </tr>\n",
       "    <tr>\n",
       "      <th>3</th>\n",
       "      <td>D</td>\n",
       "      <td>0.28</td>\n",
       "      <td>0.85</td>\n",
       "      <td>0.16</td>\n",
       "    </tr>\n",
       "    <tr>\n",
       "      <th>4</th>\n",
       "      <td>E</td>\n",
       "      <td>0.21</td>\n",
       "      <td>0.99</td>\n",
       "      <td>0.87</td>\n",
       "    </tr>\n",
       "  </tbody>\n",
       "</table>\n",
       "</div>"
      ],
      "text/plain": [
       "  C1    C2    C3    C4\n",
       "0  A   0.3  0.29  0.05\n",
       "1  B  0.19  0.47  0.23\n",
       "2  C   0.1  0.55  0.64\n",
       "3  D  0.28  0.85  0.16\n",
       "4  E  0.21  0.99  0.87"
      ]
     },
     "execution_count": 197,
     "metadata": {},
     "output_type": "execute_result"
    }
   ],
   "source": [
    "df2.reset_index()  # 행 인덱스를 열 인덱스로 바꿈"
   ]
  },
  {
   "cell_type": "code",
   "execution_count": 198,
   "id": "ef92f275",
   "metadata": {
    "ExecuteTime": {
     "end_time": "2023-09-26T06:20:46.596804Z",
     "start_time": "2023-09-26T06:20:46.584436Z"
    }
   },
   "outputs": [
    {
     "data": {
      "text/html": [
       "<div>\n",
       "<style scoped>\n",
       "    .dataframe tbody tr th:only-of-type {\n",
       "        vertical-align: middle;\n",
       "    }\n",
       "\n",
       "    .dataframe tbody tr th {\n",
       "        vertical-align: top;\n",
       "    }\n",
       "\n",
       "    .dataframe thead th {\n",
       "        text-align: right;\n",
       "    }\n",
       "</style>\n",
       "<table border=\"1\" class=\"dataframe\">\n",
       "  <thead>\n",
       "    <tr style=\"text-align: right;\">\n",
       "      <th></th>\n",
       "      <th>C2</th>\n",
       "      <th>C3</th>\n",
       "      <th>C4</th>\n",
       "    </tr>\n",
       "  </thead>\n",
       "  <tbody>\n",
       "    <tr>\n",
       "      <th>0</th>\n",
       "      <td>0.3</td>\n",
       "      <td>0.29</td>\n",
       "      <td>0.05</td>\n",
       "    </tr>\n",
       "    <tr>\n",
       "      <th>1</th>\n",
       "      <td>0.19</td>\n",
       "      <td>0.47</td>\n",
       "      <td>0.23</td>\n",
       "    </tr>\n",
       "    <tr>\n",
       "      <th>2</th>\n",
       "      <td>0.1</td>\n",
       "      <td>0.55</td>\n",
       "      <td>0.64</td>\n",
       "    </tr>\n",
       "    <tr>\n",
       "      <th>3</th>\n",
       "      <td>0.28</td>\n",
       "      <td>0.85</td>\n",
       "      <td>0.16</td>\n",
       "    </tr>\n",
       "    <tr>\n",
       "      <th>4</th>\n",
       "      <td>0.21</td>\n",
       "      <td>0.99</td>\n",
       "      <td>0.87</td>\n",
       "    </tr>\n",
       "  </tbody>\n",
       "</table>\n",
       "</div>"
      ],
      "text/plain": [
       "     C2    C3    C4\n",
       "0   0.3  0.29  0.05\n",
       "1  0.19  0.47  0.23\n",
       "2   0.1  0.55  0.64\n",
       "3  0.28  0.85  0.16\n",
       "4  0.21  0.99  0.87"
      ]
     },
     "execution_count": 198,
     "metadata": {},
     "output_type": "execute_result"
    }
   ],
   "source": [
    "df2.reset_index(drop=True)  # 바뀌지않고 그대로 삭제"
   ]
  },
  {
   "cell_type": "markdown",
   "id": "2bcd8d21",
   "metadata": {},
   "source": [
    "### 데이터프레임 합성\n",
    "- merge(병합): 두 데이터프레임의 공통의 열 또는 행 인덱스를 기준으로 데이터를 합침\n",
    "- concat(연결)"
   ]
  },
  {
   "cell_type": "code",
   "execution_count": 199,
   "id": "52c13879",
   "metadata": {
    "ExecuteTime": {
     "end_time": "2023-09-26T06:24:44.481282Z",
     "start_time": "2023-09-26T06:24:44.463470Z"
    }
   },
   "outputs": [
    {
     "data": {
      "text/html": [
       "<div>\n",
       "<style scoped>\n",
       "    .dataframe tbody tr th:only-of-type {\n",
       "        vertical-align: middle;\n",
       "    }\n",
       "\n",
       "    .dataframe tbody tr th {\n",
       "        vertical-align: top;\n",
       "    }\n",
       "\n",
       "    .dataframe thead th {\n",
       "        text-align: right;\n",
       "    }\n",
       "</style>\n",
       "<table border=\"1\" class=\"dataframe\">\n",
       "  <thead>\n",
       "    <tr style=\"text-align: right;\">\n",
       "      <th></th>\n",
       "      <th>고객번호</th>\n",
       "      <th>이름</th>\n",
       "    </tr>\n",
       "  </thead>\n",
       "  <tbody>\n",
       "    <tr>\n",
       "      <th>0</th>\n",
       "      <td>1001</td>\n",
       "      <td>이소라</td>\n",
       "    </tr>\n",
       "    <tr>\n",
       "      <th>1</th>\n",
       "      <td>1002</td>\n",
       "      <td>박민수</td>\n",
       "    </tr>\n",
       "    <tr>\n",
       "      <th>2</th>\n",
       "      <td>1003</td>\n",
       "      <td>둘리</td>\n",
       "    </tr>\n",
       "    <tr>\n",
       "      <th>3</th>\n",
       "      <td>1004</td>\n",
       "      <td>고길동</td>\n",
       "    </tr>\n",
       "    <tr>\n",
       "      <th>4</th>\n",
       "      <td>1005</td>\n",
       "      <td>도우너</td>\n",
       "    </tr>\n",
       "    <tr>\n",
       "      <th>5</th>\n",
       "      <td>1006</td>\n",
       "      <td>또치</td>\n",
       "    </tr>\n",
       "    <tr>\n",
       "      <th>6</th>\n",
       "      <td>1007</td>\n",
       "      <td>희동</td>\n",
       "    </tr>\n",
       "  </tbody>\n",
       "</table>\n",
       "</div>"
      ],
      "text/plain": [
       "   고객번호   이름\n",
       "0  1001  이소라\n",
       "1  1002  박민수\n",
       "2  1003   둘리\n",
       "3  1004  고길동\n",
       "4  1005  도우너\n",
       "5  1006   또치\n",
       "6  1007   희동"
      ]
     },
     "execution_count": 199,
     "metadata": {},
     "output_type": "execute_result"
    }
   ],
   "source": [
    "df1 = pd.DataFrame({\n",
    "    '고객번호':[1001, 1002, 1003, 1004, 1005, 1006, 1007],\n",
    "    '이름':['이소라', '박민수', '둘리', '고길동', '도우너', '또치', '희동']\n",
    "})\n",
    "df1"
   ]
  },
  {
   "cell_type": "code",
   "execution_count": 200,
   "id": "d4270ce2",
   "metadata": {
    "ExecuteTime": {
     "end_time": "2023-09-26T06:26:25.658649Z",
     "start_time": "2023-09-26T06:26:25.646352Z"
    }
   },
   "outputs": [
    {
     "data": {
      "text/html": [
       "<div>\n",
       "<style scoped>\n",
       "    .dataframe tbody tr th:only-of-type {\n",
       "        vertical-align: middle;\n",
       "    }\n",
       "\n",
       "    .dataframe tbody tr th {\n",
       "        vertical-align: top;\n",
       "    }\n",
       "\n",
       "    .dataframe thead th {\n",
       "        text-align: right;\n",
       "    }\n",
       "</style>\n",
       "<table border=\"1\" class=\"dataframe\">\n",
       "  <thead>\n",
       "    <tr style=\"text-align: right;\">\n",
       "      <th></th>\n",
       "      <th>고객번호</th>\n",
       "      <th>금액</th>\n",
       "    </tr>\n",
       "  </thead>\n",
       "  <tbody>\n",
       "    <tr>\n",
       "      <th>0</th>\n",
       "      <td>1001</td>\n",
       "      <td>10000</td>\n",
       "    </tr>\n",
       "    <tr>\n",
       "      <th>1</th>\n",
       "      <td>1001</td>\n",
       "      <td>200000</td>\n",
       "    </tr>\n",
       "    <tr>\n",
       "      <th>2</th>\n",
       "      <td>1005</td>\n",
       "      <td>15000</td>\n",
       "    </tr>\n",
       "    <tr>\n",
       "      <th>3</th>\n",
       "      <td>1006</td>\n",
       "      <td>50000</td>\n",
       "    </tr>\n",
       "    <tr>\n",
       "      <th>4</th>\n",
       "      <td>1008</td>\n",
       "      <td>120000</td>\n",
       "    </tr>\n",
       "    <tr>\n",
       "      <th>5</th>\n",
       "      <td>1001</td>\n",
       "      <td>30000</td>\n",
       "    </tr>\n",
       "  </tbody>\n",
       "</table>\n",
       "</div>"
      ],
      "text/plain": [
       "   고객번호      금액\n",
       "0  1001   10000\n",
       "1  1001  200000\n",
       "2  1005   15000\n",
       "3  1006   50000\n",
       "4  1008  120000\n",
       "5  1001   30000"
      ]
     },
     "execution_count": 200,
     "metadata": {},
     "output_type": "execute_result"
    }
   ],
   "source": [
    "df2 = pd.DataFrame({\n",
    "    '고객번호':[1001, 1001, 1005, 1006, 1008, 1001],\n",
    "    '금액':[10000, 200000, 15000, 50000, 120000, 30000]\n",
    "})\n",
    "df2"
   ]
  },
  {
   "cell_type": "code",
   "execution_count": 201,
   "id": "553d7677",
   "metadata": {
    "ExecuteTime": {
     "end_time": "2023-09-26T06:28:37.001610Z",
     "start_time": "2023-09-26T06:28:36.986620Z"
    }
   },
   "outputs": [
    {
     "data": {
      "text/html": [
       "<div>\n",
       "<style scoped>\n",
       "    .dataframe tbody tr th:only-of-type {\n",
       "        vertical-align: middle;\n",
       "    }\n",
       "\n",
       "    .dataframe tbody tr th {\n",
       "        vertical-align: top;\n",
       "    }\n",
       "\n",
       "    .dataframe thead th {\n",
       "        text-align: right;\n",
       "    }\n",
       "</style>\n",
       "<table border=\"1\" class=\"dataframe\">\n",
       "  <thead>\n",
       "    <tr style=\"text-align: right;\">\n",
       "      <th></th>\n",
       "      <th>고객번호</th>\n",
       "      <th>이름</th>\n",
       "      <th>금액</th>\n",
       "    </tr>\n",
       "  </thead>\n",
       "  <tbody>\n",
       "    <tr>\n",
       "      <th>0</th>\n",
       "      <td>1001</td>\n",
       "      <td>이소라</td>\n",
       "      <td>10000</td>\n",
       "    </tr>\n",
       "    <tr>\n",
       "      <th>1</th>\n",
       "      <td>1001</td>\n",
       "      <td>이소라</td>\n",
       "      <td>200000</td>\n",
       "    </tr>\n",
       "    <tr>\n",
       "      <th>2</th>\n",
       "      <td>1001</td>\n",
       "      <td>이소라</td>\n",
       "      <td>30000</td>\n",
       "    </tr>\n",
       "    <tr>\n",
       "      <th>3</th>\n",
       "      <td>1005</td>\n",
       "      <td>도우너</td>\n",
       "      <td>15000</td>\n",
       "    </tr>\n",
       "    <tr>\n",
       "      <th>4</th>\n",
       "      <td>1006</td>\n",
       "      <td>또치</td>\n",
       "      <td>50000</td>\n",
       "    </tr>\n",
       "  </tbody>\n",
       "</table>\n",
       "</div>"
      ],
      "text/plain": [
       "   고객번호   이름      금액\n",
       "0  1001  이소라   10000\n",
       "1  1001  이소라  200000\n",
       "2  1001  이소라   30000\n",
       "3  1005  도우너   15000\n",
       "4  1006   또치   50000"
      ]
     },
     "execution_count": 201,
     "metadata": {},
     "output_type": "execute_result"
    }
   ],
   "source": [
    "# 두 데이터프레임에 공통의 키가 존재하는 데이터만 합치는 것: inner join\n",
    "pd.merge(df1, df2)"
   ]
  },
  {
   "cell_type": "code",
   "execution_count": 202,
   "id": "0d156822",
   "metadata": {
    "ExecuteTime": {
     "end_time": "2023-09-26T06:31:18.764457Z",
     "start_time": "2023-09-26T06:31:18.752286Z"
    }
   },
   "outputs": [
    {
     "data": {
      "text/html": [
       "<div>\n",
       "<style scoped>\n",
       "    .dataframe tbody tr th:only-of-type {\n",
       "        vertical-align: middle;\n",
       "    }\n",
       "\n",
       "    .dataframe tbody tr th {\n",
       "        vertical-align: top;\n",
       "    }\n",
       "\n",
       "    .dataframe thead th {\n",
       "        text-align: right;\n",
       "    }\n",
       "</style>\n",
       "<table border=\"1\" class=\"dataframe\">\n",
       "  <thead>\n",
       "    <tr style=\"text-align: right;\">\n",
       "      <th></th>\n",
       "      <th>고객번호</th>\n",
       "      <th>이름</th>\n",
       "      <th>금액</th>\n",
       "    </tr>\n",
       "  </thead>\n",
       "  <tbody>\n",
       "    <tr>\n",
       "      <th>0</th>\n",
       "      <td>1001</td>\n",
       "      <td>이소라</td>\n",
       "      <td>10000.0</td>\n",
       "    </tr>\n",
       "    <tr>\n",
       "      <th>1</th>\n",
       "      <td>1001</td>\n",
       "      <td>이소라</td>\n",
       "      <td>200000.0</td>\n",
       "    </tr>\n",
       "    <tr>\n",
       "      <th>2</th>\n",
       "      <td>1001</td>\n",
       "      <td>이소라</td>\n",
       "      <td>30000.0</td>\n",
       "    </tr>\n",
       "    <tr>\n",
       "      <th>3</th>\n",
       "      <td>1002</td>\n",
       "      <td>박민수</td>\n",
       "      <td>NaN</td>\n",
       "    </tr>\n",
       "    <tr>\n",
       "      <th>4</th>\n",
       "      <td>1003</td>\n",
       "      <td>둘리</td>\n",
       "      <td>NaN</td>\n",
       "    </tr>\n",
       "    <tr>\n",
       "      <th>5</th>\n",
       "      <td>1004</td>\n",
       "      <td>고길동</td>\n",
       "      <td>NaN</td>\n",
       "    </tr>\n",
       "    <tr>\n",
       "      <th>6</th>\n",
       "      <td>1005</td>\n",
       "      <td>도우너</td>\n",
       "      <td>15000.0</td>\n",
       "    </tr>\n",
       "    <tr>\n",
       "      <th>7</th>\n",
       "      <td>1006</td>\n",
       "      <td>또치</td>\n",
       "      <td>50000.0</td>\n",
       "    </tr>\n",
       "    <tr>\n",
       "      <th>8</th>\n",
       "      <td>1007</td>\n",
       "      <td>희동</td>\n",
       "      <td>NaN</td>\n",
       "    </tr>\n",
       "    <tr>\n",
       "      <th>9</th>\n",
       "      <td>1008</td>\n",
       "      <td>NaN</td>\n",
       "      <td>120000.0</td>\n",
       "    </tr>\n",
       "  </tbody>\n",
       "</table>\n",
       "</div>"
      ],
      "text/plain": [
       "   고객번호   이름        금액\n",
       "0  1001  이소라   10000.0\n",
       "1  1001  이소라  200000.0\n",
       "2  1001  이소라   30000.0\n",
       "3  1002  박민수       NaN\n",
       "4  1003   둘리       NaN\n",
       "5  1004  고길동       NaN\n",
       "6  1005  도우너   15000.0\n",
       "7  1006   또치   50000.0\n",
       "8  1007   희동       NaN\n",
       "9  1008  NaN  120000.0"
      ]
     },
     "execution_count": 202,
     "metadata": {},
     "output_type": "execute_result"
    }
   ],
   "source": [
    "# 키 값이 한 쪽에만 있어도 추출하는 것: outer join, 외부조인\n",
    "# left outer join, right outer join\n",
    "pd.merge(df1, df2, how='outer')  # outer: 양쪽 다 나옴"
   ]
  },
  {
   "cell_type": "code",
   "execution_count": 203,
   "id": "6ed2d325",
   "metadata": {
    "ExecuteTime": {
     "end_time": "2023-09-26T06:32:12.148344Z",
     "start_time": "2023-09-26T06:32:12.125846Z"
    }
   },
   "outputs": [
    {
     "data": {
      "text/html": [
       "<div>\n",
       "<style scoped>\n",
       "    .dataframe tbody tr th:only-of-type {\n",
       "        vertical-align: middle;\n",
       "    }\n",
       "\n",
       "    .dataframe tbody tr th {\n",
       "        vertical-align: top;\n",
       "    }\n",
       "\n",
       "    .dataframe thead th {\n",
       "        text-align: right;\n",
       "    }\n",
       "</style>\n",
       "<table border=\"1\" class=\"dataframe\">\n",
       "  <thead>\n",
       "    <tr style=\"text-align: right;\">\n",
       "      <th></th>\n",
       "      <th>고객번호</th>\n",
       "      <th>이름</th>\n",
       "      <th>금액</th>\n",
       "    </tr>\n",
       "  </thead>\n",
       "  <tbody>\n",
       "    <tr>\n",
       "      <th>0</th>\n",
       "      <td>1001</td>\n",
       "      <td>이소라</td>\n",
       "      <td>10000.0</td>\n",
       "    </tr>\n",
       "    <tr>\n",
       "      <th>1</th>\n",
       "      <td>1001</td>\n",
       "      <td>이소라</td>\n",
       "      <td>200000.0</td>\n",
       "    </tr>\n",
       "    <tr>\n",
       "      <th>2</th>\n",
       "      <td>1001</td>\n",
       "      <td>이소라</td>\n",
       "      <td>30000.0</td>\n",
       "    </tr>\n",
       "    <tr>\n",
       "      <th>3</th>\n",
       "      <td>1002</td>\n",
       "      <td>박민수</td>\n",
       "      <td>NaN</td>\n",
       "    </tr>\n",
       "    <tr>\n",
       "      <th>4</th>\n",
       "      <td>1003</td>\n",
       "      <td>둘리</td>\n",
       "      <td>NaN</td>\n",
       "    </tr>\n",
       "    <tr>\n",
       "      <th>5</th>\n",
       "      <td>1004</td>\n",
       "      <td>고길동</td>\n",
       "      <td>NaN</td>\n",
       "    </tr>\n",
       "    <tr>\n",
       "      <th>6</th>\n",
       "      <td>1005</td>\n",
       "      <td>도우너</td>\n",
       "      <td>15000.0</td>\n",
       "    </tr>\n",
       "    <tr>\n",
       "      <th>7</th>\n",
       "      <td>1006</td>\n",
       "      <td>또치</td>\n",
       "      <td>50000.0</td>\n",
       "    </tr>\n",
       "    <tr>\n",
       "      <th>8</th>\n",
       "      <td>1007</td>\n",
       "      <td>희동</td>\n",
       "      <td>NaN</td>\n",
       "    </tr>\n",
       "  </tbody>\n",
       "</table>\n",
       "</div>"
      ],
      "text/plain": [
       "   고객번호   이름        금액\n",
       "0  1001  이소라   10000.0\n",
       "1  1001  이소라  200000.0\n",
       "2  1001  이소라   30000.0\n",
       "3  1002  박민수       NaN\n",
       "4  1003   둘리       NaN\n",
       "5  1004  고길동       NaN\n",
       "6  1005  도우너   15000.0\n",
       "7  1006   또치   50000.0\n",
       "8  1007   희동       NaN"
      ]
     },
     "execution_count": 203,
     "metadata": {},
     "output_type": "execute_result"
    }
   ],
   "source": [
    "pd.merge(df1, df2, how='left')  # left: 왼쪽 다 나옴"
   ]
  },
  {
   "cell_type": "code",
   "execution_count": 204,
   "id": "002e4010",
   "metadata": {
    "ExecuteTime": {
     "end_time": "2023-09-26T06:32:37.030008Z",
     "start_time": "2023-09-26T06:32:37.006947Z"
    }
   },
   "outputs": [
    {
     "data": {
      "text/html": [
       "<div>\n",
       "<style scoped>\n",
       "    .dataframe tbody tr th:only-of-type {\n",
       "        vertical-align: middle;\n",
       "    }\n",
       "\n",
       "    .dataframe tbody tr th {\n",
       "        vertical-align: top;\n",
       "    }\n",
       "\n",
       "    .dataframe thead th {\n",
       "        text-align: right;\n",
       "    }\n",
       "</style>\n",
       "<table border=\"1\" class=\"dataframe\">\n",
       "  <thead>\n",
       "    <tr style=\"text-align: right;\">\n",
       "      <th></th>\n",
       "      <th>고객번호</th>\n",
       "      <th>이름</th>\n",
       "      <th>금액</th>\n",
       "    </tr>\n",
       "  </thead>\n",
       "  <tbody>\n",
       "    <tr>\n",
       "      <th>0</th>\n",
       "      <td>1001</td>\n",
       "      <td>이소라</td>\n",
       "      <td>10000</td>\n",
       "    </tr>\n",
       "    <tr>\n",
       "      <th>1</th>\n",
       "      <td>1001</td>\n",
       "      <td>이소라</td>\n",
       "      <td>200000</td>\n",
       "    </tr>\n",
       "    <tr>\n",
       "      <th>2</th>\n",
       "      <td>1005</td>\n",
       "      <td>도우너</td>\n",
       "      <td>15000</td>\n",
       "    </tr>\n",
       "    <tr>\n",
       "      <th>3</th>\n",
       "      <td>1006</td>\n",
       "      <td>또치</td>\n",
       "      <td>50000</td>\n",
       "    </tr>\n",
       "    <tr>\n",
       "      <th>4</th>\n",
       "      <td>1008</td>\n",
       "      <td>NaN</td>\n",
       "      <td>120000</td>\n",
       "    </tr>\n",
       "    <tr>\n",
       "      <th>5</th>\n",
       "      <td>1001</td>\n",
       "      <td>이소라</td>\n",
       "      <td>30000</td>\n",
       "    </tr>\n",
       "  </tbody>\n",
       "</table>\n",
       "</div>"
      ],
      "text/plain": [
       "   고객번호   이름      금액\n",
       "0  1001  이소라   10000\n",
       "1  1001  이소라  200000\n",
       "2  1005  도우너   15000\n",
       "3  1006   또치   50000\n",
       "4  1008  NaN  120000\n",
       "5  1001  이소라   30000"
      ]
     },
     "execution_count": 204,
     "metadata": {},
     "output_type": "execute_result"
    }
   ],
   "source": [
    "pd.merge(df1, df2, how='right')  # right: 오른쪽 다 나옴"
   ]
  },
  {
   "cell_type": "markdown",
   "id": "72f6ba59",
   "metadata": {},
   "source": [
    "**join 메서드**"
   ]
  },
  {
   "cell_type": "code",
   "execution_count": 205,
   "id": "eff1e256",
   "metadata": {
    "ExecuteTime": {
     "end_time": "2023-09-26T06:36:10.925102Z",
     "start_time": "2023-09-26T06:36:10.912825Z"
    }
   },
   "outputs": [
    {
     "data": {
      "text/html": [
       "<div>\n",
       "<style scoped>\n",
       "    .dataframe tbody tr th:only-of-type {\n",
       "        vertical-align: middle;\n",
       "    }\n",
       "\n",
       "    .dataframe tbody tr th {\n",
       "        vertical-align: top;\n",
       "    }\n",
       "\n",
       "    .dataframe thead th {\n",
       "        text-align: right;\n",
       "    }\n",
       "</style>\n",
       "<table border=\"1\" class=\"dataframe\">\n",
       "  <thead>\n",
       "    <tr style=\"text-align: right;\">\n",
       "      <th></th>\n",
       "      <th>서울</th>\n",
       "      <th>부산</th>\n",
       "    </tr>\n",
       "  </thead>\n",
       "  <tbody>\n",
       "    <tr>\n",
       "      <th>a</th>\n",
       "      <td>1</td>\n",
       "      <td>2</td>\n",
       "    </tr>\n",
       "    <tr>\n",
       "      <th>c</th>\n",
       "      <td>3</td>\n",
       "      <td>4</td>\n",
       "    </tr>\n",
       "    <tr>\n",
       "      <th>e</th>\n",
       "      <td>5</td>\n",
       "      <td>6</td>\n",
       "    </tr>\n",
       "  </tbody>\n",
       "</table>\n",
       "</div>"
      ],
      "text/plain": [
       "   서울  부산\n",
       "a   1   2\n",
       "c   3   4\n",
       "e   5   6"
      ]
     },
     "execution_count": 205,
     "metadata": {},
     "output_type": "execute_result"
    }
   ],
   "source": [
    "df3 = pd.DataFrame([[1,2], [3,4], [5,6]],\n",
    "                  index = ['a', 'c', 'e'],\n",
    "                  columns = ['서울', '부산'])\n",
    "df3"
   ]
  },
  {
   "cell_type": "code",
   "execution_count": 207,
   "id": "911c27bb",
   "metadata": {
    "ExecuteTime": {
     "end_time": "2023-09-26T06:37:51.814538Z",
     "start_time": "2023-09-26T06:37:51.800518Z"
    }
   },
   "outputs": [
    {
     "data": {
      "text/html": [
       "<div>\n",
       "<style scoped>\n",
       "    .dataframe tbody tr th:only-of-type {\n",
       "        vertical-align: middle;\n",
       "    }\n",
       "\n",
       "    .dataframe tbody tr th {\n",
       "        vertical-align: top;\n",
       "    }\n",
       "\n",
       "    .dataframe thead th {\n",
       "        text-align: right;\n",
       "    }\n",
       "</style>\n",
       "<table border=\"1\" class=\"dataframe\">\n",
       "  <thead>\n",
       "    <tr style=\"text-align: right;\">\n",
       "      <th></th>\n",
       "      <th>대구</th>\n",
       "      <th>광주</th>\n",
       "    </tr>\n",
       "  </thead>\n",
       "  <tbody>\n",
       "    <tr>\n",
       "      <th>b</th>\n",
       "      <td>7</td>\n",
       "      <td>8</td>\n",
       "    </tr>\n",
       "    <tr>\n",
       "      <th>c</th>\n",
       "      <td>9</td>\n",
       "      <td>10</td>\n",
       "    </tr>\n",
       "    <tr>\n",
       "      <th>d</th>\n",
       "      <td>11</td>\n",
       "      <td>12</td>\n",
       "    </tr>\n",
       "    <tr>\n",
       "      <th>e</th>\n",
       "      <td>13</td>\n",
       "      <td>14</td>\n",
       "    </tr>\n",
       "  </tbody>\n",
       "</table>\n",
       "</div>"
      ],
      "text/plain": [
       "   대구  광주\n",
       "b   7   8\n",
       "c   9  10\n",
       "d  11  12\n",
       "e  13  14"
      ]
     },
     "execution_count": 207,
     "metadata": {},
     "output_type": "execute_result"
    }
   ],
   "source": [
    "df4 = pd.DataFrame([[7, 8], [9, 10], [11, 12], [13, 14]],\n",
    "                  index=['b', 'c', 'd', 'e'],\n",
    "                  columns = ['대구', '광주'])\n",
    "df4"
   ]
  },
  {
   "cell_type": "code",
   "execution_count": 209,
   "id": "49b3b6bb",
   "metadata": {
    "ExecuteTime": {
     "end_time": "2023-09-26T06:39:41.773135Z",
     "start_time": "2023-09-26T06:39:41.761765Z"
    }
   },
   "outputs": [
    {
     "data": {
      "text/html": [
       "<div>\n",
       "<style scoped>\n",
       "    .dataframe tbody tr th:only-of-type {\n",
       "        vertical-align: middle;\n",
       "    }\n",
       "\n",
       "    .dataframe tbody tr th {\n",
       "        vertical-align: top;\n",
       "    }\n",
       "\n",
       "    .dataframe thead th {\n",
       "        text-align: right;\n",
       "    }\n",
       "</style>\n",
       "<table border=\"1\" class=\"dataframe\">\n",
       "  <thead>\n",
       "    <tr style=\"text-align: right;\">\n",
       "      <th></th>\n",
       "      <th>서울</th>\n",
       "      <th>부산</th>\n",
       "      <th>대구</th>\n",
       "      <th>광주</th>\n",
       "    </tr>\n",
       "  </thead>\n",
       "  <tbody>\n",
       "    <tr>\n",
       "      <th>a</th>\n",
       "      <td>1.0</td>\n",
       "      <td>2.0</td>\n",
       "      <td>NaN</td>\n",
       "      <td>NaN</td>\n",
       "    </tr>\n",
       "    <tr>\n",
       "      <th>b</th>\n",
       "      <td>NaN</td>\n",
       "      <td>NaN</td>\n",
       "      <td>7.0</td>\n",
       "      <td>8.0</td>\n",
       "    </tr>\n",
       "    <tr>\n",
       "      <th>c</th>\n",
       "      <td>3.0</td>\n",
       "      <td>4.0</td>\n",
       "      <td>9.0</td>\n",
       "      <td>10.0</td>\n",
       "    </tr>\n",
       "    <tr>\n",
       "      <th>d</th>\n",
       "      <td>NaN</td>\n",
       "      <td>NaN</td>\n",
       "      <td>11.0</td>\n",
       "      <td>12.0</td>\n",
       "    </tr>\n",
       "    <tr>\n",
       "      <th>e</th>\n",
       "      <td>5.0</td>\n",
       "      <td>6.0</td>\n",
       "      <td>13.0</td>\n",
       "      <td>14.0</td>\n",
       "    </tr>\n",
       "  </tbody>\n",
       "</table>\n",
       "</div>"
      ],
      "text/plain": [
       "    서울   부산    대구    광주\n",
       "a  1.0  2.0   NaN   NaN\n",
       "b  NaN  NaN   7.0   8.0\n",
       "c  3.0  4.0   9.0  10.0\n",
       "d  NaN  NaN  11.0  12.0\n",
       "e  5.0  6.0  13.0  14.0"
      ]
     },
     "execution_count": 209,
     "metadata": {},
     "output_type": "execute_result"
    }
   ],
   "source": [
    "pd.merge(df3, df4, how = 'outer', left_index = True, right_index = True)"
   ]
  },
  {
   "cell_type": "code",
   "execution_count": 210,
   "id": "ae03216f",
   "metadata": {
    "ExecuteTime": {
     "end_time": "2023-09-26T06:40:17.118171Z",
     "start_time": "2023-09-26T06:40:17.102829Z"
    }
   },
   "outputs": [
    {
     "data": {
      "text/html": [
       "<div>\n",
       "<style scoped>\n",
       "    .dataframe tbody tr th:only-of-type {\n",
       "        vertical-align: middle;\n",
       "    }\n",
       "\n",
       "    .dataframe tbody tr th {\n",
       "        vertical-align: top;\n",
       "    }\n",
       "\n",
       "    .dataframe thead th {\n",
       "        text-align: right;\n",
       "    }\n",
       "</style>\n",
       "<table border=\"1\" class=\"dataframe\">\n",
       "  <thead>\n",
       "    <tr style=\"text-align: right;\">\n",
       "      <th></th>\n",
       "      <th>서울</th>\n",
       "      <th>부산</th>\n",
       "      <th>대구</th>\n",
       "      <th>광주</th>\n",
       "    </tr>\n",
       "  </thead>\n",
       "  <tbody>\n",
       "    <tr>\n",
       "      <th>a</th>\n",
       "      <td>1.0</td>\n",
       "      <td>2.0</td>\n",
       "      <td>NaN</td>\n",
       "      <td>NaN</td>\n",
       "    </tr>\n",
       "    <tr>\n",
       "      <th>b</th>\n",
       "      <td>NaN</td>\n",
       "      <td>NaN</td>\n",
       "      <td>7.0</td>\n",
       "      <td>8.0</td>\n",
       "    </tr>\n",
       "    <tr>\n",
       "      <th>c</th>\n",
       "      <td>3.0</td>\n",
       "      <td>4.0</td>\n",
       "      <td>9.0</td>\n",
       "      <td>10.0</td>\n",
       "    </tr>\n",
       "    <tr>\n",
       "      <th>d</th>\n",
       "      <td>NaN</td>\n",
       "      <td>NaN</td>\n",
       "      <td>11.0</td>\n",
       "      <td>12.0</td>\n",
       "    </tr>\n",
       "    <tr>\n",
       "      <th>e</th>\n",
       "      <td>5.0</td>\n",
       "      <td>6.0</td>\n",
       "      <td>13.0</td>\n",
       "      <td>14.0</td>\n",
       "    </tr>\n",
       "  </tbody>\n",
       "</table>\n",
       "</div>"
      ],
      "text/plain": [
       "    서울   부산    대구    광주\n",
       "a  1.0  2.0   NaN   NaN\n",
       "b  NaN  NaN   7.0   8.0\n",
       "c  3.0  4.0   9.0  10.0\n",
       "d  NaN  NaN  11.0  12.0\n",
       "e  5.0  6.0  13.0  14.0"
      ]
     },
     "execution_count": 210,
     "metadata": {},
     "output_type": "execute_result"
    }
   ],
   "source": [
    "df3.join(df4, how='outer')"
   ]
  },
  {
   "cell_type": "code",
   "execution_count": 211,
   "id": "0567c002",
   "metadata": {
    "ExecuteTime": {
     "end_time": "2023-09-26T06:42:22.998652Z",
     "start_time": "2023-09-26T06:42:22.978472Z"
    }
   },
   "outputs": [],
   "source": [
    "s1 = pd.Series([0, 1], index=['A', 'B'])\n",
    "s2 = pd.Series([2,3,4], index = ['A', 'B', 'C'])"
   ]
  },
  {
   "cell_type": "code",
   "execution_count": 212,
   "id": "87b1551d",
   "metadata": {
    "ExecuteTime": {
     "end_time": "2023-09-26T06:42:27.830457Z",
     "start_time": "2023-09-26T06:42:27.811480Z"
    }
   },
   "outputs": [
    {
     "data": {
      "text/plain": [
       "A    0\n",
       "B    1\n",
       "dtype: int64"
      ]
     },
     "execution_count": 212,
     "metadata": {},
     "output_type": "execute_result"
    }
   ],
   "source": [
    "s1"
   ]
  },
  {
   "cell_type": "code",
   "execution_count": 213,
   "id": "c5ba76c7",
   "metadata": {
    "ExecuteTime": {
     "end_time": "2023-09-26T06:42:29.647495Z",
     "start_time": "2023-09-26T06:42:29.637413Z"
    }
   },
   "outputs": [
    {
     "data": {
      "text/plain": [
       "A    2\n",
       "B    3\n",
       "C    4\n",
       "dtype: int64"
      ]
     },
     "execution_count": 213,
     "metadata": {},
     "output_type": "execute_result"
    }
   ],
   "source": [
    "s2"
   ]
  },
  {
   "cell_type": "code",
   "execution_count": 214,
   "id": "bbb06d20",
   "metadata": {
    "ExecuteTime": {
     "end_time": "2023-09-26T06:42:42.068131Z",
     "start_time": "2023-09-26T06:42:42.046888Z"
    }
   },
   "outputs": [
    {
     "data": {
      "text/plain": [
       "A    0\n",
       "B    1\n",
       "A    2\n",
       "B    3\n",
       "C    4\n",
       "dtype: int64"
      ]
     },
     "execution_count": 214,
     "metadata": {},
     "output_type": "execute_result"
    }
   ],
   "source": [
    "pd.concat([s1,s2])"
   ]
  },
  {
   "cell_type": "markdown",
   "id": "bde71ed0",
   "metadata": {},
   "source": [
    "## 그룹분석\n",
    "- 특정 키를 조건으로 그룹을 설정하여 그룹에 특성을 이용하여 계산을 수행하는 기능\n",
    "- groupby 메서드를 이용\n",
    "\n",
    "**그룹연산 메서드**\n",
    "- size, count: 그룹 데이터의 갯수\n",
    "- mean, median, min, max\n",
    "- sum, prod, std, var, quantile\n",
    "- first, last\n",
    "\n",
    "**그룹연산 메서드**\n",
    "- agg, aggreate: 그룹에 동시에 적용할 함수를 리스트로 전달\n",
    "- describe: 기초 통계량\n",
    "- apply: 특정 함수 반복\n",
    "- transform: 그룹별 계산"
   ]
  },
  {
   "cell_type": "code",
   "execution_count": 215,
   "id": "7c81b8a0",
   "metadata": {
    "ExecuteTime": {
     "end_time": "2023-09-26T07:48:52.538208Z",
     "start_time": "2023-09-26T07:48:52.522212Z"
    }
   },
   "outputs": [
    {
     "data": {
      "text/html": [
       "<div>\n",
       "<style scoped>\n",
       "    .dataframe tbody tr th:only-of-type {\n",
       "        vertical-align: middle;\n",
       "    }\n",
       "\n",
       "    .dataframe tbody tr th {\n",
       "        vertical-align: top;\n",
       "    }\n",
       "\n",
       "    .dataframe thead th {\n",
       "        text-align: right;\n",
       "    }\n",
       "</style>\n",
       "<table border=\"1\" class=\"dataframe\">\n",
       "  <thead>\n",
       "    <tr style=\"text-align: right;\">\n",
       "      <th></th>\n",
       "      <th>key1</th>\n",
       "      <th>key2</th>\n",
       "      <th>data1</th>\n",
       "      <th>data2</th>\n",
       "    </tr>\n",
       "  </thead>\n",
       "  <tbody>\n",
       "    <tr>\n",
       "      <th>0</th>\n",
       "      <td>A</td>\n",
       "      <td>one</td>\n",
       "      <td>1</td>\n",
       "      <td>10</td>\n",
       "    </tr>\n",
       "    <tr>\n",
       "      <th>1</th>\n",
       "      <td>A</td>\n",
       "      <td>two</td>\n",
       "      <td>2</td>\n",
       "      <td>20</td>\n",
       "    </tr>\n",
       "    <tr>\n",
       "      <th>2</th>\n",
       "      <td>B</td>\n",
       "      <td>three</td>\n",
       "      <td>3</td>\n",
       "      <td>30</td>\n",
       "    </tr>\n",
       "    <tr>\n",
       "      <th>3</th>\n",
       "      <td>B</td>\n",
       "      <td>four</td>\n",
       "      <td>4</td>\n",
       "      <td>40</td>\n",
       "    </tr>\n",
       "    <tr>\n",
       "      <th>4</th>\n",
       "      <td>A</td>\n",
       "      <td>five</td>\n",
       "      <td>5</td>\n",
       "      <td>50</td>\n",
       "    </tr>\n",
       "  </tbody>\n",
       "</table>\n",
       "</div>"
      ],
      "text/plain": [
       "  key1   key2  data1  data2\n",
       "0    A    one      1     10\n",
       "1    A    two      2     20\n",
       "2    B  three      3     30\n",
       "3    B   four      4     40\n",
       "4    A   five      5     50"
      ]
     },
     "execution_count": 215,
     "metadata": {},
     "output_type": "execute_result"
    }
   ],
   "source": [
    "df = pd.DataFrame({\n",
    "    'key1':['A','A', 'B', 'B', 'A'],\n",
    "    'key2':['one', 'two', 'three', 'four', 'five'],\n",
    "    'data1':[1,2,3,4,5],\n",
    "    'data2':[10, 20, 30, 40, 50]\n",
    "})\n",
    "df"
   ]
  },
  {
   "cell_type": "code",
   "execution_count": 216,
   "id": "4039ca18",
   "metadata": {
    "ExecuteTime": {
     "end_time": "2023-09-26T07:50:33.464337Z",
     "start_time": "2023-09-26T07:50:33.445401Z"
    }
   },
   "outputs": [
    {
     "data": {
      "text/plain": [
       "<pandas.core.groupby.generic.DataFrameGroupBy object at 0x00000232239B47F0>"
      ]
     },
     "execution_count": 216,
     "metadata": {},
     "output_type": "execute_result"
    }
   ],
   "source": [
    "# A그룹과 B그룹으로 구분\n",
    "groups = df.groupby(df.key1)  # 주소가 담김\n",
    "groups"
   ]
  },
  {
   "cell_type": "code",
   "execution_count": 217,
   "id": "f5d9d309",
   "metadata": {
    "ExecuteTime": {
     "end_time": "2023-09-26T07:51:30.888716Z",
     "start_time": "2023-09-26T07:51:30.874382Z"
    }
   },
   "outputs": [
    {
     "data": {
      "text/plain": [
       "{'A': [0, 1, 4], 'B': [2, 3]}"
      ]
     },
     "execution_count": 217,
     "metadata": {},
     "output_type": "execute_result"
    }
   ],
   "source": [
    "# groups 속성: 각 그룹별 데이터의 인덱스가 저장됨\n",
    "groups.groups"
   ]
  },
  {
   "cell_type": "code",
   "execution_count": 218,
   "id": "e9ebf162",
   "metadata": {
    "ExecuteTime": {
     "end_time": "2023-09-26T07:52:23.632909Z",
     "start_time": "2023-09-26T07:52:23.616257Z"
    }
   },
   "outputs": [
    {
     "name": "stderr",
     "output_type": "stream",
     "text": [
      "C:\\Users\\NT551_11TH\\AppData\\Local\\Temp\\ipykernel_11100\\1171057664.py:1: FutureWarning: The default value of numeric_only in DataFrameGroupBy.sum is deprecated. In a future version, numeric_only will default to False. Either specify numeric_only or select only columns which should be valid for the function.\n",
      "  groups.sum()\n"
     ]
    },
    {
     "data": {
      "text/html": [
       "<div>\n",
       "<style scoped>\n",
       "    .dataframe tbody tr th:only-of-type {\n",
       "        vertical-align: middle;\n",
       "    }\n",
       "\n",
       "    .dataframe tbody tr th {\n",
       "        vertical-align: top;\n",
       "    }\n",
       "\n",
       "    .dataframe thead th {\n",
       "        text-align: right;\n",
       "    }\n",
       "</style>\n",
       "<table border=\"1\" class=\"dataframe\">\n",
       "  <thead>\n",
       "    <tr style=\"text-align: right;\">\n",
       "      <th></th>\n",
       "      <th>data1</th>\n",
       "      <th>data2</th>\n",
       "    </tr>\n",
       "    <tr>\n",
       "      <th>key1</th>\n",
       "      <th></th>\n",
       "      <th></th>\n",
       "    </tr>\n",
       "  </thead>\n",
       "  <tbody>\n",
       "    <tr>\n",
       "      <th>A</th>\n",
       "      <td>8</td>\n",
       "      <td>80</td>\n",
       "    </tr>\n",
       "    <tr>\n",
       "      <th>B</th>\n",
       "      <td>7</td>\n",
       "      <td>70</td>\n",
       "    </tr>\n",
       "  </tbody>\n",
       "</table>\n",
       "</div>"
      ],
      "text/plain": [
       "      data1  data2\n",
       "key1              \n",
       "A         8     80\n",
       "B         7     70"
      ]
     },
     "execution_count": 218,
     "metadata": {},
     "output_type": "execute_result"
    }
   ],
   "source": [
    "groups.sum()"
   ]
  },
  {
   "cell_type": "code",
   "execution_count": 219,
   "id": "cc83d2fd",
   "metadata": {
    "ExecuteTime": {
     "end_time": "2023-09-26T07:53:53.760908Z",
     "start_time": "2023-09-26T07:53:53.742807Z"
    }
   },
   "outputs": [
    {
     "name": "stderr",
     "output_type": "stream",
     "text": [
      "C:\\Users\\NT551_11TH\\AppData\\Local\\Temp\\ipykernel_11100\\2169680737.py:1: FutureWarning: The default value of numeric_only in DataFrameGroupBy.sum is deprecated. In a future version, numeric_only will default to False. Either specify numeric_only or select only columns which should be valid for the function.\n",
      "  df.groupby(df.key1).sum()\n"
     ]
    },
    {
     "data": {
      "text/html": [
       "<div>\n",
       "<style scoped>\n",
       "    .dataframe tbody tr th:only-of-type {\n",
       "        vertical-align: middle;\n",
       "    }\n",
       "\n",
       "    .dataframe tbody tr th {\n",
       "        vertical-align: top;\n",
       "    }\n",
       "\n",
       "    .dataframe thead th {\n",
       "        text-align: right;\n",
       "    }\n",
       "</style>\n",
       "<table border=\"1\" class=\"dataframe\">\n",
       "  <thead>\n",
       "    <tr style=\"text-align: right;\">\n",
       "      <th></th>\n",
       "      <th>data1</th>\n",
       "      <th>data2</th>\n",
       "    </tr>\n",
       "    <tr>\n",
       "      <th>key1</th>\n",
       "      <th></th>\n",
       "      <th></th>\n",
       "    </tr>\n",
       "  </thead>\n",
       "  <tbody>\n",
       "    <tr>\n",
       "      <th>A</th>\n",
       "      <td>8</td>\n",
       "      <td>80</td>\n",
       "    </tr>\n",
       "    <tr>\n",
       "      <th>B</th>\n",
       "      <td>7</td>\n",
       "      <td>70</td>\n",
       "    </tr>\n",
       "  </tbody>\n",
       "</table>\n",
       "</div>"
      ],
      "text/plain": [
       "      data1  data2\n",
       "key1              \n",
       "A         8     80\n",
       "B         7     70"
      ]
     },
     "execution_count": 219,
     "metadata": {},
     "output_type": "execute_result"
    }
   ],
   "source": [
    "df.groupby(df.key1).sum()"
   ]
  },
  {
   "cell_type": "code",
   "execution_count": 220,
   "id": "549a20ff",
   "metadata": {
    "ExecuteTime": {
     "end_time": "2023-09-26T07:54:18.262439Z",
     "start_time": "2023-09-26T07:54:18.252402Z"
    }
   },
   "outputs": [
    {
     "data": {
      "text/plain": [
       "key1\n",
       "A    8\n",
       "B    7\n",
       "Name: data1, dtype: int64"
      ]
     },
     "execution_count": 220,
     "metadata": {},
     "output_type": "execute_result"
    }
   ],
   "source": [
    "df['data1'].groupby(df.key1).sum()"
   ]
  },
  {
   "cell_type": "code",
   "execution_count": 221,
   "id": "f4a600ef",
   "metadata": {
    "ExecuteTime": {
     "end_time": "2023-09-26T07:55:02.326225Z",
     "start_time": "2023-09-26T07:55:02.308524Z"
    }
   },
   "outputs": [
    {
     "data": {
      "text/plain": [
       "key1\n",
       "A    8\n",
       "B    7\n",
       "Name: data1, dtype: int64"
      ]
     },
     "execution_count": 221,
     "metadata": {},
     "output_type": "execute_result"
    }
   ],
   "source": [
    "df.groupby(df.key1)['data1'].sum()"
   ]
  },
  {
   "cell_type": "code",
   "execution_count": 222,
   "id": "6b5bc6db",
   "metadata": {
    "ExecuteTime": {
     "end_time": "2023-09-26T07:57:20.030631Z",
     "start_time": "2023-09-26T07:57:20.013658Z"
    }
   },
   "outputs": [
    {
     "data": {
      "text/plain": [
       "key1  key2 \n",
       "A     five     5\n",
       "      one      1\n",
       "      two      2\n",
       "B     four     4\n",
       "      three    3\n",
       "Name: data1, dtype: int64"
      ]
     },
     "execution_count": 222,
     "metadata": {},
     "output_type": "execute_result"
    }
   ],
   "source": [
    "df.data1.groupby([df.key1, df.key2]).sum()"
   ]
  },
  {
   "cell_type": "markdown",
   "id": "6fbe8ca5",
   "metadata": {},
   "source": [
    "# tips\n",
    "- 식당에서 식사를 한 후 내는 팁과 관련된 데이터를 제공하는 데이터 셋\n",
    "- seaborn 라이브러리에서 제공하는 데이터셋"
   ]
  },
  {
   "cell_type": "code",
   "execution_count": 223,
   "id": "a0538447",
   "metadata": {
    "ExecuteTime": {
     "end_time": "2023-09-26T08:09:20.543234Z",
     "start_time": "2023-09-26T08:09:20.336713Z"
    }
   },
   "outputs": [
    {
     "data": {
      "text/html": [
       "<div>\n",
       "<style scoped>\n",
       "    .dataframe tbody tr th:only-of-type {\n",
       "        vertical-align: middle;\n",
       "    }\n",
       "\n",
       "    .dataframe tbody tr th {\n",
       "        vertical-align: top;\n",
       "    }\n",
       "\n",
       "    .dataframe thead th {\n",
       "        text-align: right;\n",
       "    }\n",
       "</style>\n",
       "<table border=\"1\" class=\"dataframe\">\n",
       "  <thead>\n",
       "    <tr style=\"text-align: right;\">\n",
       "      <th></th>\n",
       "      <th>total_bill</th>\n",
       "      <th>tip</th>\n",
       "      <th>sex</th>\n",
       "      <th>smoker</th>\n",
       "      <th>day</th>\n",
       "      <th>time</th>\n",
       "      <th>size</th>\n",
       "    </tr>\n",
       "  </thead>\n",
       "  <tbody>\n",
       "    <tr>\n",
       "      <th>0</th>\n",
       "      <td>16.99</td>\n",
       "      <td>1.01</td>\n",
       "      <td>Female</td>\n",
       "      <td>No</td>\n",
       "      <td>Sun</td>\n",
       "      <td>Dinner</td>\n",
       "      <td>2</td>\n",
       "    </tr>\n",
       "    <tr>\n",
       "      <th>1</th>\n",
       "      <td>10.34</td>\n",
       "      <td>1.66</td>\n",
       "      <td>Male</td>\n",
       "      <td>No</td>\n",
       "      <td>Sun</td>\n",
       "      <td>Dinner</td>\n",
       "      <td>3</td>\n",
       "    </tr>\n",
       "    <tr>\n",
       "      <th>2</th>\n",
       "      <td>21.01</td>\n",
       "      <td>3.50</td>\n",
       "      <td>Male</td>\n",
       "      <td>No</td>\n",
       "      <td>Sun</td>\n",
       "      <td>Dinner</td>\n",
       "      <td>3</td>\n",
       "    </tr>\n",
       "    <tr>\n",
       "      <th>3</th>\n",
       "      <td>23.68</td>\n",
       "      <td>3.31</td>\n",
       "      <td>Male</td>\n",
       "      <td>No</td>\n",
       "      <td>Sun</td>\n",
       "      <td>Dinner</td>\n",
       "      <td>2</td>\n",
       "    </tr>\n",
       "    <tr>\n",
       "      <th>4</th>\n",
       "      <td>24.59</td>\n",
       "      <td>3.61</td>\n",
       "      <td>Female</td>\n",
       "      <td>No</td>\n",
       "      <td>Sun</td>\n",
       "      <td>Dinner</td>\n",
       "      <td>4</td>\n",
       "    </tr>\n",
       "    <tr>\n",
       "      <th>5</th>\n",
       "      <td>25.29</td>\n",
       "      <td>4.71</td>\n",
       "      <td>Male</td>\n",
       "      <td>No</td>\n",
       "      <td>Sun</td>\n",
       "      <td>Dinner</td>\n",
       "      <td>4</td>\n",
       "    </tr>\n",
       "    <tr>\n",
       "      <th>6</th>\n",
       "      <td>8.77</td>\n",
       "      <td>2.00</td>\n",
       "      <td>Male</td>\n",
       "      <td>No</td>\n",
       "      <td>Sun</td>\n",
       "      <td>Dinner</td>\n",
       "      <td>2</td>\n",
       "    </tr>\n",
       "    <tr>\n",
       "      <th>7</th>\n",
       "      <td>26.88</td>\n",
       "      <td>3.12</td>\n",
       "      <td>Male</td>\n",
       "      <td>No</td>\n",
       "      <td>Sun</td>\n",
       "      <td>Dinner</td>\n",
       "      <td>4</td>\n",
       "    </tr>\n",
       "    <tr>\n",
       "      <th>8</th>\n",
       "      <td>15.04</td>\n",
       "      <td>1.96</td>\n",
       "      <td>Male</td>\n",
       "      <td>No</td>\n",
       "      <td>Sun</td>\n",
       "      <td>Dinner</td>\n",
       "      <td>2</td>\n",
       "    </tr>\n",
       "    <tr>\n",
       "      <th>9</th>\n",
       "      <td>14.78</td>\n",
       "      <td>3.23</td>\n",
       "      <td>Male</td>\n",
       "      <td>No</td>\n",
       "      <td>Sun</td>\n",
       "      <td>Dinner</td>\n",
       "      <td>2</td>\n",
       "    </tr>\n",
       "  </tbody>\n",
       "</table>\n",
       "</div>"
      ],
      "text/plain": [
       "   total_bill   tip     sex smoker  day    time  size\n",
       "0       16.99  1.01  Female     No  Sun  Dinner     2\n",
       "1       10.34  1.66    Male     No  Sun  Dinner     3\n",
       "2       21.01  3.50    Male     No  Sun  Dinner     3\n",
       "3       23.68  3.31    Male     No  Sun  Dinner     2\n",
       "4       24.59  3.61  Female     No  Sun  Dinner     4\n",
       "5       25.29  4.71    Male     No  Sun  Dinner     4\n",
       "6        8.77  2.00    Male     No  Sun  Dinner     2\n",
       "7       26.88  3.12    Male     No  Sun  Dinner     4\n",
       "8       15.04  1.96    Male     No  Sun  Dinner     2\n",
       "9       14.78  3.23    Male     No  Sun  Dinner     2"
      ]
     },
     "execution_count": 223,
     "metadata": {},
     "output_type": "execute_result"
    }
   ],
   "source": [
    "import seaborn as sns\n",
    "tips=sns.load_dataset('tips')\n",
    "tips.head(10)"
   ]
  },
  {
   "cell_type": "markdown",
   "id": "c5360a21",
   "metadata": {},
   "source": [
    "- total: 총 결제 금액\n",
    "- tip: 팁\n",
    "- sex: 결제한 사람의 성별\n",
    "- smoker: 흡연여부\n",
    "- day: 요일\n",
    "- time: 시간대\n",
    "- size: 인원 수"
   ]
  },
  {
   "cell_type": "code",
   "execution_count": 224,
   "id": "d576f580",
   "metadata": {
    "ExecuteTime": {
     "end_time": "2023-09-26T08:14:12.367447Z",
     "start_time": "2023-09-26T08:14:12.356056Z"
    }
   },
   "outputs": [
    {
     "data": {
      "text/html": [
       "<div>\n",
       "<style scoped>\n",
       "    .dataframe tbody tr th:only-of-type {\n",
       "        vertical-align: middle;\n",
       "    }\n",
       "\n",
       "    .dataframe tbody tr th {\n",
       "        vertical-align: top;\n",
       "    }\n",
       "\n",
       "    .dataframe thead th {\n",
       "        text-align: right;\n",
       "    }\n",
       "</style>\n",
       "<table border=\"1\" class=\"dataframe\">\n",
       "  <thead>\n",
       "    <tr style=\"text-align: right;\">\n",
       "      <th></th>\n",
       "      <th>total_bill</th>\n",
       "      <th>tip</th>\n",
       "      <th>sex</th>\n",
       "      <th>smoker</th>\n",
       "      <th>day</th>\n",
       "      <th>time</th>\n",
       "      <th>size</th>\n",
       "      <th>tip_pct</th>\n",
       "    </tr>\n",
       "  </thead>\n",
       "  <tbody>\n",
       "    <tr>\n",
       "      <th>0</th>\n",
       "      <td>16.99</td>\n",
       "      <td>1.01</td>\n",
       "      <td>Female</td>\n",
       "      <td>No</td>\n",
       "      <td>Sun</td>\n",
       "      <td>Dinner</td>\n",
       "      <td>2</td>\n",
       "      <td>0.059447</td>\n",
       "    </tr>\n",
       "    <tr>\n",
       "      <th>1</th>\n",
       "      <td>10.34</td>\n",
       "      <td>1.66</td>\n",
       "      <td>Male</td>\n",
       "      <td>No</td>\n",
       "      <td>Sun</td>\n",
       "      <td>Dinner</td>\n",
       "      <td>3</td>\n",
       "      <td>0.160542</td>\n",
       "    </tr>\n",
       "    <tr>\n",
       "      <th>2</th>\n",
       "      <td>21.01</td>\n",
       "      <td>3.50</td>\n",
       "      <td>Male</td>\n",
       "      <td>No</td>\n",
       "      <td>Sun</td>\n",
       "      <td>Dinner</td>\n",
       "      <td>3</td>\n",
       "      <td>0.166587</td>\n",
       "    </tr>\n",
       "    <tr>\n",
       "      <th>3</th>\n",
       "      <td>23.68</td>\n",
       "      <td>3.31</td>\n",
       "      <td>Male</td>\n",
       "      <td>No</td>\n",
       "      <td>Sun</td>\n",
       "      <td>Dinner</td>\n",
       "      <td>2</td>\n",
       "      <td>0.139780</td>\n",
       "    </tr>\n",
       "    <tr>\n",
       "      <th>4</th>\n",
       "      <td>24.59</td>\n",
       "      <td>3.61</td>\n",
       "      <td>Female</td>\n",
       "      <td>No</td>\n",
       "      <td>Sun</td>\n",
       "      <td>Dinner</td>\n",
       "      <td>4</td>\n",
       "      <td>0.146808</td>\n",
       "    </tr>\n",
       "  </tbody>\n",
       "</table>\n",
       "</div>"
      ],
      "text/plain": [
       "   total_bill   tip     sex smoker  day    time  size   tip_pct\n",
       "0       16.99  1.01  Female     No  Sun  Dinner     2  0.059447\n",
       "1       10.34  1.66    Male     No  Sun  Dinner     3  0.160542\n",
       "2       21.01  3.50    Male     No  Sun  Dinner     3  0.166587\n",
       "3       23.68  3.31    Male     No  Sun  Dinner     2  0.139780\n",
       "4       24.59  3.61  Female     No  Sun  Dinner     4  0.146808"
      ]
     },
     "execution_count": 224,
     "metadata": {},
     "output_type": "execute_result"
    }
   ],
   "source": [
    "# 결제금액 대비 팁의 비율\n",
    "tips['tip_pct'] = tips['tip']/tips['total_bill']\n",
    "tips.head()"
   ]
  },
  {
   "cell_type": "code",
   "execution_count": 225,
   "id": "3a31c88a",
   "metadata": {
    "ExecuteTime": {
     "end_time": "2023-09-26T08:14:58.894383Z",
     "start_time": "2023-09-26T08:14:58.869774Z"
    }
   },
   "outputs": [
    {
     "name": "stdout",
     "output_type": "stream",
     "text": [
      "<class 'pandas.core.frame.DataFrame'>\n",
      "RangeIndex: 244 entries, 0 to 243\n",
      "Data columns (total 8 columns):\n",
      " #   Column      Non-Null Count  Dtype   \n",
      "---  ------      --------------  -----   \n",
      " 0   total_bill  244 non-null    float64 \n",
      " 1   tip         244 non-null    float64 \n",
      " 2   sex         244 non-null    category\n",
      " 3   smoker      244 non-null    category\n",
      " 4   day         244 non-null    category\n",
      " 5   time        244 non-null    category\n",
      " 6   size        244 non-null    int64   \n",
      " 7   tip_pct     244 non-null    float64 \n",
      "dtypes: category(4), float64(3), int64(1)\n",
      "memory usage: 9.3 KB\n"
     ]
    }
   ],
   "source": [
    "tips.info()"
   ]
  },
  {
   "cell_type": "code",
   "execution_count": 226,
   "id": "e60403c9",
   "metadata": {
    "ExecuteTime": {
     "end_time": "2023-09-26T08:15:32.422051Z",
     "start_time": "2023-09-26T08:15:32.402695Z"
    }
   },
   "outputs": [
    {
     "data": {
      "text/html": [
       "<div>\n",
       "<style scoped>\n",
       "    .dataframe tbody tr th:only-of-type {\n",
       "        vertical-align: middle;\n",
       "    }\n",
       "\n",
       "    .dataframe tbody tr th {\n",
       "        vertical-align: top;\n",
       "    }\n",
       "\n",
       "    .dataframe thead th {\n",
       "        text-align: right;\n",
       "    }\n",
       "</style>\n",
       "<table border=\"1\" class=\"dataframe\">\n",
       "  <thead>\n",
       "    <tr style=\"text-align: right;\">\n",
       "      <th></th>\n",
       "      <th>total_bill</th>\n",
       "      <th>tip</th>\n",
       "      <th>size</th>\n",
       "      <th>tip_pct</th>\n",
       "    </tr>\n",
       "  </thead>\n",
       "  <tbody>\n",
       "    <tr>\n",
       "      <th>count</th>\n",
       "      <td>244.000000</td>\n",
       "      <td>244.000000</td>\n",
       "      <td>244.000000</td>\n",
       "      <td>244.000000</td>\n",
       "    </tr>\n",
       "    <tr>\n",
       "      <th>mean</th>\n",
       "      <td>19.785943</td>\n",
       "      <td>2.998279</td>\n",
       "      <td>2.569672</td>\n",
       "      <td>0.160803</td>\n",
       "    </tr>\n",
       "    <tr>\n",
       "      <th>std</th>\n",
       "      <td>8.902412</td>\n",
       "      <td>1.383638</td>\n",
       "      <td>0.951100</td>\n",
       "      <td>0.061072</td>\n",
       "    </tr>\n",
       "    <tr>\n",
       "      <th>min</th>\n",
       "      <td>3.070000</td>\n",
       "      <td>1.000000</td>\n",
       "      <td>1.000000</td>\n",
       "      <td>0.035638</td>\n",
       "    </tr>\n",
       "    <tr>\n",
       "      <th>25%</th>\n",
       "      <td>13.347500</td>\n",
       "      <td>2.000000</td>\n",
       "      <td>2.000000</td>\n",
       "      <td>0.129127</td>\n",
       "    </tr>\n",
       "    <tr>\n",
       "      <th>50%</th>\n",
       "      <td>17.795000</td>\n",
       "      <td>2.900000</td>\n",
       "      <td>2.000000</td>\n",
       "      <td>0.154770</td>\n",
       "    </tr>\n",
       "    <tr>\n",
       "      <th>75%</th>\n",
       "      <td>24.127500</td>\n",
       "      <td>3.562500</td>\n",
       "      <td>3.000000</td>\n",
       "      <td>0.191475</td>\n",
       "    </tr>\n",
       "    <tr>\n",
       "      <th>max</th>\n",
       "      <td>50.810000</td>\n",
       "      <td>10.000000</td>\n",
       "      <td>6.000000</td>\n",
       "      <td>0.710345</td>\n",
       "    </tr>\n",
       "  </tbody>\n",
       "</table>\n",
       "</div>"
      ],
      "text/plain": [
       "       total_bill         tip        size     tip_pct\n",
       "count  244.000000  244.000000  244.000000  244.000000\n",
       "mean    19.785943    2.998279    2.569672    0.160803\n",
       "std      8.902412    1.383638    0.951100    0.061072\n",
       "min      3.070000    1.000000    1.000000    0.035638\n",
       "25%     13.347500    2.000000    2.000000    0.129127\n",
       "50%     17.795000    2.900000    2.000000    0.154770\n",
       "75%     24.127500    3.562500    3.000000    0.191475\n",
       "max     50.810000   10.000000    6.000000    0.710345"
      ]
     },
     "execution_count": 226,
     "metadata": {},
     "output_type": "execute_result"
    }
   ],
   "source": [
    "tips.describe()"
   ]
  },
  {
   "cell_type": "code",
   "execution_count": 227,
   "id": "0bce3ee0",
   "metadata": {
    "ExecuteTime": {
     "end_time": "2023-09-26T08:17:19.367308Z",
     "start_time": "2023-09-26T08:17:19.351841Z"
    }
   },
   "outputs": [
    {
     "data": {
      "text/html": [
       "<div>\n",
       "<style scoped>\n",
       "    .dataframe tbody tr th:only-of-type {\n",
       "        vertical-align: middle;\n",
       "    }\n",
       "\n",
       "    .dataframe tbody tr th {\n",
       "        vertical-align: top;\n",
       "    }\n",
       "\n",
       "    .dataframe thead th {\n",
       "        text-align: right;\n",
       "    }\n",
       "</style>\n",
       "<table border=\"1\" class=\"dataframe\">\n",
       "  <thead>\n",
       "    <tr style=\"text-align: right;\">\n",
       "      <th></th>\n",
       "      <th>total_bill</th>\n",
       "      <th>tip</th>\n",
       "      <th>smoker</th>\n",
       "      <th>day</th>\n",
       "      <th>time</th>\n",
       "      <th>size</th>\n",
       "      <th>tip_pct</th>\n",
       "    </tr>\n",
       "    <tr>\n",
       "      <th>sex</th>\n",
       "      <th></th>\n",
       "      <th></th>\n",
       "      <th></th>\n",
       "      <th></th>\n",
       "      <th></th>\n",
       "      <th></th>\n",
       "      <th></th>\n",
       "    </tr>\n",
       "  </thead>\n",
       "  <tbody>\n",
       "    <tr>\n",
       "      <th>Male</th>\n",
       "      <td>157</td>\n",
       "      <td>157</td>\n",
       "      <td>157</td>\n",
       "      <td>157</td>\n",
       "      <td>157</td>\n",
       "      <td>157</td>\n",
       "      <td>157</td>\n",
       "    </tr>\n",
       "    <tr>\n",
       "      <th>Female</th>\n",
       "      <td>87</td>\n",
       "      <td>87</td>\n",
       "      <td>87</td>\n",
       "      <td>87</td>\n",
       "      <td>87</td>\n",
       "      <td>87</td>\n",
       "      <td>87</td>\n",
       "    </tr>\n",
       "  </tbody>\n",
       "</table>\n",
       "</div>"
      ],
      "text/plain": [
       "        total_bill  tip  smoker  day  time  size  tip_pct\n",
       "sex                                                      \n",
       "Male           157  157     157  157   157   157      157\n",
       "Female          87   87      87   87    87    87       87"
      ]
     },
     "execution_count": 227,
     "metadata": {},
     "output_type": "execute_result"
    }
   ],
   "source": [
    "tips.groupby('sex').count()"
   ]
  },
  {
   "cell_type": "code",
   "execution_count": 228,
   "id": "6ae7c321",
   "metadata": {
    "ExecuteTime": {
     "end_time": "2023-09-26T08:18:23.238782Z",
     "start_time": "2023-09-26T08:18:23.220241Z"
    }
   },
   "outputs": [
    {
     "data": {
      "text/plain": [
       "sex\n",
       "Male      157\n",
       "Female     87\n",
       "dtype: int64"
      ]
     },
     "execution_count": 228,
     "metadata": {},
     "output_type": "execute_result"
    }
   ],
   "source": [
    "tips.groupby('sex').size()"
   ]
  },
  {
   "cell_type": "code",
   "execution_count": 230,
   "id": "2639df8f",
   "metadata": {
    "ExecuteTime": {
     "end_time": "2023-09-26T08:19:52.240421Z",
     "start_time": "2023-09-26T08:19:52.217232Z"
    }
   },
   "outputs": [
    {
     "data": {
      "text/plain": [
       "sex     smoker\n",
       "Male    Yes       60\n",
       "        No        97\n",
       "Female  Yes       33\n",
       "        No        54\n",
       "dtype: int64"
      ]
     },
     "execution_count": 230,
     "metadata": {},
     "output_type": "execute_result"
    }
   ],
   "source": [
    "# 성별에 따른 흡연 여부\n",
    "tips.groupby(['sex','smoker']).size()"
   ]
  },
  {
   "cell_type": "code",
   "execution_count": 231,
   "id": "004c8bec",
   "metadata": {
    "ExecuteTime": {
     "end_time": "2023-09-26T08:21:18.255920Z",
     "start_time": "2023-09-26T08:21:18.248759Z"
    }
   },
   "outputs": [
    {
     "data": {
      "text/plain": [
       "sex\n",
       "Male      0.157651\n",
       "Female    0.166491\n",
       "Name: tip_pct, dtype: float64"
      ]
     },
     "execution_count": 231,
     "metadata": {},
     "output_type": "execute_result"
    }
   ],
   "source": [
    "# 성별에 따른 팁 비율\n",
    "tips.groupby('sex')['tip_pct'].mean()"
   ]
  },
  {
   "cell_type": "code",
   "execution_count": 233,
   "id": "36617386",
   "metadata": {
    "ExecuteTime": {
     "end_time": "2023-09-26T08:24:06.834024Z",
     "start_time": "2023-09-26T08:24:06.812298Z"
    }
   },
   "outputs": [
    {
     "data": {
      "text/html": [
       "<div>\n",
       "<style scoped>\n",
       "    .dataframe tbody tr th:only-of-type {\n",
       "        vertical-align: middle;\n",
       "    }\n",
       "\n",
       "    .dataframe tbody tr th {\n",
       "        vertical-align: top;\n",
       "    }\n",
       "\n",
       "    .dataframe thead th {\n",
       "        text-align: right;\n",
       "    }\n",
       "</style>\n",
       "<table border=\"1\" class=\"dataframe\">\n",
       "  <thead>\n",
       "    <tr style=\"text-align: right;\">\n",
       "      <th></th>\n",
       "      <th>tip_pct</th>\n",
       "    </tr>\n",
       "    <tr>\n",
       "      <th>smoker</th>\n",
       "      <th></th>\n",
       "    </tr>\n",
       "  </thead>\n",
       "  <tbody>\n",
       "    <tr>\n",
       "      <th>Yes</th>\n",
       "      <td>0.163196</td>\n",
       "    </tr>\n",
       "    <tr>\n",
       "      <th>No</th>\n",
       "      <td>0.159328</td>\n",
       "    </tr>\n",
       "  </tbody>\n",
       "</table>\n",
       "</div>"
      ],
      "text/plain": [
       "         tip_pct\n",
       "smoker          \n",
       "Yes     0.163196\n",
       "No      0.159328"
      ]
     },
     "execution_count": 233,
     "metadata": {},
     "output_type": "execute_result"
    }
   ],
   "source": [
    "# 흡연 여부에 따른 팁 비율\n",
    "tips.groupby('smoker')[['tip_pct']].mean()"
   ]
  },
  {
   "cell_type": "code",
   "execution_count": 234,
   "id": "aa714ee4",
   "metadata": {
    "ExecuteTime": {
     "end_time": "2023-09-26T08:24:31.662961Z",
     "start_time": "2023-09-26T08:24:31.655907Z"
    }
   },
   "outputs": [
    {
     "data": {
      "text/plain": [
       "Sat     87\n",
       "Sun     76\n",
       "Thur    62\n",
       "Fri     19\n",
       "Name: day, dtype: int64"
      ]
     },
     "execution_count": 234,
     "metadata": {},
     "output_type": "execute_result"
    }
   ],
   "source": [
    "tips['day'].value_counts()"
   ]
  },
  {
   "cell_type": "code",
   "execution_count": 235,
   "id": "13d3245c",
   "metadata": {
    "ExecuteTime": {
     "end_time": "2023-09-26T08:24:58.065318Z",
     "start_time": "2023-09-26T08:24:58.044321Z"
    }
   },
   "outputs": [
    {
     "data": {
      "text/plain": [
       "Dinner    176\n",
       "Lunch      68\n",
       "Name: time, dtype: int64"
      ]
     },
     "execution_count": 235,
     "metadata": {},
     "output_type": "execute_result"
    }
   ],
   "source": [
    "tips['time'].value_counts()"
   ]
  },
  {
   "cell_type": "code",
   "execution_count": 238,
   "id": "ca42e4ab",
   "metadata": {
    "ExecuteTime": {
     "end_time": "2023-09-26T08:28:14.330423Z",
     "start_time": "2023-09-26T08:28:14.307407Z"
    }
   },
   "outputs": [
    {
     "data": {
      "text/html": [
       "<div>\n",
       "<style scoped>\n",
       "    .dataframe tbody tr th:only-of-type {\n",
       "        vertical-align: middle;\n",
       "    }\n",
       "\n",
       "    .dataframe tbody tr th {\n",
       "        vertical-align: top;\n",
       "    }\n",
       "\n",
       "    .dataframe thead th {\n",
       "        text-align: right;\n",
       "    }\n",
       "</style>\n",
       "<table border=\"1\" class=\"dataframe\">\n",
       "  <thead>\n",
       "    <tr style=\"text-align: right;\">\n",
       "      <th></th>\n",
       "      <th>tip</th>\n",
       "      <th>day</th>\n",
       "      <th>time</th>\n",
       "    </tr>\n",
       "  </thead>\n",
       "  <tbody>\n",
       "    <tr>\n",
       "      <th>170</th>\n",
       "      <td>10.0</td>\n",
       "      <td>Sat</td>\n",
       "      <td>Dinner</td>\n",
       "    </tr>\n",
       "  </tbody>\n",
       "</table>\n",
       "</div>"
      ],
      "text/plain": [
       "      tip  day    time\n",
       "170  10.0  Sat  Dinner"
      ]
     },
     "execution_count": 238,
     "metadata": {},
     "output_type": "execute_result"
    }
   ],
   "source": [
    "# 팁을 가장 많이 낸 손님이 온 요일 과 시간\n",
    "tips[tips['tip'] == tips['tip'].max()][['tip','day', 'time']]"
   ]
  },
  {
   "cell_type": "code",
   "execution_count": 240,
   "id": "51619ba5",
   "metadata": {
    "ExecuteTime": {
     "end_time": "2023-09-26T08:29:23.622061Z",
     "start_time": "2023-09-26T08:29:23.592007Z"
    }
   },
   "outputs": [
    {
     "data": {
      "text/html": [
       "<div>\n",
       "<style scoped>\n",
       "    .dataframe tbody tr th:only-of-type {\n",
       "        vertical-align: middle;\n",
       "    }\n",
       "\n",
       "    .dataframe tbody tr th {\n",
       "        vertical-align: top;\n",
       "    }\n",
       "\n",
       "    .dataframe thead th {\n",
       "        text-align: right;\n",
       "    }\n",
       "</style>\n",
       "<table border=\"1\" class=\"dataframe\">\n",
       "  <thead>\n",
       "    <tr style=\"text-align: right;\">\n",
       "      <th></th>\n",
       "      <th>day</th>\n",
       "      <th>Thur</th>\n",
       "      <th>Fri</th>\n",
       "      <th>Sat</th>\n",
       "      <th>Sun</th>\n",
       "    </tr>\n",
       "  </thead>\n",
       "  <tbody>\n",
       "    <tr>\n",
       "      <th rowspan=\"8\" valign=\"top\">tip_pct</th>\n",
       "      <th>count</th>\n",
       "      <td>62.000000</td>\n",
       "      <td>19.000000</td>\n",
       "      <td>87.000000</td>\n",
       "      <td>76.000000</td>\n",
       "    </tr>\n",
       "    <tr>\n",
       "      <th>mean</th>\n",
       "      <td>0.161276</td>\n",
       "      <td>0.169913</td>\n",
       "      <td>0.153152</td>\n",
       "      <td>0.166897</td>\n",
       "    </tr>\n",
       "    <tr>\n",
       "      <th>std</th>\n",
       "      <td>0.038652</td>\n",
       "      <td>0.047665</td>\n",
       "      <td>0.051293</td>\n",
       "      <td>0.084739</td>\n",
       "    </tr>\n",
       "    <tr>\n",
       "      <th>min</th>\n",
       "      <td>0.072961</td>\n",
       "      <td>0.103555</td>\n",
       "      <td>0.035638</td>\n",
       "      <td>0.059447</td>\n",
       "    </tr>\n",
       "    <tr>\n",
       "      <th>25%</th>\n",
       "      <td>0.138210</td>\n",
       "      <td>0.133739</td>\n",
       "      <td>0.123863</td>\n",
       "      <td>0.119982</td>\n",
       "    </tr>\n",
       "    <tr>\n",
       "      <th>50%</th>\n",
       "      <td>0.153846</td>\n",
       "      <td>0.155625</td>\n",
       "      <td>0.151832</td>\n",
       "      <td>0.161103</td>\n",
       "    </tr>\n",
       "    <tr>\n",
       "      <th>75%</th>\n",
       "      <td>0.192687</td>\n",
       "      <td>0.196637</td>\n",
       "      <td>0.188271</td>\n",
       "      <td>0.187889</td>\n",
       "    </tr>\n",
       "    <tr>\n",
       "      <th>max</th>\n",
       "      <td>0.266312</td>\n",
       "      <td>0.263480</td>\n",
       "      <td>0.325733</td>\n",
       "      <td>0.710345</td>\n",
       "    </tr>\n",
       "  </tbody>\n",
       "</table>\n",
       "</div>"
      ],
      "text/plain": [
       "day                 Thur        Fri        Sat        Sun\n",
       "tip_pct count  62.000000  19.000000  87.000000  76.000000\n",
       "        mean    0.161276   0.169913   0.153152   0.166897\n",
       "        std     0.038652   0.047665   0.051293   0.084739\n",
       "        min     0.072961   0.103555   0.035638   0.059447\n",
       "        25%     0.138210   0.133739   0.123863   0.119982\n",
       "        50%     0.153846   0.155625   0.151832   0.161103\n",
       "        75%     0.192687   0.196637   0.188271   0.187889\n",
       "        max     0.266312   0.263480   0.325733   0.710345"
      ]
     },
     "execution_count": 240,
     "metadata": {},
     "output_type": "execute_result"
    }
   ],
   "source": [
    "# 요일별 팁 비율 분석\n",
    "tips.groupby('day')[['tip_pct']].describe().T"
   ]
  },
  {
   "cell_type": "code",
   "execution_count": 241,
   "id": "08ebe11a",
   "metadata": {
    "ExecuteTime": {
     "end_time": "2023-09-26T08:30:55.164044Z",
     "start_time": "2023-09-26T08:30:55.148928Z"
    }
   },
   "outputs": [
    {
     "data": {
      "text/html": [
       "<div>\n",
       "<style scoped>\n",
       "    .dataframe tbody tr th:only-of-type {\n",
       "        vertical-align: middle;\n",
       "    }\n",
       "\n",
       "    .dataframe tbody tr th {\n",
       "        vertical-align: top;\n",
       "    }\n",
       "\n",
       "    .dataframe thead th {\n",
       "        text-align: right;\n",
       "    }\n",
       "</style>\n",
       "<table border=\"1\" class=\"dataframe\">\n",
       "  <thead>\n",
       "    <tr style=\"text-align: right;\">\n",
       "      <th></th>\n",
       "      <th>time</th>\n",
       "      <th>Lunch</th>\n",
       "      <th>Dinner</th>\n",
       "    </tr>\n",
       "  </thead>\n",
       "  <tbody>\n",
       "    <tr>\n",
       "      <th rowspan=\"8\" valign=\"top\">tip_pct</th>\n",
       "      <th>count</th>\n",
       "      <td>68.000000</td>\n",
       "      <td>176.000000</td>\n",
       "    </tr>\n",
       "    <tr>\n",
       "      <th>mean</th>\n",
       "      <td>0.164128</td>\n",
       "      <td>0.159518</td>\n",
       "    </tr>\n",
       "    <tr>\n",
       "      <th>std</th>\n",
       "      <td>0.040242</td>\n",
       "      <td>0.067477</td>\n",
       "    </tr>\n",
       "    <tr>\n",
       "      <th>min</th>\n",
       "      <td>0.072961</td>\n",
       "      <td>0.035638</td>\n",
       "    </tr>\n",
       "    <tr>\n",
       "      <th>25%</th>\n",
       "      <td>0.139147</td>\n",
       "      <td>0.123192</td>\n",
       "    </tr>\n",
       "    <tr>\n",
       "      <th>50%</th>\n",
       "      <td>0.154084</td>\n",
       "      <td>0.155400</td>\n",
       "    </tr>\n",
       "    <tr>\n",
       "      <th>75%</th>\n",
       "      <td>0.193917</td>\n",
       "      <td>0.188209</td>\n",
       "    </tr>\n",
       "    <tr>\n",
       "      <th>max</th>\n",
       "      <td>0.266312</td>\n",
       "      <td>0.710345</td>\n",
       "    </tr>\n",
       "  </tbody>\n",
       "</table>\n",
       "</div>"
      ],
      "text/plain": [
       "time               Lunch      Dinner\n",
       "tip_pct count  68.000000  176.000000\n",
       "        mean    0.164128    0.159518\n",
       "        std     0.040242    0.067477\n",
       "        min     0.072961    0.035638\n",
       "        25%     0.139147    0.123192\n",
       "        50%     0.154084    0.155400\n",
       "        75%     0.193917    0.188209\n",
       "        max     0.266312    0.710345"
      ]
     },
     "execution_count": 241,
     "metadata": {},
     "output_type": "execute_result"
    }
   ],
   "source": [
    "# 시간대 별 팁 비율 분석\n",
    "tips.groupby('time')[['tip_pct']].describe().T"
   ]
  },
  {
   "cell_type": "code",
   "execution_count": 242,
   "id": "f3028a29",
   "metadata": {
    "ExecuteTime": {
     "end_time": "2023-09-26T08:32:14.537626Z",
     "start_time": "2023-09-26T08:32:14.508484Z"
    }
   },
   "outputs": [
    {
     "data": {
      "text/html": [
       "<div>\n",
       "<style scoped>\n",
       "    .dataframe tbody tr th:only-of-type {\n",
       "        vertical-align: middle;\n",
       "    }\n",
       "\n",
       "    .dataframe tbody tr th {\n",
       "        vertical-align: top;\n",
       "    }\n",
       "\n",
       "    .dataframe thead th {\n",
       "        text-align: right;\n",
       "    }\n",
       "</style>\n",
       "<table border=\"1\" class=\"dataframe\">\n",
       "  <thead>\n",
       "    <tr style=\"text-align: right;\">\n",
       "      <th></th>\n",
       "      <th>size</th>\n",
       "      <th>1</th>\n",
       "      <th>2</th>\n",
       "      <th>3</th>\n",
       "      <th>4</th>\n",
       "      <th>5</th>\n",
       "      <th>6</th>\n",
       "    </tr>\n",
       "  </thead>\n",
       "  <tbody>\n",
       "    <tr>\n",
       "      <th rowspan=\"8\" valign=\"top\">tip_pct</th>\n",
       "      <th>count</th>\n",
       "      <td>4.000000</td>\n",
       "      <td>156.000000</td>\n",
       "      <td>38.000000</td>\n",
       "      <td>37.000000</td>\n",
       "      <td>5.000000</td>\n",
       "      <td>4.000000</td>\n",
       "    </tr>\n",
       "    <tr>\n",
       "      <th>mean</th>\n",
       "      <td>0.217292</td>\n",
       "      <td>0.165719</td>\n",
       "      <td>0.152157</td>\n",
       "      <td>0.145949</td>\n",
       "      <td>0.141495</td>\n",
       "      <td>0.156229</td>\n",
       "    </tr>\n",
       "    <tr>\n",
       "      <th>std</th>\n",
       "      <td>0.080342</td>\n",
       "      <td>0.066848</td>\n",
       "      <td>0.045459</td>\n",
       "      <td>0.042395</td>\n",
       "      <td>0.067733</td>\n",
       "      <td>0.042153</td>\n",
       "    </tr>\n",
       "    <tr>\n",
       "      <th>min</th>\n",
       "      <td>0.137931</td>\n",
       "      <td>0.035638</td>\n",
       "      <td>0.056433</td>\n",
       "      <td>0.077459</td>\n",
       "      <td>0.065660</td>\n",
       "      <td>0.103799</td>\n",
       "    </tr>\n",
       "    <tr>\n",
       "      <th>25%</th>\n",
       "      <td>0.170779</td>\n",
       "      <td>0.135223</td>\n",
       "      <td>0.124758</td>\n",
       "      <td>0.117750</td>\n",
       "      <td>0.106572</td>\n",
       "      <td>0.131654</td>\n",
       "    </tr>\n",
       "    <tr>\n",
       "      <th>50%</th>\n",
       "      <td>0.202752</td>\n",
       "      <td>0.156104</td>\n",
       "      <td>0.159323</td>\n",
       "      <td>0.146699</td>\n",
       "      <td>0.121389</td>\n",
       "      <td>0.162891</td>\n",
       "    </tr>\n",
       "    <tr>\n",
       "      <th>75%</th>\n",
       "      <td>0.249265</td>\n",
       "      <td>0.195036</td>\n",
       "      <td>0.186135</td>\n",
       "      <td>0.169797</td>\n",
       "      <td>0.172194</td>\n",
       "      <td>0.187466</td>\n",
       "    </tr>\n",
       "    <tr>\n",
       "      <th>max</th>\n",
       "      <td>0.325733</td>\n",
       "      <td>0.710345</td>\n",
       "      <td>0.230742</td>\n",
       "      <td>0.280535</td>\n",
       "      <td>0.241663</td>\n",
       "      <td>0.195335</td>\n",
       "    </tr>\n",
       "  </tbody>\n",
       "</table>\n",
       "</div>"
      ],
      "text/plain": [
       "size                  1           2          3          4         5         6\n",
       "tip_pct count  4.000000  156.000000  38.000000  37.000000  5.000000  4.000000\n",
       "        mean   0.217292    0.165719   0.152157   0.145949  0.141495  0.156229\n",
       "        std    0.080342    0.066848   0.045459   0.042395  0.067733  0.042153\n",
       "        min    0.137931    0.035638   0.056433   0.077459  0.065660  0.103799\n",
       "        25%    0.170779    0.135223   0.124758   0.117750  0.106572  0.131654\n",
       "        50%    0.202752    0.156104   0.159323   0.146699  0.121389  0.162891\n",
       "        75%    0.249265    0.195036   0.186135   0.169797  0.172194  0.187466\n",
       "        max    0.325733    0.710345   0.230742   0.280535  0.241663  0.195335"
      ]
     },
     "execution_count": 242,
     "metadata": {},
     "output_type": "execute_result"
    }
   ],
   "source": [
    "# 인원 수 별 팁 비율\n",
    "tips.groupby('size')[['tip_pct']].describe().T"
   ]
  },
  {
   "cell_type": "code",
   "execution_count": 245,
   "id": "6570a646",
   "metadata": {
    "ExecuteTime": {
     "end_time": "2023-09-26T08:36:36.434260Z",
     "start_time": "2023-09-26T08:36:36.402041Z"
    }
   },
   "outputs": [
    {
     "data": {
      "text/html": [
       "<div>\n",
       "<style scoped>\n",
       "    .dataframe tbody tr th:only-of-type {\n",
       "        vertical-align: middle;\n",
       "    }\n",
       "\n",
       "    .dataframe tbody tr th {\n",
       "        vertical-align: top;\n",
       "    }\n",
       "\n",
       "    .dataframe thead th {\n",
       "        text-align: right;\n",
       "    }\n",
       "</style>\n",
       "<table border=\"1\" class=\"dataframe\">\n",
       "  <thead>\n",
       "    <tr style=\"text-align: right;\">\n",
       "      <th></th>\n",
       "      <th>day</th>\n",
       "      <th>Thur</th>\n",
       "      <th>Fri</th>\n",
       "      <th>Sat</th>\n",
       "      <th>Sun</th>\n",
       "    </tr>\n",
       "  </thead>\n",
       "  <tbody>\n",
       "    <tr>\n",
       "      <th rowspan=\"8\" valign=\"top\">tip_pct</th>\n",
       "      <th>count</th>\n",
       "      <td>61.000000</td>\n",
       "      <td>7.000000</td>\n",
       "      <td>0.0</td>\n",
       "      <td>0.0</td>\n",
       "    </tr>\n",
       "    <tr>\n",
       "      <th>mean</th>\n",
       "      <td>0.161301</td>\n",
       "      <td>0.188765</td>\n",
       "      <td>NaN</td>\n",
       "      <td>NaN</td>\n",
       "    </tr>\n",
       "    <tr>\n",
       "      <th>std</th>\n",
       "      <td>0.038972</td>\n",
       "      <td>0.045885</td>\n",
       "      <td>NaN</td>\n",
       "      <td>NaN</td>\n",
       "    </tr>\n",
       "    <tr>\n",
       "      <th>min</th>\n",
       "      <td>0.072961</td>\n",
       "      <td>0.117735</td>\n",
       "      <td>NaN</td>\n",
       "      <td>NaN</td>\n",
       "    </tr>\n",
       "    <tr>\n",
       "      <th>25%</th>\n",
       "      <td>0.137741</td>\n",
       "      <td>0.167289</td>\n",
       "      <td>NaN</td>\n",
       "      <td>NaN</td>\n",
       "    </tr>\n",
       "    <tr>\n",
       "      <th>50%</th>\n",
       "      <td>0.153846</td>\n",
       "      <td>0.187735</td>\n",
       "      <td>NaN</td>\n",
       "      <td>NaN</td>\n",
       "    </tr>\n",
       "    <tr>\n",
       "      <th>75%</th>\n",
       "      <td>0.193424</td>\n",
       "      <td>0.210996</td>\n",
       "      <td>NaN</td>\n",
       "      <td>NaN</td>\n",
       "    </tr>\n",
       "    <tr>\n",
       "      <th>max</th>\n",
       "      <td>0.266312</td>\n",
       "      <td>0.259314</td>\n",
       "      <td>NaN</td>\n",
       "      <td>NaN</td>\n",
       "    </tr>\n",
       "  </tbody>\n",
       "</table>\n",
       "</div>"
      ],
      "text/plain": [
       "day                 Thur       Fri  Sat  Sun\n",
       "tip_pct count  61.000000  7.000000  0.0  0.0\n",
       "        mean    0.161301  0.188765  NaN  NaN\n",
       "        std     0.038972  0.045885  NaN  NaN\n",
       "        min     0.072961  0.117735  NaN  NaN\n",
       "        25%     0.137741  0.167289  NaN  NaN\n",
       "        50%     0.153846  0.187735  NaN  NaN\n",
       "        75%     0.193424  0.210996  NaN  NaN\n",
       "        max     0.266312  0.259314  NaN  NaN"
      ]
     },
     "execution_count": 245,
     "metadata": {},
     "output_type": "execute_result"
    }
   ],
   "source": [
    "# 요일별 점심시간 평균 팁 비율\n",
    "tips[tips['time'] == 'Lunch'].groupby('day')[['tip_pct']].describe().T"
   ]
  },
  {
   "cell_type": "code",
   "execution_count": null,
   "id": "c9f9d103",
   "metadata": {},
   "outputs": [],
   "source": []
  }
 ],
 "metadata": {
  "kernelspec": {
   "display_name": "Python 3 (ipykernel)",
   "language": "python",
   "name": "python3"
  },
  "language_info": {
   "codemirror_mode": {
    "name": "ipython",
    "version": 3
   },
   "file_extension": ".py",
   "mimetype": "text/x-python",
   "name": "python",
   "nbconvert_exporter": "python",
   "pygments_lexer": "ipython3",
   "version": "3.8.17"
  },
  "toc": {
   "base_numbering": 1,
   "nav_menu": {},
   "number_sections": true,
   "sideBar": true,
   "skip_h1_title": false,
   "title_cell": "Table of Contents",
   "title_sidebar": "Contents",
   "toc_cell": false,
   "toc_position": {
    "height": "calc(100% - 180px)",
    "left": "10px",
    "top": "150px",
    "width": "384px"
   },
   "toc_section_display": true,
   "toc_window_display": true
  }
 },
 "nbformat": 4,
 "nbformat_minor": 5
}
