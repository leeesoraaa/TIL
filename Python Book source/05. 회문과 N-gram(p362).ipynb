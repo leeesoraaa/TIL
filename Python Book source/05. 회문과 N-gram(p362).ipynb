{
 "cells": [
  {
   "cell_type": "markdown",
   "id": "a0d37aff",
   "metadata": {},
   "source": [
    "# 회문(Palindrome)\n",
    "- 거꾸로 읽어도 같은 단어나 문장\n",
    "- ex: level, sos, rotator, race car\n",
    "- 주어진 문자열의 갯수가 짝수일 때와 홀수일 때 구분"
   ]
  },
  {
   "cell_type": "markdown",
   "id": "9ccbd03f",
   "metadata": {},
   "source": [
    "## 반복문 활용"
   ]
  },
  {
   "cell_type": "code",
   "execution_count": 1,
   "id": "dcf9794d",
   "metadata": {
    "ExecuteTime": {
     "end_time": "2023-08-31T05:09:03.176129Z",
     "start_time": "2023-08-31T05:09:03.160395Z"
    }
   },
   "outputs": [
    {
     "name": "stdout",
     "output_type": "stream",
     "text": [
      "level\n"
     ]
    }
   ],
   "source": [
    "# 입력: level\n",
    "a = \"level\"\n",
    "print(a)"
   ]
  },
  {
   "cell_type": "code",
   "execution_count": 6,
   "id": "ef144d1a",
   "metadata": {
    "ExecuteTime": {
     "end_time": "2023-08-31T05:35:10.050355Z",
     "start_time": "2023-08-31T05:35:05.866189Z"
    }
   },
   "outputs": [
    {
     "name": "stdout",
     "output_type": "stream",
     "text": [
      "단어를 입력하세요:orange\n",
      "False\n"
     ]
    }
   ],
   "source": [
    "word = input(\"단어를 입력하세요:\")\n",
    "\n",
    "# sw: 0/1 or True/False\n",
    "sw = True  # 회문이 맞다.\n",
    "for i in range(len(word)//2):\n",
    "    if word[i] != word[-1-i]:\n",
    "        sw = False\n",
    "        break\n",
    "        \n",
    "print(sw)"
   ]
  },
  {
   "cell_type": "code",
   "execution_count": 7,
   "id": "ae61f5c0",
   "metadata": {
    "ExecuteTime": {
     "end_time": "2023-08-31T05:37:07.364554Z",
     "start_time": "2023-08-31T05:37:00.624585Z"
    }
   },
   "outputs": [
    {
     "name": "stdout",
     "output_type": "stream",
     "text": [
      "단어를 입력하세요:level\n",
      "True\n"
     ]
    }
   ],
   "source": [
    "word = input(\"단어를 입력하세요:\")\n",
    "print(word == word[::-1])"
   ]
  },
  {
   "cell_type": "code",
   "execution_count": 9,
   "id": "7f2a557d",
   "metadata": {
    "ExecuteTime": {
     "end_time": "2023-08-31T05:38:06.846377Z",
     "start_time": "2023-08-31T05:38:04.222884Z"
    }
   },
   "outputs": [
    {
     "name": "stdout",
     "output_type": "stream",
     "text": [
      "단어를 입력하세요:level\n",
      "True\n"
     ]
    }
   ],
   "source": [
    "word = input(\"단어를 입력하세요:\")\n",
    "print(list(word) == list(reversed(word)))"
   ]
  },
  {
   "cell_type": "code",
   "execution_count": 11,
   "id": "b85d2968",
   "metadata": {
    "ExecuteTime": {
     "end_time": "2023-08-31T05:40:17.111245Z",
     "start_time": "2023-08-31T05:40:17.100328Z"
    }
   },
   "outputs": [
    {
     "name": "stdout",
     "output_type": "stream",
     "text": [
      "aerok\n"
     ]
    }
   ],
   "source": [
    "word = 'korea'\n",
    "print(''.join(reversed(word)))"
   ]
  },
  {
   "cell_type": "markdown",
   "id": "4b35a936",
   "metadata": {},
   "source": [
    "# N-gram\n",
    "- 문자열을 n개의 연속된 개수로 추출\n",
    "- 예: korea: 2-gram: ko - or - re - ea\n",
    "- 01 - 12 - 23 - 34"
   ]
  },
  {
   "cell_type": "code",
   "execution_count": 12,
   "id": "718b2b1e",
   "metadata": {
    "ExecuteTime": {
     "end_time": "2023-08-31T05:45:58.328633Z",
     "start_time": "2023-08-31T05:45:58.313439Z"
    }
   },
   "outputs": [
    {
     "name": "stdout",
     "output_type": "stream",
     "text": [
      "k  o\n",
      "o  r\n",
      "r  e\n",
      "e  a\n"
     ]
    }
   ],
   "source": [
    "# 2-gram\n",
    "word = \"korea\"\n",
    "for i in range(len(word) - 1):\n",
    "    print(word[i], word[i + 1], sep = \"  \")"
   ]
  },
  {
   "cell_type": "code",
   "execution_count": 14,
   "id": "14120354",
   "metadata": {
    "ExecuteTime": {
     "end_time": "2023-08-31T05:49:25.133251Z",
     "start_time": "2023-08-31T05:49:25.124322Z"
    }
   },
   "outputs": [
    {
     "name": "stdout",
     "output_type": "stream",
     "text": [
      "w o r\n",
      "o r l\n",
      "r l d\n",
      "l d c\n",
      "d c u\n",
      "c u p\n"
     ]
    }
   ],
   "source": [
    "# 3-gram\n",
    "word = 'worldcup'\n",
    "for i in range(len(word) - 2):\n",
    "    print(word[i], word[i+1], word[i+2], sep = \" \")"
   ]
  },
  {
   "cell_type": "markdown",
   "id": "89b99f73",
   "metadata": {},
   "source": [
    "## zip 함수"
   ]
  },
  {
   "cell_type": "code",
   "execution_count": 15,
   "id": "3ab59cc6",
   "metadata": {
    "ExecuteTime": {
     "end_time": "2023-08-31T06:41:30.026801Z",
     "start_time": "2023-08-31T06:41:30.012847Z"
    }
   },
   "outputs": [
    {
     "data": {
      "text/plain": [
       "[(1, 'a'), (2, 'b'), (3, 'c')]"
      ]
     },
     "execution_count": 15,
     "metadata": {},
     "output_type": "execute_result"
    }
   ],
   "source": [
    "a = [1,2,3]\n",
    "b = ['a', 'b', 'c']\n",
    "c = list(zip(a, b))\n",
    "c"
   ]
  },
  {
   "cell_type": "code",
   "execution_count": 17,
   "id": "42448e35",
   "metadata": {
    "ExecuteTime": {
     "end_time": "2023-08-31T06:50:00.841791Z",
     "start_time": "2023-08-31T06:50:00.829752Z"
    }
   },
   "outputs": [
    {
     "name": "stdout",
     "output_type": "stream",
     "text": [
      "p y\n",
      "y t\n",
      "t h\n",
      "h o\n",
      "o n\n"
     ]
    }
   ],
   "source": [
    "text = 'python'\n",
    "word = zip(text, text[1:])\n",
    "for i in word:\n",
    "    print(i[0], i[1])"
   ]
  },
  {
   "cell_type": "code",
   "execution_count": null,
   "id": "926857bb",
   "metadata": {},
   "outputs": [],
   "source": []
  }
 ],
 "metadata": {
  "kernelspec": {
   "display_name": "Python 3",
   "language": "python",
   "name": "python3"
  },
  "language_info": {
   "codemirror_mode": {
    "name": "ipython",
    "version": 3
   },
   "file_extension": ".py",
   "mimetype": "text/x-python",
   "name": "python",
   "nbconvert_exporter": "python",
   "pygments_lexer": "ipython3",
   "version": "3.8.8"
  },
  "toc": {
   "base_numbering": 1,
   "nav_menu": {},
   "number_sections": true,
   "sideBar": true,
   "skip_h1_title": false,
   "title_cell": "Table of Contents",
   "title_sidebar": "Contents",
   "toc_cell": false,
   "toc_position": {},
   "toc_section_display": true,
   "toc_window_display": false
  }
 },
 "nbformat": 4,
 "nbformat_minor": 5
}
