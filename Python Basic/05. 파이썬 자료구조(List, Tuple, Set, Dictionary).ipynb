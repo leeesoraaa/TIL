{
 "cells": [
  {
   "cell_type": "markdown",
   "id": "f81ceba6",
   "metadata": {},
   "source": [
    "# 리스트(List)\n",
    "- 임의의 객체를 순차적으로 저장하고 집합적 자료형(시퀀스 자료형, sequence dataType)\n",
    "- 1차원 배열: 크기가 정해져 있지 않은 배열\n",
    "- 각 값에 인덱스가 부여된다.(인덱스의 시작은 0부터)\n",
    "- 값을 변경할 수 있다.\n",
    "- 생성: [], list()\n",
    "- 대표적인 함수: range(), seq()\n",
    "  - range(1, 10): 1부터 1씩 증가해 10-1까지 순차적인 값 생성\n",
    "  - range(10): 0부터 10-1까지 순차적으로 값 생성"
   ]
  },
  {
   "cell_type": "markdown",
   "id": "44fd87c1",
   "metadata": {},
   "source": [
    "## 리스트 생성"
   ]
  },
  {
   "cell_type": "code",
   "execution_count": 1,
   "id": "835a33df",
   "metadata": {
    "ExecuteTime": {
     "end_time": "2023-08-23T00:35:15.688824Z",
     "start_time": "2023-08-23T00:35:15.677822Z"
    }
   },
   "outputs": [
    {
     "name": "stdout",
     "output_type": "stream",
     "text": [
      "[]\n",
      "[]\n"
     ]
    }
   ],
   "source": [
    "# 빈리스트 생성\n",
    "a = []\n",
    "b = list()\n",
    "\n",
    "print(a)\n",
    "print(b)"
   ]
  },
  {
   "cell_type": "code",
   "execution_count": 2,
   "id": "67c963b9",
   "metadata": {
    "ExecuteTime": {
     "end_time": "2023-08-23T00:35:18.501098Z",
     "start_time": "2023-08-23T00:35:18.498111Z"
    }
   },
   "outputs": [
    {
     "name": "stdout",
     "output_type": "stream",
     "text": [
      "<class 'list'>\n",
      "<class 'list'>\n"
     ]
    }
   ],
   "source": [
    "# 자료형을 확인하는 함수\n",
    "print(type(a))\n",
    "print(type(b))"
   ]
  },
  {
   "cell_type": "code",
   "execution_count": 6,
   "id": "4e151d47",
   "metadata": {
    "ExecuteTime": {
     "end_time": "2023-08-23T00:46:53.624267Z",
     "start_time": "2023-08-23T00:46:53.609310Z"
    }
   },
   "outputs": [
    {
     "name": "stdout",
     "output_type": "stream",
     "text": [
      "[1, 3, 5, 7, 9]\n",
      "1\n",
      "3\n",
      "9\n",
      "[10, 3, 5, 7, 9]\n",
      "[3, 5, 7]\n",
      "[10, 3, 5]\n"
     ]
    }
   ],
   "source": [
    "# 리스트 생성\n",
    "l1 = [1, 3, 5, 7, 9]\n",
    "print(l1)\n",
    "\n",
    "# Indexing(인덱싱): 특정 위치의 값을 추출하는 기능, [index]\n",
    "## 리스트의 첫번째 요소\n",
    "print(l1[0])\n",
    "print(l1[1])\n",
    "print(l1[-1])\n",
    "## 리버스 인덱스(reverse index): 리스트의 마지막 인덱스를 시작값으로 처리하는 인덱스, -1 ~\n",
    "\n",
    "# 변경가능\n",
    "l1[0] = 10\n",
    "print(l1)\n",
    "\n",
    "# Slicing(슬라이싱): 일부분의 값을 추출하는 기능, [시작위치:마지막위치 + 1]\n",
    "## 3, 5, 7 요소 추출\n",
    "print(l1[1:4])\n",
    "print(l1[:3])"
   ]
  },
  {
   "cell_type": "code",
   "execution_count": null,
   "id": "0d9a602f",
   "metadata": {
    "ExecuteTime": {
     "end_time": "2023-08-22T07:43:37.674150Z",
     "start_time": "2023-08-22T07:43:37.666807Z"
    }
   },
   "outputs": [],
   "source": [
    "# 숫자값을 담고 있는 리스트\n",
    "x = [1, 2, 3, 4, 5]\n",
    "y = ['Python', 'C++', 'java']\n",
    "z = ['Python', 1, -100]\n",
    "w = [1,2,[3,4,5]]\n",
    "k = [[1,2],[3,4,5]]"
   ]
  },
  {
   "cell_type": "code",
   "execution_count": null,
   "id": "176fc4b1",
   "metadata": {
    "ExecuteTime": {
     "end_time": "2023-08-22T07:43:39.636246Z",
     "start_time": "2023-08-22T07:43:39.621299Z"
    }
   },
   "outputs": [],
   "source": [
    "x"
   ]
  },
  {
   "cell_type": "code",
   "execution_count": null,
   "id": "5582e926",
   "metadata": {
    "ExecuteTime": {
     "end_time": "2023-08-22T07:43:41.913622Z",
     "start_time": "2023-08-22T07:43:41.903362Z"
    }
   },
   "outputs": [],
   "source": [
    "y"
   ]
  },
  {
   "cell_type": "code",
   "execution_count": null,
   "id": "bc5f9cab",
   "metadata": {
    "ExecuteTime": {
     "end_time": "2023-08-22T07:43:43.004289Z",
     "start_time": "2023-08-22T07:43:42.997151Z"
    }
   },
   "outputs": [],
   "source": [
    "z"
   ]
  },
  {
   "cell_type": "code",
   "execution_count": null,
   "id": "39266afc",
   "metadata": {
    "ExecuteTime": {
     "end_time": "2023-08-22T07:43:46.229351Z",
     "start_time": "2023-08-22T07:43:46.209500Z"
    }
   },
   "outputs": [],
   "source": [
    "w"
   ]
  },
  {
   "cell_type": "code",
   "execution_count": null,
   "id": "a1a5f647",
   "metadata": {
    "ExecuteTime": {
     "end_time": "2023-08-22T07:43:48.001747Z",
     "start_time": "2023-08-22T07:43:47.986463Z"
    }
   },
   "outputs": [],
   "source": [
    "k"
   ]
  },
  {
   "cell_type": "code",
   "execution_count": 9,
   "id": "378441e2",
   "metadata": {
    "ExecuteTime": {
     "end_time": "2023-08-23T00:52:30.149645Z",
     "start_time": "2023-08-23T00:52:30.145513Z"
    }
   },
   "outputs": [
    {
     "name": "stdout",
     "output_type": "stream",
     "text": [
      "[1, 2, 3, ['a', 'b', 'c']]\n",
      "['a', 'b', 'c']\n",
      "b\n"
     ]
    }
   ],
   "source": [
    "# 중첩 리스트: 리스트 안에 리스트를 가지고 있는 리스트\n",
    "x = [1, 2, 3, ['a', 'b', 'c']]\n",
    "print(x)\n",
    "\n",
    "# 리스트[행][열]\n",
    "print(x[3])\n",
    "print(x[3][1])"
   ]
  },
  {
   "cell_type": "markdown",
   "id": "f04911f5",
   "metadata": {},
   "source": [
    "## 리스트 연산"
   ]
  },
  {
   "cell_type": "code",
   "execution_count": 10,
   "id": "84015baa",
   "metadata": {
    "ExecuteTime": {
     "end_time": "2023-08-23T01:11:10.255946Z",
     "start_time": "2023-08-23T01:11:10.241383Z"
    }
   },
   "outputs": [
    {
     "name": "stdout",
     "output_type": "stream",
     "text": [
      "c:  [1, 2, 3, 4, 5]\n",
      "d:  [3, 4, 5, 1, 2]\n",
      "e:  [1, 2, 1, 2, 1, 2]\n",
      "f:  [1, 2, 1, 2, 3, 4, 5, 3, 4, 5, 3, 4, 5]\n"
     ]
    }
   ],
   "source": [
    "# +와 * 연산\n",
    "## 더하기(+): 리스트를 합치는 기능\n",
    "## 반복하기(*): 리스트 * 상수\n",
    "a = [1,2]\n",
    "b = [3,4,5]\n",
    "\n",
    "c = a + b # append(), [1,2,3,4,5]\n",
    "d = b + a # [3,4,5,1,2]\n",
    "\n",
    "e = a * 3 # [1,2,1,2,1,2]\n",
    "f = a * 2 + b * 3 # [1,2,1,2,3,4,5,3,4,5,3,4,5]\n",
    "print(\"c: \", c)\n",
    "print(\"d: \", d)\n",
    "print(\"e: \", e)\n",
    "print(\"f: \", f)"
   ]
  },
  {
   "cell_type": "markdown",
   "id": "54bb379b",
   "metadata": {},
   "source": [
    "## 리스트의 인덱싱과 슬라이싱\n",
    "\n",
    "- 인덱싱(Indexing): 특정 위치 값 반환, 인덱스의 시작은 0부터, 음수일 경우 뒤에서부터\n",
    "- 슬라이싱(Slicing): 일부분 반환, 시작값:마지막값(마지막값 -1)"
   ]
  },
  {
   "cell_type": "code",
   "execution_count": null,
   "id": "ca159d23",
   "metadata": {
    "ExecuteTime": {
     "end_time": "2023-08-22T07:51:34.462947Z",
     "start_time": "2023-08-22T07:51:34.445342Z"
    }
   },
   "outputs": [],
   "source": [
    "# [index]\n",
    "a = [1,2,[3,4,5],'python']\n",
    "print(a)"
   ]
  },
  {
   "cell_type": "code",
   "execution_count": null,
   "id": "44c50d29",
   "metadata": {
    "ExecuteTime": {
     "end_time": "2023-08-22T07:54:01.866741Z",
     "start_time": "2023-08-22T07:54:01.857759Z"
    }
   },
   "outputs": [],
   "source": [
    "print(a[0]) # 1\n",
    "print(a[-1]) # python\n",
    "print(a[2][1]) # 인덱스 2에 위치한 리스트 안에서 인덱스 1 = 4\n",
    "print(a[3][2]) # 인덱스 3인 python 안에서 인덱스 2 = t"
   ]
  },
  {
   "cell_type": "code",
   "execution_count": null,
   "id": "46d58b1a",
   "metadata": {
    "ExecuteTime": {
     "end_time": "2023-08-22T07:58:24.777143Z",
     "start_time": "2023-08-22T07:58:24.766001Z"
    }
   },
   "outputs": [],
   "source": [
    "# [start:end], start부터 end-1까지 처리\n",
    "a = [1,2,[3,4,5],'python']\n",
    "print(a[:2]) # start를 생략하면 처음부터 읽어온다.\n",
    "print(a[0:3])\n",
    "print(a[2:]) # end를 생략하면 끝까지 읽어온다.\n",
    "print(a[2][1:])\n",
    "print(a[3][:3])"
   ]
  },
  {
   "cell_type": "markdown",
   "id": "30a4a9f1",
   "metadata": {},
   "source": [
    "## 리스트의 수정, 삭제"
   ]
  },
  {
   "cell_type": "code",
   "execution_count": null,
   "id": "c9eba4a2",
   "metadata": {
    "ExecuteTime": {
     "end_time": "2023-08-22T08:00:56.800883Z",
     "start_time": "2023-08-22T08:00:56.792058Z"
    }
   },
   "outputs": [],
   "source": [
    "a = [1,2,3,4,5]\n",
    "a[2] = -100\n",
    "print(a)"
   ]
  },
  {
   "cell_type": "code",
   "execution_count": null,
   "id": "9e6857c8",
   "metadata": {
    "ExecuteTime": {
     "end_time": "2023-08-22T08:02:48.942431Z",
     "start_time": "2023-08-22T08:02:48.934603Z"
    }
   },
   "outputs": [],
   "source": [
    "a= [1,2,3]\n",
    "a[1:2] = ['a', 'b', 'c']\n",
    "print(a)"
   ]
  },
  {
   "cell_type": "code",
   "execution_count": null,
   "id": "33684ac9",
   "metadata": {
    "ExecuteTime": {
     "end_time": "2023-08-22T08:03:08.597190Z",
     "start_time": "2023-08-22T08:03:08.591171Z"
    }
   },
   "outputs": [],
   "source": [
    "a= [1,2,3]\n",
    "a[1] = ['a', 'b', 'c']\n",
    "print(a)"
   ]
  },
  {
   "cell_type": "code",
   "execution_count": null,
   "id": "fe8d5c30",
   "metadata": {
    "ExecuteTime": {
     "end_time": "2023-08-22T08:11:39.100299Z",
     "start_time": "2023-08-22T08:11:39.091284Z"
    }
   },
   "outputs": [],
   "source": [
    "# 파이썬의 메모리 관리 방식\n",
    "# 리스트(list): 1차원 배열\n",
    "## 깊은 복사와 얕은 복사\n",
    "\n",
    "a = [1, 2, 3, 4, 5]\n",
    "b = a # a가 가르키는 것은 주소, b는 a의 주소를 참조 (얕은 복사)\n",
    "b[0] = 10  # a,b가 주소를 공유하므로 a도 같이 바뀜\n",
    "\n",
    "print(\"a : \", a)\n",
    "print(\"b : \", b)"
   ]
  },
  {
   "cell_type": "code",
   "execution_count": null,
   "id": "8b66b745",
   "metadata": {
    "ExecuteTime": {
     "end_time": "2023-08-22T08:12:23.683535Z",
     "start_time": "2023-08-22T08:12:23.671559Z"
    }
   },
   "outputs": [],
   "source": [
    "# id(): 주소를 반환하는 함수\n",
    "print(id(a))\n",
    "print(id(b))"
   ]
  },
  {
   "cell_type": "code",
   "execution_count": null,
   "id": "1c38fc93",
   "metadata": {
    "ExecuteTime": {
     "end_time": "2023-08-22T08:14:08.619427Z",
     "start_time": "2023-08-22T08:14:08.601467Z"
    }
   },
   "outputs": [],
   "source": [
    "a = [1,2,3,4,5]\n",
    "b = a[:] # 주소가 아닌 값을 복사(깊은 복사)\n",
    "b[0] = 10\n",
    "print(\"a: \", a)  # a는 안 바뀜\n",
    "print(\"b: \", b)\n",
    "\n",
    "print(id(a))\n",
    "print(id(b))"
   ]
  },
  {
   "cell_type": "code",
   "execution_count": null,
   "id": "d1d228e5",
   "metadata": {
    "ExecuteTime": {
     "end_time": "2023-08-22T08:15:37.873272Z",
     "start_time": "2023-08-22T08:15:37.863755Z"
    }
   },
   "outputs": [],
   "source": [
    "# 삭제\n",
    "a = [1,2,3]\n",
    "a[1] = []\n",
    "print(a)"
   ]
  },
  {
   "cell_type": "code",
   "execution_count": null,
   "id": "3ce7e85b",
   "metadata": {
    "ExecuteTime": {
     "end_time": "2023-08-22T08:16:13.570710Z",
     "start_time": "2023-08-22T08:16:13.554805Z"
    }
   },
   "outputs": [],
   "source": [
    "a[1:2] = []\n",
    "print(a)"
   ]
  },
  {
   "cell_type": "code",
   "execution_count": null,
   "id": "d82788e8",
   "metadata": {
    "ExecuteTime": {
     "end_time": "2023-08-22T08:16:51.243317Z",
     "start_time": "2023-08-22T08:16:51.230337Z"
    }
   },
   "outputs": [],
   "source": [
    "a = [1,2,3]\n",
    "# del 명령어\n",
    "del a[1]\n",
    "print(a)"
   ]
  },
  {
   "cell_type": "code",
   "execution_count": null,
   "id": "db657f36",
   "metadata": {
    "ExecuteTime": {
     "end_time": "2023-08-22T08:17:31.296328Z",
     "start_time": "2023-08-22T08:17:31.281045Z"
    }
   },
   "outputs": [],
   "source": [
    "a = [1,2,3,4,5]\n",
    "del a[1:3]\n",
    "print(a)"
   ]
  },
  {
   "cell_type": "markdown",
   "id": "8319fd24",
   "metadata": {},
   "source": [
    "## 리스트 관련 함수"
   ]
  },
  {
   "cell_type": "code",
   "execution_count": null,
   "id": "aa61c630",
   "metadata": {
    "ExecuteTime": {
     "end_time": "2023-08-22T08:19:58.887842Z",
     "start_time": "2023-08-22T08:19:58.875677Z"
    }
   },
   "outputs": [],
   "source": [
    "# append(): 리스트의 맨 뒤에 추가\n",
    "a = [1,2,3,4,5]\n",
    "a.append(6)\n",
    "print(a)"
   ]
  },
  {
   "cell_type": "code",
   "execution_count": null,
   "id": "475f9fe0",
   "metadata": {
    "ExecuteTime": {
     "end_time": "2023-08-22T08:21:18.160477Z",
     "start_time": "2023-08-22T08:21:18.145273Z"
    }
   },
   "outputs": [],
   "source": [
    "a = [1, 2]\n",
    "b = [3, 4, 5]\n",
    "print(a + b) # append"
   ]
  },
  {
   "cell_type": "code",
   "execution_count": 11,
   "id": "56960460",
   "metadata": {
    "ExecuteTime": {
     "end_time": "2023-08-23T01:18:53.144275Z",
     "start_time": "2023-08-23T01:18:53.136262Z"
    }
   },
   "outputs": [
    {
     "name": "stdout",
     "output_type": "stream",
     "text": [
      "[1, 2, [3, 4, 5]]\n"
     ]
    }
   ],
   "source": [
    "a.append([3, 4, 5]) # 중첩리스트\n",
    "print(a)"
   ]
  },
  {
   "cell_type": "code",
   "execution_count": null,
   "id": "077842ef",
   "metadata": {
    "ExecuteTime": {
     "end_time": "2023-08-22T08:21:55.797367Z",
     "start_time": "2023-08-22T08:21:55.778431Z"
    }
   },
   "outputs": [],
   "source": [
    "# extend: 리스트의 뒤에 여러 개의 값을 추가하는 함수\n",
    "a = [1,2]\n",
    "a.extend([3,4,5])\n",
    "print(a)"
   ]
  },
  {
   "cell_type": "code",
   "execution_count": null,
   "id": "8b3e0d6b",
   "metadata": {
    "ExecuteTime": {
     "end_time": "2023-08-22T08:23:26.665697Z",
     "start_time": "2023-08-22T08:23:26.653455Z"
    }
   },
   "outputs": [],
   "source": [
    "# sum: 합계\n",
    "a = [1,2,3,4,5]\n",
    "print(sum(a))"
   ]
  },
  {
   "cell_type": "code",
   "execution_count": null,
   "id": "f8bfecff",
   "metadata": {
    "ExecuteTime": {
     "end_time": "2023-08-22T08:24:02.380722Z",
     "start_time": "2023-08-22T08:24:02.367744Z"
    }
   },
   "outputs": [],
   "source": [
    "# max/min : 최댓값과 최솟값\n",
    "print(max(a))\n",
    "print(min(a))"
   ]
  },
  {
   "cell_type": "code",
   "execution_count": null,
   "id": "6c65c204",
   "metadata": {
    "ExecuteTime": {
     "end_time": "2023-08-22T08:24:21.136408Z",
     "start_time": "2023-08-22T08:24:21.127156Z"
    }
   },
   "outputs": [],
   "source": [
    "# len(): 원소의 개수 반환\n",
    "print(len(a))"
   ]
  },
  {
   "cell_type": "code",
   "execution_count": 12,
   "id": "cdbff1ff",
   "metadata": {
    "ExecuteTime": {
     "end_time": "2023-08-23T01:20:53.096583Z",
     "start_time": "2023-08-23T01:20:53.086609Z"
    }
   },
   "outputs": [
    {
     "name": "stdout",
     "output_type": "stream",
     "text": [
      "[1, 2, 3, 4, 5]\n"
     ]
    }
   ],
   "source": [
    "# sort(): 오름차순 정렬\n",
    "# sort(reverse = True): 내림차순 정렬\n",
    "a = [1,3,2,4,5]\n",
    "a.sort()\n",
    "print(a)"
   ]
  },
  {
   "cell_type": "code",
   "execution_count": 13,
   "id": "8058825d",
   "metadata": {
    "ExecuteTime": {
     "end_time": "2023-08-23T01:20:54.941678Z",
     "start_time": "2023-08-23T01:20:54.934587Z"
    }
   },
   "outputs": [
    {
     "name": "stdout",
     "output_type": "stream",
     "text": [
      "[5, 4, 3, 2, 1]\n"
     ]
    }
   ],
   "source": [
    "a.sort(reverse = True)\n",
    "print(a)"
   ]
  },
  {
   "cell_type": "code",
   "execution_count": 14,
   "id": "a78e5291",
   "metadata": {
    "ExecuteTime": {
     "end_time": "2023-08-23T01:23:09.473382Z",
     "start_time": "2023-08-23T01:23:09.458143Z"
    }
   },
   "outputs": [
    {
     "name": "stdout",
     "output_type": "stream",
     "text": [
      "[4, 5, 2, 3, 1]\n"
     ]
    }
   ],
   "source": [
    "a = [1, 3, 2, 5, 4]\n",
    "# reverse() : 리스트를 역순으로 뒤집는 함수\n",
    "a.reverse()\n",
    "print(a)"
   ]
  },
  {
   "cell_type": "code",
   "execution_count": 15,
   "id": "6e52200f",
   "metadata": {
    "ExecuteTime": {
     "end_time": "2023-08-23T01:25:01.345688Z",
     "start_time": "2023-08-23T01:25:01.334295Z"
    }
   },
   "outputs": [
    {
     "name": "stdout",
     "output_type": "stream",
     "text": [
      "[1, 3, 4, 5]\n",
      "[1, 3, 4, 3, 2]\n"
     ]
    }
   ],
   "source": [
    "# remove(): 값을 삭제\n",
    "a=[1,2,3,4,5]\n",
    "a.remove(2)\n",
    "print(a)\n",
    "\n",
    "a= [1,2,3,4,3,2]\n",
    "a.remove(2)  # 중복값이 있다면 첫번째 값 하나만 삭제\n",
    "print(a)"
   ]
  },
  {
   "cell_type": "code",
   "execution_count": null,
   "id": "50194256",
   "metadata": {
    "ExecuteTime": {
     "end_time": "2023-08-22T08:30:30.805356Z",
     "start_time": "2023-08-22T08:30:30.795449Z"
    }
   },
   "outputs": [],
   "source": [
    "# pop(): 마지막에 입력된 값을 추출(삭제)\n",
    "a = [1,2,3,4,5]\n",
    "a.pop()\n",
    "print(a)"
   ]
  },
  {
   "cell_type": "code",
   "execution_count": null,
   "id": "4a33b2a5",
   "metadata": {
    "ExecuteTime": {
     "end_time": "2023-08-22T08:34:09.252854Z",
     "start_time": "2023-08-22T08:34:09.242247Z"
    }
   },
   "outputs": [],
   "source": [
    "a=[1,2,3,4,5]\n",
    "xx=a.pop()\n",
    "print(xx)"
   ]
  },
  {
   "cell_type": "code",
   "execution_count": null,
   "id": "eb0280d5",
   "metadata": {
    "ExecuteTime": {
     "end_time": "2023-08-22T08:31:22.869513Z",
     "start_time": "2023-08-22T08:31:22.864530Z"
    }
   },
   "outputs": [],
   "source": [
    "# pop(index) # 해당 인덱스 값 제거\n",
    "a.pop(0)\n",
    "print(a)"
   ]
  },
  {
   "cell_type": "code",
   "execution_count": null,
   "id": "6dc52533",
   "metadata": {
    "ExecuteTime": {
     "end_time": "2023-08-22T08:32:23.466289Z",
     "start_time": "2023-08-22T08:32:23.459296Z"
    }
   },
   "outputs": [],
   "source": [
    "# clear(): 리스트의 모든 요소 제거\n",
    "a= [1,2,3,4,5]\n",
    "print(a)\n",
    "a.clear()\n",
    "print(a)"
   ]
  },
  {
   "cell_type": "code",
   "execution_count": 1,
   "id": "62e04666",
   "metadata": {
    "ExecuteTime": {
     "end_time": "2023-09-05T02:58:58.390293Z",
     "start_time": "2023-09-05T02:58:58.379196Z"
    }
   },
   "outputs": [
    {
     "data": {
      "text/plain": [
       "2"
      ]
     },
     "execution_count": 1,
     "metadata": {},
     "output_type": "execute_result"
    }
   ],
   "source": [
    "# count(x): 해당 리스트에서 x의 개수 반환 \n",
    "a=[1,1,2,2,2,3,3,3,3,4,4,4,4,4,5]\n",
    "a.count(1)"
   ]
  },
  {
   "cell_type": "markdown",
   "id": "59464902",
   "metadata": {},
   "source": [
    "# 튜플(Tuple)\n",
    "\n",
    "- 리스트와 유사한 자료구조 유일하게 다른 점은 변경이 불가능하다.\n",
    "- 읽기전용 자료를 보관할 때 사용\n",
    "- 각 값에 인덱스가 부여된다.\n",
    "- 생성: (), tuple()\n",
    "- 리스트 관련 함수를 튜플도 사용 가능"
   ]
  },
  {
   "cell_type": "markdown",
   "id": "94322bd7",
   "metadata": {},
   "source": [
    "## 튜플 생성"
   ]
  },
  {
   "cell_type": "code",
   "execution_count": null,
   "id": "233b5e1d",
   "metadata": {
    "ExecuteTime": {
     "end_time": "2023-08-22T08:37:17.204740Z",
     "start_time": "2023-08-22T08:37:17.198755Z"
    }
   },
   "outputs": [],
   "source": [
    "a = [1,2,3,4,5]\n",
    "b = (1,2,3,4,5)\n",
    "\n",
    "print(a, type(a))\n",
    "print(b, type(b))"
   ]
  },
  {
   "cell_type": "code",
   "execution_count": null,
   "id": "01443aea",
   "metadata": {
    "ExecuteTime": {
     "end_time": "2023-08-22T08:38:08.640538Z",
     "start_time": "2023-08-22T08:38:08.624886Z"
    }
   },
   "outputs": [],
   "source": [
    "a = 1,2,3,4,5\n",
    "print(a, type(a))  # 파이썬의 기본 자료구조는 튜플이다."
   ]
  },
  {
   "cell_type": "code",
   "execution_count": null,
   "id": "f5200628",
   "metadata": {
    "ExecuteTime": {
     "end_time": "2023-08-22T08:40:39.354972Z",
     "start_time": "2023-08-22T08:40:39.337273Z"
    }
   },
   "outputs": [],
   "source": [
    "a = (1,2,3,4,5)\n",
    "# [index]\n",
    "\n",
    "# slicing[start:end]\n",
    "print(a[1])\n",
    "print(a[1:3])"
   ]
  },
  {
   "cell_type": "code",
   "execution_count": null,
   "id": "e8a40de4",
   "metadata": {
    "ExecuteTime": {
     "end_time": "2023-08-22T08:40:42.922722Z",
     "start_time": "2023-08-22T08:40:42.914744Z"
    }
   },
   "outputs": [],
   "source": [
    "a[2] = 100 # 튜플은 변경이 불가능하다."
   ]
  },
  {
   "cell_type": "code",
   "execution_count": null,
   "id": "97a0665d",
   "metadata": {
    "ExecuteTime": {
     "end_time": "2023-08-22T08:41:32.720920Z",
     "start_time": "2023-08-22T08:41:32.701421Z"
    }
   },
   "outputs": [],
   "source": [
    "del a[2] # 튜플은 삭제도 불가능"
   ]
  },
  {
   "cell_type": "code",
   "execution_count": null,
   "id": "a5865da5",
   "metadata": {
    "ExecuteTime": {
     "end_time": "2023-08-22T08:42:16.109875Z",
     "start_time": "2023-08-22T08:42:16.092104Z"
    }
   },
   "outputs": [],
   "source": [
    "print(sum(a))\n",
    "print(min(a))\n",
    "print(max(a))"
   ]
  },
  {
   "cell_type": "code",
   "execution_count": null,
   "id": "1c764960",
   "metadata": {
    "ExecuteTime": {
     "end_time": "2023-08-22T08:43:11.658315Z",
     "start_time": "2023-08-22T08:43:11.652330Z"
    }
   },
   "outputs": [],
   "source": [
    "a = (1,2)\n",
    "b = (3,4,5)\n",
    "\n",
    "print(a+b)\n",
    "print(b * 3)"
   ]
  },
  {
   "cell_type": "code",
   "execution_count": 16,
   "id": "c9b1db35",
   "metadata": {
    "ExecuteTime": {
     "end_time": "2023-08-23T01:33:20.080218Z",
     "start_time": "2023-08-23T01:33:20.065240Z"
    }
   },
   "outputs": [
    {
     "name": "stdout",
     "output_type": "stream",
     "text": [
      "(1, 2, 'a', 'b', 3, 4)\n"
     ]
    }
   ],
   "source": [
    "# 튜플 연산: +, *\n",
    "t1 = (1, 2, 'a', 'b')\n",
    "t2 = (3, 4)\n",
    "\n",
    "t3 = t1 + t2\n",
    "print(t3)"
   ]
  },
  {
   "cell_type": "code",
   "execution_count": 18,
   "id": "5e51c354",
   "metadata": {
    "ExecuteTime": {
     "end_time": "2023-08-23T01:34:52.656894Z",
     "start_time": "2023-08-23T01:34:52.642613Z"
    }
   },
   "outputs": [
    {
     "name": "stdout",
     "output_type": "stream",
     "text": [
      "(3, 4, 3, 4, 3, 4)\n"
     ]
    }
   ],
   "source": [
    "print(t2 * 3)"
   ]
  },
  {
   "cell_type": "code",
   "execution_count": 17,
   "id": "c9b58ec8",
   "metadata": {
    "ExecuteTime": {
     "end_time": "2023-08-23T01:34:05.751582Z",
     "start_time": "2023-08-23T01:34:05.736241Z"
    }
   },
   "outputs": [
    {
     "name": "stdout",
     "output_type": "stream",
     "text": [
      "[1, 2, 3, 4, 5] <class 'list'>\n",
      "(1, 2, 3, 4, 5) <class 'tuple'>\n"
     ]
    }
   ],
   "source": [
    "# 형변환\n",
    "a = [1,2,3,4,5]\n",
    "b = tuple(a)\n",
    "\n",
    "print(a, type(a))\n",
    "print(b, type(b))"
   ]
  },
  {
   "cell_type": "markdown",
   "id": "aee0906e",
   "metadata": {},
   "source": [
    "# 사전(Dictionary)\n",
    "\n",
    "- 파이썬에서 가장 많이 사용되는 자료구조\n",
    "- 데이터 분석을 위한 라이브러리 pandas: 시리즈와 데이터프레임\n",
    "- 키와 값을 쌍으로 관리하는 자료구조\n",
    "- 키는 중복을 허용하지 않지만 값은 중복을 허용한다.\n",
    "- 순서가 중요하지 않다.\n",
    "- 키(key)를 통해 데이터를 읽어온다.\n",
    "- 생성: {}, dict()\n",
    "- 주요함수\n",
    " - 사전.keys(): key만 출력\n",
    " - 사전.values(): values만 출력\n",
    " - 사전.items(): item(key:value)단위로 추출\n",
    " - keys(), values(), items()의 결과는 모두 리스트로 반환된다."
   ]
  },
  {
   "cell_type": "code",
   "execution_count": 19,
   "id": "03fac2ab",
   "metadata": {
    "ExecuteTime": {
     "end_time": "2023-08-23T01:38:09.405110Z",
     "start_time": "2023-08-23T01:38:09.389450Z"
    }
   },
   "outputs": [
    {
     "name": "stdout",
     "output_type": "stream",
     "text": [
      "{} <class 'dict'>\n"
     ]
    }
   ],
   "source": [
    "a = {}\n",
    "print(a, type(a))"
   ]
  },
  {
   "cell_type": "code",
   "execution_count": 20,
   "id": "7aba36d6",
   "metadata": {
    "ExecuteTime": {
     "end_time": "2023-08-23T01:38:57.011578Z",
     "start_time": "2023-08-23T01:38:57.006667Z"
    }
   },
   "outputs": [
    {
     "name": "stdout",
     "output_type": "stream",
     "text": [
      "{} <class 'dict'>\n"
     ]
    }
   ],
   "source": [
    "b = dict()\n",
    "print(b, type(b))"
   ]
  },
  {
   "cell_type": "code",
   "execution_count": 21,
   "id": "484af4cf",
   "metadata": {
    "ExecuteTime": {
     "end_time": "2023-08-23T01:41:03.886955Z",
     "start_time": "2023-08-23T01:41:03.880893Z"
    }
   },
   "outputs": [
    {
     "name": "stdout",
     "output_type": "stream",
     "text": [
      "{'name': '홍길동', 'phone': '010-9999-1234', 'birth': '2023-08-23'}\n"
     ]
    }
   ],
   "source": [
    "dic = {'name':'홍길동', 'phone':'010-9999-1234', 'birth':'2023-08-23'}\n",
    "print(dic)"
   ]
  },
  {
   "cell_type": "code",
   "execution_count": 22,
   "id": "691357d4",
   "metadata": {
    "ExecuteTime": {
     "end_time": "2023-08-23T01:41:51.034876Z",
     "start_time": "2023-08-23T01:41:51.022845Z"
    }
   },
   "outputs": [
    {
     "name": "stdout",
     "output_type": "stream",
     "text": [
      "홍길동\n"
     ]
    }
   ],
   "source": [
    "print(dic['name'])"
   ]
  },
  {
   "cell_type": "code",
   "execution_count": 23,
   "id": "8ccdee78",
   "metadata": {
    "ExecuteTime": {
     "end_time": "2023-08-23T01:42:26.295350Z",
     "start_time": "2023-08-23T01:42:26.280153Z"
    }
   },
   "outputs": [
    {
     "name": "stdout",
     "output_type": "stream",
     "text": [
      "{'name': '장보고', 'phone': '010-9999-1234', 'birth': '2023-08-23'}\n"
     ]
    }
   ],
   "source": [
    "dic['name'] = '장보고'\n",
    "print(dic)"
   ]
  },
  {
   "cell_type": "code",
   "execution_count": 24,
   "id": "014cd86a",
   "metadata": {
    "ExecuteTime": {
     "end_time": "2023-08-23T01:43:38.645828Z",
     "start_time": "2023-08-23T01:43:38.630760Z"
    }
   },
   "outputs": [
    {
     "name": "stdout",
     "output_type": "stream",
     "text": [
      "{'name': '장보고', 'phone': '010-9999-1234'}\n"
     ]
    }
   ],
   "source": [
    "del dic['birth']\n",
    "print(dic)"
   ]
  },
  {
   "cell_type": "code",
   "execution_count": 28,
   "id": "2f1e6df1",
   "metadata": {
    "ExecuteTime": {
     "end_time": "2023-08-23T01:44:41.967705Z",
     "start_time": "2023-08-23T01:44:41.956072Z"
    }
   },
   "outputs": [
    {
     "name": "stdout",
     "output_type": "stream",
     "text": [
      "{'name': '장보고', 'phone': '010-9999-1234', 'gender': 'M'}\n"
     ]
    }
   ],
   "source": [
    "dic['gender'] = 'M'\n",
    "print(dic)"
   ]
  },
  {
   "cell_type": "code",
   "execution_count": 29,
   "id": "7102e9f8",
   "metadata": {
    "ExecuteTime": {
     "end_time": "2023-08-23T01:45:08.188060Z",
     "start_time": "2023-08-23T01:45:08.172509Z"
    }
   },
   "outputs": [
    {
     "data": {
      "text/plain": [
       "dict_keys(['name', 'phone', 'gender'])"
      ]
     },
     "execution_count": 29,
     "metadata": {},
     "output_type": "execute_result"
    }
   ],
   "source": [
    "# key 만 추출\n",
    "dic.keys()  # 리스트로 추출됨 == 인덱스 사용 가능"
   ]
  },
  {
   "cell_type": "code",
   "execution_count": 30,
   "id": "ab6eefa0",
   "metadata": {
    "ExecuteTime": {
     "end_time": "2023-08-23T01:46:42.385811Z",
     "start_time": "2023-08-23T01:46:42.374235Z"
    }
   },
   "outputs": [
    {
     "name": "stdout",
     "output_type": "stream",
     "text": [
      "name\n",
      "phone\n",
      "gender\n"
     ]
    }
   ],
   "source": [
    "# for 개별변수 in 집합변수:\n",
    "for key in dic.keys():\n",
    "    print(key)"
   ]
  },
  {
   "cell_type": "code",
   "execution_count": 31,
   "id": "cb7ad975",
   "metadata": {
    "ExecuteTime": {
     "end_time": "2023-08-23T01:47:24.231211Z",
     "start_time": "2023-08-23T01:47:24.215351Z"
    }
   },
   "outputs": [
    {
     "data": {
      "text/plain": [
       "dict_values(['장보고', '010-9999-1234', 'M'])"
      ]
     },
     "execution_count": 31,
     "metadata": {},
     "output_type": "execute_result"
    }
   ],
   "source": [
    "dic.values()"
   ]
  },
  {
   "cell_type": "code",
   "execution_count": 32,
   "id": "d5dcfb26",
   "metadata": {
    "ExecuteTime": {
     "end_time": "2023-08-23T01:47:41.560570Z",
     "start_time": "2023-08-23T01:47:41.545945Z"
    }
   },
   "outputs": [
    {
     "data": {
      "text/plain": [
       "['장보고', '010-9999-1234', 'M']"
      ]
     },
     "execution_count": 32,
     "metadata": {},
     "output_type": "execute_result"
    }
   ],
   "source": [
    "list(dic.values())"
   ]
  },
  {
   "cell_type": "code",
   "execution_count": 33,
   "id": "341cc0a1",
   "metadata": {
    "ExecuteTime": {
     "end_time": "2023-08-23T01:48:02.526866Z",
     "start_time": "2023-08-23T01:48:02.512877Z"
    }
   },
   "outputs": [
    {
     "data": {
      "text/plain": [
       "dict_items([('name', '장보고'), ('phone', '010-9999-1234'), ('gender', 'M')])"
      ]
     },
     "execution_count": 33,
     "metadata": {},
     "output_type": "execute_result"
    }
   ],
   "source": [
    "dic.items() # 리스트 안에 키와 값이 튜플로 묶여 있음"
   ]
  },
  {
   "cell_type": "code",
   "execution_count": 34,
   "id": "8baa58c8",
   "metadata": {
    "ExecuteTime": {
     "end_time": "2023-08-23T01:49:17.144035Z",
     "start_time": "2023-08-23T01:49:17.136978Z"
    }
   },
   "outputs": [
    {
     "name": "stdout",
     "output_type": "stream",
     "text": [
      "name : 장보고\n",
      "phone : 010-9999-1234\n",
      "gender : M\n"
     ]
    }
   ],
   "source": [
    "for key, value in dic.items():\n",
    "    print(f\"{key} : {value}\")"
   ]
  },
  {
   "cell_type": "code",
   "execution_count": 35,
   "id": "0ae7e617",
   "metadata": {
    "ExecuteTime": {
     "end_time": "2023-08-23T01:50:58.856866Z",
     "start_time": "2023-08-23T01:50:58.846160Z"
    }
   },
   "outputs": [
    {
     "name": "stdout",
     "output_type": "stream",
     "text": [
      "장보고\n",
      "장보고\n"
     ]
    }
   ],
   "source": [
    "# get() : key를 이용해서 value를 얻어오는 함수\n",
    "print(dic['name'])\n",
    "print(dic.get('name'))  # 굳이 필요 없음"
   ]
  },
  {
   "cell_type": "markdown",
   "id": "9461323d",
   "metadata": {},
   "source": [
    "# 집합(Set)\n",
    "- 인덱스가 없고, 값만 저장되는 자료구조\n",
    "- 순서는 의미가 없다. \n",
    "- 생성: set()\n",
    "- 콤마(,)를 기준으로 아이템 구분 \n",
    "- 중복값을 허용하지 않는다."
   ]
  },
  {
   "cell_type": "code",
   "execution_count": 36,
   "id": "2949a5be",
   "metadata": {
    "ExecuteTime": {
     "end_time": "2023-08-23T01:52:25.784006Z",
     "start_time": "2023-08-23T01:52:25.577233Z"
    }
   },
   "outputs": [
    {
     "ename": "TypeError",
     "evalue": "set expected at most 1 argument, got 3",
     "output_type": "error",
     "traceback": [
      "\u001b[1;31m---------------------------------------------------------------------------\u001b[0m",
      "\u001b[1;31mTypeError\u001b[0m                                 Traceback (most recent call last)",
      "\u001b[1;32m<ipython-input-36-6b0b0c619cfe>\u001b[0m in \u001b[0;36m<module>\u001b[1;34m\u001b[0m\n\u001b[1;32m----> 1\u001b[1;33m \u001b[0ms1\u001b[0m \u001b[1;33m=\u001b[0m \u001b[0mset\u001b[0m\u001b[1;33m(\u001b[0m\u001b[1;36m1\u001b[0m\u001b[1;33m,\u001b[0m\u001b[1;36m2\u001b[0m\u001b[1;33m,\u001b[0m\u001b[1;36m3\u001b[0m\u001b[1;33m)\u001b[0m\u001b[1;33m\u001b[0m\u001b[1;33m\u001b[0m\u001b[0m\n\u001b[0m\u001b[0;32m      2\u001b[0m \u001b[0mprint\u001b[0m\u001b[1;33m(\u001b[0m\u001b[0ms1\u001b[0m\u001b[1;33m)\u001b[0m   \u001b[1;31m# Error\u001b[0m\u001b[1;33m\u001b[0m\u001b[1;33m\u001b[0m\u001b[0m\n",
      "\u001b[1;31mTypeError\u001b[0m: set expected at most 1 argument, got 3"
     ]
    }
   ],
   "source": [
    "s1 = set(1,2,3)\n",
    "print(s1)   # Error"
   ]
  },
  {
   "cell_type": "code",
   "execution_count": 37,
   "id": "12faffba",
   "metadata": {
    "ExecuteTime": {
     "end_time": "2023-08-23T01:52:44.707397Z",
     "start_time": "2023-08-23T01:52:44.697430Z"
    }
   },
   "outputs": [
    {
     "name": "stdout",
     "output_type": "stream",
     "text": [
      "{1, 2, 3}\n"
     ]
    }
   ],
   "source": [
    "s1 = set([1,2,3])  # 여러 개의 숫자는 리스트로 묶어서 set으로 캐스팅 해줘야 함\n",
    "print(s1)"
   ]
  },
  {
   "cell_type": "code",
   "execution_count": 38,
   "id": "3f44326a",
   "metadata": {
    "ExecuteTime": {
     "end_time": "2023-08-23T01:53:46.727251Z",
     "start_time": "2023-08-23T01:53:46.722268Z"
    }
   },
   "outputs": [
    {
     "name": "stdout",
     "output_type": "stream",
     "text": [
      "{'y', 't', 'P', 'h', 'o', 'n'}\n"
     ]
    }
   ],
   "source": [
    "s2 = set(\"Python\")\n",
    "print(s2)  # 순서가 없음"
   ]
  },
  {
   "cell_type": "code",
   "execution_count": 39,
   "id": "6b4cf803",
   "metadata": {
    "ExecuteTime": {
     "end_time": "2023-08-23T01:54:29.137734Z",
     "start_time": "2023-08-23T01:54:29.134787Z"
    }
   },
   "outputs": [
    {
     "name": "stdout",
     "output_type": "stream",
     "text": [
      "['y', 't', 'P', 'h', 'o', 'n']\n"
     ]
    }
   ],
   "source": [
    "a = list(s2) # 리스트로 형변환\n",
    "print(a)"
   ]
  },
  {
   "cell_type": "code",
   "execution_count": 41,
   "id": "c680813b",
   "metadata": {
    "ExecuteTime": {
     "end_time": "2023-08-23T01:54:46.981056Z",
     "start_time": "2023-08-23T01:54:46.966107Z"
    }
   },
   "outputs": [
    {
     "name": "stdout",
     "output_type": "stream",
     "text": [
      "('y', 't', 'P', 'h', 'o', 'n')\n"
     ]
    }
   ],
   "source": [
    "b = tuple(s2) # 튜플로 형변환\n",
    "print(b)"
   ]
  },
  {
   "cell_type": "code",
   "execution_count": 42,
   "id": "6fe059b3",
   "metadata": {
    "ExecuteTime": {
     "end_time": "2023-08-23T01:55:32.204711Z",
     "start_time": "2023-08-23T01:55:32.197734Z"
    }
   },
   "outputs": [
    {
     "name": "stdout",
     "output_type": "stream",
     "text": [
      "[1, 2, 3, 3, 4, 5, 6, 6, 7] <class 'list'>\n",
      "{1, 2, 3, 4, 5, 6, 7} <class 'set'>\n"
     ]
    }
   ],
   "source": [
    "a = [1,2,3,3,4,5,6,6,7]\n",
    "print(a, type(a))\n",
    "\n",
    "# 집합은 중복을 허용하지 않는다.\n",
    "b = set(a)\n",
    "print(b, type(b))"
   ]
  },
  {
   "cell_type": "markdown",
   "id": "036f90cc",
   "metadata": {},
   "source": [
    "## 교집합, 합집합, 차집합"
   ]
  },
  {
   "cell_type": "code",
   "execution_count": 43,
   "id": "74d80b27",
   "metadata": {
    "ExecuteTime": {
     "end_time": "2023-08-23T01:58:52.806688Z",
     "start_time": "2023-08-23T01:58:52.798604Z"
    }
   },
   "outputs": [
    {
     "name": "stdout",
     "output_type": "stream",
     "text": [
      "{1, 2, 3, 4, 5, 6, 7, 8, 9}\n",
      "{1, 2, 3, 4, 5, 6, 7, 8, 9}\n"
     ]
    }
   ],
   "source": [
    "s1 = set([1,2,3,4,5,6])\n",
    "s2 = set([4,5,6,7,8,9])\n",
    "\n",
    "## 합집합: '|' or union()\n",
    "print(s1 | s2)\n",
    "print(s1.union(s2))"
   ]
  },
  {
   "cell_type": "code",
   "execution_count": 44,
   "id": "b536017d",
   "metadata": {
    "ExecuteTime": {
     "end_time": "2023-08-23T02:00:02.254942Z",
     "start_time": "2023-08-23T02:00:02.251376Z"
    }
   },
   "outputs": [
    {
     "name": "stdout",
     "output_type": "stream",
     "text": [
      "{4, 5, 6}\n",
      "{4, 5, 6}\n"
     ]
    }
   ],
   "source": [
    "# 교집합: '&' intersection()\n",
    "print(s1 & s2)\n",
    "print(s1.intersection(s2))"
   ]
  },
  {
   "cell_type": "code",
   "execution_count": 45,
   "id": "6094560a",
   "metadata": {
    "ExecuteTime": {
     "end_time": "2023-08-23T02:01:34.975476Z",
     "start_time": "2023-08-23T02:01:34.958199Z"
    }
   },
   "outputs": [
    {
     "name": "stdout",
     "output_type": "stream",
     "text": [
      "{1, 2, 3}\n",
      "{8, 9, 7}\n",
      "{1, 2, 3}\n"
     ]
    }
   ],
   "source": [
    "# 차집합: '-' or difference()\n",
    "print(s1 - s2)\n",
    "print(s2 - s1)\n",
    "print(s1.difference(s2))"
   ]
  },
  {
   "cell_type": "code",
   "execution_count": 46,
   "id": "72005915",
   "metadata": {
    "ExecuteTime": {
     "end_time": "2023-08-23T02:02:04.200936Z",
     "start_time": "2023-08-23T02:02:04.186484Z"
    }
   },
   "outputs": [
    {
     "name": "stdout",
     "output_type": "stream",
     "text": [
      "{1, 2, 3, 4}\n"
     ]
    }
   ],
   "source": [
    "# add(): 하나의 값을 추가하는 함수\n",
    "s1 = set([1,2,3])\n",
    "s1.add(4)\n",
    "print(s1)"
   ]
  },
  {
   "cell_type": "code",
   "execution_count": 47,
   "id": "bc23da70",
   "metadata": {
    "ExecuteTime": {
     "end_time": "2023-08-23T02:03:00.712800Z",
     "start_time": "2023-08-23T02:03:00.699767Z"
    }
   },
   "outputs": [
    {
     "name": "stdout",
     "output_type": "stream",
     "text": [
      "{1, 2, 3, 4, 5, 6}\n"
     ]
    }
   ],
   "source": [
    "# update(): 여러개의 값을 추가하는 함수\n",
    "s1 = set([1,2,3])\n",
    "s1.update([4,5,6])\n",
    "print(s1)"
   ]
  },
  {
   "cell_type": "code",
   "execution_count": 50,
   "id": "4e712143",
   "metadata": {
    "ExecuteTime": {
     "end_time": "2023-08-23T02:04:56.864059Z",
     "start_time": "2023-08-23T02:04:56.854630Z"
    }
   },
   "outputs": [
    {
     "name": "stdout",
     "output_type": "stream",
     "text": [
      "{1, 3}\n"
     ]
    }
   ],
   "source": [
    "# remove(): 특정 값을 제거하는 함수\n",
    "s1 = set([1,2,3])\n",
    "s1.remove(2)\n",
    "print(s1)"
   ]
  },
  {
   "cell_type": "code",
   "execution_count": 51,
   "id": "0d62856e",
   "metadata": {
    "ExecuteTime": {
     "end_time": "2023-08-23T02:22:03.963399Z",
     "start_time": "2023-08-23T02:22:03.955419Z"
    }
   },
   "outputs": [
    {
     "name": "stdout",
     "output_type": "stream",
     "text": [
      "a\t b\t c\t d\t dic\t e\t f\t key\t l1\t \n",
      "s1\t s2\t t1\t t2\t t3\t value\t x\t \n"
     ]
    }
   ],
   "source": [
    "# 매직 명령어\n",
    "# 존재하는 변수 확인\n",
    "%who"
   ]
  },
  {
   "cell_type": "code",
   "execution_count": null,
   "id": "81a974a9",
   "metadata": {},
   "outputs": [],
   "source": []
  }
 ],
 "metadata": {
  "kernelspec": {
   "display_name": "Python 3",
   "language": "python",
   "name": "python3"
  },
  "language_info": {
   "codemirror_mode": {
    "name": "ipython",
    "version": 3
   },
   "file_extension": ".py",
   "mimetype": "text/x-python",
   "name": "python",
   "nbconvert_exporter": "python",
   "pygments_lexer": "ipython3",
   "version": "3.8.8"
  },
  "toc": {
   "base_numbering": 1,
   "nav_menu": {},
   "number_sections": true,
   "sideBar": true,
   "skip_h1_title": false,
   "title_cell": "Table of Contents",
   "title_sidebar": "Contents",
   "toc_cell": false,
   "toc_position": {
    "height": "calc(100% - 180px)",
    "left": "10px",
    "top": "150px",
    "width": "256px"
   },
   "toc_section_display": true,
   "toc_window_display": true
  }
 },
 "nbformat": 4,
 "nbformat_minor": 5
}
