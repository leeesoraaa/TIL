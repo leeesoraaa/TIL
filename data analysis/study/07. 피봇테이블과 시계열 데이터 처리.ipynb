{
 "cells": [
  {
   "cell_type": "markdown",
   "id": "1121906f",
   "metadata": {},
   "source": [
    "# 피봇테이블(Pivot Table)\n",
    "- 데이터 열 중에서 두 개의 열을 각각 행인덱스, 열인덱스로 사용하여 데이터의 조회기능을 높이는 것\n",
    "- pivot(행인덱스, 열인덱스, 데이터"
   ]
  },
  {
   "cell_type": "code",
   "execution_count": 2,
   "id": "316bb387",
   "metadata": {
    "ExecuteTime": {
     "end_time": "2023-09-27T00:16:40.467452Z",
     "start_time": "2023-09-27T00:16:39.969041Z"
    }
   },
   "outputs": [],
   "source": [
    "import numpy as np\n",
    "import pandas as pd"
   ]
  },
  {
   "cell_type": "code",
   "execution_count": 3,
   "id": "9d45cb93",
   "metadata": {
    "ExecuteTime": {
     "end_time": "2023-09-27T00:16:41.935011Z",
     "start_time": "2023-09-27T00:16:41.910333Z"
    }
   },
   "outputs": [
    {
     "data": {
      "text/html": [
       "<div>\n",
       "<style scoped>\n",
       "    .dataframe tbody tr th:only-of-type {\n",
       "        vertical-align: middle;\n",
       "    }\n",
       "\n",
       "    .dataframe tbody tr th {\n",
       "        vertical-align: top;\n",
       "    }\n",
       "\n",
       "    .dataframe thead th {\n",
       "        text-align: right;\n",
       "    }\n",
       "</style>\n",
       "<table border=\"1\" class=\"dataframe\">\n",
       "  <thead>\n",
       "    <tr style=\"text-align: right;\">\n",
       "      <th></th>\n",
       "      <th>도시</th>\n",
       "      <th>연도</th>\n",
       "      <th>인구</th>\n",
       "      <th>지역</th>\n",
       "    </tr>\n",
       "  </thead>\n",
       "  <tbody>\n",
       "    <tr>\n",
       "      <th>0</th>\n",
       "      <td>서울</td>\n",
       "      <td>2015</td>\n",
       "      <td>9904312</td>\n",
       "      <td>수도권</td>\n",
       "    </tr>\n",
       "    <tr>\n",
       "      <th>1</th>\n",
       "      <td>서울</td>\n",
       "      <td>2010</td>\n",
       "      <td>9631482</td>\n",
       "      <td>수도권</td>\n",
       "    </tr>\n",
       "    <tr>\n",
       "      <th>2</th>\n",
       "      <td>서울</td>\n",
       "      <td>2005</td>\n",
       "      <td>9762546</td>\n",
       "      <td>수도권</td>\n",
       "    </tr>\n",
       "    <tr>\n",
       "      <th>3</th>\n",
       "      <td>부산</td>\n",
       "      <td>2015</td>\n",
       "      <td>3448737</td>\n",
       "      <td>경상권</td>\n",
       "    </tr>\n",
       "    <tr>\n",
       "      <th>4</th>\n",
       "      <td>부산</td>\n",
       "      <td>2010</td>\n",
       "      <td>3393191</td>\n",
       "      <td>경상권</td>\n",
       "    </tr>\n",
       "    <tr>\n",
       "      <th>5</th>\n",
       "      <td>부산</td>\n",
       "      <td>2005</td>\n",
       "      <td>3512547</td>\n",
       "      <td>경상권</td>\n",
       "    </tr>\n",
       "    <tr>\n",
       "      <th>6</th>\n",
       "      <td>인천</td>\n",
       "      <td>2015</td>\n",
       "      <td>2890451</td>\n",
       "      <td>수도권</td>\n",
       "    </tr>\n",
       "    <tr>\n",
       "      <th>7</th>\n",
       "      <td>인천</td>\n",
       "      <td>2010</td>\n",
       "      <td>263203</td>\n",
       "      <td>수도권</td>\n",
       "    </tr>\n",
       "  </tbody>\n",
       "</table>\n",
       "</div>"
      ],
      "text/plain": [
       "   도시    연도       인구   지역\n",
       "0  서울  2015  9904312  수도권\n",
       "1  서울  2010  9631482  수도권\n",
       "2  서울  2005  9762546  수도권\n",
       "3  부산  2015  3448737  경상권\n",
       "4  부산  2010  3393191  경상권\n",
       "5  부산  2005  3512547  경상권\n",
       "6  인천  2015  2890451  수도권\n",
       "7  인천  2010   263203  수도권"
      ]
     },
     "execution_count": 3,
     "metadata": {},
     "output_type": "execute_result"
    }
   ],
   "source": [
    "data = {\n",
    "    \"도시\": [\"서울\", \"서울\", \"서울\", \"부산\", \"부산\", \"부산\", \"인천\", \"인천\"],\n",
    "    \"연도\": [\"2015\", \"2010\", \"2005\", \"2015\", \"2010\", \"2005\", \"2015\", \"2010\"],\n",
    "    \"인구\": [9904312, 9631482, 9762546, 3448737, 3393191, 3512547, 2890451, 263203],\n",
    "    \"지역\": [\"수도권\", \"수도권\", \"수도권\", \"경상권\", \"경상권\", \"경상권\", \"수도권\", \"수도권\"]\n",
    "}\n",
    "columns = ['도시', '연도', '인구', '지역']\n",
    "df1 = pd.DataFrame(data, columns = columns)\n",
    "df1"
   ]
  },
  {
   "cell_type": "code",
   "execution_count": 4,
   "id": "1212515f",
   "metadata": {
    "ExecuteTime": {
     "end_time": "2023-09-27T00:16:43.001796Z",
     "start_time": "2023-09-27T00:16:42.979770Z"
    }
   },
   "outputs": [
    {
     "name": "stderr",
     "output_type": "stream",
     "text": [
      "C:\\Users\\NT551_11TH\\AppData\\Local\\Temp\\ipykernel_5616\\1282232882.py:1: FutureWarning: In a future version of pandas all arguments of DataFrame.pivot will be keyword-only.\n",
      "  df1.pivot('도시', '연도', '인구')\n"
     ]
    },
    {
     "data": {
      "text/html": [
       "<div>\n",
       "<style scoped>\n",
       "    .dataframe tbody tr th:only-of-type {\n",
       "        vertical-align: middle;\n",
       "    }\n",
       "\n",
       "    .dataframe tbody tr th {\n",
       "        vertical-align: top;\n",
       "    }\n",
       "\n",
       "    .dataframe thead th {\n",
       "        text-align: right;\n",
       "    }\n",
       "</style>\n",
       "<table border=\"1\" class=\"dataframe\">\n",
       "  <thead>\n",
       "    <tr style=\"text-align: right;\">\n",
       "      <th>연도</th>\n",
       "      <th>2005</th>\n",
       "      <th>2010</th>\n",
       "      <th>2015</th>\n",
       "    </tr>\n",
       "    <tr>\n",
       "      <th>도시</th>\n",
       "      <th></th>\n",
       "      <th></th>\n",
       "      <th></th>\n",
       "    </tr>\n",
       "  </thead>\n",
       "  <tbody>\n",
       "    <tr>\n",
       "      <th>부산</th>\n",
       "      <td>3512547.0</td>\n",
       "      <td>3393191.0</td>\n",
       "      <td>3448737.0</td>\n",
       "    </tr>\n",
       "    <tr>\n",
       "      <th>서울</th>\n",
       "      <td>9762546.0</td>\n",
       "      <td>9631482.0</td>\n",
       "      <td>9904312.0</td>\n",
       "    </tr>\n",
       "    <tr>\n",
       "      <th>인천</th>\n",
       "      <td>NaN</td>\n",
       "      <td>263203.0</td>\n",
       "      <td>2890451.0</td>\n",
       "    </tr>\n",
       "  </tbody>\n",
       "</table>\n",
       "</div>"
      ],
      "text/plain": [
       "연도       2005       2010       2015\n",
       "도시                                 \n",
       "부산  3512547.0  3393191.0  3448737.0\n",
       "서울  9762546.0  9631482.0  9904312.0\n",
       "인천        NaN   263203.0  2890451.0"
      ]
     },
     "execution_count": 4,
     "metadata": {},
     "output_type": "execute_result"
    }
   ],
   "source": [
    "df1.pivot('도시', '연도', '인구')"
   ]
  },
  {
   "cell_type": "markdown",
   "id": "8fcd0735",
   "metadata": {},
   "source": [
    "**set_index 명령과 unstack명령을 이용해서 피봇테이블 생성 가능**"
   ]
  },
  {
   "cell_type": "code",
   "execution_count": 5,
   "id": "8f9427e6",
   "metadata": {
    "ExecuteTime": {
     "end_time": "2023-09-27T00:16:44.751868Z",
     "start_time": "2023-09-27T00:16:44.720831Z"
    }
   },
   "outputs": [
    {
     "data": {
      "text/html": [
       "<div>\n",
       "<style scoped>\n",
       "    .dataframe tbody tr th:only-of-type {\n",
       "        vertical-align: middle;\n",
       "    }\n",
       "\n",
       "    .dataframe tbody tr th {\n",
       "        vertical-align: top;\n",
       "    }\n",
       "\n",
       "    .dataframe thead tr th {\n",
       "        text-align: left;\n",
       "    }\n",
       "\n",
       "    .dataframe thead tr:last-of-type th {\n",
       "        text-align: right;\n",
       "    }\n",
       "</style>\n",
       "<table border=\"1\" class=\"dataframe\">\n",
       "  <thead>\n",
       "    <tr>\n",
       "      <th></th>\n",
       "      <th colspan=\"3\" halign=\"left\">인구</th>\n",
       "    </tr>\n",
       "    <tr>\n",
       "      <th>연도</th>\n",
       "      <th>2005</th>\n",
       "      <th>2010</th>\n",
       "      <th>2015</th>\n",
       "    </tr>\n",
       "    <tr>\n",
       "      <th>도시</th>\n",
       "      <th></th>\n",
       "      <th></th>\n",
       "      <th></th>\n",
       "    </tr>\n",
       "  </thead>\n",
       "  <tbody>\n",
       "    <tr>\n",
       "      <th>부산</th>\n",
       "      <td>3512547.0</td>\n",
       "      <td>3393191.0</td>\n",
       "      <td>3448737.0</td>\n",
       "    </tr>\n",
       "    <tr>\n",
       "      <th>서울</th>\n",
       "      <td>9762546.0</td>\n",
       "      <td>9631482.0</td>\n",
       "      <td>9904312.0</td>\n",
       "    </tr>\n",
       "    <tr>\n",
       "      <th>인천</th>\n",
       "      <td>NaN</td>\n",
       "      <td>263203.0</td>\n",
       "      <td>2890451.0</td>\n",
       "    </tr>\n",
       "  </tbody>\n",
       "</table>\n",
       "</div>"
      ],
      "text/plain": [
       "           인구                      \n",
       "연도       2005       2010       2015\n",
       "도시                                 \n",
       "부산  3512547.0  3393191.0  3448737.0\n",
       "서울  9762546.0  9631482.0  9904312.0\n",
       "인천        NaN   263203.0  2890451.0"
      ]
     },
     "execution_count": 5,
     "metadata": {},
     "output_type": "execute_result"
    }
   ],
   "source": [
    "df1.set_index(['도시', '연도'])[['인구']].unstack()"
   ]
  },
  {
   "cell_type": "code",
   "execution_count": 6,
   "id": "79ad604d",
   "metadata": {
    "ExecuteTime": {
     "end_time": "2023-09-27T00:16:45.686037Z",
     "start_time": "2023-09-27T00:16:45.663426Z"
    }
   },
   "outputs": [
    {
     "name": "stderr",
     "output_type": "stream",
     "text": [
      "C:\\Users\\NT551_11TH\\AppData\\Local\\Temp\\ipykernel_5616\\1419770156.py:2: FutureWarning: In a future version of pandas all arguments of DataFrame.pivot will be keyword-only.\n",
      "  df1.pivot(['지역', '도시'],'연도','인구')\n"
     ]
    },
    {
     "data": {
      "text/html": [
       "<div>\n",
       "<style scoped>\n",
       "    .dataframe tbody tr th:only-of-type {\n",
       "        vertical-align: middle;\n",
       "    }\n",
       "\n",
       "    .dataframe tbody tr th {\n",
       "        vertical-align: top;\n",
       "    }\n",
       "\n",
       "    .dataframe thead th {\n",
       "        text-align: right;\n",
       "    }\n",
       "</style>\n",
       "<table border=\"1\" class=\"dataframe\">\n",
       "  <thead>\n",
       "    <tr style=\"text-align: right;\">\n",
       "      <th></th>\n",
       "      <th>연도</th>\n",
       "      <th>2005</th>\n",
       "      <th>2010</th>\n",
       "      <th>2015</th>\n",
       "    </tr>\n",
       "    <tr>\n",
       "      <th>지역</th>\n",
       "      <th>도시</th>\n",
       "      <th></th>\n",
       "      <th></th>\n",
       "      <th></th>\n",
       "    </tr>\n",
       "  </thead>\n",
       "  <tbody>\n",
       "    <tr>\n",
       "      <th>경상권</th>\n",
       "      <th>부산</th>\n",
       "      <td>3512547.0</td>\n",
       "      <td>3393191.0</td>\n",
       "      <td>3448737.0</td>\n",
       "    </tr>\n",
       "    <tr>\n",
       "      <th rowspan=\"2\" valign=\"top\">수도권</th>\n",
       "      <th>서울</th>\n",
       "      <td>9762546.0</td>\n",
       "      <td>9631482.0</td>\n",
       "      <td>9904312.0</td>\n",
       "    </tr>\n",
       "    <tr>\n",
       "      <th>인천</th>\n",
       "      <td>NaN</td>\n",
       "      <td>263203.0</td>\n",
       "      <td>2890451.0</td>\n",
       "    </tr>\n",
       "  </tbody>\n",
       "</table>\n",
       "</div>"
      ],
      "text/plain": [
       "연도           2005       2010       2015\n",
       "지역  도시                                 \n",
       "경상권 부산  3512547.0  3393191.0  3448737.0\n",
       "수도권 서울  9762546.0  9631482.0  9904312.0\n",
       "    인천        NaN   263203.0  2890451.0"
      ]
     },
     "execution_count": 6,
     "metadata": {},
     "output_type": "execute_result"
    }
   ],
   "source": [
    "# 다중인덱스: 행 또는 열의 인덱스가 하나 이상인 인덱스\n",
    "df1.pivot(['지역', '도시'],'연도','인구')"
   ]
  },
  {
   "cell_type": "markdown",
   "id": "e17dcfdc",
   "metadata": {},
   "source": [
    "# 시계열 데이터 다루기\n",
    "1. DatetimeIndex 객체\n",
    " - pd.to_datetime(): datetime 자료형으로 변환하는 메서드\n",
    " - pd.date_range(): 날짜를 수열로 생성하는 메서드"
   ]
  },
  {
   "cell_type": "code",
   "execution_count": 7,
   "id": "79f048cc",
   "metadata": {
    "ExecuteTime": {
     "end_time": "2023-09-27T00:16:48.834516Z",
     "start_time": "2023-09-27T00:16:48.825876Z"
    }
   },
   "outputs": [
    {
     "data": {
      "text/plain": [
       "DatetimeIndex(['2023-09-27', '2023-10-10', '2023-10-30'], dtype='datetime64[ns]', freq=None)"
      ]
     },
     "execution_count": 7,
     "metadata": {},
     "output_type": "execute_result"
    }
   ],
   "source": [
    "date_str = ['2023.09.27', '2023.10.10', '2023.10.30']  \n",
    "idx = pd.to_datetime(date_str)  # freq = None: 날짜 간격이 일정하지 않음\n",
    "idx"
   ]
  },
  {
   "cell_type": "code",
   "execution_count": 8,
   "id": "bc8cadaf",
   "metadata": {
    "ExecuteTime": {
     "end_time": "2023-09-27T00:17:59.534498Z",
     "start_time": "2023-09-27T00:17:59.515070Z"
    }
   },
   "outputs": [],
   "source": [
    "s = pd.Series(np.random.randn(3), index = idx)"
   ]
  },
  {
   "cell_type": "code",
   "execution_count": 9,
   "id": "945bfe8b",
   "metadata": {
    "ExecuteTime": {
     "end_time": "2023-09-27T00:18:01.925735Z",
     "start_time": "2023-09-27T00:18:01.895724Z"
    }
   },
   "outputs": [
    {
     "data": {
      "text/plain": [
       "2023-09-27   -0.035900\n",
       "2023-10-10   -0.129244\n",
       "2023-10-30   -0.734614\n",
       "dtype: float64"
      ]
     },
     "execution_count": 9,
     "metadata": {},
     "output_type": "execute_result"
    }
   ],
   "source": [
    "s"
   ]
  },
  {
   "cell_type": "markdown",
   "id": "d4f3df9c",
   "metadata": {},
   "source": [
    "**pd.date_range() 모든 날짜/시간을 매번 입력할 필요없이 시작일과 종료일 또는 시작일과 기간을 입력하면 범위내에 인덱스를 자동으로 생성해주는 메서드**"
   ]
  },
  {
   "cell_type": "code",
   "execution_count": 10,
   "id": "a101f9ac",
   "metadata": {
    "ExecuteTime": {
     "end_time": "2023-09-27T00:21:10.052865Z",
     "start_time": "2023-09-27T00:21:10.034318Z"
    }
   },
   "outputs": [
    {
     "data": {
      "text/plain": [
       "DatetimeIndex(['2023-09-27', '2023-09-28', '2023-09-29', '2023-09-30',\n",
       "               '2023-10-01', '2023-10-02', '2023-10-03', '2023-10-04',\n",
       "               '2023-10-05', '2023-10-06', '2023-10-07', '2023-10-08',\n",
       "               '2023-10-09', '2023-10-10', '2023-10-11', '2023-10-12',\n",
       "               '2023-10-13', '2023-10-14', '2023-10-15', '2023-10-16',\n",
       "               '2023-10-17', '2023-10-18', '2023-10-19', '2023-10-20',\n",
       "               '2023-10-21', '2023-10-22', '2023-10-23', '2023-10-24',\n",
       "               '2023-10-25', '2023-10-26', '2023-10-27'],\n",
       "              dtype='datetime64[ns]', freq='D')"
      ]
     },
     "execution_count": 10,
     "metadata": {},
     "output_type": "execute_result"
    }
   ],
   "source": [
    "pd.date_range('2023-09-27', '2023-10-27')  # freq = 'D' : 날짜 간격이 하루"
   ]
  },
  {
   "cell_type": "code",
   "execution_count": 11,
   "id": "90b4f93b",
   "metadata": {
    "ExecuteTime": {
     "end_time": "2023-09-27T00:22:41.000942Z",
     "start_time": "2023-09-27T00:22:40.980143Z"
    }
   },
   "outputs": [
    {
     "data": {
      "text/plain": [
       "DatetimeIndex(['2023-09-27', '2023-09-28', '2023-09-29', '2023-09-30',\n",
       "               '2023-10-01', '2023-10-02', '2023-10-03', '2023-10-04',\n",
       "               '2023-10-05', '2023-10-06', '2023-10-07', '2023-10-08',\n",
       "               '2023-10-09', '2023-10-10', '2023-10-11', '2023-10-12',\n",
       "               '2023-10-13', '2023-10-14', '2023-10-15', '2023-10-16',\n",
       "               '2023-10-17', '2023-10-18', '2023-10-19', '2023-10-20',\n",
       "               '2023-10-21', '2023-10-22', '2023-10-23', '2023-10-24',\n",
       "               '2023-10-25', '2023-10-26'],\n",
       "              dtype='datetime64[ns]', freq='D')"
      ]
     },
     "execution_count": 11,
     "metadata": {},
     "output_type": "execute_result"
    }
   ],
   "source": [
    "pd.date_range('2023-09-27', periods=30)"
   ]
  },
  {
   "cell_type": "markdown",
   "id": "06d2e904",
   "metadata": {},
   "source": [
    "**freq**\n",
    "- D(day): 일\n",
    "- s(second): 초\n",
    "- T: 분\n",
    "- H: 시\n",
    "- B: 주말이 아닌 평일\n",
    "- W(weekday): 주(일요일)\n",
    "- W-MON: 주(월요일)\n",
    "- M(Month): 매 달 마지막 날\n",
    "- https://pandas.pydata.org/pandas-docs/stable/user_guide/timeseries.html#dateoffset-objects"
   ]
  },
  {
   "cell_type": "code",
   "execution_count": 12,
   "id": "a429f85e",
   "metadata": {
    "ExecuteTime": {
     "end_time": "2023-09-27T00:27:15.818992Z",
     "start_time": "2023-09-27T00:27:15.801387Z"
    }
   },
   "outputs": [
    {
     "data": {
      "text/plain": [
       "DatetimeIndex(['2023-09-27', '2023-09-28', '2023-09-29', '2023-10-02',\n",
       "               '2023-10-03', '2023-10-04', '2023-10-05', '2023-10-06',\n",
       "               '2023-10-09', '2023-10-10', '2023-10-11', '2023-10-12',\n",
       "               '2023-10-13', '2023-10-16', '2023-10-17', '2023-10-18',\n",
       "               '2023-10-19', '2023-10-20', '2023-10-23', '2023-10-24',\n",
       "               '2023-10-25', '2023-10-26', '2023-10-27'],\n",
       "              dtype='datetime64[ns]', freq='B')"
      ]
     },
     "execution_count": 12,
     "metadata": {},
     "output_type": "execute_result"
    }
   ],
   "source": [
    "pd.date_range('2023-09-27', '2023-10-27', freq='B')"
   ]
  },
  {
   "cell_type": "code",
   "execution_count": 13,
   "id": "6106d71e",
   "metadata": {
    "ExecuteTime": {
     "end_time": "2023-09-27T00:27:54.247377Z",
     "start_time": "2023-09-27T00:27:54.226673Z"
    }
   },
   "outputs": [
    {
     "data": {
      "text/plain": [
       "DatetimeIndex(['2023-01-01', '2023-01-08', '2023-01-15', '2023-01-22',\n",
       "               '2023-01-29', '2023-02-05', '2023-02-12', '2023-02-19',\n",
       "               '2023-02-26', '2023-03-05', '2023-03-12', '2023-03-19',\n",
       "               '2023-03-26', '2023-04-02', '2023-04-09', '2023-04-16',\n",
       "               '2023-04-23', '2023-04-30', '2023-05-07', '2023-05-14',\n",
       "               '2023-05-21', '2023-05-28', '2023-06-04', '2023-06-11',\n",
       "               '2023-06-18', '2023-06-25', '2023-07-02', '2023-07-09',\n",
       "               '2023-07-16', '2023-07-23', '2023-07-30', '2023-08-06',\n",
       "               '2023-08-13', '2023-08-20', '2023-08-27', '2023-09-03',\n",
       "               '2023-09-10', '2023-09-17', '2023-09-24', '2023-10-01',\n",
       "               '2023-10-08', '2023-10-15', '2023-10-22', '2023-10-29',\n",
       "               '2023-11-05', '2023-11-12', '2023-11-19', '2023-11-26',\n",
       "               '2023-12-03', '2023-12-10', '2023-12-17', '2023-12-24',\n",
       "               '2023-12-31'],\n",
       "              dtype='datetime64[ns]', freq='W-SUN')"
      ]
     },
     "execution_count": 13,
     "metadata": {},
     "output_type": "execute_result"
    }
   ],
   "source": [
    "pd.date_range('2023-01-01', '2023-12-31', freq='W')"
   ]
  },
  {
   "cell_type": "code",
   "execution_count": 14,
   "id": "5abf98c8",
   "metadata": {
    "ExecuteTime": {
     "end_time": "2023-09-27T00:28:46.775003Z",
     "start_time": "2023-09-27T00:28:46.757755Z"
    }
   },
   "outputs": [
    {
     "data": {
      "text/plain": [
       "DatetimeIndex(['2023-01-02', '2023-01-09', '2023-01-16', '2023-01-23',\n",
       "               '2023-01-30', '2023-02-06', '2023-02-13', '2023-02-20',\n",
       "               '2023-02-27', '2023-03-06', '2023-03-13', '2023-03-20',\n",
       "               '2023-03-27', '2023-04-03', '2023-04-10', '2023-04-17',\n",
       "               '2023-04-24', '2023-05-01', '2023-05-08', '2023-05-15',\n",
       "               '2023-05-22', '2023-05-29', '2023-06-05', '2023-06-12',\n",
       "               '2023-06-19', '2023-06-26', '2023-07-03', '2023-07-10',\n",
       "               '2023-07-17', '2023-07-24', '2023-07-31', '2023-08-07',\n",
       "               '2023-08-14', '2023-08-21', '2023-08-28', '2023-09-04',\n",
       "               '2023-09-11', '2023-09-18', '2023-09-25', '2023-10-02',\n",
       "               '2023-10-09', '2023-10-16', '2023-10-23', '2023-10-30',\n",
       "               '2023-11-06', '2023-11-13', '2023-11-20', '2023-11-27',\n",
       "               '2023-12-04', '2023-12-11', '2023-12-18', '2023-12-25'],\n",
       "              dtype='datetime64[ns]', freq='W-MON')"
      ]
     },
     "execution_count": 14,
     "metadata": {},
     "output_type": "execute_result"
    }
   ],
   "source": [
    "pd.date_range('2023-01-01', '2023-12-31', freq='W-MON')"
   ]
  },
  {
   "cell_type": "markdown",
   "id": "0d490ed2",
   "metadata": {},
   "source": [
    "**shift 연산**\n",
    "- 시계열 데이터를 이용하여 연산을 수행하는 것으로 인덱스는 그대로 두고 데이터만 이동하는 연산자"
   ]
  },
  {
   "cell_type": "code",
   "execution_count": 16,
   "id": "82c88c42",
   "metadata": {
    "ExecuteTime": {
     "end_time": "2023-09-27T00:31:13.414464Z",
     "start_time": "2023-09-27T00:31:13.406556Z"
    }
   },
   "outputs": [
    {
     "data": {
      "text/plain": [
       "2023-01-31    0.919173\n",
       "2023-02-28    0.931317\n",
       "2023-03-31    1.138556\n",
       "2023-04-30   -0.362943\n",
       "Freq: M, dtype: float64"
      ]
     },
     "execution_count": 16,
     "metadata": {},
     "output_type": "execute_result"
    }
   ],
   "source": [
    "ts = pd.Series(np.random.randn(4), index = pd.date_range('2023-01-01', periods=4, freq='M'))\n",
    "ts"
   ]
  },
  {
   "cell_type": "code",
   "execution_count": 17,
   "id": "b76ccd04",
   "metadata": {
    "ExecuteTime": {
     "end_time": "2023-09-27T00:32:35.620496Z",
     "start_time": "2023-09-27T00:32:35.603292Z"
    }
   },
   "outputs": [
    {
     "data": {
      "text/plain": [
       "2023-01-31         NaN\n",
       "2023-02-28    0.919173\n",
       "2023-03-31    0.931317\n",
       "2023-04-30    1.138556\n",
       "Freq: M, dtype: float64"
      ]
     },
     "execution_count": 17,
     "metadata": {},
     "output_type": "execute_result"
    }
   ],
   "source": [
    "ts.shift(1)"
   ]
  },
  {
   "cell_type": "code",
   "execution_count": 18,
   "id": "dd40d60b",
   "metadata": {
    "ExecuteTime": {
     "end_time": "2023-09-27T00:32:44.320980Z",
     "start_time": "2023-09-27T00:32:44.306425Z"
    }
   },
   "outputs": [
    {
     "data": {
      "text/plain": [
       "2023-01-31    0.931317\n",
       "2023-02-28    1.138556\n",
       "2023-03-31   -0.362943\n",
       "2023-04-30         NaN\n",
       "Freq: M, dtype: float64"
      ]
     },
     "execution_count": 18,
     "metadata": {},
     "output_type": "execute_result"
    }
   ],
   "source": [
    "ts.shift(-1)"
   ]
  },
  {
   "cell_type": "code",
   "execution_count": 19,
   "id": "f4fc4f25",
   "metadata": {
    "ExecuteTime": {
     "end_time": "2023-09-27T00:33:34.503873Z",
     "start_time": "2023-09-27T00:33:34.485041Z"
    }
   },
   "outputs": [
    {
     "data": {
      "text/plain": [
       "2023-02-28    0.919173\n",
       "2023-03-31    0.931317\n",
       "2023-04-30    1.138556\n",
       "2023-05-31   -0.362943\n",
       "Freq: M, dtype: float64"
      ]
     },
     "execution_count": 19,
     "metadata": {},
     "output_type": "execute_result"
    }
   ],
   "source": [
    "ts.shift(1, freq='M')  # 인덱스가 이동됨"
   ]
  },
  {
   "cell_type": "markdown",
   "id": "8bf0754e",
   "metadata": {},
   "source": [
    "## dt 접근자\n",
    "- datetime 자료형 시리즈에 사용되는 접근자\n",
    "- year, month, day, weekday 속성에 이용된다."
   ]
  },
  {
   "cell_type": "code",
   "execution_count": 20,
   "id": "5d9b55b3",
   "metadata": {
    "ExecuteTime": {
     "end_time": "2023-09-27T00:36:16.011490Z",
     "start_time": "2023-09-27T00:36:16.002278Z"
    }
   },
   "outputs": [
    {
     "data": {
      "text/plain": [
       "0    2020-12-25\n",
       "1    2020-12-26\n",
       "2    2020-12-27\n",
       "3    2020-12-28\n",
       "4    2020-12-29\n",
       "        ...    \n",
       "95   2021-03-30\n",
       "96   2021-03-31\n",
       "97   2021-04-01\n",
       "98   2021-04-02\n",
       "99   2021-04-03\n",
       "Length: 100, dtype: datetime64[ns]"
      ]
     },
     "execution_count": 20,
     "metadata": {},
     "output_type": "execute_result"
    }
   ],
   "source": [
    "s = pd.Series(pd.date_range('2020-12-25', periods=100, freq='D'))\n",
    "s"
   ]
  },
  {
   "cell_type": "code",
   "execution_count": 21,
   "id": "b2aa1264",
   "metadata": {
    "ExecuteTime": {
     "end_time": "2023-09-27T00:37:16.645343Z",
     "start_time": "2023-09-27T00:37:16.623195Z"
    }
   },
   "outputs": [
    {
     "data": {
      "text/plain": [
       "0     2020\n",
       "1     2020\n",
       "2     2020\n",
       "3     2020\n",
       "4     2020\n",
       "      ... \n",
       "95    2021\n",
       "96    2021\n",
       "97    2021\n",
       "98    2021\n",
       "99    2021\n",
       "Length: 100, dtype: int64"
      ]
     },
     "execution_count": 21,
     "metadata": {},
     "output_type": "execute_result"
    }
   ],
   "source": [
    "s.dt.year"
   ]
  },
  {
   "cell_type": "code",
   "execution_count": 22,
   "id": "02c6f331",
   "metadata": {
    "ExecuteTime": {
     "end_time": "2023-09-27T00:37:24.286090Z",
     "start_time": "2023-09-27T00:37:24.272118Z"
    }
   },
   "outputs": [
    {
     "data": {
      "text/plain": [
       "0     4\n",
       "1     5\n",
       "2     6\n",
       "3     0\n",
       "4     1\n",
       "     ..\n",
       "95    1\n",
       "96    2\n",
       "97    3\n",
       "98    4\n",
       "99    5\n",
       "Length: 100, dtype: int64"
      ]
     },
     "execution_count": 22,
     "metadata": {},
     "output_type": "execute_result"
    }
   ],
   "source": [
    "s.dt.weekday"
   ]
  },
  {
   "cell_type": "markdown",
   "id": "5b7e1f71",
   "metadata": {},
   "source": [
    "- strftime: 날짜 시간 데이터를 문자열로 변환하는 메서드"
   ]
  },
  {
   "cell_type": "code",
   "execution_count": 23,
   "id": "1dcdcffc",
   "metadata": {
    "ExecuteTime": {
     "end_time": "2023-09-27T00:39:28.117587Z",
     "start_time": "2023-09-27T00:39:28.102705Z"
    }
   },
   "outputs": [
    {
     "data": {
      "text/plain": [
       "0     2020년 12월 25일\n",
       "1     2020년 12월 26일\n",
       "2     2020년 12월 27일\n",
       "3     2020년 12월 28일\n",
       "4     2020년 12월 29일\n",
       "          ...      \n",
       "95    2021년 03월 30일\n",
       "96    2021년 03월 31일\n",
       "97    2021년 04월 01일\n",
       "98    2021년 04월 02일\n",
       "99    2021년 04월 03일\n",
       "Length: 100, dtype: object"
      ]
     },
     "execution_count": 23,
     "metadata": {},
     "output_type": "execute_result"
    }
   ],
   "source": [
    "s.dt.strftime('%Y년 %m월 %d일')"
   ]
  },
  {
   "cell_type": "code",
   "execution_count": null,
   "id": "58a98e1c",
   "metadata": {},
   "outputs": [],
   "source": []
  }
 ],
 "metadata": {
  "kernelspec": {
   "display_name": "Python 3 (ipykernel)",
   "language": "python",
   "name": "python3"
  },
  "language_info": {
   "codemirror_mode": {
    "name": "ipython",
    "version": 3
   },
   "file_extension": ".py",
   "mimetype": "text/x-python",
   "name": "python",
   "nbconvert_exporter": "python",
   "pygments_lexer": "ipython3",
   "version": "3.8.17"
  },
  "toc": {
   "base_numbering": 1,
   "nav_menu": {},
   "number_sections": true,
   "sideBar": true,
   "skip_h1_title": false,
   "title_cell": "Table of Contents",
   "title_sidebar": "Contents",
   "toc_cell": false,
   "toc_position": {},
   "toc_section_display": true,
   "toc_window_display": false
  }
 },
 "nbformat": 4,
 "nbformat_minor": 5
}
