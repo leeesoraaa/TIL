{
 "cells": [
  {
   "cell_type": "markdown",
   "id": "34fb6362",
   "metadata": {},
   "source": [
    "# 양의 정수를 1, 2, 4 세 개의 수로만 표현하는 프로그램을 구현하시오.\n",
    "- 3으로 나눈 경우의 몫과 나머지를 이용: divmode(숫자, 나누는 수) => 몫과 나머지\n",
    "- 나머지의 표현을 0이면 4, 1이면 1, 2이면 2로 표현할 것.\n",
    "- 1부터 200까지의 수를 이용하여 구현할 것."
   ]
  },
  {
   "cell_type": "code",
   "execution_count": 4,
   "id": "3dd13396",
   "metadata": {
    "ExecuteTime": {
     "end_time": "2023-08-31T08:30:12.490448Z",
     "start_time": "2023-08-31T08:30:12.478455Z"
    }
   },
   "outputs": [
    {
     "name": "stdout",
     "output_type": "stream",
     "text": [
      "12412412412412412412412412412412412412412412412412412412412412412412412412412412412412412412412412412412412412412412412412412412412412412412412412412412412412412412412412412412412412412412412412412412"
     ]
    }
   ],
   "source": [
    "for i in range(1, 201):\n",
    "    if i % 3 == 0:\n",
    "        i = 4\n",
    "        print(i, end = '')\n",
    "    elif i % 3 == 1:\n",
    "        i = 1\n",
    "        print(i, end = '')\n",
    "    else:\n",
    "        i = 2\n",
    "        print(i, end = '')"
   ]
  },
  {
   "cell_type": "code",
   "execution_count": 5,
   "id": "c8c5c699",
   "metadata": {
    "ExecuteTime": {
     "end_time": "2023-09-01T00:12:21.968945Z",
     "start_time": "2023-09-01T00:12:19.153979Z"
    }
   },
   "outputs": [
    {
     "name": "stdout",
     "output_type": "stream",
     "text": [
      "숫자 = 15\n",
      "15: 4\n",
      "14: 2\n",
      "13: 1\n",
      "12: 4\n",
      "11: 2\n",
      "10: 1\n",
      "9: 4\n",
      "8: 2\n",
      "7: 1\n",
      "6: 4\n",
      "5: 2\n",
      "4: 1\n",
      "3: 4\n",
      "2: 2\n",
      "1: 1\n"
     ]
    }
   ],
   "source": [
    "def onetwofour(number):\n",
    "    while number:\n",
    "        # divmod(a, b): a를 b로 나눈 몫과 나머지를 반환\n",
    "        mok, nmg = divmod(number, 3)\n",
    "        if nmg == 0:\n",
    "            print(f\"{number}: 4\")\n",
    "        elif nmg == 1:\n",
    "            print(f\"{number}: 1\")\n",
    "        else:\n",
    "            print(f\"{number}: 2\")\n",
    "        number -= 1\n",
    "number = int(input(\"숫자 = \"))\n",
    "if number < 1 or number >= 200:\n",
    "    print(\"1이상 200이하의 숫자만 입력하세요.\")\n",
    "else:\n",
    "    onetwofour(number)\n",
    "    "
   ]
  },
  {
   "cell_type": "markdown",
   "id": "5be4a30a",
   "metadata": {},
   "source": [
    "# 문자열 중 가운데 문자를 출력하는 프로그램을 구현하시오.\n",
    "- 문자열의 길이가 짝수일 경우 가운데 두 글자를 반환\n",
    "- 문자열의 길이가 홀수일 경우 가운데 한 글자 반환\n",
    "- 문자열을 입력 받아 구현하되, 문자열의 길이는 최소 5이상 50이하로 작성할 것"
   ]
  },
  {
   "cell_type": "code",
   "execution_count": 3,
   "id": "f1191c1d",
   "metadata": {
    "ExecuteTime": {
     "end_time": "2023-09-01T00:32:43.486519Z",
     "start_time": "2023-09-01T00:32:41.243870Z"
    }
   },
   "outputs": [
    {
     "name": "stdout",
     "output_type": "stream",
     "text": [
      "문자:leesora\n",
      "s\n"
     ]
    }
   ],
   "source": [
    "def word(string):\n",
    "    idx = len(string) // 2\n",
    "    if len(string) % 2 == 0:\n",
    "        return string[idx - 1: idx + 1]\n",
    "    else:\n",
    "        return string[idx]\n",
    "    \n",
    "string = input(\"문자:\")\n",
    "if len(string) < 5 or len(string) > 50:\n",
    "    print(\"문자열의 길이는 5이상 50이하여야합니다.\")\n",
    "else:\n",
    "    print(word(string))"
   ]
  },
  {
   "cell_type": "markdown",
   "id": "7a7aa682",
   "metadata": {},
   "source": [
    "# 두 개의 주사위를 던졌을 때의 합계가 특정 수가 나오는 경우의 수\n",
    "- 주사위 합계를 입력 받아 해당 경우의 수를 추출하시오.\n",
    "- 예: 합계(5) - 1:4, 2:3, 3:2, 4:1"
   ]
  },
  {
   "cell_type": "code",
   "execution_count": 12,
   "id": "8dcf5304",
   "metadata": {
    "ExecuteTime": {
     "end_time": "2023-09-01T00:45:03.464738Z",
     "start_time": "2023-09-01T00:45:02.039637Z"
    }
   },
   "outputs": [
    {
     "name": "stdout",
     "output_type": "stream",
     "text": [
      "합:9\n",
      "\t(3, 6) \t(4, 5) \t(5, 4) \t(6, 3) "
     ]
    }
   ],
   "source": [
    "# 주사위 두 개를 던졌을 때 나오는 경우의 수 : 36\n",
    "def dice(number):\n",
    "    # 첫번째 주사위에서 나오는 경우의 수\n",
    "    for one in range(1, 7):\n",
    "        for two in range(1, 7):\n",
    "            if number == (one + two):\n",
    "                print(f\"\\t({one}, {two})\", end =' ')\n",
    "                \n",
    "try:\n",
    "    number = int(input(\"합:\"))\n",
    "except Exception as e:\n",
    "    print(\"문제를 다시 보세요.\")\n",
    "else:\n",
    "    if number < 1 or number > 12:\n",
    "        print(\"주사위 두 개의 합을 계산하는 문제입니다.\")\n",
    "    else:\n",
    "        dice(number)"
   ]
  },
  {
   "cell_type": "markdown",
   "id": "0cb48341",
   "metadata": {},
   "source": [
    "# 숫자를 입력받아 주어진 출력형식대로 출력하는 프로그램\n",
    "enter a number = 3\n",
    "<code>\n",
    "    ★★★\n",
    "    ★★\n",
    "    ★\n",
    "    ★★\n",
    "    ★★★\n",
    "</code>"
   ]
  },
  {
   "cell_type": "code",
   "execution_count": 19,
   "id": "04dad3de",
   "metadata": {
    "ExecuteTime": {
     "end_time": "2023-09-01T01:19:01.738503Z",
     "start_time": "2023-09-01T01:19:01.728536Z"
    }
   },
   "outputs": [
    {
     "name": "stdout",
     "output_type": "stream",
     "text": [
      "★★★★★★★\n",
      "★★★★★★\n",
      "★★★★★\n",
      "★★★★\n",
      "★★★\n",
      "★★\n",
      "★\n",
      "★★\n",
      "★★★\n",
      "★★★★\n",
      "★★★★★\n",
      "★★★★★★\n",
      "★★★★★★★\n",
      "★★★★★★★★\n"
     ]
    }
   ],
   "source": [
    "def star(number):\n",
    "    for k in range(number): # 행의 수(줄)\n",
    "        for i in range(number - k): # 행의 수와 열의 수가 같을 때\n",
    "            print('★', end = '')\n",
    "        print()\n",
    "    for k in range(number):       \n",
    "        for i in range(k+2):\n",
    "            print('★', end = '')\n",
    "        print()\n",
    "            \n",
    "star(7)"
   ]
  },
  {
   "cell_type": "code",
   "execution_count": 21,
   "id": "963c5d2f",
   "metadata": {
    "ExecuteTime": {
     "end_time": "2023-09-01T01:42:00.425821Z",
     "start_time": "2023-09-01T01:42:00.412462Z"
    }
   },
   "outputs": [
    {
     "name": "stdout",
     "output_type": "stream",
     "text": [
      "★★★★★★★\n",
      "★★★★★★\n",
      "★★★★★\n",
      "★★★★\n",
      "★★★\n",
      "★★\n",
      "★\n",
      "★★\n",
      "★★★\n",
      "★★★★\n",
      "★★★★★\n",
      "★★★★★★\n",
      "★★★★★★★\n"
     ]
    }
   ],
   "source": [
    "def star_t(number):\n",
    "    # 줄 수\n",
    "    for i in range(number, 0 ,-1):\n",
    "        print('★' * i)\n",
    "    for i in range(2, number + 1):\n",
    "        print(\"★\" * i)\n",
    "        \n",
    "star_t(7)"
   ]
  },
  {
   "cell_type": "markdown",
   "id": "6c8e2750",
   "metadata": {},
   "source": [
    "# 피보나치 수열 만드는 프로그램\n",
    "- 1에서 100사이의 수를 대상으로 피보나치 수열을 생성하여 출력하시오.\n",
    "- 피보나치 수열: 1 1 2 3 5 8 13 21 34 55 89"
   ]
  },
  {
   "cell_type": "code",
   "execution_count": 24,
   "id": "8dc144c3",
   "metadata": {
    "ExecuteTime": {
     "end_time": "2023-09-01T01:44:09.306490Z",
     "start_time": "2023-09-01T01:44:09.294504Z"
    }
   },
   "outputs": [
    {
     "name": "stdout",
     "output_type": "stream",
     "text": [
      "1\n",
      "1\n",
      "2\n",
      "3\n",
      "5\n",
      "8\n",
      "13\n",
      "21\n",
      "34\n",
      "55\n",
      "89\n"
     ]
    }
   ],
   "source": [
    "a = 0; b = 1\n",
    "while b <= 100:\n",
    "    print(b)\n",
    "    a,b = b, a+b"
   ]
  },
  {
   "cell_type": "markdown",
   "id": "fa93524e",
   "metadata": {},
   "source": [
    "# 다음 출력 형식과 동일한 출력 결과를 갖는 프로그램 구현\n",
    "<code>\n",
    "    문자열 입력:python\n",
    "    n\n",
    "    on\n",
    "    hon\n",
    "    thon\n",
    "    ython\n",
    "    python\n",
    "</code>"
   ]
  },
  {
   "cell_type": "code",
   "execution_count": 27,
   "id": "7cf84b02",
   "metadata": {
    "ExecuteTime": {
     "end_time": "2023-09-01T05:29:02.587895Z",
     "start_time": "2023-09-01T05:28:59.441093Z"
    }
   },
   "outputs": [
    {
     "name": "stdout",
     "output_type": "stream",
     "text": [
      "문자:leesora\n"
     ]
    }
   ],
   "source": [
    "string = input(\"문자:\")\n",
    "\n",
    "for i in range(0,len(string),-1):\n",
    "    print(string[i:])"
   ]
  },
  {
   "cell_type": "markdown",
   "id": "cd3397ae",
   "metadata": {},
   "source": [
    "# 다음 주어진 출력형식과 동일한 결과를 적는 프로그램 구현\n",
    "<code>\n",
    "    시작 숫자와 마지막 숫자 입력: 2 6\n",
    "    2 3 4 5 6\n",
    "    3 4 5 6 7\n",
    "    4 5 6 7 8\n",
    "    5 6 7 8 9\n",
    "    6 7 8 9 10\n",
    "</code>"
   ]
  },
  {
   "cell_type": "code",
   "execution_count": null,
   "id": "b5d8a21a",
   "metadata": {},
   "outputs": [],
   "source": []
  },
  {
   "cell_type": "markdown",
   "id": "5aea703a",
   "metadata": {},
   "source": [
    "# 다음과 같은 알파벳 피라미드 완성 프로그램을 구현하시오.\n",
    "<code>\n",
    "    문자입력: ABCDE\n",
    "    ABCD\n",
    "    ABC\n",
    "    AB\n",
    "    A\n",
    "</code>"
   ]
  },
  {
   "cell_type": "markdown",
   "id": "1fe64e67",
   "metadata": {},
   "source": [
    "# 알파벳 피라미드 출력\n",
    "<code>\n",
    "    층수 = 7\n",
    "    A\n",
    "    AB\n",
    "    ABC\n",
    "    ABCD\n",
    "    ABCDE\n",
    "    ABCDEF\n",
    "    ABCDEFG\n",
    "</code>"
   ]
  },
  {
   "cell_type": "code",
   "execution_count": null,
   "id": "c0d5f5bf",
   "metadata": {},
   "outputs": [],
   "source": []
  }
 ],
 "metadata": {
  "kernelspec": {
   "display_name": "Python 3",
   "language": "python",
   "name": "python3"
  },
  "language_info": {
   "codemirror_mode": {
    "name": "ipython",
    "version": 3
   },
   "file_extension": ".py",
   "mimetype": "text/x-python",
   "name": "python",
   "nbconvert_exporter": "python",
   "pygments_lexer": "ipython3",
   "version": "3.8.8"
  },
  "toc": {
   "base_numbering": 1,
   "nav_menu": {},
   "number_sections": true,
   "sideBar": true,
   "skip_h1_title": false,
   "title_cell": "Table of Contents",
   "title_sidebar": "Contents",
   "toc_cell": false,
   "toc_position": {},
   "toc_section_display": true,
   "toc_window_display": false
  }
 },
 "nbformat": 4,
 "nbformat_minor": 5
}
