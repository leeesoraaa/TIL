{
 "cells": [
  {
   "cell_type": "markdown",
   "id": "07c963da",
   "metadata": {},
   "source": [
    "# Numpy: Numerical Python의 줄임말\n",
    "- 벡터 및 행렬 연산에 특화된 라이브러리\n",
    "- array 단위로 데이터를 관리함\n",
    "- 행렬(matrix)과 비슷함\n",
    "- 리스트(list), 튜플(tuple), 사전(dictionary)에서 변환 가능\n",
    "- pandas와 함께 데이터 분석에 주로 사용됨"
   ]
  },
  {
   "cell_type": "markdown",
   "id": "9c7bbbc7",
   "metadata": {},
   "source": [
    "# 실습예제"
   ]
  },
  {
   "cell_type": "markdown",
   "id": "2a0918f9",
   "metadata": {},
   "source": [
    "## numpy 모듈 불러오기"
   ]
  },
  {
   "cell_type": "code",
   "execution_count": 2,
   "id": "2d6b4ed4",
   "metadata": {
    "ExecuteTime": {
     "end_time": "2023-09-25T02:35:46.233059Z",
     "start_time": "2023-09-25T02:35:46.128582Z"
    }
   },
   "outputs": [],
   "source": [
    "import numpy as np"
   ]
  },
  {
   "cell_type": "markdown",
   "id": "345527dd",
   "metadata": {},
   "source": [
    "## Array 정의 및 사용하기\n",
    "- 넘파이 배열이라는 표현으로 주로 사용한다.\n",
    "- 자료구조: ndarray객체(Ndarray)"
   ]
  },
  {
   "cell_type": "code",
   "execution_count": 3,
   "id": "e5132355",
   "metadata": {
    "ExecuteTime": {
     "end_time": "2023-09-25T02:11:33.438184Z",
     "start_time": "2023-09-25T02:11:33.429271Z"
    }
   },
   "outputs": [
    {
     "name": "stdout",
     "output_type": "stream",
     "text": [
      "[1 2 3 4 5]\n",
      "<class 'list'>\n",
      "<class 'numpy.ndarray'>\n"
     ]
    }
   ],
   "source": [
    "# 리스트\n",
    "data1 = [1,2,3,4,5]\n",
    "# 리스트를 1차원 넘파이 배열로 변환\n",
    "arr1 = np.array(data1)\n",
    "print(arr1)\n",
    "# type: 객체의 자료형을 확인하는 함수\n",
    "print(type(data1))\n",
    "print(type(arr1))"
   ]
  },
  {
   "cell_type": "code",
   "execution_count": 4,
   "id": "29dda376",
   "metadata": {
    "ExecuteTime": {
     "end_time": "2023-09-25T02:12:42.217837Z",
     "start_time": "2023-09-25T02:12:42.200207Z"
    }
   },
   "outputs": [
    {
     "data": {
      "text/plain": [
       "(5,)"
      ]
     },
     "execution_count": 4,
     "metadata": {},
     "output_type": "execute_result"
    }
   ],
   "source": [
    "# 넘파이 배열의 형태(차원)\n",
    "arr1.shape"
   ]
  },
  {
   "cell_type": "code",
   "execution_count": 6,
   "id": "045ab7f2",
   "metadata": {
    "ExecuteTime": {
     "end_time": "2023-09-25T02:14:46.636926Z",
     "start_time": "2023-09-25T02:14:46.627474Z"
    }
   },
   "outputs": [
    {
     "name": "stdout",
     "output_type": "stream",
     "text": [
      "[[1, 2, 3], [4, 5, 6]]\n",
      "[[1 2 3]\n",
      " [4 5 6]]\n",
      "(2, 3)\n"
     ]
    }
   ],
   "source": [
    "# 2차원 리스트\n",
    "data2 = [[1,2,3], [4,5,6]]\n",
    "# 리스트를 넘파이 2차원 배열로 생성\n",
    "arr2 = np.array(data2)\n",
    "print(data2)\n",
    "print(arr2)\n",
    "print(arr2.shape)"
   ]
  },
  {
   "cell_type": "code",
   "execution_count": 7,
   "id": "beaf9b60",
   "metadata": {
    "ExecuteTime": {
     "end_time": "2023-09-25T02:16:28.342129Z",
     "start_time": "2023-09-25T02:16:28.336145Z"
    }
   },
   "outputs": [
    {
     "name": "stdout",
     "output_type": "stream",
     "text": [
      "[[ 8 10 12]\n",
      " [14 16 18]]\n",
      "[[-6 -6 -6]\n",
      " [-6 -6 -6]]\n",
      "[[ 7 16 27]\n",
      " [40 55 72]]\n",
      "[[0.14285714 0.25       0.33333333]\n",
      " [0.4        0.45454545 0.5       ]]\n"
     ]
    }
   ],
   "source": [
    "arr1 = np.array([[1,2,3], [4,5,6]])\n",
    "arr2 = np.array([[7,8,9], [10,11,12]])\n",
    "# 벡터화 연산: 배열의 구성요소의 같은 위치끼리 연산을 수행\n",
    "print(arr1 + arr2)\n",
    "print(arr1 - arr2)\n",
    "print(arr1 * arr2)\n",
    "print(arr1 / arr2)"
   ]
  },
  {
   "cell_type": "code",
   "execution_count": 8,
   "id": "a94de6e4",
   "metadata": {
    "ExecuteTime": {
     "end_time": "2023-09-25T02:18:18.918289Z",
     "start_time": "2023-09-25T02:18:18.907215Z"
    }
   },
   "outputs": [
    {
     "data": {
      "text/plain": [
       "array([[ 1,  4,  9],\n",
       "       [16, 25, 36]])"
      ]
     },
     "execution_count": 8,
     "metadata": {},
     "output_type": "execute_result"
    }
   ],
   "source": [
    "arr1 ** 2"
   ]
  },
  {
   "cell_type": "code",
   "execution_count": 9,
   "id": "21485ee1",
   "metadata": {
    "ExecuteTime": {
     "end_time": "2023-09-25T02:18:25.326718Z",
     "start_time": "2023-09-25T02:18:25.314731Z"
    }
   },
   "outputs": [
    {
     "data": {
      "text/plain": [
       "dtype('int32')"
      ]
     },
     "execution_count": 9,
     "metadata": {},
     "output_type": "execute_result"
    }
   ],
   "source": [
    "arr1.dtype"
   ]
  },
  {
   "cell_type": "markdown",
   "id": "718c1c7f",
   "metadata": {},
   "source": [
    "**numpy 자료형**\n",
    "- 부호가 있는 정수 int(8, 16, 32, 64)\n",
    "- 부호가 없는 정수 uint(8, 16,32, 64)\n",
    "- 실수 float(16, 32, 64, 128)\n",
    "- 복소수 complex(64, 128, 256)\n",
    "- 블리언 bool(True, False)\n",
    "- 문자열 string\n",
    "- 파이썬 오브젝트(객체) object\n",
    "- 유니코드 unicode"
   ]
  },
  {
   "cell_type": "code",
   "execution_count": 11,
   "id": "1d95b1ee",
   "metadata": {
    "ExecuteTime": {
     "end_time": "2023-09-25T02:23:39.674223Z",
     "start_time": "2023-09-25T02:23:39.666170Z"
    }
   },
   "outputs": [
    {
     "name": "stdout",
     "output_type": "stream",
     "text": [
      "<class 'numpy.ndarray'>\n",
      "홍길동\n",
      "['hon' '장보고' '이순신' '유관순' '김유신']\n",
      "['kim' 'kim' 'kim' '유관순' '김유신']\n"
     ]
    }
   ],
   "source": [
    "names = np.array(['홍길동', '장보고', '이순신', '유관순', '김유신'])\n",
    "print(type(names))\n",
    "print(names[0])\n",
    "names[0] = 'hong'\n",
    "print(names)\n",
    "names[0:3] = 'kim'\n",
    "print(names)"
   ]
  },
  {
   "cell_type": "markdown",
   "id": "fa036685",
   "metadata": {},
   "source": [
    "**numpy 단순 배열 생성**\n",
    "- zeros, ones\n",
    "- zeros_like, ones_like\n",
    "- empty\n",
    "- arange: python의 range()와 동일\n",
    "- linspace, logspace"
   ]
  },
  {
   "cell_type": "code",
   "execution_count": 12,
   "id": "55464546",
   "metadata": {
    "ExecuteTime": {
     "end_time": "2023-09-25T02:26:28.730340Z",
     "start_time": "2023-09-25T02:26:28.722295Z"
    }
   },
   "outputs": [
    {
     "data": {
      "text/plain": [
       "array([0., 0., 0., 0., 0., 0., 0., 0., 0., 0.])"
      ]
     },
     "execution_count": 12,
     "metadata": {},
     "output_type": "execute_result"
    }
   ],
   "source": [
    "# 크기가 정해져 있고, 모든 요소의 값이 0인 배열을 생성 zeros\n",
    "np.zeros(10)"
   ]
  },
  {
   "cell_type": "code",
   "execution_count": 14,
   "id": "2190c149",
   "metadata": {
    "ExecuteTime": {
     "end_time": "2023-09-25T02:27:25.075676Z",
     "start_time": "2023-09-25T02:27:25.065264Z"
    }
   },
   "outputs": [
    {
     "data": {
      "text/plain": [
       "array([[0., 0., 0., 0., 0.],\n",
       "       [0., 0., 0., 0., 0.],\n",
       "       [0., 0., 0., 0., 0.]])"
      ]
     },
     "execution_count": 14,
     "metadata": {},
     "output_type": "execute_result"
    }
   ],
   "source": [
    "np.zeros((3,5))"
   ]
  },
  {
   "cell_type": "code",
   "execution_count": 15,
   "id": "e5fcd4c4",
   "metadata": {
    "ExecuteTime": {
     "end_time": "2023-09-25T02:27:59.050760Z",
     "start_time": "2023-09-25T02:27:59.036556Z"
    }
   },
   "outputs": [
    {
     "data": {
      "text/plain": [
       "array([1., 1., 1., 1., 1., 1., 1., 1., 1.])"
      ]
     },
     "execution_count": 15,
     "metadata": {},
     "output_type": "execute_result"
    }
   ],
   "source": [
    "# np.ones() 함수는 매개변수로 배열의 크기, 모든 요소의 값이 1인 배열이 생성\n",
    "np.ones(9)"
   ]
  },
  {
   "cell_type": "code",
   "execution_count": 16,
   "id": "12137020",
   "metadata": {
    "ExecuteTime": {
     "end_time": "2023-09-25T02:28:20.419798Z",
     "start_time": "2023-09-25T02:28:20.404453Z"
    }
   },
   "outputs": [
    {
     "data": {
      "text/plain": [
       "array([[1., 1., 1., 1., 1., 1., 1., 1., 1., 1.],\n",
       "       [1., 1., 1., 1., 1., 1., 1., 1., 1., 1.]])"
      ]
     },
     "execution_count": 16,
     "metadata": {},
     "output_type": "execute_result"
    }
   ],
   "source": [
    "np.ones((2, 10))"
   ]
  },
  {
   "cell_type": "code",
   "execution_count": 17,
   "id": "1733c034",
   "metadata": {
    "ExecuteTime": {
     "end_time": "2023-09-25T02:30:04.188651Z",
     "start_time": "2023-09-25T02:30:04.176366Z"
    }
   },
   "outputs": [
    {
     "data": {
      "text/plain": [
       "array([0, 1, 2, 3, 4, 5, 6, 7, 8, 9])"
      ]
     },
     "execution_count": 17,
     "metadata": {},
     "output_type": "execute_result"
    }
   ],
   "source": [
    "# np.arange() 순열\n",
    "np.arange(10)"
   ]
  },
  {
   "cell_type": "markdown",
   "id": "12283d84",
   "metadata": {},
   "source": [
    "**Array 연산**\n",
    "- 벡터화 연산: 배열을 구성하는 각 요소들의 같은 위치끼리 개별연산을 수행하는 기능\n",
    "- 브로드 캐스팅: 배열의 크기가 서로 다른 배열연산시 작은 크기의 배열이 큰 크기의 배열의 수에 맞춰서 계산을 수행하는 기능"
   ]
  },
  {
   "cell_type": "code",
   "execution_count": 3,
   "id": "393690f8",
   "metadata": {
    "ExecuteTime": {
     "end_time": "2023-09-25T02:35:51.240318Z",
     "start_time": "2023-09-25T02:35:51.227697Z"
    }
   },
   "outputs": [
    {
     "data": {
      "text/plain": [
       "array([[1, 2, 3],\n",
       "       [4, 5, 6]])"
      ]
     },
     "execution_count": 3,
     "metadata": {},
     "output_type": "execute_result"
    }
   ],
   "source": [
    "arr1 = np.array([[1,2,3,], [4,5,6]])\n",
    "arr1"
   ]
  },
  {
   "cell_type": "code",
   "execution_count": 4,
   "id": "beffe494",
   "metadata": {
    "ExecuteTime": {
     "end_time": "2023-09-25T02:35:55.214842Z",
     "start_time": "2023-09-25T02:35:55.200940Z"
    },
    "scrolled": true
   },
   "outputs": [
    {
     "data": {
      "text/plain": [
       "(2, 3)"
      ]
     },
     "execution_count": 4,
     "metadata": {},
     "output_type": "execute_result"
    }
   ],
   "source": [
    "arr1.shape"
   ]
  },
  {
   "cell_type": "code",
   "execution_count": 5,
   "id": "289e704a",
   "metadata": {
    "ExecuteTime": {
     "end_time": "2023-09-25T02:36:15.138406Z",
     "start_time": "2023-09-25T02:36:15.123793Z"
    }
   },
   "outputs": [
    {
     "data": {
      "text/plain": [
       "array([[10, 11, 12],\n",
       "       [13, 14, 15]])"
      ]
     },
     "execution_count": 5,
     "metadata": {},
     "output_type": "execute_result"
    }
   ],
   "source": [
    "arr2 = np.array([[10,11,12], [13,14,15]])\n",
    "arr2"
   ]
  },
  {
   "cell_type": "code",
   "execution_count": 6,
   "id": "529b390e",
   "metadata": {
    "ExecuteTime": {
     "end_time": "2023-09-25T02:36:19.405453Z",
     "start_time": "2023-09-25T02:36:19.398073Z"
    }
   },
   "outputs": [
    {
     "data": {
      "text/plain": [
       "(2, 3)"
      ]
     },
     "execution_count": 6,
     "metadata": {},
     "output_type": "execute_result"
    }
   ],
   "source": [
    "arr2.shape"
   ]
  },
  {
   "cell_type": "code",
   "execution_count": 7,
   "id": "ee8604b5",
   "metadata": {
    "ExecuteTime": {
     "end_time": "2023-09-25T02:36:39.776765Z",
     "start_time": "2023-09-25T02:36:39.765809Z"
    }
   },
   "outputs": [
    {
     "data": {
      "text/plain": [
       "array([[11, 13, 15],\n",
       "       [17, 19, 21]])"
      ]
     },
     "execution_count": 7,
     "metadata": {},
     "output_type": "execute_result"
    }
   ],
   "source": [
    "# array 덧셈\n",
    "arr1 + arr2"
   ]
  },
  {
   "cell_type": "code",
   "execution_count": 8,
   "id": "0b6cae14",
   "metadata": {
    "ExecuteTime": {
     "end_time": "2023-09-25T02:37:33.197661Z",
     "start_time": "2023-09-25T02:37:33.190473Z"
    }
   },
   "outputs": [
    {
     "data": {
      "text/plain": [
       "array([[-9, -9, -9],\n",
       "       [-9, -9, -9]])"
      ]
     },
     "execution_count": 8,
     "metadata": {},
     "output_type": "execute_result"
    }
   ],
   "source": [
    "arr1 - arr2"
   ]
  },
  {
   "cell_type": "code",
   "execution_count": 9,
   "id": "9d829cd1",
   "metadata": {
    "ExecuteTime": {
     "end_time": "2023-09-25T02:37:39.293637Z",
     "start_time": "2023-09-25T02:37:39.272183Z"
    }
   },
   "outputs": [
    {
     "data": {
      "text/plain": [
       "array([[10, 22, 36],\n",
       "       [52, 70, 90]])"
      ]
     },
     "execution_count": 9,
     "metadata": {},
     "output_type": "execute_result"
    }
   ],
   "source": [
    "arr1 * arr2"
   ]
  },
  {
   "cell_type": "code",
   "execution_count": 13,
   "id": "0bdb2029",
   "metadata": {
    "ExecuteTime": {
     "end_time": "2023-09-25T02:42:25.250476Z",
     "start_time": "2023-09-25T02:42:25.239068Z"
    }
   },
   "outputs": [
    {
     "data": {
      "text/plain": [
       "array([[ 3,  6],\n",
       "       [ 7, 14]])"
      ]
     },
     "execution_count": 13,
     "metadata": {},
     "output_type": "execute_result"
    }
   ],
   "source": [
    "# 행렬곱: a X b와 c x d, b=c\n",
    "a1 = np.array([[1,2], [3,4]])\n",
    "a2 = np.array([[1,2], [1,2]])\n",
    "np.dot(a1, a2)"
   ]
  },
  {
   "cell_type": "code",
   "execution_count": 14,
   "id": "5ec5eec8",
   "metadata": {
    "ExecuteTime": {
     "end_time": "2023-09-25T02:42:31.732010Z",
     "start_time": "2023-09-25T02:42:31.723512Z"
    }
   },
   "outputs": [
    {
     "data": {
      "text/plain": [
       "array([[0.1       , 0.18181818, 0.25      ],\n",
       "       [0.30769231, 0.35714286, 0.4       ]])"
      ]
     },
     "execution_count": 14,
     "metadata": {},
     "output_type": "execute_result"
    }
   ],
   "source": [
    "arr1 / arr2"
   ]
  },
  {
   "cell_type": "code",
   "execution_count": 15,
   "id": "48b77fbc",
   "metadata": {
    "ExecuteTime": {
     "end_time": "2023-09-25T02:42:39.515627Z",
     "start_time": "2023-09-25T02:42:39.501935Z"
    }
   },
   "outputs": [
    {
     "data": {
      "text/plain": [
       "(2, 3)"
      ]
     },
     "execution_count": 15,
     "metadata": {},
     "output_type": "execute_result"
    }
   ],
   "source": [
    "arr1.shape"
   ]
  },
  {
   "cell_type": "code",
   "execution_count": 16,
   "id": "1fa171e1",
   "metadata": {
    "ExecuteTime": {
     "end_time": "2023-09-25T02:42:51.515016Z",
     "start_time": "2023-09-25T02:42:51.504887Z"
    }
   },
   "outputs": [
    {
     "data": {
      "text/plain": [
       "array([10, 11, 12])"
      ]
     },
     "execution_count": 16,
     "metadata": {},
     "output_type": "execute_result"
    }
   ],
   "source": [
    "arr3 = np.array([10,11,12])\n",
    "arr3"
   ]
  },
  {
   "cell_type": "code",
   "execution_count": 17,
   "id": "be531d02",
   "metadata": {
    "ExecuteTime": {
     "end_time": "2023-09-25T02:42:55.830811Z",
     "start_time": "2023-09-25T02:42:55.811073Z"
    }
   },
   "outputs": [
    {
     "data": {
      "text/plain": [
       "(3,)"
      ]
     },
     "execution_count": 17,
     "metadata": {},
     "output_type": "execute_result"
    }
   ],
   "source": [
    "arr3.shape"
   ]
  },
  {
   "cell_type": "code",
   "execution_count": 18,
   "id": "c4a7ebb6",
   "metadata": {
    "ExecuteTime": {
     "end_time": "2023-09-25T02:43:30.539989Z",
     "start_time": "2023-09-25T02:43:30.528354Z"
    }
   },
   "outputs": [
    {
     "data": {
      "text/plain": [
       "array([[11, 13, 15],\n",
       "       [14, 16, 18]])"
      ]
     },
     "execution_count": 18,
     "metadata": {},
     "output_type": "execute_result"
    }
   ],
   "source": [
    "arr1 + arr3"
   ]
  },
  {
   "cell_type": "code",
   "execution_count": 19,
   "id": "dd6bdb66",
   "metadata": {
    "ExecuteTime": {
     "end_time": "2023-09-25T02:43:50.952227Z",
     "start_time": "2023-09-25T02:43:50.938272Z"
    }
   },
   "outputs": [
    {
     "data": {
      "text/plain": [
       "array([[10, 20, 30],\n",
       "       [40, 50, 60]])"
      ]
     },
     "execution_count": 19,
     "metadata": {},
     "output_type": "execute_result"
    }
   ],
   "source": [
    "arr1 * 10"
   ]
  },
  {
   "cell_type": "code",
   "execution_count": 20,
   "id": "8e10a6ff",
   "metadata": {
    "ExecuteTime": {
     "end_time": "2023-09-25T02:44:04.231365Z",
     "start_time": "2023-09-25T02:44:04.221365Z"
    }
   },
   "outputs": [
    {
     "data": {
      "text/plain": [
       "array([[ 1,  4,  9],\n",
       "       [16, 25, 36]])"
      ]
     },
     "execution_count": 20,
     "metadata": {},
     "output_type": "execute_result"
    }
   ],
   "source": [
    "arr1 ** 2"
   ]
  },
  {
   "cell_type": "markdown",
   "id": "fbc44004",
   "metadata": {},
   "source": [
    "Array 인덱싱"
   ]
  },
  {
   "cell_type": "code",
   "execution_count": 21,
   "id": "e2e9f371",
   "metadata": {
    "ExecuteTime": {
     "end_time": "2023-09-25T02:45:06.522448Z",
     "start_time": "2023-09-25T02:45:06.510393Z"
    }
   },
   "outputs": [
    {
     "data": {
      "text/plain": [
       "array([0, 1, 2, 3, 4, 5, 6, 7, 8, 9])"
      ]
     },
     "execution_count": 21,
     "metadata": {},
     "output_type": "execute_result"
    }
   ],
   "source": [
    "arr1 = np.arange(10)\n",
    "arr1"
   ]
  },
  {
   "cell_type": "code",
   "execution_count": 22,
   "id": "e346adc0",
   "metadata": {
    "ExecuteTime": {
     "end_time": "2023-09-25T02:46:00.031092Z",
     "start_time": "2023-09-25T02:46:00.024022Z"
    }
   },
   "outputs": [
    {
     "name": "stdout",
     "output_type": "stream",
     "text": [
      "0\n",
      "3\n"
     ]
    }
   ],
   "source": [
    "# 0번째 요소\n",
    "print(arr1[0])\n",
    "# 3번째 요소\n",
    "print(arr1[3])"
   ]
  },
  {
   "cell_type": "code",
   "execution_count": 24,
   "id": "86cd8a45",
   "metadata": {
    "ExecuteTime": {
     "end_time": "2023-09-25T02:48:22.969745Z",
     "start_time": "2023-09-25T02:48:22.960639Z"
    }
   },
   "outputs": [
    {
     "name": "stdout",
     "output_type": "stream",
     "text": [
      "[3 4 5 6 7 8]\n",
      "[0 1 2 3 4 5 6 7 8 9]\n"
     ]
    }
   ],
   "source": [
    "# 3번째 요소부터 8번째 요소까지 출력\n",
    "print(arr1[3:9])\n",
    "# 전체\n",
    "print(arr1[:])"
   ]
  },
  {
   "cell_type": "code",
   "execution_count": 25,
   "id": "109ad256",
   "metadata": {
    "ExecuteTime": {
     "end_time": "2023-09-25T02:48:53.604733Z",
     "start_time": "2023-09-25T02:48:53.595608Z"
    }
   },
   "outputs": [
    {
     "data": {
      "text/plain": [
       "array([[ 1,  2,  3,  4],\n",
       "       [ 5,  6,  7,  8],\n",
       "       [ 9, 10, 11, 12]])"
      ]
     },
     "execution_count": 25,
     "metadata": {},
     "output_type": "execute_result"
    }
   ],
   "source": [
    "arr2 = np.array([[1,2,3,4], [5,6,7,8], [9, 10, 11, 12]])\n",
    "arr2"
   ]
  },
  {
   "cell_type": "code",
   "execution_count": 26,
   "id": "50447ea1",
   "metadata": {
    "ExecuteTime": {
     "end_time": "2023-09-25T02:49:17.769155Z",
     "start_time": "2023-09-25T02:49:17.763118Z"
    }
   },
   "outputs": [
    {
     "data": {
      "text/plain": [
       "1"
      ]
     },
     "execution_count": 26,
     "metadata": {},
     "output_type": "execute_result"
    }
   ],
   "source": [
    "# 배열명[행, 열], 배열명[행][열]\n",
    "arr2[0,0]"
   ]
  },
  {
   "cell_type": "code",
   "execution_count": 27,
   "id": "7312ee93",
   "metadata": {
    "ExecuteTime": {
     "end_time": "2023-09-25T02:49:25.851016Z",
     "start_time": "2023-09-25T02:49:25.835087Z"
    }
   },
   "outputs": [
    {
     "data": {
      "text/plain": [
       "array([ 9, 10, 11, 12])"
      ]
     },
     "execution_count": 27,
     "metadata": {},
     "output_type": "execute_result"
    }
   ],
   "source": [
    "arr2[2, :]"
   ]
  },
  {
   "cell_type": "code",
   "execution_count": 28,
   "id": "d87889a7",
   "metadata": {
    "ExecuteTime": {
     "end_time": "2023-09-25T02:49:35.484925Z",
     "start_time": "2023-09-25T02:49:35.466306Z"
    }
   },
   "outputs": [
    {
     "data": {
      "text/plain": [
       "12"
      ]
     },
     "execution_count": 28,
     "metadata": {},
     "output_type": "execute_result"
    }
   ],
   "source": [
    "# 2행의 3번째 요소\n",
    "arr2[2, 3]"
   ]
  },
  {
   "cell_type": "code",
   "execution_count": 29,
   "id": "e5fb6679",
   "metadata": {
    "ExecuteTime": {
     "end_time": "2023-09-25T02:50:44.852125Z",
     "start_time": "2023-09-25T02:50:44.844994Z"
    }
   },
   "outputs": [
    {
     "data": {
      "text/plain": [
       "array([ 4,  8, 12])"
      ]
     },
     "execution_count": 29,
     "metadata": {},
     "output_type": "execute_result"
    }
   ],
   "source": [
    "# 모든 행의 3번째 열의 요소\n",
    "arr2[:, 3]"
   ]
  },
  {
   "cell_type": "markdown",
   "id": "e1982e81",
   "metadata": {},
   "source": [
    "**Array의 Boolean Indexing(Mask bit)**"
   ]
  },
  {
   "cell_type": "code",
   "execution_count": 41,
   "id": "91faf053",
   "metadata": {
    "ExecuteTime": {
     "end_time": "2023-09-25T03:00:41.842680Z",
     "start_time": "2023-09-25T03:00:41.834604Z"
    }
   },
   "outputs": [],
   "source": [
    "names = np.array(['Sora', 'Sora', 'kim','lee', \n",
    "                  'jung', 'Sora','park', 'park'])"
   ]
  },
  {
   "cell_type": "code",
   "execution_count": 33,
   "id": "4202ae75",
   "metadata": {
    "ExecuteTime": {
     "end_time": "2023-09-25T02:53:43.342836Z",
     "start_time": "2023-09-25T02:53:43.331732Z"
    }
   },
   "outputs": [
    {
     "data": {
      "text/plain": [
       "(7,)"
      ]
     },
     "execution_count": 33,
     "metadata": {},
     "output_type": "execute_result"
    }
   ],
   "source": [
    "names.shape"
   ]
  },
  {
   "cell_type": "code",
   "execution_count": 42,
   "id": "16f1d7d9",
   "metadata": {
    "ExecuteTime": {
     "end_time": "2023-09-25T03:00:44.193129Z",
     "start_time": "2023-09-25T03:00:44.175227Z"
    }
   },
   "outputs": [
    {
     "data": {
      "text/plain": [
       "array([[ 0.6089141 , -1.25656817, -2.54527496,  0.12678073],\n",
       "       [ 1.07747486,  1.37519878, -0.86494299, -0.90389295],\n",
       "       [-0.01838528,  0.22040602,  0.51948846, -0.07573793],\n",
       "       [ 0.73875793, -0.47538706, -0.91545953, -0.48164586],\n",
       "       [-0.57905478,  1.46849149,  0.4178454 , -1.42543474],\n",
       "       [-0.77238442, -0.1538278 , -0.54749308,  0.61471261],\n",
       "       [ 0.16305772,  0.49114937,  0.44803204, -0.53116569],\n",
       "       [ 0.65678895,  0.49399657,  1.75367612,  0.78094213]])"
      ]
     },
     "execution_count": 42,
     "metadata": {},
     "output_type": "execute_result"
    }
   ],
   "source": [
    "# 정규분포 난수: 평균 0, 표준편차 1\n",
    "data = np.random.randn(8, 4)\n",
    "data"
   ]
  },
  {
   "cell_type": "code",
   "execution_count": 43,
   "id": "3d06f91b",
   "metadata": {
    "ExecuteTime": {
     "end_time": "2023-09-25T03:00:46.841697Z",
     "start_time": "2023-09-25T03:00:46.826881Z"
    },
    "hide_input": false
   },
   "outputs": [
    {
     "data": {
      "text/plain": [
       "array([ True,  True, False, False, False,  True, False, False])"
      ]
     },
     "execution_count": 43,
     "metadata": {},
     "output_type": "execute_result"
    }
   ],
   "source": [
    "# 벡터화 연산\n",
    "mask = names == 'Sora'\n",
    "mask"
   ]
  },
  {
   "cell_type": "code",
   "execution_count": 44,
   "id": "61f5723d",
   "metadata": {
    "ExecuteTime": {
     "end_time": "2023-09-25T03:00:48.562819Z",
     "start_time": "2023-09-25T03:00:48.555317Z"
    }
   },
   "outputs": [
    {
     "data": {
      "text/plain": [
       "array([[ 0.6089141 , -1.25656817, -2.54527496,  0.12678073],\n",
       "       [ 1.07747486,  1.37519878, -0.86494299, -0.90389295],\n",
       "       [-0.77238442, -0.1538278 , -0.54749308,  0.61471261]])"
      ]
     },
     "execution_count": 44,
     "metadata": {},
     "output_type": "execute_result"
    }
   ],
   "source": [
    "data[mask,:]"
   ]
  },
  {
   "cell_type": "code",
   "execution_count": 45,
   "id": "bbbe5926",
   "metadata": {
    "ExecuteTime": {
     "end_time": "2023-09-25T03:01:05.061556Z",
     "start_time": "2023-09-25T03:01:05.054587Z"
    }
   },
   "outputs": [
    {
     "data": {
      "text/plain": [
       "array([[ 0.6089141 , -1.25656817, -2.54527496,  0.12678073],\n",
       "       [ 1.07747486,  1.37519878, -0.86494299, -0.90389295],\n",
       "       [-0.77238442, -0.1538278 , -0.54749308,  0.61471261]])"
      ]
     },
     "execution_count": 45,
     "metadata": {},
     "output_type": "execute_result"
    }
   ],
   "source": [
    "data[names == 'Sora', :]"
   ]
  },
  {
   "cell_type": "code",
   "execution_count": 46,
   "id": "dbadfd1f",
   "metadata": {
    "ExecuteTime": {
     "end_time": "2023-09-25T03:02:31.964340Z",
     "start_time": "2023-09-25T03:02:31.958262Z"
    }
   },
   "outputs": [
    {
     "data": {
      "text/plain": [
       "array([ True,  True, False,  True, False, False,  True,  True])"
      ]
     },
     "execution_count": 46,
     "metadata": {},
     "output_type": "execute_result"
    }
   ],
   "source": [
    "# |(or) &(and)\n",
    "data[:, 0] >0"
   ]
  },
  {
   "cell_type": "code",
   "execution_count": 47,
   "id": "6471faf3",
   "metadata": {
    "ExecuteTime": {
     "end_time": "2023-09-25T03:03:00.190665Z",
     "start_time": "2023-09-25T03:03:00.179633Z"
    }
   },
   "outputs": [
    {
     "data": {
      "text/plain": [
       "array([[ 0.6089141 , -1.25656817, -2.54527496,  0.12678073],\n",
       "       [ 1.07747486,  1.37519878, -0.86494299, -0.90389295],\n",
       "       [ 0.73875793, -0.47538706, -0.91545953, -0.48164586],\n",
       "       [ 0.16305772,  0.49114937,  0.44803204, -0.53116569],\n",
       "       [ 0.65678895,  0.49399657,  1.75367612,  0.78094213]])"
      ]
     },
     "execution_count": 47,
     "metadata": {},
     "output_type": "execute_result"
    }
   ],
   "source": [
    "data[data[:, 0] > 0, :]"
   ]
  },
  {
   "cell_type": "code",
   "execution_count": 49,
   "id": "3e498cb3",
   "metadata": {
    "ExecuteTime": {
     "end_time": "2023-09-25T03:04:58.843209Z",
     "start_time": "2023-09-25T03:04:58.837153Z"
    }
   },
   "outputs": [
    {
     "data": {
      "text/plain": [
       "array([[ 0.51948846, -0.07573793],\n",
       "       [ 0.4178454 , -1.42543474],\n",
       "       [-0.54749308,  0.61471261]])"
      ]
     },
     "execution_count": 49,
     "metadata": {},
     "output_type": "execute_result"
    }
   ],
   "source": [
    "# 0 번째 열의 값이 0보다 작은 행의 2, 3 번째 열 값 추출\n",
    "data[data[:,0]<0, 2:4]"
   ]
  },
  {
   "cell_type": "code",
   "execution_count": 50,
   "id": "d30157ca",
   "metadata": {
    "ExecuteTime": {
     "end_time": "2023-09-25T03:07:25.040183Z",
     "start_time": "2023-09-25T03:07:25.026737Z"
    }
   },
   "outputs": [
    {
     "data": {
      "text/plain": [
       "array([[ 0.6089141 , -1.25656817, -2.54527496,  0.12678073],\n",
       "       [ 1.07747486,  1.37519878, -0.86494299, -0.90389295],\n",
       "       [-0.01838528,  0.22040602,  0.        ,  0.        ],\n",
       "       [ 0.73875793, -0.47538706, -0.91545953, -0.48164586],\n",
       "       [-0.57905478,  1.46849149,  0.        ,  0.        ],\n",
       "       [-0.77238442, -0.1538278 ,  0.        ,  0.        ],\n",
       "       [ 0.16305772,  0.49114937,  0.44803204, -0.53116569],\n",
       "       [ 0.65678895,  0.49399657,  1.75367612,  0.78094213]])"
      ]
     },
     "execution_count": 50,
     "metadata": {},
     "output_type": "execute_result"
    }
   ],
   "source": [
    "# 0 번째 열의 값이 0보다 작은 행의 2, 3 번째 열 값 0으로 치환\n",
    "data[data[:,0]<0, 2:4] = 0\n",
    "data"
   ]
  },
  {
   "cell_type": "code",
   "execution_count": 51,
   "id": "1584f5f8",
   "metadata": {
    "ExecuteTime": {
     "end_time": "2023-09-25T03:19:10.910273Z",
     "start_time": "2023-09-25T03:19:10.894967Z"
    }
   },
   "outputs": [
    {
     "data": {
      "text/plain": [
       "32"
      ]
     },
     "execution_count": 51,
     "metadata": {},
     "output_type": "execute_result"
    }
   ],
   "source": [
    "# 요소의 갯수 \n",
    "data.size"
   ]
  },
  {
   "cell_type": "code",
   "execution_count": 52,
   "id": "901694e9",
   "metadata": {
    "ExecuteTime": {
     "end_time": "2023-09-25T03:19:28.658053Z",
     "start_time": "2023-09-25T03:19:28.640604Z"
    }
   },
   "outputs": [
    {
     "data": {
      "text/plain": [
       "array([0, 1, 2, 3, 4, 5, 6, 7, 8, 9])"
      ]
     },
     "execution_count": 52,
     "metadata": {},
     "output_type": "execute_result"
    }
   ],
   "source": [
    "# 배열의 형태 변환: reshape()\n",
    "\n",
    "arr1 = np.arange(10)\n",
    "arr1"
   ]
  },
  {
   "cell_type": "code",
   "execution_count": 53,
   "id": "2830bef5",
   "metadata": {
    "ExecuteTime": {
     "end_time": "2023-09-25T03:19:33.315621Z",
     "start_time": "2023-09-25T03:19:33.298245Z"
    }
   },
   "outputs": [
    {
     "data": {
      "text/plain": [
       "1"
      ]
     },
     "execution_count": 53,
     "metadata": {},
     "output_type": "execute_result"
    }
   ],
   "source": [
    "arr1[1]"
   ]
  },
  {
   "cell_type": "code",
   "execution_count": 56,
   "id": "e4ae1ea7",
   "metadata": {
    "ExecuteTime": {
     "end_time": "2023-09-25T03:19:57.421392Z",
     "start_time": "2023-09-25T03:19:57.416331Z"
    }
   },
   "outputs": [
    {
     "data": {
      "text/plain": [
       "array([[0, 1, 2],\n",
       "       [3, 4, 5],\n",
       "       [6, 7, 8]])"
      ]
     },
     "execution_count": 56,
     "metadata": {},
     "output_type": "execute_result"
    }
   ],
   "source": [
    "arr2 = np.arange(9).reshape(3, 3)\n",
    "arr2"
   ]
  },
  {
   "cell_type": "code",
   "execution_count": 57,
   "id": "91d06f7d",
   "metadata": {
    "ExecuteTime": {
     "end_time": "2023-09-25T03:20:13.520066Z",
     "start_time": "2023-09-25T03:20:13.513025Z"
    }
   },
   "outputs": [
    {
     "data": {
      "text/plain": [
       "7"
      ]
     },
     "execution_count": 57,
     "metadata": {},
     "output_type": "execute_result"
    }
   ],
   "source": [
    "arr2[2,1]"
   ]
  },
  {
   "cell_type": "code",
   "execution_count": 58,
   "id": "66b69b47",
   "metadata": {
    "ExecuteTime": {
     "end_time": "2023-09-25T03:21:38.640581Z",
     "start_time": "2023-09-25T03:21:38.629482Z"
    }
   },
   "outputs": [
    {
     "data": {
      "text/plain": [
       "array([[[ 0,  1,  2,  3],\n",
       "        [ 4,  5,  6,  7],\n",
       "        [ 8,  9, 10, 11]],\n",
       "\n",
       "       [[12, 13, 14, 15],\n",
       "        [16, 17, 18, 19],\n",
       "        [20, 21, 22, 23]]])"
      ]
     },
     "execution_count": 58,
     "metadata": {},
     "output_type": "execute_result"
    }
   ],
   "source": [
    "arr3 = np.reshape(np.arange(24), (2,3,4))\n",
    "arr3"
   ]
  },
  {
   "cell_type": "code",
   "execution_count": 59,
   "id": "b2f0594f",
   "metadata": {
    "ExecuteTime": {
     "end_time": "2023-09-25T03:22:05.477823Z",
     "start_time": "2023-09-25T03:22:05.460805Z"
    }
   },
   "outputs": [
    {
     "data": {
      "text/plain": [
       "18"
      ]
     },
     "execution_count": 59,
     "metadata": {},
     "output_type": "execute_result"
    }
   ],
   "source": [
    "arr3[1, 1, 2]"
   ]
  },
  {
   "cell_type": "code",
   "execution_count": 60,
   "id": "0b2e382e",
   "metadata": {
    "ExecuteTime": {
     "end_time": "2023-09-25T03:22:33.574953Z",
     "start_time": "2023-09-25T03:22:33.554518Z"
    }
   },
   "outputs": [
    {
     "data": {
      "text/plain": [
       "23"
      ]
     },
     "execution_count": 60,
     "metadata": {},
     "output_type": "execute_result"
    }
   ],
   "source": [
    "arr3[1][2][3]"
   ]
  },
  {
   "cell_type": "markdown",
   "id": "77d971ec",
   "metadata": {},
   "source": [
    "**slicing(슬라이싱): 데이터의 일부분을 추출**\n",
    "- 모든 배열은 항상 원본 배열의 뷰(view)이다.\n",
    "- 뷰(view)는 원본 객체를 인덱싱하여 자른 후 생성된 배열을 뜻한다.\n",
    "- 데이터베이스(Oracle)의 뷰(view)는 "
   ]
  },
  {
   "cell_type": "code",
   "execution_count": 61,
   "id": "9d6b52c9",
   "metadata": {
    "ExecuteTime": {
     "end_time": "2023-09-25T03:26:50.661835Z",
     "start_time": "2023-09-25T03:26:50.656806Z"
    }
   },
   "outputs": [
    {
     "data": {
      "text/plain": [
       "array([0, 1, 2, 3, 4, 5])"
      ]
     },
     "execution_count": 61,
     "metadata": {},
     "output_type": "execute_result"
    }
   ],
   "source": [
    "arr1[0:6]"
   ]
  },
  {
   "cell_type": "code",
   "execution_count": 62,
   "id": "0f0f3549",
   "metadata": {
    "ExecuteTime": {
     "end_time": "2023-09-25T03:27:01.206338Z",
     "start_time": "2023-09-25T03:27:01.195305Z"
    }
   },
   "outputs": [
    {
     "data": {
      "text/plain": [
       "array([1, 3, 5, 7, 9])"
      ]
     },
     "execution_count": 62,
     "metadata": {},
     "output_type": "execute_result"
    }
   ],
   "source": [
    "arr1[1::2]  # 2개씩 건너뛰어서 추출"
   ]
  },
  {
   "cell_type": "code",
   "execution_count": 63,
   "id": "b332fb51",
   "metadata": {
    "ExecuteTime": {
     "end_time": "2023-09-25T03:27:44.197462Z",
     "start_time": "2023-09-25T03:27:44.191451Z"
    }
   },
   "outputs": [
    {
     "data": {
      "text/plain": [
       "array([1, 3, 5])"
      ]
     },
     "execution_count": 63,
     "metadata": {},
     "output_type": "execute_result"
    }
   ],
   "source": [
    "arr1[1:7:2]"
   ]
  },
  {
   "cell_type": "code",
   "execution_count": 64,
   "id": "6c3c744c",
   "metadata": {
    "ExecuteTime": {
     "end_time": "2023-09-25T03:28:28.806644Z",
     "start_time": "2023-09-25T03:28:28.795832Z"
    }
   },
   "outputs": [
    {
     "data": {
      "text/plain": [
       "array([0, 2, 4, 6, 8])"
      ]
     },
     "execution_count": 64,
     "metadata": {},
     "output_type": "execute_result"
    }
   ],
   "source": [
    "arr1[::2]"
   ]
  },
  {
   "cell_type": "code",
   "execution_count": 65,
   "id": "09605a9e",
   "metadata": {
    "ExecuteTime": {
     "end_time": "2023-09-25T03:30:09.345110Z",
     "start_time": "2023-09-25T03:30:09.329671Z"
    }
   },
   "outputs": [
    {
     "data": {
      "text/plain": [
       "array([7, 8])"
      ]
     },
     "execution_count": 65,
     "metadata": {},
     "output_type": "execute_result"
    }
   ],
   "source": [
    "# 리버스 인덱스는 배열의 뒤에서부터 인덱스 값이 -1로 시작되는 인덱스\n",
    "arr1[-3:9]"
   ]
  },
  {
   "cell_type": "code",
   "execution_count": 66,
   "id": "71b38c76",
   "metadata": {
    "ExecuteTime": {
     "end_time": "2023-09-25T03:30:15.587048Z",
     "start_time": "2023-09-25T03:30:15.581098Z"
    }
   },
   "outputs": [
    {
     "data": {
      "text/plain": [
       "array([0, 1, 2, 3, 4, 5, 6])"
      ]
     },
     "execution_count": 66,
     "metadata": {},
     "output_type": "execute_result"
    }
   ],
   "source": [
    "arr1[:-3]"
   ]
  },
  {
   "cell_type": "code",
   "execution_count": 67,
   "id": "2689e77c",
   "metadata": {
    "ExecuteTime": {
     "end_time": "2023-09-25T03:30:29.790075Z",
     "start_time": "2023-09-25T03:30:29.771960Z"
    }
   },
   "outputs": [
    {
     "data": {
      "text/plain": [
       "array([[0, 1, 2],\n",
       "       [3, 4, 5],\n",
       "       [6, 7, 8]])"
      ]
     },
     "execution_count": 67,
     "metadata": {},
     "output_type": "execute_result"
    }
   ],
   "source": [
    "arr2"
   ]
  },
  {
   "cell_type": "code",
   "execution_count": 68,
   "id": "0a1579bf",
   "metadata": {
    "ExecuteTime": {
     "end_time": "2023-09-25T03:31:24.703173Z",
     "start_time": "2023-09-25T03:31:24.692373Z"
    }
   },
   "outputs": [
    {
     "data": {
      "text/plain": [
       "array([[0, 1],\n",
       "       [3, 4]])"
      ]
     },
     "execution_count": 68,
     "metadata": {},
     "output_type": "execute_result"
    }
   ],
   "source": [
    "arr2[:2, :2]"
   ]
  },
  {
   "cell_type": "code",
   "execution_count": 71,
   "id": "a4531131",
   "metadata": {
    "ExecuteTime": {
     "end_time": "2023-09-25T03:32:58.030789Z",
     "start_time": "2023-09-25T03:32:58.021315Z"
    }
   },
   "outputs": [
    {
     "data": {
      "text/plain": [
       "array([[2, 1, 0],\n",
       "       [5, 4, 3],\n",
       "       [8, 7, 6]])"
      ]
     },
     "execution_count": 71,
     "metadata": {},
     "output_type": "execute_result"
    }
   ],
   "source": [
    "arr2[:,::-1]  # 모든 값을 역순 출력"
   ]
  },
  {
   "cell_type": "markdown",
   "id": "55072cf2",
   "metadata": {},
   "source": [
    "## Numpy 기술 통계 관련 함수\n",
    "- 간단한 통계를 계산할 때 사용하는 함수\n",
    "- 데이터의 개수(count)\n",
    "- 평균(mean, average)\n",
    "- 분산(var, varaiance)\n",
    "- 표준편차(std, standart deviation)\n",
    "- 최대값(max, maximum)\n",
    "- 최소값(min, minimum)\n",
    "- 중앙값(median)\n",
    "- 사분위수(quantile)"
   ]
  },
  {
   "cell_type": "markdown",
   "id": "5b6e2a58",
   "metadata": {},
   "source": [
    "## 집계 함수(Aggregate Function)\n",
    "- numpy의 모든 집계 함수는 axis를 기준으로 계산된다\n",
    "- 집계함수에 axis를 지정하지 않으면 axis=None이다.\n",
    "- axis = None, 0, 1이다.\n",
    "- axis = None: 전체 행렬을 하나의 배열로 간주하여 범위 전체를 대상으로 계산\n",
    "- axis = 0: 행을 기준으로 각 행의 동일한 인덱스의 요소를 그룹으로 계산(열단위 계산)\n",
    "- axis = 1: 열을 기준으로 각 열의 같은 인덱스의 요소를 그룹으로 계산(행단위 계산)"
   ]
  },
  {
   "cell_type": "code",
   "execution_count": 72,
   "id": "e5142c40",
   "metadata": {
    "ExecuteTime": {
     "end_time": "2023-09-25T03:43:12.772868Z",
     "start_time": "2023-09-25T03:43:12.764734Z"
    }
   },
   "outputs": [
    {
     "name": "stdout",
     "output_type": "stream",
     "text": [
      "[[1 2 3]\n",
      " [4 5 6]\n",
      " [7 8 9]]\n"
     ]
    }
   ],
   "source": [
    "a = np.arange(1, 10).reshape(3, 3)\n",
    "print(a)"
   ]
  },
  {
   "cell_type": "markdown",
   "id": "ef5d1f18",
   "metadata": {},
   "source": [
    "수업에서 사용할 함수 정의"
   ]
  },
  {
   "cell_type": "code",
   "execution_count": 73,
   "id": "9713c35f",
   "metadata": {
    "ExecuteTime": {
     "end_time": "2023-09-25T03:46:33.233783Z",
     "start_time": "2023-09-25T03:46:33.223396Z"
    }
   },
   "outputs": [],
   "source": [
    "def pprint(arr):\n",
    "    print(\"type : {}\".format(type(arr)))\n",
    "    print(\"shape : {}, dimension : {}, dtype : {}\".format(arr.shape, arr.ndim, arr.dtype))\n",
    "    print(\"Array's Data: \\n\", arr)"
   ]
  },
  {
   "cell_type": "code",
   "execution_count": 74,
   "id": "7f0d7310",
   "metadata": {
    "ExecuteTime": {
     "end_time": "2023-09-25T03:47:06.634302Z",
     "start_time": "2023-09-25T03:47:06.616961Z"
    }
   },
   "outputs": [
    {
     "name": "stdout",
     "output_type": "stream",
     "text": [
      "type : <class 'numpy.ndarray'>\n",
      "shape : (3, 3), dimension : 2, dtype : int32\n",
      "Array's Data: \n",
      " [[1 2 3]\n",
      " [4 5 6]\n",
      " [7 8 9]]\n"
     ]
    }
   ],
   "source": [
    "pprint(a)"
   ]
  },
  {
   "cell_type": "code",
   "execution_count": 75,
   "id": "f534e323",
   "metadata": {
    "ExecuteTime": {
     "end_time": "2023-09-25T03:50:33.176021Z",
     "start_time": "2023-09-25T03:50:33.159137Z"
    }
   },
   "outputs": [
    {
     "data": {
      "text/plain": [
       "(45, 45)"
      ]
     },
     "execution_count": 75,
     "metadata": {},
     "output_type": "execute_result"
    }
   ],
   "source": [
    "# ndarray 배열객체.함수()\n",
    "# np.함수(객체)\n",
    "a.sum(), np.sum(a)"
   ]
  },
  {
   "cell_type": "code",
   "execution_count": 76,
   "id": "3b791789",
   "metadata": {
    "ExecuteTime": {
     "end_time": "2023-09-25T03:50:55.034885Z",
     "start_time": "2023-09-25T03:50:55.016737Z"
    }
   },
   "outputs": [
    {
     "data": {
      "text/plain": [
       "(array([12, 15, 18]), array([12, 15, 18]))"
      ]
     },
     "execution_count": 76,
     "metadata": {},
     "output_type": "execute_result"
    }
   ],
   "source": [
    "# 열단위로 계산\n",
    "a.sum(axis=0), np.sum(a, axis=0)"
   ]
  },
  {
   "cell_type": "code",
   "execution_count": 77,
   "id": "61248e65",
   "metadata": {
    "ExecuteTime": {
     "end_time": "2023-09-25T03:51:41.003617Z",
     "start_time": "2023-09-25T03:51:40.990659Z"
    }
   },
   "outputs": [
    {
     "data": {
      "text/plain": [
       "(array([ 6, 15, 24]), array([ 6, 15, 24]))"
      ]
     },
     "execution_count": 77,
     "metadata": {},
     "output_type": "execute_result"
    }
   ],
   "source": [
    "# 행단위로 계산\n",
    "a.sum(axis=1), np.sum(a, axis=1)"
   ]
  },
  {
   "cell_type": "markdown",
   "id": "484b05ad",
   "metadata": {},
   "source": [
    "**ndarray 객체.max() or np.max(객체)**"
   ]
  },
  {
   "cell_type": "code",
   "execution_count": 78,
   "id": "fdf72ac9",
   "metadata": {
    "ExecuteTime": {
     "end_time": "2023-09-25T05:18:09.633376Z",
     "start_time": "2023-09-25T05:18:09.613629Z"
    }
   },
   "outputs": [
    {
     "data": {
      "text/plain": [
       "(9, 9)"
      ]
     },
     "execution_count": 78,
     "metadata": {},
     "output_type": "execute_result"
    }
   ],
   "source": [
    "# 전체 요소를 대상\n",
    "a.max(), np.max(a)"
   ]
  },
  {
   "cell_type": "code",
   "execution_count": 79,
   "id": "c4fbe5bd",
   "metadata": {
    "ExecuteTime": {
     "end_time": "2023-09-25T05:19:14.332163Z",
     "start_time": "2023-09-25T05:19:14.320127Z"
    }
   },
   "outputs": [
    {
     "data": {
      "text/plain": [
       "(array([7, 8, 9]), array([7, 8, 9]))"
      ]
     },
     "execution_count": 79,
     "metadata": {},
     "output_type": "execute_result"
    }
   ],
   "source": [
    "a.max(axis=0), np.max(a, axis=0)"
   ]
  },
  {
   "cell_type": "code",
   "execution_count": 83,
   "id": "db615668",
   "metadata": {
    "ExecuteTime": {
     "end_time": "2023-09-25T05:20:49.446257Z",
     "start_time": "2023-09-25T05:20:49.436281Z"
    }
   },
   "outputs": [
    {
     "data": {
      "text/plain": [
       "(array([3, 6, 9]), array([3, 6, 9]))"
      ]
     },
     "execution_count": 83,
     "metadata": {},
     "output_type": "execute_result"
    }
   ],
   "source": [
    "a.max(axis=1), np.max(a, axis=1)"
   ]
  },
  {
   "cell_type": "markdown",
   "id": "828122dc",
   "metadata": {},
   "source": [
    "**ndarray 객체.cumsum(), np.cumsum(): 누적합계**"
   ]
  },
  {
   "cell_type": "code",
   "execution_count": 85,
   "id": "24416d72",
   "metadata": {
    "ExecuteTime": {
     "end_time": "2023-09-25T05:22:43.071425Z",
     "start_time": "2023-09-25T05:22:43.052505Z"
    }
   },
   "outputs": [
    {
     "data": {
      "text/plain": [
       "(array([ 1,  3,  6, 10, 15, 21, 28, 36, 45]),\n",
       " array([ 1,  3,  6, 10, 15, 21, 28, 36, 45]))"
      ]
     },
     "execution_count": 85,
     "metadata": {},
     "output_type": "execute_result"
    }
   ],
   "source": [
    "a.cumsum(), np.cumsum(a)"
   ]
  },
  {
   "cell_type": "code",
   "execution_count": 87,
   "id": "b3bde44e",
   "metadata": {
    "ExecuteTime": {
     "end_time": "2023-09-25T05:23:25.218136Z",
     "start_time": "2023-09-25T05:23:25.208987Z"
    }
   },
   "outputs": [
    {
     "data": {
      "text/plain": [
       "(array([[ 1,  2,  3],\n",
       "        [ 5,  7,  9],\n",
       "        [12, 15, 18]]),\n",
       " array([[ 1,  2,  3],\n",
       "        [ 5,  7,  9],\n",
       "        [12, 15, 18]]))"
      ]
     },
     "execution_count": 87,
     "metadata": {},
     "output_type": "execute_result"
    }
   ],
   "source": [
    "# 열단위 계산\n",
    "a.cumsum(axis=0), np.cumsum(a, axis=0)"
   ]
  },
  {
   "cell_type": "code",
   "execution_count": 88,
   "id": "afa8f93e",
   "metadata": {
    "ExecuteTime": {
     "end_time": "2023-09-25T05:23:45.675175Z",
     "start_time": "2023-09-25T05:23:45.664895Z"
    }
   },
   "outputs": [
    {
     "data": {
      "text/plain": [
       "(array([[ 1,  3,  6],\n",
       "        [ 4,  9, 15],\n",
       "        [ 7, 15, 24]]),\n",
       " array([[ 1,  3,  6],\n",
       "        [ 4,  9, 15],\n",
       "        [ 7, 15, 24]]))"
      ]
     },
     "execution_count": 88,
     "metadata": {},
     "output_type": "execute_result"
    }
   ],
   "source": [
    "# 행단위 계산\n",
    "a.cumsum(axis=1), np.cumsum(a,axis=1)"
   ]
  },
  {
   "cell_type": "markdown",
   "id": "4aceace8",
   "metadata": {},
   "source": [
    "**ndarray.mean(), np.mean(): 평균**"
   ]
  },
  {
   "cell_type": "code",
   "execution_count": 90,
   "id": "1a805918",
   "metadata": {
    "ExecuteTime": {
     "end_time": "2023-09-25T05:25:35.199962Z",
     "start_time": "2023-09-25T05:25:35.193915Z"
    }
   },
   "outputs": [
    {
     "data": {
      "text/plain": [
       "(5.0, 5.0)"
      ]
     },
     "execution_count": 90,
     "metadata": {},
     "output_type": "execute_result"
    }
   ],
   "source": [
    "a.mean(), np.mean(a)"
   ]
  },
  {
   "cell_type": "code",
   "execution_count": 91,
   "id": "0f6e27ab",
   "metadata": {
    "ExecuteTime": {
     "end_time": "2023-09-25T05:26:04.621803Z",
     "start_time": "2023-09-25T05:26:04.609830Z"
    }
   },
   "outputs": [
    {
     "data": {
      "text/plain": [
       "(array([4., 5., 6.]), array([4., 5., 6.]))"
      ]
     },
     "execution_count": 91,
     "metadata": {},
     "output_type": "execute_result"
    }
   ],
   "source": [
    "# 열단위 계산\n",
    "a.mean(axis=0), np.mean(a, axis=0)"
   ]
  },
  {
   "cell_type": "code",
   "execution_count": 92,
   "id": "0e774a0f",
   "metadata": {
    "ExecuteTime": {
     "end_time": "2023-09-25T05:26:19.710983Z",
     "start_time": "2023-09-25T05:26:19.695422Z"
    }
   },
   "outputs": [
    {
     "data": {
      "text/plain": [
       "(array([2., 5., 8.]), array([2., 5., 8.]))"
      ]
     },
     "execution_count": 92,
     "metadata": {},
     "output_type": "execute_result"
    }
   ],
   "source": [
    "# 행단위 계산\n",
    "a.mean(axis=1), np.mean(a, axis=1)"
   ]
  },
  {
   "cell_type": "markdown",
   "id": "5e80c706",
   "metadata": {
    "ExecuteTime": {
     "end_time": "2023-09-25T05:25:00.828966Z",
     "start_time": "2023-09-25T05:25:00.809854Z"
    }
   },
   "source": [
    "**ndarray.median(): 중앙값**"
   ]
  },
  {
   "cell_type": "code",
   "execution_count": 94,
   "id": "1e7e848c",
   "metadata": {
    "ExecuteTime": {
     "end_time": "2023-09-25T05:28:13.156978Z",
     "start_time": "2023-09-25T05:28:13.143425Z"
    }
   },
   "outputs": [
    {
     "data": {
      "text/plain": [
       "5.0"
      ]
     },
     "execution_count": 94,
     "metadata": {},
     "output_type": "execute_result"
    }
   ],
   "source": [
    "np.median(a)"
   ]
  },
  {
   "cell_type": "code",
   "execution_count": 96,
   "id": "1761d4a6",
   "metadata": {
    "ExecuteTime": {
     "end_time": "2023-09-25T05:28:59.261485Z",
     "start_time": "2023-09-25T05:28:59.252346Z"
    }
   },
   "outputs": [
    {
     "data": {
      "text/plain": [
       "array([4., 5., 6.])"
      ]
     },
     "execution_count": 96,
     "metadata": {},
     "output_type": "execute_result"
    }
   ],
   "source": [
    "# 열단위 계산\n",
    "np.median(a, axis=0)"
   ]
  },
  {
   "cell_type": "code",
   "execution_count": 97,
   "id": "594e136c",
   "metadata": {
    "ExecuteTime": {
     "end_time": "2023-09-25T05:29:01.760778Z",
     "start_time": "2023-09-25T05:29:01.746274Z"
    }
   },
   "outputs": [
    {
     "data": {
      "text/plain": [
       "array([2., 5., 8.])"
      ]
     },
     "execution_count": 97,
     "metadata": {},
     "output_type": "execute_result"
    }
   ],
   "source": [
    "# 행단위 계산\n",
    "np.median(a, axis=1)"
   ]
  },
  {
   "cell_type": "markdown",
   "id": "3961c164",
   "metadata": {},
   "source": [
    "**np.corrcoef(): 상관계수, correletion coeficient**"
   ]
  },
  {
   "cell_type": "code",
   "execution_count": 98,
   "id": "22012890",
   "metadata": {
    "ExecuteTime": {
     "end_time": "2023-09-25T05:29:14.702512Z",
     "start_time": "2023-09-25T05:29:14.683466Z"
    }
   },
   "outputs": [
    {
     "data": {
      "text/plain": [
       "array([[1., 1., 1.],\n",
       "       [1., 1., 1.],\n",
       "       [1., 1., 1.]])"
      ]
     },
     "execution_count": 98,
     "metadata": {},
     "output_type": "execute_result"
    }
   ],
   "source": [
    "np.corrcoef(a)"
   ]
  },
  {
   "cell_type": "markdown",
   "id": "c07482ab",
   "metadata": {},
   "source": [
    "**ndarray객체.std(), np.std(): 표준편차**"
   ]
  },
  {
   "cell_type": "code",
   "execution_count": 99,
   "id": "93b57b59",
   "metadata": {
    "ExecuteTime": {
     "end_time": "2023-09-25T05:29:26.224999Z",
     "start_time": "2023-09-25T05:29:26.210570Z"
    }
   },
   "outputs": [
    {
     "data": {
      "text/plain": [
       "2.581988897471611"
      ]
     },
     "execution_count": 99,
     "metadata": {},
     "output_type": "execute_result"
    }
   ],
   "source": [
    "np.std(a)"
   ]
  },
  {
   "cell_type": "markdown",
   "id": "7798a99d",
   "metadata": {},
   "source": [
    "## 난수 기반 배열 생성\n",
    "-numpy.random 모듈 이용"
   ]
  },
  {
   "cell_type": "markdown",
   "id": "5825ec88",
   "metadata": {},
   "source": [
    "**np.random.normal**\n",
    "- normal(loc=0.0, scale=1.0, size=None)\n",
    "- 정규 분포 확률 밀도에서 표본 추출 함수\n",
    "- loc: 정규분포의 평균\n",
    "- scale: 표준편차"
   ]
  },
  {
   "cell_type": "code",
   "execution_count": 100,
   "id": "24105d6f",
   "metadata": {
    "ExecuteTime": {
     "end_time": "2023-09-25T05:33:59.368631Z",
     "start_time": "2023-09-25T05:33:59.357439Z"
    }
   },
   "outputs": [
    {
     "name": "stdout",
     "output_type": "stream",
     "text": [
      "type : <class 'numpy.ndarray'>\n",
      "shape : (2, 3), dimension : 2, dtype : float64\n",
      "Array's Data: \n",
      " [[ 0.81499163  1.03071228  0.10963139]\n",
      " [ 1.1635377  -1.52029266 -1.6389128 ]]\n"
     ]
    }
   ],
   "source": [
    "mean=0\n",
    "std=1\n",
    "a=np.random.normal(mean, std, (2,3))\n",
    "pprint(a)"
   ]
  },
  {
   "cell_type": "code",
   "execution_count": 101,
   "id": "2cabfd56",
   "metadata": {
    "ExecuteTime": {
     "end_time": "2023-09-25T05:37:07.774850Z",
     "start_time": "2023-09-25T05:37:06.898170Z"
    }
   },
   "outputs": [
    {
     "data": {
      "text/plain": [
       "(array([  1.,   1.,   0.,   2.,   0.,   0.,   1.,   0.,   1.,   2.,   0.,\n",
       "          2.,   4.,   1.,   2.,   4.,   3.,   9.,   4.,  14.,  15.,  11.,\n",
       "         14.,  18.,  25.,  19.,  35.,  53.,  55.,  50.,  73.,  84.,  74.,\n",
       "         89., 108., 136., 113., 151., 171., 182., 224., 225., 205., 258.,\n",
       "        260., 288., 277., 318., 335., 331., 348., 333., 323., 346., 351.,\n",
       "        322., 287., 313., 275., 254., 252., 210., 205., 235., 180., 175.,\n",
       "        127., 167., 138., 140., 111.,  92.,  77.,  77.,  74.,  51.,  56.,\n",
       "         43.,  29.,  37.,  34.,  12.,  21.,  14.,   7.,   9.,   6.,   6.,\n",
       "          1.,   3.,   2.,   1.,   4.,   2.,   0.,   1.,   0.,   0.,   0.,\n",
       "          1.]),\n",
       " array([-4.2427865 , -4.16186136, -4.08093622, -4.00001108, -3.91908594,\n",
       "        -3.8381608 , -3.75723567, -3.67631053, -3.59538539, -3.51446025,\n",
       "        -3.43353511, -3.35260997, -3.27168484, -3.1907597 , -3.10983456,\n",
       "        -3.02890942, -2.94798428, -2.86705915, -2.78613401, -2.70520887,\n",
       "        -2.62428373, -2.54335859, -2.46243345, -2.38150832, -2.30058318,\n",
       "        -2.21965804, -2.1387329 , -2.05780776, -1.97688262, -1.89595749,\n",
       "        -1.81503235, -1.73410721, -1.65318207, -1.57225693, -1.49133179,\n",
       "        -1.41040666, -1.32948152, -1.24855638, -1.16763124, -1.0867061 ,\n",
       "        -1.00578096, -0.92485583, -0.84393069, -0.76300555, -0.68208041,\n",
       "        -0.60115527, -0.52023013, -0.439305  , -0.35837986, -0.27745472,\n",
       "        -0.19652958, -0.11560444, -0.0346793 ,  0.04624583,  0.12717097,\n",
       "         0.20809611,  0.28902125,  0.36994639,  0.45087153,  0.53179666,\n",
       "         0.6127218 ,  0.69364694,  0.77457208,  0.85549722,  0.93642235,\n",
       "         1.01734749,  1.09827263,  1.17919777,  1.26012291,  1.34104805,\n",
       "         1.42197318,  1.50289832,  1.58382346,  1.6647486 ,  1.74567374,\n",
       "         1.82659888,  1.90752401,  1.98844915,  2.06937429,  2.15029943,\n",
       "         2.23122457,  2.31214971,  2.39307484,  2.47399998,  2.55492512,\n",
       "         2.63585026,  2.7167754 ,  2.79770054,  2.87862567,  2.95955081,\n",
       "         3.04047595,  3.12140109,  3.20232623,  3.28325137,  3.3641765 ,\n",
       "         3.44510164,  3.52602678,  3.60695192,  3.68787706,  3.7688022 ,\n",
       "         3.84972733]),\n",
       " <BarContainer object of 100 artists>)"
      ]
     },
     "execution_count": 101,
     "metadata": {},
     "output_type": "execute_result"
    },
    {
     "data": {
      "image/png": "[encoded data removed]",
      "text/plain": [
       "<Figure size 640x480 with 1 Axes>"
      ]
     },
     "metadata": {},
     "output_type": "display_data"
    }
   ],
   "source": [
    "import matplotlib.pyplot as plt\n",
    "%matplotlib inline\n",
    "\n",
    "data = np.random.normal(0, 1, 10000)\n",
    "# 히스토그램, 100개의 구간을 ㅗ구분\n",
    "plt.hist(data, bins=100)"
   ]
  },
  {
   "cell_type": "markdown",
   "id": "4bf83da7",
   "metadata": {},
   "source": [
    "**np.random.rand(): 균등분포, 0.0 ~ 1.0**"
   ]
  },
  {
   "cell_type": "code",
   "execution_count": 102,
   "id": "3922ae2b",
   "metadata": {
    "ExecuteTime": {
     "end_time": "2023-09-25T05:38:36.046996Z",
     "start_time": "2023-09-25T05:38:36.031223Z"
    }
   },
   "outputs": [],
   "source": [
    "a = np.random.rand(3, 2)"
   ]
  },
  {
   "cell_type": "code",
   "execution_count": 103,
   "id": "79b495d5",
   "metadata": {
    "ExecuteTime": {
     "end_time": "2023-09-25T05:38:37.727457Z",
     "start_time": "2023-09-25T05:38:37.710717Z"
    }
   },
   "outputs": [
    {
     "data": {
      "text/plain": [
       "array([[0.29839449, 0.54524803],\n",
       "       [0.5526271 , 0.01104544],\n",
       "       [0.7221694 , 0.45406355]])"
      ]
     },
     "execution_count": 103,
     "metadata": {},
     "output_type": "execute_result"
    }
   ],
   "source": [
    "a"
   ]
  },
  {
   "cell_type": "code",
   "execution_count": 104,
   "id": "dfffa378",
   "metadata": {
    "ExecuteTime": {
     "end_time": "2023-09-25T05:39:30.565596Z",
     "start_time": "2023-09-25T05:39:30.455910Z"
    }
   },
   "outputs": [
    {
     "data": {
      "image/png": "[encoded data removed]",
      "text/plain": [
       "<Figure size 640x480 with 1 Axes>"
      ]
     },
     "metadata": {},
     "output_type": "display_data"
    }
   ],
   "source": [
    "data = np.random.rand(10000)\n",
    "plt.hist(data, bins=10)\n",
    "plt.show()"
   ]
  },
  {
   "cell_type": "markdown",
   "id": "ba89d67a",
   "metadata": {},
   "source": [
    "**np.random.randn(): 표준정규분포 난수**"
   ]
  },
  {
   "cell_type": "code",
   "execution_count": 105,
   "id": "63329094",
   "metadata": {
    "ExecuteTime": {
     "end_time": "2023-09-25T05:41:17.272517Z",
     "start_time": "2023-09-25T05:41:17.258126Z"
    }
   },
   "outputs": [
    {
     "name": "stdout",
     "output_type": "stream",
     "text": [
      "type : <class 'numpy.ndarray'>\n",
      "shape : (2, 4), dimension : 2, dtype : float64\n",
      "Array's Data: \n",
      " [[-0.70790383  1.37656118  0.81794105 -1.1049273 ]\n",
      " [-0.28414803 -1.21962968 -1.28975752 -0.74068912]]\n"
     ]
    }
   ],
   "source": [
    "a = np.random.randn(2, 4)\n",
    "pprint(a)"
   ]
  },
  {
   "cell_type": "code",
   "execution_count": 106,
   "id": "d31a3171",
   "metadata": {
    "ExecuteTime": {
     "end_time": "2023-09-25T05:41:52.856768Z",
     "start_time": "2023-09-25T05:41:52.736025Z"
    }
   },
   "outputs": [
    {
     "data": {
      "image/png": "[encoded data removed]",
      "text/plain": [
       "<Figure size 640x480 with 1 Axes>"
      ]
     },
     "metadata": {},
     "output_type": "display_data"
    }
   ],
   "source": [
    "data = np.random.randn(10000)\n",
    "plt.hist(data, bins=10)\n",
    "plt.show()"
   ]
  },
  {
   "cell_type": "markdown",
   "id": "1319e559",
   "metadata": {},
   "source": [
    "**np.random.randint(low, high, size, dtype='i')**"
   ]
  },
  {
   "cell_type": "code",
   "execution_count": 107,
   "id": "f177cedb",
   "metadata": {
    "ExecuteTime": {
     "end_time": "2023-09-25T05:44:26.794799Z",
     "start_time": "2023-09-25T05:44:26.775109Z"
    }
   },
   "outputs": [
    {
     "name": "stdout",
     "output_type": "stream",
     "text": [
      "type : <class 'numpy.ndarray'>\n",
      "shape : (2, 4), dimension : 2, dtype : int32\n",
      "Array's Data: \n",
      " [[6 5 6 7]\n",
      " [5 8 7 6]]\n"
     ]
    }
   ],
   "source": [
    "a = np.random.randint(5, 10, size=(2, 4))\n",
    "pprint(a)"
   ]
  },
  {
   "cell_type": "code",
   "execution_count": 108,
   "id": "51cd1b6f",
   "metadata": {
    "ExecuteTime": {
     "end_time": "2023-09-25T05:45:41.991931Z",
     "start_time": "2023-09-25T05:45:41.827239Z"
    }
   },
   "outputs": [
    {
     "data": {
      "image/png": "[encoded data removed]",
      "text/plain": [
       "<Figure size 640x480 with 1 Axes>"
      ]
     },
     "metadata": {},
     "output_type": "display_data"
    }
   ],
   "source": [
    "data = np.random.randint(-100, 100, 10000)\n",
    "plt.hist(data, bins=10)\n",
    "plt.show()"
   ]
  },
  {
   "cell_type": "markdown",
   "id": "4d883d48",
   "metadata": {},
   "source": [
    "**np.random.random(size): 0.0 ~ 1.0 균등분포 난수**"
   ]
  },
  {
   "cell_type": "code",
   "execution_count": 109,
   "id": "ef5ebc8e",
   "metadata": {
    "ExecuteTime": {
     "end_time": "2023-09-25T05:47:07.157064Z",
     "start_time": "2023-09-25T05:47:07.139400Z"
    }
   },
   "outputs": [
    {
     "name": "stdout",
     "output_type": "stream",
     "text": [
      "type : <class 'numpy.ndarray'>\n",
      "shape : (2, 4), dimension : 2, dtype : float64\n",
      "Array's Data: \n",
      " [[0.46213474 0.61030612 0.0823971  0.03832627]\n",
      " [0.65732307 0.95910126 0.41812547 0.2511217 ]]\n"
     ]
    }
   ],
   "source": [
    "a = np.random.random((2, 4))\n",
    "pprint(a)"
   ]
  },
  {
   "cell_type": "code",
   "execution_count": 111,
   "id": "2cbeabf8",
   "metadata": {
    "ExecuteTime": {
     "end_time": "2023-09-25T05:47:51.633037Z",
     "start_time": "2023-09-25T05:47:51.617271Z"
    }
   },
   "outputs": [
    {
     "ename": "SyntaxError",
     "evalue": "invalid syntax (4277081954.py, line 2)",
     "output_type": "error",
     "traceback": [
      "\u001b[1;36m  Cell \u001b[1;32mIn[111], line 2\u001b[1;36m\u001b[0m\n\u001b[1;33m    plt.hist(data, bins=10)\u001b[0m\n\u001b[1;37m    ^\u001b[0m\n\u001b[1;31mSyntaxError\u001b[0m\u001b[1;31m:\u001b[0m invalid syntax\n"
     ]
    }
   ],
   "source": [
    "data = np.random.random((100, 100)\n",
    "plt.hist(data, bins=10)\n",
    "plt.show()"
   ]
  },
  {
   "cell_type": "markdown",
   "id": "d04387b8",
   "metadata": {},
   "source": [
    "**약속된 난수: seed값**\n",
    "- np.random.seed(): 난수를 재연할 수 있다.\n",
    "- seed값으로 0보다 크거나 같은 정수를 담는다."
   ]
  },
  {
   "cell_type": "code",
   "execution_count": 112,
   "id": "ceb6eeb4",
   "metadata": {
    "ExecuteTime": {
     "end_time": "2023-09-25T05:49:28.549756Z",
     "start_time": "2023-09-25T05:49:28.531520Z"
    }
   },
   "outputs": [
    {
     "data": {
      "text/plain": [
       "array([[0.33350855, 0.4255098 ],\n",
       "       [0.99359026, 0.94439273]])"
      ]
     },
     "execution_count": 112,
     "metadata": {},
     "output_type": "execute_result"
    }
   ],
   "source": [
    "np.random.random((2,2))"
   ]
  },
  {
   "cell_type": "code",
   "execution_count": 113,
   "id": "cef2dcc2",
   "metadata": {
    "ExecuteTime": {
     "end_time": "2023-09-25T05:49:41.220916Z",
     "start_time": "2023-09-25T05:49:41.212792Z"
    }
   },
   "outputs": [
    {
     "data": {
      "text/plain": [
       "array([[3, 0, 5],\n",
       "       [9, 9, 0]])"
      ]
     },
     "execution_count": 113,
     "metadata": {},
     "output_type": "execute_result"
    }
   ],
   "source": [
    "np.random.randint(0, 10, (2,3))"
   ]
  },
  {
   "cell_type": "code",
   "execution_count": 114,
   "id": "a8a188d1",
   "metadata": {
    "ExecuteTime": {
     "end_time": "2023-09-25T05:51:16.745613Z",
     "start_time": "2023-09-25T05:51:16.732379Z"
    }
   },
   "outputs": [],
   "source": [
    "np.random.seed(2023)"
   ]
  },
  {
   "cell_type": "code",
   "execution_count": 115,
   "id": "efdb7ca1",
   "metadata": {
    "ExecuteTime": {
     "end_time": "2023-09-25T05:51:33.368314Z",
     "start_time": "2023-09-25T05:51:33.359145Z"
    }
   },
   "outputs": [
    {
     "data": {
      "text/plain": [
       "array([[0.3219883 , 0.89042245],\n",
       "       [0.58805226, 0.12659609]])"
      ]
     },
     "execution_count": 115,
     "metadata": {},
     "output_type": "execute_result"
    }
   ],
   "source": [
    "np.random.random((2,2))"
   ]
  },
  {
   "cell_type": "code",
   "execution_count": 116,
   "id": "d945697a",
   "metadata": {
    "ExecuteTime": {
     "end_time": "2023-09-25T05:51:38.769519Z",
     "start_time": "2023-09-25T05:51:38.757547Z"
    }
   },
   "outputs": [
    {
     "data": {
      "text/plain": [
       "array([[4, 6, 5],\n",
       "       [0, 6, 1]])"
      ]
     },
     "execution_count": 116,
     "metadata": {},
     "output_type": "execute_result"
    }
   ],
   "source": [
    "np.random.randint(0, 10, (2,3))"
   ]
  },
  {
   "cell_type": "code",
   "execution_count": 117,
   "id": "93c46d7d",
   "metadata": {
    "ExecuteTime": {
     "end_time": "2023-09-25T05:52:21.502305Z",
     "start_time": "2023-09-25T05:52:21.494794Z"
    }
   },
   "outputs": [
    {
     "data": {
      "text/plain": [
       "array([[5, 7, 5],\n",
       "       [8, 2, 3]])"
      ]
     },
     "execution_count": 117,
     "metadata": {},
     "output_type": "execute_result"
    }
   ],
   "source": [
    "np.random.randint(0, 10, (2,3))"
   ]
  },
  {
   "cell_type": "code",
   "execution_count": 118,
   "id": "1ce52e03",
   "metadata": {
    "ExecuteTime": {
     "end_time": "2023-09-25T05:52:36.552134Z",
     "start_time": "2023-09-25T05:52:36.546030Z"
    }
   },
   "outputs": [],
   "source": [
    "np.random.seed(2023)"
   ]
  },
  {
   "cell_type": "code",
   "execution_count": 119,
   "id": "932a2f51",
   "metadata": {
    "ExecuteTime": {
     "end_time": "2023-09-25T05:52:54.622480Z",
     "start_time": "2023-09-25T05:52:54.617497Z"
    }
   },
   "outputs": [
    {
     "data": {
      "text/plain": [
       "array([[0.3219883 , 0.89042245],\n",
       "       [0.58805226, 0.12659609]])"
      ]
     },
     "execution_count": 119,
     "metadata": {},
     "output_type": "execute_result"
    }
   ],
   "source": [
    "np.random.random((2,2))"
   ]
  },
  {
   "cell_type": "code",
   "execution_count": 120,
   "id": "c6919581",
   "metadata": {
    "ExecuteTime": {
     "end_time": "2023-09-25T05:53:05.656935Z",
     "start_time": "2023-09-25T05:53:05.636747Z"
    }
   },
   "outputs": [
    {
     "data": {
      "text/plain": [
       "array([[4, 6, 5],\n",
       "       [0, 6, 1]])"
      ]
     },
     "execution_count": 120,
     "metadata": {},
     "output_type": "execute_result"
    }
   ],
   "source": [
    "np.random.randint(0, 10, (2,3))"
   ]
  },
  {
   "cell_type": "markdown",
   "id": "e6c387a0",
   "metadata": {},
   "source": [
    "## Numpy 입출력\n",
    "- Numpy는 배열 객체를 바이너리 파일 혹은 텍스트 파일에 저장하고 로딩하는 기능을 제공한다.\n",
    "- np.save(): Numpy 배열 객체 1개를 파일에 저장, 바이너리 포맷\n",
    "- np.savez(): Numpy 배열 객체 복수개를 파일에 저장, 바이너리 포맷\n",
    "- np.load(): Numpy 배열 저장 파일로부터 객체 로딩, 바이너리 포맷\n",
    "- np.loadtxt(): 텍스트 파일ㄹ로부터 배열 로딩, 텍스트 포맷\n",
    "- np.savetxt(): 텍스트 파일에 Numpy 배열 객체 저장, 텍스트 포맷"
   ]
  },
  {
   "cell_type": "code",
   "execution_count": 121,
   "id": "6dd282cd",
   "metadata": {
    "ExecuteTime": {
     "end_time": "2023-09-25T06:18:29.546314Z",
     "start_time": "2023-09-25T06:18:29.537213Z"
    }
   },
   "outputs": [
    {
     "name": "stdout",
     "output_type": "stream",
     "text": [
      "type : <class 'numpy.ndarray'>\n",
      "shape : (2, 3), dimension : 2, dtype : int32\n",
      "Array's Data: \n",
      " [[5 7 5]\n",
      " [8 2 3]]\n",
      "type : <class 'numpy.ndarray'>\n",
      "shape : (2, 3), dimension : 2, dtype : int32\n",
      "Array's Data: \n",
      " [[1 0 7]\n",
      " [1 0 0]]\n"
     ]
    }
   ],
   "source": [
    "a = np.random.randint(0, 10, (2,3))\n",
    "b = np.random.randint(0, 10, (2,3))\n",
    "pprint(a)\n",
    "pprint(b)"
   ]
  },
  {
   "cell_type": "markdown",
   "id": "07b1575e",
   "metadata": {},
   "source": [
    "**배열 객체 저장**\n",
    "- np.save()와 np.savez() 함수를 이용\n",
    "- np.save: 1개 배열 저장, 확장자: npy\n",
    "- np.savez: 복수 개의 배열 저장, 확장자: pnz\n",
    "- 배열에 저장되는 파일의 포맷은 바이너리 형태이다."
   ]
  },
  {
   "cell_type": "code",
   "execution_count": 122,
   "id": "84294206",
   "metadata": {
    "ExecuteTime": {
     "end_time": "2023-09-25T06:25:48.365060Z",
     "start_time": "2023-09-25T06:25:48.347416Z"
    }
   },
   "outputs": [],
   "source": [
    "# 1개 배열 파일 저장\n",
    "np.save(\"./my_array1\", a)"
   ]
  },
  {
   "cell_type": "code",
   "execution_count": 123,
   "id": "2fed16d7",
   "metadata": {
    "ExecuteTime": {
     "end_time": "2023-09-25T06:26:59.679120Z",
     "start_time": "2023-09-25T06:26:59.663664Z"
    }
   },
   "outputs": [],
   "source": [
    "# 복수 개의 배열 객체를 파일에 저장\n",
    "np.savez(\"my_array2\", a, b)"
   ]
  },
  {
   "cell_type": "markdown",
   "id": "8d75f8df",
   "metadata": {},
   "source": [
    "**파일로부터 배열 객체를 로딩**\n",
    "- npy, npz은 np.load() 함수로 읽어온다."
   ]
  },
  {
   "cell_type": "code",
   "execution_count": 124,
   "id": "8c810bf8",
   "metadata": {
    "ExecuteTime": {
     "end_time": "2023-09-25T06:28:43.299654Z",
     "start_time": "2023-09-25T06:28:43.285298Z"
    }
   },
   "outputs": [
    {
     "data": {
      "text/plain": [
       "array([[5, 7, 5],\n",
       "       [8, 2, 3]])"
      ]
     },
     "execution_count": 124,
     "metadata": {},
     "output_type": "execute_result"
    }
   ],
   "source": [
    "np.load(\"my_array1.npy\")  # 확장자를 반드시 담아야 함"
   ]
  },
  {
   "cell_type": "code",
   "execution_count": 125,
   "id": "fbbd4f3d",
   "metadata": {
    "ExecuteTime": {
     "end_time": "2023-09-25T06:30:32.313681Z",
     "start_time": "2023-09-25T06:30:32.253817Z"
    }
   },
   "outputs": [
    {
     "data": {
      "text/plain": [
       "['arr_0', 'arr_1']"
      ]
     },
     "execution_count": 125,
     "metadata": {},
     "output_type": "execute_result"
    }
   ],
   "source": [
    "file = np.load(\"my_array2.npz\")\n",
    "file.files"
   ]
  },
  {
   "cell_type": "code",
   "execution_count": 126,
   "id": "ea8b5a56",
   "metadata": {
    "ExecuteTime": {
     "end_time": "2023-09-25T06:30:39.691835Z",
     "start_time": "2023-09-25T06:30:39.677526Z"
    }
   },
   "outputs": [
    {
     "data": {
      "text/plain": [
       "array([[5, 7, 5],\n",
       "       [8, 2, 3]])"
      ]
     },
     "execution_count": 126,
     "metadata": {},
     "output_type": "execute_result"
    }
   ],
   "source": [
    "file['arr_0']"
   ]
  },
  {
   "cell_type": "code",
   "execution_count": 127,
   "id": "1202cf88",
   "metadata": {
    "ExecuteTime": {
     "end_time": "2023-09-25T06:30:48.411565Z",
     "start_time": "2023-09-25T06:30:48.395510Z"
    }
   },
   "outputs": [
    {
     "data": {
      "text/plain": [
       "array([[1, 0, 7],\n",
       "       [1, 0, 0]])"
      ]
     },
     "execution_count": 127,
     "metadata": {},
     "output_type": "execute_result"
    }
   ],
   "source": [
    "file['arr_1']"
   ]
  },
  {
   "cell_type": "markdown",
   "id": "adb362c2",
   "metadata": {},
   "source": [
    "## 배열 변환\n",
    "- 전치(Transpose)\n",
    "- 배열 shape 변환: reshape\n",
    "- 배열 요소 추가\n",
    "- 배열 결합\n",
    "- 배열 분리"
   ]
  },
  {
   "cell_type": "markdown",
   "id": "0a8133a0",
   "metadata": {},
   "source": [
    "**np.ndarray객체.T**"
   ]
  },
  {
   "cell_type": "code",
   "execution_count": 129,
   "id": "866a4b34",
   "metadata": {
    "ExecuteTime": {
     "end_time": "2023-09-25T06:35:35.779394Z",
     "start_time": "2023-09-25T06:35:35.766437Z"
    }
   },
   "outputs": [
    {
     "name": "stdout",
     "output_type": "stream",
     "text": [
      "type : <class 'numpy.ndarray'>\n",
      "shape : (2, 3), dimension : 2, dtype : int32\n",
      "Array's Data: \n",
      " [[2 9 2]\n",
      " [3 2 1]]\n"
     ]
    }
   ],
   "source": [
    "a = np.random.randint(1, 10, (2,3))\n",
    "pprint(a)"
   ]
  },
  {
   "cell_type": "code",
   "execution_count": 131,
   "id": "49a1401a",
   "metadata": {
    "ExecuteTime": {
     "end_time": "2023-09-25T06:36:14.928510Z",
     "start_time": "2023-09-25T06:36:14.919465Z"
    }
   },
   "outputs": [
    {
     "name": "stdout",
     "output_type": "stream",
     "text": [
      "type : <class 'numpy.ndarray'>\n",
      "shape : (3, 2), dimension : 2, dtype : int32\n",
      "Array's Data: \n",
      " [[2 3]\n",
      " [9 2]\n",
      " [2 1]]\n"
     ]
    }
   ],
   "source": [
    "pprint(a.T)"
   ]
  },
  {
   "cell_type": "markdown",
   "id": "149a45ec",
   "metadata": {},
   "source": [
    "**배열 형태 변경**\n",
    "- ravel: shape을 1차원 배열로 만드는 메서드\n",
    "- reshape: 데이터 변경 없이 지정된 shape으로 변환하는 메서드"
   ]
  },
  {
   "cell_type": "code",
   "execution_count": 132,
   "id": "4b9477d9",
   "metadata": {
    "ExecuteTime": {
     "end_time": "2023-09-25T06:38:39.797323Z",
     "start_time": "2023-09-25T06:38:39.780197Z"
    }
   },
   "outputs": [
    {
     "name": "stdout",
     "output_type": "stream",
     "text": [
      "type : <class 'numpy.ndarray'>\n",
      "shape : (2, 3), dimension : 2, dtype : int32\n",
      "Array's Data: \n",
      " [[2 9 2]\n",
      " [3 2 1]]\n"
     ]
    }
   ],
   "source": [
    "pprint(a)"
   ]
  },
  {
   "cell_type": "code",
   "execution_count": 133,
   "id": "1c87bbf9",
   "metadata": {
    "ExecuteTime": {
     "end_time": "2023-09-25T06:38:47.658455Z",
     "start_time": "2023-09-25T06:38:47.644571Z"
    }
   },
   "outputs": [
    {
     "data": {
      "text/plain": [
       "array([2, 9, 2, 3, 2, 1])"
      ]
     },
     "execution_count": 133,
     "metadata": {},
     "output_type": "execute_result"
    }
   ],
   "source": [
    "a.ravel()"
   ]
  },
  {
   "cell_type": "code",
   "execution_count": 134,
   "id": "b5673af4",
   "metadata": {
    "ExecuteTime": {
     "end_time": "2023-09-25T06:39:18.722712Z",
     "start_time": "2023-09-25T06:39:18.713311Z"
    }
   },
   "outputs": [
    {
     "name": "stdout",
     "output_type": "stream",
     "text": [
      "type : <class 'numpy.ndarray'>\n",
      "shape : (6,), dimension : 1, dtype : int32\n",
      "Array's Data: \n",
      " [2 9 2 3 2 1]\n"
     ]
    }
   ],
   "source": [
    "b = a.ravel()\n",
    "pprint(b)"
   ]
  },
  {
   "cell_type": "code",
   "execution_count": 135,
   "id": "3cd953a8",
   "metadata": {
    "ExecuteTime": {
     "end_time": "2023-09-25T06:39:55.658358Z",
     "start_time": "2023-09-25T06:39:55.639385Z"
    }
   },
   "outputs": [
    {
     "name": "stdout",
     "output_type": "stream",
     "text": [
      "type : <class 'numpy.ndarray'>\n",
      "shape : (6,), dimension : 1, dtype : int32\n",
      "Array's Data: \n",
      " [99  9  2  3  2  1]\n"
     ]
    }
   ],
   "source": [
    "# 뱐환된 배열의 데이터가 변경되면 원본도 변경된다.\n",
    "b[0] = 99\n",
    "pprint(b)"
   ]
  },
  {
   "cell_type": "code",
   "execution_count": 136,
   "id": "bc62963d",
   "metadata": {
    "ExecuteTime": {
     "end_time": "2023-09-25T06:40:22.082086Z",
     "start_time": "2023-09-25T06:40:22.069132Z"
    }
   },
   "outputs": [
    {
     "name": "stdout",
     "output_type": "stream",
     "text": [
      "type : <class 'numpy.ndarray'>\n",
      "shape : (2, 3), dimension : 2, dtype : int32\n",
      "Array's Data: \n",
      " [[99  9  2]\n",
      " [ 3  2  1]]\n"
     ]
    }
   ],
   "source": [
    "pprint(a)"
   ]
  },
  {
   "cell_type": "code",
   "execution_count": 137,
   "id": "9d54917e",
   "metadata": {
    "ExecuteTime": {
     "end_time": "2023-09-25T06:41:55.779884Z",
     "start_time": "2023-09-25T06:41:55.765486Z"
    }
   },
   "outputs": [
    {
     "name": "stdout",
     "output_type": "stream",
     "text": [
      "type : <class 'numpy.ndarray'>\n",
      "shape : (2, 3), dimension : 2, dtype : int32\n",
      "Array's Data: \n",
      " [[2 6 7]\n",
      " [5 7 9]]\n"
     ]
    }
   ],
   "source": [
    "a = np.random.randint(1, 10, (2,3))\n",
    "pprint(a)"
   ]
  },
  {
   "cell_type": "code",
   "execution_count": 138,
   "id": "01c6a966",
   "metadata": {
    "ExecuteTime": {
     "end_time": "2023-09-25T06:42:19.119642Z",
     "start_time": "2023-09-25T06:42:19.104690Z"
    }
   },
   "outputs": [],
   "source": [
    "result = a.reshape((3,2,1))  # 2행 1열 짜리가 3개 (요소 6개)"
   ]
  },
  {
   "cell_type": "code",
   "execution_count": 139,
   "id": "7e96087d",
   "metadata": {
    "ExecuteTime": {
     "end_time": "2023-09-25T06:42:23.866430Z",
     "start_time": "2023-09-25T06:42:23.855104Z"
    }
   },
   "outputs": [
    {
     "name": "stdout",
     "output_type": "stream",
     "text": [
      "type : <class 'numpy.ndarray'>\n",
      "shape : (3, 2, 1), dimension : 3, dtype : int32\n",
      "Array's Data: \n",
      " [[[2]\n",
      "  [6]]\n",
      "\n",
      " [[7]\n",
      "  [5]]\n",
      "\n",
      " [[7]\n",
      "  [9]]]\n"
     ]
    }
   ],
   "source": [
    "pprint(result)"
   ]
  },
  {
   "cell_type": "markdown",
   "id": "fdda3ea5",
   "metadata": {},
   "source": [
    "**배열 요소 변경, 추가, 삽입 및 삭제는 resize, append, insert, delete 함수를 사용**\n",
    "- np.reshape와 np.resize 함수는 배열의 shape을 변경한다는 부분은 유사하다.\n",
    "- 차이점은 reshape은 배열 요소 수를 변경하지 않는다.\n",
    "- 반면, resize는 배열의 요소 수를 줄이거나 늘리는 함수이다."
   ]
  },
  {
   "cell_type": "code",
   "execution_count": 140,
   "id": "33f21d9e",
   "metadata": {
    "ExecuteTime": {
     "end_time": "2023-09-25T06:45:57.723371Z",
     "start_time": "2023-09-25T06:45:57.715328Z"
    }
   },
   "outputs": [
    {
     "name": "stdout",
     "output_type": "stream",
     "text": [
      "type : <class 'numpy.ndarray'>\n",
      "shape : (2, 3), dimension : 2, dtype : int32\n",
      "Array's Data: \n",
      " [[9 5 2]\n",
      " [8 7 6]]\n",
      "6\n"
     ]
    }
   ],
   "source": [
    "a = np.random.randint(1, 10, (2,3))\n",
    "pprint(a)\n",
    "print(a.size)"
   ]
  },
  {
   "cell_type": "code",
   "execution_count": 141,
   "id": "d30d4a95",
   "metadata": {
    "ExecuteTime": {
     "end_time": "2023-09-25T06:47:09.694686Z",
     "start_time": "2023-09-25T06:47:09.674597Z"
    }
   },
   "outputs": [
    {
     "name": "stdout",
     "output_type": "stream",
     "text": [
      "type : <class 'numpy.ndarray'>\n",
      "shape : (6, 2), dimension : 2, dtype : int32\n",
      "Array's Data: \n",
      " [[9 5]\n",
      " [2 8]\n",
      " [7 6]\n",
      " [0 0]\n",
      " [0 0]\n",
      " [0 0]]\n"
     ]
    }
   ],
   "source": [
    "a.resize((6,2))\n",
    "pprint(a)"
   ]
  },
  {
   "cell_type": "code",
   "execution_count": 142,
   "id": "8e2b52b0",
   "metadata": {
    "ExecuteTime": {
     "end_time": "2023-09-25T06:47:33.957952Z",
     "start_time": "2023-09-25T06:47:33.943565Z"
    }
   },
   "outputs": [
    {
     "name": "stdout",
     "output_type": "stream",
     "text": [
      "type : <class 'numpy.ndarray'>\n",
      "shape : (2, 6), dimension : 2, dtype : int32\n",
      "Array's Data: \n",
      " [[8 5 3 2 1 7]\n",
      " [5 4 4 8 3 9]]\n"
     ]
    }
   ],
   "source": [
    "a = np.random.randint(1, 10, (2,6))\n",
    "pprint(a)"
   ]
  },
  {
   "cell_type": "code",
   "execution_count": 143,
   "id": "886ae669",
   "metadata": {
    "ExecuteTime": {
     "end_time": "2023-09-25T06:47:40.860341Z",
     "start_time": "2023-09-25T06:47:40.842330Z"
    }
   },
   "outputs": [],
   "source": [
    "a.resize((2, 10))"
   ]
  },
  {
   "cell_type": "code",
   "execution_count": 144,
   "id": "0fbf7894",
   "metadata": {
    "ExecuteTime": {
     "end_time": "2023-09-25T06:47:46.054171Z",
     "start_time": "2023-09-25T06:47:46.038130Z"
    }
   },
   "outputs": [
    {
     "name": "stdout",
     "output_type": "stream",
     "text": [
      "type : <class 'numpy.ndarray'>\n",
      "shape : (2, 10), dimension : 2, dtype : int32\n",
      "Array's Data: \n",
      " [[8 5 3 2 1 7 5 4 4 8]\n",
      " [3 9 0 0 0 0 0 0 0 0]]\n"
     ]
    }
   ],
   "source": [
    "pprint(a)"
   ]
  },
  {
   "cell_type": "code",
   "execution_count": 145,
   "id": "e7f9f490",
   "metadata": {
    "ExecuteTime": {
     "end_time": "2023-09-25T06:49:48.243267Z",
     "start_time": "2023-09-25T06:49:48.227030Z"
    }
   },
   "outputs": [
    {
     "name": "stdout",
     "output_type": "stream",
     "text": [
      "type : <class 'numpy.ndarray'>\n",
      "shape : (3, 3), dimension : 2, dtype : int32\n",
      "Array's Data: \n",
      " [[8 5 3]\n",
      " [2 1 7]\n",
      " [5 4 4]]\n"
     ]
    }
   ],
   "source": [
    "a.resize((3,3))\n",
    "pprint(a)\n"
   ]
  },
  {
   "cell_type": "markdown",
   "id": "4f10bd8a",
   "metadata": {},
   "source": [
    "**append(arr, values, axis=None): 배열의 끝에 값을 추가**"
   ]
  },
  {
   "cell_type": "code",
   "execution_count": 146,
   "id": "d59ec787",
   "metadata": {
    "ExecuteTime": {
     "end_time": "2023-09-25T06:51:48.326878Z",
     "start_time": "2023-09-25T06:51:48.314567Z"
    }
   },
   "outputs": [
    {
     "name": "stdout",
     "output_type": "stream",
     "text": [
      "type : <class 'numpy.ndarray'>\n",
      "shape : (3, 3), dimension : 2, dtype : int32\n",
      "Array's Data: \n",
      " [[1 2 3]\n",
      " [4 5 6]\n",
      " [7 8 9]]\n",
      "type : <class 'numpy.ndarray'>\n",
      "shape : (3, 3), dimension : 2, dtype : int32\n",
      "Array's Data: \n",
      " [[10 11 12]\n",
      " [13 14 15]\n",
      " [16 17 18]]\n"
     ]
    }
   ],
   "source": [
    "a = np.arange(1, 10).reshape(3,3)\n",
    "pprint(a)\n",
    "b = np.arange(10, 19).reshape(3,3)\n",
    "pprint(b)"
   ]
  },
  {
   "cell_type": "code",
   "execution_count": 147,
   "id": "e479eebb",
   "metadata": {
    "ExecuteTime": {
     "end_time": "2023-09-25T06:52:51.620794Z",
     "start_time": "2023-09-25T06:52:51.606753Z"
    }
   },
   "outputs": [
    {
     "name": "stdout",
     "output_type": "stream",
     "text": [
      "type : <class 'numpy.ndarray'>\n",
      "shape : (18,), dimension : 1, dtype : int32\n",
      "Array's Data: \n",
      " [ 1  2  3  4  5  6  7  8  9 10 11 12 13 14 15 16 17 18]\n"
     ]
    }
   ],
   "source": [
    "# axis를 지정하지 않으면 배열은 1차원 배열로 변형되어 결합된다.\n",
    "result = np.append(a, b)\n",
    "pprint(result)"
   ]
  },
  {
   "cell_type": "code",
   "execution_count": 148,
   "id": "980b0ff3",
   "metadata": {
    "ExecuteTime": {
     "end_time": "2023-09-25T06:53:23.911902Z",
     "start_time": "2023-09-25T06:53:23.894405Z"
    }
   },
   "outputs": [
    {
     "name": "stdout",
     "output_type": "stream",
     "text": [
      "type : <class 'numpy.ndarray'>\n",
      "shape : (3, 3), dimension : 2, dtype : int32\n",
      "Array's Data: \n",
      " [[1 2 3]\n",
      " [4 5 6]\n",
      " [7 8 9]]\n"
     ]
    }
   ],
   "source": [
    "pprint(a)"
   ]
  },
  {
   "cell_type": "code",
   "execution_count": 150,
   "id": "01d37ce2",
   "metadata": {
    "ExecuteTime": {
     "end_time": "2023-09-25T06:55:52.792614Z",
     "start_time": "2023-09-25T06:55:52.780980Z"
    }
   },
   "outputs": [
    {
     "name": "stdout",
     "output_type": "stream",
     "text": [
      "type : <class 'numpy.ndarray'>\n",
      "shape : (6, 3), dimension : 2, dtype : int32\n",
      "Array's Data: \n",
      " [[ 1  2  3]\n",
      " [ 4  5  6]\n",
      " [ 7  8  9]\n",
      " [10 11 12]\n",
      " [13 14 15]\n",
      " [16 17 18]]\n"
     ]
    }
   ],
   "source": [
    "# axis = 0 지정\n",
    "result = np.append(a, b, axis = 0)\n",
    "pprint(result)"
   ]
  },
  {
   "cell_type": "code",
   "execution_count": 151,
   "id": "b89cced6",
   "metadata": {
    "ExecuteTime": {
     "end_time": "2023-09-25T07:10:46.210441Z",
     "start_time": "2023-09-25T07:10:46.192504Z"
    }
   },
   "outputs": [],
   "source": [
    "# axis = 1 지정"
   ]
  },
  {
   "cell_type": "markdown",
   "id": "7f8815cc",
   "metadata": {},
   "source": [
    "**insert(arr, obj, values, axis=None)**\n",
    "- axis를 지정하지 않으면 1차원 배열로 변환된다.\n",
    "- 추가할 방향을 axis로 지정한다."
   ]
  },
  {
   "cell_type": "code",
   "execution_count": 152,
   "id": "0771983b",
   "metadata": {
    "ExecuteTime": {
     "end_time": "2023-09-25T07:12:31.889458Z",
     "start_time": "2023-09-25T07:12:31.880470Z"
    }
   },
   "outputs": [
    {
     "name": "stdout",
     "output_type": "stream",
     "text": [
      "type : <class 'numpy.ndarray'>\n",
      "shape : (3, 3), dimension : 2, dtype : int32\n",
      "Array's Data: \n",
      " [[1 2 3]\n",
      " [4 5 6]\n",
      " [7 8 9]]\n"
     ]
    }
   ],
   "source": [
    "a = np.arange(1, 10).reshape(3,3)\n",
    "pprint(a)"
   ]
  },
  {
   "cell_type": "code",
   "execution_count": 153,
   "id": "4f9c7c6c",
   "metadata": {
    "ExecuteTime": {
     "end_time": "2023-09-25T07:13:35.542513Z",
     "start_time": "2023-09-25T07:13:35.528081Z"
    }
   },
   "outputs": [
    {
     "data": {
      "text/plain": [
       "array([  1, 999,   2,   3,   4,   5,   6,   7,   8,   9])"
      ]
     },
     "execution_count": 153,
     "metadata": {},
     "output_type": "execute_result"
    }
   ],
   "source": [
    "np.insert(a, 1, 999)  # 1차원 배열로 변한되고 a의 1인덱스에 999를 추가한다."
   ]
  },
  {
   "cell_type": "code",
   "execution_count": 154,
   "id": "259afa87",
   "metadata": {
    "ExecuteTime": {
     "end_time": "2023-09-25T07:15:07.060447Z",
     "start_time": "2023-09-25T07:15:07.043119Z"
    }
   },
   "outputs": [
    {
     "data": {
      "text/plain": [
       "array([[  1,   2,   3],\n",
       "       [999, 999, 999],\n",
       "       [  4,   5,   6],\n",
       "       [  7,   8,   9]])"
      ]
     },
     "execution_count": 154,
     "metadata": {},
     "output_type": "execute_result"
    }
   ],
   "source": [
    "# a 배열의 axis는 0방향으로 1번 인덱스에 추가하는 작업\n",
    "# index가 1인 row에 값을 999가 추가되도록\n",
    "np.insert(a,1,999, axis=0)"
   ]
  },
  {
   "cell_type": "code",
   "execution_count": 155,
   "id": "0d7dbff2",
   "metadata": {
    "ExecuteTime": {
     "end_time": "2023-09-25T07:15:20.347087Z",
     "start_time": "2023-09-25T07:15:20.331452Z"
    }
   },
   "outputs": [
    {
     "data": {
      "text/plain": [
       "array([[  1, 999,   2,   3],\n",
       "       [  4, 999,   5,   6],\n",
       "       [  7, 999,   8,   9]])"
      ]
     },
     "execution_count": 155,
     "metadata": {},
     "output_type": "execute_result"
    }
   ],
   "source": [
    "np.insert(a, 1, 999, axis=1)"
   ]
  },
  {
   "cell_type": "markdown",
   "id": "c84a9a86",
   "metadata": {},
   "source": [
    "**delete(arr, obj, axis=None)**"
   ]
  },
  {
   "cell_type": "code",
   "execution_count": 156,
   "id": "f15dd7c3",
   "metadata": {
    "ExecuteTime": {
     "end_time": "2023-09-25T07:17:45.580827Z",
     "start_time": "2023-09-25T07:17:45.567522Z"
    }
   },
   "outputs": [
    {
     "name": "stdout",
     "output_type": "stream",
     "text": [
      "type : <class 'numpy.ndarray'>\n",
      "shape : (3, 3), dimension : 2, dtype : int32\n",
      "Array's Data: \n",
      " [[1 2 3]\n",
      " [4 5 6]\n",
      " [7 8 9]]\n"
     ]
    }
   ],
   "source": [
    "a = np.arange(1, 10).reshape(3,3)\n",
    "pprint(a)"
   ]
  },
  {
   "cell_type": "code",
   "execution_count": 157,
   "id": "8c0bf359",
   "metadata": {
    "ExecuteTime": {
     "end_time": "2023-09-25T07:18:05.810579Z",
     "start_time": "2023-09-25T07:18:05.800548Z"
    }
   },
   "outputs": [
    {
     "data": {
      "text/plain": [
       "array([1, 3, 4, 5, 6, 7, 8, 9])"
      ]
     },
     "execution_count": 157,
     "metadata": {},
     "output_type": "execute_result"
    }
   ],
   "source": [
    "# a배열의 일차원 배열로 변환하고 1번 index 삭제\n",
    "np.delete(a,1)"
   ]
  },
  {
   "cell_type": "code",
   "execution_count": 158,
   "id": "8f2ee6e7",
   "metadata": {
    "ExecuteTime": {
     "end_time": "2023-09-25T07:18:14.654730Z",
     "start_time": "2023-09-25T07:18:14.634710Z"
    }
   },
   "outputs": [
    {
     "data": {
      "text/plain": [
       "array([[1, 2, 3],\n",
       "       [7, 8, 9]])"
      ]
     },
     "execution_count": 158,
     "metadata": {},
     "output_type": "execute_result"
    }
   ],
   "source": [
    "np.delete(a, 1, axis=0)"
   ]
  },
  {
   "cell_type": "code",
   "execution_count": 159,
   "id": "c2edc784",
   "metadata": {
    "ExecuteTime": {
     "end_time": "2023-09-25T07:18:57.334503Z",
     "start_time": "2023-09-25T07:18:57.329394Z"
    }
   },
   "outputs": [
    {
     "data": {
      "text/plain": [
       "array([[1, 3],\n",
       "       [4, 6],\n",
       "       [7, 9]])"
      ]
     },
     "execution_count": 159,
     "metadata": {},
     "output_type": "execute_result"
    }
   ],
   "source": [
    "np.delete(a, 1, axis=1)"
   ]
  },
  {
   "cell_type": "markdown",
   "id": "50b44f12",
   "metadata": {},
   "source": [
    "**배열의 결합**\n",
    "- np.concatenate((arr1, arr2,...), axis=0)\n",
    "- np.vstack(tuple 형태): 수직 방향 배열 결합, axis=0과 동일한 의미를 가진다.\n",
    "- np.hstack(tuple 형태): 수평 방향 배열 결합, axis=1과 동일한 의미를 가진다."
   ]
  },
  {
   "cell_type": "code",
   "execution_count": 160,
   "id": "d1a25f14",
   "metadata": {
    "ExecuteTime": {
     "end_time": "2023-09-25T07:23:17.643890Z",
     "start_time": "2023-09-25T07:23:17.636891Z"
    }
   },
   "outputs": [
    {
     "name": "stdout",
     "output_type": "stream",
     "text": [
      "type : <class 'numpy.ndarray'>\n",
      "shape : (2, 3), dimension : 2, dtype : int32\n",
      "Array's Data: \n",
      " [[1 2 3]\n",
      " [4 5 6]]\n",
      "type : <class 'numpy.ndarray'>\n",
      "shape : (2, 3), dimension : 2, dtype : int32\n",
      "Array's Data: \n",
      " [[ 7  8  9]\n",
      " [10 11 12]]\n"
     ]
    }
   ],
   "source": [
    "a = np.arange(1, 7).reshape((2, 3))\n",
    "pprint(a)\n",
    "b = np.arange(7, 13).reshape((2, 3))\n",
    "pprint(b)"
   ]
  },
  {
   "cell_type": "code",
   "execution_count": 161,
   "id": "14acd7df",
   "metadata": {
    "ExecuteTime": {
     "end_time": "2023-09-25T07:24:22.458860Z",
     "start_time": "2023-09-25T07:24:22.452888Z"
    }
   },
   "outputs": [],
   "source": [
    "result = np.concatenate((a,b))  # axis = 0, vstack"
   ]
  },
  {
   "cell_type": "code",
   "execution_count": 162,
   "id": "5d87c1be",
   "metadata": {
    "ExecuteTime": {
     "end_time": "2023-09-25T07:24:43.032159Z",
     "start_time": "2023-09-25T07:24:43.022387Z"
    }
   },
   "outputs": [
    {
     "name": "stdout",
     "output_type": "stream",
     "text": [
      "type : <class 'numpy.ndarray'>\n",
      "shape : (4, 3), dimension : 2, dtype : int32\n",
      "Array's Data: \n",
      " [[ 1  2  3]\n",
      " [ 4  5  6]\n",
      " [ 7  8  9]\n",
      " [10 11 12]]\n"
     ]
    }
   ],
   "source": [
    "pprint(result)"
   ]
  },
  {
   "cell_type": "code",
   "execution_count": 163,
   "id": "77f76aa8",
   "metadata": {
    "ExecuteTime": {
     "end_time": "2023-09-25T07:25:15.860388Z",
     "start_time": "2023-09-25T07:25:15.847226Z"
    }
   },
   "outputs": [
    {
     "name": "stdout",
     "output_type": "stream",
     "text": [
      "type : <class 'numpy.ndarray'>\n",
      "shape : (4, 3), dimension : 2, dtype : int32\n",
      "Array's Data: \n",
      " [[ 1  2  3]\n",
      " [ 4  5  6]\n",
      " [ 7  8  9]\n",
      " [10 11 12]]\n"
     ]
    }
   ],
   "source": [
    "result = np.concatenate((a,b), axis=0)\n",
    "pprint(result)"
   ]
  },
  {
   "cell_type": "code",
   "execution_count": 164,
   "id": "47638e6f",
   "metadata": {
    "ExecuteTime": {
     "end_time": "2023-09-25T07:25:35.659092Z",
     "start_time": "2023-09-25T07:25:35.643778Z"
    }
   },
   "outputs": [
    {
     "name": "stdout",
     "output_type": "stream",
     "text": [
      "type : <class 'numpy.ndarray'>\n",
      "shape : (2, 6), dimension : 2, dtype : int32\n",
      "Array's Data: \n",
      " [[ 1  2  3  7  8  9]\n",
      " [ 4  5  6 10 11 12]]\n"
     ]
    }
   ],
   "source": [
    "result = np.concatenate((a,b), axis=1)\n",
    "pprint(result)"
   ]
  },
  {
   "cell_type": "code",
   "execution_count": 165,
   "id": "2dc79584",
   "metadata": {
    "ExecuteTime": {
     "end_time": "2023-09-25T07:26:25.481578Z",
     "start_time": "2023-09-25T07:26:25.474517Z"
    }
   },
   "outputs": [
    {
     "data": {
      "text/plain": [
       "array([[ 1,  2,  3],\n",
       "       [ 4,  5,  6],\n",
       "       [ 7,  8,  9],\n",
       "       [10, 11, 12]])"
      ]
     },
     "execution_count": 165,
     "metadata": {},
     "output_type": "execute_result"
    }
   ],
   "source": [
    "np.vstack((a, b))"
   ]
  },
  {
   "cell_type": "code",
   "execution_count": 166,
   "id": "7e28ec7a",
   "metadata": {
    "ExecuteTime": {
     "end_time": "2023-09-25T07:26:45.023393Z",
     "start_time": "2023-09-25T07:26:45.006359Z"
    }
   },
   "outputs": [
    {
     "data": {
      "text/plain": [
       "array([[ 1,  2,  3],\n",
       "       [ 4,  5,  6],\n",
       "       [ 7,  8,  9],\n",
       "       [10, 11, 12],\n",
       "       [ 1,  2,  3],\n",
       "       [ 4,  5,  6],\n",
       "       [ 7,  8,  9],\n",
       "       [10, 11, 12]])"
      ]
     },
     "execution_count": 166,
     "metadata": {},
     "output_type": "execute_result"
    }
   ],
   "source": [
    "np.vstack((a,b,a,b))"
   ]
  },
  {
   "cell_type": "code",
   "execution_count": 167,
   "id": "6e3b01e2",
   "metadata": {
    "ExecuteTime": {
     "end_time": "2023-09-25T07:27:28.828792Z",
     "start_time": "2023-09-25T07:27:28.816762Z"
    }
   },
   "outputs": [
    {
     "data": {
      "text/plain": [
       "array([[ 1,  2,  3,  7,  8,  9],\n",
       "       [ 4,  5,  6, 10, 11, 12]])"
      ]
     },
     "execution_count": 167,
     "metadata": {},
     "output_type": "execute_result"
    }
   ],
   "source": [
    "np.hstack((a, b))"
   ]
  },
  {
   "cell_type": "code",
   "execution_count": 168,
   "id": "5e11e024",
   "metadata": {
    "ExecuteTime": {
     "end_time": "2023-09-25T07:27:36.918110Z",
     "start_time": "2023-09-25T07:27:36.896813Z"
    }
   },
   "outputs": [
    {
     "data": {
      "text/plain": [
       "array([[ 1,  2,  3,  7,  8,  9,  1,  2,  3,  7,  8,  9],\n",
       "       [ 4,  5,  6, 10, 11, 12,  4,  5,  6, 10, 11, 12]])"
      ]
     },
     "execution_count": 168,
     "metadata": {},
     "output_type": "execute_result"
    }
   ],
   "source": [
    "np.hstack((a, b, a, b))"
   ]
  },
  {
   "cell_type": "markdown",
   "id": "432690ee",
   "metadata": {},
   "source": [
    "**배열분리: 수직, 수평으로 분할하는 함수를 제공**\n",
    "- np.hsplit(): 지정한 배열을 수평(행)방향으로 분할\n",
    "- np.vsplit(): 지정한 배열을 수직(열)방향으로 분할"
   ]
  },
  {
   "cell_type": "code",
   "execution_count": 169,
   "id": "c5ab5b4b",
   "metadata": {
    "ExecuteTime": {
     "end_time": "2023-09-25T07:29:01.386977Z",
     "start_time": "2023-09-25T07:29:01.379865Z"
    }
   },
   "outputs": [
    {
     "name": "stdout",
     "output_type": "stream",
     "text": [
      "type : <class 'numpy.ndarray'>\n",
      "shape : (4, 6), dimension : 2, dtype : int32\n",
      "Array's Data: \n",
      " [[ 1  2  3  4  5  6]\n",
      " [ 7  8  9 10 11 12]\n",
      " [13 14 15 16 17 18]\n",
      " [19 20 21 22 23 24]]\n"
     ]
    }
   ],
   "source": [
    "a = np.arange(1, 25).reshape((4, 6))\n",
    "pprint(a)"
   ]
  },
  {
   "cell_type": "code",
   "execution_count": 170,
   "id": "12b0d694",
   "metadata": {
    "ExecuteTime": {
     "end_time": "2023-09-25T07:29:38.920082Z",
     "start_time": "2023-09-25T07:29:38.901250Z"
    }
   },
   "outputs": [
    {
     "data": {
      "text/plain": [
       "[array([[ 1,  2,  3],\n",
       "        [ 7,  8,  9],\n",
       "        [13, 14, 15],\n",
       "        [19, 20, 21]]),\n",
       " array([[ 4,  5,  6],\n",
       "        [10, 11, 12],\n",
       "        [16, 17, 18],\n",
       "        [22, 23, 24]])]"
      ]
     },
     "execution_count": 170,
     "metadata": {},
     "output_type": "execute_result"
    }
   ],
   "source": [
    "np.hsplit(a, 2)  # a를 수평방향으로 2개로 분리"
   ]
  },
  {
   "cell_type": "code",
   "execution_count": 171,
   "id": "f18a40a6",
   "metadata": {
    "ExecuteTime": {
     "end_time": "2023-09-25T07:31:34.332824Z",
     "start_time": "2023-09-25T07:31:34.319131Z"
    }
   },
   "outputs": [
    {
     "data": {
      "text/plain": [
       "[array([[ 1,  2,  3],\n",
       "        [ 7,  8,  9],\n",
       "        [13, 14, 15],\n",
       "        [19, 20, 21]]),\n",
       " array([[ 4,  5,  6],\n",
       "        [10, 11, 12],\n",
       "        [16, 17, 18],\n",
       "        [22, 23, 24]])]"
      ]
     },
     "execution_count": 171,
     "metadata": {},
     "output_type": "execute_result"
    }
   ],
   "source": [
    "result = np.hsplit(a, 2)  # shape(2, 4, 3)\n",
    "result"
   ]
  },
  {
   "cell_type": "code",
   "execution_count": 172,
   "id": "534137b6",
   "metadata": {
    "ExecuteTime": {
     "end_time": "2023-09-25T07:32:34.803945Z",
     "start_time": "2023-09-25T07:32:34.790704Z"
    }
   },
   "outputs": [
    {
     "data": {
      "text/plain": [
       "[array([[ 1,  2],\n",
       "        [ 7,  8],\n",
       "        [13, 14],\n",
       "        [19, 20]]),\n",
       " array([[ 3,  4],\n",
       "        [ 9, 10],\n",
       "        [15, 16],\n",
       "        [21, 22]]),\n",
       " array([[ 5,  6],\n",
       "        [11, 12],\n",
       "        [17, 18],\n",
       "        [23, 24]])]"
      ]
     },
     "execution_count": 172,
     "metadata": {},
     "output_type": "execute_result"
    }
   ],
   "source": [
    "result = np.hsplit(a, 3) # 4행 2열 3개\n",
    "result"
   ]
  },
  {
   "cell_type": "code",
   "execution_count": 173,
   "id": "323372d8",
   "metadata": {
    "ExecuteTime": {
     "end_time": "2023-09-25T07:35:52.781105Z",
     "start_time": "2023-09-25T07:35:52.761123Z"
    }
   },
   "outputs": [
    {
     "data": {
      "text/plain": [
       "[array([[ 1],\n",
       "        [ 7],\n",
       "        [13],\n",
       "        [19]]),\n",
       " array([[ 2,  3],\n",
       "        [ 8,  9],\n",
       "        [14, 15],\n",
       "        [20, 21]]),\n",
       " array([[ 4,  5],\n",
       "        [10, 11],\n",
       "        [16, 17],\n",
       "        [22, 23]]),\n",
       " array([[ 6],\n",
       "        [12],\n",
       "        [18],\n",
       "        [24]])]"
      ]
     },
     "execution_count": 173,
     "metadata": {},
     "output_type": "execute_result"
    }
   ],
   "source": [
    "# 수평 방향으로 에러구간(index)으로 분할\n",
    "# np.hsplit(array, [index, ...])\n",
    "np.hsplit(a, [1,3,5])  # [:,:1], [:,1:3], [:,3:5], [:,5:]  총 네개로 분할"
   ]
  },
  {
   "cell_type": "markdown",
   "id": "4a27b12b",
   "metadata": {},
   "source": [
    "**배열 수직 분할: np.vsplit(arr, 분할기준)**"
   ]
  },
  {
   "cell_type": "code",
   "execution_count": 174,
   "id": "88cb61e2",
   "metadata": {
    "ExecuteTime": {
     "end_time": "2023-09-25T07:37:55.736161Z",
     "start_time": "2023-09-25T07:37:55.727115Z"
    }
   },
   "outputs": [
    {
     "name": "stdout",
     "output_type": "stream",
     "text": [
      "type : <class 'numpy.ndarray'>\n",
      "shape : (4, 6), dimension : 2, dtype : int32\n",
      "Array's Data: \n",
      " [[ 1  2  3  4  5  6]\n",
      " [ 7  8  9 10 11 12]\n",
      " [13 14 15 16 17 18]\n",
      " [19 20 21 22 23 24]]\n"
     ]
    }
   ],
   "source": [
    "a = np.arange(1, 25).reshape((4, 6))\n",
    "pprint(a)"
   ]
  },
  {
   "cell_type": "code",
   "execution_count": 175,
   "id": "679e0bb2",
   "metadata": {
    "ExecuteTime": {
     "end_time": "2023-09-25T07:38:46.949023Z",
     "start_time": "2023-09-25T07:38:46.935164Z"
    }
   },
   "outputs": [
    {
     "data": {
      "text/plain": [
       "[array([[ 1,  2,  3,  4,  5,  6],\n",
       "        [ 7,  8,  9, 10, 11, 12]]),\n",
       " array([[13, 14, 15, 16, 17, 18],\n",
       "        [19, 20, 21, 22, 23, 24]])]"
      ]
     },
     "execution_count": 175,
     "metadata": {},
     "output_type": "execute_result"
    }
   ],
   "source": [
    "# 수직 방향으로 배열을 두 개로 분할\n",
    "np.vsplit(a, 2) # a[:2, :], a[2:, :], a(2, 2, 6)"
   ]
  },
  {
   "cell_type": "code",
   "execution_count": 176,
   "id": "e53be4f1",
   "metadata": {
    "ExecuteTime": {
     "end_time": "2023-09-25T07:39:38.460086Z",
     "start_time": "2023-09-25T07:39:38.442418Z"
    }
   },
   "outputs": [
    {
     "data": {
      "text/plain": [
       "[array([[ 1,  2,  3,  4,  5,  6],\n",
       "        [ 7,  8,  9, 10, 11, 12]]),\n",
       " array([[13, 14, 15, 16, 17, 18],\n",
       "        [19, 20, 21, 22, 23, 24]])]"
      ]
     },
     "execution_count": 176,
     "metadata": {},
     "output_type": "execute_result"
    }
   ],
   "source": [
    "result = np.vsplit(a, 2)\n",
    "result"
   ]
  },
  {
   "cell_type": "code",
   "execution_count": 177,
   "id": "b04dedc6",
   "metadata": {
    "ExecuteTime": {
     "end_time": "2023-09-25T07:39:56.373306Z",
     "start_time": "2023-09-25T07:39:56.362330Z"
    }
   },
   "outputs": [
    {
     "data": {
      "text/plain": [
       "(2, 2, 6)"
      ]
     },
     "execution_count": 177,
     "metadata": {},
     "output_type": "execute_result"
    }
   ],
   "source": [
    "np.array(result).shape"
   ]
  },
  {
   "cell_type": "code",
   "execution_count": 178,
   "id": "29c4bff3",
   "metadata": {
    "ExecuteTime": {
     "end_time": "2023-09-25T07:40:35.879973Z",
     "start_time": "2023-09-25T07:40:35.864341Z"
    }
   },
   "outputs": [
    {
     "data": {
      "text/plain": [
       "[array([[1, 2, 3, 4, 5, 6]]),\n",
       " array([[ 7,  8,  9, 10, 11, 12]]),\n",
       " array([[13, 14, 15, 16, 17, 18]]),\n",
       " array([[19, 20, 21, 22, 23, 24]])]"
      ]
     },
     "execution_count": 178,
     "metadata": {},
     "output_type": "execute_result"
    }
   ],
   "source": [
    "result = np.vsplit(a, 4)\n",
    "result"
   ]
  },
  {
   "cell_type": "code",
   "execution_count": 179,
   "id": "c38b7f3a",
   "metadata": {
    "ExecuteTime": {
     "end_time": "2023-09-25T07:41:26.085760Z",
     "start_time": "2023-09-25T07:41:26.078278Z"
    }
   },
   "outputs": [
    {
     "data": {
      "text/plain": [
       "(4, 1, 6)"
      ]
     },
     "execution_count": 179,
     "metadata": {},
     "output_type": "execute_result"
    }
   ],
   "source": [
    "np.array(result).shape"
   ]
  },
  {
   "cell_type": "code",
   "execution_count": 180,
   "id": "4c451677",
   "metadata": {
    "ExecuteTime": {
     "end_time": "2023-09-25T07:41:48.688129Z",
     "start_time": "2023-09-25T07:41:48.671708Z"
    }
   },
   "outputs": [
    {
     "data": {
      "text/plain": [
       "[array([[1, 2, 3, 4, 5, 6]]),\n",
       " array([[ 7,  8,  9, 10, 11, 12],\n",
       "        [13, 14, 15, 16, 17, 18]]),\n",
       " array([[19, 20, 21, 22, 23, 24]])]"
      ]
     },
     "execution_count": 180,
     "metadata": {},
     "output_type": "execute_result"
    }
   ],
   "source": [
    "# row를 1, 2-3, 4 분할\n",
    "np.vsplit(a, [1, 3])"
   ]
  },
  {
   "cell_type": "code",
   "execution_count": null,
   "id": "abc1ef5d",
   "metadata": {},
   "outputs": [],
   "source": []
  }
 ],
 "metadata": {
  "kernelspec": {
   "display_name": "Python 3 (ipykernel)",
   "language": "python",
   "name": "python3"
  },
  "language_info": {
   "codemirror_mode": {
    "name": "ipython",
    "version": 3
   },
   "file_extension": ".py",
   "mimetype": "text/x-python",
   "name": "python",
   "nbconvert_exporter": "python",
   "pygments_lexer": "ipython3",
   "version": "3.8.17"
  },
  "toc": {
   "base_numbering": 1,
   "nav_menu": {},
   "number_sections": true,
   "sideBar": true,
   "skip_h1_title": false,
   "title_cell": "Table of Contents",
   "title_sidebar": "Contents",
   "toc_cell": false,
   "toc_position": {
    "height": "calc(100% - 180px)",
    "left": "10px",
    "top": "150px",
    "width": "384px"
   },
   "toc_section_display": true,
   "toc_window_display": true
  }
 },
 "nbformat": 4,
 "nbformat_minor": 5
}
