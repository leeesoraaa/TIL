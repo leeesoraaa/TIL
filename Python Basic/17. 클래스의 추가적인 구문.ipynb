{
 "cells": [
  {
   "cell_type": "markdown",
   "id": "b7a7f615",
   "metadata": {},
   "source": [
    "# isinstance(), 클래스 변수, 클래스 함수"
   ]
  },
  {
   "cell_type": "markdown",
   "id": "886ad1bb",
   "metadata": {},
   "source": [
    "## 상속(Inheritance): 부모클래스로부터 자녀클래스로 자원을 물려주는 것\n",
    "- 재활용을 극대화 하는 목적으로 구현된다."
   ]
  },
  {
   "cell_type": "code",
   "execution_count": 1,
   "id": "dcd52116",
   "metadata": {
    "ExecuteTime": {
     "end_time": "2023-08-30T00:09:53.368261Z",
     "start_time": "2023-08-30T00:09:53.359310Z"
    }
   },
   "outputs": [],
   "source": [
    "# isinstance(): 해당 객체가 어떤 클래스로부터 만들어졌는지 확인하는 메서드\n",
    "\n",
    "class Student:\n",
    "    def __init__(self):\n",
    "        pass"
   ]
  },
  {
   "cell_type": "code",
   "execution_count": 2,
   "id": "b102bd7c",
   "metadata": {
    "ExecuteTime": {
     "end_time": "2023-08-30T00:10:08.972943Z",
     "start_time": "2023-08-30T00:10:08.965925Z"
    }
   },
   "outputs": [],
   "source": [
    "student = Student()"
   ]
  },
  {
   "cell_type": "code",
   "execution_count": 3,
   "id": "78b3bdd6",
   "metadata": {
    "ExecuteTime": {
     "end_time": "2023-08-30T00:11:16.764085Z",
     "start_time": "2023-08-30T00:11:16.746306Z"
    }
   },
   "outputs": [
    {
     "name": "stdout",
     "output_type": "stream",
     "text": [
      "isinstance(student, Student): True\n"
     ]
    }
   ],
   "source": [
    "print(\"isinstance(student, Student):\", isinstance(student, Student))"
   ]
  },
  {
   "cell_type": "code",
   "execution_count": 4,
   "id": "c576cab1",
   "metadata": {
    "ExecuteTime": {
     "end_time": "2023-08-30T00:12:44.730810Z",
     "start_time": "2023-08-30T00:12:44.720145Z"
    }
   },
   "outputs": [],
   "source": [
    "class Student:\n",
    "    def study(self):\n",
    "        print(\"공부를 합니다.\")\n",
    "        \n",
    "class Teacher:\n",
    "    def teach(self):\n",
    "        print(\"학생을 가르칩니다.\")"
   ]
  },
  {
   "cell_type": "code",
   "execution_count": 5,
   "id": "e857b344",
   "metadata": {
    "ExecuteTime": {
     "end_time": "2023-08-30T00:15:01.583619Z",
     "start_time": "2023-08-30T00:15:01.565126Z"
    }
   },
   "outputs": [],
   "source": [
    "# 컨테이너: 여러 개의 데이터를 담는 자료구조, 리스트, 튜플, 사전, 집합...\n",
    "classroom = [Student(), Student(), Teacher(), Teacher(), Student(), Teacher()]"
   ]
  },
  {
   "cell_type": "code",
   "execution_count": 6,
   "id": "49751946",
   "metadata": {
    "ExecuteTime": {
     "end_time": "2023-08-30T00:18:18.546735Z",
     "start_time": "2023-08-30T00:18:18.538836Z"
    }
   },
   "outputs": [
    {
     "name": "stdout",
     "output_type": "stream",
     "text": [
      "공부를 합니다.\n",
      "공부를 합니다.\n",
      "학생을 가르칩니다.\n",
      "학생을 가르칩니다.\n",
      "공부를 합니다.\n",
      "학생을 가르칩니다.\n"
     ]
    }
   ],
   "source": [
    "# for 개별변수 in 집합변수(컨테이너객체)\n",
    "for obj in classroom:\n",
    "    if isinstance(obj, Student):\n",
    "        obj.study()\n",
    "    elif isinstance(obj, Teacher):\n",
    "        obj.teach()"
   ]
  },
  {
   "cell_type": "markdown",
   "id": "0dafcbc8",
   "metadata": {},
   "source": [
    "## toString(): 문자열을 반환할 목적으로 구현하는 메서드 - 자바\n",
    "\n",
    "- __str()__\n",
    "- __init__(): 생성자 메서드\n",
    "- __del__(): 소멸자 메서드\n",
    "- 특수한 상황에 자동으로 호출되도록 만들어진 메서드"
   ]
  },
  {
   "cell_type": "code",
   "execution_count": 7,
   "id": "35834cc5",
   "metadata": {
    "ExecuteTime": {
     "end_time": "2023-08-30T00:29:57.680060Z",
     "start_time": "2023-08-30T00:29:57.673157Z"
    }
   },
   "outputs": [],
   "source": [
    "class Student:\n",
    "    # 멤버 필드\n",
    "    \n",
    "    # 생성자 메서드\n",
    "    def __init__(self, name, kor, eng, math):\n",
    "        self.name = name\n",
    "        self.kor = kor\n",
    "        self.eng = eng\n",
    "        self.math = math\n",
    "    \n",
    "    # 멤버 메서드: getter(get), setter(set)\n",
    "    ## 총점을 계산하여 반환하는 메서드\n",
    "    def get_sum(self):\n",
    "        return self.kor + self.eng + self.math\n",
    "    \n",
    "    ## 평균을 계산하여 반환하는 메서드\n",
    "    def get_avg(self):\n",
    "        return self.get_sum() / 3\n",
    "    \n",
    "    ## 출력할 메서드\n",
    "    def disp(self):\n",
    "        return \"{}\\t{}\\t{}\".format(self.name, self.get_sum(), self.get_avg())\n",
    "    \n",
    "    def __str__(self):\n",
    "        return \"{}\\t{}\\t{}\".format(self.name, self.get_sum(), self.get_avg())\n",
    "    # 소멸자 메서드\n",
    "    def __del__(self):\n",
    "        pass"
   ]
  },
  {
   "cell_type": "code",
   "execution_count": 9,
   "id": "5b92f98d",
   "metadata": {
    "ExecuteTime": {
     "end_time": "2023-08-30T00:35:20.495725Z",
     "start_time": "2023-08-30T00:35:20.462916Z"
    }
   },
   "outputs": [
    {
     "name": "stdout",
     "output_type": "stream",
     "text": [
      "이름\t총점\t평균\n",
      "aaa\t250\t83.33333333333333\n",
      "bbb\t281\t93.66666666666667\n",
      "ccc\t257\t85.66666666666667\n",
      "ddd\t253\t84.33333333333333\n",
      "eee\t198\t66.0\n"
     ]
    }
   ],
   "source": [
    "students = [\n",
    "    Student('aaa', 88,97,65), \n",
    "    Student('bbb', 92,94,95), \n",
    "    Student('ccc', 85,88,84),\n",
    "    Student('ddd', 79,89,85), \n",
    "    Student('eee', 61,80,57)\n",
    "]\n",
    "\n",
    "print(\"이름\", \"총점\", \"평균\", sep=\"\\t\")\n",
    "for student in students:\n",
    "#    print(student.disp())\n",
    "    print(str(student))  # student.__str__() 자동 호출"
   ]
  },
  {
   "cell_type": "markdown",
   "id": "aae8631f",
   "metadata": {},
   "source": [
    "## 특수한 메서드\n",
    "- eq(=equal): 같다\n",
    "- ne(not equal): 다르다\n",
    "- gt(greater than): 크다\n",
    "- ge(greater than equal): 크거나 같다\n",
    "- lt(less than): 작다\n",
    "- le(less than equal): 작거나 같다"
   ]
  },
  {
   "cell_type": "code",
   "execution_count": 12,
   "id": "9e216457",
   "metadata": {
    "ExecuteTime": {
     "end_time": "2023-08-30T00:45:14.752575Z",
     "start_time": "2023-08-30T00:45:14.740100Z"
    }
   },
   "outputs": [],
   "source": [
    "class Student:\n",
    "    # 멤버 필드\n",
    "    \n",
    "    # 생성자 메서드\n",
    "    def __init__(self, name, kor, eng, math):\n",
    "        self.name = name\n",
    "        self.kor = kor\n",
    "        self.eng = eng\n",
    "        self.math = math\n",
    "    \n",
    "    # 멤버 메서드: getter(get), setter(set)\n",
    "    ## 총점을 계산하여 반환하는 메서드\n",
    "    def get_sum(self):\n",
    "        return self.kor + self.eng + self.math\n",
    "    \n",
    "    ## 평균을 계산하여 반환하는 메서드\n",
    "    def get_avg(self):\n",
    "        return self.get_sum() / 3\n",
    "    \n",
    "    ## 출력할 메서드 \n",
    "    def __str__(self):\n",
    "        return \"{}\\t{}\\t{}\".format(self.name, self.get_sum(), self.get_avg())\n",
    "    \n",
    "    # 특수한 목적을 가지고 있는 메서드: 매직 메서드\n",
    "    def __eq__(self, value):\n",
    "        return self.get_sum() == value.get_sum()\n",
    "              \n",
    "    def __ne__(self, value):\n",
    "        return self.get_sum() != value.get_sum()\n",
    "        \n",
    "    def __gt__(self, value):\n",
    "        return self.get_sum() > value.get_sum()\n",
    "        \n",
    "    def __ge__(self, value):\n",
    "        return self.get_sum() >= value.get_sum()\n",
    "        \n",
    "    def __lt__(self, value):\n",
    "        return self.get_sum() < value.get_sum()\n",
    "        \n",
    "    def __le__(self, value):\n",
    "        return self.get_sum() <= value.get_sum()"
   ]
  },
  {
   "cell_type": "code",
   "execution_count": 13,
   "id": "85a871dd",
   "metadata": {
    "ExecuteTime": {
     "end_time": "2023-08-30T00:45:15.632698Z",
     "start_time": "2023-08-30T00:45:15.615900Z"
    }
   },
   "outputs": [
    {
     "data": {
      "text/plain": [
       "False"
      ]
     },
     "execution_count": 13,
     "metadata": {},
     "output_type": "execute_result"
    }
   ],
   "source": [
    "stu_a = Student('aaa', 88,97,65) \n",
    "stu_b = Student('bbb', 92,94,95)\n",
    "\n",
    "stu_a == stu_b   # 매직메서드로 총점을 통해 비교한다는 것을 담았기 때문에 결과 도출됨"
   ]
  },
  {
   "cell_type": "markdown",
   "id": "2894c25b",
   "metadata": {},
   "source": [
    "## 클래스 변수와 클래스 메서드"
   ]
  },
  {
   "cell_type": "markdown",
   "id": "fe618268",
   "metadata": {},
   "source": [
    "<code>\n",
    "class 클래스이름:\n",
    "    클래스변수 = 값\n",
    "    \n",
    "클래스이름.클래스변수\n",
    "</code>"
   ]
  },
  {
   "cell_type": "code",
   "execution_count": 14,
   "id": "ac91f8d9",
   "metadata": {
    "ExecuteTime": {
     "end_time": "2023-08-30T00:51:22.461503Z",
     "start_time": "2023-08-30T00:51:22.445479Z"
    }
   },
   "outputs": [],
   "source": [
    "class Student:\n",
    "    # 멤버 필드: 클래스 변수\n",
    "    count = 0 # 학생 수 \n",
    "    \n",
    "    # 생성자 메서드\n",
    "    def __init__(self, name, kor, eng, math):\n",
    "        self.name = name\n",
    "        self.kor = kor\n",
    "        self.eng = eng\n",
    "        self.math = math\n",
    "        \n",
    "        # 클래스 변수 설정\n",
    "        Student.count += 1\n",
    "        print(\"{}번째 학생이 생성되었습니다.\".format(Student.count))\n",
    "    \n",
    "    # 멤버 메서드: getter(get), setter(set)\n",
    "    ## 총점을 계산하여 반환하는 메서드\n",
    "    def get_sum(self):\n",
    "        return self.kor + self.eng + self.math\n",
    "    \n",
    "    ## 평균을 계산하여 반환하는 메서드\n",
    "    def get_avg(self):\n",
    "        return self.get_sum() / 3\n",
    "    \n",
    "    ## 출력할 메서드 \n",
    "    def __str__(self):\n",
    "        return \"{}\\t{}\\t{}\".format(self.name, self.get_sum(), self.get_avg())"
   ]
  },
  {
   "cell_type": "code",
   "execution_count": 15,
   "id": "34e2ceaf",
   "metadata": {
    "ExecuteTime": {
     "end_time": "2023-08-30T00:52:20.080220Z",
     "start_time": "2023-08-30T00:52:20.075193Z"
    }
   },
   "outputs": [
    {
     "name": "stdout",
     "output_type": "stream",
     "text": [
      "1번째 학생이 생성되었습니다.\n",
      "2번째 학생이 생성되었습니다.\n",
      "3번째 학생이 생성되었습니다.\n",
      "4번째 학생이 생성되었습니다.\n",
      "5번째 학생이 생성되었습니다.\n",
      "현재 생성된 총 학생 수는 5명 입니다.\n"
     ]
    }
   ],
   "source": [
    "students = [\n",
    "    Student('aaa', 88,97,65), \n",
    "    Student('bbb', 92,94,95), \n",
    "    Student('ccc', 85,88,84),\n",
    "    Student('ddd', 79,89,85), \n",
    "    Student('eee', 61,80,57)\n",
    "]\n",
    "print(\"현재 생성된 총 학생 수는 {}명 입니다.\".format(Student.count))\n",
    "# 클래스 변수는 클래스 안이나 밖이나 클래스명으로 접근"
   ]
  },
  {
   "cell_type": "markdown",
   "id": "c60b76de",
   "metadata": {},
   "source": [
    "- 클래스 함수: 클래스가 가진 함수\n",
    "- 데코레이터(decorator): @classmethod\n",
    "- def 함수명(cls):"
   ]
  },
  {
   "cell_type": "code",
   "execution_count": 20,
   "id": "d44e414e",
   "metadata": {
    "ExecuteTime": {
     "end_time": "2023-08-30T01:20:54.534017Z",
     "start_time": "2023-08-30T01:20:54.527468Z"
    }
   },
   "outputs": [],
   "source": [
    "class Student:\n",
    "    # 멤버 필드: 클래스 변수\n",
    "    count = 0 # 학생 수 \n",
    "    students = []\n",
    "    \n",
    "    # 클래스 함수\n",
    "    @classmethod\n",
    "    def print(cls):\n",
    "        print(\"------- 학생목록 출력 -------\")\n",
    "        print(\"이름\", \"총점\", \"평균\", sep=\"\\t\")\n",
    "        for student in cls.students:\n",
    "            print(str(student))\n",
    "        print(\"------- ----------- -------\")\n",
    "    \n",
    "    # 생성자 메서드\n",
    "    def __init__(self, name, kor, eng, math):\n",
    "        self.name = name\n",
    "        self.kor = kor\n",
    "        self.eng = eng\n",
    "        self.math = math\n",
    "        \n",
    "        Student.students.append(self)\n",
    "    \n",
    "    # 멤버 메서드: getter(get), setter(set)\n",
    "    ## 총점을 계산하여 반환하는 메서드\n",
    "    def get_sum(self):\n",
    "        return self.kor + self.eng + self.math\n",
    "    \n",
    "    ## 평균을 계산하여 반환하는 메서드\n",
    "    def get_avg(self):\n",
    "        return self.get_sum() / 3\n",
    "    \n",
    "    ## 출력할 메서드 \n",
    "    def __str__(self):\n",
    "        return \"{}\\t{}\\t{}\".format(self.name, self.get_sum(), self.get_avg())"
   ]
  },
  {
   "cell_type": "code",
   "execution_count": 21,
   "id": "1f3d2a9c",
   "metadata": {
    "ExecuteTime": {
     "end_time": "2023-08-30T01:20:55.292582Z",
     "start_time": "2023-08-30T01:20:55.278628Z"
    }
   },
   "outputs": [
    {
     "name": "stdout",
     "output_type": "stream",
     "text": [
      "------- 학생목록 출력 -------\n",
      "이름\t총점\t평균\n",
      "aaa\t250\t83.33333333333333\n",
      "bbb\t281\t93.66666666666667\n",
      "ccc\t257\t85.66666666666667\n",
      "ddd\t253\t84.33333333333333\n",
      "eee\t198\t66.0\n",
      "------- ----------- -------\n"
     ]
    }
   ],
   "source": [
    "Student('aaa', 88,97,65) \n",
    "Student('bbb', 92,94,95) \n",
    "Student('ccc', 85,88,84)\n",
    "Student('ddd', 79,89,85) \n",
    "Student('eee', 61,80,57)\n",
    "\n",
    "Student.print()"
   ]
  },
  {
   "cell_type": "markdown",
   "id": "37dfa740",
   "metadata": {},
   "source": [
    "# 프라이빗 변수와 getter/setter 메서드"
   ]
  },
  {
   "cell_type": "code",
   "execution_count": 29,
   "id": "34dae971",
   "metadata": {
    "ExecuteTime": {
     "end_time": "2023-08-30T01:33:31.991832Z",
     "start_time": "2023-08-30T01:33:31.979891Z"
    }
   },
   "outputs": [],
   "source": [
    "# 모듈\n",
    "import math\n",
    "\n",
    "# 원을 추상화하는 클래스\n",
    "class Circle:\n",
    "    def __init__(self, radius):\n",
    "        self.__radius = radius  # 프라이빗 변수\n",
    "        \n",
    "    def get_area(self):\n",
    "        return math.pi * (self.__radius ** 2)\n",
    "    \n",
    "    def get_side(self):\n",
    "        return math.pi * 2 * self.__radius\n",
    "    \n",
    "    # getter/setter: private한 변수에 접근을 하기 위한 목적으로 구현하는 메서드\n",
    "    @property\n",
    "    def get_radius(self):\n",
    "        return self.__radius\n",
    "    @property\n",
    "    def set_radius(self, radius):\n",
    "        self.__radius = radius"
   ]
  },
  {
   "cell_type": "code",
   "execution_count": 31,
   "id": "e6a02afc",
   "metadata": {
    "ExecuteTime": {
     "end_time": "2023-08-30T01:34:02.364744Z",
     "start_time": "2023-08-30T01:34:02.349796Z"
    }
   },
   "outputs": [
    {
     "name": "stdout",
     "output_type": "stream",
     "text": [
      "원의 둘레: 62.83185307179586\n",
      "원의 면적: 314.1592653589793\n"
     ]
    },
    {
     "ename": "AttributeError",
     "evalue": "'Circle' object has no attribute '__radius'",
     "output_type": "error",
     "traceback": [
      "\u001b[1;31m---------------------------------------------------------------------------\u001b[0m",
      "\u001b[1;31mAttributeError\u001b[0m                            Traceback (most recent call last)",
      "\u001b[1;32m<ipython-input-31-b2cf0ac286b6>\u001b[0m in \u001b[0;36m<module>\u001b[1;34m\u001b[0m\n\u001b[0;32m      2\u001b[0m \u001b[0mprint\u001b[0m\u001b[1;33m(\u001b[0m\u001b[1;34m\"원의 둘레:\"\u001b[0m\u001b[1;33m,\u001b[0m \u001b[0map\u001b[0m\u001b[1;33m.\u001b[0m\u001b[0mget_side\u001b[0m\u001b[1;33m(\u001b[0m\u001b[1;33m)\u001b[0m\u001b[1;33m)\u001b[0m\u001b[1;33m\u001b[0m\u001b[1;33m\u001b[0m\u001b[0m\n\u001b[0;32m      3\u001b[0m \u001b[0mprint\u001b[0m\u001b[1;33m(\u001b[0m\u001b[1;34m\"원의 면적:\"\u001b[0m\u001b[1;33m,\u001b[0m \u001b[0map\u001b[0m\u001b[1;33m.\u001b[0m\u001b[0mget_area\u001b[0m\u001b[1;33m(\u001b[0m\u001b[1;33m)\u001b[0m\u001b[1;33m)\u001b[0m\u001b[1;33m\u001b[0m\u001b[1;33m\u001b[0m\u001b[0m\n\u001b[1;32m----> 4\u001b[1;33m \u001b[0mprint\u001b[0m\u001b[1;33m(\u001b[0m\u001b[1;34m\"반지름:\"\u001b[0m\u001b[1;33m,\u001b[0m \u001b[0map\u001b[0m\u001b[1;33m.\u001b[0m\u001b[0m__radius\u001b[0m\u001b[1;33m)\u001b[0m  \u001b[1;31m## __raidus 변수는 클래스 밖에서 접근 불가\u001b[0m\u001b[1;33m\u001b[0m\u001b[1;33m\u001b[0m\u001b[0m\n\u001b[0m",
      "\u001b[1;31mAttributeError\u001b[0m: 'Circle' object has no attribute '__radius'"
     ]
    }
   ],
   "source": [
    "ap = Circle(10)\n",
    "print(\"원의 둘레:\", ap.get_side())\n",
    "print(\"원의 면적:\", ap.get_area())\n",
    "print(\"반지름:\", ap.__radius)  ## __raidus 변수는 클래스 밖에서 접근 불가"
   ]
  },
  {
   "cell_type": "code",
   "execution_count": 33,
   "id": "c23df65b",
   "metadata": {
    "ExecuteTime": {
     "end_time": "2023-08-30T01:34:05.700979Z",
     "start_time": "2023-08-30T01:34:05.695915Z"
    }
   },
   "outputs": [
    {
     "name": "stdout",
     "output_type": "stream",
     "text": [
      "반지름: 10\n"
     ]
    }
   ],
   "source": [
    "print(\"반지름:\", ap.get_radius())"
   ]
  },
  {
   "cell_type": "code",
   "execution_count": 35,
   "id": "e0d3c3f7",
   "metadata": {
    "ExecuteTime": {
     "end_time": "2023-08-30T01:34:50.507236Z",
     "start_time": "2023-08-30T01:34:50.490395Z"
    }
   },
   "outputs": [
    {
     "name": "stdout",
     "output_type": "stream",
     "text": [
      "반지름: 10\n"
     ]
    }
   ],
   "source": [
    "ap.__radius = 5  # 프라이빗변수: 클래스 밖에서 직접 접근 불가\n",
    "print(\"반지름:\", ap.get_radius())"
   ]
  },
  {
   "cell_type": "code",
   "execution_count": null,
   "id": "b45471ec",
   "metadata": {},
   "outputs": [],
   "source": []
  }
 ],
 "metadata": {
  "kernelspec": {
   "display_name": "Python 3",
   "language": "python",
   "name": "python3"
  },
  "language_info": {
   "codemirror_mode": {
    "name": "ipython",
    "version": 3
   },
   "file_extension": ".py",
   "mimetype": "text/x-python",
   "name": "python",
   "nbconvert_exporter": "python",
   "pygments_lexer": "ipython3",
   "version": "3.8.8"
  },
  "toc": {
   "base_numbering": 1,
   "nav_menu": {},
   "number_sections": true,
   "sideBar": true,
   "skip_h1_title": false,
   "title_cell": "Table of Contents",
   "title_sidebar": "Contents",
   "toc_cell": false,
   "toc_position": {
    "height": "calc(100% - 180px)",
    "left": "10px",
    "top": "150px",
    "width": "307.2px"
   },
   "toc_section_display": true,
   "toc_window_display": false
  }
 },
 "nbformat": 4,
 "nbformat_minor": 5
}
