{
 "cells": [
  {
   "cell_type": "markdown",
   "id": "af0e993d",
   "metadata": {},
   "source": [
    "# 클래스"
   ]
  },
  {
   "cell_type": "markdown",
   "id": "08d82e4a",
   "metadata": {},
   "source": [
    "## 인스턴스 객체 생성"
   ]
  },
  {
   "cell_type": "code",
   "execution_count": 1,
   "id": "503617ce",
   "metadata": {
    "ExecuteTime": {
     "end_time": "2023-08-28T00:16:45.463007Z",
     "start_time": "2023-08-28T00:16:45.446878Z"
    }
   },
   "outputs": [],
   "source": [
    "class Person:\n",
    "    # 멤버 필드: 변수, 인스턴스 변수(개별적인), 클래스 변수(공유목적)\n",
    "    ## self: 인스턴스 자신의 주소값을 가르키는 키워드, 자기 자신, this\n",
    "    ## super: 부모객체를 가르키는 키워드\n",
    "    \n",
    "    # 생성자 메서드: 인스턴스 객체 생성시 자동으로 호출되는 메서드\n",
    "    ## 멤버 필드를 초기화할 목적, 객체가 생성될 떄 처음으로 해야할 작업을 기술\n",
    "    def __init__(self):\n",
    "        print(\"객체 생성\")\n",
    "    \n",
    "    # 멤버 메서드: 함수, 행위나 동작 등을 기술\n",
    "    def walk(self):\n",
    "        print(\"사람이 걸어갑니다.\")\n",
    "        \n",
    "    def run(self):\n",
    "        print(\"사람이 달려갑니다.\")\n",
    "    \n",
    "    # 소멸자 메서드: 객체가 소멸될 때 자동으로 호출되는 메서드\n",
    "    def __del__(self):\n",
    "        print(\"객체 소멸\")"
   ]
  },
  {
   "cell_type": "code",
   "execution_count": 3,
   "id": "e2347d70",
   "metadata": {
    "ExecuteTime": {
     "end_time": "2023-08-28T00:17:30.725054Z",
     "start_time": "2023-08-28T00:17:30.695964Z"
    }
   },
   "outputs": [
    {
     "name": "stdout",
     "output_type": "stream",
     "text": [
      "객체 생성\n",
      "사람이 걸어갑니다.\n",
      "사람이 달려갑니다.\n"
     ]
    }
   ],
   "source": [
    "p = Person()\n",
    "p.walk()\n",
    "p.run()"
   ]
  },
  {
   "cell_type": "markdown",
   "id": "26acbbe6",
   "metadata": {},
   "source": [
    "## 멤버필드"
   ]
  },
  {
   "cell_type": "code",
   "execution_count": 13,
   "id": "3ec3d9bd",
   "metadata": {
    "ExecuteTime": {
     "end_time": "2023-08-28T00:25:27.534876Z",
     "start_time": "2023-08-28T00:25:27.520590Z"
    }
   },
   "outputs": [],
   "source": [
    "# 사람 객체를 추상화할 목적으로 구현된 클래스\n",
    "class Person:\n",
    "    # 멤버 필드: 변수, 인스턴스 변수(개별적인), 클래스 변수(공유목적)\n",
    "    ## self: 인스턴스 자신의 주소값을 가르키는 키워드, 자기 자신, this\n",
    "    ## super: 부모객체를 가르키는 키워드\n",
    "    ## name = \" \"\n",
    "    \n",
    "    # 생성자 메서드: 인스턴스 객체 생성시 자동으로 호출되는 메서드\n",
    "    ## 멤버 필드를 초기화할 목적, 객체가 생성될 떄 처음으로 해야할 작업을 기술\n",
    "    def __init__(self):\n",
    "        print(\"객체 생성\")\n",
    "    \n",
    "    # 멤버 메서드: 함수, 행위나 동작 등을 기술\n",
    "    def walk(self):\n",
    "        print(self.name + \"이 걸어갑니다.\")\n",
    "        \n",
    "    def run(self):\n",
    "        print(self.name + \"이 달려갑니다.\")\n",
    "    \n",
    "    # 소멸자 메서드: 객체가 소멸될 때 자동으로 호출되는 메서드\n",
    "    def __del__(self):\n",
    "        print(\"객체 소멸\")"
   ]
  },
  {
   "cell_type": "code",
   "execution_count": 14,
   "id": "db60690f",
   "metadata": {
    "ExecuteTime": {
     "end_time": "2023-08-28T00:25:28.266737Z",
     "start_time": "2023-08-28T00:25:28.259636Z"
    }
   },
   "outputs": [
    {
     "name": "stdout",
     "output_type": "stream",
     "text": [
      "객체 생성\n",
      "객체 소멸\n",
      "홍길동이 걸어갑니다.\n",
      "홍길동이 달려갑니다.\n"
     ]
    }
   ],
   "source": [
    "p2 = Person()\n",
    "p2.name = \"홍길동\"\n",
    "p2.walk()\n",
    "p2.run()"
   ]
  },
  {
   "cell_type": "code",
   "execution_count": 15,
   "id": "5b86abe9",
   "metadata": {
    "ExecuteTime": {
     "end_time": "2023-08-28T00:26:23.279616Z",
     "start_time": "2023-08-28T00:26:23.261815Z"
    }
   },
   "outputs": [
    {
     "name": "stdout",
     "output_type": "stream",
     "text": [
      "객체 생성\n",
      "장보고이 걸어갑니다.\n",
      "장보고이 달려갑니다.\n"
     ]
    }
   ],
   "source": [
    "p3 = Person()\n",
    "# 멤버 필드 초기화 작업\n",
    "p3.name = \"장보고\"\n",
    "p3.walk()\n",
    "p3.run()"
   ]
  },
  {
   "cell_type": "markdown",
   "id": "38db8dd0",
   "metadata": {},
   "source": [
    "## 생성자 메서드"
   ]
  },
  {
   "cell_type": "code",
   "execution_count": 16,
   "id": "7107082b",
   "metadata": {
    "ExecuteTime": {
     "end_time": "2023-08-28T00:28:28.263852Z",
     "start_time": "2023-08-28T00:28:28.252898Z"
    }
   },
   "outputs": [],
   "source": [
    "# 사람 객체를 추상화할 목적으로 구현된 클래스\n",
    "class Person:\n",
    "    # 멤버 필드: 변수, 인스턴스 변수(개별적인), 클래스 변수(공유목적)\n",
    "    ## self: 인스턴스 자신의 주소값을 가르키는 키워드, 자기 자신, this\n",
    "    ## super: 부모객체를 가르키는 키워드\n",
    "    name = \" \"\n",
    "    \n",
    "    # 생성자 메서드: 인스턴스 객체 생성시 자동으로 호출되는 메서드\n",
    "    ## 멤버 필드를 초기화할 목적, 객체가 생성될 떄 처음으로 해야할 작업을 기술\n",
    "    def __init__(self, name):\n",
    "        print(\"객체 생성\")\n",
    "        self.name = name\n",
    "    \n",
    "    # 멤버 메서드: 함수, 행위나 동작 등을 기술\n",
    "    def walk(self):\n",
    "        print(self.name + \"이 걸어갑니다.\")\n",
    "        \n",
    "    def run(self):\n",
    "        print(self.name + \"이 달려갑니다.\")\n",
    "    \n",
    "    # 소멸자 메서드: 객체가 소멸될 때 자동으로 호출되는 메서드\n",
    "    def __del__(self):\n",
    "        print(\"객체 소멸\")"
   ]
  },
  {
   "cell_type": "code",
   "execution_count": 17,
   "id": "49613e8c",
   "metadata": {
    "ExecuteTime": {
     "end_time": "2023-08-28T00:29:34.356248Z",
     "start_time": "2023-08-28T00:29:34.348203Z"
    }
   },
   "outputs": [
    {
     "name": "stdout",
     "output_type": "stream",
     "text": [
      "객체 생성\n",
      "이순신이 걸어갑니다.\n",
      "이순신이 달려갑니다.\n"
     ]
    }
   ],
   "source": [
    "p4 = Person(\"이순신\")\n",
    "p4.walk()\n",
    "p4.run()"
   ]
  },
  {
   "cell_type": "markdown",
   "id": "4fcdac24",
   "metadata": {
    "ExecuteTime": {
     "end_time": "2023-08-28T00:30:42.459213Z",
     "start_time": "2023-08-28T00:30:42.445262Z"
    }
   },
   "source": [
    "## Person 객체가 생성될 때 해당 클래스로 만든 객체의 수를 카운트"
   ]
  },
  {
   "cell_type": "code",
   "execution_count": 23,
   "id": "7fbb5310",
   "metadata": {
    "ExecuteTime": {
     "end_time": "2023-08-28T00:38:25.425256Z",
     "start_time": "2023-08-28T00:38:25.418352Z"
    }
   },
   "outputs": [],
   "source": [
    "# 사람 객체를 추상화할 목적으로 구현된 클래스\n",
    "class Person:\n",
    "    # 멤버 필드: 변수, 인스턴스 변수(개별적인), 클래스 변수(공유목적)\n",
    "    ## self: 인스턴스 자신의 주소값을 가르키는 키워드, 자기 자신, this\n",
    "    ## super: 부모객체를 가르키는 키워드\n",
    "    count = 0 # 객체가 생성될 때 마다 1씩 증가하는 누적변수\n",
    "    \n",
    "    # 생성자 메서드: 인스턴스 객체 생성시 자동으로 호출되는 메서드\n",
    "    ## 멤버 필드를 초기화할 목적, 객체가 생성될 떄 처음으로 해야할 작업을 기술\n",
    "    def __init__(self, name):\n",
    "        print(\"객체 생성\")\n",
    "        self.name = name\n",
    "        Person.count += 1\n",
    "    \n",
    "    # 멤버 메서드: 함수, 행위나 동작 등을 기술\n",
    "    def walk(self):\n",
    "        print(self.name + \"이 걸어갑니다.\")\n",
    "        \n",
    "    def run(self):\n",
    "        print(self.name + \"이 달려갑니다.\")\n",
    "        \n",
    "    def show(self):\n",
    "        print(\"생성된 객체 수:\", Person.count)\n",
    "    \n",
    "    # 소멸자 메서드: 객체가 소멸될 때 자동으로 호출되는 메서드\n",
    "    def __del__(self):\n",
    "        print(\"객체 소멸\")"
   ]
  },
  {
   "cell_type": "code",
   "execution_count": 24,
   "id": "ff781229",
   "metadata": {
    "ExecuteTime": {
     "end_time": "2023-08-28T00:38:26.376750Z",
     "start_time": "2023-08-28T00:38:26.355393Z"
    }
   },
   "outputs": [
    {
     "name": "stdout",
     "output_type": "stream",
     "text": [
      "객체 생성\n",
      "객체 소멸\n",
      "생성된 객체 수: 1\n"
     ]
    }
   ],
   "source": [
    "p1 = Person(\"aaa\")\n",
    "p1.show()"
   ]
  },
  {
   "cell_type": "code",
   "execution_count": 25,
   "id": "d999c628",
   "metadata": {
    "ExecuteTime": {
     "end_time": "2023-08-28T00:38:30.178823Z",
     "start_time": "2023-08-28T00:38:30.165117Z"
    }
   },
   "outputs": [
    {
     "name": "stdout",
     "output_type": "stream",
     "text": [
      "객체 생성\n",
      "객체 소멸\n",
      "객체 생성\n",
      "객체 소멸\n",
      "객체 생성\n",
      "객체 소멸\n",
      "생성된 객체 수: 4\n",
      "생성된 객체 수: 4\n"
     ]
    }
   ],
   "source": [
    "p1 = Person(\"aaa\")\n",
    "p2 = Person(\"bbb\")\n",
    "p3 = Person(\"ccc\")\n",
    "p2.show()\n",
    "p3.show()"
   ]
  },
  {
   "cell_type": "markdown",
   "id": "92436172",
   "metadata": {},
   "source": [
    "## 클래스 변수: 모든 인스턴스가 공유할 목적으로 구현하는 변수"
   ]
  },
  {
   "cell_type": "code",
   "execution_count": 26,
   "id": "58e43b30",
   "metadata": {
    "ExecuteTime": {
     "end_time": "2023-08-28T00:44:36.622667Z",
     "start_time": "2023-08-28T00:44:36.605777Z"
    }
   },
   "outputs": [],
   "source": [
    "class Person:\n",
    "    # 멤버 필드 = 프로퍼티\n",
    "    name = \"kim\"\n",
    "    age = 20\n",
    "    height = 180.5\n",
    "    \n",
    "    # 멤버 메서드\n",
    "    def disp(self):\n",
    "        ## self.변수: 인스턴스 변수 - 개별적인 값\n",
    "        print(\"이름:\", self.name)\n",
    "        print(\"나이:\", self.age)\n",
    "        print(\"신장:\", self.height)\n",
    "        print(\"-\" * 50)\n",
    "        ## class명.변수: 클래스 변수 - 공통적인 값\n",
    "        print(\"이름:\", Person.name)\n",
    "        print(\"나이:\", Person.age)\n",
    "        print(\"신장:\", Person.height)"
   ]
  },
  {
   "cell_type": "code",
   "execution_count": 27,
   "id": "c2739585",
   "metadata": {
    "ExecuteTime": {
     "end_time": "2023-08-28T00:44:52.148554Z",
     "start_time": "2023-08-28T00:44:52.144637Z"
    }
   },
   "outputs": [
    {
     "name": "stdout",
     "output_type": "stream",
     "text": [
      "객체 소멸\n",
      "이름: kim\n",
      "나이: 20\n",
      "신장: 180.5\n",
      "--------------------------------------------------\n",
      "이름: kim\n",
      "나이: 20\n",
      "신장: 180.5\n"
     ]
    }
   ],
   "source": [
    "p1 = Person()\n",
    "p1.disp()"
   ]
  },
  {
   "cell_type": "code",
   "execution_count": 28,
   "id": "9fd64b38",
   "metadata": {
    "ExecuteTime": {
     "end_time": "2023-08-28T00:45:43.591729Z",
     "start_time": "2023-08-28T00:45:43.586723Z"
    }
   },
   "outputs": [
    {
     "name": "stdout",
     "output_type": "stream",
     "text": [
      "객체 소멸\n",
      "이름: Park\n",
      "나이: 15\n",
      "신장: 160.3\n",
      "--------------------------------------------------\n",
      "이름: kim\n",
      "나이: 20\n",
      "신장: 180.5\n"
     ]
    }
   ],
   "source": [
    "p2 = Person()\n",
    "p2.name = \"Park\"\n",
    "p2.age = 15\n",
    "p2.height = 160.3\n",
    "p2.disp()"
   ]
  },
  {
   "cell_type": "code",
   "execution_count": 29,
   "id": "60d008b2",
   "metadata": {
    "ExecuteTime": {
     "end_time": "2023-08-28T00:46:50.369968Z",
     "start_time": "2023-08-28T00:46:50.350515Z"
    }
   },
   "outputs": [
    {
     "name": "stdout",
     "output_type": "stream",
     "text": [
      "객체 소멸\n",
      "이름: Park\n",
      "나이: 15\n",
      "신장: 160.3\n",
      "--------------------------------------------------\n",
      "이름: kim\n",
      "나이: 20\n",
      "신장: 180.5\n"
     ]
    }
   ],
   "source": [
    "p3 = p2 # 객체 복사(주소 복사)\n",
    "p3.disp()"
   ]
  },
  {
   "cell_type": "code",
   "execution_count": 30,
   "id": "9ed81eeb",
   "metadata": {
    "ExecuteTime": {
     "end_time": "2023-08-28T00:47:29.827446Z",
     "start_time": "2023-08-28T00:47:29.814991Z"
    }
   },
   "outputs": [
    {
     "name": "stdout",
     "output_type": "stream",
     "text": [
      "이름: Hong\n",
      "나이: 15\n",
      "신장: 160.3\n",
      "--------------------------------------------------\n",
      "이름: kim\n",
      "나이: 20\n",
      "신장: 180.5\n",
      "이름: Hong\n",
      "나이: 15\n",
      "신장: 160.3\n",
      "--------------------------------------------------\n",
      "이름: kim\n",
      "나이: 20\n",
      "신장: 180.5\n"
     ]
    }
   ],
   "source": [
    "p3.name = \"Hong\"\n",
    "p3.disp()\n",
    "p2.disp() # p2도 함께 바뀜"
   ]
  },
  {
   "cell_type": "markdown",
   "id": "4864aedc",
   "metadata": {},
   "source": [
    "## default parameter: 매개변수의 초기화"
   ]
  },
  {
   "cell_type": "code",
   "execution_count": 31,
   "id": "f4276006",
   "metadata": {
    "ExecuteTime": {
     "end_time": "2023-08-28T01:03:10.826253Z",
     "start_time": "2023-08-28T01:03:10.818253Z"
    }
   },
   "outputs": [],
   "source": [
    "class Member:\n",
    "    # 생성자 메서드\n",
    "    def __init__(self, userid, pwd, name):\n",
    "        self.userid = userid\n",
    "        self.pwd = pwd\n",
    "        self.name = name\n",
    "        \n",
    "    def show(self):\n",
    "        print(\"id:\", self.userid)\n",
    "        print(\"pass:\", self.pwd)\n",
    "        print(\"name:\", self.name)"
   ]
  },
  {
   "cell_type": "code",
   "execution_count": 32,
   "id": "d0082794",
   "metadata": {
    "ExecuteTime": {
     "end_time": "2023-08-28T01:03:38.654291Z",
     "start_time": "2023-08-28T01:03:38.646005Z"
    }
   },
   "outputs": [
    {
     "name": "stdout",
     "output_type": "stream",
     "text": [
      "id: aaa\n",
      "pass: 1234\n",
      "name: 홍길동\n"
     ]
    }
   ],
   "source": [
    "m = Member('aaa', '1234', '홍길동')\n",
    "m.show()"
   ]
  },
  {
   "cell_type": "code",
   "execution_count": 37,
   "id": "a6e8de13",
   "metadata": {
    "ExecuteTime": {
     "end_time": "2023-08-28T01:05:25.589167Z",
     "start_time": "2023-08-28T01:05:25.576105Z"
    }
   },
   "outputs": [],
   "source": [
    "class Member:\n",
    "    # 생성자 메서드\n",
    "    def __init__(self, userid, pwd, name = \"\", age = 0):\n",
    "        self.userid = userid\n",
    "        self.pwd = pwd\n",
    "        self.name = name\n",
    "        self.age = age\n",
    "        \n",
    "    def show(self):\n",
    "        print(\"id:\", self.userid)\n",
    "        print(\"pass:\", self.pwd)\n",
    "        print(\"name:\", self.name)\n",
    "        print(\"age:\", self.age)"
   ]
  },
  {
   "cell_type": "code",
   "execution_count": 38,
   "id": "42b82e8d",
   "metadata": {
    "ExecuteTime": {
     "end_time": "2023-08-28T01:05:26.356229Z",
     "start_time": "2023-08-28T01:05:26.344521Z"
    }
   },
   "outputs": [
    {
     "name": "stdout",
     "output_type": "stream",
     "text": [
      "id: bbb\n",
      "pass: 1234\n",
      "name: \n",
      "age: 0\n"
     ]
    }
   ],
   "source": [
    "m1 = Member('bbb', '1234')\n",
    "m1.show()"
   ]
  },
  {
   "cell_type": "code",
   "execution_count": 39,
   "id": "294a1985",
   "metadata": {
    "ExecuteTime": {
     "end_time": "2023-08-28T01:05:59.314608Z",
     "start_time": "2023-08-28T01:05:59.297629Z"
    }
   },
   "outputs": [
    {
     "name": "stdout",
     "output_type": "stream",
     "text": [
      "id: ccc\n",
      "pass: 1234\n",
      "name: 강아지\n",
      "age: 4\n"
     ]
    }
   ],
   "source": [
    "m2 = Member('ccc', '1234', '강아지', 4)\n",
    "m2.show()"
   ]
  },
  {
   "cell_type": "markdown",
   "id": "5b9d3ff5",
   "metadata": {},
   "source": [
    "# 상속\n",
    "\n",
    "- 기반클래스, 부모클래스, 슈퍼클래스\n",
    "- 파생클래스, 자녀클래스, 서브클래스"
   ]
  },
  {
   "cell_type": "code",
   "execution_count": 41,
   "id": "f23fcfdf",
   "metadata": {
    "ExecuteTime": {
     "end_time": "2023-08-28T01:08:10.578812Z",
     "start_time": "2023-08-28T01:08:10.565245Z"
    }
   },
   "outputs": [],
   "source": [
    "# 상속의 기본 구문\n",
    "class 기반클래스:\n",
    "    pass\n",
    "\n",
    "class 파생클래스(기반클래스):\n",
    "    pass"
   ]
  },
  {
   "cell_type": "code",
   "execution_count": 42,
   "id": "76d7e58f",
   "metadata": {
    "ExecuteTime": {
     "end_time": "2023-08-28T01:09:19.304033Z",
     "start_time": "2023-08-28T01:09:19.286875Z"
    }
   },
   "outputs": [],
   "source": [
    "class Person:\n",
    "    def greeting(self):\n",
    "        print(\"안녕하세요\")\n",
    "        \n",
    "class Student(Person):\n",
    "    def study(self):\n",
    "        print('공부하기')"
   ]
  },
  {
   "cell_type": "code",
   "execution_count": 44,
   "id": "3f49261e",
   "metadata": {
    "ExecuteTime": {
     "end_time": "2023-08-28T01:10:11.705216Z",
     "start_time": "2023-08-28T01:10:11.690952Z"
    }
   },
   "outputs": [
    {
     "name": "stdout",
     "output_type": "stream",
     "text": [
      "안녕하세요\n",
      "공부하기\n"
     ]
    }
   ],
   "source": [
    "# 상속의 기본: 자식 객체를 이용해 부모 객체에 접근이 허용된다.\n",
    "a = Student()\n",
    "a.greeting()\n",
    "a.study()"
   ]
  },
  {
   "cell_type": "code",
   "execution_count": 45,
   "id": "b64a66cc",
   "metadata": {
    "ExecuteTime": {
     "end_time": "2023-08-28T01:10:45.547653Z",
     "start_time": "2023-08-28T01:10:45.532480Z"
    }
   },
   "outputs": [
    {
     "data": {
      "text/plain": [
       "True"
      ]
     },
     "execution_count": 45,
     "metadata": {},
     "output_type": "execute_result"
    }
   ],
   "source": [
    "# 상속관계 확인  issubclass(자녀클래스, 부모클래스) \n",
    "issubclass(Student, Person)"
   ]
  },
  {
   "cell_type": "code",
   "execution_count": 50,
   "id": "d7701f8f",
   "metadata": {
    "ExecuteTime": {
     "end_time": "2023-08-28T01:20:10.868421Z",
     "start_time": "2023-08-28T01:20:10.852475Z"
    }
   },
   "outputs": [],
   "source": [
    "# 자식객체는 부모객체의 멤버를 초기화시킬 의무가 있다.\n",
    "## 부모객체가 생성자 메서드를 가지고 있다면 자식객체도 반드시 생성자 메서드를 가지고 있어야 함\n",
    "class Person:\n",
    "    def __init__(self):\n",
    "        print('Person.__init__')\n",
    "        self.hello = '안녕하세요'\n",
    "        \n",
    "class Student(Person):\n",
    "    def __init__(self):\n",
    "        # Person.__init__()\n",
    "        super().__init__()\n",
    "        print('Student.__init__')\n",
    "        self.school = '파이썬 공부하기'"
   ]
  },
  {
   "cell_type": "code",
   "execution_count": 51,
   "id": "1b889341",
   "metadata": {
    "ExecuteTime": {
     "end_time": "2023-08-28T01:20:11.448643Z",
     "start_time": "2023-08-28T01:20:11.430806Z"
    }
   },
   "outputs": [
    {
     "name": "stdout",
     "output_type": "stream",
     "text": [
      "Student.__init__\n",
      "Person.__init__\n",
      "파이썬 공부하기\n",
      "안녕하세요\n"
     ]
    }
   ],
   "source": [
    "b = Student()\n",
    "print(b.school)\n",
    "print(b.hello)"
   ]
  },
  {
   "cell_type": "markdown",
   "id": "844abd9c",
   "metadata": {},
   "source": [
    "## 오버라이딩(Overriding): 재정의"
   ]
  },
  {
   "cell_type": "code",
   "execution_count": 57,
   "id": "728c693d",
   "metadata": {
    "ExecuteTime": {
     "end_time": "2023-08-28T01:25:12.241830Z",
     "start_time": "2023-08-28T01:25:12.229871Z"
    }
   },
   "outputs": [],
   "source": [
    "class Person:\n",
    "    def greeting(self):\n",
    "        print('안녕하세요')\n",
    "        \n",
    "class Student(Person):\n",
    "    def greeting(self):\n",
    "        super().greeting()\n",
    "        print('나는 파이썬을 공부하는 학생입니다.')"
   ]
  },
  {
   "cell_type": "code",
   "execution_count": 58,
   "id": "2637567c",
   "metadata": {
    "ExecuteTime": {
     "end_time": "2023-08-28T01:25:13.059915Z",
     "start_time": "2023-08-28T01:25:13.054974Z"
    }
   },
   "outputs": [
    {
     "name": "stdout",
     "output_type": "stream",
     "text": [
      "안녕하세요\n",
      "나는 파이썬을 공부하는 학생입니다.\n"
     ]
    }
   ],
   "source": [
    "# 부모와 자식객체가 같은 이름의 메서드를 가질 수 있다.\n",
    "# 해당 메서드를 호출하면 자식 객체의 메서드가 호출된다.\n",
    "c = Student()\n",
    "c.greeting()"
   ]
  },
  {
   "cell_type": "markdown",
   "id": "28004541",
   "metadata": {},
   "source": [
    "### 도형을 입력받아 출력하는 프로그램\n",
    "\n",
    "- 처리조건\n",
    "\n",
    "1. 10개의 도형을 입력 받아 출력하는 프로그램을 구현한다.<br>\n",
    "2. 도형은 사용자가 원하는 객체를 받아서 처리하도록 구현한다.<br>\n",
    "3. 점, 원, 사각형 중 선택하여 입력 받되, 10개가 넘으면 입력을 받을 수 없도록 구현한다.<br>\n",
    "4. 주어진 입출력 형식에 맞게 프로그램을 구현할 것<br>\n",
    "\n",
    "- 입력 및 출력 형식\n",
    "\n",
    "입력(1.원  2.사각형  3.도형출력  4.종료)<br>\n",
    "선택 = 1<br>\n",
    "x = <br>\n",
    "y =<br>\n",
    "r =<br>\n",
    "<br>\n",
    "선택 = 2<br>\n",
    "x = <br>\n",
    "y =<br>\n",
    "h =<br>\n",
    "w =<br>\n",
    "<br>\n",
    "선택 = 3<br>\n",
    "점 (x, y) = <br>\n",
    "반지름(r) = <br>\n",
    "<br>\n",
    "점(x, y) = <br>\n",
    "높이(h) = , 너비(w) = <br>\n",
    "<br>\n",
    "선택 = 4<br>\n",
    "'프로그램을 종료합니다.'<br>"
   ]
  },
  {
   "cell_type": "code",
   "execution_count": 62,
   "id": "70f006af",
   "metadata": {
    "ExecuteTime": {
     "end_time": "2023-08-28T01:37:18.297348Z",
     "start_time": "2023-08-28T01:37:18.282315Z"
    }
   },
   "outputs": [],
   "source": [
    "# 기반 클래스: x, y 좌표 값 \n",
    "class Point:\n",
    "    # 멤버 필드\n",
    "  \n",
    "    # 생성자 메서드\n",
    "    def __init__(self):\n",
    "        self.x = eval(input('x ='))\n",
    "        self.y = eval(input('y ='))\n",
    "        \n",
    "    # 멤버 메서드\n",
    "    def disp(self):\n",
    "        print(f\"점(x, y) = ({self.x}, {self.y})\")"
   ]
  },
  {
   "cell_type": "code",
   "execution_count": 63,
   "id": "e5a5e956",
   "metadata": {
    "ExecuteTime": {
     "end_time": "2023-08-28T01:37:23.604641Z",
     "start_time": "2023-08-28T01:37:20.414318Z"
    }
   },
   "outputs": [
    {
     "name": "stdout",
     "output_type": "stream",
     "text": [
      "x =5\n",
      "y =4\n",
      "점(x, y) = (5, 4)\n"
     ]
    }
   ],
   "source": [
    "ap = Point()  # __init__() 호출\n",
    "ap.disp()"
   ]
  },
  {
   "cell_type": "code",
   "execution_count": 64,
   "id": "fb615ab2",
   "metadata": {
    "ExecuteTime": {
     "end_time": "2023-08-28T01:40:28.806486Z",
     "start_time": "2023-08-28T01:40:28.799440Z"
    }
   },
   "outputs": [],
   "source": [
    "# 파생 클래스: 원\n",
    "class Circle(Point):\n",
    "    \n",
    "    # 생성자 메서드\n",
    "    def __init__(self):\n",
    "        super().__init__()\n",
    "        self.r = eval(input('r ='))\n",
    "        \n",
    "    # 멤버 메서드: 오버라이딩\n",
    "    def disp(self):\n",
    "        Point.disp(self)\n",
    "        print(f\"반지름(r) = {self.r}\")"
   ]
  },
  {
   "cell_type": "code",
   "execution_count": 65,
   "id": "8c8ccd0f",
   "metadata": {
    "ExecuteTime": {
     "end_time": "2023-08-28T01:40:59.510708Z",
     "start_time": "2023-08-28T01:40:53.578218Z"
    }
   },
   "outputs": [
    {
     "name": "stdout",
     "output_type": "stream",
     "text": [
      "x =5\n",
      "y =3\n",
      "r =4\n",
      "점(x, y) = (5, 3)\n",
      "반지름(r) = 4\n"
     ]
    }
   ],
   "source": [
    "ac = Circle()\n",
    "ac.disp()"
   ]
  },
  {
   "cell_type": "code",
   "execution_count": 66,
   "id": "dd705c0f",
   "metadata": {
    "ExecuteTime": {
     "end_time": "2023-08-28T01:44:37.744995Z",
     "start_time": "2023-08-28T01:44:37.730614Z"
    }
   },
   "outputs": [],
   "source": [
    "# 파생 클래스: 사각형\n",
    "class Square(Point):\n",
    "    \n",
    "    # 생성자 메서드\n",
    "    def __init__(self):\n",
    "        super().__init__()\n",
    "        self.h = eval(input('h ='))\n",
    "        self.w = eval(input('w ='))\n",
    "        \n",
    "    # 멤버 필드\n",
    "    def disp(self):\n",
    "        Point.disp(self)\n",
    "        print(f\"높이(h) = {self.h}, 너비(w) = {self.w}\")"
   ]
  },
  {
   "cell_type": "code",
   "execution_count": 68,
   "id": "191ae345",
   "metadata": {
    "ExecuteTime": {
     "end_time": "2023-08-28T01:45:40.048730Z",
     "start_time": "2023-08-28T01:45:35.097666Z"
    }
   },
   "outputs": [
    {
     "name": "stdout",
     "output_type": "stream",
     "text": [
      "x =5\n",
      "y =4\n",
      "h =3\n",
      "w =2\n",
      "점(x, y) = (5, 4)\n",
      "높이(h) = 3, 너비(w) = 2\n"
     ]
    }
   ],
   "source": [
    "asq = Square()\n",
    "asq.disp()"
   ]
  },
  {
   "cell_type": "code",
   "execution_count": 70,
   "id": "67e5c384",
   "metadata": {
    "ExecuteTime": {
     "end_time": "2023-08-28T02:00:18.358455Z",
     "start_time": "2023-08-28T01:59:38.878756Z"
    }
   },
   "outputs": [
    {
     "name": "stdout",
     "output_type": "stream",
     "text": [
      "\n",
      "도형(1.원  2.사각형  3.도형출력  4.종료) = \n",
      "선택 = 1\n",
      "x =2\n",
      "y =4\n",
      "r =3\n",
      "도형이 입력되었습니다.\n",
      "\n",
      "도형(1.원  2.사각형  3.도형출력  4.종료) = \n",
      "선택 = 2\n",
      "x =3\n",
      "y =6\n",
      "h =5\n",
      "w =4\n",
      "도형이 입력되었습니다.\n",
      "\n",
      "도형(1.원  2.사각형  3.도형출력  4.종료) = \n",
      "선택 = 2\n",
      "x =5\n",
      "y =4\n",
      "h =5\n",
      "w =1\n",
      "도형이 입력되었습니다.\n",
      "\n",
      "도형(1.원  2.사각형  3.도형출력  4.종료) = \n",
      "선택 = 1\n",
      "x =3\n",
      "y =5\n",
      "r =2\n",
      "도형이 입력되었습니다.\n",
      "\n",
      "도형(1.원  2.사각형  3.도형출력  4.종료) = \n",
      "선택 = 2\n",
      "x =6\n",
      "y =2\n",
      "h =5\n",
      "w =1\n",
      "도형이 입력되었습니다.\n",
      "\n",
      "도형(1.원  2.사각형  3.도형출력  4.종료) = \n",
      "선택 = 1\n",
      "x =8\n",
      "y =8\n",
      "r =9\n",
      "도형이 입력되었습니다.\n",
      "\n",
      "도형(1.원  2.사각형  3.도형출력  4.종료) = \n",
      "선택 = 3\n",
      "점(x, y) = (2, 4)\n",
      "반지름(r) = 3\n",
      "점(x, y) = (3, 6)\n",
      "높이(h) = 5, 너비(w) = 4\n",
      "점(x, y) = (5, 4)\n",
      "높이(h) = 5, 너비(w) = 1\n",
      "점(x, y) = (3, 5)\n",
      "반지름(r) = 2\n",
      "점(x, y) = (6, 2)\n",
      "높이(h) = 5, 너비(w) = 1\n",
      "점(x, y) = (8, 8)\n",
      "반지름(r) = 9\n",
      "\n",
      "도형(1.원  2.사각형  3.도형출력  4.종료) = \n",
      "선택 = 4\n",
      "프로그램을 종료합니다.\n"
     ]
    }
   ],
   "source": [
    "# Main Process\n",
    "\n",
    "## 컨테이너 객체(여러 개의 변수를 담기 위해)\n",
    "data = list()\n",
    "\n",
    "for i in range(10):\n",
    "    # 메뉴 출력\n",
    "    print(\"\\n도형(1.원  2.사각형  3.도형출력  4.종료) = \")\n",
    "    menu = int(input('선택 = '))\n",
    "    \n",
    "    # 선택에 따른 로직 구현\n",
    "    if menu == 1:\n",
    "        c = Circle()\n",
    "        data.append(c)\n",
    "        print('도형이 입력되었습니다.')    \n",
    "    elif menu == 2:\n",
    "        s = Square()\n",
    "        data.append(s)\n",
    "        print(\"도형이 입력되었습니다.\")    \n",
    "    elif menu ==3:\n",
    "        if len(data) == 0:\n",
    "            print('입력된 도형이 존재하지 않습니다.')           \n",
    "        else:\n",
    "            for a in data:\n",
    "                a.disp()\n",
    "        # 누적된 i에서 1 빼기(도형입력이 아니기 때문)\n",
    "        i -= 1    \n",
    "    elif menu == 4:\n",
    "        # 리스트 객체 삭제\n",
    "        data.clear()  # clear() 리스트 전체 요소 삭제 함수\n",
    "        break        \n",
    "    else:\n",
    "        print(\"메뉴의 선택이 올바르지 않습니다.\")\n",
    "        # 누적된 i에서 1 빼기(도형입력이 아니기 때문)\n",
    "        i -= 1\n",
    "        \n",
    "# 작업종료 메세지\n",
    "print(\"프로그램을 종료합니다.\")"
   ]
  },
  {
   "cell_type": "markdown",
   "id": "21099e26",
   "metadata": {},
   "source": [
    "## 다중상속"
   ]
  },
  {
   "cell_type": "code",
   "execution_count": 71,
   "id": "2b5e11e9",
   "metadata": {
    "ExecuteTime": {
     "end_time": "2023-08-28T02:20:49.936935Z",
     "start_time": "2023-08-28T02:20:49.919659Z"
    }
   },
   "outputs": [],
   "source": [
    "class Phone:\n",
    "    def call(self):\n",
    "        print('통화 가능')\n",
    "        \n",
    "class Camera:\n",
    "    def picture(self):\n",
    "        print('촬영 가능')\n",
    "\n",
    "# 다중상속 구문\n",
    "class CameraPhone(Phone, Camera):\n",
    "    def pictureCall(self):\n",
    "        print('영상통화 가능')"
   ]
  },
  {
   "cell_type": "code",
   "execution_count": 73,
   "id": "83423081",
   "metadata": {
    "ExecuteTime": {
     "end_time": "2023-08-28T02:21:40.593896Z",
     "start_time": "2023-08-28T02:21:40.590908Z"
    }
   },
   "outputs": [
    {
     "name": "stdout",
     "output_type": "stream",
     "text": [
      "영상통화 가능\n",
      "통화 가능\n",
      "촬영 가능\n"
     ]
    }
   ],
   "source": [
    "p = CameraPhone()\n",
    "p.pictureCall()\n",
    "p.call()\n",
    "p.picture()"
   ]
  },
  {
   "cell_type": "markdown",
   "id": "82faa8d3",
   "metadata": {},
   "source": [
    "# 파이썬의 언더바(_)"
   ]
  },
  {
   "cell_type": "markdown",
   "id": "415c9fc7",
   "metadata": {},
   "source": [
    "## 언더바(언더스코어, 밑줄)\n",
    "- 인터프리터에서의 마지막 값\n",
    "- 무시하는 값\n",
    "- 숫자 자릿수 구분\n",
    "- (앞 언더바 1개) 모듈 내에서만 변수/함수를 사용할 때\n",
    "- (뒤 언더바 1개) 파이썬 변수/함수명 이름 중복을 피하기 위해\n",
    "- (앞 언더바 2개) 네임 맹글링\n",
    "- (앞뒤 언더바 2개씩) 매직 메소드"
   ]
  },
  {
   "cell_type": "code",
   "execution_count": 74,
   "id": "78e0f718",
   "metadata": {
    "ExecuteTime": {
     "end_time": "2023-08-28T02:27:10.470196Z",
     "start_time": "2023-08-28T02:27:10.453888Z"
    }
   },
   "outputs": [
    {
     "data": {
      "text/plain": [
       "7"
      ]
     },
     "execution_count": 74,
     "metadata": {},
     "output_type": "execute_result"
    }
   ],
   "source": [
    "3 + 4"
   ]
  },
  {
   "cell_type": "code",
   "execution_count": 75,
   "id": "8f5ec9f5",
   "metadata": {
    "ExecuteTime": {
     "end_time": "2023-08-28T02:27:15.905519Z",
     "start_time": "2023-08-28T02:27:15.896361Z"
    }
   },
   "outputs": [
    {
     "data": {
      "text/plain": [
       "10"
      ]
     },
     "execution_count": 75,
     "metadata": {},
     "output_type": "execute_result"
    }
   ],
   "source": [
    "_ + 3  # _: 마지막 값인 7을 가져옴"
   ]
  },
  {
   "cell_type": "code",
   "execution_count": 76,
   "id": "3579710b",
   "metadata": {
    "ExecuteTime": {
     "end_time": "2023-08-28T02:28:32.094001Z",
     "start_time": "2023-08-28T02:28:32.083514Z"
    }
   },
   "outputs": [
    {
     "name": "stdout",
     "output_type": "stream",
     "text": [
      "hi\n",
      "hi\n",
      "hi\n",
      "hi\n",
      "hi\n"
     ]
    }
   ],
   "source": [
    "for i in range(5):  # 0, 1, 2, 3, 4\n",
    "    print('hi')"
   ]
  },
  {
   "cell_type": "code",
   "execution_count": 77,
   "id": "090d527f",
   "metadata": {
    "ExecuteTime": {
     "end_time": "2023-08-28T02:29:28.577852Z",
     "start_time": "2023-08-28T02:29:28.571737Z"
    }
   },
   "outputs": [
    {
     "name": "stdout",
     "output_type": "stream",
     "text": [
      "hi\n",
      "hi\n",
      "hi\n",
      "hi\n",
      "hi\n"
     ]
    }
   ],
   "source": [
    "for _ in range(5):  # 기억장소 최소화를 위해 변수 생성 없이 무시하는 값인 _ 언더바 사용\n",
    "    print('hi')"
   ]
  },
  {
   "cell_type": "code",
   "execution_count": 78,
   "id": "42c86ddd",
   "metadata": {
    "ExecuteTime": {
     "end_time": "2023-08-28T02:30:27.273734Z",
     "start_time": "2023-08-28T02:30:27.268822Z"
    }
   },
   "outputs": [
    {
     "name": "stdout",
     "output_type": "stream",
     "text": [
      "1\n",
      "2\n",
      "3\n",
      "4\n",
      "5\n"
     ]
    }
   ],
   "source": [
    "a = [1,2,3,4,5] # packing(패킹)\n",
    "aa, bb, _, dd, ee = a # unpacking(언패킹)\n",
    "print(aa)\n",
    "print(bb)\n",
    "print(_)\n",
    "print(dd)\n",
    "print(ee)"
   ]
  },
  {
   "cell_type": "code",
   "execution_count": 79,
   "id": "7dd49850",
   "metadata": {
    "ExecuteTime": {
     "end_time": "2023-08-28T02:32:25.451160Z",
     "start_time": "2023-08-28T02:32:25.436206Z"
    }
   },
   "outputs": [
    {
     "name": "stdout",
     "output_type": "stream",
     "text": [
      "1\n",
      "2 3 4\n",
      "5\n"
     ]
    }
   ],
   "source": [
    "# 가변길이 매개변수: *변수명\n",
    "list01 = [1,2,3,4,5]\n",
    "a, *_, e = list01\n",
    "print(a)\n",
    "print(*_)\n",
    "print(e)"
   ]
  },
  {
   "cell_type": "code",
   "execution_count": 81,
   "id": "97023b50",
   "metadata": {
    "ExecuteTime": {
     "end_time": "2023-08-28T02:34:52.521331Z",
     "start_time": "2023-08-28T02:34:52.512469Z"
    }
   },
   "outputs": [],
   "source": [
    "num1 = 1000000\n",
    "num2 = 100_000\n",
    "num3 = 10_0_00_0"
   ]
  },
  {
   "cell_type": "code",
   "execution_count": 82,
   "id": "ac047fd0",
   "metadata": {
    "ExecuteTime": {
     "end_time": "2023-08-28T02:35:07.739244Z",
     "start_time": "2023-08-28T02:35:07.722428Z"
    }
   },
   "outputs": [
    {
     "name": "stdout",
     "output_type": "stream",
     "text": [
      "1000000\n",
      "100000\n",
      "100000\n"
     ]
    }
   ],
   "source": [
    "print(num1)\n",
    "print(num2)\n",
    "print(num3)"
   ]
  }
 ],
 "metadata": {
  "kernelspec": {
   "display_name": "Python 3",
   "language": "python",
   "name": "python3"
  },
  "language_info": {
   "codemirror_mode": {
    "name": "ipython",
    "version": 3
   },
   "file_extension": ".py",
   "mimetype": "text/x-python",
   "name": "python",
   "nbconvert_exporter": "python",
   "pygments_lexer": "ipython3",
   "version": "3.8.8"
  },
  "toc": {
   "base_numbering": 1,
   "nav_menu": {},
   "number_sections": true,
   "sideBar": true,
   "skip_h1_title": false,
   "title_cell": "Table of Contents",
   "title_sidebar": "Contents",
   "toc_cell": false,
   "toc_position": {},
   "toc_section_display": true,
   "toc_window_display": false
  }
 },
 "nbformat": 4,
 "nbformat_minor": 5
}
