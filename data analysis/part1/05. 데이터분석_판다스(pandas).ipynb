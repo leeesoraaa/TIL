{
 "cells": [
  {
   "cell_type": "markdown",
   "id": "856d7c2d",
   "metadata": {},
   "source": [
    "# 판다스 데이터 분석\n",
    "- 데이터 처리를 위한 데이터 프레임을 제공\n",
    "- 데이터 구조는 시리즈와 데이터프레임\n",
    "- 데이터 전처리와 데이터를 표 형태로 처리할 때 우수한 성능을 제공"
   ]
  },
  {
   "cell_type": "markdown",
   "id": "fad26cdd",
   "metadata": {},
   "source": [
    "## 필수 라이브러리 로딩"
   ]
  },
  {
   "cell_type": "code",
   "execution_count": 1,
   "id": "bdf9512f",
   "metadata": {
    "ExecuteTime": {
     "end_time": "2023-09-25T07:49:57.681474Z",
     "start_time": "2023-09-25T07:49:55.468513Z"
    }
   },
   "outputs": [],
   "source": [
    "import numpy as np\n",
    "import pandas as pd\n",
    "import matplotlib as mpl\n",
    "import matplotlib.pyplot as plt\n",
    "%matplotlib inline"
   ]
  },
  {
   "cell_type": "markdown",
   "id": "254a6b39",
   "metadata": {},
   "source": [
    "## Series 객체\n",
    "- Numpy에서 제공하는 1차원 배열과 비슷하지만 각 데이터의 위치를 의미하는 index가 붙는다.\n",
    "- 구성요소: 값(value) + 인덱스(index)\n",
    "- 속성: Series.index, Series.value, Series.dtype\n",
    "- 형식: pd.Series(data, index)"
   ]
  },
  {
   "cell_type": "code",
   "execution_count": 2,
   "id": "a1cdbfd2",
   "metadata": {
    "ExecuteTime": {
     "end_time": "2023-09-25T07:54:00.369409Z",
     "start_time": "2023-09-25T07:54:00.350916Z"
    }
   },
   "outputs": [
    {
     "data": {
      "text/plain": [
       "a    0.233829\n",
       "b    0.566268\n",
       "c    1.394777\n",
       "d    0.272233\n",
       "dtype: float64"
      ]
     },
     "execution_count": 2,
     "metadata": {},
     "output_type": "execute_result"
    }
   ],
   "source": [
    "ser = pd.Series(np.random.randn(4), index = ['a', 'b', 'c', 'd'])\n",
    "ser"
   ]
  },
  {
   "cell_type": "code",
   "execution_count": 3,
   "id": "c7f83c7f",
   "metadata": {
    "ExecuteTime": {
     "end_time": "2023-09-25T08:11:08.700382Z",
     "start_time": "2023-09-25T08:11:08.683897Z"
    }
   },
   "outputs": [
    {
     "data": {
      "text/plain": [
       "Index(['a', 'b', 'c', 'd'], dtype='object')"
      ]
     },
     "execution_count": 3,
     "metadata": {},
     "output_type": "execute_result"
    }
   ],
   "source": [
    "ser.index  # pandas에서 object 타입은 문자열"
   ]
  },
  {
   "cell_type": "code",
   "execution_count": 5,
   "id": "d50a26a2",
   "metadata": {
    "ExecuteTime": {
     "end_time": "2023-09-25T08:11:15.946529Z",
     "start_time": "2023-09-25T08:11:15.935950Z"
    }
   },
   "outputs": [
    {
     "data": {
      "text/plain": [
       "array([0.2338285 , 0.56626777, 1.39477741, 0.27223314])"
      ]
     },
     "execution_count": 5,
     "metadata": {},
     "output_type": "execute_result"
    }
   ],
   "source": [
    "ser.values"
   ]
  },
  {
   "cell_type": "code",
   "execution_count": 7,
   "id": "7da0233c",
   "metadata": {
    "ExecuteTime": {
     "end_time": "2023-09-25T08:14:10.076127Z",
     "start_time": "2023-09-25T08:14:10.049765Z"
    }
   },
   "outputs": [
    {
     "data": {
      "text/plain": [
       "seoul      2000\n",
       "busan      2500\n",
       "daejeon    3000\n",
       "dtype: int64"
      ]
     },
     "execution_count": 7,
     "metadata": {},
     "output_type": "execute_result"
    }
   ],
   "source": [
    "# 파이썬의 자료구조 사전(dictionary)을 이용한 시리즈 객체 생성\n",
    "data = {'seoul':2000, 'busan':2500, 'daejeon':3000} \n",
    "# 사전의 key = 시리즈의 index\n",
    "s1 = pd.Series(data)\n",
    "s1"
   ]
  },
  {
   "cell_type": "code",
   "execution_count": 8,
   "id": "c5af5cc2",
   "metadata": {
    "ExecuteTime": {
     "end_time": "2023-09-25T08:16:43.058985Z",
     "start_time": "2023-09-25T08:16:43.050953Z"
    }
   },
   "outputs": [
    {
     "data": {
      "text/plain": [
       "b    1.0\n",
       "c    2.0\n",
       "a    0.0\n",
       "d    NaN\n",
       "dtype: float64"
      ]
     },
     "execution_count": 8,
     "metadata": {},
     "output_type": "execute_result"
    }
   ],
   "source": [
    "data = {'a':0, 'b':1, 'c':2}\n",
    "s2 = pd.Series(data, index = ['b', 'c', 'a','d'])\n",
    "s2"
   ]
  },
  {
   "cell_type": "code",
   "execution_count": 9,
   "id": "19fb7a93",
   "metadata": {
    "ExecuteTime": {
     "end_time": "2023-09-25T08:18:29.082552Z",
     "start_time": "2023-09-25T08:18:29.069338Z"
    }
   },
   "outputs": [
    {
     "data": {
      "text/plain": [
       "a    7\n",
       "b    7\n",
       "c    7\n",
       "dtype: int64"
      ]
     },
     "execution_count": 9,
     "metadata": {},
     "output_type": "execute_result"
    }
   ],
   "source": [
    "pd.Series(7, index=['a', 'b', 'c'])"
   ]
  },
  {
   "cell_type": "code",
   "execution_count": 10,
   "id": "e108737f",
   "metadata": {
    "ExecuteTime": {
     "end_time": "2023-09-25T08:19:54.199923Z",
     "start_time": "2023-09-25T08:19:54.187936Z"
    }
   },
   "outputs": [
    {
     "data": {
      "text/plain": [
       "a    0.233829\n",
       "b    0.566268\n",
       "c    1.394777\n",
       "d    0.272233\n",
       "dtype: float64"
      ]
     },
     "execution_count": 10,
     "metadata": {},
     "output_type": "execute_result"
    }
   ],
   "source": [
    "ser"
   ]
  },
  {
   "cell_type": "code",
   "execution_count": 11,
   "id": "6e48845a",
   "metadata": {
    "ExecuteTime": {
     "end_time": "2023-09-25T08:19:59.071068Z",
     "start_time": "2023-09-25T08:19:59.066030Z"
    }
   },
   "outputs": [
    {
     "data": {
      "text/plain": [
       "0.2338285005071774"
      ]
     },
     "execution_count": 11,
     "metadata": {},
     "output_type": "execute_result"
    }
   ],
   "source": [
    "ser[0]"
   ]
  },
  {
   "cell_type": "code",
   "execution_count": 12,
   "id": "f8ffeeb4",
   "metadata": {
    "ExecuteTime": {
     "end_time": "2023-09-25T08:20:06.876041Z",
     "start_time": "2023-09-25T08:20:06.864153Z"
    }
   },
   "outputs": [
    {
     "data": {
      "text/plain": [
       "a    0.233829\n",
       "b    0.566268\n",
       "c    1.394777\n",
       "dtype: float64"
      ]
     },
     "execution_count": 12,
     "metadata": {},
     "output_type": "execute_result"
    }
   ],
   "source": [
    "ser[:3]"
   ]
  },
  {
   "cell_type": "code",
   "execution_count": 13,
   "id": "ec21d4da",
   "metadata": {
    "ExecuteTime": {
     "end_time": "2023-09-25T08:21:21.679779Z",
     "start_time": "2023-09-25T08:21:21.664294Z"
    }
   },
   "outputs": [
    {
     "data": {
      "text/plain": [
       "0.2338285005071774"
      ]
     },
     "execution_count": 13,
     "metadata": {},
     "output_type": "execute_result"
    }
   ],
   "source": [
    "ser['a']"
   ]
  },
  {
   "cell_type": "code",
   "execution_count": 14,
   "id": "d4629e77",
   "metadata": {
    "ExecuteTime": {
     "end_time": "2023-09-25T08:21:29.635798Z",
     "start_time": "2023-09-25T08:21:29.616863Z"
    }
   },
   "outputs": [
    {
     "data": {
      "text/plain": [
       "a    0.233829\n",
       "b    0.566268\n",
       "c    1.394777\n",
       "d    7.000000\n",
       "dtype: float64"
      ]
     },
     "execution_count": 14,
     "metadata": {},
     "output_type": "execute_result"
    }
   ],
   "source": [
    "ser['d'] = 7\n",
    "ser"
   ]
  },
  {
   "cell_type": "code",
   "execution_count": 15,
   "id": "d4e05241",
   "metadata": {
    "ExecuteTime": {
     "end_time": "2023-09-25T08:21:52.859092Z",
     "start_time": "2023-09-25T08:21:52.850563Z"
    }
   },
   "outputs": [
    {
     "data": {
      "text/plain": [
       "a    0.233829\n",
       "b    0.566268\n",
       "c    1.394777\n",
       "dtype: float64"
      ]
     },
     "execution_count": 15,
     "metadata": {},
     "output_type": "execute_result"
    }
   ],
   "source": [
    "ser[:3] # 0, 1, 2"
   ]
  },
  {
   "cell_type": "code",
   "execution_count": 16,
   "id": "e9b6f6d0",
   "metadata": {
    "ExecuteTime": {
     "end_time": "2023-09-25T08:22:27.862369Z",
     "start_time": "2023-09-25T08:22:27.847309Z"
    }
   },
   "outputs": [
    {
     "data": {
      "text/plain": [
       "a    0.233829\n",
       "b    0.566268\n",
       "c    1.394777\n",
       "dtype: float64"
      ]
     },
     "execution_count": 16,
     "metadata": {},
     "output_type": "execute_result"
    }
   ],
   "source": [
    "ser['a':'c']"
   ]
  },
  {
   "cell_type": "code",
   "execution_count": 17,
   "id": "385cc9e1",
   "metadata": {
    "ExecuteTime": {
     "end_time": "2023-09-25T08:22:38.530799Z",
     "start_time": "2023-09-25T08:22:38.512668Z"
    }
   },
   "outputs": [
    {
     "data": {
      "text/plain": [
       "a     0.467657\n",
       "b     1.132536\n",
       "c     2.789555\n",
       "d    14.000000\n",
       "dtype: float64"
      ]
     },
     "execution_count": 17,
     "metadata": {},
     "output_type": "execute_result"
    }
   ],
   "source": [
    "ser + ser"
   ]
  },
  {
   "cell_type": "code",
   "execution_count": 18,
   "id": "4d286cd4",
   "metadata": {
    "ExecuteTime": {
     "end_time": "2023-09-25T08:23:18.666676Z",
     "start_time": "2023-09-25T08:23:18.647422Z"
    }
   },
   "outputs": [
    {
     "data": {
      "text/plain": [
       "a     0.467657\n",
       "b     1.132536\n",
       "c     2.789555\n",
       "d    14.000000\n",
       "dtype: float64"
      ]
     },
     "execution_count": 18,
     "metadata": {},
     "output_type": "execute_result"
    }
   ],
   "source": [
    "ser * 2"
   ]
  },
  {
   "cell_type": "code",
   "execution_count": 19,
   "id": "e16e6b91",
   "metadata": {
    "ExecuteTime": {
     "end_time": "2023-09-25T08:23:58.676360Z",
     "start_time": "2023-09-25T08:23:58.663605Z"
    }
   },
   "outputs": [
    {
     "data": {
      "text/plain": [
       "a         NaN\n",
       "b    1.132536\n",
       "c    2.789555\n",
       "d         NaN\n",
       "dtype: float64"
      ]
     },
     "execution_count": 19,
     "metadata": {},
     "output_type": "execute_result"
    }
   ],
   "source": [
    "ser[1:] + ser[:-1]"
   ]
  },
  {
   "cell_type": "code",
   "execution_count": 20,
   "id": "efc00bb7",
   "metadata": {
    "ExecuteTime": {
     "end_time": "2023-09-25T08:25:34.225359Z",
     "start_time": "2023-09-25T08:25:34.207953Z"
    }
   },
   "outputs": [
    {
     "data": {
      "text/plain": [
       "0   -0.155378\n",
       "1   -1.530304\n",
       "2   -0.666639\n",
       "3    0.013767\n",
       "4   -1.363675\n",
       "Name: seoul, dtype: float64"
      ]
     },
     "execution_count": 20,
     "metadata": {},
     "output_type": "execute_result"
    }
   ],
   "source": [
    "ser = pd.Series(np.random.randn(5), name = 'seoul')\n",
    "ser"
   ]
  },
  {
   "cell_type": "code",
   "execution_count": 21,
   "id": "9b0a05f2",
   "metadata": {
    "ExecuteTime": {
     "end_time": "2023-09-25T08:26:25.848208Z",
     "start_time": "2023-09-25T08:26:25.835006Z"
    }
   },
   "outputs": [
    {
     "data": {
      "text/plain": [
       "0   -0.155378\n",
       "1   -1.530304\n",
       "2   -0.666639\n",
       "3    0.013767\n",
       "4   -1.363675\n",
       "Name: busan, dtype: float64"
      ]
     },
     "execution_count": 21,
     "metadata": {},
     "output_type": "execute_result"
    }
   ],
   "source": [
    "ser1 = ser.rename('busan')\n",
    "ser1"
   ]
  },
  {
   "cell_type": "code",
   "execution_count": 22,
   "id": "a1159f03",
   "metadata": {
    "ExecuteTime": {
     "end_time": "2023-09-25T08:29:11.321740Z",
     "start_time": "2023-09-25T08:29:11.293611Z"
    }
   },
   "outputs": [
    {
     "data": {
      "text/plain": [
       "a   -0.673874\n",
       "b    0.794525\n",
       "c   -0.050478\n",
       "d   -1.018800\n",
       "dtype: float64"
      ]
     },
     "execution_count": 22,
     "metadata": {},
     "output_type": "execute_result"
    }
   ],
   "source": [
    "ser = pd.Series(np.random.randn(4), index = ['a', 'b', 'c', 'd'])\n",
    "ser"
   ]
  },
  {
   "cell_type": "code",
   "execution_count": 23,
   "id": "c7ed320b",
   "metadata": {
    "ExecuteTime": {
     "end_time": "2023-09-25T08:30:33.511492Z",
     "start_time": "2023-09-25T08:30:33.493896Z"
    }
   },
   "outputs": [
    {
     "data": {
      "text/plain": [
       "True"
      ]
     },
     "execution_count": 23,
     "metadata": {},
     "output_type": "execute_result"
    }
   ],
   "source": [
    "# in, not in\n",
    "# 사전을 바로 시리즈 객체로 변환 가능\n",
    "# 사전의 키 = 시리즈의 인덱스\n",
    "'a' in ser"
   ]
  },
  {
   "cell_type": "code",
   "execution_count": 24,
   "id": "b11f79b5",
   "metadata": {
    "ExecuteTime": {
     "end_time": "2023-09-25T08:30:42.202777Z",
     "start_time": "2023-09-25T08:30:42.192743Z"
    }
   },
   "outputs": [
    {
     "data": {
      "text/plain": [
       "True"
      ]
     },
     "execution_count": 24,
     "metadata": {},
     "output_type": "execute_result"
    }
   ],
   "source": [
    "'f' not in ser"
   ]
  },
  {
   "cell_type": "code",
   "execution_count": 25,
   "id": "8894c1f2",
   "metadata": {
    "ExecuteTime": {
     "end_time": "2023-09-25T08:33:26.433895Z",
     "start_time": "2023-09-25T08:33:26.427916Z"
    }
   },
   "outputs": [
    {
     "name": "stdout",
     "output_type": "stream",
     "text": [
      "a : 0\n",
      "b : 0\n",
      "c : 0\n",
      "d : -1\n"
     ]
    }
   ],
   "source": [
    "# 시리즈 객체를 사전 취급 가능\n",
    "# 사전.keys()\n",
    "# 사전.values()\n",
    "# 사전.items()\n",
    "\n",
    "for key, value in ser.items():\n",
    "    print(\"%s : %d\" % (key, value))"
   ]
  },
  {
   "cell_type": "code",
   "execution_count": 26,
   "id": "b2e1614c",
   "metadata": {
    "ExecuteTime": {
     "end_time": "2023-09-25T08:35:15.854871Z",
     "start_time": "2023-09-25T08:35:15.843576Z"
    }
   },
   "outputs": [
    {
     "data": {
      "text/plain": [
       "a   -0.673874\n",
       "b    0.794525\n",
       "d   -1.018800\n",
       "dtype: float64"
      ]
     },
     "execution_count": 26,
     "metadata": {},
     "output_type": "execute_result"
    }
   ],
   "source": [
    "# del 사전객체[키]\n",
    "del ser['c']\n",
    "ser"
   ]
  },
  {
   "cell_type": "markdown",
   "id": "7aa9df38",
   "metadata": {},
   "source": [
    "**DataFrame: 데이터프레임(2차원 표 형태의 자료)**\n",
    "- pd.DataFrame(data, index, columns)\n",
    "- 여러 개의 Series가 결합된 형태"
   ]
  },
  {
   "cell_type": "code",
   "execution_count": 27,
   "id": "50e7164b",
   "metadata": {
    "ExecuteTime": {
     "end_time": "2023-09-25T08:39:15.107137Z",
     "start_time": "2023-09-25T08:39:15.084097Z"
    }
   },
   "outputs": [
    {
     "data": {
      "text/html": [
       "<div>\n",
       "<style scoped>\n",
       "    .dataframe tbody tr th:only-of-type {\n",
       "        vertical-align: middle;\n",
       "    }\n",
       "\n",
       "    .dataframe tbody tr th {\n",
       "        vertical-align: top;\n",
       "    }\n",
       "\n",
       "    .dataframe thead th {\n",
       "        text-align: right;\n",
       "    }\n",
       "</style>\n",
       "<table border=\"1\" class=\"dataframe\">\n",
       "  <thead>\n",
       "    <tr style=\"text-align: right;\">\n",
       "      <th></th>\n",
       "      <th>0</th>\n",
       "      <th>1</th>\n",
       "      <th>2</th>\n",
       "    </tr>\n",
       "  </thead>\n",
       "  <tbody>\n",
       "    <tr>\n",
       "      <th>0</th>\n",
       "      <td>10</td>\n",
       "      <td>20</td>\n",
       "      <td>30</td>\n",
       "    </tr>\n",
       "    <tr>\n",
       "      <th>1</th>\n",
       "      <td>40</td>\n",
       "      <td>50</td>\n",
       "      <td>60</td>\n",
       "    </tr>\n",
       "    <tr>\n",
       "      <th>2</th>\n",
       "      <td>70</td>\n",
       "      <td>80</td>\n",
       "      <td>90</td>\n",
       "    </tr>\n",
       "  </tbody>\n",
       "</table>\n",
       "</div>"
      ],
      "text/plain": [
       "    0   1   2\n",
       "0  10  20  30\n",
       "1  40  50  60\n",
       "2  70  80  90"
      ]
     },
     "execution_count": 27,
     "metadata": {},
     "output_type": "execute_result"
    }
   ],
   "source": [
    "a = pd.DataFrame([[10, 20, 30],\n",
    "                 [40, 50, 60],\n",
    "                 [70, 80, 90]])\n",
    "a"
   ]
  },
  {
   "cell_type": "code",
   "execution_count": 28,
   "id": "21cc1848",
   "metadata": {
    "ExecuteTime": {
     "end_time": "2023-09-25T08:39:23.222243Z",
     "start_time": "2023-09-25T08:39:23.210262Z"
    }
   },
   "outputs": [
    {
     "name": "stdout",
     "output_type": "stream",
     "text": [
      "<class 'pandas.core.frame.DataFrame'>\n"
     ]
    }
   ],
   "source": [
    "print(type(a))"
   ]
  },
  {
   "cell_type": "code",
   "execution_count": 29,
   "id": "dc67b932",
   "metadata": {
    "ExecuteTime": {
     "end_time": "2023-09-25T08:41:08.160300Z",
     "start_time": "2023-09-25T08:41:08.138371Z"
    }
   },
   "outputs": [
    {
     "data": {
      "text/plain": [
       "(3, 3)"
      ]
     },
     "execution_count": 29,
     "metadata": {},
     "output_type": "execute_result"
    }
   ],
   "source": [
    "a.shape"
   ]
  },
  {
   "cell_type": "code",
   "execution_count": 30,
   "id": "b416272f",
   "metadata": {
    "ExecuteTime": {
     "end_time": "2023-09-25T08:42:44.566083Z",
     "start_time": "2023-09-25T08:42:44.544056Z"
    }
   },
   "outputs": [
    {
     "data": {
      "text/html": [
       "<div>\n",
       "<style scoped>\n",
       "    .dataframe tbody tr th:only-of-type {\n",
       "        vertical-align: middle;\n",
       "    }\n",
       "\n",
       "    .dataframe tbody tr th {\n",
       "        vertical-align: top;\n",
       "    }\n",
       "\n",
       "    .dataframe thead th {\n",
       "        text-align: right;\n",
       "    }\n",
       "</style>\n",
       "<table border=\"1\" class=\"dataframe\">\n",
       "  <thead>\n",
       "    <tr style=\"text-align: right;\">\n",
       "      <th></th>\n",
       "      <th>weight</th>\n",
       "      <th>height</th>\n",
       "      <th>gender</th>\n",
       "    </tr>\n",
       "  </thead>\n",
       "  <tbody>\n",
       "    <tr>\n",
       "      <th>0</th>\n",
       "      <td>70.0</td>\n",
       "      <td>170</td>\n",
       "      <td>f</td>\n",
       "    </tr>\n",
       "    <tr>\n",
       "      <th>1</th>\n",
       "      <td>70.4</td>\n",
       "      <td>150</td>\n",
       "      <td>m</td>\n",
       "    </tr>\n",
       "    <tr>\n",
       "      <th>2</th>\n",
       "      <td>65.5</td>\n",
       "      <td>184</td>\n",
       "      <td>f</td>\n",
       "    </tr>\n",
       "    <tr>\n",
       "      <th>3</th>\n",
       "      <td>45.9</td>\n",
       "      <td>195</td>\n",
       "      <td>m</td>\n",
       "    </tr>\n",
       "    <tr>\n",
       "      <th>4</th>\n",
       "      <td>51.2</td>\n",
       "      <td>163</td>\n",
       "      <td>m</td>\n",
       "    </tr>\n",
       "  </tbody>\n",
       "</table>\n",
       "</div>"
      ],
      "text/plain": [
       "   weight  height gender\n",
       "0    70.0     170      f\n",
       "1    70.4     150      m\n",
       "2    65.5     184      f\n",
       "3    45.9     195      m\n",
       "4    51.2     163      m"
      ]
     },
     "execution_count": 30,
     "metadata": {},
     "output_type": "execute_result"
    }
   ],
   "source": [
    "# 데이터 사전을 이용한 데이터 프레임 생성\n",
    "df = pd.DataFrame({'weight':[70,70.4,65.5,45.9,51.2],\n",
    "                  'height':[170,150,184,195,163],\n",
    "                  'gender':['f','m','f','m','m']})\n",
    "df"
   ]
  },
  {
   "cell_type": "code",
   "execution_count": 31,
   "id": "ab1275be",
   "metadata": {
    "ExecuteTime": {
     "end_time": "2023-09-25T08:44:08.326444Z",
     "start_time": "2023-09-25T08:44:08.316203Z"
    }
   },
   "outputs": [
    {
     "name": "stdout",
     "output_type": "stream",
     "text": [
      "<class 'pandas.core.frame.DataFrame'>\n",
      "<class 'pandas.core.series.Series'>\n"
     ]
    }
   ],
   "source": [
    "print(type(df))\n",
    "print(type(df['weight']))"
   ]
  },
  {
   "cell_type": "code",
   "execution_count": 32,
   "id": "b52ca629",
   "metadata": {
    "ExecuteTime": {
     "end_time": "2023-09-25T08:44:42.853534Z",
     "start_time": "2023-09-25T08:44:42.845416Z"
    }
   },
   "outputs": [
    {
     "data": {
      "text/plain": [
       "0    70.0\n",
       "1    70.4\n",
       "2    65.5\n",
       "3    45.9\n",
       "4    51.2\n",
       "Name: weight, dtype: float64"
      ]
     },
     "execution_count": 32,
     "metadata": {},
     "output_type": "execute_result"
    }
   ],
   "source": [
    "df['weight']"
   ]
  },
  {
   "cell_type": "code",
   "execution_count": 33,
   "id": "901f66a3",
   "metadata": {
    "ExecuteTime": {
     "end_time": "2023-09-25T08:45:41.742993Z",
     "start_time": "2023-09-25T08:45:41.731997Z"
    }
   },
   "outputs": [
    {
     "data": {
      "text/html": [
       "<div>\n",
       "<style scoped>\n",
       "    .dataframe tbody tr th:only-of-type {\n",
       "        vertical-align: middle;\n",
       "    }\n",
       "\n",
       "    .dataframe tbody tr th {\n",
       "        vertical-align: top;\n",
       "    }\n",
       "\n",
       "    .dataframe thead th {\n",
       "        text-align: right;\n",
       "    }\n",
       "</style>\n",
       "<table border=\"1\" class=\"dataframe\">\n",
       "  <thead>\n",
       "    <tr style=\"text-align: right;\">\n",
       "      <th></th>\n",
       "      <th>weight</th>\n",
       "      <th>gender</th>\n",
       "    </tr>\n",
       "  </thead>\n",
       "  <tbody>\n",
       "    <tr>\n",
       "      <th>0</th>\n",
       "      <td>70.0</td>\n",
       "      <td>f</td>\n",
       "    </tr>\n",
       "    <tr>\n",
       "      <th>1</th>\n",
       "      <td>70.4</td>\n",
       "      <td>m</td>\n",
       "    </tr>\n",
       "    <tr>\n",
       "      <th>2</th>\n",
       "      <td>65.5</td>\n",
       "      <td>f</td>\n",
       "    </tr>\n",
       "    <tr>\n",
       "      <th>3</th>\n",
       "      <td>45.9</td>\n",
       "      <td>m</td>\n",
       "    </tr>\n",
       "    <tr>\n",
       "      <th>4</th>\n",
       "      <td>51.2</td>\n",
       "      <td>m</td>\n",
       "    </tr>\n",
       "  </tbody>\n",
       "</table>\n",
       "</div>"
      ],
      "text/plain": [
       "   weight gender\n",
       "0    70.0      f\n",
       "1    70.4      m\n",
       "2    65.5      f\n",
       "3    45.9      m\n",
       "4    51.2      m"
      ]
     },
     "execution_count": 33,
     "metadata": {},
     "output_type": "execute_result"
    }
   ],
   "source": [
    "df[['weight', 'gender']]"
   ]
  },
  {
   "cell_type": "code",
   "execution_count": 36,
   "id": "515fed43",
   "metadata": {
    "ExecuteTime": {
     "end_time": "2023-09-25T08:49:14.699908Z",
     "start_time": "2023-09-25T08:49:14.682274Z"
    }
   },
   "outputs": [
    {
     "data": {
      "text/html": [
       "<div>\n",
       "<style scoped>\n",
       "    .dataframe tbody tr th:only-of-type {\n",
       "        vertical-align: middle;\n",
       "    }\n",
       "\n",
       "    .dataframe tbody tr th {\n",
       "        vertical-align: top;\n",
       "    }\n",
       "\n",
       "    .dataframe thead th {\n",
       "        text-align: right;\n",
       "    }\n",
       "</style>\n",
       "<table border=\"1\" class=\"dataframe\">\n",
       "  <thead>\n",
       "    <tr style=\"text-align: right;\">\n",
       "      <th></th>\n",
       "      <th>weight</th>\n",
       "      <th>height</th>\n",
       "      <th>gender</th>\n",
       "    </tr>\n",
       "  </thead>\n",
       "  <tbody>\n",
       "    <tr>\n",
       "      <th>0</th>\n",
       "      <td>70.0</td>\n",
       "      <td>170</td>\n",
       "      <td>f</td>\n",
       "    </tr>\n",
       "    <tr>\n",
       "      <th>2</th>\n",
       "      <td>65.5</td>\n",
       "      <td>184</td>\n",
       "      <td>f</td>\n",
       "    </tr>\n",
       "    <tr>\n",
       "      <th>3</th>\n",
       "      <td>45.9</td>\n",
       "      <td>195</td>\n",
       "      <td>m</td>\n",
       "    </tr>\n",
       "    <tr>\n",
       "      <th>4</th>\n",
       "      <td>51.2</td>\n",
       "      <td>163</td>\n",
       "      <td>m</td>\n",
       "    </tr>\n",
       "  </tbody>\n",
       "</table>\n",
       "</div>"
      ],
      "text/plain": [
       "   weight  height gender\n",
       "0    70.0     170      f\n",
       "2    65.5     184      f\n",
       "3    45.9     195      m\n",
       "4    51.2     163      m"
      ]
     },
     "execution_count": 36,
     "metadata": {},
     "output_type": "execute_result"
    }
   ],
   "source": [
    "# height 값이 160이상인 자료만 추출\n",
    "df['height'] >= 160\n",
    "df[df['height'] >= 160]"
   ]
  },
  {
   "cell_type": "code",
   "execution_count": 38,
   "id": "36b85bbd",
   "metadata": {
    "ExecuteTime": {
     "end_time": "2023-09-25T08:50:23.883957Z",
     "start_time": "2023-09-25T08:50:23.865243Z"
    }
   },
   "outputs": [
    {
     "data": {
      "text/html": [
       "<div>\n",
       "<style scoped>\n",
       "    .dataframe tbody tr th:only-of-type {\n",
       "        vertical-align: middle;\n",
       "    }\n",
       "\n",
       "    .dataframe tbody tr th {\n",
       "        vertical-align: top;\n",
       "    }\n",
       "\n",
       "    .dataframe thead th {\n",
       "        text-align: right;\n",
       "    }\n",
       "</style>\n",
       "<table border=\"1\" class=\"dataframe\">\n",
       "  <thead>\n",
       "    <tr style=\"text-align: right;\">\n",
       "      <th></th>\n",
       "      <th>weight</th>\n",
       "      <th>height</th>\n",
       "      <th>gender</th>\n",
       "    </tr>\n",
       "  </thead>\n",
       "  <tbody>\n",
       "    <tr>\n",
       "      <th>0</th>\n",
       "      <td>70.0</td>\n",
       "      <td>170</td>\n",
       "      <td>f</td>\n",
       "    </tr>\n",
       "    <tr>\n",
       "      <th>2</th>\n",
       "      <td>65.5</td>\n",
       "      <td>184</td>\n",
       "      <td>f</td>\n",
       "    </tr>\n",
       "  </tbody>\n",
       "</table>\n",
       "</div>"
      ],
      "text/plain": [
       "   weight  height gender\n",
       "0    70.0     170      f\n",
       "2    65.5     184      f"
      ]
     },
     "execution_count": 38,
     "metadata": {},
     "output_type": "execute_result"
    }
   ],
   "source": [
    "# 성별이 여자인 자료만 추출\n",
    "df[df['gender']=='f']"
   ]
  },
  {
   "cell_type": "code",
   "execution_count": 39,
   "id": "4fb55f13",
   "metadata": {
    "ExecuteTime": {
     "end_time": "2023-09-25T08:50:46.284063Z",
     "start_time": "2023-09-25T08:50:46.269068Z"
    }
   },
   "outputs": [
    {
     "data": {
      "text/html": [
       "<div>\n",
       "<style scoped>\n",
       "    .dataframe tbody tr th:only-of-type {\n",
       "        vertical-align: middle;\n",
       "    }\n",
       "\n",
       "    .dataframe tbody tr th {\n",
       "        vertical-align: top;\n",
       "    }\n",
       "\n",
       "    .dataframe thead th {\n",
       "        text-align: right;\n",
       "    }\n",
       "</style>\n",
       "<table border=\"1\" class=\"dataframe\">\n",
       "  <thead>\n",
       "    <tr style=\"text-align: right;\">\n",
       "      <th></th>\n",
       "      <th>weight</th>\n",
       "      <th>height</th>\n",
       "      <th>gender</th>\n",
       "    </tr>\n",
       "  </thead>\n",
       "  <tbody>\n",
       "    <tr>\n",
       "      <th>0</th>\n",
       "      <td>70.0</td>\n",
       "      <td>170</td>\n",
       "      <td>f</td>\n",
       "    </tr>\n",
       "    <tr>\n",
       "      <th>2</th>\n",
       "      <td>65.5</td>\n",
       "      <td>184</td>\n",
       "      <td>f</td>\n",
       "    </tr>\n",
       "  </tbody>\n",
       "</table>\n",
       "</div>"
      ],
      "text/plain": [
       "   weight  height gender\n",
       "0    70.0     170      f\n",
       "2    65.5     184      f"
      ]
     },
     "execution_count": 39,
     "metadata": {},
     "output_type": "execute_result"
    }
   ],
   "source": [
    "df[df.gender == 'f']"
   ]
  },
  {
   "cell_type": "code",
   "execution_count": null,
   "id": "9343e813",
   "metadata": {},
   "outputs": [],
   "source": []
  }
 ],
 "metadata": {
  "kernelspec": {
   "display_name": "Python 3 (ipykernel)",
   "language": "python",
   "name": "python3"
  },
  "language_info": {
   "codemirror_mode": {
    "name": "ipython",
    "version": 3
   },
   "file_extension": ".py",
   "mimetype": "text/x-python",
   "name": "python",
   "nbconvert_exporter": "python",
   "pygments_lexer": "ipython3",
   "version": "3.8.17"
  },
  "toc": {
   "base_numbering": 1,
   "nav_menu": {},
   "number_sections": true,
   "sideBar": true,
   "skip_h1_title": false,
   "title_cell": "Table of Contents",
   "title_sidebar": "Contents",
   "toc_cell": false,
   "toc_position": {
    "height": "calc(100% - 180px)",
    "left": "10px",
    "top": "150px",
    "width": "384px"
   },
   "toc_section_display": true,
   "toc_window_display": true
  }
 },
 "nbformat": 4,
 "nbformat_minor": 5
}
