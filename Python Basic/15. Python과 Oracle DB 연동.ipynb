{
 "cells": [
  {
   "cell_type": "markdown",
   "id": "18999ac6",
   "metadata": {},
   "source": [
    "# Python 과 DataBase 연동\n",
    "\n",
    "1. 해당 라이브러리: DB 접속 드라이버, cx_Oracle, python-oracledb  \n",
    "  - 설치:     \n",
    "    1) Anaconda prompt 창(관리자 권한 실행) pip install 설치할 라이브러리  \n",
    "    2) 주피터 노트북 안에서 설치 !pip install 설치할 라이브러리  \n",
    "    3) Anaconda에서 pip install ~ or conda install ~  \n",
    "  - pip install oracledb -- upgrade 최근 버전(권장)  \n",
    "  - pip install cx_Oracle -- upgrade  \n",
    "  \n",
    "2. 접속정보 확인  \n",
    "  - 사용자 계정과 비밀번호: scott/tiger  \n",
    "  - 오라클 url: localhost:1521/xe  "
   ]
  },
  {
   "cell_type": "code",
   "execution_count": null,
   "id": "14a8c97b",
   "metadata": {
    "ExecuteTime": {
     "end_time": "2023-08-29T03:13:00.859365Z",
     "start_time": "2023-08-29T03:13:00.842579Z"
    }
   },
   "outputs": [],
   "source": [
    "# 주피터 노트북에 라이브러리 설치\n",
    "# !pip install cx_Oracle --upgrade"
   ]
  },
  {
   "cell_type": "markdown",
   "id": "05e49729",
   "metadata": {},
   "source": [
    "# DB 연동 작업"
   ]
  },
  {
   "cell_type": "code",
   "execution_count": null,
   "id": "d832b494",
   "metadata": {
    "ExecuteTime": {
     "end_time": "2023-08-29T03:13:25.333898Z",
     "start_time": "2023-08-29T03:13:25.324175Z"
    }
   },
   "outputs": [],
   "source": [
    "# 라이브러리(모듈) 연결\n",
    "import cx_Oracle as cx"
   ]
  },
  {
   "cell_type": "markdown",
   "id": "c5cb55c3",
   "metadata": {},
   "source": [
    "## connection: 연결 통로 구축"
   ]
  },
  {
   "cell_type": "code",
   "execution_count": null,
   "id": "e68363f3",
   "metadata": {
    "ExecuteTime": {
     "end_time": "2023-08-29T03:18:15.457628Z",
     "start_time": "2023-08-29T03:18:15.189365Z"
    }
   },
   "outputs": [],
   "source": [
    "# db 연동 connect(\"사용자계정\", \"비밀번호\", \"url\")\n",
    "# url - localhost(127.0.0.1):1521/xe\n",
    "conn = cx.connect(\"scott\", \"1234\", \"127.0.0.1:1521/xe\")\n",
    "# conn = cx.connect(\"scott/1234@localhost:1521/xe\")"
   ]
  },
  {
   "cell_type": "markdown",
   "id": "6da78faf",
   "metadata": {},
   "source": [
    "## DB에 테이블 조회"
   ]
  },
  {
   "cell_type": "code",
   "execution_count": null,
   "id": "8ad814d3",
   "metadata": {
    "ExecuteTime": {
     "end_time": "2023-08-29T03:24:33.666124Z",
     "start_time": "2023-08-29T03:24:33.640666Z"
    }
   },
   "outputs": [],
   "source": [
    "# cursor(커서): 레코드 셋을 탐색하는 포인터\n",
    "## 커서 객체 생성\n",
    "cur = conn.cursor()\n",
    "\n",
    "## query(질의문)\n",
    "sql = \"select * from product\"\n",
    "\n",
    "## 커서 객체를 이용하여 sql 실행\n",
    "cur.execute(sql)\n",
    "\n",
    "for row in cur:\n",
    "    print(row)\n",
    "    # clob 자료형은 그냥 읽어올 수 없다.\n",
    "    description = row[3].read()\n",
    "    print(description)"
   ]
  },
  {
   "cell_type": "markdown",
   "id": "6b7ad1c8",
   "metadata": {},
   "source": [
    "## 전체 레코드 삭제 후 테이블에 레코드 삽입"
   ]
  },
  {
   "cell_type": "code",
   "execution_count": null,
   "id": "624c0dcd",
   "metadata": {
    "ExecuteTime": {
     "end_time": "2023-08-29T03:27:23.117636Z",
     "start_time": "2023-08-29T03:27:23.087525Z"
    }
   },
   "outputs": [],
   "source": [
    "sql = \"delete from product\"\n",
    "cur.execute(sql)\n",
    "conn.commit()"
   ]
  },
  {
   "cell_type": "code",
   "execution_count": null,
   "id": "5f180ca8",
   "metadata": {
    "ExecuteTime": {
     "end_time": "2023-08-29T03:39:16.377229Z",
     "start_time": "2023-08-29T03:39:16.352684Z"
    }
   },
   "outputs": [],
   "source": [
    "# 파이썬에서 DB에 레코드 삽입\n",
    "items = [\n",
    "    (1, '레몬', 1500, '맛있는 레몬이 왔어요', 'lemon.jpg'),\n",
    "    (2, '오렌지', 2500, '상큼한 오렌지 있어요', 'orange.jpg'),\n",
    "    (3, '키위', 3500, '먹어도 키가 안 크는 키위가 있어요', 'kiwi.jpg'),\n",
    "    (4, '포도', 2500, '포도가 맛있다.', 'grape.jpg'),\n",
    "    (5, '딸기', 1800, '딸기도 좋아요', 'strawberry.jpg'),\n",
    "    (6, '귤', 500, '제주도 대신 귤', 'tangerine.jpg')    \n",
    "]\n",
    "\n",
    "for row in items:\n",
    "    # : 필드 인덱스(1부터)\n",
    "    sql = \"insert into product values (:1, :2, :3, :4, :5)\"\n",
    "    print(row)\n",
    "    cur.execute(sql, row)\n",
    "    \n",
    "conn.commit()"
   ]
  },
  {
   "cell_type": "code",
   "execution_count": null,
   "id": "de17911f",
   "metadata": {
    "ExecuteTime": {
     "end_time": "2023-08-29T03:43:11.137044Z",
     "start_time": "2023-08-29T03:43:11.121511Z"
    }
   },
   "outputs": [],
   "source": [
    "# 상품 갯수를 추출\n",
    "sql = \"select count(*) from product\"\n",
    "cur.execute(sql)\n",
    "\n",
    "# 레코드 갯수가 1개일 경우\n",
    "count = cur.fetchone()\n",
    "print(\"상품갯수:\", count[0])"
   ]
  },
  {
   "cell_type": "code",
   "execution_count": null,
   "id": "3d36b75b",
   "metadata": {
    "ExecuteTime": {
     "end_time": "2023-08-29T03:44:11.979873Z",
     "start_time": "2023-08-29T03:44:11.972895Z"
    }
   },
   "outputs": [],
   "source": [
    "# 전체 레코드 삭제\n",
    "sql = \"delete from product\"\n",
    "cur.execute(sql)\n",
    "conn.commit()"
   ]
  },
  {
   "cell_type": "code",
   "execution_count": null,
   "id": "ca05e3f2",
   "metadata": {
    "ExecuteTime": {
     "end_time": "2023-08-29T03:48:00.914307Z",
     "start_time": "2023-08-29T03:48:00.901274Z"
    }
   },
   "outputs": [],
   "source": [
    "# 레코드를 일괄적으로 추가하는 작업\n",
    "items = [\n",
    "    (1, '레몬', 1500, '맛있는 레몬이 왔어요', 'lemon.jpg'),\n",
    "    (2, '오렌지', 2500, '상큼한 오렌지 있어요', 'orange.jpg'),\n",
    "    (3, '키위', 3500, '먹어도 키가 안 크는 키위가 있어요', 'kiwi.jpg'),\n",
    "    (4, '포도', 2500, '포도가 맛있다.', 'grape.jpg'),\n",
    "    (5, '딸기', 1800, '딸기도 좋아요', 'strawberry.jpg'),\n",
    "    (6, '귤', 500, '제주도 대신 귤', 'tangerine.jpg')    \n",
    "]\n",
    "\n",
    "sql = \"insert into product values(:1, :2, :3, :4, :5)\"\n",
    "# 일괄적으로 레코드를 추가할 때는 레코드의 갯수를 지정해줘야 한다.\n",
    "cur.bindarraysize = len(items)\n",
    "cur.executemany(sql, items)\n",
    "conn.commit()"
   ]
  },
  {
   "cell_type": "code",
   "execution_count": null,
   "id": "5e386baa",
   "metadata": {
    "ExecuteTime": {
     "end_time": "2023-08-29T03:49:59.660737Z",
     "start_time": "2023-08-29T03:49:59.643444Z"
    }
   },
   "outputs": [],
   "source": [
    "cur.close()\n",
    "conn.close()"
   ]
  },
  {
   "cell_type": "markdown",
   "id": "d488e780",
   "metadata": {},
   "source": [
    "# 회원관리 프로그램\n",
    "\n",
    "- CRUD(CREATE, SELECT, UPDATE, INSERT, DELETE) 즉, DML(조작어)\n",
    "- 테이블 생성 Member(userid, userpwd, name), userid는 primary key 설정\n",
    "- 주요기능: 회원가입(등록), 회원수정, 회원정보 출력, 회원삭제 등"
   ]
  },
  {
   "cell_type": "code",
   "execution_count": 1,
   "id": "09a9d94e",
   "metadata": {
    "ExecuteTime": {
     "end_time": "2023-09-01T06:43:30.819998Z",
     "start_time": "2023-09-01T06:43:30.572952Z"
    }
   },
   "outputs": [],
   "source": [
    "import cx_Oracle as cx\n",
    "\n",
    "conn = cx.connect(\"scott\", \"1234\", \"localhost:1521/xe\")"
   ]
  },
  {
   "cell_type": "markdown",
   "id": "da197ed0",
   "metadata": {},
   "source": [
    "## member 테이블 조회"
   ]
  },
  {
   "cell_type": "code",
   "execution_count": 7,
   "id": "41518cdc",
   "metadata": {
    "ExecuteTime": {
     "end_time": "2023-09-01T06:55:37.271922Z",
     "start_time": "2023-09-01T06:55:37.265942Z"
    }
   },
   "outputs": [
    {
     "name": "stdout",
     "output_type": "stream",
     "text": [
      "('admin', 'admin', '관리자')\n",
      "('aaa', '1234', '이소라')\n",
      "('ddd', '6485', 'djklcme')\n"
     ]
    }
   ],
   "source": [
    "cursor = conn.cursor()\n",
    "cursor.execute(\"select * from member\")\n",
    "\n",
    "# 모든 레코드를 Resultset 객체에 저장\n",
    "rs = cursor.fetchall() # list\n",
    "# print(type(rs))\n",
    "# print(rs)\n",
    "for member in rs:\n",
    "    print(member)\n",
    "\n",
    "conn.commit()\n",
    "conn.close() \n"
   ]
  },
  {
   "cell_type": "code",
   "execution_count": null,
   "id": "9f2f8378",
   "metadata": {
    "ExecuteTime": {
     "end_time": "2023-08-29T05:17:37.820924Z",
     "start_time": "2023-08-29T05:17:37.811956Z"
    }
   },
   "outputs": [],
   "source": [
    "rs[0]"
   ]
  },
  {
   "cell_type": "code",
   "execution_count": null,
   "id": "03766ca0",
   "metadata": {
    "ExecuteTime": {
     "end_time": "2023-08-29T06:48:48.589775Z",
     "start_time": "2023-08-29T06:48:48.573831Z"
    }
   },
   "outputs": [],
   "source": [
    "userid = rs[0][0]\n",
    "print(userid)"
   ]
  },
  {
   "cell_type": "code",
   "execution_count": null,
   "id": "2b9854b4",
   "metadata": {},
   "outputs": [],
   "source": []
  },
  {
   "cell_type": "markdown",
   "id": "5717822f",
   "metadata": {},
   "source": [
    "## 레코드 삽입"
   ]
  },
  {
   "cell_type": "code",
   "execution_count": 4,
   "id": "23152380",
   "metadata": {
    "ExecuteTime": {
     "end_time": "2023-09-01T06:53:04.877222Z",
     "start_time": "2023-09-01T06:53:04.870246Z"
    }
   },
   "outputs": [],
   "source": [
    "def insert(userid, userpass, username):\n",
    "    conn = cx.connect(\"scott\", \"1234\", \"localhost:1521/xe\")\n",
    "    sql = \"insert into member values(:1, :2, :3)\"\n",
    "    \n",
    "    cur = conn.cursor()\n",
    "    cur.execute(sql, [userid, userpass, username])\n",
    "    cur.close()\n",
    "    conn.commit()\n",
    "    conn.close()"
   ]
  },
  {
   "cell_type": "code",
   "execution_count": 5,
   "id": "e5061eb1",
   "metadata": {
    "ExecuteTime": {
     "end_time": "2023-09-01T06:53:37.986760Z",
     "start_time": "2023-09-01T06:53:30.697388Z"
    }
   },
   "outputs": [
    {
     "name": "stdout",
     "output_type": "stream",
     "text": [
      "회원가입할 회원의 정보를 입력하세요.\n",
      "id =ddd\n",
      "pass =6485\n",
      "name = djklcme\n"
     ]
    }
   ],
   "source": [
    "print(\"회원가입할 회원의 정보를 입력하세요.\")\n",
    "userid = input('id =')\n",
    "userpass = input('pass =')\n",
    "username = input('name = ')\n",
    "\n",
    "insert(userid, userpass, username)"
   ]
  },
  {
   "cell_type": "markdown",
   "id": "df4c1506",
   "metadata": {},
   "source": [
    "## 레코드 수정"
   ]
  },
  {
   "cell_type": "code",
   "execution_count": null,
   "id": "de0a0d01",
   "metadata": {
    "ExecuteTime": {
     "end_time": "2023-08-29T06:49:38.842832Z",
     "start_time": "2023-08-29T06:49:38.829861Z"
    }
   },
   "outputs": [],
   "source": [
    "def update(userid, userpass, username):\n",
    "    conn = cx.connect(\"scott\", \"1234\", \"localhost:1521/xe\")\n",
    "    sql = \"update member set userpass=:1, username=:2 where userid =:3\"\n",
    "    \n",
    "    cur = conn.cursor()\n",
    "    cur.execute(sql, [userpass, username, userid])\n",
    "    \n",
    "    cur.close()\n",
    "    conn.commit()\n",
    "    conn.close()"
   ]
  },
  {
   "cell_type": "code",
   "execution_count": null,
   "id": "23dc63cd",
   "metadata": {
    "ExecuteTime": {
     "end_time": "2023-08-29T06:55:48.106555Z",
     "start_time": "2023-08-29T06:55:48.091605Z"
    }
   },
   "outputs": [],
   "source": [
    "# id_check(userid)\n",
    "def id_check(userid):\n",
    "    conn = cx.connect(\"scott\", \"1234\", \"localhost:1521/xe\")\n",
    "    sql = \"select * from member\"\n",
    "    \n",
    "    cur = conn.cursor()\n",
    "    cur.execute(sql)\n",
    "    rs = cur.fetchall()\n",
    "    \n",
    "    for row in rs:\n",
    "        if row[0] == userid:\n",
    "            return True\n",
    "        \n",
    "        return False"
   ]
  },
  {
   "cell_type": "code",
   "execution_count": null,
   "id": "bbc0cff1",
   "metadata": {
    "ExecuteTime": {
     "end_time": "2023-08-29T06:55:51.324240Z",
     "start_time": "2023-08-29T06:55:49.744087Z"
    }
   },
   "outputs": [],
   "source": [
    "# 키보드를 통해 회원정보를 변경하는 작업\n",
    "userid = input('id = ')\n",
    "if id_check(userid):\n",
    "    userpass = input('pass = ')\n",
    "    username = input('name = ')\n",
    "    update(userid, userpass, username)\n",
    "else:\n",
    "    print(f\"{userid} 회원정보가 존재하지 않습니다.\")"
   ]
  },
  {
   "cell_type": "markdown",
   "id": "ad23c6e5",
   "metadata": {},
   "source": [
    "# 최종프로그램"
   ]
  },
  {
   "cell_type": "markdown",
   "id": "9a61dbed",
   "metadata": {},
   "source": [
    "## DB 연동"
   ]
  },
  {
   "cell_type": "code",
   "execution_count": 1,
   "id": "74131709",
   "metadata": {
    "ExecuteTime": {
     "end_time": "2023-08-29T07:22:58.789366Z",
     "start_time": "2023-08-29T07:22:58.686936Z"
    }
   },
   "outputs": [],
   "source": [
    "import cx_Oracle as cx\n",
    "\n",
    "conn = cx.connect(\"scott\", \"1234\", \"localhost:1521/xe\")\n",
    "cur = conn.cursor()"
   ]
  },
  {
   "cell_type": "markdown",
   "id": "d007decc",
   "metadata": {},
   "source": [
    "## 기능별 함수 구현"
   ]
  },
  {
   "cell_type": "markdown",
   "id": "c2c47f03",
   "metadata": {},
   "source": [
    "## main processor"
   ]
  },
  {
   "cell_type": "code",
   "execution_count": 2,
   "id": "958da967",
   "metadata": {
    "ExecuteTime": {
     "end_time": "2023-08-29T07:31:40.814838Z",
     "start_time": "2023-08-29T07:23:02.469042Z"
    }
   },
   "outputs": [
    {
     "name": "stdout",
     "output_type": "stream",
     "text": [
      "\n",
      "== 회원관리 프로그램 ==\n",
      "1.회원등록\n",
      "2.회원수정\n",
      "3.회원삭제\n",
      "4.회원출력\n",
      "5.작업종료\n",
      "메뉴 = 2\n",
      "id:bbb\n",
      "수정할 정보를 입력하세요.\n",
      "pass:1121\n",
      "name:장보고\n",
      "회원 정보가 수정되었습니다.\n",
      "수정이 완료되었습니다.\n",
      "\n",
      "== 회원관리 프로그램 ==\n",
      "1.회원등록\n",
      "2.회원수정\n",
      "3.회원삭제\n",
      "4.회원출력\n",
      "5.작업종료\n",
      "메뉴 = 4\n",
      "('admin', 'admin', '관리자')\n",
      "('aaa', '1234', '이소라')\n",
      "\n",
      "== 회원관리 프로그램 ==\n",
      "1.회원등록\n",
      "2.회원수정\n",
      "3.회원삭제\n",
      "4.회원출력\n",
      "5.작업종료\n",
      "메뉴 = 1\n",
      "id:aaa\n",
      "이미 존재하는 아이디입니다.\n",
      "\n",
      "== 회원관리 프로그램 ==\n",
      "1.회원등록\n",
      "2.회원수정\n",
      "3.회원삭제\n",
      "4.회원출력\n",
      "5.작업종료\n",
      "메뉴 = 1\n",
      "id:bbb\n",
      "pass:4651\n",
      "name:홍길동\n",
      "회원 등록이 완료되었습니다.\n",
      "\n",
      "== 회원관리 프로그램 ==\n",
      "1.회원등록\n",
      "2.회원수정\n",
      "3.회원삭제\n",
      "4.회원출력\n",
      "5.작업종료\n",
      "메뉴 = 2\n",
      "id:ccc\n",
      "ccc의 회원정보가 존재하지 않습니다.\n",
      "\n",
      "== 회원관리 프로그램 ==\n",
      "1.회원등록\n",
      "2.회원수정\n",
      "3.회원삭제\n",
      "4.회원출력\n",
      "5.작업종료\n",
      "메뉴 = 3\n",
      "id:bbb\n",
      "bbb회원 정보가 삭제되었습니다\n",
      "\n",
      "== 회원관리 프로그램 ==\n",
      "1.회원등록\n",
      "2.회원수정\n",
      "3.회원삭제\n",
      "4.회원출력\n",
      "5.작업종료\n",
      "메뉴 = 5\n",
      "프로그램을 종료합니다.\n"
     ]
    }
   ],
   "source": [
    "# 모듈 포함\n",
    "from dbTest import *  # 함수 사용 시 모듈명 포함 필요 x\n",
    "\n",
    "while True:\n",
    "    print(\"\\n== 회원관리 프로그램 ==\")\n",
    "    print(\"1.회원등록\")\n",
    "    print(\"2.회원수정\")\n",
    "    print(\"3.회원삭제\")\n",
    "    print(\"4.회원출력\")\n",
    "    print(\"5.작업종료\")\n",
    "    menu = int(input('메뉴 = '))\n",
    "    \n",
    "    if menu == 1:\n",
    "        userid = input('id:')\n",
    "        if id_check(userid) == 1:\n",
    "            print(f\"이미 존재하는 아이디입니다.\")\n",
    "        else:\n",
    "            userpass = input('pass:')\n",
    "            username = input('name:')\n",
    "            insert(userid, userpass, username)\n",
    "    elif menu == 2:\n",
    "        userid = input('id:')\n",
    "        if id_check(userid) == 0:\n",
    "            print(f\"{userid}의 회원정보가 존재하지 않습니다.\")\n",
    "        else:\n",
    "            print(\"수정할 정보를 입력하세요.\")\n",
    "            userpass = input('pass:')\n",
    "            username = input('name:')\n",
    "            update(userid, userpass, username)\n",
    "            print(\"수정이 완료되었습니다.\")\n",
    "    elif menu == 3:\n",
    "        userid = input('id:')\n",
    "        if id_check(userid) == 0:\n",
    "            print(f\"{userid}의 회원정보가 존재하지 않습니다.\")\n",
    "        else:\n",
    "            delete(userid)\n",
    "            print(f\"{userid}회원 정보가 삭제되었습니다\")\n",
    "    elif menu == 4:\n",
    "        listMember()\n",
    "    elif menu == 5:\n",
    "        close()  # 종료 전 자원 닫기\n",
    "        break\n",
    "    else:\n",
    "        print(\"선택이 올바르지 않습니다.\")\n",
    "        \n",
    "print(\"프로그램을 종료합니다.\")"
   ]
  },
  {
   "cell_type": "code",
   "execution_count": null,
   "id": "f548114a",
   "metadata": {},
   "outputs": [],
   "source": []
  }
 ],
 "metadata": {
  "kernelspec": {
   "display_name": "Python 3",
   "language": "python",
   "name": "python3"
  },
  "language_info": {
   "codemirror_mode": {
    "name": "ipython",
    "version": 3
   },
   "file_extension": ".py",
   "mimetype": "text/x-python",
   "name": "python",
   "nbconvert_exporter": "python",
   "pygments_lexer": "ipython3",
   "version": "3.8.8"
  },
  "toc": {
   "base_numbering": 1,
   "nav_menu": {},
   "number_sections": true,
   "sideBar": true,
   "skip_h1_title": false,
   "title_cell": "Table of Contents",
   "title_sidebar": "Contents",
   "toc_cell": false,
   "toc_position": {
    "height": "calc(100% - 180px)",
    "left": "10px",
    "top": "150px",
    "width": "307.2px"
   },
   "toc_section_display": true,
   "toc_window_display": false
  }
 },
 "nbformat": 4,
 "nbformat_minor": 5
}
