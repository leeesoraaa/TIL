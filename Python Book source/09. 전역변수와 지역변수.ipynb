{
 "cells": [
  {
   "cell_type": "markdown",
   "id": "6c53cef1",
   "metadata": {},
   "source": [
    "# 전역변수(Global Variable)\n",
    "- 범위 또는 영역: scope"
   ]
  },
  {
   "cell_type": "code",
   "execution_count": 1,
   "id": "c9c1d401",
   "metadata": {
    "ExecuteTime": {
     "end_time": "2023-09-01T03:14:22.887883Z",
     "start_time": "2023-09-01T03:14:22.867946Z"
    }
   },
   "outputs": [
    {
     "name": "stdout",
     "output_type": "stream",
     "text": [
      "X= 1\n",
      "X= 1\n"
     ]
    }
   ],
   "source": [
    "x = 1\n",
    "def func():\n",
    "    print(\"X=\", x)\n",
    "    \n",
    "func()\n",
    "print(\"X=\", x)"
   ]
  },
  {
   "cell_type": "code",
   "execution_count": 2,
   "id": "4b19bff4",
   "metadata": {
    "ExecuteTime": {
     "end_time": "2023-09-01T03:15:37.452428Z",
     "start_time": "2023-09-01T03:15:37.437472Z"
    }
   },
   "outputs": [
    {
     "name": "stdout",
     "output_type": "stream",
     "text": [
      "X= 1\n",
      "X= 2\n"
     ]
    }
   ],
   "source": [
    "x = 1\n",
    "def func():\n",
    "    print(\"X=\", x)\n",
    "    \n",
    "func()\n",
    "x = 2\n",
    "print(\"X=\", x)"
   ]
  },
  {
   "cell_type": "code",
   "execution_count": 3,
   "id": "dedc7f00",
   "metadata": {
    "ExecuteTime": {
     "end_time": "2023-09-01T03:16:06.297930Z",
     "start_time": "2023-09-01T03:16:06.281897Z"
    }
   },
   "outputs": [
    {
     "name": "stdout",
     "output_type": "stream",
     "text": [
      "X= 2\n",
      "X= 2\n"
     ]
    }
   ],
   "source": [
    "x = 1\n",
    "def func():\n",
    "    print(\"X=\", x)\n",
    "x = 2    \n",
    "func()\n",
    "print(\"X=\", x)"
   ]
  },
  {
   "cell_type": "markdown",
   "id": "675dc13b",
   "metadata": {},
   "source": [
    "# 지역변수(Local Variable)\n",
    "- 선언된 곳에서만 사용이 가능한 변수\n",
    "- 특정 지역에서만 사용하는 변수"
   ]
  },
  {
   "cell_type": "code",
   "execution_count": 4,
   "id": "71373c5c",
   "metadata": {
    "ExecuteTime": {
     "end_time": "2023-09-01T03:19:11.459714Z",
     "start_time": "2023-09-01T03:19:11.265056Z"
    }
   },
   "outputs": [
    {
     "name": "stdout",
     "output_type": "stream",
     "text": [
      "y =  1\n"
     ]
    },
    {
     "ename": "NameError",
     "evalue": "name 'y' is not defined",
     "output_type": "error",
     "traceback": [
      "\u001b[1;31m---------------------------------------------------------------------------\u001b[0m",
      "\u001b[1;31mNameError\u001b[0m                                 Traceback (most recent call last)",
      "\u001b[1;32m<ipython-input-4-a6e0ca8d12f2>\u001b[0m in \u001b[0;36m<module>\u001b[1;34m\u001b[0m\n\u001b[0;32m      3\u001b[0m     \u001b[0mprint\u001b[0m\u001b[1;33m(\u001b[0m\u001b[1;34m\"y = \"\u001b[0m\u001b[1;33m,\u001b[0m \u001b[0my\u001b[0m\u001b[1;33m)\u001b[0m\u001b[1;33m\u001b[0m\u001b[1;33m\u001b[0m\u001b[0m\n\u001b[0;32m      4\u001b[0m \u001b[0mfunc\u001b[0m\u001b[1;33m(\u001b[0m\u001b[1;33m)\u001b[0m\u001b[1;33m\u001b[0m\u001b[1;33m\u001b[0m\u001b[0m\n\u001b[1;32m----> 5\u001b[1;33m \u001b[0mprint\u001b[0m\u001b[1;33m(\u001b[0m\u001b[1;34m\"y =\"\u001b[0m\u001b[1;33m,\u001b[0m \u001b[0my\u001b[0m\u001b[1;33m)\u001b[0m\u001b[1;33m\u001b[0m\u001b[1;33m\u001b[0m\u001b[0m\n\u001b[0m",
      "\u001b[1;31mNameError\u001b[0m: name 'y' is not defined"
     ]
    }
   ],
   "source": [
    "def func():\n",
    "    y=1\n",
    "    print(\"y = \", y)\n",
    "func()\n",
    "print(\"y = \", y)"
   ]
  },
  {
   "cell_type": "code",
   "execution_count": 5,
   "id": "83c5bedf",
   "metadata": {
    "ExecuteTime": {
     "end_time": "2023-09-01T03:22:45.352645Z",
     "start_time": "2023-09-01T03:22:45.338778Z"
    }
   },
   "outputs": [
    {
     "name": "stdout",
     "output_type": "stream",
     "text": [
      "a =  2\n",
      "a =  2\n"
     ]
    }
   ],
   "source": [
    "a = 1\n",
    "def func():\n",
    "    global a\n",
    "    a = 2  # 전역변수의 값을 변경\n",
    "    print(\"a = \", a)\n",
    "    \n",
    "func()\n",
    "print(\"a = \", a)"
   ]
  },
  {
   "cell_type": "markdown",
   "id": "4a253f40",
   "metadata": {},
   "source": [
    "# 클로저(Closure)\n",
    "- 어떤 함수의 내부 함수가 외부 함수의 변수(프리변수)를 참조할 때, 외부함수가 종료된 후에도 내부 함수가 외부 함수의 변수를 참조할 수 있도록 어딘가에 저장하는 함수\n",
    "- 전역변수의 남용을 막귀 위해 사용\n",
    "- 조건\n",
    "  1. 반드시 어떤 함수의 내부에 있는 함수\n",
    "  2. 그 내부의 함수가 외부함수의 변수를 참조할 것\n",
    "  3. 외부 함수가 내부함수르 리턴할 것\n",
    "  \n",
    "- 프리변수(free variable): 어떤 함수에서 사용되지만 그 함수 내부에서 선언되지 않은 변수"
   ]
  },
  {
   "cell_type": "code",
   "execution_count": 6,
   "id": "71986da3",
   "metadata": {
    "ExecuteTime": {
     "end_time": "2023-09-01T03:31:20.699537Z",
     "start_time": "2023-09-01T03:31:20.685557Z"
    }
   },
   "outputs": [],
   "source": [
    "def hello(name):\n",
    "    message = \"Hi, \" + name\n",
    "    \n",
    "    def say():\n",
    "        print(message)\n",
    "        \n",
    "    return say"
   ]
  },
  {
   "cell_type": "code",
   "execution_count": 8,
   "id": "864b6c8e",
   "metadata": {
    "ExecuteTime": {
     "end_time": "2023-09-01T03:32:27.435478Z",
     "start_time": "2023-09-01T03:32:27.422065Z"
    }
   },
   "outputs": [
    {
     "name": "stdout",
     "output_type": "stream",
     "text": [
      "Hi, sora\n"
     ]
    }
   ],
   "source": [
    "f = hello('sora') # 클로저 생성, 객체 복사\n",
    "f()"
   ]
  }
 ],
 "metadata": {
  "kernelspec": {
   "display_name": "Python 3",
   "language": "python",
   "name": "python3"
  },
  "language_info": {
   "codemirror_mode": {
    "name": "ipython",
    "version": 3
   },
   "file_extension": ".py",
   "mimetype": "text/x-python",
   "name": "python",
   "nbconvert_exporter": "python",
   "pygments_lexer": "ipython3",
   "version": "3.8.8"
  },
  "toc": {
   "base_numbering": 1,
   "nav_menu": {},
   "number_sections": true,
   "sideBar": true,
   "skip_h1_title": false,
   "title_cell": "Table of Contents",
   "title_sidebar": "Contents",
   "toc_cell": false,
   "toc_position": {},
   "toc_section_display": true,
   "toc_window_display": false
  }
 },
 "nbformat": 4,
 "nbformat_minor": 5
}
