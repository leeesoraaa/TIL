{
 "cells": [
  {
   "cell_type": "code",
   "execution_count": 1,
   "id": "26413675",
   "metadata": {
    "ExecuteTime": {
     "end_time": "2023-08-22T06:22:54.720994Z",
     "start_time": "2023-08-22T06:22:54.716010Z"
    }
   },
   "outputs": [
    {
     "name": "stdout",
     "output_type": "stream",
     "text": [
      "<class 'bool'>\n"
     ]
    }
   ],
   "source": [
    "# 논리형: True or False\n",
    "hungry = True\n",
    "sleep = False\n",
    "\n",
    "# 논리연산자: &, |, !\n",
    "# 자료형 확인: type() - bool\n",
    "print(type(hungry))"
   ]
  },
  {
   "cell_type": "code",
   "execution_count": 2,
   "id": "8baf2f7e",
   "metadata": {
    "ExecuteTime": {
     "end_time": "2023-08-22T06:23:30.751661Z",
     "start_time": "2023-08-22T06:23:30.744686Z"
    }
   },
   "outputs": [
    {
     "name": "stdout",
     "output_type": "stream",
     "text": [
      "False\n"
     ]
    }
   ],
   "source": [
    "print(hungry and sleep)"
   ]
  },
  {
   "cell_type": "code",
   "execution_count": 3,
   "id": "6c04e322",
   "metadata": {
    "ExecuteTime": {
     "end_time": "2023-08-22T06:23:46.093382Z",
     "start_time": "2023-08-22T06:23:46.080231Z"
    }
   },
   "outputs": [
    {
     "ename": "SyntaxError",
     "evalue": "invalid syntax (<ipython-input-3-de58811a54f5>, line 1)",
     "output_type": "error",
     "traceback": [
      "\u001b[1;36m  File \u001b[1;32m\"<ipython-input-3-de58811a54f5>\"\u001b[1;36m, line \u001b[1;32m1\u001b[0m\n\u001b[1;33m    print(!hungry)\u001b[0m\n\u001b[1;37m          ^\u001b[0m\n\u001b[1;31mSyntaxError\u001b[0m\u001b[1;31m:\u001b[0m invalid syntax\n"
     ]
    }
   ],
   "source": [
    "print(!hungry)  # Error"
   ]
  },
  {
   "cell_type": "code",
   "execution_count": 4,
   "id": "5d38161c",
   "metadata": {
    "ExecuteTime": {
     "end_time": "2023-08-22T06:24:28.653582Z",
     "start_time": "2023-08-22T06:24:28.649593Z"
    }
   },
   "outputs": [
    {
     "name": "stdout",
     "output_type": "stream",
     "text": [
      "False\n"
     ]
    }
   ],
   "source": [
    "print(not hungry)"
   ]
  },
  {
   "cell_type": "code",
   "execution_count": 5,
   "id": "d633a1e9",
   "metadata": {
    "ExecuteTime": {
     "end_time": "2023-08-22T06:25:01.687121Z",
     "start_time": "2023-08-22T06:25:01.679152Z"
    }
   },
   "outputs": [
    {
     "name": "stdout",
     "output_type": "stream",
     "text": [
      "True\n"
     ]
    }
   ],
   "source": [
    "print(hungry or sleep)"
   ]
  },
  {
   "cell_type": "code",
   "execution_count": 6,
   "id": "e2d19839",
   "metadata": {
    "ExecuteTime": {
     "end_time": "2023-08-22T06:27:15.042437Z",
     "start_time": "2023-08-22T06:27:15.030914Z"
    }
   },
   "outputs": [
    {
     "name": "stdout",
     "output_type": "stream",
     "text": [
      "ok\n"
     ]
    }
   ],
   "source": [
    "a = 1\n",
    "b = 3\n",
    "\n",
    "# 들여쓰기(Indent)\n",
    "if a == 1 and b == 3:\n",
    "    print(\"ok\")\n",
    "else:\n",
    "    print(\"not ok\")"
   ]
  },
  {
   "cell_type": "code",
   "execution_count": 7,
   "id": "81489fb0",
   "metadata": {
    "ExecuteTime": {
     "end_time": "2023-08-22T06:28:06.280369Z",
     "start_time": "2023-08-22T06:28:06.272329Z"
    }
   },
   "outputs": [
    {
     "name": "stdout",
     "output_type": "stream",
     "text": [
      "ok\n"
     ]
    }
   ],
   "source": [
    "if a == 1 and \\\n",
    "b == 3:            # 문장이 길어서 연결할 때 '\\'\n",
    "    print(\"ok\")\n",
    "else:\n",
    "    print(\"not ok\")"
   ]
  },
  {
   "cell_type": "code",
   "execution_count": 10,
   "id": "7a751d31",
   "metadata": {
    "ExecuteTime": {
     "end_time": "2023-08-22T06:30:12.249615Z",
     "start_time": "2023-08-22T06:30:12.238475Z"
    }
   },
   "outputs": [
    {
     "name": "stdout",
     "output_type": "stream",
     "text": [
      "Hello\n",
      "Python\n",
      "programming\n"
     ]
    }
   ],
   "source": [
    "# multi line text: 여러 줄 문장\n",
    "\n",
    "multi = \"Hello\\nPython\\nprogramming\"\n",
    "\n",
    "# 제어문자: \\n == new line, 줄바꿈\n",
    "print(multi)"
   ]
  },
  {
   "cell_type": "code",
   "execution_count": 11,
   "id": "670f7982",
   "metadata": {
    "ExecuteTime": {
     "end_time": "2023-08-22T06:30:56.239126Z",
     "start_time": "2023-08-22T06:30:56.231332Z"
    }
   },
   "outputs": [
    {
     "name": "stdout",
     "output_type": "stream",
     "text": [
      "\n",
      "Hello\n",
      "Python\n",
      "programming\n",
      "\n"
     ]
    }
   ],
   "source": [
    "multiline = \"\"\"\n",
    "Hello\n",
    "Python\n",
    "programming\n",
    "\"\"\"\n",
    "print(multiline)"
   ]
  },
  {
   "cell_type": "code",
   "execution_count": 13,
   "id": "76d279af",
   "metadata": {
    "ExecuteTime": {
     "end_time": "2023-08-22T06:32:48.013661Z",
     "start_time": "2023-08-22T06:32:48.004731Z"
    }
   },
   "outputs": [
    {
     "name": "stdout",
     "output_type": "stream",
     "text": [
      "파이썬은  재미있다.\n",
      "파이썬은 재미있다.\n"
     ]
    }
   ],
   "source": [
    "head = \"파이썬은 \"\n",
    "tail = \"재미있다.\"\n",
    "print(head, tail)\n",
    "print(head + tail)"
   ]
  },
  {
   "cell_type": "code",
   "execution_count": 14,
   "id": "27fb690a",
   "metadata": {
    "ExecuteTime": {
     "end_time": "2023-08-22T06:34:36.446767Z",
     "start_time": "2023-08-22T06:34:36.436787Z"
    }
   },
   "outputs": [
    {
     "name": "stdout",
     "output_type": "stream",
     "text": [
      "홍길동 33\n",
      "홍길동33\n"
     ]
    }
   ],
   "source": [
    "name = \"홍길동\"\n",
    "age = 33\n",
    "\n",
    "print(name, age)\n",
    "print(name + str(age)) # str(): 숫자를 문자열형으로 캐스팅"
   ]
  },
  {
   "cell_type": "code",
   "execution_count": 15,
   "id": "a60ac6dc",
   "metadata": {
    "ExecuteTime": {
     "end_time": "2023-08-22T06:37:26.913362Z",
     "start_time": "2023-08-22T06:37:26.902659Z"
    }
   },
   "outputs": [
    {
     "name": "stdout",
     "output_type": "stream",
     "text": [
      "이름: 홍길동, 나이: 33\n",
      "이름: 홍길동, 나이: 33\n",
      "이름: 홍길동, 나이: 33\n",
      "이름: 홍길동, 나이: 33\n"
     ]
    }
   ],
   "source": [
    "print(\"이름: {}, 나이: {}\".format(name, age))\n",
    "# 파이썬의 인덱스는 0부터 시작된다.\n",
    "print(\"이름: {0}, 나이: {1}\".format(name, age))\n",
    "print(f\"이름: {name}, 나이: {age}\")\n",
    "print(\"이름: %s, 나이: %d\" % (name, age))"
   ]
  },
  {
   "cell_type": "code",
   "execution_count": 17,
   "id": "d6a25596",
   "metadata": {
    "ExecuteTime": {
     "end_time": "2023-08-22T06:39:04.809756Z",
     "start_time": "2023-08-22T06:39:04.797533Z"
    }
   },
   "outputs": [
    {
     "name": "stdout",
     "output_type": "stream",
     "text": [
      "파이썬파이썬\n",
      "파이썬파이썬파이썬\n",
      "==================================================\n",
      "My Program Style\n"
     ]
    }
   ],
   "source": [
    "x = \"파이썬\"\n",
    "print(x * 2)\n",
    "print(x * 3)\n",
    "print(\"=\" * 50)\n",
    "print(\"My Program Style\")"
   ]
  },
  {
   "cell_type": "code",
   "execution_count": 19,
   "id": "6d2a9848",
   "metadata": {
    "ExecuteTime": {
     "end_time": "2023-08-22T06:44:09.999349Z",
     "start_time": "2023-08-22T06:44:09.993362Z"
    }
   },
   "outputs": [
    {
     "name": "stdout",
     "output_type": "stream",
     "text": [
      "Life is too short\n",
      "e\n",
      "r\n",
      "==================================================\n",
      "Life\n",
      "is too short\n",
      "Life is\n",
      "Life is too short\n"
     ]
    }
   ],
   "source": [
    "# 문자열 인덱싱\n",
    "# 파이썬에서 리스트(List)는 1차원 배열과 같다. R에서 Vector와 같다.\n",
    "\n",
    "xx = \"Life is too short\"\n",
    "print(xx)\n",
    "\n",
    "# [인덱스]\n",
    "print(xx[3])\n",
    "print(xx[-2])\n",
    "print(\"=\" * 50)\n",
    "\n",
    "# 슬라이싱(slicing): , start:end   start부터 end-1까지\n",
    "print(xx[0:4]) # 0 ~ 3 (Life)\n",
    "print(xx[5:]) # 5부터 끝까지\n",
    "print(xx[:7]) # 처음부터 6까지\n",
    "print(xx[:]) # 처음부터 끝까지"
   ]
  },
  {
   "cell_type": "markdown",
   "id": "9ad0f843",
   "metadata": {
    "ExecuteTime": {
     "end_time": "2023-08-22T06:45:49.289051Z",
     "start_time": "2023-08-22T06:45:49.282075Z"
    }
   },
   "source": [
    "# 문자열과 관련된 함수"
   ]
  },
  {
   "cell_type": "code",
   "execution_count": 21,
   "id": "2d352df7",
   "metadata": {
    "ExecuteTime": {
     "end_time": "2023-08-22T06:46:45.606452Z",
     "start_time": "2023-08-22T06:46:45.597344Z"
    }
   },
   "outputs": [
    {
     "name": "stdout",
     "output_type": "stream",
     "text": [
      "True\n",
      "False\n"
     ]
    }
   ],
   "source": [
    "str = \"Hello World\"\n",
    "\n",
    "# in 과 not in\n",
    "print(\"World\" in str)\n",
    "print(\"World\" not in str)"
   ]
  },
  {
   "cell_type": "code",
   "execution_count": 22,
   "id": "e6663b22",
   "metadata": {
    "ExecuteTime": {
     "end_time": "2023-08-22T06:48:07.814520Z",
     "start_time": "2023-08-22T06:48:07.804033Z"
    }
   },
   "outputs": [
    {
     "name": "stdout",
     "output_type": "stream",
     "text": [
      "3.141592653589793\n"
     ]
    }
   ],
   "source": [
    "import math\n",
    "\n",
    "y = math.pi\n",
    "print(y)"
   ]
  },
  {
   "cell_type": "code",
   "execution_count": 23,
   "id": "656b7a46",
   "metadata": {
    "ExecuteTime": {
     "end_time": "2023-08-22T06:49:14.534863Z",
     "start_time": "2023-08-22T06:49:14.521889Z"
    }
   },
   "outputs": [
    {
     "name": "stdout",
     "output_type": "stream",
     "text": [
      "hobby\n",
      "2\n"
     ]
    }
   ],
   "source": [
    "a = \"hobby\"\n",
    "print(a)\n",
    "\n",
    "# count(): 해당 문자의 개수를 반환\n",
    "print(a.count('b'))"
   ]
  },
  {
   "cell_type": "code",
   "execution_count": 27,
   "id": "efefc4ca",
   "metadata": {
    "ExecuteTime": {
     "end_time": "2023-08-22T06:54:38.172793Z",
     "start_time": "2023-08-22T06:54:38.147154Z"
    }
   },
   "outputs": [
    {
     "name": "stdout",
     "output_type": "stream",
     "text": [
      "Have a nice today\n",
      "7\n",
      "-1\n",
      "7\n"
     ]
    }
   ],
   "source": [
    "# find(): 해당 문자의 첫번째 위치를 반환, 없으면 -1을 반환\n",
    "# rfind(): 오른쪽에서 부터 첫번째 위치를 반환\n",
    "\n",
    "b = \"Have a nice today\"\n",
    "print(b)\n",
    "\n",
    "print(b.find('nice')) # 7\n",
    "print(b.find('have')) # 대소문자 구분하므로 -1\n",
    "print(b.rfind('nice'))"
   ]
  },
  {
   "cell_type": "code",
   "execution_count": 28,
   "id": "bcec917e",
   "metadata": {
    "ExecuteTime": {
     "end_time": "2023-08-22T06:55:29.700820Z",
     "start_time": "2023-08-22T06:55:29.685694Z"
    }
   },
   "outputs": [
    {
     "name": "stdout",
     "output_type": "stream",
     "text": [
      "7\n",
      "0\n"
     ]
    }
   ],
   "source": [
    "# index: find와 유사하지만 해당 문자열이 없으면 오류 발생\n",
    "x = \"Have a nice today\"\n",
    "print(x.index(\"nice\"))\n",
    "print(x.index(\"Have\"))"
   ]
  },
  {
   "cell_type": "code",
   "execution_count": 29,
   "id": "478ca318",
   "metadata": {
    "ExecuteTime": {
     "end_time": "2023-08-22T06:56:15.750970Z",
     "start_time": "2023-08-22T06:56:15.743995Z"
    }
   },
   "outputs": [
    {
     "data": {
      "text/plain": [
       "'a,b,c,d'"
      ]
     },
     "execution_count": 29,
     "metadata": {},
     "output_type": "execute_result"
    }
   ],
   "source": [
    "# 구분자.join(문자열): 각각의 문자열 사이에 지정한 문자를 삽입하는 함수\n",
    "\",\".join(\"abcd\")"
   ]
  },
  {
   "cell_type": "code",
   "execution_count": 30,
   "id": "a3d8fbb1",
   "metadata": {
    "ExecuteTime": {
     "end_time": "2023-08-22T06:58:41.576967Z",
     "start_time": "2023-08-22T06:58:41.562016Z"
    }
   },
   "outputs": [
    {
     "data": {
      "text/plain": [
       "'HELLO'"
      ]
     },
     "execution_count": 30,
     "metadata": {},
     "output_type": "execute_result"
    }
   ],
   "source": [
    "# upper/lower\n",
    "data = \"hello\"\n",
    "\n",
    "data.upper()"
   ]
  },
  {
   "cell_type": "code",
   "execution_count": 31,
   "id": "491caa68",
   "metadata": {
    "ExecuteTime": {
     "end_time": "2023-08-22T06:58:56.149022Z",
     "start_time": "2023-08-22T06:58:56.134420Z"
    }
   },
   "outputs": [
    {
     "data": {
      "text/plain": [
       "'hello'"
      ]
     },
     "execution_count": 31,
     "metadata": {},
     "output_type": "execute_result"
    }
   ],
   "source": [
    "data.upper().lower()"
   ]
  },
  {
   "cell_type": "code",
   "execution_count": 32,
   "id": "823643de",
   "metadata": {
    "ExecuteTime": {
     "end_time": "2023-08-22T06:59:15.014019Z",
     "start_time": "2023-08-22T06:59:15.009019Z"
    }
   },
   "outputs": [
    {
     "data": {
      "text/plain": [
       "'Hello'"
      ]
     },
     "execution_count": 32,
     "metadata": {},
     "output_type": "execute_result"
    }
   ],
   "source": [
    "# 첫글자만 대문자\n",
    "data.capitalize()"
   ]
  },
  {
   "cell_type": "code",
   "execution_count": 33,
   "id": "571c2248",
   "metadata": {
    "ExecuteTime": {
     "end_time": "2023-08-22T06:59:57.617570Z",
     "start_time": "2023-08-22T06:59:57.603597Z"
    }
   },
   "outputs": [
    {
     "name": "stdout",
     "output_type": "stream",
     "text": [
      "hi     \n"
     ]
    }
   ],
   "source": [
    "# 공백제거: strip, rstrip, lstrip\n",
    "a = \"     hi     \"\n",
    "result = a.lstrip()\n",
    "print(result)"
   ]
  },
  {
   "cell_type": "code",
   "execution_count": 34,
   "id": "463f2a3d",
   "metadata": {
    "ExecuteTime": {
     "end_time": "2023-08-22T07:06:39.015435Z",
     "start_time": "2023-08-22T07:06:38.999636Z"
    }
   },
   "outputs": [
    {
     "name": "stdout",
     "output_type": "stream",
     "text": [
      "경력 개발자\n"
     ]
    }
   ],
   "source": [
    "# replace: 문자열을 특정 문자열로 바꿔주는 함수\n",
    "a = \"신입 개발자\"\n",
    "#replace(A, B): A를 B로 변경해라\n",
    "result = a.replace(\"신입\", \"경력\")\n",
    "print(result)"
   ]
  },
  {
   "cell_type": "code",
   "execution_count": 35,
   "id": "84d3b636",
   "metadata": {
    "ExecuteTime": {
     "end_time": "2023-08-22T07:07:36.241656Z",
     "start_time": "2023-08-22T07:07:36.233773Z"
    }
   },
   "outputs": [
    {
     "name": "stdout",
     "output_type": "stream",
     "text": [
      "['신입', '개발자', '자바', '파이썬', '가능자']\n"
     ]
    }
   ],
   "source": [
    "a = \"신입 개발자 자바 파이썬 가능자\"\n",
    "result = a.split() # 공백을 기준으로 나눈다. => 리스트로 반환\n",
    "print(result)"
   ]
  },
  {
   "cell_type": "code",
   "execution_count": 36,
   "id": "4d8e04b9",
   "metadata": {
    "ExecuteTime": {
     "end_time": "2023-08-22T07:08:26.982753Z",
     "start_time": "2023-08-22T07:08:26.968636Z"
    }
   },
   "outputs": [
    {
     "name": "stdout",
     "output_type": "stream",
     "text": [
      "['A', 'B', 'C', 'D']\n"
     ]
    }
   ],
   "source": [
    "a = \"A:B:C:D\"\n",
    "result = a.split(':')\n",
    "print(result)"
   ]
  },
  {
   "cell_type": "code",
   "execution_count": 37,
   "id": "d8103485",
   "metadata": {
    "ExecuteTime": {
     "end_time": "2023-08-22T07:08:56.664693Z",
     "start_time": "2023-08-22T07:08:56.651653Z"
    }
   },
   "outputs": [
    {
     "name": "stdout",
     "output_type": "stream",
     "text": [
      "1 2 3\n",
      "4 5 6\n"
     ]
    }
   ],
   "source": [
    "print(1,2,3)\n",
    "print(4,5,6)"
   ]
  },
  {
   "cell_type": "code",
   "execution_count": 38,
   "id": "332904ac",
   "metadata": {
    "ExecuteTime": {
     "end_time": "2023-08-22T07:11:07.688403Z",
     "start_time": "2023-08-22T07:11:07.678241Z"
    }
   },
   "outputs": [
    {
     "name": "stdout",
     "output_type": "stream",
     "text": [
      "1 2 3 4 5 6\n"
     ]
    }
   ],
   "source": [
    "# print(\"출력내용\", sep='\\n')\n",
    "print(1,2,3,end = ' ') # end of line: 줄의 끝 처리, end = '\\n' 기본값\n",
    "print(4,5,6)"
   ]
  },
  {
   "cell_type": "code",
   "execution_count": 39,
   "id": "834ffa55",
   "metadata": {
    "ExecuteTime": {
     "end_time": "2023-08-22T07:12:50.905502Z",
     "start_time": "2023-08-22T07:12:50.898348Z"
    }
   },
   "outputs": [
    {
     "name": "stdout",
     "output_type": "stream",
     "text": [
      "1 2 3 4 5\n",
      "1, 2, 3, 4, 5\n"
     ]
    }
   ],
   "source": [
    "print(1,2,3,4,5)\n",
    "print(1,2,3,4,5, sep = ', ') # sep: 구분기호(구분자)"
   ]
  },
  {
   "cell_type": "code",
   "execution_count": null,
   "id": "b1e74c76",
   "metadata": {},
   "outputs": [],
   "source": []
  }
 ],
 "metadata": {
  "kernelspec": {
   "display_name": "Python 3",
   "language": "python",
   "name": "python3"
  },
  "language_info": {
   "codemirror_mode": {
    "name": "ipython",
    "version": 3
   },
   "file_extension": ".py",
   "mimetype": "text/x-python",
   "name": "python",
   "nbconvert_exporter": "python",
   "pygments_lexer": "ipython3",
   "version": "3.8.8"
  },
  "toc": {
   "base_numbering": 1,
   "nav_menu": {},
   "number_sections": true,
   "sideBar": true,
   "skip_h1_title": false,
   "title_cell": "Table of Contents",
   "title_sidebar": "Contents",
   "toc_cell": false,
   "toc_position": {},
   "toc_section_display": true,
   "toc_window_display": false
  }
 },
 "nbformat": 4,
 "nbformat_minor": 5
}
