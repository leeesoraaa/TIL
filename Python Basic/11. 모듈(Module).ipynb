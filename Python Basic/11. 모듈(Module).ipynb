{
 "cells": [
  {
   "cell_type": "markdown",
   "id": "5fee105b",
   "metadata": {},
   "source": [
    "# 모듈의 정의\n",
    "1. 함수(Function): 파일 내에서 자주 반복적으로 수행하는 기능이나 명령어를 묶어놓은 단위<br> \n",
    "<br>\n",
    "2. 모듈(Module): 함수나 변수 또는 클래스들을 모아놓은 파이썬 파일(확장자가 py인 파일)<br>\n",
    "  - 비슷하거나 관련된 일을 하는 함수나 상수값들을 모아서 하나의 파일에 저장하고 필요에 의해 재사용 가능<br>  \n",
    "<br>  \n",
    "3. 패키지(package): 여러 개의 모듈을 모아놓은 디렉토리 개념<br>  \n",
    "  - 모듈: 파일<br> \n",
    "  - 패키지: 폴더<br>  "
   ]
  },
  {
   "cell_type": "markdown",
   "id": "f2ce5d59",
   "metadata": {},
   "source": [
    "# 모듈을 사용하는 목적\n",
    "\n",
    "1. 코드의 재사용\n",
    "2. 프로그램을 모듈 단위로 구현하면 작업의 효율을 높일 수 있다.\n",
    "3. 별도의 이름공간(namespace)에 제공함으로써 동일한 이름의 여러 함수나 변수들이 각 모듈마다 독립적"
   ]
  },
  {
   "cell_type": "markdown",
   "id": "d541ac43",
   "metadata": {},
   "source": [
    "# 모듈의 종류\n",
    "\n",
    "1. 표준모듈: 파이썬 언어의 패키지 안에 기본적으로 제공하는 모듈<br>\n",
    "   ex) math, string...<br>\n",
    "2. 사용자 정의 모듈: 사용자에 의해 임의대로 개발된(정의된) 모듈<br>\n",
    "3. 써드 파티 모듈: 다른 업체나 개인이 만들어서 제공하는 모듈<br>\n",
    "   ex) numpy, pandas, matplotlib, seaborn, scikit-learn, keras, tensorflow, openCV,..."
   ]
  },
  {
   "cell_type": "markdown",
   "id": "e59842b0",
   "metadata": {},
   "source": [
    "# 모듈의 선언\n",
    "\n",
    "1. 모듈 전체를 참조<br>\n",
    "  import 모듈명<br>\n",
    "  import 모듈명 as 모듈별칭<br>\n",
    "  \n",
    "2. 모듈 내에서 필요한 부분만 참조<br>\n",
    "  from 모듈명 import 변수 or 함수<br>\n",
    "  from 모듈명 import * <br>\n",
    "  from 모듈명 import 이름 as 별칭<br>\n",
    "  \n",
    "3. 모듈 내부의 함수를 참조할 경우<br>\n",
    "  모듈명.함수명()"
   ]
  },
  {
   "cell_type": "code",
   "execution_count": 1,
   "id": "c3c383a5",
   "metadata": {
    "ExecuteTime": {
     "end_time": "2023-08-28T03:00:59.365926Z",
     "start_time": "2023-08-28T03:00:59.350427Z"
    }
   },
   "outputs": [],
   "source": [
    "import math"
   ]
  },
  {
   "cell_type": "code",
   "execution_count": 2,
   "id": "56683d29",
   "metadata": {
    "ExecuteTime": {
     "end_time": "2023-08-28T03:01:44.419294Z",
     "start_time": "2023-08-28T03:01:44.400324Z"
    }
   },
   "outputs": [
    {
     "name": "stdout",
     "output_type": "stream",
     "text": [
      "['__doc__', '__loader__', '__name__', '__package__', '__spec__', 'acos', 'acosh', 'asin', 'asinh', 'atan', 'atan2', 'atanh', 'ceil', 'comb', 'copysign', 'cos', 'cosh', 'degrees', 'dist', 'e', 'erf', 'erfc', 'exp', 'expm1', 'fabs', 'factorial', 'floor', 'fmod', 'frexp', 'fsum', 'gamma', 'gcd', 'hypot', 'inf', 'isclose', 'isfinite', 'isinf', 'isnan', 'isqrt', 'ldexp', 'lgamma', 'log', 'log10', 'log1p', 'log2', 'modf', 'nan', 'perm', 'pi', 'pow', 'prod', 'radians', 'remainder', 'sin', 'sinh', 'sqrt', 'tan', 'tanh', 'tau', 'trunc']\n"
     ]
    }
   ],
   "source": [
    "# 모듈 내부의 변수나 함수 목록 출력\n",
    "print(dir(math))"
   ]
  },
  {
   "cell_type": "code",
   "execution_count": 3,
   "id": "f62e13b6",
   "metadata": {
    "ExecuteTime": {
     "end_time": "2023-08-28T03:02:52.448480Z",
     "start_time": "2023-08-28T03:02:52.431486Z"
    }
   },
   "outputs": [
    {
     "name": "stdout",
     "output_type": "stream",
     "text": [
      "3.141592653589793\n"
     ]
    }
   ],
   "source": [
    "print(math.pi)"
   ]
  },
  {
   "cell_type": "code",
   "execution_count": 5,
   "id": "eca820de",
   "metadata": {
    "ExecuteTime": {
     "end_time": "2023-08-28T03:03:24.259495Z",
     "start_time": "2023-08-28T03:03:24.246054Z"
    }
   },
   "outputs": [
    {
     "name": "stdout",
     "output_type": "stream",
     "text": [
      "32.0\n"
     ]
    }
   ],
   "source": [
    "print(math.pow(2, 5))"
   ]
  },
  {
   "cell_type": "code",
   "execution_count": 6,
   "id": "c62494df",
   "metadata": {
    "ExecuteTime": {
     "end_time": "2023-08-28T03:04:33.131045Z",
     "start_time": "2023-08-28T03:04:33.120083Z"
    }
   },
   "outputs": [
    {
     "name": "stdout",
     "output_type": "stream",
     "text": [
      "hello\n",
      "안녕하세요\n"
     ]
    }
   ],
   "source": [
    "import greeting_en as en\n",
    "import greeting_ko as ko\n",
    "\n",
    "print(en.welcome())\n",
    "print(ko.welcome())"
   ]
  },
  {
   "cell_type": "code",
   "execution_count": 8,
   "id": "4004880c",
   "metadata": {
    "ExecuteTime": {
     "end_time": "2023-08-28T03:27:48.930486Z",
     "start_time": "2023-08-28T03:27:48.914555Z"
    }
   },
   "outputs": [
    {
     "name": "stdout",
     "output_type": "stream",
     "text": [
      "7\n",
      "7\n",
      "자료형이 일치하지 않습니다.\n",
      "None\n"
     ]
    }
   ],
   "source": [
    "from mod1 import * \n",
    "\n",
    "print(sum(3, 4))\n",
    "print(safe_sum(3,4))\n",
    "print(safe_sum('a', 4))"
   ]
  },
  {
   "cell_type": "code",
   "execution_count": 9,
   "id": "d53363cc",
   "metadata": {
    "ExecuteTime": {
     "end_time": "2023-08-28T03:33:14.344117Z",
     "start_time": "2023-08-28T03:33:14.337135Z"
    }
   },
   "outputs": [
    {
     "name": "stdout",
     "output_type": "stream",
     "text": [
      "7\n",
      "7\n",
      "자료형이 일치하지 않습니다.\n",
      "None\n"
     ]
    }
   ],
   "source": [
    "from mod1 import * \n",
    "\n",
    "print(sum(3, 4))\n",
    "print(safe_sum(3,4))\n",
    "print(safe_sum('a', 4))"
   ]
  },
  {
   "cell_type": "code",
   "execution_count": 1,
   "id": "592d2b70",
   "metadata": {
    "ExecuteTime": {
     "end_time": "2023-08-28T05:15:20.734275Z",
     "start_time": "2023-08-28T05:15:20.717802Z"
    }
   },
   "outputs": [],
   "source": [
    "import mod1"
   ]
  },
  {
   "cell_type": "markdown",
   "id": "188a855e",
   "metadata": {},
   "source": [
    "## random 모듈"
   ]
  },
  {
   "cell_type": "code",
   "execution_count": 3,
   "id": "d3965831",
   "metadata": {
    "ExecuteTime": {
     "end_time": "2023-08-28T05:17:22.589480Z",
     "start_time": "2023-08-28T05:17:22.580083Z"
    }
   },
   "outputs": [
    {
     "name": "stdout",
     "output_type": "stream",
     "text": [
      "난수: 0.24785693777395423\n"
     ]
    }
   ],
   "source": [
    "import random\n",
    "\n",
    "# random(): 0.0 ~ 1.0 실수를 리턴\n",
    "print('난수:', random.random())"
   ]
  },
  {
   "cell_type": "code",
   "execution_count": 7,
   "id": "760d7c4f",
   "metadata": {
    "ExecuteTime": {
     "end_time": "2023-08-28T05:21:19.469940Z",
     "start_time": "2023-08-28T05:21:19.457970Z"
    }
   },
   "outputs": [
    {
     "name": "stdout",
     "output_type": "stream",
     "text": [
      "['BPF', 'LOG4', 'NV_MAGICCONST', 'RECIP_BPF', 'Random', 'SG_MAGICCONST', 'SystemRandom', 'TWOPI', '_Sequence', '_Set', '__all__', '__builtins__', '__cached__', '__doc__', '__file__', '__loader__', '__name__', '__package__', '__spec__', '_accumulate', '_acos', '_bisect', '_ceil', '_cos', '_e', '_exp', '_inst', '_log', '_os', '_pi', '_random', '_repeat', '_sha512', '_sin', '_sqrt', '_test', '_test_generator', '_urandom', '_warn', 'betavariate', 'choice', 'choices', 'expovariate', 'gammavariate', 'gauss', 'getrandbits', 'getstate', 'lognormvariate', 'normalvariate', 'paretovariate', 'randint', 'random', 'randrange', 'sample', 'seed', 'setstate', 'shuffle', 'triangular', 'uniform', 'vonmisesvariate', 'weibullvariate']\n"
     ]
    }
   ],
   "source": [
    "print(dir(random))"
   ]
  },
  {
   "cell_type": "code",
   "execution_count": 4,
   "id": "57acdf04",
   "metadata": {
    "ExecuteTime": {
     "end_time": "2023-08-28T05:18:47.569174Z",
     "start_time": "2023-08-28T05:18:47.556648Z"
    }
   },
   "outputs": [
    {
     "name": "stdout",
     "output_type": "stream",
     "text": [
      "uniform(10, 20): 10.889362424863926\n"
     ]
    }
   ],
   "source": [
    "# uniform(min, max): min ~ max 사이의 범위에서 실수를 리턴\n",
    "print('uniform(10, 20):', random.uniform(10, 20))"
   ]
  },
  {
   "cell_type": "code",
   "execution_count": 5,
   "id": "94c1e15c",
   "metadata": {
    "ExecuteTime": {
     "end_time": "2023-08-28T05:20:16.862523Z",
     "start_time": "2023-08-28T05:20:16.858593Z"
    }
   },
   "outputs": [
    {
     "name": "stdout",
     "output_type": "stream",
     "text": [
      "randrange(10): 6\n"
     ]
    }
   ],
   "source": [
    "# randrange(max): 0 ~ max 사이의 난수 정수 리턴\n",
    "# randrange(min, max): min ~ max 사이의 난수 정수 리턴\n",
    "print('randrange(10):', random.randrange(10))"
   ]
  },
  {
   "cell_type": "code",
   "execution_count": 6,
   "id": "2a7864e0",
   "metadata": {
    "ExecuteTime": {
     "end_time": "2023-08-28T05:20:51.994667Z",
     "start_time": "2023-08-28T05:20:51.963634Z"
    }
   },
   "outputs": [
    {
     "name": "stdout",
     "output_type": "stream",
     "text": [
      "randrange(14, 23): 20\n"
     ]
    }
   ],
   "source": [
    "print('randrange(14, 23):', random.randrange(14, 23))"
   ]
  },
  {
   "cell_type": "code",
   "execution_count": 8,
   "id": "3f755969",
   "metadata": {
    "ExecuteTime": {
     "end_time": "2023-08-28T05:23:09.664558Z",
     "start_time": "2023-08-28T05:23:09.657507Z"
    }
   },
   "outputs": [
    {
     "name": "stdout",
     "output_type": "stream",
     "text": [
      "choice([1,2,3,4,5]): 2\n"
     ]
    }
   ],
   "source": [
    "# choice(list): 리스트 내부에 있는 요소 중 랜덤으로 추출\n",
    "print(\"choice([1,2,3,4,5]):\", random.choice([1,2,3,4,5]))"
   ]
  },
  {
   "cell_type": "code",
   "execution_count": 10,
   "id": "0e672621",
   "metadata": {
    "ExecuteTime": {
     "end_time": "2023-08-28T05:24:56.094539Z",
     "start_time": "2023-08-28T05:24:56.066569Z"
    }
   },
   "outputs": [
    {
     "name": "stdout",
     "output_type": "stream",
     "text": [
      "sample([1,2,3,4,5], k=2): [4, 3]\n"
     ]
    }
   ],
   "source": [
    "# sample(list, k = 갯수)\n",
    "print(\"sample([1,2,3,4,5], k=2):\", random.sample([1,2,3,4,5], k =2))"
   ]
  },
  {
   "cell_type": "code",
   "execution_count": 12,
   "id": "84798513",
   "metadata": {
    "ExecuteTime": {
     "end_time": "2023-08-28T05:26:28.112868Z",
     "start_time": "2023-08-28T05:26:28.102903Z"
    }
   },
   "outputs": [],
   "source": [
    "from random import choice, sample, randrange   # random 모듈 중 특정 함수만 갖다 쓸 때"
   ]
  },
  {
   "cell_type": "code",
   "execution_count": 11,
   "id": "20676400",
   "metadata": {
    "ExecuteTime": {
     "end_time": "2023-08-28T05:26:19.844940Z",
     "start_time": "2023-08-28T05:26:19.835379Z"
    }
   },
   "outputs": [],
   "source": [
    "from random import * # 함수 쓸 때마다 앞에 모듈명 안 붙여도 됨 "
   ]
  },
  {
   "cell_type": "markdown",
   "id": "2757be1c",
   "metadata": {},
   "source": [
    "## sys(=system) 모듈"
   ]
  },
  {
   "cell_type": "code",
   "execution_count": 13,
   "id": "644518b9",
   "metadata": {
    "ExecuteTime": {
     "end_time": "2023-08-28T05:27:47.139075Z",
     "start_time": "2023-08-28T05:27:47.132018Z"
    }
   },
   "outputs": [
    {
     "name": "stdout",
     "output_type": "stream",
     "text": [
      "['__breakpointhook__', '__displayhook__', '__doc__', '__excepthook__', '__interactivehook__', '__loader__', '__name__', '__package__', '__spec__', '__stderr__', '__stdin__', '__stdout__', '__unraisablehook__', '_base_executable', '_clear_type_cache', '_current_frames', '_debugmallocstats', '_enablelegacywindowsfsencoding', '_framework', '_getframe', '_git', '_home', '_xoptions', 'addaudithook', 'api_version', 'argv', 'audit', 'base_exec_prefix', 'base_prefix', 'breakpointhook', 'builtin_module_names', 'byteorder', 'call_tracing', 'callstats', 'copyright', 'displayhook', 'dllhandle', 'dont_write_bytecode', 'exc_info', 'excepthook', 'exec_prefix', 'executable', 'exit', 'flags', 'float_info', 'float_repr_style', 'get_asyncgen_hooks', 'get_coroutine_origin_tracking_depth', 'getallocatedblocks', 'getcheckinterval', 'getdefaultencoding', 'getfilesystemencodeerrors', 'getfilesystemencoding', 'getprofile', 'getrecursionlimit', 'getrefcount', 'getsizeof', 'getswitchinterval', 'gettrace', 'getwindowsversion', 'hash_info', 'hexversion', 'implementation', 'int_info', 'intern', 'is_finalizing', 'last_traceback', 'last_type', 'last_value', 'maxsize', 'maxunicode', 'meta_path', 'modules', 'path', 'path_hooks', 'path_importer_cache', 'platform', 'prefix', 'ps1', 'ps2', 'ps3', 'pycache_prefix', 'set_asyncgen_hooks', 'set_coroutine_origin_tracking_depth', 'setcheckinterval', 'setprofile', 'setrecursionlimit', 'setswitchinterval', 'settrace', 'stderr', 'stdin', 'stdout', 'thread_info', 'unraisablehook', 'version', 'version_info', 'warnoptions', 'winver']\n"
     ]
    }
   ],
   "source": [
    "import sys\n",
    "\n",
    "print(dir(sys))"
   ]
  },
  {
   "cell_type": "code",
   "execution_count": 14,
   "id": "efce7f9d",
   "metadata": {
    "ExecuteTime": {
     "end_time": "2023-08-28T05:28:38.433187Z",
     "start_time": "2023-08-28T05:28:38.430197Z"
    }
   },
   "outputs": [
    {
     "name": "stdout",
     "output_type": "stream",
     "text": [
      "['C:\\\\k-digital\\\\python Basic\\\\source\\\\source', 'C:\\\\Anaconda3\\\\python38.zip', 'C:\\\\Anaconda3\\\\DLLs', 'C:\\\\Anaconda3\\\\lib', 'C:\\\\Anaconda3', '', 'C:\\\\Anaconda3\\\\lib\\\\site-packages', 'C:\\\\Anaconda3\\\\lib\\\\site-packages\\\\locket-0.2.1-py3.8.egg', 'C:\\\\Anaconda3\\\\lib\\\\site-packages\\\\win32', 'C:\\\\Anaconda3\\\\lib\\\\site-packages\\\\win32\\\\lib', 'C:\\\\Anaconda3\\\\lib\\\\site-packages\\\\Pythonwin', 'C:\\\\Anaconda3\\\\lib\\\\site-packages\\\\IPython\\\\extensions', 'C:\\\\Users\\\\NT551_11TH\\\\.ipython']\n"
     ]
    }
   ],
   "source": [
    "# 파이썬 실행파일이 위치한 디렉토리 목록\n",
    "print(sys.path)"
   ]
  },
  {
   "cell_type": "code",
   "execution_count": 15,
   "id": "d3b8cf6c",
   "metadata": {
    "ExecuteTime": {
     "end_time": "2023-08-28T05:30:38.999328Z",
     "start_time": "2023-08-28T05:30:38.981377Z"
    }
   },
   "outputs": [
    {
     "name": "stdout",
     "output_type": "stream",
     "text": [
      "3.8.8 (default, Apr 13 2021, 15:08:03) [MSC v.1916 64 bit (AMD64)]\n"
     ]
    }
   ],
   "source": [
    "print(sys.version)"
   ]
  },
  {
   "cell_type": "markdown",
   "id": "c8254ffa",
   "metadata": {},
   "source": [
    "## os(=operation system, 운영체제)"
   ]
  },
  {
   "cell_type": "code",
   "execution_count": 16,
   "id": "8e89ad7b",
   "metadata": {
    "ExecuteTime": {
     "end_time": "2023-08-28T05:31:05.557979Z",
     "start_time": "2023-08-28T05:31:05.542082Z"
    }
   },
   "outputs": [],
   "source": [
    "import os"
   ]
  },
  {
   "cell_type": "code",
   "execution_count": 17,
   "id": "9ad1f188",
   "metadata": {
    "ExecuteTime": {
     "end_time": "2023-08-28T05:31:56.956619Z",
     "start_time": "2023-08-28T05:31:56.945471Z"
    }
   },
   "outputs": [
    {
     "name": "stdout",
     "output_type": "stream",
     "text": [
      "현재 운영체제: nt\n",
      "현재 작업 폴더: C:\\k-digital\\python Basic\\source\\source\n",
      "현재 폴더 내부의 목록: ['.ipynb_checkpoints', '01. 파이썬 기본문법.ipynb', '02 파이썬 기본 자료형.ipynb', '03. 표준 입출력함수.ipynb', '04. 연산자(operator).ipynb', '05. 파이썬 자료구조(List, Tuple, Set, Dictionary).ipynb', '06. 제어문.ipynb', '07. 함수(Function).ipynb', '08. 함수 고급기능.ipynb', '09.  객체 지향적인 프로그래밍.ipynb', '09. 객체 지향적인 프로그래밍 -- 쌤 .ipynb', '10. 클래스와 상속.ipynb', '11. 모듈(Module).ipynb', 'greeting_en.py', 'greeting_ko.py', 'mod1.py', 'mod2.py', 'x.py', 'y.py', '__pycache__', '은행 계좌 관리 프로그램.ipynb', '학적관리 프로그램.ipynb']\n"
     ]
    }
   ],
   "source": [
    "print(\"현재 운영체제:\", os.name)\n",
    "print(\"현재 작업 폴더:\", os.getcwd())\n",
    "print(\"현재 폴더 내부의 목록:\", os.listdir())"
   ]
  },
  {
   "cell_type": "code",
   "execution_count": 18,
   "id": "e8330395",
   "metadata": {
    "ExecuteTime": {
     "end_time": "2023-08-28T05:33:14.597893Z",
     "start_time": "2023-08-28T05:33:14.579727Z"
    }
   },
   "outputs": [],
   "source": [
    "# 폴더 생성과 제거\n",
    "os.mkdir('hello')"
   ]
  },
  {
   "cell_type": "code",
   "execution_count": 19,
   "id": "186b773a",
   "metadata": {
    "ExecuteTime": {
     "end_time": "2023-08-28T05:33:22.757108Z",
     "start_time": "2023-08-28T05:33:22.739824Z"
    }
   },
   "outputs": [
    {
     "name": "stdout",
     "output_type": "stream",
     "text": [
      "현재 폴더 내부의 목록: ['.ipynb_checkpoints', '01. 파이썬 기본문법.ipynb', '02 파이썬 기본 자료형.ipynb', '03. 표준 입출력함수.ipynb', '04. 연산자(operator).ipynb', '05. 파이썬 자료구조(List, Tuple, Set, Dictionary).ipynb', '06. 제어문.ipynb', '07. 함수(Function).ipynb', '08. 함수 고급기능.ipynb', '09.  객체 지향적인 프로그래밍.ipynb', '09. 객체 지향적인 프로그래밍 -- 쌤 .ipynb', '10. 클래스와 상속.ipynb', '11. 모듈(Module).ipynb', 'greeting_en.py', 'greeting_ko.py', 'hello', 'mod1.py', 'mod2.py', 'x.py', 'y.py', '__pycache__', '은행 계좌 관리 프로그램.ipynb', '학적관리 프로그램.ipynb']\n"
     ]
    }
   ],
   "source": [
    "print(\"현재 폴더 내부의 목록:\", os.listdir())"
   ]
  },
  {
   "cell_type": "code",
   "execution_count": 20,
   "id": "32fe1f81",
   "metadata": {
    "ExecuteTime": {
     "end_time": "2023-08-28T05:33:55.088956Z",
     "start_time": "2023-08-28T05:33:55.070537Z"
    }
   },
   "outputs": [],
   "source": [
    "# 폴더 제거\n",
    "os.rmdir('hello')"
   ]
  },
  {
   "cell_type": "code",
   "execution_count": 21,
   "id": "e2e3c512",
   "metadata": {
    "ExecuteTime": {
     "end_time": "2023-08-28T05:35:59.007304Z",
     "start_time": "2023-08-28T05:35:58.994349Z"
    }
   },
   "outputs": [],
   "source": [
    "# 파일 생성과 제거\n",
    "## 파일 모드: r(read only), w(write only), a(append)\n",
    "with open(\"original.txt\", \"w\") as file:\n",
    "    file.write('hello')"
   ]
  },
  {
   "cell_type": "code",
   "execution_count": 22,
   "id": "857f3d96",
   "metadata": {
    "ExecuteTime": {
     "end_time": "2023-08-28T05:39:07.119647Z",
     "start_time": "2023-08-28T05:39:07.103922Z"
    }
   },
   "outputs": [],
   "source": [
    "# 파일 이름 변경\n",
    "os.rename('original.txt', 'new.txt')"
   ]
  },
  {
   "cell_type": "code",
   "execution_count": 23,
   "id": "25ea5ea2",
   "metadata": {
    "ExecuteTime": {
     "end_time": "2023-08-28T05:39:52.095937Z",
     "start_time": "2023-08-28T05:39:52.090038Z"
    }
   },
   "outputs": [],
   "source": [
    "# 파일 제거\n",
    "os.remove('new.txt')"
   ]
  },
  {
   "cell_type": "code",
   "execution_count": 24,
   "id": "3fed5311",
   "metadata": {
    "ExecuteTime": {
     "end_time": "2023-08-28T05:40:44.609415Z",
     "start_time": "2023-08-28T05:40:44.559396Z"
    }
   },
   "outputs": [
    {
     "data": {
      "text/plain": [
       "0"
      ]
     },
     "execution_count": 24,
     "metadata": {},
     "output_type": "execute_result"
    }
   ],
   "source": [
    "# 시스템 명령어 실행\n",
    "os.system('dir')"
   ]
  },
  {
   "cell_type": "markdown",
   "id": "5b3f86e8",
   "metadata": {},
   "source": [
    "## datetime 모듈"
   ]
  },
  {
   "cell_type": "code",
   "execution_count": 25,
   "id": "77115542",
   "metadata": {
    "ExecuteTime": {
     "end_time": "2023-08-28T05:42:31.140192Z",
     "start_time": "2023-08-28T05:42:31.128844Z"
    }
   },
   "outputs": [],
   "source": [
    "import datetime"
   ]
  },
  {
   "cell_type": "code",
   "execution_count": 28,
   "id": "6f26a079",
   "metadata": {
    "ExecuteTime": {
     "end_time": "2023-08-28T05:44:57.583445Z",
     "start_time": "2023-08-28T05:44:57.577365Z"
    }
   },
   "outputs": [
    {
     "name": "stdout",
     "output_type": "stream",
     "text": [
      "2023 년\n",
      "8 월\n",
      "28 일\n",
      "14 시\n",
      "44 분\n",
      "57 초\n"
     ]
    }
   ],
   "source": [
    "# 현재 시간을 추출\n",
    "now = datetime.datetime.now()\n",
    "print(now.year, '년')\n",
    "print(now.month, '월')\n",
    "print(now.day, '일')\n",
    "print(now.hour, '시')\n",
    "print(now.minute, '분')\n",
    "print(now.second, '초')"
   ]
  },
  {
   "cell_type": "code",
   "execution_count": 31,
   "id": "21f1b100",
   "metadata": {
    "ExecuteTime": {
     "end_time": "2023-08-28T05:48:00.052303Z",
     "start_time": "2023-08-28T05:48:00.041749Z"
    }
   },
   "outputs": [],
   "source": [
    "# 서식을 이용하여 날짜와 시간을 표시\n",
    "## strftime('서식')\n",
    "out = now.strftime('%Y.%m.%d %H:%M:%S')"
   ]
  },
  {
   "cell_type": "code",
   "execution_count": 32,
   "id": "301e8f8d",
   "metadata": {
    "ExecuteTime": {
     "end_time": "2023-08-28T05:48:00.671987Z",
     "start_time": "2023-08-28T05:48:00.659694Z"
    }
   },
   "outputs": [
    {
     "name": "stdout",
     "output_type": "stream",
     "text": [
      "2023.08.28 14:44:57\n"
     ]
    }
   ],
   "source": [
    "print(out)"
   ]
  },
  {
   "cell_type": "code",
   "execution_count": 35,
   "id": "dfa69750",
   "metadata": {
    "ExecuteTime": {
     "end_time": "2023-08-28T05:52:14.997356Z",
     "start_time": "2023-08-28T05:52:14.983043Z"
    }
   },
   "outputs": [
    {
     "name": "stdout",
     "output_type": "stream",
     "text": [
      "2023년 8월 28일  14시 44분 57초\n"
     ]
    }
   ],
   "source": [
    "string = \"{}년 {}월 {}일  {}시 {}분 {}초\".format(now.year,\\\n",
    "                                          now.month,\\\n",
    "                                          now.day,\\\n",
    "                                          now.hour,\\\n",
    "                                          now.minute,\\\n",
    "                                          now.second)\n",
    "\n",
    "print(string)"
   ]
  },
  {
   "cell_type": "code",
   "execution_count": 36,
   "id": "6e1884af",
   "metadata": {
    "ExecuteTime": {
     "end_time": "2023-08-28T05:54:09.173188Z",
     "start_time": "2023-08-28T05:54:09.167211Z"
    }
   },
   "outputs": [
    {
     "name": "stdout",
     "output_type": "stream",
     "text": [
      "2023-08-28\n"
     ]
    }
   ],
   "source": [
    "from datetime import date, time, datetime, timedelta\n",
    "\n",
    "# today(): 오늘 날짜를 구하는 함수\n",
    "today = date.today()\n",
    "print(today)"
   ]
  },
  {
   "cell_type": "code",
   "execution_count": null,
   "id": "a9c70807",
   "metadata": {
    "ExecuteTime": {
     "end_time": "2023-08-28T05:56:15.122692Z",
     "start_time": "2023-08-28T05:56:15.115716Z"
    }
   },
   "outputs": [],
   "source": [
    "# 날짜와 시간을 구하는 함수\n",
    "current = datetime.today()\n",
    "print(current)"
   ]
  },
  {
   "cell_type": "markdown",
   "id": "113d2159",
   "metadata": {},
   "source": [
    "- datetime 클래스의 주요메서드\n",
    "1. weekday(): 요일 반환(0:월요일 ~ 6:일요일)\n",
    "2. strftime(): 문자열 반환\n",
    "3. date(): 날짜 정보만 가지고 있음, date 클래스로 반환\n",
    "4. time(): 시간 정보만 가지고 있음, time 클래스로 반환"
   ]
  },
  {
   "cell_type": "code",
   "execution_count": 39,
   "id": "1e1ba98e",
   "metadata": {
    "ExecuteTime": {
     "end_time": "2023-08-28T06:10:45.492829Z",
     "start_time": "2023-08-28T06:10:45.476101Z"
    }
   },
   "outputs": [
    {
     "data": {
      "text/plain": [
       "datetime.datetime(2023, 8, 28, 15, 10, 45, 477059)"
      ]
     },
     "execution_count": 39,
     "metadata": {},
     "output_type": "execute_result"
    }
   ],
   "source": [
    "import datetime as dt\n",
    "x = dt.datetime.now()\n",
    "x"
   ]
  },
  {
   "cell_type": "code",
   "execution_count": 40,
   "id": "b14a5b18",
   "metadata": {
    "ExecuteTime": {
     "end_time": "2023-08-28T06:11:20.540011Z",
     "start_time": "2023-08-28T06:11:20.530128Z"
    }
   },
   "outputs": [
    {
     "data": {
      "text/plain": [
       "0"
      ]
     },
     "execution_count": 40,
     "metadata": {},
     "output_type": "execute_result"
    }
   ],
   "source": [
    "x.weekday()"
   ]
  },
  {
   "cell_type": "markdown",
   "id": "1a05f0ca",
   "metadata": {},
   "source": [
    "## time 모듈"
   ]
  },
  {
   "cell_type": "code",
   "execution_count": 41,
   "id": "33c1030c",
   "metadata": {
    "ExecuteTime": {
     "end_time": "2023-08-28T06:12:49.778604Z",
     "start_time": "2023-08-28T06:12:49.765721Z"
    }
   },
   "outputs": [],
   "source": [
    "import time"
   ]
  },
  {
   "cell_type": "code",
   "execution_count": 42,
   "id": "21ce5f09",
   "metadata": {
    "ExecuteTime": {
     "end_time": "2023-08-28T06:13:28.623294Z",
     "start_time": "2023-08-28T06:13:23.605496Z"
    }
   },
   "outputs": [
    {
     "name": "stdout",
     "output_type": "stream",
     "text": [
      "지금부터 5초간 정지합니다.\n",
      "작업을 종료합니다.\n"
     ]
    }
   ],
   "source": [
    "print('지금부터 5초간 정지합니다.')\n",
    "time.sleep(5)\n",
    "print('작업을 종료합니다.')"
   ]
  },
  {
   "cell_type": "code",
   "execution_count": 44,
   "id": "e5819a5b",
   "metadata": {
    "ExecuteTime": {
     "end_time": "2023-08-28T06:19:19.487252Z",
     "start_time": "2023-08-28T06:19:19.469312Z"
    }
   },
   "outputs": [
    {
     "name": "stdout",
     "output_type": "stream",
     "text": [
      "2023-08-27 15:19:19.471305\n",
      "2023-08-21 15:19:19.471305\n",
      "2023-09-27 15:19:19.471305\n"
     ]
    }
   ],
   "source": [
    "from datetime import date, time, datetime, timedelta\n",
    "\n",
    "# 오늘 날짜\n",
    "today = datetime.today()\n",
    "days = timedelta(days = -1)\n",
    "\n",
    "#어제날짜 추출\n",
    "print(today + days)\n",
    "\n",
    "# 1주일 전\n",
    "days = timedelta(days = -7)\n",
    "print(today + days)\n",
    "\n",
    "# 30일 후\n",
    "days = timedelta(days = +30)\n",
    "print(today + days)"
   ]
  },
  {
   "cell_type": "code",
   "execution_count": 45,
   "id": "5ad7607a",
   "metadata": {
    "ExecuteTime": {
     "end_time": "2023-08-28T06:26:23.327028Z",
     "start_time": "2023-08-28T06:26:23.318918Z"
    }
   },
   "outputs": [
    {
     "name": "stdout",
     "output_type": "stream",
     "text": [
      "2023-08-14 15:19:19.471305\n"
     ]
    }
   ],
   "source": [
    "days = timedelta(days = -7)\n",
    "days *= 2  # 2주전\n",
    "print(today + days)"
   ]
  },
  {
   "cell_type": "code",
   "execution_count": 46,
   "id": "db8200f7",
   "metadata": {
    "ExecuteTime": {
     "end_time": "2023-08-28T06:26:56.322157Z",
     "start_time": "2023-08-28T06:26:56.308207Z"
    }
   },
   "outputs": [
    {
     "name": "stdout",
     "output_type": "stream",
     "text": [
      "2023-08-28 07:19:19.471305\n"
     ]
    }
   ],
   "source": [
    "hours = timedelta(hours = -8)\n",
    "print(today + hours)"
   ]
  },
  {
   "cell_type": "code",
   "execution_count": null,
   "id": "9c361536",
   "metadata": {},
   "outputs": [],
   "source": []
  }
 ],
 "metadata": {
  "kernelspec": {
   "display_name": "Python 3",
   "language": "python",
   "name": "python3"
  },
  "language_info": {
   "codemirror_mode": {
    "name": "ipython",
    "version": 3
   },
   "file_extension": ".py",
   "mimetype": "text/x-python",
   "name": "python",
   "nbconvert_exporter": "python",
   "pygments_lexer": "ipython3",
   "version": "3.8.8"
  },
  "toc": {
   "base_numbering": 1,
   "nav_menu": {},
   "number_sections": true,
   "sideBar": true,
   "skip_h1_title": false,
   "title_cell": "Table of Contents",
   "title_sidebar": "Contents",
   "toc_cell": false,
   "toc_position": {},
   "toc_section_display": true,
   "toc_window_display": false
  }
 },
 "nbformat": 4,
 "nbformat_minor": 5
}
