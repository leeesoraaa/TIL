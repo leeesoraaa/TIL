{
 "cells": [
  {
   "cell_type": "markdown",
   "id": "821a9e4e",
   "metadata": {},
   "source": [
    "# 객체 지향적인 프로그래밍?\n",
    "1. 구조적인 프로그래밍 기법 : 대표적인 언어 C언어\n",
    "  - 구조적인 프로그래밍 기법의 단점은 프로그램의 개발 시간과 비용\n",
    "  - 소프트웨어의 위기\n",
    "  - 고전적인 프로그래밍 개발기법 : 폭포수 기법\n",
    "  \n",
    "2. 객체(Object)와 객체(Instance)\n",
    "  - 객체(Object) : 붕어빵 틀(Template), 설계도\n",
    "  - 객체(Instance) : 붕어빵\n",
    "  \n",
    "3. \"나는 사과장수에게 2000원을 주고 사과를 구매했다.\"\n",
    "  - 객체(틀) => 클래스, 명사형\n",
    "    * 나\n",
    "    * 사과장수\n",
    "    * 사과 : IoT(사물인터넷)\n",
    "  - 메소드(Method) : 객체가 하는 행위나 동작 => 함수(메소드), 동사형\n",
    "    * 나 : 사과를 구매하는 행위\n",
    "    * 사과장수 : 사과를 판매하는 행위\n",
    "  - 속성(Attribute) : 객체가 가지고 있는 특성 => 변수\n",
    "    * 나 : 돈\n",
    "    * 사과장수 : 판매할 사과, 사과가격"
   ]
  },
  {
   "cell_type": "markdown",
   "id": "d0e89f92",
   "metadata": {},
   "source": [
    "# 모듈(Module) vs 클래스(class) vs 인스턴스(instance)\n",
    "1. 모듈(Module) : py라는 확장자를 가지고 있는 파이썬 파일\n",
    "  - 주피터 노트북 ipynb라는 확장자를 가진다.\n",
    "  - 모듈은 아주 작은 프로그램 덩어리, 라이브러리(library)\n",
    "  - 패키지(package) : 여러 모듈을 묶어놓은 단위\n",
    "2. 클래스(class) : 객체를 추상화하는 구조 또는 틀\n",
    "3. 인스턴스(instance) : 클래스로부터 만들어낸 객체"
   ]
  },
  {
   "cell_type": "markdown",
   "id": "6604e2f5",
   "metadata": {},
   "source": [
    "# 클래스(class)\n",
    "1. 클래스의 구조 또는 형식\n",
    "<code>\n",
    "    class 클래스명:\n",
    "      멤버필드(Member Field) or 속성(Property) = 프로퍼티\n",
    "      멤버메서드(Member Method) = 함수(Function)\n",
    "</code>"
   ]
  },
  {
   "cell_type": "code",
   "execution_count": null,
   "id": "86ee4cb7",
   "metadata": {
    "ExecuteTime": {
     "end_time": "2023-08-25T00:47:12.777641Z",
     "start_time": "2023-08-25T00:47:12.764991Z"
    }
   },
   "outputs": [],
   "source": [
    "# 나 \n",
    "class AppleBuyer:\n",
    "    # 멤버 필드\n",
    "    money = 10000\n",
    "    apple = 0\n",
    "    \n",
    "    # 멤버 메서드\n",
    "    def buy(self):\n",
    "        #AppleSeller seller\n",
    "        apple = seller.sales(don)\n",
    "        money -= don\n",
    "        \n",
    "    def result(self):\n",
    "        print(\"남은 용도 : \", money)\n",
    "        print(\"구매 사과 : \", apple)"
   ]
  },
  {
   "cell_type": "code",
   "execution_count": null,
   "id": "9bb49888",
   "metadata": {
    "ExecuteTime": {
     "end_time": "2023-08-25T00:40:47.606262Z",
     "start_time": "2023-08-25T00:40:47.600299Z"
    }
   },
   "outputs": [],
   "source": [
    "# 사과장수\n",
    "class AppleSeller:\n",
    "    # 멤버 필드 - 생략해서 사용가능, 초기화(처음값)를 줄 경우 기술한다.\n",
    "    price = 1000\n",
    "    apples = 50\n",
    "    money = 0\n",
    "    \n",
    "    # 멤버 메서드 \n",
    "    def sales(self, don):\n",
    "        apple = don / price\n",
    "        apples -= apple\n",
    "        money += don        \n",
    "        return apple\n",
    "    \n",
    "    def disp(self):\n",
    "        print('남은 사과수 : ', apples)\n",
    "        print('매출 금액 : ', money)"
   ]
  },
  {
   "cell_type": "markdown",
   "id": "3a692625",
   "metadata": {},
   "source": [
    "## 클래스 Member Method 선언 \n",
    "- def로 선언\n",
    "- 일반함수와 구별하기 위해 클래스의 멤버메서드를 뜻하는 첫번째 매개변수 self"
   ]
  },
  {
   "cell_type": "code",
   "execution_count": null,
   "id": "7568d93c",
   "metadata": {
    "ExecuteTime": {
     "end_time": "2023-08-25T00:52:30.833059Z",
     "start_time": "2023-08-25T00:52:30.816091Z"
    }
   },
   "outputs": [],
   "source": [
    "# 사람 Object\n",
    "class Person:\n",
    "    # 멤버 필드\n",
    "    \n",
    "    # 멤버 메서드\n",
    "    def walk(self):\n",
    "        print(\"사람이 걸어갑니다.\")\n",
    "        \n",
    "    def run(self):\n",
    "        print(\"사람이 달려갑니다.\")"
   ]
  },
  {
   "cell_type": "code",
   "execution_count": null,
   "id": "f3021c42",
   "metadata": {
    "ExecuteTime": {
     "end_time": "2023-08-25T00:53:53.579326Z",
     "start_time": "2023-08-25T00:53:53.563354Z"
    }
   },
   "outputs": [],
   "source": [
    "# 클래스에 접근하려면 반드시 인스턴스 객체가 필요한다.\n",
    "p = Person()"
   ]
  },
  {
   "cell_type": "code",
   "execution_count": null,
   "id": "0837e5c4",
   "metadata": {
    "ExecuteTime": {
     "end_time": "2023-08-25T00:55:15.339307Z",
     "start_time": "2023-08-25T00:55:15.332343Z"
    }
   },
   "outputs": [],
   "source": [
    "# 객체명을 통해 클래스의 멤버에 접근 : 접근연산자(. direct 연산자)\n",
    "p.walk()"
   ]
  },
  {
   "cell_type": "code",
   "execution_count": null,
   "id": "dc42ba7a",
   "metadata": {
    "ExecuteTime": {
     "end_time": "2023-08-25T00:55:28.340170Z",
     "start_time": "2023-08-25T00:55:28.327172Z"
    }
   },
   "outputs": [],
   "source": [
    "p.run()"
   ]
  },
  {
   "cell_type": "code",
   "execution_count": null,
   "id": "e9c8d9df",
   "metadata": {
    "ExecuteTime": {
     "end_time": "2023-08-25T00:58:55.729853Z",
     "start_time": "2023-08-25T00:58:55.716888Z"
    }
   },
   "outputs": [],
   "source": [
    "# 사람 Object\n",
    "class Person:\n",
    "    # 멤버 필드\n",
    "    \n",
    "    # 멤버 메서드\n",
    "    def walk(self):\n",
    "        print(self.name + \"이 걸어갑니다.\")\n",
    "        \n",
    "    def run(self):\n",
    "        print(self.name + \"이 달려갑니다.\")"
   ]
  },
  {
   "cell_type": "code",
   "execution_count": null,
   "id": "5a59d091",
   "metadata": {
    "ExecuteTime": {
     "end_time": "2023-08-25T01:00:41.988605Z",
     "start_time": "2023-08-25T01:00:41.976501Z"
    }
   },
   "outputs": [],
   "source": [
    "# 인스턴스 객체 생성\n",
    "p1 = Person()\n",
    "\n",
    "p1.name = \"홍길동\"\n",
    "\n",
    "# 멤버 접근\n",
    "p1.walk()"
   ]
  },
  {
   "cell_type": "code",
   "execution_count": null,
   "id": "a01a10e2",
   "metadata": {
    "ExecuteTime": {
     "end_time": "2023-08-25T01:01:23.159299Z",
     "start_time": "2023-08-25T01:01:23.153297Z"
    }
   },
   "outputs": [],
   "source": [
    "p2 = Person()\n",
    "p2.name = \"장보고\"\n",
    "p2.walk()"
   ]
  },
  {
   "cell_type": "code",
   "execution_count": null,
   "id": "9c7940f1",
   "metadata": {
    "ExecuteTime": {
     "end_time": "2023-08-25T01:18:18.479801Z",
     "start_time": "2023-08-25T01:18:18.474834Z"
    }
   },
   "outputs": [],
   "source": [
    "# 사람 Object\n",
    "class Person:\n",
    "    # 멤버 필드\n",
    "    \n",
    "    # 멤버 메서드\n",
    "    def walk(self, speed):\n",
    "        print(self.name + \"이 \" + str(speed) + \"의 속도로 걸어갑니다.\")\n",
    "        \n",
    "    def run(self, speed):\n",
    "        print(self.name + \"이 \" + str(speed) + \"의 속도로 달려갑니다.\")"
   ]
  },
  {
   "cell_type": "code",
   "execution_count": null,
   "id": "b988e1e9",
   "metadata": {
    "ExecuteTime": {
     "end_time": "2023-08-25T01:18:22.337729Z",
     "start_time": "2023-08-25T01:18:22.325754Z"
    }
   },
   "outputs": [],
   "source": [
    "p1 = Person()\n",
    "\n",
    "# 멤버 필드를 초기화시켜줘야 한다.\n",
    "p1.name = \"홍길동\"\n",
    "#p1.speed = 10\n",
    "\n",
    "# 멤버 메서드 접근\n",
    "p1.walk(10)"
   ]
  },
  {
   "cell_type": "code",
   "execution_count": null,
   "id": "19289b73",
   "metadata": {
    "ExecuteTime": {
     "end_time": "2023-08-25T01:18:25.361939Z",
     "start_time": "2023-08-25T01:18:25.350971Z"
    }
   },
   "outputs": [],
   "source": [
    "p1.run(30)"
   ]
  },
  {
   "cell_type": "code",
   "execution_count": null,
   "id": "aed8890a",
   "metadata": {
    "ExecuteTime": {
     "end_time": "2023-08-25T01:21:57.846017Z",
     "start_time": "2023-08-25T01:21:57.831019Z"
    }
   },
   "outputs": [],
   "source": [
    "class People:\n",
    "    # 멤버 필드\n",
    "#     name = \"\"\n",
    "#     height = 0.0\n",
    "#     age = 0\n",
    "    \n",
    "    # 멤버 메서드\n",
    "    ## this 키워드와 같은 의미가 self\n",
    "    def disp(self):\n",
    "        print(\"이름 = \", self.name)\n",
    "        print(\"나이 = \", self.age)\n",
    "        print(\"신장 =  \", self.height)"
   ]
  },
  {
   "cell_type": "code",
   "execution_count": null,
   "id": "bc3b6d5e",
   "metadata": {
    "ExecuteTime": {
     "end_time": "2023-08-25T01:23:34.889756Z",
     "start_time": "2023-08-25T01:23:34.875279Z"
    }
   },
   "outputs": [],
   "source": [
    "# 인스턴스 변수 = 참조변수\n",
    "p1 = People()\n",
    "\n",
    "p1.name = \"장보고\"\n",
    "p1.age = 23\n",
    "p1.height = 180.7\n",
    "\n",
    "p1.disp()"
   ]
  },
  {
   "cell_type": "code",
   "execution_count": null,
   "id": "50b5bdda",
   "metadata": {
    "ExecuteTime": {
     "end_time": "2023-08-25T01:24:11.282848Z",
     "start_time": "2023-08-25T01:24:11.270849Z"
    }
   },
   "outputs": [],
   "source": [
    "p2 = People()\n",
    "\n",
    "p2.name = \"이순신\"\n",
    "p2.age = 30\n",
    "p2.height = 170.3\n",
    "\n",
    "p2.disp()"
   ]
  },
  {
   "cell_type": "markdown",
   "id": "1edb720b",
   "metadata": {},
   "source": [
    "### 특별한 메서드 : __init__(self)\n",
    "\n",
    "- 멤버 필드를 초기화시켜주는 목적으로 사용하는 메서드"
   ]
  },
  {
   "cell_type": "code",
   "execution_count": null,
   "id": "4e0f72d2",
   "metadata": {
    "ExecuteTime": {
     "end_time": "2023-08-25T01:30:11.444075Z",
     "start_time": "2023-08-25T01:30:11.434505Z"
    }
   },
   "outputs": [],
   "source": [
    "# __init__(self) : 생성자 메서드\n",
    "# 생성자 메서드 : 객체가 생성될 때 자동으로 호출되는 메서드\n",
    "\n",
    "class People:\n",
    "    # 멤버 필드\n",
    "    \n",
    "    ## 생성자 메서드\n",
    "    def __init__(self, name, age, height):\n",
    "        self.name = name\n",
    "        self.age = age\n",
    "        self.height = height\n",
    "        \n",
    "    # 멤버 메서드\n",
    "    ## this 키워드와 같은 의미가 self     \n",
    "    def disp(self):\n",
    "        print(\"이름 = \", self.name)\n",
    "        print(\"나이 = \", self.age)\n",
    "        print(\"신장 =  \", self.height)"
   ]
  },
  {
   "cell_type": "code",
   "execution_count": null,
   "id": "e9b774c7",
   "metadata": {
    "ExecuteTime": {
     "end_time": "2023-08-25T01:31:16.349147Z",
     "start_time": "2023-08-25T01:31:16.340176Z"
    }
   },
   "outputs": [],
   "source": [
    "p = People('이순신', 23, 170.6)\n",
    "\n",
    "p.disp()"
   ]
  },
  {
   "cell_type": "code",
   "execution_count": null,
   "id": "4dd5d93b",
   "metadata": {
    "ExecuteTime": {
     "end_time": "2023-08-25T01:31:47.644750Z",
     "start_time": "2023-08-25T01:31:47.636780Z"
    }
   },
   "outputs": [],
   "source": [
    "p1 = People('강감찬', 33, 180.8)\n",
    "p1.disp()"
   ]
  },
  {
   "cell_type": "markdown",
   "id": "a4c1e1ad",
   "metadata": {},
   "source": [
    "- self.변수 : 인스턴스 변수, 인스턴스별로 개별적인 값을 가진 변수\n",
    "- 클래스명.변수 : 클래스 변수, static 변수, 공통의 값을 공유하는 변수"
   ]
  },
  {
   "cell_type": "code",
   "execution_count": null,
   "id": "fc3b0fd7",
   "metadata": {
    "ExecuteTime": {
     "end_time": "2023-08-25T01:39:27.404297Z",
     "start_time": "2023-08-25T01:39:27.390297Z"
    }
   },
   "outputs": [],
   "source": [
    "class Student:\n",
    "    # 멤버 필드 = 프로퍼티, 클래스 변수(공유의 목적)\n",
    "    name = \"kim\"\n",
    "    no = 1987\n",
    "    score = 99\n",
    "    \n",
    "    # 멤버 메서드\n",
    "    def show(self):\n",
    "        ## self.변수\n",
    "        print(\"이름 : \" + self.name, end='')\n",
    "        print(\"학번 : \" + str(self.no), end='')\n",
    "        print(\"성적 : \" + str(self.score))\n",
    "        ## class명.변수\n",
    "        print(\"이름 : \" + Student.name, end='')\n",
    "        print(\"학번 : \" + str(Student.no), end='')\n",
    "        print(\"성적 : \" + str(Student.score))"
   ]
  },
  {
   "cell_type": "code",
   "execution_count": null,
   "id": "a5558c66",
   "metadata": {
    "ExecuteTime": {
     "end_time": "2023-08-25T01:41:41.730245Z",
     "start_time": "2023-08-25T01:41:41.724253Z"
    }
   },
   "outputs": [],
   "source": [
    "s1 = Student()\n",
    "s1.name = \"김유신\"\n",
    "s1.no = 901234\n",
    "s1.score = 78\n",
    "\n",
    "s2 = Student()\n",
    "s2.name = \"홍길동\"\n",
    "s2.no = 12345\n",
    "s2.score = 90\n",
    "\n",
    "s1.show()\n",
    "print(\"-\" * 30)\n",
    "s2.show()"
   ]
  },
  {
   "cell_type": "code",
   "execution_count": null,
   "id": "1877f23e",
   "metadata": {
    "ExecuteTime": {
     "end_time": "2023-08-25T01:48:30.149605Z",
     "start_time": "2023-08-25T01:48:30.141635Z"
    }
   },
   "outputs": [],
   "source": [
    "# 원\n",
    "class Circle:\n",
    "    # 멤버 필드\n",
    "    radius = 0\n",
    "    \n",
    "    # 멤버 메서드\n",
    "    def area(self):\n",
    "        return self.radius * self.radius * 3.14\n",
    "    \n",
    "    def around(self):\n",
    "        return 2 * 3.14 * self.radius\n",
    "    \n",
    "    def disp(self):\n",
    "        print(\"반지름 : \", self.radius)"
   ]
  },
  {
   "cell_type": "code",
   "execution_count": null,
   "id": "a1361727",
   "metadata": {
    "ExecuteTime": {
     "end_time": "2023-08-25T01:50:18.292938Z",
     "start_time": "2023-08-25T01:50:18.273961Z"
    }
   },
   "outputs": [],
   "source": [
    "a = Circle()\n",
    "\n",
    "a.radius = 5\n",
    "\n",
    "# 반지름이 5인 원의 면적을 출력\n",
    "print(\"반지름이 5인 원의 면적 : \", a.area())"
   ]
  },
  {
   "cell_type": "code",
   "execution_count": null,
   "id": "df4d8d46",
   "metadata": {
    "ExecuteTime": {
     "end_time": "2023-08-25T01:52:29.598485Z",
     "start_time": "2023-08-25T01:52:29.593519Z"
    }
   },
   "outputs": [],
   "source": [
    "class Circle:\n",
    "    # 멤버 필드\n",
    "    radius = 0\n",
    "    \n",
    "    # 생성자 메서드 : 멤버 필드를 초기화시켜줄 목적으로 생성하는 메서드, 자동 호출(객체 생성될 때)\n",
    "    def __init__(self, radius):\n",
    "        self.radius = radius\n",
    "        \n",
    "    # 멤버 메서드\n",
    "    def area(self):\n",
    "        return self.radius * self.radius * 3.14\n",
    "    \n",
    "    def around(self):\n",
    "        return 2 * 3.14 * self.radius\n",
    "    \n",
    "    def disp(self):\n",
    "        print(\"반지름 : \", self.radius)"
   ]
  },
  {
   "cell_type": "code",
   "execution_count": null,
   "id": "2c825be6",
   "metadata": {
    "ExecuteTime": {
     "end_time": "2023-08-25T01:52:58.762818Z",
     "start_time": "2023-08-25T01:52:58.748821Z"
    }
   },
   "outputs": [],
   "source": [
    "b = Circle(5)\n",
    "b.disp()"
   ]
  },
  {
   "cell_type": "code",
   "execution_count": null,
   "id": "7a464f0a",
   "metadata": {
    "ExecuteTime": {
     "end_time": "2023-08-25T02:20:51.618605Z",
     "start_time": "2023-08-25T02:20:51.604624Z"
    }
   },
   "outputs": [],
   "source": [
    "class Circle:\n",
    "    # 멤버 필드\n",
    "    radius = 0\n",
    "    \n",
    "    # 생성자 메서드 : 멤버 필드를 초기화시켜줄 목적으로 생성하는 메서드, 자동 호출(객체 생성될 때)\n",
    "    def __init__(self):\n",
    "        self.radius = int(input('반지름 = '))\n",
    "        \n",
    "    # 멤버 메서드\n",
    "    def area(self):\n",
    "        return self.radius * self.radius * 3.14\n",
    "    \n",
    "    def around(self):\n",
    "        return 2 * 3.14 * self.radius\n",
    "    \n",
    "    def disp(self):\n",
    "        print(f\"반지름이 {self.radius} 인 원의 면적 {self.area()}\")\n",
    "        \n",
    "    def getRadius(self):\n",
    "        return self.radius"
   ]
  },
  {
   "cell_type": "code",
   "execution_count": null,
   "id": "c1a9adcf",
   "metadata": {
    "ExecuteTime": {
     "end_time": "2023-08-25T01:54:43.756738Z",
     "start_time": "2023-08-25T01:54:40.070058Z"
    }
   },
   "outputs": [],
   "source": [
    "x = Circle()\n",
    "x.disp()"
   ]
  },
  {
   "cell_type": "code",
   "execution_count": null,
   "id": "67ecdae7",
   "metadata": {
    "ExecuteTime": {
     "end_time": "2023-08-25T01:59:38.155229Z",
     "start_time": "2023-08-25T01:59:24.683152Z"
    }
   },
   "outputs": [],
   "source": [
    "# 세 개의 반지름을 입력받아 원의 면적을 계산하여 출력하는 프로그램을 구현하시오.\n",
    "# 단, 원을 클래스로 구현할 것\n",
    "\n",
    "a = Circle()\n",
    "b = Circle()\n",
    "c = Circle()\n",
    "\n",
    "print(f\"반지름이 {a.getRadius()} 인 원의 면적 {a.area()}\")\n",
    "print(f\"반지름이 {b.getRadius()} 인 원의 면적 {b.area()}\")\n",
    "print(f\"반지름이 {c.getRadius()} 인 원의 면적 {c.area()}\")"
   ]
  },
  {
   "cell_type": "code",
   "execution_count": null,
   "id": "d034e62d",
   "metadata": {
    "ExecuteTime": {
     "end_time": "2023-08-25T02:03:59.898781Z",
     "start_time": "2023-08-25T02:03:56.404644Z"
    }
   },
   "outputs": [],
   "source": [
    "obj = list()\n",
    "\n",
    "for i in range(3):\n",
    "    obj.append(Circle())\n",
    "    \n",
    "for i in range(3):\n",
    "    print(f\"반지름이 {obj[i].getRadius()} 인 원의 면적 {obj[i].area()}\")"
   ]
  },
  {
   "cell_type": "markdown",
   "id": "a74ef198",
   "metadata": {},
   "source": [
    "반지름을 입력받아 원의 면적을 출력하는 프로그램을 구현하시오.  \n",
    "단, 입력받는 반지름이 0이면 입력을 종료하고 면적을 출력하도록 구현할 것."
   ]
  },
  {
   "cell_type": "code",
   "execution_count": null,
   "id": "90f8c0fa",
   "metadata": {
    "ExecuteTime": {
     "end_time": "2023-08-25T02:22:11.327475Z",
     "start_time": "2023-08-25T02:22:08.795547Z"
    }
   },
   "outputs": [],
   "source": [
    "data = []\n",
    "while True:\n",
    "    a = Circle()\n",
    "    if a.getRadius() == 0:\n",
    "        break\n",
    "    data.append(a)\n",
    "    \n",
    "for i in range(len(data)):\n",
    "    data[i].disp()"
   ]
  },
  {
   "cell_type": "markdown",
   "id": "3d283515",
   "metadata": {},
   "source": [
    "### 성적 처리 프로그램 4단계"
   ]
  },
  {
   "cell_type": "code",
   "execution_count": 2,
   "id": "12253f69",
   "metadata": {
    "ExecuteTime": {
     "end_time": "2023-09-05T01:09:45.372700Z",
     "start_time": "2023-09-05T01:09:45.353482Z"
    }
   },
   "outputs": [
    {
     "name": "stdout",
     "output_type": "stream",
     "text": [
      "이름\t총점\t평균\n",
      "홍길동\t273\t91.0\n",
      "장보고\t277\t92.33\n",
      "유관순\t260\t86.67\n",
      "이순신\t263\t87.67\n",
      "사임당\t263\t87.67\n"
     ]
    }
   ],
   "source": [
    "# 학생 리스트를 생성\n",
    "students = [\n",
    "    {'name':'홍길동', 'kor':87, 'eng':88, 'math':98},\n",
    "    {'name':'장보고', 'kor':92, 'eng':96, 'math':89},\n",
    "    {'name':'유관순', 'kor':94, 'eng':76, 'math':90},\n",
    "    {'name':'이순신', 'kor':95, 'eng':78, 'math':90},\n",
    "    {'name':'사임당', 'kor':98, 'eng':70, 'math':95}\n",
    "]\n",
    "\n",
    "# 이름, 총점과 평균을 개별 출력하는 로직\n",
    "print(\"이름\", \"총점\", \"평균\", sep='\\t')\n",
    "for student in students:\n",
    "    # 총점과 평균 계산\n",
    "    tot = student['kor'] + student['eng'] + student['math']\n",
    "    avg = tot / 3\n",
    "    \n",
    "    # 출력\n",
    "    print(student['name'], tot, round(avg, 2), sep='\\t')"
   ]
  },
  {
   "cell_type": "code",
   "execution_count": 3,
   "id": "8add1c6a",
   "metadata": {
    "ExecuteTime": {
     "end_time": "2023-09-05T01:09:47.124645Z",
     "start_time": "2023-09-05T01:09:47.105453Z"
    }
   },
   "outputs": [
    {
     "name": "stdout",
     "output_type": "stream",
     "text": [
      "이름\t총점\t평균\n",
      "홍길동\t273\t91.0\n",
      "장보고\t277\t92.33\n",
      "유관순\t260\t86.67\n",
      "이순신\t263\t87.67\n",
      "사임당\t263\t87.67\n"
     ]
    }
   ],
   "source": [
    "# 학생 한명의 정보를 입력받아 사전객체로 반환하여 리턴하는 함수\n",
    "def makeStudent(name, kor, eng, math):\n",
    "    return {\n",
    "        'name':name,\n",
    "        'kor':kor,\n",
    "        'eng':eng,\n",
    "        'math':math\n",
    "    }\n",
    "\n",
    "\n",
    "students = [\n",
    "    makeStudent('홍길동',87, 88,98),\n",
    "    makeStudent('장보고',92,96,89),\n",
    "    makeStudent('유관순',94,76,90),\n",
    "    makeStudent('이순신',95,78,90),\n",
    "    makeStudent('사임당',98,70,95)\n",
    "]\n",
    "\n",
    "# 이름, 총점과 평균을 개별 출력하는 로직\n",
    "print(\"이름\", \"총점\", \"평균\", sep='\\t')\n",
    "for student in students:\n",
    "    # 총점과 평균 계산\n",
    "    tot = student['kor'] + student['eng'] + student['math']\n",
    "    avg = tot / 3\n",
    "    \n",
    "    # 출력\n",
    "    print(student['name'], tot, round(avg, 2), sep='\\t')"
   ]
  },
  {
   "cell_type": "code",
   "execution_count": 4,
   "id": "6894ac12",
   "metadata": {
    "ExecuteTime": {
     "end_time": "2023-09-05T01:09:52.402887Z",
     "start_time": "2023-09-05T01:09:52.385382Z"
    }
   },
   "outputs": [
    {
     "name": "stdout",
     "output_type": "stream",
     "text": [
      "이름\t총점\t평균\n",
      "홍길동\t273\t91.0\n",
      "장보고\t277\t92.33\n",
      "유관순\t260\t86.67\n",
      "이순신\t263\t87.67\n",
      "사임당\t263\t87.67\n"
     ]
    }
   ],
   "source": [
    "def makeStudent(name, kor, eng, math):\n",
    "    return {\n",
    "        'name':name,\n",
    "        'kor':kor,\n",
    "        'eng':eng,\n",
    "        'math':math\n",
    "    }\n",
    "\n",
    "def calc_tot(student):\n",
    "    return student['kor'] + student['eng'] + student['math']\n",
    "\n",
    "def calc_avg(student):\n",
    "    return round(calc_tot(student) / 3, 2)\n",
    "\n",
    "def toString(student):\n",
    "    return \"{}\\t{}\\t{}\".format(student['name'], calc_tot(student), calc_avg(student))\n",
    "\n",
    "students = [\n",
    "    makeStudent('홍길동',87, 88,98),\n",
    "    makeStudent('장보고',92,96,89),\n",
    "    makeStudent('유관순',94,76,90),\n",
    "    makeStudent('이순신',95,78,90),\n",
    "    makeStudent('사임당',98,70,95)\n",
    "]\n",
    "\n",
    "print(\"이름\", \"총점\", \"평균\", sep='\\t')\n",
    "for student in students:\n",
    "    print(toString(student))"
   ]
  },
  {
   "cell_type": "code",
   "execution_count": 11,
   "id": "2b862d1e",
   "metadata": {
    "ExecuteTime": {
     "end_time": "2023-09-05T01:14:05.622402Z",
     "start_time": "2023-09-05T01:14:05.609904Z"
    }
   },
   "outputs": [
    {
     "ename": "TypeError",
     "evalue": "'Student' object is not subscriptable",
     "output_type": "error",
     "traceback": [
      "\u001b[1;31m---------------------------------------------------------------------------\u001b[0m",
      "\u001b[1;31mTypeError\u001b[0m                                 Traceback (most recent call last)",
      "\u001b[1;32m<ipython-input-11-3f8637fb91c3>\u001b[0m in \u001b[0;36m<module>\u001b[1;34m\u001b[0m\n\u001b[0;32m     18\u001b[0m \u001b[1;33m\u001b[0m\u001b[0m\n\u001b[0;32m     19\u001b[0m \u001b[1;32mfor\u001b[0m \u001b[0mi\u001b[0m \u001b[1;32min\u001b[0m \u001b[0mStudents\u001b[0m\u001b[1;33m:\u001b[0m\u001b[1;33m\u001b[0m\u001b[1;33m\u001b[0m\u001b[0m\n\u001b[1;32m---> 20\u001b[1;33m     \u001b[0mprint\u001b[0m\u001b[1;33m(\u001b[0m\u001b[0mtoString\u001b[0m\u001b[1;33m(\u001b[0m\u001b[0mi\u001b[0m\u001b[1;33m)\u001b[0m\u001b[1;33m)\u001b[0m\u001b[1;33m\u001b[0m\u001b[1;33m\u001b[0m\u001b[0m\n\u001b[0m",
      "\u001b[1;32m<ipython-input-4-b1fc221db50f>\u001b[0m in \u001b[0;36mtoString\u001b[1;34m(student)\u001b[0m\n\u001b[0;32m     14\u001b[0m \u001b[1;33m\u001b[0m\u001b[0m\n\u001b[0;32m     15\u001b[0m \u001b[1;32mdef\u001b[0m \u001b[0mtoString\u001b[0m\u001b[1;33m(\u001b[0m\u001b[0mstudent\u001b[0m\u001b[1;33m)\u001b[0m\u001b[1;33m:\u001b[0m\u001b[1;33m\u001b[0m\u001b[1;33m\u001b[0m\u001b[0m\n\u001b[1;32m---> 16\u001b[1;33m     \u001b[1;32mreturn\u001b[0m \u001b[1;34m\"{}\\t{}\\t{}\"\u001b[0m\u001b[1;33m.\u001b[0m\u001b[0mformat\u001b[0m\u001b[1;33m(\u001b[0m\u001b[0mstudent\u001b[0m\u001b[1;33m[\u001b[0m\u001b[1;34m'name'\u001b[0m\u001b[1;33m]\u001b[0m\u001b[1;33m,\u001b[0m \u001b[0mcalc_tot\u001b[0m\u001b[1;33m(\u001b[0m\u001b[0mstudent\u001b[0m\u001b[1;33m)\u001b[0m\u001b[1;33m,\u001b[0m \u001b[0mcalc_avg\u001b[0m\u001b[1;33m(\u001b[0m\u001b[0mstudent\u001b[0m\u001b[1;33m)\u001b[0m\u001b[1;33m)\u001b[0m\u001b[1;33m\u001b[0m\u001b[1;33m\u001b[0m\u001b[0m\n\u001b[0m\u001b[0;32m     17\u001b[0m \u001b[1;33m\u001b[0m\u001b[0m\n\u001b[0;32m     18\u001b[0m students = [\n",
      "\u001b[1;31mTypeError\u001b[0m: 'Student' object is not subscriptable"
     ]
    }
   ],
   "source": [
    "# 학생 객체를 담을 클래스 선언\n",
    "class Student:\n",
    "    # 생성자 메서드\n",
    "    def __init__(self, name, kor, eng, math):\n",
    "        self.name = name\n",
    "        self.kor = kor\n",
    "        self.eng = eng\n",
    "        self.math = math\n",
    "\n",
    "# 학생 리스트 선언\n",
    "Students = [\n",
    "    Student('홍길동',87, 88,98),\n",
    "    Student('장보고',92,96,89),\n",
    "    Student('유관순',94,76,90),\n",
    "    Student('이순신',95,78,90),\n",
    "    Student('사임당',98,70,95)\n",
    "]\n",
    "\n",
    "for i in Students:\n",
    "    print(toString(i))"
   ]
  },
  {
   "cell_type": "code",
   "execution_count": null,
   "id": "45f52397",
   "metadata": {
    "ExecuteTime": {
     "end_time": "2023-08-25T03:15:14.781194Z",
     "start_time": "2023-08-25T03:15:14.776156Z"
    }
   },
   "outputs": [],
   "source": [
    "# 한 명의 학생 정보를 관리할 목적으로 구현하는 클래스\n",
    "class Student:\n",
    "    # 멤버 필드\n",
    "    \n",
    "    # 생성자 메서드\n",
    "    def __init__(self, name, kor, eng, math):\n",
    "        self.name = name\n",
    "        self.kor = kor\n",
    "        self.eng = eng\n",
    "        self.math = math\n",
    "    \n",
    "    # 멤버 메서드\n",
    "    def total(self):\n",
    "        return self.kor + self.eng + self.math\n",
    "    \n",
    "    def average(self):\n",
    "        return round(self.total() / 3, 2)\n",
    "    \n",
    "    def disp(self):\n",
    "        return \"{}\\t{}\\t{}\".format(self.name, self.total(), self.average())\n",
    "    \n",
    "    # 소멸자 메서드\n",
    "    def __del__(self):\n",
    "        pass"
   ]
  },
  {
   "cell_type": "code",
   "execution_count": null,
   "id": "9578bbe6",
   "metadata": {
    "ExecuteTime": {
     "end_time": "2023-08-25T03:17:29.181586Z",
     "start_time": "2023-08-25T03:17:29.171541Z"
    }
   },
   "outputs": [],
   "source": [
    "# 학생정보를 이용한 인스턴스 객체 생성\n",
    "one = Student('aaa', 100, 100, 100)\n",
    "\n",
    "print(one.disp())"
   ]
  },
  {
   "cell_type": "code",
   "execution_count": null,
   "id": "06caa0b6",
   "metadata": {
    "ExecuteTime": {
     "end_time": "2023-08-25T03:19:40.342524Z",
     "start_time": "2023-08-25T03:19:30.629857Z"
    }
   },
   "outputs": [],
   "source": [
    "# 학생 정보를 키보드를 통해 입력받아 처리하는 작업\n",
    "name = input('name = ')\n",
    "kor = int(input('kor = '))\n",
    "eng = int(input('eng = '))\n",
    "math = int(input('math = '))\n",
    "\n",
    "two = Student(name, kor, eng, math)\n",
    "print(two.disp())"
   ]
  },
  {
   "cell_type": "markdown",
   "id": "b68d0674",
   "metadata": {},
   "source": [
    "## 상속(Inheritance)\n",
    "\n",
    "- 부모클래스(상위클래스)가 가지고 있는 특성과 속성을 그래로 자식클래스(하위클래스, 파생클래스)가 물려받는것\n",
    "- 재활용을 극대화하기 위해 사용하는 개념\n",
    "- 다중 상속도 가능하다.\n",
    "- 오버라이딩(Overriding) : 재정의, 부모메서드를 자식클래스에서 다시 정의해서 사용하는 것\n",
    "- 다형성(Polymorphism) : 가독성을 높이기 위해서 사용하는 기능"
   ]
  },
  {
   "cell_type": "code",
   "execution_count": null,
   "id": "dcb61664",
   "metadata": {
    "ExecuteTime": {
     "end_time": "2023-08-25T03:34:07.229152Z",
     "start_time": "2023-08-25T03:34:07.223182Z"
    }
   },
   "outputs": [],
   "source": [
    "class Person:\n",
    "    # 멤버 필드\n",
    "#     name = \"\"\n",
    "#     age = 0\n",
    "#     height = 0.0\n",
    "    \n",
    "    # 멤버 메서드\n",
    "    def disp(self):\n",
    "        print(\"이름 : \", self.name)\n",
    "        print(\"나이 : \", self.age)\n",
    "        print(\"신장 : \", self.height)"
   ]
  },
  {
   "cell_type": "code",
   "execution_count": null,
   "id": "ba9238c6",
   "metadata": {
    "ExecuteTime": {
     "end_time": "2023-08-25T03:37:26.629415Z",
     "start_time": "2023-08-25T03:37:26.615445Z"
    }
   },
   "outputs": [],
   "source": [
    "# 인스턴스 객체 생성 - 객체가 생성되면 자동적으로 생성자 메서드가 호출된다.\n",
    "# 클래스명과 동일한 이름을 가진 생성자 : default 생성자 - 생략가능\n",
    "p1 = Person()\n",
    "p1.name = \"kim\"\n",
    "p1.age = 23\n",
    "p1.height = 169.8\n",
    "p1.disp()"
   ]
  },
  {
   "cell_type": "code",
   "execution_count": null,
   "id": "2419a143",
   "metadata": {
    "ExecuteTime": {
     "end_time": "2023-08-25T03:38:12.816709Z",
     "start_time": "2023-08-25T03:38:12.806713Z"
    }
   },
   "outputs": [],
   "source": [
    "p2 = Person()\n",
    "p2.name = 'lee' \n",
    "p2.age = 33\n",
    "p2.height = 190.7\n",
    "p2.disp()"
   ]
  },
  {
   "cell_type": "code",
   "execution_count": null,
   "id": "e68b289a",
   "metadata": {
    "ExecuteTime": {
     "end_time": "2023-08-25T03:39:51.619652Z",
     "start_time": "2023-08-25T03:39:51.607167Z"
    }
   },
   "outputs": [],
   "source": [
    "class Person:\n",
    "    # 멤버 필드\n",
    "#     name = \"\"\n",
    "#     age = 0\n",
    "#     height = 0.0\n",
    "    # 생성자 메서드 : 멤버 필드를 초기화시켜줄 목적으로 구현된다.\n",
    "    def __init__(self, name, age, height):\n",
    "        self.name = name\n",
    "        self.age = age\n",
    "        self.height = height\n",
    "        \n",
    "    # 멤버 메서드\n",
    "    def disp(self):\n",
    "        print(\"이름 : \", self.name)\n",
    "        print(\"나이 : \", self.age)\n",
    "        print(\"신장 : \", self.height)"
   ]
  },
  {
   "cell_type": "code",
   "execution_count": null,
   "id": "1e6be3d9",
   "metadata": {
    "ExecuteTime": {
     "end_time": "2023-08-25T03:40:25.598371Z",
     "start_time": "2023-08-25T03:40:25.584373Z"
    }
   },
   "outputs": [],
   "source": [
    "p3 = Person('park', 19, 160.4)\n",
    "p3.disp()"
   ]
  },
  {
   "cell_type": "code",
   "execution_count": null,
   "id": "bbe85ae6",
   "metadata": {
    "ExecuteTime": {
     "end_time": "2023-08-25T03:57:19.346779Z",
     "start_time": "2023-08-25T03:57:19.337825Z"
    }
   },
   "outputs": [],
   "source": [
    "# 중학교\n",
    "class Middle:\n",
    "    # 멤버 필드\n",
    "    \n",
    "    # 생성자 메서드\n",
    "    def __init__(self, name, phone):\n",
    "        self.name = name\n",
    "        self.phone = phone\n",
    "        \n",
    "    # 멤버 메서드\n",
    "    def disp(self):\n",
    "        print(f\"{self.name} : {self.phone}\", end='')"
   ]
  },
  {
   "cell_type": "code",
   "execution_count": null,
   "id": "1623e9ce",
   "metadata": {
    "ExecuteTime": {
     "end_time": "2023-08-25T03:48:59.886693Z",
     "start_time": "2023-08-25T03:48:59.882696Z"
    }
   },
   "outputs": [],
   "source": [
    "# 친구등록\n",
    "m1 = Middle('이중학', '010-1111-2222')\n",
    "m2 = Middle('저중학', '010-2222-3333')"
   ]
  },
  {
   "cell_type": "code",
   "execution_count": null,
   "id": "3a040bd0",
   "metadata": {
    "ExecuteTime": {
     "end_time": "2023-08-25T03:49:10.375341Z",
     "start_time": "2023-08-25T03:49:10.360341Z"
    }
   },
   "outputs": [],
   "source": [
    "m1.disp()"
   ]
  },
  {
   "cell_type": "code",
   "execution_count": null,
   "id": "9fa8c8c6",
   "metadata": {
    "ExecuteTime": {
     "end_time": "2023-08-25T03:51:10.808165Z",
     "start_time": "2023-08-25T03:51:10.793177Z"
    }
   },
   "outputs": [],
   "source": [
    "# 고등학교\n",
    "class High:\n",
    "    # 멤버필드\n",
    "    \n",
    "    # 생성자 메서드\n",
    "    def __init__(self, name, phone, address):\n",
    "        self.name = name\n",
    "        self.phone = phone\n",
    "        self.address = address\n",
    "        \n",
    "    # 멤버 메서드\n",
    "    def disp(self):\n",
    "        print(f\"{self.name} : {self.phone} : {self.address}\")"
   ]
  },
  {
   "cell_type": "code",
   "execution_count": null,
   "id": "97ce4c7a",
   "metadata": {
    "ExecuteTime": {
     "end_time": "2023-08-25T03:51:44.294762Z",
     "start_time": "2023-08-25T03:51:44.281805Z"
    }
   },
   "outputs": [],
   "source": [
    "h1 = High('박고등', '010-3333-4444', '가산동')\n",
    "h1.disp()"
   ]
  },
  {
   "cell_type": "code",
   "execution_count": null,
   "id": "1418777c",
   "metadata": {
    "ExecuteTime": {
     "end_time": "2023-08-25T03:57:26.848379Z",
     "start_time": "2023-08-25T03:57:26.832618Z"
    }
   },
   "outputs": [],
   "source": [
    "class High(Middle):\n",
    "    # 멤버필드\n",
    "    \n",
    "    # 생성자 메서드\n",
    "    def __init__(self, name, phone, address):\n",
    "#         self.name = name\n",
    "#         self.phone = phone\n",
    "# 반드시 자식객체는 부모객체의 멤버를 초기화시켜야 한다.\n",
    "        Middle.__init__(self, name, phone)\n",
    "        self.address = address\n",
    "        \n",
    "    # 멤버 메서드\n",
    "    def disp(self):\n",
    "        Middle.disp(self)\n",
    "        print(f\"{self.address}\")"
   ]
  },
  {
   "cell_type": "code",
   "execution_count": null,
   "id": "3d1bc6d2",
   "metadata": {
    "ExecuteTime": {
     "end_time": "2023-08-25T03:58:01.363392Z",
     "start_time": "2023-08-25T03:58:01.356416Z"
    }
   },
   "outputs": [],
   "source": [
    "m3 = Middle('한중학', '010-7777-8888')\n",
    "m3.disp()"
   ]
  },
  {
   "cell_type": "code",
   "execution_count": null,
   "id": "5382f448",
   "metadata": {
    "ExecuteTime": {
     "end_time": "2023-08-25T03:58:47.483279Z",
     "start_time": "2023-08-25T03:58:47.471762Z"
    }
   },
   "outputs": [],
   "source": [
    "h2 = High('박고등', '010-9999-9090', '서울시')\n",
    "h2.disp()"
   ]
  },
  {
   "cell_type": "code",
   "execution_count": null,
   "id": "bdb12092",
   "metadata": {
    "ExecuteTime": {
     "end_time": "2023-08-25T05:16:49.631190Z",
     "start_time": "2023-08-25T05:16:49.617219Z"
    }
   },
   "outputs": [],
   "source": [
    "# 회원정보를 관리할 목적의 클래스\n",
    "class Member:\n",
    "    # 생성자 메서드\n",
    "    def __init__(self, userid, pwd, name, age):\n",
    "        self.userid = userid\n",
    "        self.pwd = pwd\n",
    "        self.name = name\n",
    "        self.age = age\n",
    "        \n",
    "    # 멤버 메서드\n",
    "    def info(self):\n",
    "        print(\"아이디 : \", self.userid, end='')\n",
    "        print(\"비밀번호 : \", self.pwd, end='')\n",
    "        print(\"이름 : \", self.name, end='')\n",
    "        print(\"나이 : \", self.age)"
   ]
  },
  {
   "cell_type": "code",
   "execution_count": null,
   "id": "c75f15d7",
   "metadata": {
    "ExecuteTime": {
     "end_time": "2023-08-25T05:22:10.253263Z",
     "start_time": "2023-08-25T05:22:10.241255Z"
    }
   },
   "outputs": [],
   "source": [
    "# 파생 클래스\n",
    "class MemberInfo(Member):\n",
    "    # 부모 객체가 생성자를 가지고 있다면 자식 객체는 반드시 생성자를 기술\n",
    "    # 상속받은 자식객체는 반드시 부모객체의 멤버를 초기화할 의무가 있다.\n",
    "    def __init__(self, userid, pwd, name, age, job, hobby):\n",
    "        Member.__init__(self, userid, pwd, name, age)\n",
    "        self.job = job\n",
    "        self.hobby = hobby\n",
    "        \n",
    "    # 부모와 자식이 같은 이름의 메서들 가지고 있는 경우 오버라이딩이라 부른다.\n",
    "    def info(self):\n",
    "        Member.info(self)\n",
    "        print(\"직업 : \", self.job, end='')\n",
    "        print(\"취미 : \", self.hobby)"
   ]
  },
  {
   "cell_type": "code",
   "execution_count": null,
   "id": "497641b3",
   "metadata": {
    "ExecuteTime": {
     "end_time": "2023-08-25T05:23:09.586594Z",
     "start_time": "2023-08-25T05:23:09.573646Z"
    }
   },
   "outputs": [],
   "source": [
    "mem = MemberInfo('aaa', '1234', '배불러', 33, '개발자', '댄스')\n",
    "mem.info()"
   ]
  },
  {
   "cell_type": "markdown",
   "id": "0e80371a",
   "metadata": {},
   "source": [
    "다음 주어진 조건에 만족하는 프로그램을 구현하시오.<br>\n",
    "<br>\n",
    "처리조건<br>\n",
    "1. 사용자가 원하는 도형을 입력받아 처리할 수 있도록 구현한다.\n",
    "2. 점, 원, 사각형 중 하나를 입력받아 처리한다.\n",
    "3. 출력형식 및 입력형식에 맞게 프로그램을 구현한다.\n",
    "<br>\n",
    " 입력형식<br>\n",
    " 도형(1.점  2.원  3.사각형  4.종료) = <br>\n",
    " \n",
    " - 점을 선택한 경우\n",
    "   x = 10\n",
    "   y = 20   \n",
    "   점(x, y) = (10, 20)\n",
    "\n",
    " - 원을 선택한 경우\n",
    "   x = 3\n",
    "   y = 5\n",
    "   r = 10\n",
    "   점(x, y) = (3, 5)\n",
    "   반지름(r) = 10\n",
    "   \n",
    " - 사각형을 선택한 경우\n",
    "   x = 10\n",
    "   y = 9\n",
    "   h = 20\n",
    "   w = 7\n",
    "   점(x, y) = (10, 9)\n",
    "   높이(h) = 20, 너비(w) = 7"
   ]
  },
  {
   "cell_type": "code",
   "execution_count": null,
   "id": "5c3c71ee",
   "metadata": {
    "ExecuteTime": {
     "end_time": "2023-08-25T05:32:14.764266Z",
     "start_time": "2023-08-25T05:32:14.746291Z"
    }
   },
   "outputs": [],
   "source": [
    "# 평면위의 한 점을 추상화하는 클래스 Point 구현\n",
    "class Point:\n",
    "    # 멤버 필드\n",
    "    \n",
    "    # 생성자 메서드\n",
    "    def __init__(self):\n",
    "        self.xpos = int(input(\"x = \"))\n",
    "        self.ypos = int(input(\"y = \"))\n",
    "        \n",
    "    # 멤버 메서드\n",
    "    def disp(self):\n",
    "        print(f\"점(x, y) = ({self.xpos}, {self.ypos})\")"
   ]
  },
  {
   "cell_type": "code",
   "execution_count": null,
   "id": "ca951d63",
   "metadata": {
    "ExecuteTime": {
     "end_time": "2023-08-25T05:33:00.916117Z",
     "start_time": "2023-08-25T05:32:54.604643Z"
    }
   },
   "outputs": [],
   "source": [
    "ap = Point()\n",
    "\n",
    "ap.disp()"
   ]
  },
  {
   "cell_type": "code",
   "execution_count": null,
   "id": "cad71cec",
   "metadata": {
    "ExecuteTime": {
     "end_time": "2023-08-25T05:41:14.333681Z",
     "start_time": "2023-08-25T05:41:14.322763Z"
    }
   },
   "outputs": [],
   "source": [
    "# 반지름을 받아 원을 추상화하는 클래스 Circle\n",
    "class Circle(Point):\n",
    "    # 멤버 필드\n",
    "    \n",
    "    # 생성자 메서드\n",
    "    def __init__(self):\n",
    "        Point.__init__(self)\n",
    "        self.r = int(input('r = '))\n",
    "        \n",
    "    # 멤버 메서드\n",
    "    def disp(self):\n",
    "        Point.disp(self)\n",
    "        print(f\"반지름(r) = {self.r}\")"
   ]
  },
  {
   "cell_type": "code",
   "execution_count": null,
   "id": "b20ffaa9",
   "metadata": {
    "ExecuteTime": {
     "end_time": "2023-08-25T05:41:23.240758Z",
     "start_time": "2023-08-25T05:41:17.603998Z"
    }
   },
   "outputs": [],
   "source": [
    "ac = Circle()\n",
    "\n",
    "ac.disp()"
   ]
  },
  {
   "cell_type": "markdown",
   "id": "d0b2fa83",
   "metadata": {},
   "source": [
    "### 급여관리 프로그램\n",
    "A라는 회사의 직원의 급여를 관리할 목적으로 프로그램을 구현하려고 한다.<br>\n",
    "처음 이회사가 창립될 때 채용한 모든 직원은 정규직 직원이다.<br>\n",
    "\n",
    "- Entity Class : 단순히 자료를 담아서 보관할 목적으로 구현하는 클래스, Model(모델)\n",
    "- Handler Class or Controller Class : 실제 프로그램을 동작할 목적으로 구현하는 클래스\n",
    "\n",
    "- 주요기능 : 직원등록, 직원정보를 출력, 모든 직원의 급여정보와 총 지급하는 급여액을 확인\n",
    "- 직원정보는 급여와 이름을 관리한다."
   ]
  },
  {
   "cell_type": "code",
   "execution_count": 3,
   "id": "05eaad95",
   "metadata": {
    "ExecuteTime": {
     "end_time": "2023-08-25T07:21:30.322746Z",
     "start_time": "2023-08-25T07:21:30.309386Z"
    }
   },
   "outputs": [],
   "source": [
    "# 정규직 한 명을 관리할 목적으로 클래스 구현 : Entity Class => Model\n",
    "class Permanent:\n",
    "    # 멤버 필드\n",
    "    \n",
    "    # 생성자 메서드\n",
    "    def __init__(self, name, pay):\n",
    "        self.name = name\n",
    "        self.pay = pay\n",
    "        \n",
    "    def disp(self):\n",
    "        print(f\"{self.name} : {self.pay}\")\n",
    "        \n",
    "    def getPay(self):\n",
    "        return self.pay"
   ]
  },
  {
   "cell_type": "code",
   "execution_count": 6,
   "id": "53b220da",
   "metadata": {
    "ExecuteTime": {
     "end_time": "2023-08-25T07:22:58.316846Z",
     "start_time": "2023-08-25T07:22:58.302868Z"
    }
   },
   "outputs": [
    {
     "name": "stdout",
     "output_type": "stream",
     "text": [
      "aaa : 1000\n"
     ]
    }
   ],
   "source": [
    "p1 = Permanent('aaa', 1000)\n",
    "p1.disp()"
   ]
  },
  {
   "cell_type": "code",
   "execution_count": 7,
   "id": "25016b7e",
   "metadata": {
    "ExecuteTime": {
     "end_time": "2023-08-25T07:22:59.060259Z",
     "start_time": "2023-08-25T07:22:59.056194Z"
    }
   },
   "outputs": [
    {
     "name": "stdout",
     "output_type": "stream",
     "text": [
      "aaa : 1000\n",
      "bbb : 1500\n",
      "ccc : 1800\n",
      "총 급여액 :  4300\n"
     ]
    }
   ],
   "source": [
    "# 직원등록하는 기능\n",
    "p1 = Permanent('aaa', 1000)\n",
    "p2 = Permanent('bbb', 1500)\n",
    "p3 = Permanent('ccc', 1800)\n",
    "\n",
    "# 직원정보 출력\n",
    "p1.disp()\n",
    "p2.disp()\n",
    "p3.disp()\n",
    "\n",
    "# 매달 지급되는 직원급여의 총합\n",
    "total = p1.getPay() + p2.getPay() + p3.getPay()\n",
    "print(\"총 급여액 : \", total)"
   ]
  },
  {
   "cell_type": "code",
   "execution_count": 8,
   "id": "fa92ed3e",
   "metadata": {
    "ExecuteTime": {
     "end_time": "2023-08-25T07:23:21.818777Z",
     "start_time": "2023-08-25T07:23:00.771736Z"
    }
   },
   "outputs": [
    {
     "name": "stdout",
     "output_type": "stream",
     "text": [
      "\n",
      "[1]직원등록 [2]직원출력 [3]총지급액 [4]작업종료\n",
      "선택 = 1\n",
      "이름 = aaa\n",
      "급여 = 1500\n",
      "직원등록이 완료되었습니다.\n",
      "\n",
      "[1]직원등록 [2]직원출력 [3]총지급액 [4]작업종료\n",
      "선택 = 1\n",
      "이름 = bbb\n",
      "급여 = 3000\n",
      "직원등록이 완료되었습니다.\n",
      "\n",
      "[1]직원등록 [2]직원출력 [3]총지급액 [4]작업종료\n",
      "선택 = 2\n",
      "aaa : 1500\n",
      "bbb : 3000\n",
      "\n",
      "[1]직원등록 [2]직원출력 [3]총지급액 [4]작업종료\n",
      "선택 = 3\n",
      "총지급액 :  4500\n",
      "\n",
      "[1]직원등록 [2]직원출력 [3]총지급액 [4]작업종료\n",
      "선택 = 4\n",
      "프로그램을 종료합니다.\n"
     ]
    }
   ],
   "source": [
    "# 전체 직원을 담을 컨테이너 객체\n",
    "emp = list()\n",
    "\n",
    "# 사용자의 선택에 의해 동작되도록 프로그램을 구현\n",
    "while True:\n",
    "    # 메뉴출력\n",
    "    print(\"\\n[1]직원등록 [2]직원출력 [3]총지급액 [4]작업종료\")\n",
    "    menu = int(input('선택 = '))\n",
    "    \n",
    "    # 선택에 따라 동작하는 로직\n",
    "    if menu == 1:\n",
    "        name = input('이름 = ')\n",
    "        pay = int(input('급여 = '))\n",
    "        p = Permanent(name, pay)\n",
    "        emp.append(p)\n",
    "        print(\"직원등록이 완료되었습니다.\")\n",
    "    elif menu == 2:\n",
    "        if len(emp) == 0:\n",
    "            print(\"등록된 직원이 없습니다.\")            \n",
    "        else:\n",
    "            for e in emp:\n",
    "                e.disp()\n",
    "    elif menu == 3:\n",
    "        tot = 0\n",
    "        for e in emp:\n",
    "            tot += e.getPay()\n",
    "        print(\"총지급액 : \", tot)\n",
    "    elif menu == 4:\n",
    "        print(\"프로그램을 종료합니다.\")\n",
    "        break\n",
    "    else:\n",
    "        print(\"선택이 올바르지 않습니다.\")"
   ]
  },
  {
   "cell_type": "code",
   "execution_count": 9,
   "id": "b55317cf",
   "metadata": {
    "ExecuteTime": {
     "end_time": "2023-08-25T07:23:26.704986Z",
     "start_time": "2023-08-25T07:23:26.689193Z"
    }
   },
   "outputs": [],
   "source": [
    "# Handler Class : 실제 처리를 담당하는 클래스\n",
    "class EmpManager:\n",
    "    # 멤버 필드\n",
    "    emp = list()\n",
    "    \n",
    "    # 멤버 메서드\n",
    "    ## 직원등록을 하는 메서드\n",
    "    def create(self):\n",
    "        name = input('이름 = ')\n",
    "        pay = int(input('급여 = '))\n",
    "        p = Permanent(name, pay)\n",
    "        emp.append(p)\n",
    "        print(\"직원등록이 완료되었습니다.\")\n",
    "        \n",
    "    ## 직원정보를 출력하는 메서드\n",
    "    def show(self):\n",
    "        if len(emp) == 0:\n",
    "            print(\"등록된 직원이 없습니다.\")            \n",
    "        else:\n",
    "            for e in emp:\n",
    "                e.disp()\n",
    "                \n",
    "    ## 총급여를 출력하는 메서드\n",
    "    def allPay(self):\n",
    "        tot = 0\n",
    "        for e in emp:\n",
    "            tot += e.getPay()\n",
    "        print(\"총지급액 : \", tot)"
   ]
  },
  {
   "cell_type": "code",
   "execution_count": 10,
   "id": "d3d8c27e",
   "metadata": {
    "ExecuteTime": {
     "end_time": "2023-08-25T07:23:59.924015Z",
     "start_time": "2023-08-25T07:23:35.485160Z"
    }
   },
   "outputs": [
    {
     "name": "stdout",
     "output_type": "stream",
     "text": [
      "\n",
      "[1]직원등록 [2]직원출력 [3]총지급액 [4]작업종료\n",
      "선택 = 1\n",
      "이름 = aaa\n",
      "급여 = 1500\n",
      "직원등록이 완료되었습니다.\n",
      "\n",
      "[1]직원등록 [2]직원출력 [3]총지급액 [4]작업종료\n",
      "선택 = 2\n",
      "aaa : 1500\n",
      "bbb : 3000\n",
      "aaa : 1500\n",
      "\n",
      "[1]직원등록 [2]직원출력 [3]총지급액 [4]작업종료\n",
      "선택 = 4\n",
      "프로그램을 종료합니다.\n"
     ]
    }
   ],
   "source": [
    "# main process\n",
    "\n",
    "## 실제 처리를 담당하는 클래스의 인스턴스 객체 생성\n",
    "manager = EmpManager()\n",
    "\n",
    "# 사용자의 선택에 의해 동작되도록 프로그램을 구현\n",
    "while True:\n",
    "    # 메뉴출력\n",
    "    print(\"\\n[1]직원등록 [2]직원출력 [3]총지급액 [4]작업종료\")\n",
    "    menu = int(input('선택 = '))\n",
    "    \n",
    "    # 선택에 따라 동작하는 로직\n",
    "    if menu == 1:\n",
    "        manager.create()\n",
    "    elif menu == 2:\n",
    "        manager.show()\n",
    "    elif menu == 3:\n",
    "        manager.allPay()\n",
    "    elif menu == 4:\n",
    "        print(\"프로그램을 종료합니다.\")\n",
    "        break\n",
    "    else:\n",
    "        print(\"선택이 올바르지 않습니다.\")"
   ]
  },
  {
   "cell_type": "markdown",
   "id": "b07a0576",
   "metadata": {},
   "source": [
    "- 회사가 성장을 하여 다양한 직군의 직원을 채용한다.\n",
    "- 정규직(Permanent) : 이름, 기본급\n",
    "- 영업직(Sales) : 이름, 기본급, 매출실적, 보너스, 급여(기본급+매출실적*보너스)\n",
    "- 임시직(Temporary) : 이름, 근무시간, 시간당급여, 급여(근무시간*시간당급여)\n",
    "- 메서드 오버라이딩(Method Overriding) : 부모 클래스에 선언된 메서드와 동일한 이름을 가진 메서드를 자식 클래스에도 선언한다. 이때 자식객체를 이용해서 해당 메서드를 호출하면 자식메서드가 실행된다.\n",
    "<code>\n",
    "    직원(Employee) : 이름, 급여(추상메서드) \n",
    "    - 정규직 : 급여(기본급)\n",
    "    - 영업직 : 급여(기본급 + 매출실적 * 상여금)\n",
    "    - 임시직 : 급여(근무시간 * 수당)\n",
    "</code>"
   ]
  },
  {
   "cell_type": "code",
   "execution_count": 1,
   "id": "4e9b0da9",
   "metadata": {
    "ExecuteTime": {
     "end_time": "2023-08-25T07:11:24.154754Z",
     "start_time": "2023-08-25T07:11:24.135791Z"
    }
   },
   "outputs": [],
   "source": [
    "# 상위 클래스 : 부모 클래스\n",
    "class Employee:\n",
    "    # 멤버 필드\n",
    "    \n",
    "    # 생성자 메서드\n",
    "    def __init__(self, name):\n",
    "        self.name = name\n",
    "        \n",
    "    # 멤버 메서드\n",
    "    def disp(self):\n",
    "        print(\"이름 : \", self.name, end='')\n",
    "        \n",
    "    # 추상 메서드\n",
    "    def getPay(self):\n",
    "        return 0"
   ]
  },
  {
   "cell_type": "code",
   "execution_count": 2,
   "id": "1110442d",
   "metadata": {
    "ExecuteTime": {
     "end_time": "2023-08-25T07:11:32.178043Z",
     "start_time": "2023-08-25T07:11:32.161041Z"
    }
   },
   "outputs": [],
   "source": [
    "class Permanent(Employee):\n",
    "    # 멤버 필드\n",
    "    \n",
    "    # 생성자 메서드\n",
    "    def __init__(self, name, pay):\n",
    "        Employee.__init__(self, name)\n",
    "        self.pay = pay\n",
    "    \n",
    "    # Method Overriding\n",
    "    def disp(self):\n",
    "        Employee.disp(self)\n",
    "        print(\"급여 : \", self.getPay())\n",
    "        \n",
    "    def getPay(self):\n",
    "        return self.pay"
   ]
  },
  {
   "cell_type": "code",
   "execution_count": 5,
   "id": "9f773600",
   "metadata": {
    "ExecuteTime": {
     "end_time": "2023-08-25T07:13:18.680739Z",
     "start_time": "2023-08-25T07:13:18.671742Z"
    }
   },
   "outputs": [],
   "source": [
    "# Handler Class : 실제 처리를 담당하는 클래스\n",
    "class EmpManager:\n",
    "    # 멤버 필드\n",
    "    emp = list()\n",
    "    ## self.멤버필드 : 인스턴스 변수, 인스턴스 마다 달라지는 값\n",
    "    ## 클래스명.멤버필드 : 클래스 변수, 모든 인스턴스 객체가 공통의 값을 갖는것\n",
    "    \n",
    "    # 멤버 메서드\n",
    "    ## 직원등록을 하는 메서드\n",
    "    def create(self):\n",
    "        name = input('이름 = ')\n",
    "        pay = int(input('급여 = '))\n",
    "        p = Permanent(name, pay)\n",
    "        EmpManager.emp.append(p)\n",
    "        print(\"직원등록이 완료되었습니다.\")\n",
    "        \n",
    "    ## 직원정보를 출력하는 메서드\n",
    "    def show(self):\n",
    "        if len(EmpManager.emp) == 0:\n",
    "            print(\"등록된 직원이 없습니다.\")            \n",
    "        else:\n",
    "            for e in EmpManager.emp:\n",
    "                e.disp()\n",
    "                \n",
    "    ## 총급여를 출력하는 메서드\n",
    "    def allPay(self):\n",
    "        tot = 0\n",
    "        for e in EmpManager.emp:\n",
    "            tot += e.getPay()\n",
    "        print(\"총지급액 : \", tot)"
   ]
  },
  {
   "cell_type": "code",
   "execution_count": 6,
   "id": "6ee49ecf",
   "metadata": {
    "ExecuteTime": {
     "end_time": "2023-08-25T07:14:17.456993Z",
     "start_time": "2023-08-25T07:13:20.920307Z"
    }
   },
   "outputs": [
    {
     "name": "stdout",
     "output_type": "stream",
     "text": [
      "\n",
      "[1]직원등록 [2]직원출력 [3]총지급액 [4]작업종료\n",
      "선택 = 2\n",
      "등록된 직원이 없습니다.\n",
      "\n",
      "[1]직원등록 [2]직원출력 [3]총지급액 [4]작업종료\n",
      "선택 = 1\n",
      "이름 = aaa\n",
      "급여 = 1000\n",
      "직원등록이 완료되었습니다.\n",
      "\n",
      "[1]직원등록 [2]직원출력 [3]총지급액 [4]작업종료\n",
      "선택 = 2\n",
      "이름 :  aaa급여 :  1000\n",
      "\n",
      "[1]직원등록 [2]직원출력 [3]총지급액 [4]작업종료\n",
      "선택 = 1\n",
      "이름 = bbb\n",
      "급여 = 2000\n",
      "직원등록이 완료되었습니다.\n",
      "\n",
      "[1]직원등록 [2]직원출력 [3]총지급액 [4]작업종료\n",
      "선택 = 2\n",
      "이름 :  aaa급여 :  1000\n",
      "이름 :  bbb급여 :  2000\n",
      "\n",
      "[1]직원등록 [2]직원출력 [3]총지급액 [4]작업종료\n",
      "선택 = 3\n",
      "총지급액 :  3000\n",
      "\n",
      "[1]직원등록 [2]직원출력 [3]총지급액 [4]작업종료\n",
      "선택 = 4\n",
      "프로그램을 종료합니다.\n"
     ]
    }
   ],
   "source": [
    "# main process\n",
    "\n",
    "## 실제 처리를 담당하는 클래스의 인스턴스 객체 생성\n",
    "manager = EmpManager()\n",
    "\n",
    "# 사용자의 선택에 의해 동작되도록 프로그램을 구현\n",
    "while True:\n",
    "    # 메뉴출력\n",
    "    print(\"\\n[1]직원등록 [2]직원출력 [3]총지급액 [4]작업종료\")\n",
    "    menu = int(input('선택 = '))\n",
    "    \n",
    "    # 선택에 따라 동작하는 로직\n",
    "    if menu == 1:\n",
    "        manager.create()\n",
    "    elif menu == 2:\n",
    "        manager.show()\n",
    "    elif menu == 3:\n",
    "        manager.allPay()\n",
    "    elif menu == 4:\n",
    "        print(\"프로그램을 종료합니다.\")\n",
    "        break\n",
    "    else:\n",
    "        print(\"선택이 올바르지 않습니다.\")"
   ]
  },
  {
   "cell_type": "code",
   "execution_count": null,
   "id": "7bdfcf48",
   "metadata": {},
   "outputs": [],
   "source": []
  }
 ],
 "metadata": {
  "kernelspec": {
   "display_name": "Python 3",
   "language": "python",
   "name": "python3"
  },
  "language_info": {
   "codemirror_mode": {
    "name": "ipython",
    "version": 3
   },
   "file_extension": ".py",
   "mimetype": "text/x-python",
   "name": "python",
   "nbconvert_exporter": "python",
   "pygments_lexer": "ipython3",
   "version": "3.8.8"
  },
  "toc": {
   "base_numbering": 1,
   "nav_menu": {},
   "number_sections": true,
   "sideBar": true,
   "skip_h1_title": false,
   "title_cell": "Table of Contents",
   "title_sidebar": "Contents",
   "toc_cell": false,
   "toc_position": {
    "height": "calc(100% - 180px)",
    "left": "10px",
    "top": "150px",
    "width": "256px"
   },
   "toc_section_display": true,
   "toc_window_display": true
  },
  "varInspector": {
   "cols": {
    "lenName": 16,
    "lenType": 16,
    "lenVar": 40
   },
   "kernels_config": {
    "python": {
     "delete_cmd_postfix": "",
     "delete_cmd_prefix": "del ",
     "library": "var_list.py",
     "varRefreshCmd": "print(var_dic_list())"
    },
    "r": {
     "delete_cmd_postfix": ") ",
     "delete_cmd_prefix": "rm(",
     "library": "var_list.r",
     "varRefreshCmd": "cat(var_dic_list()) "
    }
   },
   "types_to_exclude": [
    "module",
    "function",
    "builtin_function_or_method",
    "instance",
    "_Feature"
   ],
   "window_display": false
  }
 },
 "nbformat": 4,
 "nbformat_minor": 5
}
