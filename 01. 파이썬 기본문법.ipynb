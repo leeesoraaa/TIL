{
 "cells": [
  {
   "cell_type": "markdown",
   "id": "c617389e",
   "metadata": {},
   "source": [
    "# 마크다운(Mark down)"
   ]
  },
  {
   "cell_type": "code",
   "execution_count": 1,
   "id": "ce9102d7",
   "metadata": {
    "ExecuteTime": {
     "end_time": "2023-08-22T00:10:50.767558Z",
     "start_time": "2023-08-22T00:10:50.763633Z"
    }
   },
   "outputs": [],
   "source": [
    "# 주석: 프로그램 실행과는 상관없이 설명을 담기 위해 사용하는 기호"
   ]
  },
  {
   "cell_type": "markdown",
   "id": "40392d79",
   "metadata": {},
   "source": [
    "# 기본문법"
   ]
  },
  {
   "cell_type": "markdown",
   "id": "0f2dd386",
   "metadata": {},
   "source": [
    "## 파이썬 표준 라이브러리 문서\n",
    "https://docs.python.org/3/library/index.html"
   ]
  },
  {
   "cell_type": "code",
   "execution_count": 2,
   "id": "4204551f",
   "metadata": {
    "ExecuteTime": {
     "end_time": "2023-08-22T00:17:54.527063Z",
     "start_time": "2023-08-22T00:17:54.516885Z"
    }
   },
   "outputs": [],
   "source": [
    "# 명령어 실행\n",
    "## Ctrl + Enter: 현재 셀 실행\n",
    "## Shift + Enter: 현재 셀 실행 후 새로운 셀 생성"
   ]
  },
  {
   "cell_type": "markdown",
   "id": "be67b824",
   "metadata": {},
   "source": [
    "## 예약어(keyword)\n",
    "\n",
    "- 파이썬에서 이미 문법적인 용도가 정해져있는 단어들\n",
    "- 식별자(변수명, 함수명, 객체명..)로 사용할 수 없다.\n",
    "- 예약어를 식별자로 사용하면 에러는 발생하지 않지만 고유기능이 사라진다.\n",
    "- 파이썬은 종결자(;)가 없다. 단, 사용해도 에러는 아님"
   ]
  },
  {
   "cell_type": "code",
   "execution_count": 3,
   "id": "a64af6f6",
   "metadata": {
    "ExecuteTime": {
     "end_time": "2023-08-22T00:22:34.042941Z",
     "start_time": "2023-08-22T00:22:34.031801Z"
    }
   },
   "outputs": [],
   "source": [
    "# 파이썬에 등록된 예약어 목록을 확인하는 작업\n",
    "## 파이썬의 예약어 모듈 추가하는 작업\n",
    "import keyword"
   ]
  },
  {
   "cell_type": "code",
   "execution_count": 4,
   "id": "3453f128",
   "metadata": {
    "ExecuteTime": {
     "end_time": "2023-08-22T00:24:19.133631Z",
     "start_time": "2023-08-22T00:24:19.120459Z"
    }
   },
   "outputs": [
    {
     "name": "stdout",
     "output_type": "stream",
     "text": [
      "['False', 'None', 'True', 'and', 'as', 'assert', 'async', 'await', 'break', 'class', 'continue', 'def', 'del', 'elif', 'else', 'except', 'finally', 'for', 'from', 'global', 'if', 'import', 'in', 'is', 'lambda', 'nonlocal', 'not', 'or', 'pass', 'raise', 'return', 'try', 'while', 'with', 'yield']\n"
     ]
    }
   ],
   "source": [
    "# 예약어 목록 출력\n",
    "## 해당 패키지의 명령어 사용법: .(direct 연산자)\n",
    "print(keyword.kwlist)"
   ]
  },
  {
   "cell_type": "code",
   "execution_count": 5,
   "id": "bac534fb",
   "metadata": {
    "ExecuteTime": {
     "end_time": "2023-08-22T00:25:35.331386Z",
     "start_time": "2023-08-22T00:25:35.320954Z"
    }
   },
   "outputs": [
    {
     "name": "stdout",
     "output_type": "stream",
     "text": [
      "35\n"
     ]
    }
   ],
   "source": [
    "# 갯수: len(리스트)\n",
    "print(len(keyword.kwlist))"
   ]
  },
  {
   "cell_type": "markdown",
   "id": "b3ee8dfa",
   "metadata": {},
   "source": [
    "## 들여쓰기와 공백\n",
    "\n",
    "1. 들여쓰기(Indent): 파이썬에서 공백문자 4칸의 의미를 가진다."
   ]
  },
  {
   "cell_type": "code",
   "execution_count": 6,
   "id": "2356da58",
   "metadata": {
    "ExecuteTime": {
     "end_time": "2023-08-22T00:41:09.337078Z",
     "start_time": "2023-08-22T00:41:09.318635Z"
    }
   },
   "outputs": [
    {
     "name": "stdout",
     "output_type": "stream",
     "text": [
      "0\n",
      "1\n",
      "2\n",
      "3\n",
      "4\n",
      "5\n",
      "6\n",
      "7\n",
      "8\n",
      "9\n"
     ]
    }
   ],
   "source": [
    "for i in range(10):\n",
    "    print(i)"
   ]
  },
  {
   "cell_type": "code",
   "execution_count": 7,
   "id": "52fb8f84",
   "metadata": {
    "ExecuteTime": {
     "end_time": "2023-08-22T00:43:55.505893Z",
     "start_time": "2023-08-22T00:43:55.498869Z"
    }
   },
   "outputs": [],
   "source": [
    "a=3\n",
    "if a < 2:\n",
    "    a = 4\n",
    "    print(a)"
   ]
  },
  {
   "cell_type": "code",
   "execution_count": 8,
   "id": "342dbe6c",
   "metadata": {
    "ExecuteTime": {
     "end_time": "2023-08-22T00:44:31.042492Z",
     "start_time": "2023-08-22T00:44:31.037961Z"
    }
   },
   "outputs": [
    {
     "name": "stdout",
     "output_type": "stream",
     "text": [
      "3\n"
     ]
    }
   ],
   "source": [
    "a=3\n",
    "if a<2:\n",
    "    a=4\n",
    "print(a)"
   ]
  },
  {
   "cell_type": "markdown",
   "id": "d6211e6e",
   "metadata": {},
   "source": [
    "## 주석(comment)\n",
    "\n",
    "- **주석** 은 프로그램 실행과는 상관없이 설명을 담기 위해 사용하는 구문\n",
    "- 기호: '#'"
   ]
  },
  {
   "cell_type": "code",
   "execution_count": 9,
   "id": "6b383cb9",
   "metadata": {
    "ExecuteTime": {
     "end_time": "2023-08-22T00:48:32.962221Z",
     "start_time": "2023-08-22T00:48:32.944484Z"
    }
   },
   "outputs": [],
   "source": [
    "# 이것이 한 줄 주석"
   ]
  },
  {
   "cell_type": "code",
   "execution_count": 10,
   "id": "93f7c8f5",
   "metadata": {
    "ExecuteTime": {
     "end_time": "2023-08-22T00:49:45.558650Z",
     "start_time": "2023-08-22T00:49:45.536545Z"
    }
   },
   "outputs": [
    {
     "data": {
      "text/plain": [
       "'\\n이 부분부터 여러줄 주석으로 처리합니다. 단, 문자열을 입력할 때도 여러줄의\\n문자열을 입력할 때 동일하기 때문에 일반 주석과 달리 출력이 됩니다.\\n이 점을 이해하세요\\n'"
      ]
     },
     "execution_count": 10,
     "metadata": {},
     "output_type": "execute_result"
    }
   ],
   "source": [
    "\"\"\"\n",
    "이 부분부터 여러줄 주석으로 처리합니다. 단, 문자열을 입력할 때도 여러줄의\n",
    "문자열을 입력할 때 동일하기 때문에 일반 주석과 달리 출력이 됩니다.\n",
    "이 점을 이해하세요\n",
    "\"\"\""
   ]
  },
  {
   "cell_type": "code",
   "execution_count": 11,
   "id": "83e16adc",
   "metadata": {
    "ExecuteTime": {
     "end_time": "2023-08-22T00:50:22.633193Z",
     "start_time": "2023-08-22T00:50:22.622389Z"
    }
   },
   "outputs": [
    {
     "data": {
      "text/plain": [
       "' 이것도 여러줄 주석에 사용됩니다.\\n위 코드와 마찬가지고 문자열을 여러개 입력할 때 사용하기 때문에\\n이 아이도 출력이 됩니다.\\n'"
      ]
     },
     "execution_count": 11,
     "metadata": {},
     "output_type": "execute_result"
    }
   ],
   "source": [
    "''' 이것도 여러줄 주석에 사용됩니다.\n",
    "위 코드와 마찬가지고 문자열을 여러개 입력할 때 사용하기 때문에\n",
    "이 아이도 출력이 됩니다.\n",
    "'''"
   ]
  },
  {
   "cell_type": "code",
   "execution_count": 12,
   "id": "eae585e6",
   "metadata": {
    "ExecuteTime": {
     "end_time": "2023-08-22T00:51:55.896146Z",
     "start_time": "2023-08-22T00:51:55.881693Z"
    }
   },
   "outputs": [],
   "source": [
    "# 영역 지정 후 Ctrl + /를 누르면 일괄적으로 주석처리가 된다.\n",
    "# 출력없이 여러 줄 주석을 담고 싶을 때\n",
    "# 각 문장의 앞에 일괄적으로 \n",
    "# 기호를 붙이면 됩니다."
   ]
  },
  {
   "cell_type": "code",
   "execution_count": null,
   "id": "3a905692",
   "metadata": {},
   "outputs": [],
   "source": []
  }
 ],
 "metadata": {
  "kernelspec": {
   "display_name": "Python 3",
   "language": "python",
   "name": "python3"
  },
  "language_info": {
   "codemirror_mode": {
    "name": "ipython",
    "version": 3
   },
   "file_extension": ".py",
   "mimetype": "text/x-python",
   "name": "python",
   "nbconvert_exporter": "python",
   "pygments_lexer": "ipython3",
   "version": "3.8.8"
  },
  "toc": {
   "base_numbering": 1,
   "nav_menu": {
    "height": "140.99px",
    "width": "283.229px"
   },
   "number_sections": true,
   "sideBar": true,
   "skip_h1_title": false,
   "title_cell": "Table of Contents",
   "title_sidebar": "Contents",
   "toc_cell": false,
   "toc_position": {
    "height": "calc(100% - 180px)",
    "left": "10px",
    "top": "150px",
    "width": "384px"
   },
   "toc_section_display": true,
   "toc_window_display": true
  }
 },
 "nbformat": 4,
 "nbformat_minor": 5
}
