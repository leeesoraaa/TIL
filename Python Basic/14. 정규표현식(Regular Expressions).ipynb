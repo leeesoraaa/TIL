{
 "cells": [
  {
   "cell_type": "markdown",
   "id": "71a92382",
   "metadata": {},
   "source": [
    "# Regular Expressions(정규 표현식)\n",
    "- 복잡한 문자열을 처리할 때 사용하는 기법\n",
    "- 모든 언어에서 문자열을 처리할 때 공통으로 사용\n",
    "- 예: 주민등록번호의 뒷자리를 * 문자로 변경"
   ]
  },
  {
   "cell_type": "markdown",
   "id": "e8a06fec",
   "metadata": {},
   "source": [
    "## 정규 표현식을 사용하지 않는 예"
   ]
  },
  {
   "cell_type": "code",
   "execution_count": 2,
   "id": "d0ed6d5f",
   "metadata": {
    "ExecuteTime": {
     "end_time": "2023-08-29T01:24:40.464191Z",
     "start_time": "2023-08-29T01:24:40.440016Z"
    }
   },
   "outputs": [
    {
     "name": "stdout",
     "output_type": "stream",
     "text": [
      "\n",
      "Park 800904-*******\n",
      "Kim 700905-*******\n",
      "Lee 880203-*******\n",
      "Hong 901105-*******\n",
      "Jang 020319-*******\n",
      "\n"
     ]
    }
   ],
   "source": [
    "data = \"\"\"\n",
    "Park 800904-1049118\n",
    "Kim 700905-1059119\n",
    "Lee 880203-2110537\n",
    "Hong 901105-1234567\n",
    "Jang 020319-2205147\n",
    "\"\"\"\n",
    "\n",
    "result = []\n",
    "# 전체 텍스트를 공백 문자로 나눈다. split\n",
    "for line in data.split('\\n'):  # data를 줄단위로 가져옴\n",
    "    word_result = []\n",
    "    for word in line.split(' '):  # line을 공백단위로 가져옴        \n",
    "# 나누어진 단어가 주민등록번호형식인지를 조사\n",
    "        if len(word) == 14 and word[:6].isdigit() and word[7:].isdigit():  # digit: 숫자            \n",
    "# 주민등록번호 형식이라면 뒷자리를 '*'로 변환\n",
    "            word = word[:6] + \"-\" + \"*******\"        \n",
    "# 나누어진 단어를 다시 합치는 작업\n",
    "        word_result.append(word)\n",
    "    result.append(\" \".join(word_result))\n",
    "    \n",
    "print(\"\\n\".join(result))"
   ]
  },
  {
   "cell_type": "markdown",
   "id": "5a54a04e",
   "metadata": {},
   "source": [
    "## 정규 표현식을 이용한 예"
   ]
  },
  {
   "cell_type": "code",
   "execution_count": 3,
   "id": "fd713bb7",
   "metadata": {
    "ExecuteTime": {
     "end_time": "2023-08-29T01:28:07.721896Z",
     "start_time": "2023-08-29T01:28:07.708042Z"
    }
   },
   "outputs": [
    {
     "name": "stdout",
     "output_type": "stream",
     "text": [
      "\n",
      "Park 800904-*******\n",
      "Kim 700905-*******\n",
      "Lee 880203-*******\n",
      "Hong 901105-*******\n",
      "Jang 020319-*******\n",
      "\n"
     ]
    }
   ],
   "source": [
    "# 정규 표현식을 위한 re 모듈 포함\n",
    "import re\n",
    "\n",
    "data = \"\"\"\n",
    "Park 800904-1049118\n",
    "Kim 700905-1059119\n",
    "Lee 880203-2110537\n",
    "Hong 901105-1234567\n",
    "Jang 020319-2205147\n",
    "\"\"\"\n",
    "\n",
    "pat = re.compile(\"(\\d{6})[-]\\d{7}\")\n",
    "print(pat.sub(\"\\g<1>-*******\", data))"
   ]
  },
  {
   "cell_type": "markdown",
   "id": "15b20c91",
   "metadata": {},
   "source": [
    "# 메타 문자(Meta Character)\n",
    "- 원래 그 문자의 의미가 아니라 특별한 의미를 가진 문자\n",
    "- 종류: ., ^, $, *, +, ?, {}, [], \\, |, ()"
   ]
  },
  {
   "cell_type": "code",
   "execution_count": 4,
   "id": "98845811",
   "metadata": {
    "ExecuteTime": {
     "end_time": "2023-08-29T01:35:45.391501Z",
     "start_time": "2023-08-29T01:35:45.378544Z"
    }
   },
   "outputs": [],
   "source": [
    "# 메타문자: []\n",
    "## [abc]: a,b,c 중 한 개라도 문자와 매칭하는지 \n",
    "## [a-e]: [abcde]\n",
    "## [0-4]: [01234]\n",
    "## [a-zA-Z]: 모든 알파벳\n",
    "## [0-9]: 모든 숫자\n",
    "## ^: not\n",
    "## [^0-9]: 숫자가 아닌 문자\n",
    "## .(dot): a.b == \"a + 모든 문자 + b\""
   ]
  },
  {
   "cell_type": "code",
   "execution_count": 8,
   "id": "f1a894ba",
   "metadata": {
    "ExecuteTime": {
     "end_time": "2023-08-29T01:41:35.235442Z",
     "start_time": "2023-08-29T01:41:35.228443Z"
    }
   },
   "outputs": [
    {
     "name": "stdout",
     "output_type": "stream",
     "text": [
      "[]\n",
      "['kim']\n",
      "['m', 'm']\n"
     ]
    }
   ],
   "source": [
    "string = \"My id number is kim0902\"\n",
    "\n",
    "# 특정 패턴에 해당하는 문자를 찾는 작업\n",
    "## findall(\"패턴\", 문자열)  -- 문자열에 패턴과 일치하는 모든 문자를 찾는 함수\n",
    "a = re.findall(\"a\", string) \n",
    "print(a)\n",
    "\n",
    "b = re.findall(\"kim\", string)  \n",
    "print(b)\n",
    "\n",
    "c = re.findall(\"m\", string)  \n",
    "print(c)"
   ]
  },
  {
   "cell_type": "code",
   "execution_count": 11,
   "id": "9c08f966",
   "metadata": {
    "ExecuteTime": {
     "end_time": "2023-08-29T01:45:41.097191Z",
     "start_time": "2023-08-29T01:45:41.088025Z"
    }
   },
   "outputs": [
    {
     "name": "stdout",
     "output_type": "stream",
     "text": [
      "['y', 'i', 'd', 'u', 'm', 'b', 'e', 'r', 'i', 's']\n",
      "['y', 'id', 'umber', 'is']\n",
      "['M', 'N', 'K', 'I', 'M']\n",
      "['M', 'N', 'KIM']\n"
     ]
    }
   ],
   "source": [
    "string = \"My id Number is KIM0902\"\n",
    "\n",
    "# 모든 소문자를 찾아서 글자단위 리스트로 반환\n",
    "a = re.findall(\"[a-z]\", string)\n",
    "print(a)\n",
    "\n",
    "# 단어 단위(대문자는 제외)로 찾는 작업\n",
    "b = re.findall(\"[a-z]+\", string)\n",
    "print(b)\n",
    "\n",
    "# 대문자를 글자단위로 찾는 작업\n",
    "c = re.findall(\"[A-Z]\", string)\n",
    "print(c)\n",
    "\n",
    "# 대문자를 단어 단위로 찾는 작업\n",
    "d = re.findall(\"[A-Z]+\", string)\n",
    "print(d)"
   ]
  },
  {
   "cell_type": "code",
   "execution_count": 14,
   "id": "5c35ca79",
   "metadata": {
    "ExecuteTime": {
     "end_time": "2023-08-29T01:53:58.182871Z",
     "start_time": "2023-08-29T01:53:58.172355Z"
    }
   },
   "outputs": [
    {
     "name": "stdout",
     "output_type": "stream",
     "text": [
      "['M', 'y', 'i', 'd', 'n', 'u', 'm', 'b', 'e', 'r', 'i', 's', 'k', 'i', 'm', 'w', '0', '5', '0', '2']\n",
      "['My', 'id', 'number', 'is', 'kimw', '0502']\n",
      "[' ', ' ', ' ', ' ', '_', '$', '%']\n",
      "['M', 'y', 'i', 'd', 'n', 'u', 'm', 'b', 'e', 'r', 'i', 's', 'k', 'i', 'm', 'w', '_', '0', '5', '0', '2']\n",
      "['My', 'id', 'number', 'is', 'kimw_0502']\n",
      "[' ', ' ', ' ', ' ', '$', '%']\n"
     ]
    }
   ],
   "source": [
    "string = \"My id number is kimw_0502$%\"\n",
    "\n",
    "# 영문자와 숫자로만 이루어진 글자 찾기\n",
    "a = re.findall(\"[a-zA-Z0-9]\",string)\n",
    "print(a)\n",
    "\n",
    "# 영문자와 숫자로만 이루어진 단어 찾기\n",
    "b = re.findall(\"[a-zA-Z0-9]+\",string)  # 특수문자 제외 \n",
    "print(b)\n",
    "\n",
    "# 영문자와 숫자가 글자 찾기\n",
    "c = re.findall(\"[^a-zA-Z0-9]\",string)\n",
    "print(c)\n",
    "\n",
    "# \\w: 영문자와 숫자\n",
    "d = re.findall(\"[\\w]\",string)\n",
    "print(d)\n",
    "\n",
    "e = re.findall(\"[\\w]+\",string)\n",
    "print(e)\n",
    "\n",
    "# \\W: 영문자와 숫자 그리고 언더바(_) 가 아닌 경우\n",
    "f = re.findall(\"[\\W]\",string)\n",
    "print(f)\n"
   ]
  },
  {
   "cell_type": "code",
   "execution_count": 15,
   "id": "17877098",
   "metadata": {
    "ExecuteTime": {
     "end_time": "2023-08-29T02:06:55.684955Z",
     "start_time": "2023-08-29T02:06:55.669301Z"
    }
   },
   "outputs": [],
   "source": [
    "# 비밀번호 체크하는 함수 구현\n",
    "## 문자의 길이는 6~12 이내\n",
    "## 영문자 대소문자와 숫자를 모두 포함\n",
    "\n",
    "def check_pass(pwd):\n",
    "    \n",
    "    # 글자수 체크\n",
    "    if len(pwd) < 6 or len(pwd) > 12:\n",
    "        print(f\"입력받은 {pwd}는 길이가 적당하지 않습니다.\")\n",
    "        return False\n",
    "    # 영문자와 숫자로만 구성\n",
    "    if re.findall(\"[a-zA-Z0-9]+\", pwd)[0] != pwd:\n",
    "        print(f\"{pwd}는 영문자와 숫자로만 이루어져야 합니다.\")\n",
    "        return False\n",
    "    \n",
    "    # 영문자의 소문자, 대문자는 적어도 한 글자는 포함되어야 한다.\n",
    "    if len(re.findall(\"[a-z]\", pwd)) == 0 or len(re.findall(\"[A-Z]\",pwd)) == 0:\n",
    "        print(f\"{pwd}는 적어도 하나의 대,소문자를 포함해야 합니다.\")\n",
    "        return False\n",
    "    \n",
    "    # 올바른 비밀번호 형식일 경우\n",
    "    print(\"비밀번호가 생성되었습니다.\")\n",
    "    return"
   ]
  },
  {
   "cell_type": "code",
   "execution_count": 16,
   "id": "53197751",
   "metadata": {
    "ExecuteTime": {
     "end_time": "2023-08-29T02:07:14.014364Z",
     "start_time": "2023-08-29T02:07:14.001539Z"
    }
   },
   "outputs": [
    {
     "name": "stdout",
     "output_type": "stream",
     "text": [
      "입력받은 12abc는 길이가 적당하지 않습니다.\n"
     ]
    },
    {
     "data": {
      "text/plain": [
       "False"
      ]
     },
     "execution_count": 16,
     "metadata": {},
     "output_type": "execute_result"
    }
   ],
   "source": [
    "check_pass(\"12abc\")"
   ]
  },
  {
   "cell_type": "code",
   "execution_count": 17,
   "id": "1fe0b979",
   "metadata": {
    "ExecuteTime": {
     "end_time": "2023-08-29T02:07:37.523176Z",
     "start_time": "2023-08-29T02:07:37.506375Z"
    }
   },
   "outputs": [
    {
     "name": "stdout",
     "output_type": "stream",
     "text": [
      "123abc는 적어도 하나의 대,소문자를 포함해야 합니다.\n"
     ]
    },
    {
     "data": {
      "text/plain": [
       "False"
      ]
     },
     "execution_count": 17,
     "metadata": {},
     "output_type": "execute_result"
    }
   ],
   "source": [
    "check_pass(\"123abc\")"
   ]
  },
  {
   "cell_type": "code",
   "execution_count": 18,
   "id": "42314af7",
   "metadata": {
    "ExecuteTime": {
     "end_time": "2023-08-29T02:08:02.123304Z",
     "start_time": "2023-08-29T02:08:02.113318Z"
    }
   },
   "outputs": [
    {
     "name": "stdout",
     "output_type": "stream",
     "text": [
      "*1234abC는 영문자와 숫자로만 이루어져야 합니다.\n"
     ]
    },
    {
     "data": {
      "text/plain": [
       "False"
      ]
     },
     "execution_count": 18,
     "metadata": {},
     "output_type": "execute_result"
    }
   ],
   "source": [
    "check_pass(\"*1234abC\")"
   ]
  },
  {
   "cell_type": "code",
   "execution_count": 19,
   "id": "fb8767a6",
   "metadata": {
    "ExecuteTime": {
     "end_time": "2023-08-29T02:08:20.332194Z",
     "start_time": "2023-08-29T02:08:20.320130Z"
    }
   },
   "outputs": [
    {
     "name": "stdout",
     "output_type": "stream",
     "text": [
      "비밀번호가 생성되었습니다.\n"
     ]
    }
   ],
   "source": [
    "check_pass(\"Leesora1\")"
   ]
  },
  {
   "cell_type": "code",
   "execution_count": 31,
   "id": "d1888253",
   "metadata": {
    "ExecuteTime": {
     "end_time": "2023-08-29T02:35:24.892460Z",
     "start_time": "2023-08-29T02:35:24.879298Z"
    }
   },
   "outputs": [],
   "source": [
    "# 이메일 체크 함수\n",
    "## 첫글자는 영문자의 소문자와 숫자로 이루어지되 2글자 이상이어야 함\n",
    "## 문자열 사이에 @를 포함하여야 함\n",
    "## 마지막은 반드시 .와 함께 영문자 그리고 2글자 이상으로 끝나야 함\n",
    "\n",
    "def email_check(email):\n",
    "    # ^[]: 시작, ^[a-z] - 시작은 반드시 영문자 소문자여야 한다는 의미\n",
    "    # [^ ]: 제외, [^a-z] - 영문자의 소문자를 포함하지 않아야 한다는 의미\n",
    "    # {n}: n개 반복, {2} - 두 글자, {2, } - 두 글자 이상\n",
    "    # {n, m}: 최소 n개, 최대 m개 반복, \\d{3, 5} 숫자가 적어도 3개, 많게는 5개까지 포함\n",
    "    # []$: 해당 패턴으로 종료되어야 함\n",
    "    # \\문자: 해당 문자는 반드시 포함\n",
    "    exp = re.findall(\"^[a-z0-9]{2,}@[a-z0-9]{2,}\\.[a-z]{2,}$\",email)\n",
    "    \n",
    "    if len(exp) == 0:\n",
    "        print(email, \"의 형식이 올바르지 않습니다.\")\n",
    "        return\n",
    "    else:\n",
    "        print(\"이메일이 생성되었습니다.\")\n",
    "        return"
   ]
  },
  {
   "cell_type": "code",
   "execution_count": 32,
   "id": "f9f5b5fe",
   "metadata": {
    "ExecuteTime": {
     "end_time": "2023-08-29T02:35:26.170612Z",
     "start_time": "2023-08-29T02:35:26.161892Z"
    }
   },
   "outputs": [
    {
     "name": "stdout",
     "output_type": "stream",
     "text": [
      "lee@1234 의 형식이 올바르지 않습니다.\n"
     ]
    }
   ],
   "source": [
    "email_check(\"lee@1234\")"
   ]
  },
  {
   "cell_type": "code",
   "execution_count": 33,
   "id": "21488d44",
   "metadata": {
    "ExecuteTime": {
     "end_time": "2023-08-29T02:35:26.782287Z",
     "start_time": "2023-08-29T02:35:26.771957Z"
    }
   },
   "outputs": [
    {
     "name": "stdout",
     "output_type": "stream",
     "text": [
      "lee_123.kkk 의 형식이 올바르지 않습니다.\n"
     ]
    }
   ],
   "source": [
    "email_check(\"lee_123.kkk\")"
   ]
  },
  {
   "cell_type": "code",
   "execution_count": 34,
   "id": "33f7eef8",
   "metadata": {
    "ExecuteTime": {
     "end_time": "2023-08-29T02:35:28.022429Z",
     "start_time": "2023-08-29T02:35:28.006900Z"
    }
   },
   "outputs": [
    {
     "name": "stdout",
     "output_type": "stream",
     "text": [
      "이메일이 생성되었습니다.\n"
     ]
    }
   ],
   "source": [
    "email_check(\"lsr123@nav123.com\")"
   ]
  },
  {
   "cell_type": "code",
   "execution_count": null,
   "id": "b0fa1c3f",
   "metadata": {},
   "outputs": [],
   "source": []
  }
 ],
 "metadata": {
  "kernelspec": {
   "display_name": "Python 3",
   "language": "python",
   "name": "python3"
  },
  "language_info": {
   "codemirror_mode": {
    "name": "ipython",
    "version": 3
   },
   "file_extension": ".py",
   "mimetype": "text/x-python",
   "name": "python",
   "nbconvert_exporter": "python",
   "pygments_lexer": "ipython3",
   "version": "3.8.8"
  },
  "toc": {
   "base_numbering": 1,
   "nav_menu": {},
   "number_sections": true,
   "sideBar": true,
   "skip_h1_title": false,
   "title_cell": "Table of Contents",
   "title_sidebar": "Contents",
   "toc_cell": false,
   "toc_position": {},
   "toc_section_display": true,
   "toc_window_display": false
  }
 },
 "nbformat": 4,
 "nbformat_minor": 5
}
