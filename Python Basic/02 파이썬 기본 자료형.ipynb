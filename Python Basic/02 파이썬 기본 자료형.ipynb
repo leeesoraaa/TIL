{
 "cells": [
  {
   "cell_type": "markdown",
   "id": "c2c609f7",
   "metadata": {},
   "source": [
    "# 기본 자료형"
   ]
  },
  {
   "cell_type": "markdown",
   "id": "4f632560",
   "metadata": {},
   "source": [
    "## 정수형(integer, int)"
   ]
  },
  {
   "cell_type": "code",
   "execution_count": 3,
   "id": "7b2c563d",
   "metadata": {
    "ExecuteTime": {
     "end_time": "2023-08-22T01:07:41.863008Z",
     "start_time": "2023-08-22T01:07:41.843278Z"
    }
   },
   "outputs": [
    {
     "name": "stdout",
     "output_type": "stream",
     "text": [
      "<class 'int'>\n",
      "<class 'float'>\n",
      "<class 'str'>\n"
     ]
    }
   ],
   "source": [
    "# 변수(variable): 변하는 수, 기억공간, 동적 자료형 == 동적 타이핑\n",
    "a = 13\n",
    "print(type(a))\n",
    "a = 3.14\n",
    "print(type(a))\n",
    "a = \"python\"\n",
    "print(type(a))"
   ]
  },
  {
   "cell_type": "markdown",
   "id": "04f2327d",
   "metadata": {},
   "source": [
    "## 실수형(float, double)\n",
    "- 소숫점을 포함한 숫자 자료형\n",
    "- 지수 표현 방식대로 표현할 수 있다."
   ]
  },
  {
   "cell_type": "code",
   "execution_count": 4,
   "id": "5f3416df",
   "metadata": {
    "ExecuteTime": {
     "end_time": "2023-08-22T01:09:42.633804Z",
     "start_time": "2023-08-22T01:09:42.627906Z"
    }
   },
   "outputs": [
    {
     "name": "stdout",
     "output_type": "stream",
     "text": [
      "2.5 -1.5\n"
     ]
    }
   ],
   "source": [
    "a = 2.5\n",
    "b = - 1.5\n",
    "print(a,b) # comma(,): 열거 연산자"
   ]
  },
  {
   "cell_type": "code",
   "execution_count": 6,
   "id": "a993804b",
   "metadata": {
    "ExecuteTime": {
     "end_time": "2023-08-22T01:11:21.225840Z",
     "start_time": "2023-08-22T01:11:21.204561Z"
    }
   },
   "outputs": [
    {
     "name": "stdout",
     "output_type": "stream",
     "text": [
      "12000000000.0 4.5e-10\n"
     ]
    }
   ],
   "source": [
    "a = 1.2E10\n",
    "b = 4.5e-10\n",
    "print(a,b)"
   ]
  },
  {
   "cell_type": "code",
   "execution_count": 7,
   "id": "3ec408cb",
   "metadata": {
    "ExecuteTime": {
     "end_time": "2023-08-22T01:11:55.524996Z",
     "start_time": "2023-08-22T01:11:55.506928Z"
    }
   },
   "outputs": [
    {
     "data": {
      "text/plain": [
       "0.1"
      ]
     },
     "execution_count": 7,
     "metadata": {},
     "output_type": "execute_result"
    }
   ],
   "source": [
    "# 실수 표현 시 정수부의 값이 0일 경우 생략한다.\n",
    "0.1"
   ]
  },
  {
   "cell_type": "code",
   "execution_count": 8,
   "id": "ecb9f3a9",
   "metadata": {
    "ExecuteTime": {
     "end_time": "2023-08-22T01:12:00.233325Z",
     "start_time": "2023-08-22T01:12:00.217383Z"
    }
   },
   "outputs": [
    {
     "data": {
      "text/plain": [
       "0.1"
      ]
     },
     "execution_count": 8,
     "metadata": {},
     "output_type": "execute_result"
    }
   ],
   "source": [
    ".1"
   ]
  },
  {
   "cell_type": "code",
   "execution_count": 9,
   "id": "cf9ca06c",
   "metadata": {
    "ExecuteTime": {
     "end_time": "2023-08-22T01:17:20.131837Z",
     "start_time": "2023-08-22T01:17:20.118607Z"
    }
   },
   "outputs": [
    {
     "data": {
      "text/plain": [
       "int"
      ]
     },
     "execution_count": 9,
     "metadata": {},
     "output_type": "execute_result"
    }
   ],
   "source": [
    "# 자료형을 확인하는 함수 type()\n",
    "type(10)"
   ]
  },
  {
   "cell_type": "code",
   "execution_count": 10,
   "id": "9b9712dc",
   "metadata": {
    "ExecuteTime": {
     "end_time": "2023-08-22T01:17:30.120719Z",
     "start_time": "2023-08-22T01:17:30.104802Z"
    }
   },
   "outputs": [
    {
     "data": {
      "text/plain": [
       "float"
      ]
     },
     "execution_count": 10,
     "metadata": {},
     "output_type": "execute_result"
    }
   ],
   "source": [
    "type(10.0)"
   ]
  },
  {
   "cell_type": "markdown",
   "id": "4b0497a7",
   "metadata": {},
   "source": [
    "### 부동소수점(floating format point) 오차\n",
    "- 1보다 작은 수의 경우 십진법으로 표현하면 간단하지만 이진법으로는 무한개의 유효숫자를 가짐"
   ]
  },
  {
   "cell_type": "code",
   "execution_count": 18,
   "id": "a8a6be8a",
   "metadata": {
    "ExecuteTime": {
     "end_time": "2023-08-22T01:40:50.184159Z",
     "start_time": "2023-08-22T01:40:50.180174Z"
    }
   },
   "outputs": [
    {
     "data": {
      "text/plain": [
       "'%.55f'"
      ]
     },
     "execution_count": 18,
     "metadata": {},
     "output_type": "execute_result"
    }
   ],
   "source": [
    "# 매직명령어(magic command)\n",
    "## 소숫점 자릿수를 55자리까지 표현\n",
    "%precision 55"
   ]
  },
  {
   "cell_type": "code",
   "execution_count": 19,
   "id": "9d0f71b3",
   "metadata": {
    "ExecuteTime": {
     "end_time": "2023-08-22T01:41:08.601045Z",
     "start_time": "2023-08-22T01:41:08.589158Z"
    }
   },
   "outputs": [
    {
     "data": {
      "text/plain": [
       "0.1000000000000000055511151231257827021181583404541015625"
      ]
     },
     "execution_count": 19,
     "metadata": {},
     "output_type": "execute_result"
    }
   ],
   "source": [
    "0.1"
   ]
  },
  {
   "cell_type": "code",
   "execution_count": 17,
   "id": "c6c5b181",
   "metadata": {
    "ExecuteTime": {
     "end_time": "2023-08-22T01:39:31.597413Z",
     "start_time": "2023-08-22T01:39:31.587512Z"
    }
   },
   "outputs": [
    {
     "data": {
      "text/plain": [
       "False"
      ]
     },
     "execution_count": 17,
     "metadata": {},
     "output_type": "execute_result"
    }
   ],
   "source": [
    "0.1 + 0.2 == 0.3"
   ]
  },
  {
   "cell_type": "code",
   "execution_count": 20,
   "id": "886b2d55",
   "metadata": {
    "ExecuteTime": {
     "end_time": "2023-08-22T01:41:48.793621Z",
     "start_time": "2023-08-22T01:41:48.773573Z"
    }
   },
   "outputs": [
    {
     "data": {
      "text/plain": [
       "0.3000000000000000444089209850062616169452667236328125000"
      ]
     },
     "execution_count": 20,
     "metadata": {},
     "output_type": "execute_result"
    }
   ],
   "source": [
    "0.1 + 0.2"
   ]
  },
  {
   "cell_type": "code",
   "execution_count": 22,
   "id": "58414285",
   "metadata": {
    "ExecuteTime": {
     "end_time": "2023-08-22T01:42:57.280732Z",
     "start_time": "2023-08-22T01:42:57.260191Z"
    }
   },
   "outputs": [
    {
     "data": {
      "text/plain": [
       "True"
      ]
     },
     "execution_count": 22,
     "metadata": {},
     "output_type": "execute_result"
    }
   ],
   "source": [
    "round(0.1 + 0.2, 5) == round(0.3, 5)"
   ]
  },
  {
   "cell_type": "code",
   "execution_count": 23,
   "id": "aa955d8a",
   "metadata": {
    "ExecuteTime": {
     "end_time": "2023-08-22T01:44:06.925433Z",
     "start_time": "2023-08-22T01:44:06.918394Z"
    }
   },
   "outputs": [
    {
     "data": {
      "text/plain": [
       "'%r'"
      ]
     },
     "execution_count": 23,
     "metadata": {},
     "output_type": "execute_result"
    }
   ],
   "source": [
    "%precision %r"
   ]
  },
  {
   "cell_type": "markdown",
   "id": "bdc4220e",
   "metadata": {},
   "source": [
    "## 복소수형\n",
    "- $ a + bi $ 으로 표현한다.\n",
    "- 파이썬에서는 i 대신 j를 사용한다."
   ]
  },
  {
   "cell_type": "code",
   "execution_count": 11,
   "id": "a3e84e72",
   "metadata": {
    "ExecuteTime": {
     "end_time": "2023-08-22T01:20:34.651903Z",
     "start_time": "2023-08-22T01:20:34.635830Z"
    }
   },
   "outputs": [],
   "source": [
    "a = 1 + 2j"
   ]
  },
  {
   "cell_type": "code",
   "execution_count": 14,
   "id": "847bc017",
   "metadata": {
    "ExecuteTime": {
     "end_time": "2023-08-22T01:23:47.106993Z",
     "start_time": "2023-08-22T01:23:47.096630Z"
    }
   },
   "outputs": [
    {
     "name": "stdout",
     "output_type": "stream",
     "text": [
      "1.0\n",
      "2.0\n"
     ]
    }
   ],
   "source": [
    "# 실수부와 허수부를 출력하는 함수\n",
    "print(a.real) # 실수부\n",
    "print(a.imag) # 허수부"
   ]
  },
  {
   "cell_type": "markdown",
   "id": "5dd1d343",
   "metadata": {},
   "source": [
    "## 8진수, 16진수\n",
    "- 일반적으로 사람은 10진수(0~9)\n",
    "- 컴퓨터는 2진수(0,1)\n",
    "- 8진수(0~7): 숫자 앞에 0o(숫자0 + 알파벳o)\n",
    "- 16진수(0~9, a, b, c, d, e, f): 숫자 앞에 0x"
   ]
  },
  {
   "cell_type": "code",
   "execution_count": 15,
   "id": "f1871ad7",
   "metadata": {
    "ExecuteTime": {
     "end_time": "2023-08-22T01:28:04.385286Z",
     "start_time": "2023-08-22T01:28:04.376050Z"
    }
   },
   "outputs": [
    {
     "name": "stdout",
     "output_type": "stream",
     "text": [
      "10 52\n"
     ]
    }
   ],
   "source": [
    "x = 0o12  # 8진수 12\n",
    "y = 0x34  # 16진수 34\n",
    "print(x,y) # 10진수로 출력"
   ]
  },
  {
   "cell_type": "markdown",
   "id": "f2f2f79a",
   "metadata": {},
   "source": [
    "## 자료형 변환\n",
    "\n",
    "- casting(강제 형변환, 명시적 형변환)\n",
    "- promotion(자동 형변환, 묵시적 형변환)"
   ]
  },
  {
   "cell_type": "code",
   "execution_count": 24,
   "id": "e3de67cf",
   "metadata": {
    "ExecuteTime": {
     "end_time": "2023-08-22T01:48:02.002773Z",
     "start_time": "2023-08-22T01:48:01.994721Z"
    }
   },
   "outputs": [
    {
     "data": {
      "text/plain": [
       "1"
      ]
     },
     "execution_count": 24,
     "metadata": {},
     "output_type": "execute_result"
    }
   ],
   "source": [
    "int(1.0) # 실수를 정수로 변환(강제 형변환)"
   ]
  },
  {
   "cell_type": "code",
   "execution_count": 25,
   "id": "267e66c7",
   "metadata": {
    "ExecuteTime": {
     "end_time": "2023-08-22T01:48:28.557664Z",
     "start_time": "2023-08-22T01:48:28.550611Z"
    }
   },
   "outputs": [
    {
     "data": {
      "text/plain": [
       "1.0"
      ]
     },
     "execution_count": 25,
     "metadata": {},
     "output_type": "execute_result"
    }
   ],
   "source": [
    "float(1) # 정수를 실수로 변환"
   ]
  },
  {
   "cell_type": "code",
   "execution_count": 26,
   "id": "8ab75551",
   "metadata": {
    "ExecuteTime": {
     "end_time": "2023-08-22T01:48:53.523876Z",
     "start_time": "2023-08-22T01:48:53.511883Z"
    }
   },
   "outputs": [
    {
     "data": {
      "text/plain": [
       "3"
      ]
     },
     "execution_count": 26,
     "metadata": {},
     "output_type": "execute_result"
    }
   ],
   "source": [
    "int(3.14) # 강제 형변환은 소수점 뒤를 무조건 버림"
   ]
  },
  {
   "cell_type": "code",
   "execution_count": 27,
   "id": "9c4ec7f5",
   "metadata": {
    "ExecuteTime": {
     "end_time": "2023-08-22T01:50:30.632086Z",
     "start_time": "2023-08-22T01:50:30.617050Z"
    }
   },
   "outputs": [],
   "source": [
    "# NaN과 Inf\n",
    "## NaN: Not a Number, 숫자가 아닌 것\n",
    "## Inf: Infinity, 무한대"
   ]
  },
  {
   "cell_type": "code",
   "execution_count": 28,
   "id": "d3e135d4",
   "metadata": {
    "ExecuteTime": {
     "end_time": "2023-08-22T01:50:50.502477Z",
     "start_time": "2023-08-22T01:50:50.492443Z"
    }
   },
   "outputs": [
    {
     "data": {
      "text/plain": [
       "nan"
      ]
     },
     "execution_count": 28,
     "metadata": {},
     "output_type": "execute_result"
    }
   ],
   "source": [
    "float(\"NaN\") # 문자지만 숫자 값을 가지고 있어서 가능"
   ]
  },
  {
   "cell_type": "code",
   "execution_count": 29,
   "id": "9bf704c7",
   "metadata": {
    "ExecuteTime": {
     "end_time": "2023-08-22T01:51:48.212930Z",
     "start_time": "2023-08-22T01:51:48.010001Z"
    }
   },
   "outputs": [
    {
     "ename": "ValueError",
     "evalue": "could not convert string to float: 'korea'",
     "output_type": "error",
     "traceback": [
      "\u001b[1;31m---------------------------------------------------------------------------\u001b[0m",
      "\u001b[1;31mValueError\u001b[0m                                Traceback (most recent call last)",
      "\u001b[1;32m<ipython-input-29-f0b6b398ad09>\u001b[0m in \u001b[0;36m<module>\u001b[1;34m\u001b[0m\n\u001b[1;32m----> 1\u001b[1;33m \u001b[0mfloat\u001b[0m\u001b[1;33m(\u001b[0m\u001b[1;34m\"korea\"\u001b[0m\u001b[1;33m)\u001b[0m \u001b[1;31m# error\u001b[0m\u001b[1;33m\u001b[0m\u001b[1;33m\u001b[0m\u001b[0m\n\u001b[0m",
      "\u001b[1;31mValueError\u001b[0m: could not convert string to float: 'korea'"
     ]
    }
   ],
   "source": [
    "float(\"korea\") # error"
   ]
  },
  {
   "cell_type": "code",
   "execution_count": 30,
   "id": "c8f51769",
   "metadata": {
    "ExecuteTime": {
     "end_time": "2023-08-22T01:51:59.731567Z",
     "start_time": "2023-08-22T01:51:59.725086Z"
    }
   },
   "outputs": [
    {
     "data": {
      "text/plain": [
       "inf"
      ]
     },
     "execution_count": 30,
     "metadata": {},
     "output_type": "execute_result"
    }
   ],
   "source": [
    "float(\"Inf\")"
   ]
  },
  {
   "cell_type": "code",
   "execution_count": 31,
   "id": "d632790d",
   "metadata": {
    "ExecuteTime": {
     "end_time": "2023-08-22T01:52:10.333803Z",
     "start_time": "2023-08-22T01:52:10.319771Z"
    }
   },
   "outputs": [
    {
     "data": {
      "text/plain": [
       "-inf"
      ]
     },
     "execution_count": 31,
     "metadata": {},
     "output_type": "execute_result"
    }
   ],
   "source": [
    "float(\"-Inf\")"
   ]
  },
  {
   "cell_type": "markdown",
   "id": "9638abec",
   "metadata": {},
   "source": [
    "## 산술연산"
   ]
  },
  {
   "cell_type": "code",
   "execution_count": 32,
   "id": "517c6fc8",
   "metadata": {
    "ExecuteTime": {
     "end_time": "2023-08-22T01:52:37.792715Z",
     "start_time": "2023-08-22T01:52:37.779682Z"
    }
   },
   "outputs": [
    {
     "data": {
      "text/plain": [
       "2"
      ]
     },
     "execution_count": 32,
     "metadata": {},
     "output_type": "execute_result"
    }
   ],
   "source": [
    "1 + 1"
   ]
  },
  {
   "cell_type": "markdown",
   "id": "cae0fcfc",
   "metadata": {},
   "source": [
    "### 연산자(Operator)\n",
    "\n",
    "- +, -, *, /(실수 몫), //(정수 몫), %(나머지), **(거듭제곱)"
   ]
  },
  {
   "cell_type": "code",
   "execution_count": 33,
   "id": "26b80dae",
   "metadata": {
    "ExecuteTime": {
     "end_time": "2023-08-22T01:54:53.442526Z",
     "start_time": "2023-08-22T01:54:53.429422Z"
    }
   },
   "outputs": [
    {
     "data": {
      "text/plain": [
       "6.0"
      ]
     },
     "execution_count": 33,
     "metadata": {},
     "output_type": "execute_result"
    }
   ],
   "source": [
    "30 / 5 # 실수 몫 출력"
   ]
  },
  {
   "cell_type": "code",
   "execution_count": 34,
   "id": "a94f987f",
   "metadata": {
    "ExecuteTime": {
     "end_time": "2023-08-22T01:55:24.929066Z",
     "start_time": "2023-08-22T01:55:24.916111Z"
    }
   },
   "outputs": [
    {
     "data": {
      "text/plain": [
       "6"
      ]
     },
     "execution_count": 34,
     "metadata": {},
     "output_type": "execute_result"
    }
   ],
   "source": [
    "30 // 5 # 정수 몫 출력"
   ]
  },
  {
   "cell_type": "code",
   "execution_count": 35,
   "id": "f20f8fd4",
   "metadata": {
    "ExecuteTime": {
     "end_time": "2023-08-22T01:55:45.880964Z",
     "start_time": "2023-08-22T01:55:45.866919Z"
    }
   },
   "outputs": [
    {
     "name": "stdout",
     "output_type": "stream",
     "text": [
      "243\n"
     ]
    }
   ],
   "source": [
    "print(3 * 3 * 3 * 3 * 3)"
   ]
  },
  {
   "cell_type": "code",
   "execution_count": 36,
   "id": "519d79dd",
   "metadata": {
    "ExecuteTime": {
     "end_time": "2023-08-22T01:55:52.988987Z",
     "start_time": "2023-08-22T01:55:52.979361Z"
    }
   },
   "outputs": [
    {
     "data": {
      "text/plain": [
       "243"
      ]
     },
     "execution_count": 36,
     "metadata": {},
     "output_type": "execute_result"
    }
   ],
   "source": [
    "3 ** 5 # 거듭제곱"
   ]
  },
  {
   "cell_type": "code",
   "execution_count": 37,
   "id": "d24d4a78",
   "metadata": {
    "ExecuteTime": {
     "end_time": "2023-08-22T01:56:07.723616Z",
     "start_time": "2023-08-22T01:56:07.717604Z"
    }
   },
   "outputs": [
    {
     "data": {
      "text/plain": [
       "2"
      ]
     },
     "execution_count": 37,
     "metadata": {},
     "output_type": "execute_result"
    }
   ],
   "source": [
    "7 // 3"
   ]
  },
  {
   "cell_type": "code",
   "execution_count": 38,
   "id": "6804d976",
   "metadata": {
    "ExecuteTime": {
     "end_time": "2023-08-22T01:56:29.369653Z",
     "start_time": "2023-08-22T01:56:29.357345Z"
    }
   },
   "outputs": [
    {
     "data": {
      "text/plain": [
       "1"
      ]
     },
     "execution_count": 38,
     "metadata": {},
     "output_type": "execute_result"
    }
   ],
   "source": [
    "7 % 3  # 나머지"
   ]
  },
  {
   "cell_type": "markdown",
   "id": "e1d783bb",
   "metadata": {},
   "source": [
    "## 논리연산과 관계연산(비교연산)\n",
    "\n",
    "- 관계연산자: >, >=, <, <=, !=, ==\n",
    "- 논리연산자: &(AND), |(OR), !(NOT)\n",
    "- 연산자의 결과는 반드시 참(T, True) 또는 거짓(F, False)"
   ]
  },
  {
   "cell_type": "markdown",
   "id": "ad310f20",
   "metadata": {},
   "source": [
    "# 변수(Variable)\n",
    "1. 변수명의 작성 규칙\n",
    "- 알파벳, 숫자, 밑줄(_)로 선언할 수 있다.\n",
    "- 첫글자는 영문자 대,소문자, 밑줄(_)로 시작한다.\n",
    "- 변수명은 의미있는 단어로 표현하는 것이 좋다.\n",
    "- 변수명은 대소문자가 구분된다.\n",
    "- 길이 제한이 없다.\n",
    "- 공백을 포함할 수 없다.\n",
    "- 예약어는 사용할 수 없다.\n",
    "\n",
    "2. 동적 타이핑(Dynamic Typing)\n",
    "- 변수의 메모리 공간을 확보하는 행위가 실행시점에서 발생하는 것\n",
    "- 일반적으로 C나 java 처럼 변수를 사용하기 전에 선언해야 하는 것은 정적 타이핑(static typing)"
   ]
  },
  {
   "cell_type": "code",
   "execution_count": 39,
   "id": "3aa099f9",
   "metadata": {
    "ExecuteTime": {
     "end_time": "2023-08-22T02:20:52.787238Z",
     "start_time": "2023-08-22T02:20:52.772268Z"
    }
   },
   "outputs": [],
   "source": [
    "# 형식: 변수 = 상수(리터널, 값), 변수, 함수식\n",
    "pi = 3.14159265 # float pi = 3.14159265"
   ]
  },
  {
   "cell_type": "code",
   "execution_count": 40,
   "id": "ce05211d",
   "metadata": {
    "ExecuteTime": {
     "end_time": "2023-08-22T02:21:03.805549Z",
     "start_time": "2023-08-22T02:21:03.791603Z"
    }
   },
   "outputs": [
    {
     "data": {
      "text/plain": [
       "3.14159265"
      ]
     },
     "execution_count": 40,
     "metadata": {},
     "output_type": "execute_result"
    }
   ],
   "source": [
    "pi"
   ]
  },
  {
   "cell_type": "code",
   "execution_count": 41,
   "id": "e642de6b",
   "metadata": {
    "ExecuteTime": {
     "end_time": "2023-08-22T02:22:35.849058Z",
     "start_time": "2023-08-22T02:22:35.842076Z"
    }
   },
   "outputs": [
    {
     "data": {
      "text/plain": [
       "10"
      ]
     },
     "execution_count": 41,
     "metadata": {},
     "output_type": "execute_result"
    }
   ],
   "source": [
    "a = 10\n",
    "a"
   ]
  },
  {
   "cell_type": "code",
   "execution_count": 42,
   "id": "7a386652",
   "metadata": {
    "ExecuteTime": {
     "end_time": "2023-08-22T02:28:07.210170Z",
     "start_time": "2023-08-22T02:28:07.203595Z"
    }
   },
   "outputs": [
    {
     "name": "stdout",
     "output_type": "stream",
     "text": [
      "원주율 :  3.14159265\n",
      "반지름 :  10\n",
      "원의 둘레 :  62.831853\n",
      "원의 면적 :  314.159265\n"
     ]
    }
   ],
   "source": [
    "# 원주율을 이용하여 반지름이 10인 원의 넓이와 둘레를 계산하여 출력하는 프로그램\n",
    "\n",
    "## 선언문 영역, 초기화 영역: 변수를 선언하고 변수에 처음 값을 담는 영역\n",
    "pi = 3.14159265\n",
    "r = 10\n",
    "\n",
    "## 입력문 영역: 변수에 값을 입력받는 영역\n",
    "\n",
    "## 처리문 영역, 명령어나 제어문을 통해 프로그램을 처리하는 영역\n",
    "\n",
    "## 출력문 영역\n",
    "print(\"원주율 : \", pi)\n",
    "print(\"반지름 : \", r)\n",
    "print(\"원의 둘레 : \", 2 * pi * r)\n",
    "print(\"원의 면적 : \", r * r * pi)"
   ]
  },
  {
   "cell_type": "markdown",
   "id": "faeb26c7",
   "metadata": {},
   "source": [
    "## 배정대입연산자 or 복합 대입연산자\n",
    "- 기본연산자와 대입연산자(=)을 함께 사용하는 것\n",
    "- 대입연산자(=) 좌우에 동일한 변수가 주어질 때 축약형으로 구현\n",
    "- 연산자 종류: +=, -=, *=, /=, %="
   ]
  },
  {
   "cell_type": "code",
   "execution_count": 43,
   "id": "5efc7d38",
   "metadata": {
    "ExecuteTime": {
     "end_time": "2023-08-22T02:31:41.487508Z",
     "start_time": "2023-08-22T02:31:41.475895Z"
    }
   },
   "outputs": [
    {
     "name": "stdout",
     "output_type": "stream",
     "text": [
      "x =  10\n",
      "x =  20\n"
     ]
    }
   ],
   "source": [
    "x = 10\n",
    "print(\"x = \", x)\n",
    "\n",
    "x += 10 # x = x + 10 을 의미\n",
    "print(\"x = \", x)"
   ]
  },
  {
   "cell_type": "code",
   "execution_count": 44,
   "id": "6f2ba023",
   "metadata": {
    "ExecuteTime": {
     "end_time": "2023-08-22T02:33:40.038506Z",
     "start_time": "2023-08-22T02:33:40.021048Z"
    }
   },
   "outputs": [
    {
     "name": "stdout",
     "output_type": "stream",
     "text": [
      "string: 안녕하세요!!\n"
     ]
    }
   ],
   "source": [
    "# 문자열에서 '+' 연산자는 연결 연산자, 문자열과 문자열을 연결할 때 사용한다.\n",
    "string = \"안녕하세요\"\n",
    "string += \"!\"\n",
    "string += \"!\"\n",
    "print(\"string:\", string)"
   ]
  },
  {
   "cell_type": "code",
   "execution_count": 45,
   "id": "ed429a59",
   "metadata": {
    "ExecuteTime": {
     "end_time": "2023-08-22T02:36:57.776060Z",
     "start_time": "2023-08-22T02:36:57.765594Z"
    }
   },
   "outputs": [
    {
     "name": "stdout",
     "output_type": "stream",
     "text": [
      "안녕하세요안녕하세요안녕하세요\n"
     ]
    }
   ],
   "source": [
    "# 문자열에서 '*' 연산자 반복연산자, 해당문자열을 주어진 반복 횟수만큼 반복처리한다.\n",
    "string = \"안녕하세요\"\n",
    "print(string * 3)"
   ]
  },
  {
   "cell_type": "code",
   "execution_count": 47,
   "id": "9ae1ea33",
   "metadata": {
    "ExecuteTime": {
     "end_time": "2023-08-22T03:07:16.239978Z",
     "start_time": "2023-08-22T03:07:16.229505Z"
    }
   },
   "outputs": [
    {
     "name": "stdout",
     "output_type": "stream",
     "text": [
      "HiHiHi\n"
     ]
    }
   ],
   "source": [
    "string = \"Hi\"\n",
    "string *= 3 # string = string * 3 의미를 가진다.\n",
    "print(string)"
   ]
  },
  {
   "cell_type": "markdown",
   "id": "f3f6e51f",
   "metadata": {},
   "source": [
    "# 문자열 자료형"
   ]
  },
  {
   "cell_type": "markdown",
   "id": "66489649",
   "metadata": {},
   "source": [
    "## 문자열 생성\n",
    "\n",
    "- 문자열은 '', \"\"\n",
    "- 여러 줄로 된 문자열은 \"\"\" \"\"\", ''' '''"
   ]
  },
  {
   "cell_type": "code",
   "execution_count": 48,
   "id": "c6ab2d92",
   "metadata": {
    "ExecuteTime": {
     "end_time": "2023-08-22T03:08:27.100795Z",
     "start_time": "2023-08-22T03:08:27.083007Z"
    }
   },
   "outputs": [
    {
     "name": "stdout",
     "output_type": "stream",
     "text": [
      "hello world\n",
      "<class 'str'>\n"
     ]
    }
   ],
   "source": [
    "a = \"hello world\"\n",
    "print(a)\n",
    "print(type(a))"
   ]
  },
  {
   "cell_type": "code",
   "execution_count": 49,
   "id": "6312186a",
   "metadata": {
    "ExecuteTime": {
     "end_time": "2023-08-22T03:10:15.397523Z",
     "start_time": "2023-08-22T03:10:15.381082Z"
    }
   },
   "outputs": [
    {
     "name": "stdout",
     "output_type": "stream",
     "text": [
      "오늘은 화요일 겁나게 졸리고 배고파ㅏㅏㅏㅏㅏㅏㅏ!!!\n"
     ]
    }
   ],
   "source": [
    "c = \"\"\"오늘은 화요일 겁나게 졸리고 배고파ㅏㅏㅏㅏㅏㅏㅏ!!!\"\"\"\n",
    "print(c)"
   ]
  },
  {
   "cell_type": "code",
   "execution_count": 50,
   "id": "3835ead5",
   "metadata": {
    "ExecuteTime": {
     "end_time": "2023-08-22T03:11:00.658972Z",
     "start_time": "2023-08-22T03:11:00.653086Z"
    }
   },
   "outputs": [
    {
     "name": "stdout",
     "output_type": "stream",
     "text": [
      "Life is short\n",
      "You need Python.\n",
      "Good Luck^^\n",
      "\n"
     ]
    }
   ],
   "source": [
    "d = '''Life is short\n",
    "You need Python.\n",
    "Good Luck^^\n",
    "'''\n",
    "print(d)"
   ]
  },
  {
   "cell_type": "code",
   "execution_count": 52,
   "id": "09b81454",
   "metadata": {
    "ExecuteTime": {
     "end_time": "2023-08-22T03:12:45.148360Z",
     "start_time": "2023-08-22T03:12:45.137475Z"
    }
   },
   "outputs": [
    {
     "name": "stdout",
     "output_type": "stream",
     "text": [
      "Life is too short,\n",
      "You need Python.\n",
      "Good Luck^^\n"
     ]
    }
   ],
   "source": [
    "e = \"Life is too short,\\nYou need Python.\\nGood Luck^^\"  # \\n: 줄바꿈\n",
    "print(e)  "
   ]
  },
  {
   "cell_type": "markdown",
   "id": "b4f770c2",
   "metadata": {},
   "source": [
    "## 문자열 연산: +, *"
   ]
  },
  {
   "cell_type": "code",
   "execution_count": 54,
   "id": "9eb28aa5",
   "metadata": {
    "ExecuteTime": {
     "end_time": "2023-08-22T03:14:48.087380Z",
     "start_time": "2023-08-22T03:14:48.072283Z"
    }
   },
   "outputs": [
    {
     "name": "stdout",
     "output_type": "stream",
     "text": [
      "pythonpython\n",
      "pythonhello\n",
      "==============================\n"
     ]
    }
   ],
   "source": [
    "a = 'python'\n",
    "b = 'hello'\n",
    "\n",
    "print(a * 2)\n",
    "print(a + b)\n",
    "\n",
    "print(\"=\" * 30)"
   ]
  },
  {
   "cell_type": "markdown",
   "id": "d5acabe9",
   "metadata": {},
   "source": [
    "## 문자열 인덱싱(Indexing)\n",
    "- **인덱싱(Indexing)**은 특정위치를 가르킨다는 의미를 가진다.\n",
    "- 문자열은 일반적으로 메모리에 저장될 때 list 즉, 1차원 배열의 형태로 저장된다.\n",
    "- 각 문자는 해당 위치(인덱스 또는 색인)를 통해서 읽어올 수 있다.\n",
    "- 인덱스의 시작은 0부터 시작된다."
   ]
  },
  {
   "cell_type": "code",
   "execution_count": 55,
   "id": "7fffc5b4",
   "metadata": {
    "ExecuteTime": {
     "end_time": "2023-08-22T03:17:49.866109Z",
     "start_time": "2023-08-22T03:17:49.849658Z"
    }
   },
   "outputs": [
    {
     "name": "stdout",
     "output_type": "stream",
     "text": [
      "Life is too short, You Need Python.\n"
     ]
    }
   ],
   "source": [
    "string = \"Life is too short, You Need Python.\"\n",
    "print(string)"
   ]
  },
  {
   "cell_type": "code",
   "execution_count": 56,
   "id": "bae2a06b",
   "metadata": {
    "ExecuteTime": {
     "end_time": "2023-08-22T03:18:26.975987Z",
     "start_time": "2023-08-22T03:18:26.960903Z"
    }
   },
   "outputs": [
    {
     "data": {
      "text/plain": [
       "'L'"
      ]
     },
     "execution_count": 56,
     "metadata": {},
     "output_type": "execute_result"
    }
   ],
   "source": [
    "string[0]"
   ]
  },
  {
   "cell_type": "code",
   "execution_count": 57,
   "id": "55b053ad",
   "metadata": {
    "ExecuteTime": {
     "end_time": "2023-08-22T03:20:31.798158Z",
     "start_time": "2023-08-22T03:20:31.792132Z"
    }
   },
   "outputs": [
    {
     "data": {
      "text/plain": [
       "'Life'"
      ]
     },
     "execution_count": 57,
     "metadata": {},
     "output_type": "execute_result"
    }
   ],
   "source": [
    "# [인덱스]\n",
    "# [start:end], end - 1 까지 읽어옴, 0부터 시작\n",
    "string[0:4]"
   ]
  },
  {
   "cell_type": "code",
   "execution_count": 58,
   "id": "e2ff87cd",
   "metadata": {
    "ExecuteTime": {
     "end_time": "2023-08-22T03:21:34.215588Z",
     "start_time": "2023-08-22T03:21:34.201958Z"
    }
   },
   "outputs": [
    {
     "data": {
      "text/plain": [
       "'.'"
      ]
     },
     "execution_count": 58,
     "metadata": {},
     "output_type": "execute_result"
    }
   ],
   "source": [
    "string[-1]"
   ]
  },
  {
   "cell_type": "code",
   "execution_count": 59,
   "id": "6ab73096",
   "metadata": {
    "ExecuteTime": {
     "end_time": "2023-08-22T03:22:15.532917Z",
     "start_time": "2023-08-22T03:22:15.523938Z"
    }
   },
   "outputs": [
    {
     "data": {
      "text/plain": [
       "'Life'"
      ]
     },
     "execution_count": 59,
     "metadata": {},
     "output_type": "execute_result"
    }
   ],
   "source": [
    "string[:4] # 앞인덱스가 생략되면 처음부터"
   ]
  },
  {
   "cell_type": "code",
   "execution_count": 61,
   "id": "c77c5aa1",
   "metadata": {
    "ExecuteTime": {
     "end_time": "2023-08-22T03:23:01.428786Z",
     "start_time": "2023-08-22T03:23:01.424783Z"
    }
   },
   "outputs": [
    {
     "data": {
      "text/plain": [
       "'Python'"
      ]
     },
     "execution_count": 61,
     "metadata": {},
     "output_type": "execute_result"
    }
   ],
   "source": [
    "string[-7:-1]"
   ]
  },
  {
   "cell_type": "markdown",
   "id": "b2e0d4b0",
   "metadata": {},
   "source": [
    "## 문자열 포매팅(Formating)\n",
    "- 문자열 내의 특정 위치값을 바꾸거나 서식을 이용하여 표시할 때 사용한다.\n",
    "- 서식(format) 기호\n",
    "  1. %s: 문자열(string)\n",
    "  2. %c: 문자 1개(character)\n",
    "  3. %d: 10진 정수(decimal)\n",
    "  4. %f: 실수(float)\n",
    "  5. %o: 8진수\n",
    "  6. %x: 16진수\n",
    "  7. %%: %"
   ]
  },
  {
   "cell_type": "markdown",
   "id": "7df3790d",
   "metadata": {},
   "source": [
    "## 문자열 관련 함수"
   ]
  },
  {
   "cell_type": "code",
   "execution_count": 62,
   "id": "ccc9e9da",
   "metadata": {
    "ExecuteTime": {
     "end_time": "2023-08-22T03:28:32.766620Z",
     "start_time": "2023-08-22T03:28:32.760397Z"
    }
   },
   "outputs": [
    {
     "data": {
      "text/plain": [
       "'aaa bbb ccc'"
      ]
     },
     "execution_count": 62,
     "metadata": {},
     "output_type": "execute_result"
    }
   ],
   "source": [
    "string = \"aaa bbb ccc\"\n",
    "string"
   ]
  },
  {
   "cell_type": "code",
   "execution_count": 63,
   "id": "b2e19e14",
   "metadata": {
    "ExecuteTime": {
     "end_time": "2023-08-22T03:28:49.586771Z",
     "start_time": "2023-08-22T03:28:49.574461Z"
    }
   },
   "outputs": [
    {
     "data": {
      "text/plain": [
       "['aaa', 'bbb', 'ccc']"
      ]
     },
     "execution_count": 63,
     "metadata": {},
     "output_type": "execute_result"
    }
   ],
   "source": [
    "string.split()"
   ]
  },
  {
   "cell_type": "code",
   "execution_count": 64,
   "id": "8a254ee3",
   "metadata": {
    "ExecuteTime": {
     "end_time": "2023-08-22T03:29:49.689552Z",
     "start_time": "2023-08-22T03:29:49.685150Z"
    }
   },
   "outputs": [
    {
     "data": {
      "text/plain": [
       "['123456', 'abcdefg']"
      ]
     },
     "execution_count": 64,
     "metadata": {},
     "output_type": "execute_result"
    }
   ],
   "source": [
    "jumin = \"123456-abcdefg\"\n",
    "jumin.split('-')"
   ]
  },
  {
   "cell_type": "code",
   "execution_count": 65,
   "id": "ce3b613c",
   "metadata": {
    "ExecuteTime": {
     "end_time": "2023-08-22T03:30:29.438131Z",
     "start_time": "2023-08-22T03:30:29.428382Z"
    }
   },
   "outputs": [
    {
     "data": {
      "text/plain": [
       "'abcdefg'"
      ]
     },
     "execution_count": 65,
     "metadata": {},
     "output_type": "execute_result"
    }
   ],
   "source": [
    "s = \"abcdefg\"\n",
    "s"
   ]
  },
  {
   "cell_type": "code",
   "execution_count": 66,
   "id": "8069a6a2",
   "metadata": {
    "ExecuteTime": {
     "end_time": "2023-08-22T03:31:13.537158Z",
     "start_time": "2023-08-22T03:31:13.528345Z"
    }
   },
   "outputs": [
    {
     "data": {
      "text/plain": [
       "'abcdefg'"
      ]
     },
     "execution_count": 66,
     "metadata": {},
     "output_type": "execute_result"
    }
   ],
   "source": [
    "join(s, '-')"
   ]
  },
  {
   "cell_type": "code",
   "execution_count": null,
   "id": "907c0aca",
   "metadata": {},
   "outputs": [],
   "source": []
  }
 ],
 "metadata": {
  "kernelspec": {
   "display_name": "Python 3",
   "language": "python",
   "name": "python3"
  },
  "language_info": {
   "codemirror_mode": {
    "name": "ipython",
    "version": 3
   },
   "file_extension": ".py",
   "mimetype": "text/x-python",
   "name": "python",
   "nbconvert_exporter": "python",
   "pygments_lexer": "ipython3",
   "version": "3.8.8"
  },
  "toc": {
   "base_numbering": 1,
   "nav_menu": {},
   "number_sections": true,
   "sideBar": true,
   "skip_h1_title": false,
   "title_cell": "Table of Contents",
   "title_sidebar": "Contents",
   "toc_cell": false,
   "toc_position": {},
   "toc_section_display": true,
   "toc_window_display": false
  }
 },
 "nbformat": 4,
 "nbformat_minor": 5
}
