{
 "cells": [
  {
   "cell_type": "markdown",
   "id": "895c3241",
   "metadata": {},
   "source": [
    "# 객체 지향적인 프로그래밍?\n",
    "\n",
    "1. 구조적인 프로그래밍 기법: 대표적인 언어 c언어\n",
    "  - 구조적인 프로그래밍 기법의 단점은 프로그램의 개발 시간과 비용\n",
    "  - 소프트웨어의 위기\n",
    "  - 고전적인 프로그래밍 개발 기법: 폭포수 기법\n",
    "\n",
    "2. 객체(object)와 객체(Instance)\n",
    "  - 객체(object): 붕어빵 틀(Template), 설계도\n",
    "  - 객체(Instance): 붕어빵\n",
    "  \n",
    "3. \"나는 사과장수에게 2000원을 주고 사과를 구매했다.\"\n",
    "  - 객체(틀) = > 클래스(객체를 추상화), 명사형\n",
    "    * 나\n",
    "    * 사과장수\n",
    "    * 사과: IoT(사물인터넷)\n",
    "  - 메소드(Method): 객체가 하는 행위나 동작 => 함수(메소드)\n",
    "    * 나: 사과를 구매하는 행위\n",
    "    * 사과장수: 사과를 판매하는 행위\n",
    "  - 속성(Attribute): 객체가 가지고 있는 특성 => 변수(속성)\n",
    "    * 나: 돈\n",
    "    * 사과장수: 판매할 사과, 사과가격"
   ]
  },
  {
   "cell_type": "markdown",
   "id": "ebab854f",
   "metadata": {},
   "source": [
    "# 모듈(Module) VS 클래스(Class) VS 인스턴스(Instance)\n",
    "1. 모듈(Module): py라는 확장자를 가지고 있는 파이썬 파일\n",
    "  - 주피터 노트북 IPYNB라는 확장자를 가진다.\n",
    "  - 모듈은 아주 작은 프로그램 덩어리 (= 라이브러리)\n",
    "  - 패키지(package): 여러 모듈을 묶어놓은 단위\n",
    "2. 클래스(class): 객체를 추상화하는 구조 또는 틀\n",
    "3. 인스턴스(instance): 클래스로부터 만들어낸 객체"
   ]
  },
  {
   "cell_type": "markdown",
   "id": "1f8b17f3",
   "metadata": {},
   "source": [
    "# 클래스(class)\n",
    "1. 클래스의 구조 또는 형식\n",
    "<code>\n",
    "    class 클래스명:\n",
    "      멤버필드(Member Field) or 속성(Property) = 프로퍼티\n",
    "      멤버메서드(Member Method) = 함수(Function)\n",
    "</code>"
   ]
  },
  {
   "cell_type": "code",
   "execution_count": null,
   "id": "c85628be",
   "metadata": {
    "ExecuteTime": {
     "end_time": "2023-08-25T00:47:15.190490Z",
     "start_time": "2023-08-25T00:47:15.178519Z"
    }
   },
   "outputs": [],
   "source": [
    "# 나\n",
    "class AppleBuyer:\n",
    "    # 멤버 필드\n",
    "    money = 10000\n",
    "    apple = 0\n",
    "    \n",
    "    # 멤버 메서드\n",
    "    def buy(self, AppleSeller):# AppleSeller와 연결, 그리고 연결을 위한 인스턴스 변수 seller\n",
    "        apple = seller.sales(don)\n",
    "        money -= don\n",
    "    \n",
    "    def result(self):\n",
    "        print(\"남은 용돈:\", money)\n",
    "        print(\"구매 사과:\", apple)"
   ]
  },
  {
   "cell_type": "code",
   "execution_count": null,
   "id": "3a11767e",
   "metadata": {
    "ExecuteTime": {
     "end_time": "2023-08-25T00:46:42.478113Z",
     "start_time": "2023-08-25T00:46:42.472124Z"
    }
   },
   "outputs": [],
   "source": [
    "# 사과장수\n",
    "class AppleSeller:\n",
    "    # 멤버 필드 - 생략 가능, 초기화(각 필드의 초기 값)를 설정할 경우 기술함\n",
    "    price = 1000\n",
    "    apples = 50\n",
    "    money = 0\n",
    "    \n",
    "    # 멤버 메서드\n",
    "    def sales(self, don):  # class에서 함수의 첫 매개변수는 self\n",
    "        apple = don / price\n",
    "        apples -= apple\n",
    "        money += don\n",
    "        return apple\n",
    "    \n",
    "    def disp(self):\n",
    "        print('남은 사과 수: ', apples)\n",
    "        print('매출 금액: ', money)\n",
    "        "
   ]
  },
  {
   "cell_type": "markdown",
   "id": "fc8f35d6",
   "metadata": {},
   "source": [
    "## 클래스 Member Method 선언\n",
    "- def로 선언\n",
    "- 일반함수와 구별하기 위해 클래스의 멤버메서드를 뜻하는 첫번째 매개변수는 self"
   ]
  },
  {
   "cell_type": "code",
   "execution_count": null,
   "id": "92e0404c",
   "metadata": {
    "ExecuteTime": {
     "end_time": "2023-08-25T00:59:40.862440Z",
     "start_time": "2023-08-25T00:59:40.838905Z"
    }
   },
   "outputs": [],
   "source": [
    "# 사람 object\n",
    "class Person:\n",
    "    # 멤버 필드\n",
    "    \n",
    "    # 멤버 메서드\n",
    "    def walk(self):\n",
    "        print(\"사람이 걸어갑니다.\")\n",
    "        \n",
    "    def run(self):\n",
    "        print(\"사람이 달려갑니다.\")"
   ]
  },
  {
   "cell_type": "code",
   "execution_count": null,
   "id": "635acd30",
   "metadata": {
    "ExecuteTime": {
     "end_time": "2023-08-25T00:59:42.029154Z",
     "start_time": "2023-08-25T00:59:42.004527Z"
    }
   },
   "outputs": [],
   "source": [
    "# 클래스에 접근하려면 반드시 인스턴스 객체가 필요하다.\n",
    "p = Person()"
   ]
  },
  {
   "cell_type": "code",
   "execution_count": null,
   "id": "c566b754",
   "metadata": {
    "ExecuteTime": {
     "end_time": "2023-08-25T00:59:43.214330Z",
     "start_time": "2023-08-25T00:59:43.199770Z"
    }
   },
   "outputs": [],
   "source": [
    "# 객체명을 통해 클래스의 멤버에 접근: 접근연산자(. direct연산자)\n",
    "p.walk()"
   ]
  },
  {
   "cell_type": "code",
   "execution_count": null,
   "id": "14953d2a",
   "metadata": {
    "ExecuteTime": {
     "end_time": "2023-08-25T00:59:44.101678Z",
     "start_time": "2023-08-25T00:59:44.095445Z"
    }
   },
   "outputs": [],
   "source": [
    "p.run()"
   ]
  },
  {
   "cell_type": "code",
   "execution_count": null,
   "id": "f2397fce",
   "metadata": {
    "ExecuteTime": {
     "end_time": "2023-08-25T00:59:46.383256Z",
     "start_time": "2023-08-25T00:59:46.373576Z"
    }
   },
   "outputs": [],
   "source": [
    "# 사람 object\n",
    "class Person:\n",
    "    # 멤버 필드\n",
    "    \n",
    "    # 멤버 메서드\n",
    "    def walk(self):\n",
    "        print(self.name + \"이 걸어갑니다.\")\n",
    "        \n",
    "    def run(self):\n",
    "        print(self.name + \"이 달려갑니다.\")"
   ]
  },
  {
   "cell_type": "code",
   "execution_count": null,
   "id": "54e9c28c",
   "metadata": {
    "ExecuteTime": {
     "end_time": "2023-08-25T01:00:38.603754Z",
     "start_time": "2023-08-25T01:00:38.597762Z"
    }
   },
   "outputs": [],
   "source": [
    "# 인스턴스 객체 생성\n",
    "p1 = Person()\n",
    "\n",
    "p1.name = \"홍길동\"\n",
    "# 멤버 접근\n",
    "p1.walk()"
   ]
  },
  {
   "cell_type": "code",
   "execution_count": null,
   "id": "de46ab59",
   "metadata": {
    "ExecuteTime": {
     "end_time": "2023-08-25T01:01:22.767533Z",
     "start_time": "2023-08-25T01:01:22.749553Z"
    }
   },
   "outputs": [],
   "source": [
    "p2 = Person()\n",
    "\n",
    "p2.name = \"장보고\"\n",
    "p2.walk()"
   ]
  },
  {
   "cell_type": "code",
   "execution_count": null,
   "id": "10cca54c",
   "metadata": {
    "ExecuteTime": {
     "end_time": "2023-08-25T01:19:16.563264Z",
     "start_time": "2023-08-25T01:19:16.552307Z"
    }
   },
   "outputs": [],
   "source": [
    "# 사람 object\n",
    "class Person:\n",
    "    # 멤버 필드\n",
    "    \n",
    "    # 멤버 메서드\n",
    "    def walk(self,speed): # speed는 걸을 때와 달릴 때가 다르기 때문에 매개변수로 줌\n",
    "        print(self.name + \"이\" + str(speed) +\"의 속도로 걸어갑니다.\")\n",
    "        \n",
    "    def run(self,speed):\n",
    "        print(self.name + \"이\" + str(speed) +\"의 속도로 달려갑니다.\")"
   ]
  },
  {
   "cell_type": "code",
   "execution_count": null,
   "id": "83da39b8",
   "metadata": {
    "ExecuteTime": {
     "end_time": "2023-08-25T01:19:17.602395Z",
     "start_time": "2023-08-25T01:19:17.591251Z"
    }
   },
   "outputs": [],
   "source": [
    "p1 = Person()\n",
    "# 멤버 필드를 초기화시켜줘야 한다.\n",
    "p1.name = \"홍길동\"\n",
    "p1.walk(10)"
   ]
  },
  {
   "cell_type": "code",
   "execution_count": null,
   "id": "2324cc94",
   "metadata": {
    "ExecuteTime": {
     "end_time": "2023-08-25T01:19:18.275035Z",
     "start_time": "2023-08-25T01:19:18.265802Z"
    }
   },
   "outputs": [],
   "source": [
    "p1.run(30)"
   ]
  },
  {
   "cell_type": "code",
   "execution_count": null,
   "id": "e8225a61",
   "metadata": {
    "ExecuteTime": {
     "end_time": "2023-08-25T01:22:01.342228Z",
     "start_time": "2023-08-25T01:22:01.325502Z"
    }
   },
   "outputs": [],
   "source": [
    "class People:\n",
    "    # 멤버 필드\n",
    "    name = \"\"\n",
    "    height = 0.0\n",
    "    age = 0\n",
    "    \n",
    "    # 멤버 메서드\n",
    "    ## this 키워드와 같은 의미가 self\n",
    "    def disp(self):\n",
    "        print(\"이름: \", self.name)\n",
    "        print(\"나이: \", self.age)\n",
    "        print(\"신장: \", self.height)"
   ]
  },
  {
   "cell_type": "code",
   "execution_count": null,
   "id": "e728b010",
   "metadata": {
    "ExecuteTime": {
     "end_time": "2023-08-25T01:22:45.908234Z",
     "start_time": "2023-08-25T01:22:45.894282Z"
    }
   },
   "outputs": [],
   "source": [
    "# 인스턴스 변수 (= 참조변수)\n",
    "p1 = People()\n",
    "p1.disp()"
   ]
  },
  {
   "cell_type": "code",
   "execution_count": null,
   "id": "29292dc9",
   "metadata": {
    "ExecuteTime": {
     "end_time": "2023-08-25T01:24:59.073908Z",
     "start_time": "2023-08-25T01:24:59.056964Z"
    }
   },
   "outputs": [],
   "source": [
    "p1.name = \"장보고\"\n",
    "p1.age = 23\n",
    "p1.height = 180\n",
    "\n",
    "p1.disp()"
   ]
  },
  {
   "cell_type": "code",
   "execution_count": null,
   "id": "c269d9bb",
   "metadata": {
    "ExecuteTime": {
     "end_time": "2023-08-25T01:26:51.977503Z",
     "start_time": "2023-08-25T01:26:51.956918Z"
    }
   },
   "outputs": [],
   "source": [
    "p2 = People()\n",
    "p2.name = \"이소라\"\n",
    "p2.age = 23\n",
    "p2.height = 175\n",
    "\n",
    "p2.disp()"
   ]
  },
  {
   "cell_type": "markdown",
   "id": "7da60ebb",
   "metadata": {},
   "source": [
    "### 특별한 메서드: __init__(self)\n",
    "\n",
    "- 멤버 필드를 초기화시켜주는 목적으로 사용하는 메서드"
   ]
  },
  {
   "cell_type": "code",
   "execution_count": null,
   "id": "e6fcc677",
   "metadata": {
    "ExecuteTime": {
     "end_time": "2023-08-25T01:30:21.209336Z",
     "start_time": "2023-08-25T01:30:21.191394Z"
    }
   },
   "outputs": [],
   "source": [
    "# __init__(self): 생성자 메서드\n",
    "# 생성자 메서드: 객체가 생성될 떄 자동으로 호출되는 메서드\n",
    "class People:\n",
    "    # 멤버 필드\n",
    "    \n",
    "    ## 생성자 메서드\n",
    "    def __init__(self, name, age, height):\n",
    "        self.name = name\n",
    "        self.age = age\n",
    "        self.height = height\n",
    "    # 멤버 메서드\n",
    "    def disp(self):\n",
    "        print(\"이름:\", self.name)\n",
    "        print(\"나이:\", self.age)\n",
    "        print(\"신장:\", self.height)"
   ]
  },
  {
   "cell_type": "code",
   "execution_count": null,
   "id": "796ca936",
   "metadata": {
    "ExecuteTime": {
     "end_time": "2023-08-25T01:31:11.310326Z",
     "start_time": "2023-08-25T01:31:11.299843Z"
    }
   },
   "outputs": [],
   "source": [
    "p = People('이순신', 23, 170.6)\n",
    "\n",
    "p.disp()"
   ]
  },
  {
   "cell_type": "code",
   "execution_count": null,
   "id": "eba113a7",
   "metadata": {
    "ExecuteTime": {
     "end_time": "2023-08-25T01:31:53.026709Z",
     "start_time": "2023-08-25T01:31:53.012361Z"
    }
   },
   "outputs": [],
   "source": [
    "p1 = People('이소라', 23, 175)\n",
    "p1.disp()"
   ]
  },
  {
   "cell_type": "markdown",
   "id": "091a9d5f",
   "metadata": {},
   "source": [
    "- self.변수: 인스턴스 변수, 인스턴스 별로 개별적인 값을 가진 변수\n",
    "- 클래스명.변수: 클래스 변수, static 변수, 공통의 값을 공유하는 변수"
   ]
  },
  {
   "cell_type": "code",
   "execution_count": null,
   "id": "cf71e691",
   "metadata": {
    "ExecuteTime": {
     "end_time": "2023-08-25T01:40:44.666977Z",
     "start_time": "2023-08-25T01:40:44.651629Z"
    }
   },
   "outputs": [],
   "source": [
    "class Student:\n",
    "    # 멤버 필드 = 프로퍼티, 클래스 변수(공유의 목적)\n",
    "    name = \"kim\"\n",
    "    no = 1987\n",
    "    score = 99\n",
    "    \n",
    "    # 멤버 메서드\n",
    "    def show(self):\n",
    "        ## self.변수\n",
    "        print(\"이름: \" + self.name, end = '')\n",
    "        print(\"학번: \" + str(self.no), end = '')\n",
    "        print(\"성적: \" + str(self.score))\n",
    "        \n",
    "        ## class명.변수  - 초기값 출력\n",
    "        print(\"이름: \" + Student.name, end = '')\n",
    "        print(\"학번: \" + str(Student.no), end = '')\n",
    "        print(\"성적: \" + str(Student.score))"
   ]
  },
  {
   "cell_type": "code",
   "execution_count": null,
   "id": "520b8ece",
   "metadata": {
    "ExecuteTime": {
     "end_time": "2023-08-25T01:42:16.250527Z",
     "start_time": "2023-08-25T01:42:16.240548Z"
    }
   },
   "outputs": [],
   "source": [
    "s1 = Student()\n",
    "s1.name = \"김유신\"\n",
    "s1.no = 901234\n",
    "s1.score = 78\n",
    "\n",
    "s2 = Student()\n",
    "s2.name = \"홍길동\"\n",
    "s2.no = 12345\n",
    "s2.score = 90\n",
    "\n",
    "s1.show()\n",
    "print(\"-\" * 30)\n",
    "s2.show()"
   ]
  },
  {
   "cell_type": "code",
   "execution_count": null,
   "id": "f3ad3ddb",
   "metadata": {
    "ExecuteTime": {
     "end_time": "2023-08-25T01:46:41.309393Z",
     "start_time": "2023-08-25T01:46:41.304411Z"
    }
   },
   "outputs": [],
   "source": [
    "# 원\n",
    "class Circle:\n",
    "    # 멤버 필드\n",
    "    radius = 0\n",
    "    \n",
    "    # 멤버 메서드\n",
    "    def area(self):\n",
    "        return self.radius * self.radius * 3.14\n",
    "    \n",
    "    def around(self):\n",
    "        return 2 * 3.14 * self.radius\n",
    "    \n",
    "    def disp(self):\n",
    "        print(\"반지름:\", self.radius)"
   ]
  },
  {
   "cell_type": "code",
   "execution_count": null,
   "id": "68e727cc",
   "metadata": {
    "ExecuteTime": {
     "end_time": "2023-08-25T01:52:05.923303Z",
     "start_time": "2023-08-25T01:52:05.910891Z"
    }
   },
   "outputs": [],
   "source": [
    "a = Circle()\n",
    "a. radius = 5\n",
    "\n",
    "# 반지름이 5인 원의 면적을 출력\n",
    "print(\"반지름이 5인 원의 면적: \", a.area())"
   ]
  },
  {
   "cell_type": "code",
   "execution_count": null,
   "id": "bb052b3a",
   "metadata": {
    "ExecuteTime": {
     "end_time": "2023-08-25T01:53:50.890034Z",
     "start_time": "2023-08-25T01:53:50.879326Z"
    }
   },
   "outputs": [],
   "source": [
    "class Circle:\n",
    "    # 멤버 필드\n",
    "    radius = 0\n",
    "    \n",
    "    # 생성자 메서드: 멤버 필드를 초기화 시켜줄 목적으로 생성하는 메서드, 자동 호출(객체 생성될 때)\n",
    "    def __init__(self,radius):\n",
    "        self.radius = radius\n",
    "        \n",
    "    # 멤버 메서드\n",
    "    def area(self):\n",
    "        return self.radius * self.radius * 3.14\n",
    "    \n",
    "    def around(self):\n",
    "        return 2 * 3.14 * self.radius\n",
    "    \n",
    "    def disp(self):\n",
    "        print(\"반지름:\", self.radius)"
   ]
  },
  {
   "cell_type": "code",
   "execution_count": null,
   "id": "4cd9329c",
   "metadata": {
    "ExecuteTime": {
     "end_time": "2023-08-25T01:58:18.019513Z",
     "start_time": "2023-08-25T01:58:18.008503Z"
    }
   },
   "outputs": [],
   "source": [
    "class Circle:\n",
    "    # 멤버 필드\n",
    "    radius = 0\n",
    "    \n",
    "    # 생성자 메서드: 멤버 필드를 초기화 시켜줄 목적으로 생성하는 메서드, 자동 호출(객체 생성될 때)\n",
    "    def __init__(self):\n",
    "        self.radius = int(input('반지름 = '))\n",
    "        \n",
    "    # 멤버 메서드\n",
    "    def area(self):\n",
    "        return self.radius * self.radius * 3.14\n",
    "    \n",
    "    def around(self):\n",
    "        return 2 * 3.14 * self.radius\n",
    "    \n",
    "    def disp(self):\n",
    "        print(\"반지름:\", self.radius)\n",
    "        \n",
    "    def getRadius(self):\n",
    "        return self.radius"
   ]
  },
  {
   "cell_type": "code",
   "execution_count": null,
   "id": "208598d6",
   "metadata": {
    "ExecuteTime": {
     "end_time": "2023-08-25T01:55:02.987868Z",
     "start_time": "2023-08-25T01:55:00.364023Z"
    }
   },
   "outputs": [],
   "source": [
    "x = Circle()\n",
    "x.disp()"
   ]
  },
  {
   "cell_type": "code",
   "execution_count": null,
   "id": "a0039e06",
   "metadata": {
    "ExecuteTime": {
     "end_time": "2023-08-25T02:00:06.088411Z",
     "start_time": "2023-08-25T02:00:03.069385Z"
    }
   },
   "outputs": [],
   "source": [
    "# 세 개의 반지름을 입력 받아 원의 면적을 계산하여 출력하는 프로그램을 구현하시오.\n",
    "# 단, 원을 클래스로 구현할 것\n",
    "\n",
    "a = Circle()\n",
    "b = Circle()\n",
    "c = Circle()\n",
    "\n",
    "print(f\"반지름이 {a.getRadius()}인 원의 면적 {a.area()}\")\n",
    "print(f\"반지름이 {b.getRadius()}인 원의 면적 {b.area()}\")\n",
    "print(f\"반지름이 {c.getRadius()}인 원의 면적 {c.area()}\")"
   ]
  },
  {
   "cell_type": "code",
   "execution_count": null,
   "id": "97d63097",
   "metadata": {
    "ExecuteTime": {
     "end_time": "2023-08-25T02:04:47.473059Z",
     "start_time": "2023-08-25T02:04:44.193215Z"
    }
   },
   "outputs": [],
   "source": [
    "obj = list()\n",
    "\n",
    "for i in range(3):\n",
    "    obj.append(Circle())\n",
    "    \n",
    "for i in range(3):\n",
    "    print(f\"반지름이 {obj[i].getRadius()}인 원의 면적 {obj[i].area()}\")"
   ]
  },
  {
   "cell_type": "markdown",
   "id": "1d9ebe52",
   "metadata": {},
   "source": [
    "반지름을 입력받아 원의 면적을 출력하는 프로그램을 구현하시오.\n",
    "단, 입력받는 반지름이 0이면 입력을 종료하고 면적을 출력하도록 구현할 것."
   ]
  },
  {
   "cell_type": "code",
   "execution_count": 22,
   "id": "83928bdb",
   "metadata": {
    "ExecuteTime": {
     "end_time": "2023-08-25T03:05:27.118395Z",
     "start_time": "2023-08-25T03:05:27.106742Z"
    }
   },
   "outputs": [],
   "source": [
    "class Circle:\n",
    "    # 멤버 필드\n",
    "    radius = 0 \n",
    "    def __init__(self):\n",
    "        self.radius = int(input('반지름 = '))\n",
    "    \n",
    "    # 멤버 메서드\n",
    "    def area(self):\n",
    "        return self.radius * self.radius * 3.14\n",
    "    \n",
    "    def around(self):\n",
    "        return 2 * 3.14 * self.radius\n",
    "    \n",
    "    def disp(self):\n",
    "        print(f\"반지름이 {self.radius} 인 원의 면적 {self.area()}\")\n",
    "        \n",
    "    def getRadius(self):\n",
    "        return self.radius"
   ]
  },
  {
   "cell_type": "code",
   "execution_count": 23,
   "id": "cc768c59",
   "metadata": {
    "ExecuteTime": {
     "end_time": "2023-08-25T03:05:32.295993Z",
     "start_time": "2023-08-25T03:05:28.248201Z"
    }
   },
   "outputs": [
    {
     "name": "stdout",
     "output_type": "stream",
     "text": [
      "반지름 = 5\n",
      "반지름 = 7\n",
      "반지름 = 8\n",
      "반지름 = 9\n",
      "반지름 = 0\n",
      "반지름이 5 인 원의 면적 78.5\n",
      "반지름이 7 인 원의 면적 153.86\n",
      "반지름이 8 인 원의 면적 200.96\n",
      "반지름이 9 인 원의 면적 254.34\n"
     ]
    }
   ],
   "source": [
    "data = []\n",
    "while True:\n",
    "    a = Circle()\n",
    "    \n",
    "    if a.getRadius() == 0:\n",
    "        break\n",
    "    data.append(a)    \n",
    "    \n",
    "for i in range(len(data)):\n",
    "    data[i].disp()"
   ]
  },
  {
   "cell_type": "markdown",
   "id": "da2ad350",
   "metadata": {},
   "source": [
    "### 성적 처리 프로그램 4단계"
   ]
  },
  {
   "cell_type": "code",
   "execution_count": 13,
   "id": "d16fd0c9",
   "metadata": {
    "ExecuteTime": {
     "end_time": "2023-08-25T02:30:49.735066Z",
     "start_time": "2023-08-25T02:30:49.724178Z"
    }
   },
   "outputs": [
    {
     "name": "stdout",
     "output_type": "stream",
     "text": [
      "이름\t총점\t평균\n",
      "홍길동\t250\t83.33\n",
      "장보고\t268\t89.33\n",
      "유관순\t223\t74.33\n",
      "이순신\t236\t78.67\n",
      "사임당\t154\t51.33\n"
     ]
    }
   ],
   "source": [
    "# 학생 리스트를 생성\n",
    "students = [\n",
    "    {'name':'홍길동', 'kor':87, 'eng':88, 'math':75},\n",
    "    {'name':'장보고', 'kor':92, 'eng':78, 'math':98},\n",
    "    {'name':'유관순', 'kor':94, 'eng':64, 'math':65},\n",
    "    {'name':'이순신', 'kor':95, 'eng':50, 'math':91},\n",
    "    {'name':'사임당', 'kor':98, 'eng':21, 'math':35}\n",
    "]\n",
    "\n",
    "# 이름, 총점과 평균을 개별 출력하는 로직\n",
    "print(\"이름\", \"총점\", \"평균\", sep ='\\t')\n",
    "for student in students:\n",
    "    # 총점과 평균 계산\n",
    "    tot = student['kor'] + student['eng'] + student['math']\n",
    "    avg = tot / 3\n",
    "    \n",
    "    # 출력\n",
    "    print(student['name'], tot, round(avg, 2), sep='\\t')"
   ]
  },
  {
   "cell_type": "code",
   "execution_count": 14,
   "id": "e0e60dd4",
   "metadata": {
    "ExecuteTime": {
     "end_time": "2023-08-25T02:37:12.151078Z",
     "start_time": "2023-08-25T02:37:12.133542Z"
    }
   },
   "outputs": [
    {
     "name": "stdout",
     "output_type": "stream",
     "text": [
      "이름\t총점\t평균\n",
      "홍길동\t250\t83.33\n",
      "장보고\t268\t89.33\n",
      "유관순\t223\t74.33\n",
      "이순신\t236\t78.67\n",
      "사임당\t154\t51.33\n"
     ]
    }
   ],
   "source": [
    "# 학생 한 명의 정보를 입력받아 사전 객체로 반환하여 리턴하는 함수\n",
    "def makeStudent(name, kor, eng, math):\n",
    "    return {\n",
    "        'name':name,\n",
    "        'kor':kor,\n",
    "        'eng':eng,\n",
    "        'math':math\n",
    "    }\n",
    "\n",
    "students = [\n",
    "    makeStudent('홍길동', 87, 88, 75),\n",
    "    makeStudent('장보고', 92, 78, 98),\n",
    "    makeStudent('유관순', 94, 64, 65),\n",
    "    makeStudent('이순신', 95, 50, 91),\n",
    "    makeStudent('사임당', 98, 21, 35),\n",
    "]\n",
    "\n",
    "# 이름, 총점과 평균을 개별 출력하는 로직\n",
    "print(\"이름\", \"총점\", \"평균\", sep ='\\t')\n",
    "for student in students:\n",
    "    # 총점과 평균 계산\n",
    "    tot = student['kor'] + student['eng'] + student['math']\n",
    "    avg = tot / 3\n",
    "    \n",
    "    # 출력\n",
    "    print(student['name'], tot, round(avg, 2), sep='\\t')"
   ]
  },
  {
   "cell_type": "code",
   "execution_count": 15,
   "id": "8e18f38a",
   "metadata": {
    "ExecuteTime": {
     "end_time": "2023-08-25T02:45:41.642274Z",
     "start_time": "2023-08-25T02:45:41.622577Z"
    }
   },
   "outputs": [
    {
     "name": "stdout",
     "output_type": "stream",
     "text": [
      "이름\t총점\t평균\n",
      "홍길동\t250\t83.33\n",
      "장보고\t268\t89.33\n",
      "유관순\t223\t74.33\n",
      "이순신\t236\t78.67\n",
      "사임당\t154\t51.33\n"
     ]
    }
   ],
   "source": [
    "def makeStudent(name, kor, eng, math):\n",
    "    return {\n",
    "        'name':name,\n",
    "        'kor':kor,\n",
    "        'eng':eng,\n",
    "        'math':math\n",
    "    }\n",
    "\n",
    "def calc_tot(student):\n",
    "    return student['kor']+student['eng'] + student['math']\n",
    "\n",
    "def calc_avg(student):\n",
    "    return round(calc_tot(student) / 3, 2)\n",
    "\n",
    "def toString(student):\n",
    "    return \"{}\\t{}\\t{}\".format(student['name'], calc_tot(student), calc_avg(student))\n",
    "\n",
    "students = [\n",
    "    makeStudent('홍길동', 87, 88, 75),\n",
    "    makeStudent('장보고', 92, 78, 98),\n",
    "    makeStudent('유관순', 94, 64, 65),\n",
    "    makeStudent('이순신', 95, 50, 91),\n",
    "    makeStudent('사임당', 98, 21, 35),\n",
    "]\n",
    "print(\"이름\", \"총점\", \"평균\", sep ='\\t')\n",
    "for student in students:\n",
    "    print(toString(student))"
   ]
  },
  {
   "cell_type": "code",
   "execution_count": 1,
   "id": "30c11416",
   "metadata": {
    "ExecuteTime": {
     "end_time": "2023-09-05T01:08:23.320103Z",
     "start_time": "2023-09-05T01:08:23.105725Z"
    }
   },
   "outputs": [
    {
     "ename": "TypeError",
     "evalue": "__init__() missing 4 required positional arguments: 'name', 'kor', 'eng', and 'math'",
     "output_type": "error",
     "traceback": [
      "\u001b[1;31m---------------------------------------------------------------------------\u001b[0m",
      "\u001b[1;31mTypeError\u001b[0m                                 Traceback (most recent call last)",
      "\u001b[1;32m<ipython-input-1-0be3c2aa506b>\u001b[0m in \u001b[0;36m<module>\u001b[1;34m\u001b[0m\n\u001b[0;32m      9\u001b[0m \u001b[1;33m\u001b[0m\u001b[0m\n\u001b[0;32m     10\u001b[0m \u001b[1;31m# 인스턴스 객체 생성\u001b[0m\u001b[1;33m\u001b[0m\u001b[1;33m\u001b[0m\u001b[1;33m\u001b[0m\u001b[0m\n\u001b[1;32m---> 11\u001b[1;33m \u001b[0mstu\u001b[0m \u001b[1;33m=\u001b[0m \u001b[0mStudent\u001b[0m\u001b[1;33m(\u001b[0m\u001b[1;33m)\u001b[0m\u001b[1;33m\u001b[0m\u001b[1;33m\u001b[0m\u001b[0m\n\u001b[0m\u001b[0;32m     12\u001b[0m \u001b[1;33m\u001b[0m\u001b[0m\n\u001b[0;32m     13\u001b[0m \u001b[1;31m# 학생 리스트 선언\u001b[0m\u001b[1;33m\u001b[0m\u001b[1;33m\u001b[0m\u001b[1;33m\u001b[0m\u001b[0m\n",
      "\u001b[1;31mTypeError\u001b[0m: __init__() missing 4 required positional arguments: 'name', 'kor', 'eng', and 'math'"
     ]
    }
   ],
   "source": [
    "# 학생 객체를 담을 클래스 선언\n",
    "class Student:\n",
    "    # 생성자 메서드\n",
    "    def __init__(self, name, kor, eng, math):\n",
    "        self.name = name\n",
    "        self.kor = kor\n",
    "        self.eng = eng\n",
    "        self.math = math\n",
    "\n",
    "# 인스턴스 객체 생성\n",
    "stu = Student()\n",
    "\n",
    "# 학생 리스트 선언\n",
    "Students = [\n",
    "    student('홍길동', 87, 88, 75),\n",
    "    student('장보고', 92, 78, 98),\n",
    "    student('유관순', 94, 64, 65),\n",
    "    student('이순신', 95, 50, 91),\n",
    "    student('사임당', 98, 21, 35)\n",
    "]"
   ]
  },
  {
   "cell_type": "code",
   "execution_count": 26,
   "id": "4239a6f9",
   "metadata": {
    "ExecuteTime": {
     "end_time": "2023-08-25T03:17:17.119939Z",
     "start_time": "2023-08-25T03:17:17.108957Z"
    }
   },
   "outputs": [],
   "source": [
    "# 한 명의 학생 정보를 관리할 목적으로 구현하는 클래스\n",
    "class Student:\n",
    "    # 멤버 필드\n",
    "    \n",
    "    # 생성자 메서드\n",
    "    def __init__(self, name, kor, eng, math):\n",
    "        self.name = name\n",
    "        self.kor = kor\n",
    "        self.eng = eng\n",
    "        self.math = math\n",
    "        \n",
    "    # 멤버 메서드\n",
    "    def total(self):\n",
    "        return self.kor +self.eng + self.math\n",
    "    \n",
    "    def average(self):\n",
    "        return round(self.total() / 3, 2)  \n",
    "    \n",
    "    def disp(self):\n",
    "        return \"{}\\t{}\\t{}\".format(self.name, self.total(), self.average())\n",
    "    \n",
    "    # 소멸자 메서드\n",
    "    def __del__(self):\n",
    "        pass"
   ]
  },
  {
   "cell_type": "code",
   "execution_count": 28,
   "id": "62c4728c",
   "metadata": {
    "ExecuteTime": {
     "end_time": "2023-08-25T03:17:38.531800Z",
     "start_time": "2023-08-25T03:17:38.519839Z"
    }
   },
   "outputs": [
    {
     "name": "stdout",
     "output_type": "stream",
     "text": [
      "aaa\t300\t100.0\n"
     ]
    }
   ],
   "source": [
    "# 학생 정보를 이용한 인스턴스 객체 생성\n",
    "one = Student('aaa', 100,100,100)\n",
    "\n",
    "print(one.disp())"
   ]
  },
  {
   "cell_type": "code",
   "execution_count": 29,
   "id": "6b2c6e6c",
   "metadata": {
    "ExecuteTime": {
     "end_time": "2023-08-25T03:19:44.419025Z",
     "start_time": "2023-08-25T03:19:35.685646Z"
    }
   },
   "outputs": [
    {
     "name": "stdout",
     "output_type": "stream",
     "text": [
      "name = bbb\n",
      "kor = 98\n",
      "eng = 88\n",
      "math = 87\n",
      "bbb\t273\t91.0\n"
     ]
    }
   ],
   "source": [
    "# 학생 정보를 키보드를 통해 입력받아 처리하는 작업\n",
    "name = input('name = ')\n",
    "kor = int(input('kor = '))\n",
    "eng = int(input('eng = '))\n",
    "math = int(input('math = '))\n",
    "\n",
    "two = Student(name, kor, eng, math)\n",
    "print(two.disp())"
   ]
  },
  {
   "cell_type": "code",
   "execution_count": 34,
   "id": "3fe0ca38",
   "metadata": {
    "ExecuteTime": {
     "end_time": "2023-08-25T03:25:04.279910Z",
     "start_time": "2023-08-25T03:25:04.270940Z"
    }
   },
   "outputs": [],
   "source": [
    "stu = {'id':1234, 'score':{'kor':100, 'eng':40, 'math':30}}"
   ]
  },
  {
   "cell_type": "code",
   "execution_count": 36,
   "id": "b00de1cd",
   "metadata": {
    "ExecuteTime": {
     "end_time": "2023-08-25T03:25:31.962142Z",
     "start_time": "2023-08-25T03:25:31.952042Z"
    }
   },
   "outputs": [
    {
     "name": "stdout",
     "output_type": "stream",
     "text": [
      "{'id': 1234, 'score': {'kor': 100, 'eng': 40, 'math': 30}}\n"
     ]
    }
   ],
   "source": [
    "print(stu)"
   ]
  },
  {
   "cell_type": "markdown",
   "id": "4de065ae",
   "metadata": {},
   "source": [
    "## 상속(Inheritance)\n",
    "\n",
    "- 부모클래스(상위클래스, 기반클래스)가 가지고 있는 특성과 속성을 그대로 자식클래스(하위클래스, 파생클래스)가 물려받는 것\n",
    "- 재활용을 극대화 하기 위해 사용\n",
    "- 다중 상속도 가능하다.\n",
    "- 오버라이딩(Overriding): 재정의, 부모메서드를 자식클래스에서 다시 정의해서 사용하는 것\n",
    "- 다형성(Polymorphism): 가독성을 높이기 위해서 사용하는 기능"
   ]
  },
  {
   "cell_type": "code",
   "execution_count": 37,
   "id": "9c4fd207",
   "metadata": {
    "ExecuteTime": {
     "end_time": "2023-08-25T03:34:36.671106Z",
     "start_time": "2023-08-25T03:34:36.658150Z"
    }
   },
   "outputs": [],
   "source": [
    "class Person:\n",
    "    # 멤버 필드\n",
    "#    name = \"\"\n",
    "#    age = 0\n",
    "#    height = 0.0\n",
    "    \n",
    "    # 멤버 메서드\n",
    "    def disp(self):\n",
    "        print(\"이름:\", self.name)\n",
    "        print(\"나이:\", self.age)\n",
    "        print(\"신장:\", self.height)"
   ]
  },
  {
   "cell_type": "code",
   "execution_count": 38,
   "id": "32f44e69",
   "metadata": {
    "ExecuteTime": {
     "end_time": "2023-08-25T03:37:34.190633Z",
     "start_time": "2023-08-25T03:37:34.181047Z"
    }
   },
   "outputs": [
    {
     "name": "stdout",
     "output_type": "stream",
     "text": [
      "이름: kim\n",
      "나이: 50\n",
      "신장: 169.5\n"
     ]
    }
   ],
   "source": [
    "# 인스턴스 객체 생성 - 객체가 생성되면 자동적으로 생성자 메서드가 호출된다.\n",
    "# 클래스명과 동일한 이름을 가진 생성자: default 생성자 - 생략가능\n",
    "p1 = Person()\n",
    "\n",
    "p1.name = \"kim\"\n",
    "p1.age = 50\n",
    "p1.height = 169.5\n",
    "p1.disp()  # 반드시 멤버필드가 초기화(설정)되어 있어야 한다."
   ]
  },
  {
   "cell_type": "code",
   "execution_count": 39,
   "id": "3aec00fa",
   "metadata": {
    "ExecuteTime": {
     "end_time": "2023-08-25T03:38:41.556488Z",
     "start_time": "2023-08-25T03:38:41.539266Z"
    }
   },
   "outputs": [
    {
     "name": "stdout",
     "output_type": "stream",
     "text": [
      "이름: lee\n",
      "나이: 23\n",
      "신장: 175\n"
     ]
    }
   ],
   "source": [
    "p2 = Person()\n",
    "p2.name = \"lee\"\n",
    "p2.age = 23\n",
    "p2.height = 175\n",
    "p2.disp()"
   ]
  },
  {
   "cell_type": "code",
   "execution_count": 40,
   "id": "4aec76f7",
   "metadata": {
    "ExecuteTime": {
     "end_time": "2023-08-25T03:40:02.057102Z",
     "start_time": "2023-08-25T03:40:02.040162Z"
    }
   },
   "outputs": [],
   "source": [
    "class Person:\n",
    "    # 멤버 필드\n",
    "#    name = \"\"\n",
    "#    age = 0\n",
    "#    height = 0.0\n",
    "    \n",
    "    # 생성자 메서드: 매번 멤버필드를 설정하기 귀찮으니 멤버필드를 자동 초기화 시켜줄 목적\n",
    "    def __init__(self, name, age, height):\n",
    "        self.name = name\n",
    "        self.age =age\n",
    "        self.height = height\n",
    "        \n",
    "    # 멤버 메서드\n",
    "    def disp(self):\n",
    "        print(\"이름:\", self.name)\n",
    "        print(\"나이:\", self.age)\n",
    "        print(\"신장:\", self.height)"
   ]
  },
  {
   "cell_type": "code",
   "execution_count": 42,
   "id": "049e64d6",
   "metadata": {
    "ExecuteTime": {
     "end_time": "2023-08-25T03:40:37.827018Z",
     "start_time": "2023-08-25T03:40:37.820040Z"
    }
   },
   "outputs": [
    {
     "name": "stdout",
     "output_type": "stream",
     "text": [
      "이름: park\n",
      "나이: 70\n",
      "신장: 180.4\n"
     ]
    }
   ],
   "source": [
    "p3 = Person('park', 70, 180.4)\n",
    "p3.disp()"
   ]
  },
  {
   "cell_type": "code",
   "execution_count": 48,
   "id": "b6d3a60c",
   "metadata": {
    "ExecuteTime": {
     "end_time": "2023-08-25T03:57:22.327182Z",
     "start_time": "2023-08-25T03:57:22.321121Z"
    }
   },
   "outputs": [],
   "source": [
    "# 중학교\n",
    "class Middle:\n",
    "    # 멤버 필드\n",
    "    \n",
    "    # 생성자 메서드\n",
    "    def __init__(self, name, phone):\n",
    "        self.name = name\n",
    "        self.phone = phone\n",
    "        \n",
    "    # 멤버 메서드\n",
    "    def disp(self):\n",
    "        print(f\"{self.name} : {self.phone}\", end = '')"
   ]
  },
  {
   "cell_type": "code",
   "execution_count": 49,
   "id": "a0bc2528",
   "metadata": {
    "ExecuteTime": {
     "end_time": "2023-08-25T03:57:27.567279Z",
     "start_time": "2023-08-25T03:57:27.553847Z"
    }
   },
   "outputs": [],
   "source": [
    "# 친구 등록\n",
    "m1 = Middle('이중학', '010-1111-2222')\n",
    "m2 = Middle('이소라', '010-6398-8681')"
   ]
  },
  {
   "cell_type": "code",
   "execution_count": 45,
   "id": "d82456d6",
   "metadata": {
    "ExecuteTime": {
     "end_time": "2023-08-25T03:49:14.992288Z",
     "start_time": "2023-08-25T03:49:14.981256Z"
    }
   },
   "outputs": [
    {
     "name": "stdout",
     "output_type": "stream",
     "text": [
      "이중학 : 010-1111-2222\n"
     ]
    }
   ],
   "source": [
    "m1.disp()"
   ]
  },
  {
   "cell_type": "code",
   "execution_count": 46,
   "id": "fde92a67",
   "metadata": {
    "ExecuteTime": {
     "end_time": "2023-08-25T03:51:18.822628Z",
     "start_time": "2023-08-25T03:51:18.805053Z"
    }
   },
   "outputs": [],
   "source": [
    "# 고등학교\n",
    "class High:\n",
    "    # 멤버 필드\n",
    "    \n",
    "    # 생성자 메서드\n",
    "    def __init__(self, name, phone, address):\n",
    "        self.name = name\n",
    "        self.phone = phone\n",
    "        self.address = address\n",
    "        \n",
    "    # 멤버 메서드\n",
    "    def disp(self):\n",
    "        print(f\"{self.name} : {self.phone} : {self.address}\")\n",
    "    "
   ]
  },
  {
   "cell_type": "code",
   "execution_count": 47,
   "id": "7b080562",
   "metadata": {
    "ExecuteTime": {
     "end_time": "2023-08-25T03:51:52.206872Z",
     "start_time": "2023-08-25T03:51:52.191041Z"
    }
   },
   "outputs": [
    {
     "name": "stdout",
     "output_type": "stream",
     "text": [
      "박고등 : 010-3333-4444 : 춘천\n"
     ]
    }
   ],
   "source": [
    "h1 = High('박고등', '010-3333-4444','춘천')\n",
    "h1.disp()"
   ]
  },
  {
   "cell_type": "code",
   "execution_count": 50,
   "id": "3d0239de",
   "metadata": {
    "ExecuteTime": {
     "end_time": "2023-08-25T03:57:34.413927Z",
     "start_time": "2023-08-25T03:57:34.395967Z"
    }
   },
   "outputs": [],
   "source": [
    "# 상속\n",
    "class High(Middle):\n",
    "    # 멤버 필드\n",
    "    \n",
    "    # 생성자 메서드\n",
    "    def __init__(self, name, phone, address):\n",
    "#        self.name = name\n",
    "#        self.phone = phone\n",
    "# 반드시 자식 객체는 부모객체의 멤버를 초기화시켜야 한다.\n",
    "        Middle.__init__(self, name, phone)  # 부모의 멤버를 초기화 시켜라\n",
    "        self.address = address\n",
    "        \n",
    "    # 멤버 메서드\n",
    "    def disp(self):\n",
    "        Middle.disp(self)\n",
    "        print(f\"{self.address}\")\n",
    "    "
   ]
  },
  {
   "cell_type": "code",
   "execution_count": 51,
   "id": "ae0899fc",
   "metadata": {
    "ExecuteTime": {
     "end_time": "2023-08-25T03:58:03.800379Z",
     "start_time": "2023-08-25T03:58:03.792393Z"
    }
   },
   "outputs": [
    {
     "name": "stdout",
     "output_type": "stream",
     "text": [
      "한중학 : 010-7777-8888"
     ]
    }
   ],
   "source": [
    "m3 = Middle('한중학', '010-7777-8888')\n",
    "m3.disp()"
   ]
  },
  {
   "cell_type": "code",
   "execution_count": 53,
   "id": "a999c7cd",
   "metadata": {
    "ExecuteTime": {
     "end_time": "2023-08-25T03:59:01.385482Z",
     "start_time": "2023-08-25T03:59:01.367953Z"
    }
   },
   "outputs": [
    {
     "name": "stdout",
     "output_type": "stream",
     "text": [
      "박고등 : 010-9999-9090서울시\n"
     ]
    }
   ],
   "source": [
    "h2 = High('박고등', '010-9999-9090', '서울시')\n",
    "h2.disp()"
   ]
  },
  {
   "cell_type": "code",
   "execution_count": 54,
   "id": "06894e22",
   "metadata": {
    "ExecuteTime": {
     "end_time": "2023-08-25T05:17:38.409384Z",
     "start_time": "2023-08-25T05:17:38.394314Z"
    }
   },
   "outputs": [],
   "source": [
    "# 회원정보를 관리할 목적의 클래스\n",
    "class Member:\n",
    "    # 생성자 메서드\n",
    "    def __init__(self, userid, pwd, name, age):\n",
    "        self.userid = userid\n",
    "        self.pwd =pwd\n",
    "        self.name = name\n",
    "        self.age = age\n",
    "        \n",
    "    # 멤버 메서드\n",
    "    def info(self):\n",
    "        print(\"아이디:\", self.userid,end = '')\n",
    "        print(\"비밀번호:\", self.pwd)\n",
    "        print(\"이름:\", self.name)\n",
    "        print(\"나이:\", self.age)"
   ]
  },
  {
   "cell_type": "code",
   "execution_count": 56,
   "id": "cd9e46b6",
   "metadata": {
    "ExecuteTime": {
     "end_time": "2023-08-25T05:22:18.072208Z",
     "start_time": "2023-08-25T05:22:18.055265Z"
    }
   },
   "outputs": [],
   "source": [
    "# 파생 클래스\n",
    "class MemberInfo(Member):\n",
    "    # 부모객체가 생성자를 가지고 있다면 자식 객체는 반드시 생성자를 기술\n",
    "    # 상속받은 자식객체는 반드시 부모객체의 멤버를 초기화할 의무가 있다.\n",
    "    def __init__(self, userid, pwd, name, age, job, hobby):\n",
    "        Member.__init__(self, userid, pwd, name, age)\n",
    "        self.job = job\n",
    "        self.hobby = hobby\n",
    "        \n",
    "    # 부모와 자식이 같은 이름의 메서드를 가지고 있는 경우 오버라이딩이라 부른다.\n",
    "    def info(self):\n",
    "        Member.info(self)\n",
    "        print(\"직업:\", self.job, end = '')\n",
    "        print(\"취미:\", self.hobby)"
   ]
  },
  {
   "cell_type": "code",
   "execution_count": 57,
   "id": "2b476342",
   "metadata": {
    "ExecuteTime": {
     "end_time": "2023-08-25T05:23:14.739842Z",
     "start_time": "2023-08-25T05:23:14.731785Z"
    }
   },
   "outputs": [
    {
     "name": "stdout",
     "output_type": "stream",
     "text": [
      "아이디: aaa비밀번호: 1234\n",
      "이름: 홍길동\n",
      "나이: 33\n",
      "직업: 개발자취미: 댄스\n"
     ]
    }
   ],
   "source": [
    "mem = MemberInfo('aaa', '1234', '홍길동', 33, '개발자', '댄스')\n",
    "mem.info()"
   ]
  },
  {
   "cell_type": "markdown",
   "id": "dbd622fd",
   "metadata": {},
   "source": [
    "<br>\n",
    "다음 주어진 조건에 만족하는 프로그램을 구현하시오.<br>\n",
    "<br>\n",
    "처리조건<br>\n",
    "1. 사용자가 원하는 도형을 입력받아 처리할 수 있도록 구현한다.<br>\n",
    "2. 점, 원, 사각형 중 하나를 입력 받아 처리한다.<br>\n",
    "3. 출력형식 및 입력 형식에 맞게 프로그램을 구현한다.<br>\n",
    "<br>\n",
    "입력형식<br>\n",
    "도형(1. 점, 2. 원, 3. 사각형, 4. 종료) = <br>\n",
    "  - 점을 선택한 경우<br>\n",
    "  x = 10<br>\n",
    "  y = 20<br>\n",
    "<br>  \n",
    "  점(x, y) = (10, 20)<br>\n",
    "<br>  \n",
    "  - 원을 선택한 경우<br>\n",
    "  x = 3<br>\n",
    "  y = 5<br>\n",
    "  r = 10<br>\n",
    "  점(x, y) = (3, 5)<br>\n",
    "  반지름(r) = 10<br>\n",
    "<br>  \n",
    "  - 사각형을 선택한 경우<br>\n",
    "  x = 10<br>\n",
    "  y = 9<br>\n",
    "  h = 20<br>\n",
    "  w = 7<br>\n",
    "  점(x, y) = (10, 9)<br>\n",
    "  높이(h) = 20, 너비(w) = 7<br>"
   ]
  },
  {
   "cell_type": "code",
   "execution_count": 58,
   "id": "cdd12cb6",
   "metadata": {
    "ExecuteTime": {
     "end_time": "2023-08-25T05:32:15.737475Z",
     "start_time": "2023-08-25T05:32:15.721952Z"
    }
   },
   "outputs": [],
   "source": [
    "# 평면 위의 한 점을 추상화 하는 클래스 Point 구현\n",
    "class Point:\n",
    "    # 멤버 필드\n",
    "    \n",
    "    # 생성자 메서드\n",
    "    def __init__(self):\n",
    "        self.xpos = int(input(\"x =\"))\n",
    "        self.ypos = int(input(\"y =\"))\n",
    "    # 멤버 메서드\n",
    "    def disp(self):\n",
    "        print(f\"점(x, y) = ({self.xpos}, {self.ypos})\")"
   ]
  },
  {
   "cell_type": "code",
   "execution_count": 59,
   "id": "c4dad1c8",
   "metadata": {
    "ExecuteTime": {
     "end_time": "2023-08-25T05:33:00.295113Z",
     "start_time": "2023-08-25T05:32:55.957452Z"
    }
   },
   "outputs": [
    {
     "name": "stdout",
     "output_type": "stream",
     "text": [
      "x =3\n",
      "y =6\n",
      "점(x, y) = (3, 6)\n"
     ]
    }
   ],
   "source": [
    "ap = Point()\n",
    "\n",
    "ap.disp()"
   ]
  },
  {
   "cell_type": "code",
   "execution_count": 67,
   "id": "9a4a4e76",
   "metadata": {
    "ExecuteTime": {
     "end_time": "2023-08-25T05:40:46.113653Z",
     "start_time": "2023-08-25T05:40:46.106604Z"
    }
   },
   "outputs": [],
   "source": [
    "# 반지름을 받아 원을 추상화하는 클래스 Circle\n",
    "class Circle(Point):\n",
    "    # 멤버 필드\n",
    "    \n",
    "    # 생성자 메서드\n",
    "    def __init__(self):\n",
    "        Point.__init__(self)\n",
    "        self.r = int(input(\"r =\"))\n",
    "    \n",
    "    # 멤버 메서드\n",
    "    def disp(self):\n",
    "        Point.disp(self)\n",
    "        print(f\"반지름(r) = {self.r}\")"
   ]
  },
  {
   "cell_type": "code",
   "execution_count": 68,
   "id": "699eacac",
   "metadata": {
    "ExecuteTime": {
     "end_time": "2023-08-25T05:40:51.489403Z",
     "start_time": "2023-08-25T05:40:46.867538Z"
    }
   },
   "outputs": [
    {
     "name": "stdout",
     "output_type": "stream",
     "text": [
      "x =4\n",
      "y =5\n",
      "r =6\n",
      "점(x, y) = (4, 5)\n",
      "반지름(r) = 6\n"
     ]
    }
   ],
   "source": [
    "ac = Circle()\n",
    "ac.disp()"
   ]
  },
  {
   "cell_type": "markdown",
   "id": "c9caae8c",
   "metadata": {},
   "source": [
    "### 급여관리 프로그램\n",
    "<br>\n",
    "A라는 회사의 직원의 급여를 관리할 목적으로 프로그램을 구현하려고 한다.<br>\n",
    "처음 이 회사가 창립될 때 채용한 모든 직원은 정규직 직원이다.<br>\n",
    "<br>\n",
    "- Entity Class: 단순히 자료를 담아서 보관할 목적으로 구현하는 클래스, Model(모델)<br>\n",
    "- Handler Class or Controller Class: 실제 프로그램을 동작할 목적으로 구현하는 클래스<br>\n",
    "<br>\n",
    "- 주요기능: 직원등록, 직원정보를 출력, 모든직원의 급여 정보와 총 지급하는 급여액 확인"
   ]
  },
  {
   "cell_type": "code",
   "execution_count": 102,
   "id": "4da4eaed",
   "metadata": {
    "ExecuteTime": {
     "end_time": "2023-08-25T07:07:42.671635Z",
     "start_time": "2023-08-25T07:07:42.665658Z"
    }
   },
   "outputs": [],
   "source": [
    "# 정규직 한 명을 관리할 목적으로 클래스 구현 \n",
    "class Permanent:  \n",
    "    # 멤버 필드\n",
    "    \n",
    "    # 생성자 메서드\n",
    "    def __init__(self, name, pay):\n",
    "        self.name = name\n",
    "        self.pay = pay\n",
    "        \n",
    "    # 멤버 메서드    \n",
    "    def disp(self):\n",
    "        print(f\"{self.name} : {self.pay}\")\n",
    "        \n",
    "    def getPay(self):\n",
    "        return self.pay"
   ]
  },
  {
   "cell_type": "code",
   "execution_count": 103,
   "id": "e100f414",
   "metadata": {
    "ExecuteTime": {
     "end_time": "2023-08-25T07:07:46.430478Z",
     "start_time": "2023-08-25T07:07:46.422378Z"
    }
   },
   "outputs": [
    {
     "name": "stdout",
     "output_type": "stream",
     "text": [
      "aaa : 1000\n"
     ]
    }
   ],
   "source": [
    "p1 = Permanent('aaa', 1000)\n",
    "p1.disp()"
   ]
  },
  {
   "cell_type": "code",
   "execution_count": 74,
   "id": "38628483",
   "metadata": {
    "ExecuteTime": {
     "end_time": "2023-08-25T05:55:26.879384Z",
     "start_time": "2023-08-25T05:55:26.863930Z"
    }
   },
   "outputs": [
    {
     "name": "stdout",
     "output_type": "stream",
     "text": [
      "aaa : 1000\n",
      "bbb : 1500\n",
      "ccc : 2800\n",
      "총급여액: 5300\n"
     ]
    }
   ],
   "source": [
    "# 직원 등록하는 기능\n",
    "p1 = Permanent('aaa', 1000)\n",
    "p2 = Permanent('bbb', 1500)\n",
    "p3 = Permanent('ccc', 2800)\n",
    "\n",
    "# 직원 정보 출력\n",
    "p1.disp()\n",
    "p2.disp()\n",
    "p3.disp()\n",
    "\n",
    "# 매달 지급되는 직원 급여의 총합\n",
    "total = p1.getPay() + p2.getPay() + p3.getPay()\n",
    "print(\"총급여액:\", total)"
   ]
  },
  {
   "cell_type": "code",
   "execution_count": 131,
   "id": "dccad19b",
   "metadata": {
    "ExecuteTime": {
     "end_time": "2023-08-25T08:00:50.655050Z",
     "start_time": "2023-08-25T08:00:32.869975Z"
    }
   },
   "outputs": [
    {
     "name": "stdout",
     "output_type": "stream",
     "text": [
      "\n",
      "[1]직원등록 [2]직원출력 [3]총지급액 [4]작업종료\n",
      "선택 = 1\n",
      "이름:aaa\n",
      "급여:200\n",
      "직원 등록이 완료되었습니다.\n",
      "\n",
      "[1]직원등록 [2]직원출력 [3]총지급액 [4]작업종료\n",
      "선택 = 2\n",
      "이름: aaa급여: 200\n",
      "\n",
      "[1]직원등록 [2]직원출력 [3]총지급액 [4]작업종료\n",
      "선택 = 4\n",
      "프로그램을 종료합니다.\n"
     ]
    }
   ],
   "source": [
    "# 전체 직원을 담을 컨테이너 객체\n",
    "emp = list()\n",
    "\n",
    "# 사용자의 선택에 의해 동작되도록 프로그램을 구현\n",
    "while True:\n",
    "    # 메뉴출력\n",
    "    print(\"\\n[1]직원등록 [2]직원출력 [3]총지급액 [4]작업종료\")\n",
    "    menu = int(input(\"선택 = \"))\n",
    "    \n",
    "    # 선택에 따라 동작하는 로직\n",
    "    if menu == 1:\n",
    "        name = input('이름:')\n",
    "        pay = int(input('급여:'))\n",
    "        p = Permanent(name, pay)\n",
    "        emp.append(p)\n",
    "        print(\"직원 등록이 완료되었습니다.\")\n",
    "        \n",
    "    elif menu == 2:\n",
    "        if len(emp) == 0:\n",
    "            print(\"등록된 직원이 없습니다.\")\n",
    "        else:\n",
    "            for e in emp:\n",
    "                e.disp()\n",
    "                \n",
    "    elif menu == 3:\n",
    "        if len(emp) == 0:\n",
    "            print(\"등록된 직원이 없습니다.\")\n",
    "        else:\n",
    "            tot = 0\n",
    "            for e in emp:\n",
    "                tot +=  e.getPay()\n",
    "            print(\"총지급액:\", tot)\n",
    "            \n",
    "    elif menu == 4:\n",
    "        print(\"프로그램을 종료합니다.\")\n",
    "        break\n",
    "        \n",
    "    else:\n",
    "        print(\"선택이 올바르지 않습니다.\")"
   ]
  },
  {
   "cell_type": "code",
   "execution_count": 136,
   "id": "09f77f7c",
   "metadata": {
    "ExecuteTime": {
     "end_time": "2023-08-25T08:04:32.905447Z",
     "start_time": "2023-08-25T08:04:32.900468Z"
    }
   },
   "outputs": [],
   "source": [
    "# Handler Class : 실제 처리를 담당하는 클래스\n",
    "class EmpManager:\n",
    "    # 멤버 필드\n",
    "    emp = list()\n",
    "    \n",
    "    # 멤버 메서드\n",
    "    ## 직원등록을 하는 메서드\n",
    "    def create(self):\n",
    "        name = input('이름 = ')\n",
    "        pay = int(input('급여 = '))\n",
    "        p = Permanent(name, pay)\n",
    "        emp.append(p)\n",
    "        print(\"직원등록이 완료되었습니다.\")\n",
    "        \n",
    "    ## 직원정보를 출력하는 메서드\n",
    "    def show(self):\n",
    "        if len(emp) == 0:\n",
    "            print(\"등록된 직원이 없습니다.\")            \n",
    "        else:\n",
    "            for e in emp:\n",
    "                e.disp()\n",
    "                \n",
    "    ## 총급여를 출력하는 메서드\n",
    "    def allPay(self):\n",
    "        tot = 0\n",
    "        for e in emp:\n",
    "            tot += e.getPay()\n",
    "        print(\"총지급액 : \", tot)"
   ]
  },
  {
   "cell_type": "code",
   "execution_count": 137,
   "id": "b38b9bdf",
   "metadata": {
    "ExecuteTime": {
     "end_time": "2023-08-25T08:05:22.150404Z",
     "start_time": "2023-08-25T08:05:08.391875Z"
    }
   },
   "outputs": [
    {
     "name": "stdout",
     "output_type": "stream",
     "text": [
      "\n",
      "[1]직원등록 [2]직원출력 [3]총지급액 [4]작업종료\n",
      "선택 = 1\n",
      "이름 = aaa\n",
      "급여 = 1500\n",
      "직원등록이 완료되었습니다.\n",
      "\n",
      "[1]직원등록 [2]직원출력 [3]총지급액 [4]작업종료\n",
      "선택 = 1\n",
      "이름 = bbb\n",
      "급여 = 3500\n",
      "직원등록이 완료되었습니다.\n",
      "\n",
      "[1]직원등록 [2]직원출력 [3]총지급액 [4]작업종료\n",
      "선택 = 2\n",
      "이름: aaa급여: 200\n",
      "이름: aaa급여: 1500\n",
      "이름: bbb급여: 3500\n",
      "\n",
      "[1]직원등록 [2]직원출력 [3]총지급액 [4]작업종료\n",
      "선택 = 3\n",
      "총지급액 :  5200\n",
      "\n",
      "[1]직원등록 [2]직원출력 [3]총지급액 [4]작업종료\n",
      "선택 = 4\n",
      "프로그램을 종료합니다.\n"
     ]
    }
   ],
   "source": [
    "# main process\n",
    "\n",
    "## 실제 처리를 담당하는 클래스의 인스턴스 객체 생성\n",
    "manager = EmpManager()\n",
    "\n",
    "# 사용자의 선택에 의해 동작되도록 프로그램을 구현\n",
    "while True:\n",
    "    # 메뉴출력\n",
    "    print(\"\\n[1]직원등록 [2]직원출력 [3]총지급액 [4]작업종료\")\n",
    "    menu = int(input('선택 = '))\n",
    "    \n",
    "    # 선택에 따라 동작하는 로직\n",
    "    if menu == 1:\n",
    "        manager.create()\n",
    "    elif menu == 2:\n",
    "        manager.show()\n",
    "    elif menu == 3:\n",
    "        manager.allPay()\n",
    "    elif menu == 4:\n",
    "        print(\"프로그램을 종료합니다.\")\n",
    "        break\n",
    "    else:\n",
    "        print(\"선택이 올바르지 않습니다.\")"
   ]
  },
  {
   "cell_type": "markdown",
   "id": "ecc6a0ab",
   "metadata": {},
   "source": [
    "- 회사가 성장을 하여 다양한 직군의 직원을 채용한다.\n",
    "- 정규직(Permanent): 이름, 기본급\n",
    "- 영업직(Sales): 이름, 기본급, 매출실적, 보너스, 급여(기본급 + 매출실적*보너스)\n",
    "- 임시직(Temporary): 이름, 근무시간, 시간 당 급여, 급여(근무시간*시간 당 급여)\n",
    "- 메서드 오버라이딩(Method Overriding): 부모 클래스에 선언된 메서드와 동일한 이름을 가진 메서드를 자식 클래스에도 선언한다. 이 때 자식 객체를 이용해서 해당 메서드를 호출하면 자식 메서드가 실행된다.\n",
    "\n",
    "<code>\n",
    "    직원(Employee): 이름, 급여(자식이 가졌으면 부모는 값을 갖고 있지 않아도 있어야함, 추상메서드)\n",
    "    - 정규직: 급여(기본급)\n",
    "    - 영업직: 급여(기본급 + 매출실적 * 보너스)\n",
    "    - 임시직: 급여(근무시간 * 시급)\n",
    "</code>"
   ]
  },
  {
   "cell_type": "code",
   "execution_count": 143,
   "id": "9188b83f",
   "metadata": {
    "ExecuteTime": {
     "end_time": "2023-08-25T08:08:22.629884Z",
     "start_time": "2023-08-25T08:08:22.618718Z"
    }
   },
   "outputs": [],
   "source": [
    "# 상위 클래스 : 부모 클래스\n",
    "class Employee:\n",
    "    # 멤버 필드\n",
    "    \n",
    "    # 생성자 메서드\n",
    "    def __init__(self, name):\n",
    "        self.name = name\n",
    "        \n",
    "    # 멤버 메서드\n",
    "    def disp(self):\n",
    "        print(\"이름 : \", self.name, end='')\n",
    "        \n",
    "    # 추상 메서드\n",
    "    def getPay(self):\n",
    "        return 0"
   ]
  },
  {
   "cell_type": "code",
   "execution_count": 144,
   "id": "4d8c8798",
   "metadata": {
    "ExecuteTime": {
     "end_time": "2023-08-25T08:08:23.831807Z",
     "start_time": "2023-08-25T08:08:23.818586Z"
    }
   },
   "outputs": [],
   "source": [
    "class Permanent(Employee):\n",
    "    # 멤버 필드\n",
    "    \n",
    "    # 생성자 메서드\n",
    "    def __init__(self, name, pay):\n",
    "        Employee.__init__(self, name)\n",
    "        self.pay = pay\n",
    "    \n",
    "    # Method Overriding(재정의)\n",
    "    def disp(self):\n",
    "        Employee.disp(self)\n",
    "        print(\"급여 : \", self.getPay())\n",
    "        \n",
    "    def getPay(self):\n",
    "        return self.pay"
   ]
  },
  {
   "cell_type": "code",
   "execution_count": 147,
   "id": "bfcb1bca",
   "metadata": {
    "ExecuteTime": {
     "end_time": "2023-08-25T08:14:43.892015Z",
     "start_time": "2023-08-25T08:14:43.885648Z"
    }
   },
   "outputs": [],
   "source": [
    "class Sales(Employee):\n",
    "    # 멤버 필드\n",
    "    \n",
    "    # 생성자 메서드\n",
    "    def __init__(self, name, pay, result, rate):\n",
    "        # 자식객체는 반드시 부모객체의 멤버를 초기화시켜줘야함\n",
    "        Employee.__init__(self, name)\n",
    "        self.pay = pay\n",
    "        self.result = result\n",
    "        self.rate = rate\n",
    "        \n",
    "    # Method Overriding\n",
    "    def getPay(self):\n",
    "        return self.pay + (self.result * self.rate)\n",
    "    \n",
    "    def disp(self):\n",
    "        Employee.disp(self)\n",
    "        print(\"급여:\", self.getPay())"
   ]
  },
  {
   "cell_type": "code",
   "execution_count": 153,
   "id": "55cbf518",
   "metadata": {
    "ExecuteTime": {
     "end_time": "2023-08-25T08:27:54.504478Z",
     "start_time": "2023-08-25T08:27:54.499493Z"
    }
   },
   "outputs": [],
   "source": [
    "class Temporary(Employee):\n",
    "    # 멤버 필드\n",
    "    \n",
    "    # 생성자 메서드\n",
    "    def __init__(self, name, time, tmoney):\n",
    "        Employee.__init__(self, name)\n",
    "        self.time = time\n",
    "        self.tmoney = tmoney\n",
    "        \n",
    "    # Method Overriding\n",
    "    def getPay(self):\n",
    "        return self.time * self.tmoney\n",
    "    \n",
    "    def disp(self):\n",
    "        Employee.disp(self)\n",
    "        print(\"급여:\", self.getPay())       "
   ]
  },
  {
   "cell_type": "code",
   "execution_count": 158,
   "id": "f3373866",
   "metadata": {
    "ExecuteTime": {
     "end_time": "2023-08-25T08:32:13.821814Z",
     "start_time": "2023-08-25T08:32:13.809031Z"
    }
   },
   "outputs": [],
   "source": [
    "# Handler Class : 실제 처리를 담당하는 클래스\n",
    "class EmpManager:\n",
    "    # 멤버 필드\n",
    "    emp = list()\n",
    "    ## self.멤버필드 : 인스턴스 변수, 인스턴스 마다 달라지는 값\n",
    "    ## 클래스명.멤버필드 : 클래스 변수, 모든 인스턴스 객체가 공통의 값을 갖는것\n",
    "    \n",
    "    # 멤버 메서드\n",
    "    ## 직원등록을 하는 메서드\n",
    "    def create(self):\n",
    "        print(\"직군을 선택하세요.\")\n",
    "        job = int(input('1.정규직  2.영업직  3.임시직 ='))\n",
    "        \n",
    "        if job == 1:\n",
    "            name = input('이름 = ')\n",
    "            pay = int(input('급여 = '))\n",
    "            p = Permanent(name, pay)\n",
    "            EmpManager.emp.append(p)\n",
    "        elif job == 2:\n",
    "            name = input('이름 = ')\n",
    "            pay = int(input('급여 = '))\n",
    "            result = int(input('판매실적 ='))\n",
    "            rate = eval(input('상여율 ='))\n",
    "            p = Sales(name, pay, result, rate)\n",
    "            EmpManager.emp.append(p)\n",
    "        elif job == 3:\n",
    "            name = input('이름 = ')\n",
    "            time = eval(input('근무시간 ='))\n",
    "            tmoney = int(input('시급 ='))\n",
    "            p = Temporary(name, time, tmoney)\n",
    "            EmpManager.emp.append(p)\n",
    "        else:\n",
    "            print(\"선택이 올바르지 않습니다.\")\n",
    "            \n",
    "            \n",
    "        print(\"직원등록이 완료되었습니다.\")\n",
    "        \n",
    "    ## 직원정보를 출력하는 메서드\n",
    "    def show(self):\n",
    "        if len(EmpManager.emp) == 0:\n",
    "            print(\"등록된 직원이 없습니다.\")            \n",
    "        else:\n",
    "            for e in EmpManager.emp:\n",
    "                e.disp()\n",
    "                \n",
    "    ## 총급여를 출력하는 메서드\n",
    "    def allPay(self):\n",
    "        tot = 0\n",
    "        for e in EmpManager.emp:\n",
    "            tot += e.getPay()\n",
    "        print(\"총지급액 : \", tot)"
   ]
  },
  {
   "cell_type": "code",
   "execution_count": 159,
   "id": "8bcbf837",
   "metadata": {
    "ExecuteTime": {
     "end_time": "2023-08-25T08:32:33.146765Z",
     "start_time": "2023-08-25T08:32:15.998245Z"
    }
   },
   "outputs": [
    {
     "name": "stdout",
     "output_type": "stream",
     "text": [
      "\n",
      "[1]직원등록 [2]직원출력 [3]총지급액 [4]작업종료\n",
      "선택 = 1\n",
      "직군을 선택하세요.\n",
      "1.정규직  2.영업직  3.임시직 =3\n",
      "이름 = 이소라\n",
      "근무시간 =5\n",
      "시급 =10000\n",
      "직원등록이 완료되었습니다.\n",
      "\n",
      "[1]직원등록 [2]직원출력 [3]총지급액 [4]작업종료\n",
      "선택 = 2\n",
      "이름 :  이소라급여: 50000\n",
      "\n",
      "[1]직원등록 [2]직원출력 [3]총지급액 [4]작업종료\n",
      "선택 = 3\n",
      "총지급액 :  50000\n",
      "\n",
      "[1]직원등록 [2]직원출력 [3]총지급액 [4]작업종료\n",
      "선택 = 4\n",
      "프로그램을 종료합니다.\n"
     ]
    }
   ],
   "source": [
    "# main process\n",
    "\n",
    "## 실제 처리를 담당하는 클래스의 인스턴스 객체 생성\n",
    "manager = EmpManager()\n",
    "\n",
    "# 사용자의 선택에 의해 동작되도록 프로그램을 구현\n",
    "while True:\n",
    "    # 메뉴출력\n",
    "    print(\"\\n[1]직원등록 [2]직원출력 [3]총지급액 [4]작업종료\")\n",
    "    menu = int(input('선택 = '))\n",
    "    \n",
    "    # 선택에 따라 동작하는 로직\n",
    "    if menu == 1:\n",
    "        manager.create()\n",
    "    elif menu == 2:\n",
    "        manager.show()\n",
    "    elif menu == 3:\n",
    "        manager.allPay()\n",
    "    elif menu == 4:\n",
    "        print(\"프로그램을 종료합니다.\")\n",
    "        break\n",
    "    else:\n",
    "        print(\"선택이 올바르지 않습니다.\")"
   ]
  },
  {
   "cell_type": "code",
   "execution_count": null,
   "id": "c0a76e46",
   "metadata": {},
   "outputs": [],
   "source": []
  }
 ],
 "metadata": {
  "kernelspec": {
   "display_name": "Python 3",
   "language": "python",
   "name": "python3"
  },
  "language_info": {
   "codemirror_mode": {
    "name": "ipython",
    "version": 3
   },
   "file_extension": ".py",
   "mimetype": "text/x-python",
   "name": "python",
   "nbconvert_exporter": "python",
   "pygments_lexer": "ipython3",
   "version": "3.8.8"
  },
  "toc": {
   "base_numbering": 1,
   "nav_menu": {},
   "number_sections": true,
   "sideBar": true,
   "skip_h1_title": false,
   "title_cell": "Table of Contents",
   "title_sidebar": "Contents",
   "toc_cell": false,
   "toc_position": {},
   "toc_section_display": true,
   "toc_window_display": false
  }
 },
 "nbformat": 4,
 "nbformat_minor": 5
}
