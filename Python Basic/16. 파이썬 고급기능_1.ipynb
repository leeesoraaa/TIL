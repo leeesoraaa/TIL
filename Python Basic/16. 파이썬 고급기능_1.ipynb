{
 "cells": [
  {
   "cell_type": "markdown",
   "id": "9079452c",
   "metadata": {},
   "source": [
    "# 언더바(_)\n",
    "\n",
    "1. 인터프리터에서의 마지막 값\n",
    "2. 무시하는 값(기억공간 최소화를 위해 변수를 쓰지 않고 언더바 사용)\n",
    "3. 숫자의 자릿수를 나타낼 때 - 큰 의미 없음\n",
    "4. 앞 언더바 1개: 모듈 내에서만 접근이 허용되는 객체\n",
    "5. 뒤 언더바 1개: 같은 이름의 충돌을 막기 위해 사용\n",
    "6. 앞 언더바 2개: 네임 맹글링\n",
    "7. 앞뒤 언더바 2개씩: 이미 정의되어있는 변수(매직 메서드)"
   ]
  },
  {
   "cell_type": "markdown",
   "id": "b0a91174",
   "metadata": {},
   "source": [
    "## 인터프리터에서의 마지막 값"
   ]
  },
  {
   "cell_type": "code",
   "execution_count": 1,
   "id": "3bae796e",
   "metadata": {
    "ExecuteTime": {
     "end_time": "2023-08-29T07:26:47.665527Z",
     "start_time": "2023-08-29T07:26:47.643600Z"
    }
   },
   "outputs": [
    {
     "data": {
      "text/plain": [
       "17"
      ]
     },
     "execution_count": 1,
     "metadata": {},
     "output_type": "execute_result"
    }
   ],
   "source": [
    "10 + 7"
   ]
  },
  {
   "cell_type": "code",
   "execution_count": 2,
   "id": "a667ce78",
   "metadata": {
    "ExecuteTime": {
     "end_time": "2023-08-29T07:27:21.780937Z",
     "start_time": "2023-08-29T07:27:21.767659Z"
    }
   },
   "outputs": [
    {
     "data": {
      "text/plain": [
       "20"
      ]
     },
     "execution_count": 2,
     "metadata": {},
     "output_type": "execute_result"
    }
   ],
   "source": [
    "_ + 3"
   ]
  },
  {
   "cell_type": "markdown",
   "id": "7570b0f7",
   "metadata": {},
   "source": [
    "## 무시하는 값\n",
    "\n",
    "- 변수는 기본적으로 기억장소를 할당받아 생성된다.\n",
    "- 기억장소의 낭비를 최소화하기 위해 변수가 필요하지 않는 상황에서 언더바 사용"
   ]
  },
  {
   "cell_type": "code",
   "execution_count": 3,
   "id": "34645796",
   "metadata": {
    "ExecuteTime": {
     "end_time": "2023-08-29T07:32:06.649145Z",
     "start_time": "2023-08-29T07:32:06.635191Z"
    }
   },
   "outputs": [
    {
     "name": "stdout",
     "output_type": "stream",
     "text": [
      "0\n",
      "1\n",
      "2\n",
      "3\n",
      "4\n"
     ]
    }
   ],
   "source": [
    "for _ in range(5):\n",
    "    print(_)"
   ]
  },
  {
   "cell_type": "code",
   "execution_count": 4,
   "id": "6afa8c80",
   "metadata": {
    "ExecuteTime": {
     "end_time": "2023-08-29T07:33:06.759039Z",
     "start_time": "2023-08-29T07:33:06.754057Z"
    }
   },
   "outputs": [
    {
     "name": "stdout",
     "output_type": "stream",
     "text": [
      "[1, 2, 3, 4, 5] 1 2 3 4 5\n"
     ]
    }
   ],
   "source": [
    "# packing: 하나의 변수에 여러 개의 값을 담는 행위\n",
    "a = [1,2,3,4,5]\n",
    "\n",
    "# unpacking: 여러 개의 값을 담은 변수를 각각의 변수에 풀어내는 행위\n",
    "aa, bb, cc, dd, ee = a\n",
    "\n",
    "print(a, aa, bb, cc, dd, ee)"
   ]
  },
  {
   "cell_type": "code",
   "execution_count": 5,
   "id": "39f8ee3e",
   "metadata": {
    "ExecuteTime": {
     "end_time": "2023-08-29T07:33:19.281014Z",
     "start_time": "2023-08-29T07:33:19.272535Z"
    }
   },
   "outputs": [
    {
     "name": "stdout",
     "output_type": "stream",
     "text": [
      "(1, 2, 3, 4, 5)\n"
     ]
    }
   ],
   "source": [
    "b = 1,2,3,4,5\n",
    "print(b)"
   ]
  },
  {
   "cell_type": "code",
   "execution_count": 6,
   "id": "7231e77b",
   "metadata": {
    "ExecuteTime": {
     "end_time": "2023-08-29T07:33:48.348732Z",
     "start_time": "2023-08-29T07:33:48.333278Z"
    }
   },
   "outputs": [
    {
     "name": "stdout",
     "output_type": "stream",
     "text": [
      "(1, 2, 3, 4, 5) 1 2 3 4 5\n"
     ]
    }
   ],
   "source": [
    "aa, bb, _, dd, ee = b\n",
    "print(b, aa, bb, _, dd, ee)"
   ]
  },
  {
   "cell_type": "code",
   "execution_count": 7,
   "id": "4734072d",
   "metadata": {
    "ExecuteTime": {
     "end_time": "2023-08-29T07:34:23.133895Z",
     "start_time": "2023-08-29T07:34:23.126322Z"
    }
   },
   "outputs": [],
   "source": [
    "# 가변길이 매개변수: *변수명\n",
    "def adder(a, b):\n",
    "    return a + b"
   ]
  },
  {
   "cell_type": "code",
   "execution_count": 8,
   "id": "50c72c8d",
   "metadata": {
    "ExecuteTime": {
     "end_time": "2023-08-29T07:34:30.083752Z",
     "start_time": "2023-08-29T07:34:30.072707Z"
    }
   },
   "outputs": [
    {
     "data": {
      "text/plain": [
       "7"
      ]
     },
     "execution_count": 8,
     "metadata": {},
     "output_type": "execute_result"
    }
   ],
   "source": [
    "adder(3,4)"
   ]
  },
  {
   "cell_type": "code",
   "execution_count": 13,
   "id": "161ae5ad",
   "metadata": {
    "ExecuteTime": {
     "end_time": "2023-08-29T07:37:44.471652Z",
     "start_time": "2023-08-29T07:37:44.460089Z"
    }
   },
   "outputs": [],
   "source": [
    "def adder(*ar): # ar: 튜플\n",
    "    print(type(ar))\n",
    "    tot = 0\n",
    "    for i in ar:\n",
    "        tot += i\n",
    "    return tot"
   ]
  },
  {
   "cell_type": "code",
   "execution_count": 14,
   "id": "98fbab98",
   "metadata": {
    "ExecuteTime": {
     "end_time": "2023-08-29T07:37:45.818699Z",
     "start_time": "2023-08-29T07:37:45.800531Z"
    }
   },
   "outputs": [
    {
     "name": "stdout",
     "output_type": "stream",
     "text": [
      "<class 'tuple'>\n"
     ]
    },
    {
     "data": {
      "text/plain": [
       "15"
      ]
     },
     "execution_count": 14,
     "metadata": {},
     "output_type": "execute_result"
    }
   ],
   "source": [
    "adder(1,2,3,4,5)"
   ]
  },
  {
   "cell_type": "code",
   "execution_count": 15,
   "id": "1530319b",
   "metadata": {
    "ExecuteTime": {
     "end_time": "2023-08-29T07:38:19.438672Z",
     "start_time": "2023-08-29T07:38:19.434616Z"
    }
   },
   "outputs": [],
   "source": [
    "def sample(**ar):\n",
    "    print(type(ar))\n",
    "    pass"
   ]
  },
  {
   "cell_type": "code",
   "execution_count": 16,
   "id": "b89d6307",
   "metadata": {
    "ExecuteTime": {
     "end_time": "2023-08-29T07:38:36.462223Z",
     "start_time": "2023-08-29T07:38:36.454251Z"
    }
   },
   "outputs": [
    {
     "name": "stdout",
     "output_type": "stream",
     "text": [
      "<class 'dict'>\n"
     ]
    }
   ],
   "source": [
    "sample(a = 100, b = 200)"
   ]
  },
  {
   "cell_type": "code",
   "execution_count": 17,
   "id": "f337d193",
   "metadata": {
    "ExecuteTime": {
     "end_time": "2023-08-29T07:40:20.833261Z",
     "start_time": "2023-08-29T07:40:20.819474Z"
    }
   },
   "outputs": [
    {
     "name": "stdout",
     "output_type": "stream",
     "text": [
      "1 [2, 3, 4] 5\n"
     ]
    }
   ],
   "source": [
    "x = [1,2,3,4,5]\n",
    "a, *_, c = x\n",
    "print(a, _, c)"
   ]
  },
  {
   "cell_type": "markdown",
   "id": "4f47762c",
   "metadata": {},
   "source": [
    "##  앞 언더바 1개인 변수 or 함수"
   ]
  },
  {
   "cell_type": "code",
   "execution_count": 19,
   "id": "b1426c6e",
   "metadata": {
    "ExecuteTime": {
     "end_time": "2023-08-29T07:45:48.677615Z",
     "start_time": "2023-08-29T07:45:48.664651Z"
    }
   },
   "outputs": [
    {
     "name": "stdout",
     "output_type": "stream",
     "text": [
      "hi\n"
     ]
    }
   ],
   "source": [
    "from greeting import *\n",
    "hi()"
   ]
  },
  {
   "cell_type": "code",
   "execution_count": 20,
   "id": "c879e4a2",
   "metadata": {
    "ExecuteTime": {
     "end_time": "2023-08-29T07:45:57.496981Z",
     "start_time": "2023-08-29T07:45:57.297384Z"
    }
   },
   "outputs": [
    {
     "ename": "NameError",
     "evalue": "name '_hello' is not defined",
     "output_type": "error",
     "traceback": [
      "\u001b[1;31m---------------------------------------------------------------------------\u001b[0m",
      "\u001b[1;31mNameError\u001b[0m                                 Traceback (most recent call last)",
      "\u001b[1;32m<ipython-input-20-62720c717c63>\u001b[0m in \u001b[0;36m<module>\u001b[1;34m\u001b[0m\n\u001b[1;32m----> 1\u001b[1;33m \u001b[0m_hello\u001b[0m\u001b[1;33m(\u001b[0m\u001b[1;33m)\u001b[0m\u001b[1;33m\u001b[0m\u001b[1;33m\u001b[0m\u001b[0m\n\u001b[0m",
      "\u001b[1;31mNameError\u001b[0m: name '_hello' is not defined"
     ]
    }
   ],
   "source": [
    "_hello()"
   ]
  },
  {
   "cell_type": "code",
   "execution_count": 21,
   "id": "b341e572",
   "metadata": {
    "ExecuteTime": {
     "end_time": "2023-08-29T07:46:01.180483Z",
     "start_time": "2023-08-29T07:46:01.156059Z"
    }
   },
   "outputs": [
    {
     "ename": "NameError",
     "evalue": "name 'hello' is not defined",
     "output_type": "error",
     "traceback": [
      "\u001b[1;31m---------------------------------------------------------------------------\u001b[0m",
      "\u001b[1;31mNameError\u001b[0m                                 Traceback (most recent call last)",
      "\u001b[1;32m<ipython-input-21-9eb7fa60ac78>\u001b[0m in \u001b[0;36m<module>\u001b[1;34m\u001b[0m\n\u001b[1;32m----> 1\u001b[1;33m \u001b[0mshow\u001b[0m\u001b[1;33m(\u001b[0m\u001b[1;33m)\u001b[0m\u001b[1;33m\u001b[0m\u001b[1;33m\u001b[0m\u001b[0m\n\u001b[0m",
      "\u001b[1;32mC:\\k-digital\\python Basic\\source\\source\\greeting.py\u001b[0m in \u001b[0;36mshow\u001b[1;34m()\u001b[0m\n\u001b[0;32m      6\u001b[0m \u001b[1;33m\u001b[0m\u001b[0m\n\u001b[0;32m      7\u001b[0m \u001b[1;32mdef\u001b[0m \u001b[0mshow\u001b[0m\u001b[1;33m(\u001b[0m\u001b[1;33m)\u001b[0m\u001b[1;33m:\u001b[0m\u001b[1;33m\u001b[0m\u001b[1;33m\u001b[0m\u001b[0m\n\u001b[1;32m----> 8\u001b[1;33m     \u001b[0m_hello\u001b[0m\u001b[1;33m(\u001b[0m\u001b[1;33m)\u001b[0m\u001b[1;33m\u001b[0m\u001b[1;33m\u001b[0m\u001b[0m\n\u001b[0m",
      "\u001b[1;31mNameError\u001b[0m: name 'hello' is not defined"
     ]
    }
   ],
   "source": [
    "show()"
   ]
  },
  {
   "cell_type": "code",
   "execution_count": 24,
   "id": "1a40c7b1",
   "metadata": {
    "ExecuteTime": {
     "end_time": "2023-08-29T07:46:41.511192Z",
     "start_time": "2023-08-29T07:46:41.504215Z"
    }
   },
   "outputs": [],
   "source": [
    "import greeting"
   ]
  },
  {
   "cell_type": "code",
   "execution_count": 26,
   "id": "d1d99b4c",
   "metadata": {
    "ExecuteTime": {
     "end_time": "2023-08-29T07:46:49.454560Z",
     "start_time": "2023-08-29T07:46:49.441598Z"
    }
   },
   "outputs": [
    {
     "name": "stdout",
     "output_type": "stream",
     "text": [
      "hi\n"
     ]
    }
   ],
   "source": [
    "greeting.hi()"
   ]
  },
  {
   "cell_type": "code",
   "execution_count": 27,
   "id": "a84e4e14",
   "metadata": {
    "ExecuteTime": {
     "end_time": "2023-08-29T07:47:00.781133Z",
     "start_time": "2023-08-29T07:47:00.763227Z"
    }
   },
   "outputs": [
    {
     "name": "stdout",
     "output_type": "stream",
     "text": [
      "hello\n"
     ]
    }
   ],
   "source": [
    "greeting._hello()  # 앞 언더바 1개인 함수는 모듈명을 명시해야 사용가능"
   ]
  },
  {
   "cell_type": "code",
   "execution_count": 28,
   "id": "033a0fc8",
   "metadata": {
    "ExecuteTime": {
     "end_time": "2023-08-29T07:47:21.788712Z",
     "start_time": "2023-08-29T07:47:21.770304Z"
    }
   },
   "outputs": [],
   "source": [
    "from greeting import hi, _hello"
   ]
  },
  {
   "cell_type": "code",
   "execution_count": 29,
   "id": "6e6d6cd2",
   "metadata": {
    "ExecuteTime": {
     "end_time": "2023-08-29T07:47:25.261557Z",
     "start_time": "2023-08-29T07:47:25.242751Z"
    }
   },
   "outputs": [
    {
     "name": "stdout",
     "output_type": "stream",
     "text": [
      "hi\n"
     ]
    }
   ],
   "source": [
    "hi()"
   ]
  },
  {
   "cell_type": "code",
   "execution_count": 30,
   "id": "0533182a",
   "metadata": {
    "ExecuteTime": {
     "end_time": "2023-08-29T07:47:29.352084Z",
     "start_time": "2023-08-29T07:47:29.338225Z"
    }
   },
   "outputs": [
    {
     "name": "stdout",
     "output_type": "stream",
     "text": [
      "hello\n"
     ]
    }
   ],
   "source": [
    "_hello()"
   ]
  },
  {
   "cell_type": "markdown",
   "id": "1d93792f",
   "metadata": {},
   "source": [
    "## 뒤 언더바 1개: 충돌회피용"
   ]
  },
  {
   "cell_type": "code",
   "execution_count": 32,
   "id": "4d85254b",
   "metadata": {
    "ExecuteTime": {
     "end_time": "2023-08-29T07:49:47.889878Z",
     "start_time": "2023-08-29T07:49:47.874614Z"
    }
   },
   "outputs": [
    {
     "name": "stdout",
     "output_type": "stream",
     "text": [
      "a =  100\n",
      "a =  100\n",
      "a =  1\n"
     ]
    }
   ],
   "source": [
    "a = 100\n",
    "print(\"a = \", a)\n",
    "a_ = 1\n",
    "print(\"a = \", a)\n",
    "print(\"a = \", a_)"
   ]
  },
  {
   "cell_type": "markdown",
   "id": "9717ac0d",
   "metadata": {},
   "source": [
    "## Name Mangling - 앞 언더바 2개: 네임 맹글링\n",
    "\n",
    "- 외부에서 클래스 속성값에 접근을 하지 못하도록 막을 때\n",
    "- 오버라이딩 방지용"
   ]
  },
  {
   "cell_type": "code",
   "execution_count": 38,
   "id": "7d9b6b3c",
   "metadata": {
    "ExecuteTime": {
     "end_time": "2023-08-29T07:56:50.802460Z",
     "start_time": "2023-08-29T07:56:50.790991Z"
    }
   },
   "outputs": [],
   "source": [
    "class Person:\n",
    "    def __init__(self):\n",
    "        self.name = \"홍길동\"\n",
    "        self.age = 25\n",
    "        self.__hobby = \"도둑질\"\n",
    "        \n",
    "class People(Person):\n",
    "    def __init__(self):\n",
    "        Person.__init__(self)\n",
    "        self.name = \"장보고\"  # 재정의\n",
    "        self.age = 30\n",
    "        self.__hobby = \"해적질\"  # __변수명 : 재정의 불가111111111111111"
   ]
  },
  {
   "cell_type": "code",
   "execution_count": 34,
   "id": "5fd1a87f",
   "metadata": {
    "ExecuteTime": {
     "end_time": "2023-08-29T07:55:31.976476Z",
     "start_time": "2023-08-29T07:55:31.966510Z"
    }
   },
   "outputs": [
    {
     "name": "stdout",
     "output_type": "stream",
     "text": [
      "장보고\n"
     ]
    }
   ],
   "source": [
    "c = People()\n",
    "print(c.name)"
   ]
  },
  {
   "cell_type": "code",
   "execution_count": 39,
   "id": "d410c1b1",
   "metadata": {
    "ExecuteTime": {
     "end_time": "2023-08-29T07:57:00.803687Z",
     "start_time": "2023-08-29T07:57:00.798066Z"
    }
   },
   "outputs": [
    {
     "data": {
      "text/plain": [
       "30"
      ]
     },
     "execution_count": 39,
     "metadata": {},
     "output_type": "execute_result"
    }
   ],
   "source": [
    "c.age"
   ]
  },
  {
   "cell_type": "code",
   "execution_count": 40,
   "id": "aa8a5fd8",
   "metadata": {
    "ExecuteTime": {
     "end_time": "2023-08-29T07:57:11.706182Z",
     "start_time": "2023-08-29T07:57:11.693093Z"
    }
   },
   "outputs": [
    {
     "ename": "AttributeError",
     "evalue": "'People' object has no attribute '__hobby'",
     "output_type": "error",
     "traceback": [
      "\u001b[1;31m---------------------------------------------------------------------------\u001b[0m",
      "\u001b[1;31mAttributeError\u001b[0m                            Traceback (most recent call last)",
      "\u001b[1;32m<ipython-input-40-630c4561b3d2>\u001b[0m in \u001b[0;36m<module>\u001b[1;34m\u001b[0m\n\u001b[1;32m----> 1\u001b[1;33m \u001b[0mc\u001b[0m\u001b[1;33m.\u001b[0m\u001b[0m__hobby\u001b[0m\u001b[1;33m\u001b[0m\u001b[1;33m\u001b[0m\u001b[0m\n\u001b[0m",
      "\u001b[1;31mAttributeError\u001b[0m: 'People' object has no attribute '__hobby'"
     ]
    }
   ],
   "source": [
    "c.__hobby"
   ]
  },
  {
   "cell_type": "code",
   "execution_count": 35,
   "id": "906c0996",
   "metadata": {
    "ExecuteTime": {
     "end_time": "2023-08-29T07:55:59.066653Z",
     "start_time": "2023-08-29T07:55:59.053762Z"
    }
   },
   "outputs": [],
   "source": [
    "class Person:\n",
    "    def __init__(self):\n",
    "        self.name = \"홍길동\"\n",
    "        self.age = 25\n",
    "        self.hobby = \"도둑질\"\n",
    "        \n",
    "class People(Person):\n",
    "    def __init__(self):\n",
    "        Person.__init__(self)\n",
    "#        self.name = \"장보고\"  \n",
    "#        self.age = 30\n",
    "#        self.hobby = \"해적질\""
   ]
  },
  {
   "cell_type": "code",
   "execution_count": 37,
   "id": "aeaad5a8",
   "metadata": {
    "ExecuteTime": {
     "end_time": "2023-08-29T07:56:25.057008Z",
     "start_time": "2023-08-29T07:56:25.050906Z"
    }
   },
   "outputs": [
    {
     "name": "stdout",
     "output_type": "stream",
     "text": [
      "홍길동\n"
     ]
    }
   ],
   "source": [
    "b = People()\n",
    "print(b.name)"
   ]
  },
  {
   "cell_type": "code",
   "execution_count": 41,
   "id": "4a52199f",
   "metadata": {
    "ExecuteTime": {
     "end_time": "2023-08-29T08:19:00.845199Z",
     "start_time": "2023-08-29T08:19:00.836393Z"
    }
   },
   "outputs": [],
   "source": [
    "class Book:\n",
    "    # 멤버 필드\n",
    "    __country = \"korea\"\n",
    "    city = \"seoul\"\n",
    "    \n",
    "    # 멤버 메서드\n",
    "    def updateCountry(self, country):\n",
    "        self.__country = country\n",
    "        \n",
    "    def getCountry(self):\n",
    "        return self.__country"
   ]
  },
  {
   "cell_type": "code",
   "execution_count": 42,
   "id": "6ce21674",
   "metadata": {
    "ExecuteTime": {
     "end_time": "2023-08-29T08:19:06.700981Z",
     "start_time": "2023-08-29T08:19:06.691530Z"
    }
   },
   "outputs": [
    {
     "name": "stdout",
     "output_type": "stream",
     "text": [
      "['_Book__country', '__class__', '__delattr__', '__dict__', '__dir__', '__doc__', '__eq__', '__format__', '__ge__', '__getattribute__', '__gt__', '__hash__', '__init__', '__init_subclass__', '__le__', '__lt__', '__module__', '__ne__', '__new__', '__reduce__', '__reduce_ex__', '__repr__', '__setattr__', '__sizeof__', '__str__', '__subclasshook__', '__weakref__', 'city', 'getCountry', 'updateCountry']\n"
     ]
    }
   ],
   "source": [
    "print(dir(Book))"
   ]
  },
  {
   "cell_type": "code",
   "execution_count": 43,
   "id": "9c4727fd",
   "metadata": {
    "ExecuteTime": {
     "end_time": "2023-08-29T08:21:25.944913Z",
     "start_time": "2023-08-29T08:21:25.930947Z"
    }
   },
   "outputs": [
    {
     "name": "stdout",
     "output_type": "stream",
     "text": [
      "워싱턴\n"
     ]
    }
   ],
   "source": [
    "book = Book()\n",
    "book.city = \"워싱턴\"\n",
    "print(book.city)"
   ]
  },
  {
   "cell_type": "code",
   "execution_count": 44,
   "id": "b936dd99",
   "metadata": {
    "ExecuteTime": {
     "end_time": "2023-08-29T08:21:53.909255Z",
     "start_time": "2023-08-29T08:21:53.902209Z"
    }
   },
   "outputs": [
    {
     "name": "stdout",
     "output_type": "stream",
     "text": [
      "USA\n"
     ]
    }
   ],
   "source": [
    "book.__country = \"USA\"\n",
    "print(book.__country)"
   ]
  },
  {
   "cell_type": "code",
   "execution_count": 45,
   "id": "92fa180e",
   "metadata": {
    "ExecuteTime": {
     "end_time": "2023-08-29T08:24:47.434412Z",
     "start_time": "2023-08-29T08:24:47.425313Z"
    }
   },
   "outputs": [
    {
     "name": "stdout",
     "output_type": "stream",
     "text": [
      "USA\n",
      "워싱턴\n"
     ]
    }
   ],
   "source": [
    "br = Book()\n",
    "br.__country = \"USA\"\n",
    "br.city = \"워싱턴\"\n",
    "\n",
    "print(br.__country)\n",
    "print(br.city)"
   ]
  },
  {
   "cell_type": "code",
   "execution_count": 46,
   "id": "b67e4fbc",
   "metadata": {
    "ExecuteTime": {
     "end_time": "2023-08-29T08:30:32.281315Z",
     "start_time": "2023-08-29T08:30:32.274340Z"
    }
   },
   "outputs": [],
   "source": [
    "class Book:\n",
    "    # 멤버 필드\n",
    "#    __country = \"korea\"\n",
    "#    city = \"seoul\"\n",
    "    def __init__(self):\n",
    "        __country = \"korea\"\n",
    "        city = \"seoul\"\n",
    "    \n",
    "    # 멤버 메서드\n",
    "    def updateCountry(self, country):\n",
    "        self.__country = country\n",
    "        \n",
    "    def getCountry(self):\n",
    "        return self.__country"
   ]
  },
  {
   "cell_type": "code",
   "execution_count": 48,
   "id": "3e0f67e5",
   "metadata": {
    "ExecuteTime": {
     "end_time": "2023-08-29T08:31:23.522870Z",
     "start_time": "2023-08-29T08:31:23.517887Z"
    }
   },
   "outputs": [
    {
     "name": "stdout",
     "output_type": "stream",
     "text": [
      "japan\n",
      "동경\n"
     ]
    }
   ],
   "source": [
    "book = Book()\n",
    "book.__country = \"japan\"\n",
    "book.city = '동경'\n",
    "print(book.__country)\n",
    "print(book.city)"
   ]
  },
  {
   "cell_type": "markdown",
   "id": "d960841d",
   "metadata": {},
   "source": [
    "# 클로저\n",
    "- 중첩함수: 함수 안에 또 다른 함수를 포함하고 있는 것"
   ]
  },
  {
   "cell_type": "code",
   "execution_count": 49,
   "id": "4ff51630",
   "metadata": {
    "ExecuteTime": {
     "end_time": "2023-08-29T08:35:27.288736Z",
     "start_time": "2023-08-29T08:35:27.271793Z"
    }
   },
   "outputs": [],
   "source": [
    "def calc():\n",
    "    a = 3\n",
    "    b = 5\n",
    "    \n",
    "    def mul_add(x):\n",
    "        return a * x + b\n",
    "    \n",
    "    return mul_add"
   ]
  },
  {
   "cell_type": "code",
   "execution_count": 50,
   "id": "ad733b3c",
   "metadata": {
    "ExecuteTime": {
     "end_time": "2023-08-29T08:37:37.503721Z",
     "start_time": "2023-08-29T08:37:37.488944Z"
    }
   },
   "outputs": [
    {
     "name": "stdout",
     "output_type": "stream",
     "text": [
      "<function calc.<locals>.mul_add at 0x0000018ACCDBC9D0>\n"
     ]
    }
   ],
   "source": [
    "c = calc()\n",
    "print(c)"
   ]
  },
  {
   "cell_type": "code",
   "execution_count": 51,
   "id": "e7da7938",
   "metadata": {
    "ExecuteTime": {
     "end_time": "2023-08-29T08:38:53.620924Z",
     "start_time": "2023-08-29T08:38:53.608626Z"
    }
   },
   "outputs": [],
   "source": [
    "def calc():\n",
    "    a = 3\n",
    "    b = 5\n",
    "    \n",
    "    return lambda x : a * x + b"
   ]
  },
  {
   "cell_type": "code",
   "execution_count": 52,
   "id": "51ebe973",
   "metadata": {
    "ExecuteTime": {
     "end_time": "2023-08-29T08:39:09.441587Z",
     "start_time": "2023-08-29T08:39:09.434520Z"
    }
   },
   "outputs": [
    {
     "data": {
      "text/plain": [
       "23"
      ]
     },
     "execution_count": 52,
     "metadata": {},
     "output_type": "execute_result"
    }
   ],
   "source": [
    "c = calc()\n",
    "c(6)"
   ]
  },
  {
   "cell_type": "code",
   "execution_count": null,
   "id": "d349c305",
   "metadata": {},
   "outputs": [],
   "source": []
  }
 ],
 "metadata": {
  "kernelspec": {
   "display_name": "Python 3",
   "language": "python",
   "name": "python3"
  },
  "language_info": {
   "codemirror_mode": {
    "name": "ipython",
    "version": 3
   },
   "file_extension": ".py",
   "mimetype": "text/x-python",
   "name": "python",
   "nbconvert_exporter": "python",
   "pygments_lexer": "ipython3",
   "version": "3.8.8"
  },
  "toc": {
   "base_numbering": 1,
   "nav_menu": {},
   "number_sections": true,
   "sideBar": true,
   "skip_h1_title": false,
   "title_cell": "Table of Contents",
   "title_sidebar": "Contents",
   "toc_cell": false,
   "toc_position": {},
   "toc_section_display": true,
   "toc_window_display": false
  }
 },
 "nbformat": 4,
 "nbformat_minor": 5
}
