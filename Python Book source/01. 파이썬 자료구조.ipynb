{
 "cells": [
  {
   "cell_type": "markdown",
   "id": "a4b47078",
   "metadata": {},
   "source": [
    "- 여러 개의 자료가 순서가 있을 때 리스트(list) 자료형 사용\n",
    "- 여러 개의 자료가 이름이 있을 때 딕셔너리(dictionary) 자료형 사용"
   ]
  },
  {
   "cell_type": "markdown",
   "id": "7ec0948c",
   "metadata": {},
   "source": [
    "# 자료의 순서만 가지는 리스트 자료형"
   ]
  },
  {
   "cell_type": "code",
   "execution_count": 1,
   "id": "db317cea",
   "metadata": {
    "ExecuteTime": {
     "end_time": "2023-08-30T02:52:49.643114Z",
     "start_time": "2023-08-30T02:52:49.630158Z"
    }
   },
   "outputs": [
    {
     "name": "stdout",
     "output_type": "stream",
     "text": [
      "[88, 90, 100]\n"
     ]
    }
   ],
   "source": [
    "x = [88,90,100]\n",
    "print(x)"
   ]
  },
  {
   "cell_type": "markdown",
   "id": "33385c07",
   "metadata": {},
   "source": [
    "- range(): R의 seq() 함수와 동일하다.\n",
    "- range(n): 0부터 1씩 증가하여 n개의 데이터\n",
    "- range(n, m): n부터 1씩 증가하여 m-1까지의 데이터\n",
    "- range(n, m, k): n부터 k씩 증가 또는 감소하여 m-1까지의 데이터"
   ]
  },
  {
   "cell_type": "code",
   "execution_count": 2,
   "id": "0b7135e8",
   "metadata": {
    "ExecuteTime": {
     "end_time": "2023-08-30T02:57:06.824915Z",
     "start_time": "2023-08-30T02:57:06.809571Z"
    }
   },
   "outputs": [
    {
     "name": "stdout",
     "output_type": "stream",
     "text": [
      "range(0, 5)\n"
     ]
    }
   ],
   "source": [
    "print(range(5))"
   ]
  },
  {
   "cell_type": "code",
   "execution_count": 3,
   "id": "ecc0c667",
   "metadata": {
    "ExecuteTime": {
     "end_time": "2023-08-30T02:57:12.700979Z",
     "start_time": "2023-08-30T02:57:12.682490Z"
    }
   },
   "outputs": [
    {
     "data": {
      "text/plain": [
       "[0, 1, 2, 3, 4]"
      ]
     },
     "execution_count": 3,
     "metadata": {},
     "output_type": "execute_result"
    }
   ],
   "source": [
    "list(range(5))"
   ]
  },
  {
   "cell_type": "code",
   "execution_count": 4,
   "id": "f1dfd2b4",
   "metadata": {
    "ExecuteTime": {
     "end_time": "2023-08-30T02:57:19.321855Z",
     "start_time": "2023-08-30T02:57:19.310872Z"
    }
   },
   "outputs": [
    {
     "data": {
      "text/plain": [
       "(0, 1, 2, 3, 4)"
      ]
     },
     "execution_count": 4,
     "metadata": {},
     "output_type": "execute_result"
    }
   ],
   "source": [
    "tuple(range(5))"
   ]
  },
  {
   "cell_type": "markdown",
   "id": "3b2a065b",
   "metadata": {},
   "source": [
    "## 인덱싱"
   ]
  },
  {
   "cell_type": "code",
   "execution_count": 5,
   "id": "d132b913",
   "metadata": {
    "ExecuteTime": {
     "end_time": "2023-08-30T03:11:05.120782Z",
     "start_time": "2023-08-30T03:11:05.106079Z"
    }
   },
   "outputs": [
    {
     "name": "stdout",
     "output_type": "stream",
     "text": [
      "88\n"
     ]
    }
   ],
   "source": [
    "print(x[0])"
   ]
  },
  {
   "cell_type": "code",
   "execution_count": 6,
   "id": "3f6ca14d",
   "metadata": {
    "ExecuteTime": {
     "end_time": "2023-08-30T03:11:09.467128Z",
     "start_time": "2023-08-30T03:11:09.452837Z"
    }
   },
   "outputs": [
    {
     "data": {
      "text/plain": [
       "90"
      ]
     },
     "execution_count": 6,
     "metadata": {},
     "output_type": "execute_result"
    }
   ],
   "source": [
    "x[1]"
   ]
  },
  {
   "cell_type": "code",
   "execution_count": 7,
   "id": "d7ee3fb6",
   "metadata": {
    "ExecuteTime": {
     "end_time": "2023-08-30T03:11:24.260399Z",
     "start_time": "2023-08-30T03:11:24.251164Z"
    }
   },
   "outputs": [
    {
     "data": {
      "text/plain": [
       "89.0"
      ]
     },
     "execution_count": 7,
     "metadata": {},
     "output_type": "execute_result"
    }
   ],
   "source": [
    "(x[0] + x[1]) / 2"
   ]
  },
  {
   "cell_type": "markdown",
   "id": "1b9df399",
   "metadata": {},
   "source": [
    "## 자료의 이름(key)만 가지는 딕셔너리 자료형\n",
    "- key와 value가 쌍으로 저장됨\n",
    "- key를 통해 value를 얻어옴\n",
    "- key는 중복을 허용하지 않음"
   ]
  },
  {
   "cell_type": "code",
   "execution_count": 8,
   "id": "1336bc9b",
   "metadata": {
    "ExecuteTime": {
     "end_time": "2023-08-30T03:13:34.984490Z",
     "start_time": "2023-08-30T03:13:34.976518Z"
    }
   },
   "outputs": [
    {
     "data": {
      "text/plain": [
       "{'kor': 88, 'eng': 90, 'math': 100}"
      ]
     },
     "execution_count": 8,
     "metadata": {},
     "output_type": "execute_result"
    }
   ],
   "source": [
    "y = {'kor': 88, 'eng': 90, 'math': 100}\n",
    "y"
   ]
  },
  {
   "cell_type": "code",
   "execution_count": 9,
   "id": "f7abab8a",
   "metadata": {
    "ExecuteTime": {
     "end_time": "2023-08-30T03:14:49.523281Z",
     "start_time": "2023-08-30T03:14:49.508066Z"
    }
   },
   "outputs": [
    {
     "data": {
      "text/plain": [
       "88"
      ]
     },
     "execution_count": 9,
     "metadata": {},
     "output_type": "execute_result"
    }
   ],
   "source": [
    "y[\"kor\"]"
   ]
  },
  {
   "cell_type": "code",
   "execution_count": 10,
   "id": "ad2814f1",
   "metadata": {
    "ExecuteTime": {
     "end_time": "2023-08-30T03:14:56.018935Z",
     "start_time": "2023-08-30T03:14:56.009136Z"
    }
   },
   "outputs": [
    {
     "data": {
      "text/plain": [
       "88"
      ]
     },
     "execution_count": 10,
     "metadata": {},
     "output_type": "execute_result"
    }
   ],
   "source": [
    "y.get(\"kor\")"
   ]
  },
  {
   "cell_type": "code",
   "execution_count": 11,
   "id": "242d4040",
   "metadata": {
    "ExecuteTime": {
     "end_time": "2023-08-30T03:15:12.483114Z",
     "start_time": "2023-08-30T03:15:12.474985Z"
    }
   },
   "outputs": [],
   "source": [
    "z = {1:10, 2:20}"
   ]
  },
  {
   "cell_type": "code",
   "execution_count": 12,
   "id": "ec0b3058",
   "metadata": {
    "ExecuteTime": {
     "end_time": "2023-08-30T03:15:18.177342Z",
     "start_time": "2023-08-30T03:15:18.159262Z"
    }
   },
   "outputs": [
    {
     "data": {
      "text/plain": [
       "10"
      ]
     },
     "execution_count": 12,
     "metadata": {},
     "output_type": "execute_result"
    }
   ],
   "source": [
    "z[1]"
   ]
  },
  {
   "cell_type": "code",
   "execution_count": 13,
   "id": "e8b05acc",
   "metadata": {
    "ExecuteTime": {
     "end_time": "2023-08-30T03:17:10.976148Z",
     "start_time": "2023-08-30T03:17:10.957281Z"
    }
   },
   "outputs": [
    {
     "data": {
      "text/plain": [
       "[[1, 10], [2, 20]]"
      ]
     },
     "execution_count": 13,
     "metadata": {},
     "output_type": "execute_result"
    }
   ],
   "source": [
    "a = [[1, 10], [2, 20]]\n",
    "a"
   ]
  },
  {
   "cell_type": "code",
   "execution_count": 14,
   "id": "36bbb5ce",
   "metadata": {
    "ExecuteTime": {
     "end_time": "2023-08-30T03:17:14.786603Z",
     "start_time": "2023-08-30T03:17:14.783524Z"
    }
   },
   "outputs": [
    {
     "data": {
      "text/plain": [
       "[1, 10]"
      ]
     },
     "execution_count": 14,
     "metadata": {},
     "output_type": "execute_result"
    }
   ],
   "source": [
    "a[0]"
   ]
  },
  {
   "cell_type": "code",
   "execution_count": 15,
   "id": "3f297760",
   "metadata": {
    "ExecuteTime": {
     "end_time": "2023-08-30T03:17:20.662086Z",
     "start_time": "2023-08-30T03:17:20.658015Z"
    }
   },
   "outputs": [
    {
     "data": {
      "text/plain": [
       "10"
      ]
     },
     "execution_count": 15,
     "metadata": {},
     "output_type": "execute_result"
    }
   ],
   "source": [
    "a[0][1]"
   ]
  },
  {
   "cell_type": "code",
   "execution_count": 16,
   "id": "6fd1518f",
   "metadata": {
    "ExecuteTime": {
     "end_time": "2023-08-30T03:17:51.397689Z",
     "start_time": "2023-08-30T03:17:51.384663Z"
    }
   },
   "outputs": [
    {
     "data": {
      "text/plain": [
       "[{0: 0, 1: 1}, {0: 1, 1: 2}]"
      ]
     },
     "execution_count": 16,
     "metadata": {},
     "output_type": "execute_result"
    }
   ],
   "source": [
    "b = [{0:0, 1:1}, {0:1, 1:2}]\n",
    "b"
   ]
  },
  {
   "cell_type": "code",
   "execution_count": 17,
   "id": "53bdb3a3",
   "metadata": {
    "ExecuteTime": {
     "end_time": "2023-08-30T03:18:04.270371Z",
     "start_time": "2023-08-30T03:18:04.259214Z"
    }
   },
   "outputs": [
    {
     "data": {
      "text/plain": [
       "{0: 0, 1: 1}"
      ]
     },
     "execution_count": 17,
     "metadata": {},
     "output_type": "execute_result"
    }
   ],
   "source": [
    "b[0]"
   ]
  },
  {
   "cell_type": "code",
   "execution_count": 19,
   "id": "e8e3c84c",
   "metadata": {
    "ExecuteTime": {
     "end_time": "2023-08-30T03:18:33.601113Z",
     "start_time": "2023-08-30T03:18:33.589276Z"
    }
   },
   "outputs": [
    {
     "data": {
      "text/plain": [
       "2"
      ]
     },
     "execution_count": 19,
     "metadata": {},
     "output_type": "execute_result"
    }
   ],
   "source": [
    "b[1][1]"
   ]
  },
  {
   "cell_type": "code",
   "execution_count": 20,
   "id": "1829db92",
   "metadata": {
    "ExecuteTime": {
     "end_time": "2023-08-30T03:19:20.280437Z",
     "start_time": "2023-08-30T03:19:20.266080Z"
    }
   },
   "outputs": [
    {
     "data": {
      "text/plain": [
       "{'a': [1, 2, 3], 'b': {0: 1, 1: 2}}"
      ]
     },
     "execution_count": 20,
     "metadata": {},
     "output_type": "execute_result"
    }
   ],
   "source": [
    "c = {'a':[1,2,3], 'b':{0:1, 1:2}}\n",
    "c"
   ]
  },
  {
   "cell_type": "code",
   "execution_count": 21,
   "id": "e94f494d",
   "metadata": {
    "ExecuteTime": {
     "end_time": "2023-08-30T03:20:28.879861Z",
     "start_time": "2023-08-30T03:20:28.861402Z"
    }
   },
   "outputs": [
    {
     "data": {
      "text/plain": [
       "2"
      ]
     },
     "execution_count": 21,
     "metadata": {},
     "output_type": "execute_result"
    }
   ],
   "source": [
    "c['b'][1]"
   ]
  },
  {
   "cell_type": "markdown",
   "id": "69f67457",
   "metadata": {},
   "source": [
    "# 리스트 자료형을 다루는 주요 함수\n",
    "## 자료의 개수: len"
   ]
  },
  {
   "cell_type": "code",
   "execution_count": 22,
   "id": "59227220",
   "metadata": {
    "ExecuteTime": {
     "end_time": "2023-08-30T03:21:45.692555Z",
     "start_time": "2023-08-30T03:21:45.679194Z"
    }
   },
   "outputs": [
    {
     "data": {
      "text/plain": [
       "5"
      ]
     },
     "execution_count": 22,
     "metadata": {},
     "output_type": "execute_result"
    }
   ],
   "source": [
    "a = [1,2,3,4,5]\n",
    "len(a)"
   ]
  },
  {
   "cell_type": "markdown",
   "id": "b0e64980",
   "metadata": {},
   "source": [
    "## 수열 생성: 순차적인 자료, range()"
   ]
  },
  {
   "cell_type": "code",
   "execution_count": 23,
   "id": "2f2ee958",
   "metadata": {
    "ExecuteTime": {
     "end_time": "2023-08-30T03:23:54.362850Z",
     "start_time": "2023-08-30T03:23:54.348829Z"
    }
   },
   "outputs": [
    {
     "data": {
      "text/plain": [
       "range(0, 10)"
      ]
     },
     "execution_count": 23,
     "metadata": {},
     "output_type": "execute_result"
    }
   ],
   "source": [
    "b = range(10)\n",
    "b"
   ]
  },
  {
   "cell_type": "code",
   "execution_count": 24,
   "id": "7a70ed32",
   "metadata": {
    "ExecuteTime": {
     "end_time": "2023-08-30T03:23:58.156347Z",
     "start_time": "2023-08-30T03:23:58.147375Z"
    }
   },
   "outputs": [
    {
     "data": {
      "text/plain": [
       "[0, 1, 2, 3, 4, 5, 6, 7, 8, 9]"
      ]
     },
     "execution_count": 24,
     "metadata": {},
     "output_type": "execute_result"
    }
   ],
   "source": [
    "list(b)"
   ]
  },
  {
   "cell_type": "code",
   "execution_count": 25,
   "id": "b23057a3",
   "metadata": {
    "ExecuteTime": {
     "end_time": "2023-08-30T03:24:12.102530Z",
     "start_time": "2023-08-30T03:24:12.085815Z"
    }
   },
   "outputs": [
    {
     "data": {
      "text/plain": [
       "[1, 2, 3, 4, 5, 6, 7, 8, 9]"
      ]
     },
     "execution_count": 25,
     "metadata": {},
     "output_type": "execute_result"
    }
   ],
   "source": [
    "c = range(1, 10)\n",
    "list(c)"
   ]
  },
  {
   "cell_type": "code",
   "execution_count": 26,
   "id": "827000b0",
   "metadata": {
    "ExecuteTime": {
     "end_time": "2023-08-30T03:24:21.950750Z",
     "start_time": "2023-08-30T03:24:21.936384Z"
    }
   },
   "outputs": [
    {
     "data": {
      "text/plain": [
       "[1, 4, 7]"
      ]
     },
     "execution_count": 26,
     "metadata": {},
     "output_type": "execute_result"
    }
   ],
   "source": [
    "d = range(1, 10, 3)\n",
    "list(d)"
   ]
  },
  {
   "cell_type": "markdown",
   "id": "d8f1db5d",
   "metadata": {},
   "source": [
    "## 값을 변경: update\n",
    "- 변수는 하나의 데이터를 담는 기억장소\n",
    "- 변수에 새로운 데이터가 들어오면 전에 기억된 값이 지워짐"
   ]
  },
  {
   "cell_type": "code",
   "execution_count": 27,
   "id": "90f307bf",
   "metadata": {
    "ExecuteTime": {
     "end_time": "2023-08-30T03:27:52.787462Z",
     "start_time": "2023-08-30T03:27:52.776382Z"
    }
   },
   "outputs": [
    {
     "name": "stdout",
     "output_type": "stream",
     "text": [
      "2\n"
     ]
    }
   ],
   "source": [
    "a = 1\n",
    "a = 2\n",
    "print(a)"
   ]
  },
  {
   "cell_type": "markdown",
   "id": "ebd4e8e8",
   "metadata": {},
   "source": [
    "## 값을 추가: append, insert\n",
    "- append(값): 리스트의 자료의 마지막 위치에 값이 추가되는 메서드\n",
    "- insert(인덱스, 값): 주어진 인덱스 위치에 값을 추가하는 메서드"
   ]
  },
  {
   "cell_type": "code",
   "execution_count": 28,
   "id": "c20b8929",
   "metadata": {
    "ExecuteTime": {
     "end_time": "2023-08-30T03:28:15.799046Z",
     "start_time": "2023-08-30T03:28:15.793006Z"
    }
   },
   "outputs": [
    {
     "data": {
      "text/plain": [
       "[0, 1, 2, 3]"
      ]
     },
     "execution_count": 28,
     "metadata": {},
     "output_type": "execute_result"
    }
   ],
   "source": [
    "xx = list(range(4))\n",
    "xx"
   ]
  },
  {
   "cell_type": "code",
   "execution_count": 29,
   "id": "dd253013",
   "metadata": {
    "ExecuteTime": {
     "end_time": "2023-08-30T03:28:24.152109Z",
     "start_time": "2023-08-30T03:28:24.134706Z"
    }
   },
   "outputs": [
    {
     "data": {
      "text/plain": [
       "[0, 1, 2, 3, 4]"
      ]
     },
     "execution_count": 29,
     "metadata": {},
     "output_type": "execute_result"
    }
   ],
   "source": [
    "xx.append(4)\n",
    "xx"
   ]
  },
  {
   "cell_type": "code",
   "execution_count": 30,
   "id": "d6d32f79",
   "metadata": {
    "ExecuteTime": {
     "end_time": "2023-08-30T03:28:32.463135Z",
     "start_time": "2023-08-30T03:28:32.451170Z"
    }
   },
   "outputs": [
    {
     "data": {
      "text/plain": [
       "[0, 1, 2, 3, 4, 10]"
      ]
     },
     "execution_count": 30,
     "metadata": {},
     "output_type": "execute_result"
    }
   ],
   "source": [
    "xx.append(10)\n",
    "xx"
   ]
  },
  {
   "cell_type": "code",
   "execution_count": 31,
   "id": "c8f62078",
   "metadata": {
    "ExecuteTime": {
     "end_time": "2023-08-30T03:28:56.367282Z",
     "start_time": "2023-08-30T03:28:56.357840Z"
    }
   },
   "outputs": [
    {
     "ename": "IndexError",
     "evalue": "list assignment index out of range",
     "output_type": "error",
     "traceback": [
      "\u001b[1;31m---------------------------------------------------------------------------\u001b[0m",
      "\u001b[1;31mIndexError\u001b[0m                                Traceback (most recent call last)",
      "\u001b[1;32m<ipython-input-31-6cbdbf8aa882>\u001b[0m in \u001b[0;36m<module>\u001b[1;34m\u001b[0m\n\u001b[1;32m----> 1\u001b[1;33m \u001b[0mxx\u001b[0m\u001b[1;33m[\u001b[0m\u001b[1;36m6\u001b[0m\u001b[1;33m]\u001b[0m \u001b[1;33m=\u001b[0m \u001b[1;36m20\u001b[0m \u001b[1;31m# error\u001b[0m\u001b[1;33m\u001b[0m\u001b[1;33m\u001b[0m\u001b[0m\n\u001b[0m",
      "\u001b[1;31mIndexError\u001b[0m: list assignment index out of range"
     ]
    }
   ],
   "source": [
    "xx[6] = 20 # error "
   ]
  },
  {
   "cell_type": "code",
   "execution_count": 32,
   "id": "d64277ca",
   "metadata": {
    "ExecuteTime": {
     "end_time": "2023-08-30T03:30:15.480234Z",
     "start_time": "2023-08-30T03:30:15.465948Z"
    }
   },
   "outputs": [
    {
     "data": {
      "text/plain": [
       "[0, 1, 2, 3, 4, 10, [20, 30, 40]]"
      ]
     },
     "execution_count": 32,
     "metadata": {},
     "output_type": "execute_result"
    }
   ],
   "source": [
    "xx.append([20, 30, 40])\n",
    "xx"
   ]
  },
  {
   "cell_type": "code",
   "execution_count": 33,
   "id": "3af8afd1",
   "metadata": {
    "ExecuteTime": {
     "end_time": "2023-08-30T03:30:31.310383Z",
     "start_time": "2023-08-30T03:30:31.292375Z"
    }
   },
   "outputs": [],
   "source": [
    "xx.extend([20, 30, 40])  # 여러 개의 값을 담을 때 extend 함수 사용"
   ]
  },
  {
   "cell_type": "code",
   "execution_count": 34,
   "id": "0d448623",
   "metadata": {
    "ExecuteTime": {
     "end_time": "2023-08-30T03:30:33.942671Z",
     "start_time": "2023-08-30T03:30:33.937689Z"
    }
   },
   "outputs": [
    {
     "data": {
      "text/plain": [
       "[0, 1, 2, 3, 4, 10, [20, 30, 40], 20, 30, 40]"
      ]
     },
     "execution_count": 34,
     "metadata": {},
     "output_type": "execute_result"
    }
   ],
   "source": [
    "xx"
   ]
  },
  {
   "cell_type": "code",
   "execution_count": 114,
   "id": "4982d7b2",
   "metadata": {
    "ExecuteTime": {
     "end_time": "2023-08-30T06:33:55.724811Z",
     "start_time": "2023-08-30T06:33:55.710860Z"
    }
   },
   "outputs": [
    {
     "data": {
      "text/plain": [
       "[1, 2, 3, 4, 5]"
      ]
     },
     "execution_count": 114,
     "metadata": {},
     "output_type": "execute_result"
    }
   ],
   "source": [
    "sam = [1,2,3]\n",
    "sam.append(4)  # 맨 뒤에 추가됨\n",
    "sam.append(5)\n",
    "sam"
   ]
  },
  {
   "cell_type": "code",
   "execution_count": 115,
   "id": "08e37485",
   "metadata": {
    "ExecuteTime": {
     "end_time": "2023-08-30T06:33:59.352249Z",
     "start_time": "2023-08-30T06:33:59.344181Z"
    }
   },
   "outputs": [
    {
     "data": {
      "text/plain": [
       "[10, 1, 2, 3, 4, 5]"
      ]
     },
     "execution_count": 115,
     "metadata": {},
     "output_type": "execute_result"
    }
   ],
   "source": [
    "sam.insert(0, 10)  # 지정한 인덱스 위치에 추가됨\n",
    "sam"
   ]
  },
  {
   "cell_type": "markdown",
   "id": "ba4f87bd",
   "metadata": {},
   "source": [
    "## 값을 삭제: del, remove(), pop(), clear()\n",
    "- del 명령어: del 객체[인덱스]\n",
    "- remove 메서드: remove(값)\n",
    "- pop 메서드: 리스트의 마지막 요소 추출  \n",
    "  리스트명.pop(): 마지막 요소 추출  \n",
    "  리스트명.pop(인덱스): 해당 인덱스의 요소 추출 \n",
    "- clear(): 리스트 내부의 모든 요소 제거"
   ]
  },
  {
   "cell_type": "code",
   "execution_count": 35,
   "id": "80a73db1",
   "metadata": {
    "ExecuteTime": {
     "end_time": "2023-08-30T03:33:39.734251Z",
     "start_time": "2023-08-30T03:33:39.721126Z"
    }
   },
   "outputs": [
    {
     "data": {
      "text/plain": [
       "[0, 1, 2, 3, 4]"
      ]
     },
     "execution_count": 35,
     "metadata": {},
     "output_type": "execute_result"
    }
   ],
   "source": [
    "yy = list(range(5))\n",
    "yy"
   ]
  },
  {
   "cell_type": "code",
   "execution_count": 36,
   "id": "e5f48505",
   "metadata": {
    "ExecuteTime": {
     "end_time": "2023-08-30T03:33:47.020513Z",
     "start_time": "2023-08-30T03:33:47.005565Z"
    }
   },
   "outputs": [
    {
     "data": {
      "text/plain": [
       "[1, 2, 3, 4]"
      ]
     },
     "execution_count": 36,
     "metadata": {},
     "output_type": "execute_result"
    }
   ],
   "source": [
    "del yy[0]\n",
    "yy"
   ]
  },
  {
   "cell_type": "code",
   "execution_count": 37,
   "id": "de8b5275",
   "metadata": {
    "ExecuteTime": {
     "end_time": "2023-08-30T03:34:09.949158Z",
     "start_time": "2023-08-30T03:34:09.942534Z"
    }
   },
   "outputs": [
    {
     "data": {
      "text/plain": [
       "[1, 1, 2, 3, 3, 3, 4, 4, 4, 4]"
      ]
     },
     "execution_count": 37,
     "metadata": {},
     "output_type": "execute_result"
    }
   ],
   "source": [
    "zz = [1,1,2,3,3,3,4,4,4,4]\n",
    "zz"
   ]
  },
  {
   "cell_type": "code",
   "execution_count": 38,
   "id": "55bb9349",
   "metadata": {
    "ExecuteTime": {
     "end_time": "2023-08-30T03:34:17.936063Z",
     "start_time": "2023-08-30T03:34:17.920048Z"
    }
   },
   "outputs": [],
   "source": [
    "del zz[0]"
   ]
  },
  {
   "cell_type": "code",
   "execution_count": 39,
   "id": "ab8f17b4",
   "metadata": {
    "ExecuteTime": {
     "end_time": "2023-08-30T03:34:19.951035Z",
     "start_time": "2023-08-30T03:34:19.943913Z"
    }
   },
   "outputs": [
    {
     "data": {
      "text/plain": [
       "[1, 2, 3, 3, 3, 4, 4, 4, 4]"
      ]
     },
     "execution_count": 39,
     "metadata": {},
     "output_type": "execute_result"
    }
   ],
   "source": [
    "zz"
   ]
  },
  {
   "cell_type": "code",
   "execution_count": 41,
   "id": "2546cf8c",
   "metadata": {
    "ExecuteTime": {
     "end_time": "2023-08-30T03:34:42.480986Z",
     "start_time": "2023-08-30T03:34:42.471328Z"
    }
   },
   "outputs": [
    {
     "data": {
      "text/plain": [
       "[1, 2, 3, 3, 4, 4, 4, 4]"
      ]
     },
     "execution_count": 41,
     "metadata": {},
     "output_type": "execute_result"
    }
   ],
   "source": [
    "zz.remove(3)  # 첫번째 3만 제거됨\n",
    "zz"
   ]
  },
  {
   "cell_type": "markdown",
   "id": "f9bc3b18",
   "metadata": {},
   "source": [
    "## 슬라이싱(slicing)\n",
    "- 시작 인덱스: 마지막 인덱스 + 1"
   ]
  },
  {
   "cell_type": "code",
   "execution_count": 42,
   "id": "debd09ab",
   "metadata": {
    "ExecuteTime": {
     "end_time": "2023-08-30T03:36:58.566174Z",
     "start_time": "2023-08-30T03:36:58.556471Z"
    }
   },
   "outputs": [
    {
     "data": {
      "text/plain": [
       "[0, 1, 2, 3, 4, 5, 6, 7, 8, 9, 10, 11, 12, 13, 14, 15, 16, 17, 18, 19]"
      ]
     },
     "execution_count": 42,
     "metadata": {},
     "output_type": "execute_result"
    }
   ],
   "source": [
    "a = list(range(20))\n",
    "a"
   ]
  },
  {
   "cell_type": "code",
   "execution_count": 43,
   "id": "707256ac",
   "metadata": {
    "ExecuteTime": {
     "end_time": "2023-08-30T03:37:47.501955Z",
     "start_time": "2023-08-30T03:37:47.490236Z"
    }
   },
   "outputs": [
    {
     "data": {
      "text/plain": [
       "[0, 1, 2, 3, 4]"
      ]
     },
     "execution_count": 43,
     "metadata": {},
     "output_type": "execute_result"
    }
   ],
   "source": [
    "a[0:5]"
   ]
  },
  {
   "cell_type": "code",
   "execution_count": 44,
   "id": "918b1226",
   "metadata": {
    "ExecuteTime": {
     "end_time": "2023-08-30T03:38:45.533815Z",
     "start_time": "2023-08-30T03:38:45.502357Z"
    }
   },
   "outputs": [
    {
     "data": {
      "text/plain": [
       "[10, 11, 12, 13, 14]"
      ]
     },
     "execution_count": 44,
     "metadata": {},
     "output_type": "execute_result"
    }
   ],
   "source": [
    "# 11번째에서 15번째 자료를 추출\n",
    "a[10:15]"
   ]
  },
  {
   "cell_type": "markdown",
   "id": "1cdc15c3",
   "metadata": {},
   "source": [
    "## 역 인덱싱(음수인덱싱) = 리버스 인덱싱"
   ]
  },
  {
   "cell_type": "code",
   "execution_count": 45,
   "id": "00dd995f",
   "metadata": {
    "ExecuteTime": {
     "end_time": "2023-08-30T03:40:14.673738Z",
     "start_time": "2023-08-30T03:40:14.658196Z"
    }
   },
   "outputs": [
    {
     "data": {
      "text/plain": [
       "[0, 1, 2, 3, 4, 5, 6, 7, 8, 9, 10, 11, 12, 13, 14, 15, 16, 17, 18, 19]"
      ]
     },
     "execution_count": 45,
     "metadata": {},
     "output_type": "execute_result"
    }
   ],
   "source": [
    "a"
   ]
  },
  {
   "cell_type": "code",
   "execution_count": 46,
   "id": "7e7da30c",
   "metadata": {
    "ExecuteTime": {
     "end_time": "2023-08-30T03:40:21.842866Z",
     "start_time": "2023-08-30T03:40:21.811580Z"
    }
   },
   "outputs": [
    {
     "data": {
      "text/plain": [
       "19"
      ]
     },
     "execution_count": 46,
     "metadata": {},
     "output_type": "execute_result"
    }
   ],
   "source": [
    "a[len(a) - 1]"
   ]
  },
  {
   "cell_type": "code",
   "execution_count": 47,
   "id": "d78117c7",
   "metadata": {
    "ExecuteTime": {
     "end_time": "2023-08-30T03:40:29.087587Z",
     "start_time": "2023-08-30T03:40:29.078374Z"
    }
   },
   "outputs": [
    {
     "data": {
      "text/plain": [
       "19"
      ]
     },
     "execution_count": 47,
     "metadata": {},
     "output_type": "execute_result"
    }
   ],
   "source": [
    "a[-1]"
   ]
  },
  {
   "cell_type": "code",
   "execution_count": 48,
   "id": "395fcc40",
   "metadata": {
    "ExecuteTime": {
     "end_time": "2023-08-30T03:41:55.723173Z",
     "start_time": "2023-08-30T03:41:55.718233Z"
    }
   },
   "outputs": [
    {
     "data": {
      "text/plain": [
       "[17, 18, 19]"
      ]
     },
     "execution_count": 48,
     "metadata": {},
     "output_type": "execute_result"
    }
   ],
   "source": [
    "a[-3:]"
   ]
  },
  {
   "cell_type": "code",
   "execution_count": 49,
   "id": "7a0f6865",
   "metadata": {
    "ExecuteTime": {
     "end_time": "2023-08-30T03:42:01.892528Z",
     "start_time": "2023-08-30T03:42:01.883489Z"
    }
   },
   "outputs": [
    {
     "data": {
      "text/plain": [
       "[17, 18]"
      ]
     },
     "execution_count": 49,
     "metadata": {},
     "output_type": "execute_result"
    }
   ],
   "source": [
    "a[-3:-1]"
   ]
  },
  {
   "cell_type": "markdown",
   "id": "b9b8467e",
   "metadata": {},
   "source": [
    "## packing/unpacking, 복수할당"
   ]
  },
  {
   "cell_type": "code",
   "execution_count": 50,
   "id": "fbf95816",
   "metadata": {
    "ExecuteTime": {
     "end_time": "2023-08-30T03:43:50.484924Z",
     "start_time": "2023-08-30T03:43:50.480949Z"
    }
   },
   "outputs": [],
   "source": [
    "a = [1,2,3]\n",
    "h1, h2, h3 = a  # 개수가 같아야 함"
   ]
  },
  {
   "cell_type": "code",
   "execution_count": 51,
   "id": "90fd7740",
   "metadata": {
    "ExecuteTime": {
     "end_time": "2023-08-30T03:43:58.997010Z",
     "start_time": "2023-08-30T03:43:58.979987Z"
    }
   },
   "outputs": [
    {
     "name": "stdout",
     "output_type": "stream",
     "text": [
      "1 2 3\n"
     ]
    }
   ],
   "source": [
    "print(h1, h2, h3)"
   ]
  },
  {
   "cell_type": "code",
   "execution_count": 52,
   "id": "7f65c5f8",
   "metadata": {
    "ExecuteTime": {
     "end_time": "2023-08-30T03:44:39.609410Z",
     "start_time": "2023-08-30T03:44:39.605424Z"
    }
   },
   "outputs": [
    {
     "name": "stdout",
     "output_type": "stream",
     "text": [
      "1 [2, 3]\n"
     ]
    }
   ],
   "source": [
    "# 개수가 달라도 오류 없기 위해 가변길이 변수 *\n",
    "h1, *h2 = a\n",
    "print(h1, h2)"
   ]
  },
  {
   "cell_type": "markdown",
   "id": "0748bae7",
   "metadata": {},
   "source": [
    "# 리스트의 반복문 처리"
   ]
  },
  {
   "cell_type": "code",
   "execution_count": 53,
   "id": "58482eba",
   "metadata": {
    "ExecuteTime": {
     "end_time": "2023-08-30T03:45:43.544369Z",
     "start_time": "2023-08-30T03:45:43.529419Z"
    }
   },
   "outputs": [],
   "source": [
    "score = [90,78,35,61,49,82,78,15,20,64]"
   ]
  },
  {
   "cell_type": "code",
   "execution_count": 54,
   "id": "9641e7da",
   "metadata": {
    "ExecuteTime": {
     "end_time": "2023-08-30T03:45:47.623731Z",
     "start_time": "2023-08-30T03:45:47.619771Z"
    }
   },
   "outputs": [
    {
     "data": {
      "text/plain": [
       "[90, 78, 35, 61, 49, 82, 78, 15, 20, 64]"
      ]
     },
     "execution_count": 54,
     "metadata": {},
     "output_type": "execute_result"
    }
   ],
   "source": [
    "score"
   ]
  },
  {
   "cell_type": "code",
   "execution_count": 55,
   "id": "bcac43ad",
   "metadata": {
    "ExecuteTime": {
     "end_time": "2023-08-30T03:46:11.479702Z",
     "start_time": "2023-08-30T03:46:11.465680Z"
    }
   },
   "outputs": [
    {
     "data": {
      "text/plain": [
       "10"
      ]
     },
     "execution_count": 55,
     "metadata": {},
     "output_type": "execute_result"
    }
   ],
   "source": [
    "len(score)"
   ]
  },
  {
   "cell_type": "code",
   "execution_count": 56,
   "id": "8b9c2808",
   "metadata": {
    "ExecuteTime": {
     "end_time": "2023-08-30T03:46:26.876943Z",
     "start_time": "2023-08-30T03:46:26.861257Z"
    }
   },
   "outputs": [
    {
     "data": {
      "text/plain": [
       "572"
      ]
     },
     "execution_count": 56,
     "metadata": {},
     "output_type": "execute_result"
    }
   ],
   "source": [
    "sum(score)"
   ]
  },
  {
   "cell_type": "code",
   "execution_count": 57,
   "id": "e21e2c19",
   "metadata": {
    "ExecuteTime": {
     "end_time": "2023-08-30T03:49:31.613911Z",
     "start_time": "2023-08-30T03:49:31.596113Z"
    }
   },
   "outputs": [
    {
     "name": "stdout",
     "output_type": "stream",
     "text": [
      "572\n"
     ]
    }
   ],
   "source": [
    "# 누적변수는 초기화 필요\n",
    "tot = 0\n",
    "for i in score:\n",
    "    tot += i\n",
    "    \n",
    "print(tot)"
   ]
  },
  {
   "cell_type": "code",
   "execution_count": 58,
   "id": "afa7e998",
   "metadata": {
    "ExecuteTime": {
     "end_time": "2023-08-30T03:50:58.635352Z",
     "start_time": "2023-08-30T03:50:58.617413Z"
    }
   },
   "outputs": [
    {
     "name": "stdout",
     "output_type": "stream",
     "text": [
      "572\n"
     ]
    }
   ],
   "source": [
    "# 누적변수는 초기화 필요\n",
    "tot = 0\n",
    "for i in range(len(score)):\n",
    "    tot += score[i]\n",
    "    \n",
    "print(tot)"
   ]
  },
  {
   "cell_type": "code",
   "execution_count": 59,
   "id": "258c8301",
   "metadata": {
    "ExecuteTime": {
     "end_time": "2023-08-30T05:05:45.922631Z",
     "start_time": "2023-08-30T05:05:45.904778Z"
    }
   },
   "outputs": [
    {
     "data": {
      "text/plain": [
       "[[1, 2, 3], [4, 5, 6]]"
      ]
     },
     "execution_count": 59,
     "metadata": {},
     "output_type": "execute_result"
    }
   ],
   "source": [
    "x=[[1,2,3], [4,5,6]]\n",
    "x"
   ]
  },
  {
   "cell_type": "code",
   "execution_count": 60,
   "id": "03f16401",
   "metadata": {
    "ExecuteTime": {
     "end_time": "2023-08-30T05:07:12.213938Z",
     "start_time": "2023-08-30T05:07:12.206679Z"
    }
   },
   "outputs": [
    {
     "name": "stdout",
     "output_type": "stream",
     "text": [
      "[1, 2, 3]\n",
      "[4, 5, 6]\n"
     ]
    }
   ],
   "source": [
    "for i in x:\n",
    "    print(i)"
   ]
  },
  {
   "cell_type": "code",
   "execution_count": 63,
   "id": "ff24fcd4",
   "metadata": {
    "ExecuteTime": {
     "end_time": "2023-08-30T05:09:11.091115Z",
     "start_time": "2023-08-30T05:09:11.073337Z"
    }
   },
   "outputs": [
    {
     "name": "stdout",
     "output_type": "stream",
     "text": [
      "123\n",
      "456\n"
     ]
    }
   ],
   "source": [
    "for a in x:\n",
    "    for b in a:\n",
    "        print(b, end = '')\n",
    "    print()"
   ]
  },
  {
   "cell_type": "code",
   "execution_count": 64,
   "id": "8346d2da",
   "metadata": {
    "ExecuteTime": {
     "end_time": "2023-08-30T05:13:03.780420Z",
     "start_time": "2023-08-30T05:13:03.767719Z"
    }
   },
   "outputs": [
    {
     "name": "stdout",
     "output_type": "stream",
     "text": [
      "5 7 9 "
     ]
    }
   ],
   "source": [
    "x = [1,2,3]\n",
    "y = [4,5,6]\n",
    "\n",
    "# x의 각 요소와 y의 각 요소를 더하는 작업, 이때 같은 위치의 요소들끼리 합을 구하는 작업\n",
    "for i in range(3):\n",
    "    print(x[i] + y[i], end = ' ')"
   ]
  },
  {
   "cell_type": "code",
   "execution_count": 65,
   "id": "6cb900a5",
   "metadata": {
    "ExecuteTime": {
     "end_time": "2023-08-30T05:15:33.068862Z",
     "start_time": "2023-08-30T05:15:33.053829Z"
    }
   },
   "outputs": [
    {
     "data": {
      "text/plain": [
       "[5, 7, 9]"
      ]
     },
     "execution_count": 65,
     "metadata": {},
     "output_type": "execute_result"
    }
   ],
   "source": [
    "s = []\n",
    "x = [1,2,3]\n",
    "y = [4,5,6]\n",
    "for i in range(3):\n",
    "    s.append(x[i] + y[i])\n",
    "    \n",
    "s"
   ]
  },
  {
   "cell_type": "markdown",
   "id": "7d407b01",
   "metadata": {},
   "source": [
    "## enumerate 함수\n",
    "\n",
    "- 리스트의 각 요소의 값과 인덱스를 리턴하는 함수"
   ]
  },
  {
   "cell_type": "code",
   "execution_count": 66,
   "id": "bb4adefe",
   "metadata": {
    "ExecuteTime": {
     "end_time": "2023-08-30T05:18:59.339289Z",
     "start_time": "2023-08-30T05:18:59.322266Z"
    }
   },
   "outputs": [
    {
     "name": "stdout",
     "output_type": "stream",
     "text": [
      "0 : a\n",
      "1 : b\n",
      "2 : c\n"
     ]
    }
   ],
   "source": [
    "data = ['a', 'b', 'c']\n",
    "# 0:a, 1:b, 2:c\n",
    "for i in range(len(data)):\n",
    "    print(\"%d : %s\" % (i, data[i]))"
   ]
  },
  {
   "cell_type": "code",
   "execution_count": 67,
   "id": "5cd6240e",
   "metadata": {
    "ExecuteTime": {
     "end_time": "2023-08-30T05:21:04.100928Z",
     "start_time": "2023-08-30T05:21:04.095944Z"
    }
   },
   "outputs": [
    {
     "name": "stdout",
     "output_type": "stream",
     "text": [
      "0 : a\n",
      "1 : b\n",
      "2 : c\n"
     ]
    }
   ],
   "source": [
    "for idx, value in enumerate(data):\n",
    "    print(\"%d : %s\" % (idx, value))"
   ]
  },
  {
   "cell_type": "markdown",
   "id": "3af672a5",
   "metadata": {},
   "source": [
    "## zip(L1, L2)\n",
    "- 두 리스트에서 같은 인덱스의 값을 튜플로 묶어서 반환"
   ]
  },
  {
   "cell_type": "code",
   "execution_count": 74,
   "id": "a55c311d",
   "metadata": {
    "ExecuteTime": {
     "end_time": "2023-08-30T05:32:13.713134Z",
     "start_time": "2023-08-30T05:32:13.699559Z"
    }
   },
   "outputs": [
    {
     "data": {
      "text/plain": [
       "[5, 7, 9]"
      ]
     },
     "execution_count": 74,
     "metadata": {},
     "output_type": "execute_result"
    }
   ],
   "source": [
    "s = [0] * 3\n",
    "x1 = [1,2,3]\n",
    "x2 = [4,5,6]\n",
    "\n",
    "for idx, (a, b) in enumerate(zip(x1, x2)):\n",
    "    s[idx] = a + b\n",
    "    \n",
    "s"
   ]
  },
  {
   "cell_type": "code",
   "execution_count": 70,
   "id": "db6e60cb",
   "metadata": {
    "ExecuteTime": {
     "end_time": "2023-08-30T05:23:50.458347Z",
     "start_time": "2023-08-30T05:23:50.449321Z"
    }
   },
   "outputs": [
    {
     "data": {
      "text/plain": [
       "[9, 8, 7, 6, 5, 4, 3, 2, 1, 0]"
      ]
     },
     "execution_count": 70,
     "metadata": {},
     "output_type": "execute_result"
    }
   ],
   "source": [
    "list(range(9, -1, -1))"
   ]
  },
  {
   "cell_type": "code",
   "execution_count": 72,
   "id": "2d1e548b",
   "metadata": {
    "ExecuteTime": {
     "end_time": "2023-08-30T05:25:50.858192Z",
     "start_time": "2023-08-30T05:25:50.844082Z"
    }
   },
   "outputs": [
    {
     "data": {
      "text/plain": [
       "[0, 0, 0, 0, 0, 0, 0, 0, 0, 0]"
      ]
     },
     "execution_count": 72,
     "metadata": {},
     "output_type": "execute_result"
    }
   ],
   "source": [
    "s = [0] * 10\n",
    "s"
   ]
  },
  {
   "cell_type": "code",
   "execution_count": 75,
   "id": "aae13bc6",
   "metadata": {
    "ExecuteTime": {
     "end_time": "2023-08-30T05:33:11.664437Z",
     "start_time": "2023-08-30T05:33:11.648673Z"
    }
   },
   "outputs": [
    {
     "data": {
      "text/plain": [
       "[(1, 4), (2, 5), (3, 6)]"
      ]
     },
     "execution_count": 75,
     "metadata": {},
     "output_type": "execute_result"
    }
   ],
   "source": [
    "x = [1,2,3]\n",
    "y = [4,5,6]\n",
    "result = list(zip(x, y)) # [(1, 4), (2, 5), (3, 6)]\n",
    "result"
   ]
  },
  {
   "cell_type": "markdown",
   "id": "08fff3ae",
   "metadata": {},
   "source": [
    "## 오일러 프로젝트 1단계 3과 5의 배수\n",
    "- Find the sum of all the muliples of 3 or 5 below 1000"
   ]
  },
  {
   "cell_type": "code",
   "execution_count": 85,
   "id": "897b5b9f",
   "metadata": {
    "ExecuteTime": {
     "end_time": "2023-08-30T05:53:55.503441Z",
     "start_time": "2023-08-30T05:53:55.484033Z"
    }
   },
   "outputs": [
    {
     "name": "stdout",
     "output_type": "stream",
     "text": [
      "[3, 5, 6, 9, 10, 12, 15, 18, 20, 21, 24, 25, 27, 30, 33, 35, 36, 39, 40, 42, 45, 48, 50, 51, 54, 55, 57, 60, 63, 65, 66, 69, 70, 72, 75, 78, 80, 81, 84, 85, 87, 90, 93, 95, 96, 99, 100, 102, 105, 108, 110, 111, 114, 115, 117, 120, 123, 125, 126, 129, 130, 132, 135, 138, 140, 141, 144, 145, 147, 150, 153, 155, 156, 159, 160, 162, 165, 168, 170, 171, 174, 175, 177, 180, 183, 185, 186, 189, 190, 192, 195, 198, 200, 201, 204, 205, 207, 210, 213, 215, 216, 219, 220, 222, 225, 228, 230, 231, 234, 235, 237, 240, 243, 245, 246, 249, 250, 252, 255, 258, 260, 261, 264, 265, 267, 270, 273, 275, 276, 279, 280, 282, 285, 288, 290, 291, 294, 295, 297, 300, 303, 305, 306, 309, 310, 312, 315, 318, 320, 321, 324, 325, 327, 330, 333, 335, 336, 339, 340, 342, 345, 348, 350, 351, 354, 355, 357, 360, 363, 365, 366, 369, 370, 372, 375, 378, 380, 381, 384, 385, 387, 390, 393, 395, 396, 399, 400, 402, 405, 408, 410, 411, 414, 415, 417, 420, 423, 425, 426, 429, 430, 432, 435, 438, 440, 441, 444, 445, 447, 450, 453, 455, 456, 459, 460, 462, 465, 468, 470, 471, 474, 475, 477, 480, 483, 485, 486, 489, 490, 492, 495, 498, 500, 501, 504, 505, 507, 510, 513, 515, 516, 519, 520, 522, 525, 528, 530, 531, 534, 535, 537, 540, 543, 545, 546, 549, 550, 552, 555, 558, 560, 561, 564, 565, 567, 570, 573, 575, 576, 579, 580, 582, 585, 588, 590, 591, 594, 595, 597, 600, 603, 605, 606, 609, 610, 612, 615, 618, 620, 621, 624, 625, 627, 630, 633, 635, 636, 639, 640, 642, 645, 648, 650, 651, 654, 655, 657, 660, 663, 665, 666, 669, 670, 672, 675, 678, 680, 681, 684, 685, 687, 690, 693, 695, 696, 699, 700, 702, 705, 708, 710, 711, 714, 715, 717, 720, 723, 725, 726, 729, 730, 732, 735, 738, 740, 741, 744, 745, 747, 750, 753, 755, 756, 759, 760, 762, 765, 768, 770, 771, 774, 775, 777, 780, 783, 785, 786, 789, 790, 792, 795, 798, 800, 801, 804, 805, 807, 810, 813, 815, 816, 819, 820, 822, 825, 828, 830, 831, 834, 835, 837, 840, 843, 845, 846, 849, 850, 852, 855, 858, 860, 861, 864, 865, 867, 870, 873, 875, 876, 879, 880, 882, 885, 888, 890, 891, 894, 895, 897, 900, 903, 905, 906, 909, 910, 912, 915, 918, 920, 921, 924, 925, 927, 930, 933, 935, 936, 939, 940, 942, 945, 948, 950, 951, 954, 955, 957, 960, 963, 965, 966, 969, 970, 972, 975, 978, 980, 981, 984, 985, 987, 990, 993, 995, 996, 999]\n",
      "총합: 233168\n"
     ]
    }
   ],
   "source": [
    "result =[]\n",
    "for i in range(1, 1000):\n",
    "    if i % 3 == 0 or i % 5 == 0:\n",
    "        result.append(i)\n",
    "print(result)\n",
    "\n",
    "tot = 0\n",
    "for i in result:\n",
    "    tot += i\n",
    "\n",
    "print('총합:', tot)"
   ]
  },
  {
   "cell_type": "code",
   "execution_count": 79,
   "id": "36727221",
   "metadata": {
    "ExecuteTime": {
     "end_time": "2023-08-30T05:45:07.783967Z",
     "start_time": "2023-08-30T05:45:07.781021Z"
    }
   },
   "outputs": [
    {
     "name": "stdout",
     "output_type": "stream",
     "text": [
      "5050\n"
     ]
    }
   ],
   "source": [
    "# 1부터 100까지의 합\n",
    "tot = 0\n",
    "for i in range(1,101):\n",
    "    tot += i \n",
    "print(tot)\n",
    "    "
   ]
  },
  {
   "cell_type": "markdown",
   "id": "84553e37",
   "metadata": {},
   "source": [
    "# 딕셔너리 자료형\n",
    "## 자료의 개수 : len"
   ]
  },
  {
   "cell_type": "code",
   "execution_count": 86,
   "id": "efbe518b",
   "metadata": {
    "ExecuteTime": {
     "end_time": "2023-08-30T06:15:27.754743Z",
     "start_time": "2023-08-30T06:15:27.747676Z"
    }
   },
   "outputs": [
    {
     "data": {
      "text/plain": [
       "{'a': 10, 'b': 20}"
      ]
     },
     "execution_count": 86,
     "metadata": {},
     "output_type": "execute_result"
    }
   ],
   "source": [
    "x = {'a':10, 'b':20}\n",
    "x"
   ]
  },
  {
   "cell_type": "code",
   "execution_count": 87,
   "id": "8d67a27a",
   "metadata": {
    "ExecuteTime": {
     "end_time": "2023-08-30T06:15:36.791843Z",
     "start_time": "2023-08-30T06:15:36.786702Z"
    }
   },
   "outputs": [
    {
     "name": "stdout",
     "output_type": "stream",
     "text": [
      "<class 'dict'>\n"
     ]
    }
   ],
   "source": [
    "# 자료형 확인\n",
    "print(type(x))"
   ]
  },
  {
   "cell_type": "code",
   "execution_count": 88,
   "id": "5538b30f",
   "metadata": {
    "ExecuteTime": {
     "end_time": "2023-08-30T06:15:41.403543Z",
     "start_time": "2023-08-30T06:15:41.398557Z"
    }
   },
   "outputs": [
    {
     "data": {
      "text/plain": [
       "2"
      ]
     },
     "execution_count": 88,
     "metadata": {},
     "output_type": "execute_result"
    }
   ],
   "source": [
    "len(x)"
   ]
  },
  {
   "cell_type": "markdown",
   "id": "2381da30",
   "metadata": {},
   "source": [
    "## 갱신, 추가 , 삭제"
   ]
  },
  {
   "cell_type": "code",
   "execution_count": 89,
   "id": "d6a67180",
   "metadata": {
    "ExecuteTime": {
     "end_time": "2023-08-30T06:16:53.145627Z",
     "start_time": "2023-08-30T06:16:53.129305Z"
    }
   },
   "outputs": [
    {
     "data": {
      "text/plain": [
       "{'a': 30, 'b': 20}"
      ]
     },
     "execution_count": 89,
     "metadata": {},
     "output_type": "execute_result"
    }
   ],
   "source": [
    "x['a'] = 30\n",
    "x"
   ]
  },
  {
   "cell_type": "code",
   "execution_count": 90,
   "id": "50642ca7",
   "metadata": {
    "ExecuteTime": {
     "end_time": "2023-08-30T06:17:06.444300Z",
     "start_time": "2023-08-30T06:17:06.428372Z"
    }
   },
   "outputs": [
    {
     "data": {
      "text/plain": [
       "[1, 2, 3]"
      ]
     },
     "execution_count": 90,
     "metadata": {},
     "output_type": "execute_result"
    }
   ],
   "source": [
    "y = [1,2,3]\n",
    "y"
   ]
  },
  {
   "cell_type": "code",
   "execution_count": 91,
   "id": "a59e11b6",
   "metadata": {
    "ExecuteTime": {
     "end_time": "2023-08-30T06:17:17.842429Z",
     "start_time": "2023-08-30T06:17:17.827019Z"
    }
   },
   "outputs": [
    {
     "data": {
      "text/plain": [
       "[1, 2, 30]"
      ]
     },
     "execution_count": 91,
     "metadata": {},
     "output_type": "execute_result"
    }
   ],
   "source": [
    "y[2] = 30\n",
    "y"
   ]
  },
  {
   "cell_type": "code",
   "execution_count": 92,
   "id": "cfc908cc",
   "metadata": {
    "ExecuteTime": {
     "end_time": "2023-08-30T06:17:28.103613Z",
     "start_time": "2023-08-30T06:17:28.090354Z"
    }
   },
   "outputs": [
    {
     "ename": "IndexError",
     "evalue": "list assignment index out of range",
     "output_type": "error",
     "traceback": [
      "\u001b[1;31m---------------------------------------------------------------------------\u001b[0m",
      "\u001b[1;31mIndexError\u001b[0m                                Traceback (most recent call last)",
      "\u001b[1;32m<ipython-input-92-28fd17df4f08>\u001b[0m in \u001b[0;36m<module>\u001b[1;34m\u001b[0m\n\u001b[1;32m----> 1\u001b[1;33m \u001b[0my\u001b[0m\u001b[1;33m[\u001b[0m\u001b[1;36m3\u001b[0m\u001b[1;33m]\u001b[0m \u001b[1;33m=\u001b[0m \u001b[1;36m4\u001b[0m\u001b[1;33m\u001b[0m\u001b[1;33m\u001b[0m\u001b[0m\n\u001b[0m\u001b[0;32m      2\u001b[0m \u001b[0my\u001b[0m\u001b[1;33m\u001b[0m\u001b[1;33m\u001b[0m\u001b[0m\n",
      "\u001b[1;31mIndexError\u001b[0m: list assignment index out of range"
     ]
    }
   ],
   "source": [
    "y[3] = 4  # error  사전은 가능 리스트는 불가능\n",
    "y  "
   ]
  },
  {
   "cell_type": "code",
   "execution_count": 93,
   "id": "211f07db",
   "metadata": {
    "ExecuteTime": {
     "end_time": "2023-08-30T06:17:38.543960Z",
     "start_time": "2023-08-30T06:17:38.531179Z"
    }
   },
   "outputs": [
    {
     "data": {
      "text/plain": [
       "[1, 2, 30, 4]"
      ]
     },
     "execution_count": 93,
     "metadata": {},
     "output_type": "execute_result"
    }
   ],
   "source": [
    "y.append(4)\n",
    "y"
   ]
  },
  {
   "cell_type": "code",
   "execution_count": 94,
   "id": "fcff627e",
   "metadata": {
    "ExecuteTime": {
     "end_time": "2023-08-30T06:18:14.078060Z",
     "start_time": "2023-08-30T06:18:14.059695Z"
    }
   },
   "outputs": [
    {
     "data": {
      "text/plain": [
       "{'a': 30, 'b': 20, 'c': 40}"
      ]
     },
     "execution_count": 94,
     "metadata": {},
     "output_type": "execute_result"
    }
   ],
   "source": [
    "x['c'] = 40\n",
    "x"
   ]
  },
  {
   "cell_type": "code",
   "execution_count": 95,
   "id": "c0a23621",
   "metadata": {
    "ExecuteTime": {
     "end_time": "2023-08-30T06:18:22.616203Z",
     "start_time": "2023-08-30T06:18:22.599329Z"
    }
   },
   "outputs": [],
   "source": [
    "del x['b']"
   ]
  },
  {
   "cell_type": "code",
   "execution_count": 96,
   "id": "8596eb70",
   "metadata": {
    "ExecuteTime": {
     "end_time": "2023-08-30T06:18:24.503140Z",
     "start_time": "2023-08-30T06:18:24.484135Z"
    }
   },
   "outputs": [
    {
     "data": {
      "text/plain": [
       "{'a': 30, 'c': 40}"
      ]
     },
     "execution_count": 96,
     "metadata": {},
     "output_type": "execute_result"
    }
   ],
   "source": [
    "x"
   ]
  },
  {
   "cell_type": "markdown",
   "id": "4dbf909a",
   "metadata": {},
   "source": [
    "## in / not in\n",
    "- in: 포함여부를 판단하는 명령\n",
    "- not in: 포함하지 않는지 판단하는 명령"
   ]
  },
  {
   "cell_type": "code",
   "execution_count": 97,
   "id": "336a54fc",
   "metadata": {
    "ExecuteTime": {
     "end_time": "2023-08-30T06:20:28.616497Z",
     "start_time": "2023-08-30T06:20:28.600673Z"
    }
   },
   "outputs": [
    {
     "data": {
      "text/plain": [
       "True"
      ]
     },
     "execution_count": 97,
     "metadata": {},
     "output_type": "execute_result"
    }
   ],
   "source": [
    "1 in [ 1,2,3,4,5]"
   ]
  },
  {
   "cell_type": "code",
   "execution_count": 98,
   "id": "de1d0adf",
   "metadata": {
    "ExecuteTime": {
     "end_time": "2023-08-30T06:20:32.789824Z",
     "start_time": "2023-08-30T06:20:32.776959Z"
    }
   },
   "outputs": [
    {
     "data": {
      "text/plain": [
       "True"
      ]
     },
     "execution_count": 98,
     "metadata": {},
     "output_type": "execute_result"
    }
   ],
   "source": [
    "'a' in x"
   ]
  },
  {
   "cell_type": "code",
   "execution_count": 99,
   "id": "295b8283",
   "metadata": {
    "ExecuteTime": {
     "end_time": "2023-08-30T06:20:38.066123Z",
     "start_time": "2023-08-30T06:20:38.057107Z"
    }
   },
   "outputs": [
    {
     "data": {
      "text/plain": [
       "False"
      ]
     },
     "execution_count": 99,
     "metadata": {},
     "output_type": "execute_result"
    }
   ],
   "source": [
    "'d' in x"
   ]
  },
  {
   "cell_type": "code",
   "execution_count": 100,
   "id": "10924ce7",
   "metadata": {
    "ExecuteTime": {
     "end_time": "2023-08-30T06:20:44.219007Z",
     "start_time": "2023-08-30T06:20:44.212017Z"
    }
   },
   "outputs": [
    {
     "data": {
      "text/plain": [
       "True"
      ]
     },
     "execution_count": 100,
     "metadata": {},
     "output_type": "execute_result"
    }
   ],
   "source": [
    "'d' not in x"
   ]
  },
  {
   "cell_type": "markdown",
   "id": "e8a520d9",
   "metadata": {},
   "source": [
    "## 딕셔너리의 반복문 처리\n",
    "\n",
    "- keys(): key만 추출해서 리스트 객체로 반환\n",
    "- values(): value만 추출해서 리스트 객체로 반환\n",
    "- items(): item(key, value)을 리스트로 반환하고 각 item들은 튜플로 묶여있음"
   ]
  },
  {
   "cell_type": "code",
   "execution_count": 101,
   "id": "85bdd704",
   "metadata": {
    "ExecuteTime": {
     "end_time": "2023-08-30T06:23:53.053059Z",
     "start_time": "2023-08-30T06:23:53.044267Z"
    }
   },
   "outputs": [
    {
     "data": {
      "text/plain": [
       "{'a': 30, 'c': 40}"
      ]
     },
     "execution_count": 101,
     "metadata": {},
     "output_type": "execute_result"
    }
   ],
   "source": [
    "x"
   ]
  },
  {
   "cell_type": "code",
   "execution_count": 102,
   "id": "dcd7182b",
   "metadata": {
    "ExecuteTime": {
     "end_time": "2023-08-30T06:24:05.432700Z",
     "start_time": "2023-08-30T06:24:05.419636Z"
    }
   },
   "outputs": [
    {
     "name": "stdout",
     "output_type": "stream",
     "text": [
      "a\n",
      "c\n"
     ]
    }
   ],
   "source": [
    "for key in x:\n",
    "    print(key)"
   ]
  },
  {
   "cell_type": "code",
   "execution_count": 103,
   "id": "f8cc3085",
   "metadata": {
    "ExecuteTime": {
     "end_time": "2023-08-30T06:24:10.922387Z",
     "start_time": "2023-08-30T06:24:10.908948Z"
    }
   },
   "outputs": [
    {
     "data": {
      "text/plain": [
       "dict_keys(['a', 'c'])"
      ]
     },
     "execution_count": 103,
     "metadata": {},
     "output_type": "execute_result"
    }
   ],
   "source": [
    "x.keys()"
   ]
  },
  {
   "cell_type": "code",
   "execution_count": 104,
   "id": "f12e3f67",
   "metadata": {
    "ExecuteTime": {
     "end_time": "2023-08-30T06:24:27.831042Z",
     "start_time": "2023-08-30T06:24:27.813718Z"
    }
   },
   "outputs": [
    {
     "name": "stdout",
     "output_type": "stream",
     "text": [
      "a\n",
      "c\n"
     ]
    }
   ],
   "source": [
    "for key in x.keys():\n",
    "    print(key)"
   ]
  },
  {
   "cell_type": "code",
   "execution_count": 105,
   "id": "af97bddf",
   "metadata": {
    "ExecuteTime": {
     "end_time": "2023-08-30T06:24:59.779959Z",
     "start_time": "2023-08-30T06:24:59.771408Z"
    }
   },
   "outputs": [
    {
     "data": {
      "text/plain": [
       "dict_values([30, 40])"
      ]
     },
     "execution_count": 105,
     "metadata": {},
     "output_type": "execute_result"
    }
   ],
   "source": [
    "x.values()"
   ]
  },
  {
   "cell_type": "code",
   "execution_count": 106,
   "id": "a603e8d3",
   "metadata": {
    "ExecuteTime": {
     "end_time": "2023-08-30T06:25:22.738363Z",
     "start_time": "2023-08-30T06:25:22.730734Z"
    }
   },
   "outputs": [
    {
     "name": "stdout",
     "output_type": "stream",
     "text": [
      "30\n",
      "40\n"
     ]
    }
   ],
   "source": [
    "for v in x.values():\n",
    "    print(v)"
   ]
  },
  {
   "cell_type": "code",
   "execution_count": 107,
   "id": "42eddf94",
   "metadata": {
    "ExecuteTime": {
     "end_time": "2023-08-30T06:26:43.328859Z",
     "start_time": "2023-08-30T06:26:43.321846Z"
    }
   },
   "outputs": [
    {
     "data": {
      "text/plain": [
       "dict_items([('a', 30), ('c', 40)])"
      ]
     },
     "execution_count": 107,
     "metadata": {},
     "output_type": "execute_result"
    }
   ],
   "source": [
    "x.items()"
   ]
  },
  {
   "cell_type": "code",
   "execution_count": 108,
   "id": "4b3498a8",
   "metadata": {
    "ExecuteTime": {
     "end_time": "2023-08-30T06:26:55.685427Z",
     "start_time": "2023-08-30T06:26:55.670841Z"
    }
   },
   "outputs": [
    {
     "name": "stdout",
     "output_type": "stream",
     "text": [
      "('a', 30)\n",
      "('c', 40)\n"
     ]
    }
   ],
   "source": [
    "for i in x.items():\n",
    "    print(i)"
   ]
  },
  {
   "cell_type": "code",
   "execution_count": 109,
   "id": "49747065",
   "metadata": {
    "ExecuteTime": {
     "end_time": "2023-08-30T06:27:33.480528Z",
     "start_time": "2023-08-30T06:27:33.465357Z"
    }
   },
   "outputs": [
    {
     "name": "stdout",
     "output_type": "stream",
     "text": [
      "key[a] => value[30]\n",
      "key[c] => value[40]\n"
     ]
    }
   ],
   "source": [
    "for k, v in x.items():\n",
    "    print(\"key[%s] => value[%d]\" % (k, v))"
   ]
  },
  {
   "cell_type": "code",
   "execution_count": 110,
   "id": "e5f29534",
   "metadata": {
    "ExecuteTime": {
     "end_time": "2023-08-30T06:28:56.653403Z",
     "start_time": "2023-08-30T06:28:56.650264Z"
    }
   },
   "outputs": [
    {
     "data": {
      "text/plain": [
       "{'a': 30, 'b': 20, 'c': 40}"
      ]
     },
     "execution_count": 110,
     "metadata": {},
     "output_type": "execute_result"
    }
   ],
   "source": [
    "xx = {'a':10, 'b':20, 'a':30, 'c':40}  # 사전은 중복을 허용하지 않으므로 'a'는 마지막 값만 남음\n",
    "xx"
   ]
  },
  {
   "cell_type": "markdown",
   "id": "f715c7c3",
   "metadata": {},
   "source": [
    "## 딕셔너리 요소 접근 예제"
   ]
  },
  {
   "cell_type": "code",
   "execution_count": 116,
   "id": "4d9f0432",
   "metadata": {
    "ExecuteTime": {
     "end_time": "2023-08-30T06:42:07.756003Z",
     "start_time": "2023-08-30T06:42:07.742751Z"
    }
   },
   "outputs": [],
   "source": [
    "dt = {\n",
    "    'name': '건조 망고',\n",
    "    'type': '당절임',\n",
    "    'ingredient': ['망고', '설탕', '치자황색소', '나트륨'],\n",
    "    'country': '필리핀'\n",
    "}"
   ]
  },
  {
   "cell_type": "code",
   "execution_count": 117,
   "id": "ab863e9d",
   "metadata": {
    "ExecuteTime": {
     "end_time": "2023-08-30T06:45:12.027201Z",
     "start_time": "2023-08-30T06:45:12.016306Z"
    }
   },
   "outputs": [
    {
     "name": "stdout",
     "output_type": "stream",
     "text": [
      "name:건조 망고\n",
      "type:당절임\n",
      "ingredient:['망고', '설탕', '치자황색소', '나트륨']\n",
      "country:필리핀\n"
     ]
    }
   ],
   "source": [
    "# 사전의 요소들을 출력\n",
    "for key, value in dt.items():\n",
    "    print(f\"{key}:{value}\")"
   ]
  },
  {
   "cell_type": "code",
   "execution_count": 120,
   "id": "0b979432",
   "metadata": {
    "ExecuteTime": {
     "end_time": "2023-08-30T06:46:17.713913Z",
     "start_time": "2023-08-30T06:46:17.697645Z"
    }
   },
   "outputs": [
    {
     "data": {
      "text/plain": [
       "'설탕'"
      ]
     },
     "execution_count": 120,
     "metadata": {},
     "output_type": "execute_result"
    }
   ],
   "source": [
    "# '설탕'만 출력\n",
    "dt['ingredient'][1]"
   ]
  }
 ],
 "metadata": {
  "kernelspec": {
   "display_name": "Python 3",
   "language": "python",
   "name": "python3"
  },
  "language_info": {
   "codemirror_mode": {
    "name": "ipython",
    "version": 3
   },
   "file_extension": ".py",
   "mimetype": "text/x-python",
   "name": "python",
   "nbconvert_exporter": "python",
   "pygments_lexer": "ipython3",
   "version": "3.8.8"
  },
  "toc": {
   "base_numbering": 1,
   "nav_menu": {},
   "number_sections": true,
   "sideBar": true,
   "skip_h1_title": false,
   "title_cell": "Table of Contents",
   "title_sidebar": "Contents",
   "toc_cell": false,
   "toc_position": {
    "height": "calc(100% - 180px)",
    "left": "10px",
    "top": "150px",
    "width": "165px"
   },
   "toc_section_display": true,
   "toc_window_display": true
  }
 },
 "nbformat": 4,
 "nbformat_minor": 5
}
