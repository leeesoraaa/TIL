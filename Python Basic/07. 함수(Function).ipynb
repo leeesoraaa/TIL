{
 "cells": [
  {
   "cell_type": "markdown",
   "id": "1431de36",
   "metadata": {},
   "source": [
    "# 함수(Function)란?\n",
    "<br>\n",
    "1. 함수의 정의<br>  \n",
    "  - 자주 반복적으로 수행하는 기능이나 명령어를 묶어서 관리하는 기능<br>  \n",
    "  - 여러 개의 명령어를 묶어놓은 명령어 집합<br>  \n",
    "<br>  \n",
    "2. 함수의 장점<br>  \n",
    "  - 재사용이 가능<br>  \n",
    "  - 코드의 간결성<br>  \n",
    "  - 유지보수의 효율성<br>  \n",
    "<br> \n",
    "3. 함수의 구조<br>  \n",
    "  def 함수명(입력매개변수):<br>  \n",
    "  &nbsp;&nbsp;&nbsp;&nbsp; 함수의 내용정의부<br>  \n",
    "  &nbsp;&nbsp;&nbsp;&nbsp; return 반환값 or 수식<br>  \n",
    "<br>\n",
    "4. 함수의 종류<br>  \n",
    "  - 내장함수: 파이썬에서 미리 만들어 놓은 함수, 각 라이브러리(패키지)마다 만들어져있는 함수<br>  \n",
    "  - 사용자 정의 함수: 사용자에 의해 임의로 생성한 함수<br>  "
   ]
  },
  {
   "cell_type": "markdown",
   "id": "1c2ef1bc",
   "metadata": {},
   "source": [
    "## 함수의 형태\n",
    "\n",
    "1. 매개변수와 반환값이 없는 함수\n",
    "2. 매개변수는 있고 반환값이 없는 함수\n",
    "3. 매개변수 없고 반환값이 있는 함수\n",
    "4. 매개변수와 반환값이 있는 함수"
   ]
  },
  {
   "cell_type": "code",
   "execution_count": null,
   "id": "b5fa2f7a",
   "metadata": {
    "ExecuteTime": {
     "end_time": "2023-08-23T08:25:51.555034Z",
     "start_time": "2023-08-23T08:25:51.547297Z"
    }
   },
   "outputs": [],
   "source": [
    "# 매개변수와 반환값(return)이 없는 함수\n",
    "## 함수정의: def = define\n",
    "def show():\n",
    "    print(\"Hello Function\")"
   ]
  },
  {
   "cell_type": "code",
   "execution_count": null,
   "id": "7c34c3c4",
   "metadata": {
    "ExecuteTime": {
     "end_time": "2023-08-23T08:26:22.283175Z",
     "start_time": "2023-08-23T08:26:22.252583Z"
    }
   },
   "outputs": [],
   "source": [
    "# 함수 호출: Call by Name\n",
    "show()"
   ]
  },
  {
   "cell_type": "code",
   "execution_count": null,
   "id": "f77a3bd6",
   "metadata": {
    "ExecuteTime": {
     "end_time": "2023-08-23T08:27:49.770968Z",
     "start_time": "2023-08-23T08:27:49.753573Z"
    }
   },
   "outputs": [],
   "source": [
    "# 매개변수는 없고 반환값은 있는 함수\n",
    "def aaa():\n",
    "    return 100"
   ]
  },
  {
   "cell_type": "code",
   "execution_count": null,
   "id": "6bf0ba43",
   "metadata": {
    "ExecuteTime": {
     "end_time": "2023-08-23T08:27:58.807882Z",
     "start_time": "2023-08-23T08:27:58.789804Z"
    }
   },
   "outputs": [],
   "source": [
    "aaa()"
   ]
  },
  {
   "cell_type": "code",
   "execution_count": null,
   "id": "3bf62745",
   "metadata": {
    "ExecuteTime": {
     "end_time": "2023-08-23T08:29:28.963843Z",
     "start_time": "2023-08-23T08:29:28.957848Z"
    }
   },
   "outputs": [],
   "source": [
    "# 매개변수는 있고 리턴값은 없는 함수\n",
    "def disp(a):\n",
    "    print(\"a = \", a)"
   ]
  },
  {
   "cell_type": "code",
   "execution_count": null,
   "id": "4e6ad7e3",
   "metadata": {
    "ExecuteTime": {
     "end_time": "2023-08-23T08:30:11.068276Z",
     "start_time": "2023-08-23T08:30:11.058297Z"
    }
   },
   "outputs": [],
   "source": [
    "# 값에 의한 호출: Call by Value\n",
    "disp(10)"
   ]
  },
  {
   "cell_type": "code",
   "execution_count": null,
   "id": "f28ed71f",
   "metadata": {
    "ExecuteTime": {
     "end_time": "2023-08-23T08:31:27.352460Z",
     "start_time": "2023-08-23T08:31:27.343478Z"
    }
   },
   "outputs": [],
   "source": [
    "# 매개변수도 있고, 반환값도 있는 함수\n",
    "def add(a, b):\n",
    "    return a + b"
   ]
  },
  {
   "cell_type": "code",
   "execution_count": null,
   "id": "981ee081",
   "metadata": {
    "ExecuteTime": {
     "end_time": "2023-08-23T08:31:57.168061Z",
     "start_time": "2023-08-23T08:31:57.151022Z"
    }
   },
   "outputs": [],
   "source": [
    "add(1, 2)"
   ]
  },
  {
   "cell_type": "markdown",
   "id": "7af0b82d",
   "metadata": {},
   "source": [
    "## 함수의 사용\n",
    "\n",
    "- 함수는 호출에 의해 동작한다.\n",
    "- 함수를 호출하는 방식: Call by Name, Call by Value, Call by Reference\n",
    "- Call by Name(이름에 의한 호출)\n",
    "- Call by Value(값에 의한 호출)\n",
    "- Call by Reference(참조=주소에 의한 호출)"
   ]
  },
  {
   "cell_type": "code",
   "execution_count": null,
   "id": "005def8d",
   "metadata": {
    "ExecuteTime": {
     "end_time": "2023-08-23T08:34:58.344589Z",
     "start_time": "2023-08-23T08:34:58.332066Z"
    }
   },
   "outputs": [],
   "source": [
    "def say():\n",
    "    return \"Hello\"\n",
    "\n",
    "say()\n",
    "print(say())\n",
    "a = say()\n",
    "print(\"a = \", a)"
   ]
  },
  {
   "cell_type": "code",
   "execution_count": null,
   "id": "b1031e2b",
   "metadata": {
    "ExecuteTime": {
     "end_time": "2023-08-23T08:33:58.820230Z",
     "start_time": "2023-08-23T08:33:58.801642Z"
    }
   },
   "outputs": [],
   "source": [
    "say()"
   ]
  },
  {
   "cell_type": "code",
   "execution_count": null,
   "id": "7d2b34a1",
   "metadata": {
    "ExecuteTime": {
     "end_time": "2023-08-23T08:42:18.774560Z",
     "start_time": "2023-08-23T08:42:18.769519Z"
    }
   },
   "outputs": [],
   "source": [
    "def add(x, y):\n",
    "    result = x + y  \n",
    "    print(\"{} + {} = {}\".format(x, y, result))\n",
    "    \n",
    "def sub(x, y):\n",
    "    result = x + y  \n",
    "    print(\"{} - {} = {}\".format(x, y, result))\n",
    "    \n",
    "def mul(x, y):\n",
    "    result = x + y  \n",
    "    print(\"{} * {} = {}\".format(x, y, result))\n",
    "    \n",
    "def div(x, y):\n",
    "    if y == 0: y = 1\n",
    "    result = x + y  \n",
    "    print(\"{} / {} = {}\".format(x, y, result))"
   ]
  },
  {
   "cell_type": "code",
   "execution_count": null,
   "id": "9e74d2ee",
   "metadata": {
    "ExecuteTime": {
     "end_time": "2023-08-23T08:42:33.338023Z",
     "start_time": "2023-08-23T08:42:25.853298Z"
    }
   },
   "outputs": [],
   "source": [
    "su1 = int(input('수 1 ='))\n",
    "op = input('연산자(+,-,*,/)= ')\n",
    "su2 = int(input('수 2 ='))\n",
    "\n",
    "if op == '+':\n",
    "    add(su1, su2)\n",
    "elif op == '-':\n",
    "    sub(su1, su2)\n",
    "elif op == '*':\n",
    "    mul(su1, su2)\n",
    "else:\n",
    "    div(su1, su2)"
   ]
  },
  {
   "cell_type": "markdown",
   "id": "ef4737bc",
   "metadata": {},
   "source": [
    "## 내장 함수"
   ]
  },
  {
   "cell_type": "code",
   "execution_count": null,
   "id": "b534a137",
   "metadata": {
    "ExecuteTime": {
     "end_time": "2023-08-23T08:44:46.409293Z",
     "start_time": "2023-08-23T08:44:46.399803Z"
    }
   },
   "outputs": [],
   "source": [
    "# 절대값 계산하는 함수\n",
    "print(abs(-100))\n",
    "print(abs(100))"
   ]
  },
  {
   "cell_type": "code",
   "execution_count": null,
   "id": "3d5383f6",
   "metadata": {
    "ExecuteTime": {
     "end_time": "2023-08-23T08:46:07.000405Z",
     "start_time": "2023-08-23T08:46:06.989130Z"
    }
   },
   "outputs": [],
   "source": [
    "def abss(a):\n",
    "    if a >= 0:\n",
    "        return a\n",
    "    else:\n",
    "        return -a"
   ]
  },
  {
   "cell_type": "code",
   "execution_count": null,
   "id": "4d8a662d",
   "metadata": {
    "ExecuteTime": {
     "end_time": "2023-08-23T08:46:18.315464Z",
     "start_time": "2023-08-23T08:46:18.309343Z"
    }
   },
   "outputs": [],
   "source": [
    "print(abss(-4))"
   ]
  },
  {
   "cell_type": "code",
   "execution_count": null,
   "id": "8a1f399d",
   "metadata": {
    "ExecuteTime": {
     "end_time": "2023-08-23T08:50:15.107882Z",
     "start_time": "2023-08-23T08:50:15.101903Z"
    }
   },
   "outputs": [],
   "source": [
    "# all(), any()\n",
    "## all: 모든 값이 True인지 검사하는 함수(결과: 모두 참이면 참, 그렇지 않으면 거짓)\n",
    "## any: 어느 거 하나라도 True인지 검사하는 함수\n",
    "## 2진수(0=False와 1=True)\n",
    "## 0이 아니면 참으로 간주한다.\n",
    "print(all([1,2,3])) # True\n",
    "print(all([1,2,3,0]))"
   ]
  },
  {
   "cell_type": "markdown",
   "id": "b7b86d6b",
   "metadata": {},
   "source": [
    "# 제어문 복습\n",
    "<pre>\n",
    "*\n",
    "**\n",
    "***\n",
    "****\n",
    "*****\n",
    "******\n",
    "*******\n",
    "********\n",
    "</pre>"
   ]
  },
  {
   "cell_type": "code",
   "execution_count": null,
   "id": "344bbbe0",
   "metadata": {
    "ExecuteTime": {
     "end_time": "2023-08-24T00:04:06.873571Z",
     "start_time": "2023-08-24T00:04:06.852297Z"
    }
   },
   "outputs": [],
   "source": [
    "print('*', end = ' ')\n",
    "print('*', end = ' ')\n",
    "print('*', end = ' ')\n",
    "print('*', end = ' ')\n",
    "print('*', end = ' ')"
   ]
  },
  {
   "cell_type": "code",
   "execution_count": null,
   "id": "388548d0",
   "metadata": {
    "ExecuteTime": {
     "end_time": "2023-08-24T00:04:59.835702Z",
     "start_time": "2023-08-24T00:04:59.828993Z"
    }
   },
   "outputs": [],
   "source": [
    "for i in range(5):\n",
    "    print('*', end = '')"
   ]
  },
  {
   "cell_type": "code",
   "execution_count": null,
   "id": "b16b1697",
   "metadata": {
    "ExecuteTime": {
     "end_time": "2023-08-24T00:06:45.330180Z",
     "start_time": "2023-08-24T00:06:45.316816Z"
    }
   },
   "outputs": [],
   "source": [
    "# 다중for문: 바깥쪽 for문이 한 번 수행될 때마다 안쪽 for문 주어진 횟수만큼\n",
    "for k in range(5): # 행의 수(줄)\n",
    "    for i in range(5): # 열의 개수(매 행마다 찍히는 별의 개수)\n",
    "        print('*', end = '')\n",
    "    print()"
   ]
  },
  {
   "cell_type": "code",
   "execution_count": 1,
   "id": "4aec1c44",
   "metadata": {
    "ExecuteTime": {
     "end_time": "2023-09-01T00:59:55.470143Z",
     "start_time": "2023-09-01T00:59:55.451698Z"
    }
   },
   "outputs": [
    {
     "name": "stdout",
     "output_type": "stream",
     "text": [
      "\n",
      "*\n",
      "**\n",
      "***\n",
      "****\n",
      "*****\n",
      "******\n",
      "*******\n"
     ]
    }
   ],
   "source": [
    "for k in range(8): # 행의 수(줄)\n",
    "    for i in range(k): # 행의 수와 열의 수가 같을 때\n",
    "        print('*', end = '')\n",
    "    print()"
   ]
  },
  {
   "cell_type": "markdown",
   "id": "d8d18c91",
   "metadata": {},
   "source": [
    "<pre>\n",
    "********\n",
    "*******\n",
    "******\n",
    "*****\n",
    "****\n",
    "***\n",
    "**\n",
    "*\n",
    "</pre>"
   ]
  },
  {
   "cell_type": "code",
   "execution_count": null,
   "id": "a7571450",
   "metadata": {
    "ExecuteTime": {
     "end_time": "2023-08-24T00:12:13.281399Z",
     "start_time": "2023-08-24T00:12:13.268609Z"
    }
   },
   "outputs": [],
   "source": [
    "for k in range(8): # 행의 수(줄)\n",
    "    for i in range(8-k): # 행의 수와 열의 수가 같을 때\n",
    "        print('*', end = '')\n",
    "    print()"
   ]
  },
  {
   "cell_type": "code",
   "execution_count": null,
   "id": "9f475933",
   "metadata": {
    "ExecuteTime": {
     "end_time": "2023-08-24T00:14:30.170755Z",
     "start_time": "2023-08-24T00:14:30.156795Z"
    }
   },
   "outputs": [],
   "source": [
    "for k in range(8, 0, -1): # 행의 수(줄)\n",
    "    for i in range(k): # 행의 수와 열의 수가 같을 때\n",
    "        print('*', end = '')\n",
    "    print()"
   ]
  },
  {
   "cell_type": "markdown",
   "id": "76a3edc6",
   "metadata": {},
   "source": [
    "<pre>\n",
    "       *\n",
    "      **\n",
    "     ***\n",
    "    ****\n",
    "   *****\n",
    "  ******\n",
    " *******\n",
    "********\n",
    "</pre>"
   ]
  },
  {
   "cell_type": "code",
   "execution_count": null,
   "id": "d95218ba",
   "metadata": {
    "ExecuteTime": {
     "end_time": "2023-08-24T00:26:32.583434Z",
     "start_time": "2023-08-24T00:26:32.569511Z"
    }
   },
   "outputs": [],
   "source": [
    "# 공백을 제어할 변수\n",
    "b = 8\n",
    "\n",
    "# 전체 출력되는 줄을 반복처리하는 로직\n",
    "for i in range(8):\n",
    "    # 공백처리\n",
    "    for j in range(b):\n",
    "        print(' ', end = '')\n",
    "    # 별이 출력되는 개수 제어\n",
    "    for k in range(i + 1):\n",
    "        print('*', end='')\n",
    "    # 개행\n",
    "    print()\n",
    "    # 공백처리\n",
    "    b -= 1"
   ]
  },
  {
   "cell_type": "code",
   "execution_count": null,
   "id": "6ccb084d",
   "metadata": {
    "ExecuteTime": {
     "end_time": "2023-08-24T00:32:58.271061Z",
     "start_time": "2023-08-24T00:32:58.259044Z"
    }
   },
   "outputs": [],
   "source": [
    "# 공백을 제어할 변수\n",
    "b = 8\n",
    "\n",
    "# 전체 출력되는 줄을 반복처리하는 로직\n",
    "for i in range(8):\n",
    "    # 공백처리\n",
    "    for j in range(i):\n",
    "        print(' ', end = '')\n",
    "    # 별이 출력되는 개수 제어\n",
    "    for k in range(b):\n",
    "        print('*', end='')\n",
    "    # 개행\n",
    "    print()\n",
    "    # 공백처리\n",
    "    b -= 1"
   ]
  },
  {
   "cell_type": "markdown",
   "id": "9e36bd0d",
   "metadata": {},
   "source": [
    "<pre>\n",
    "    *\n",
    "   ***\n",
    "  *****\n",
    " *******\n",
    "*********\n",
    "</pre>"
   ]
  },
  {
   "cell_type": "code",
   "execution_count": null,
   "id": "f359136e",
   "metadata": {
    "ExecuteTime": {
     "end_time": "2023-08-24T00:42:21.148149Z",
     "start_time": "2023-08-24T00:42:21.133200Z"
    }
   },
   "outputs": [],
   "source": [
    "# 공백을 제어할 변수\n",
    "b = 5\n",
    "\n",
    "# 전체 출력되는 줄을 반복처리하는 로직\n",
    "for i in range(1, 12, 2):\n",
    "    # 공백처리\n",
    "    for j in range(b):\n",
    "        print(' ', end = '')\n",
    "    # 별이 출력되는 개수 제어\n",
    "    for k in range(i):\n",
    "        print('*', end='')\n",
    "    # 개행\n",
    "    print()\n",
    "    # 공백처리\n",
    "    b -= 1"
   ]
  },
  {
   "cell_type": "markdown",
   "id": "fd0653f4",
   "metadata": {},
   "source": [
    "# 파이썬 함수\n",
    "\n",
    "- 반복적인 프로그래밍을 피할 수 있다.\n",
    "- 모듈화로 인해 전체적인 코드의 가독성을 높인다.\n",
    "- 프로그램에 문제가 발생하거나 기능을 변경해야 할 때 유지보수가 가능하다."
   ]
  },
  {
   "cell_type": "code",
   "execution_count": null,
   "id": "21761adb",
   "metadata": {
    "ExecuteTime": {
     "end_time": "2023-08-24T01:10:37.513413Z",
     "start_time": "2023-08-24T01:10:37.497059Z"
    }
   },
   "outputs": [],
   "source": [
    "# 함수의 형식\n",
    "def 함수명(매개변수):\n",
    "    실행문장\n",
    "    return 반환값 또는 수식"
   ]
  },
  {
   "cell_type": "code",
   "execution_count": null,
   "id": "a0401f23",
   "metadata": {
    "ExecuteTime": {
     "end_time": "2023-08-24T01:14:04.269044Z",
     "start_time": "2023-08-24T01:14:04.259158Z"
    }
   },
   "outputs": [],
   "source": [
    "# 프로그램의 실행순서는 main 시작 - main 끝\n",
    "# 프로그램의 실행순서는 main 시작 - sub 프로그램 호출 - main 끝\n",
    "# return 키워드의 의미: main에게 프로그램을 제어권을 돌려준다.\n",
    "# return: 제어권을 main에 넘겨준다는 의미로 생략이 가능\n",
    "# return 값 or 수식"
   ]
  },
  {
   "cell_type": "code",
   "execution_count": null,
   "id": "689834eb",
   "metadata": {
    "ExecuteTime": {
     "end_time": "2023-08-24T01:16:35.825061Z",
     "start_time": "2023-08-24T01:16:35.812443Z"
    }
   },
   "outputs": [],
   "source": [
    "print(\"안녕!\")\n",
    "print(\"--------\") # print('-' * 10)\n",
    "print(\"-------------\")\n",
    "print(\"뭘 봐\")\n",
    "print(\"오늘이 목요일이라니~\")\n",
    "print(\"체감은 일요일이야\")\n",
    "print(\"------\")\n",
    "print(\"----------------------\")\n",
    "print(\"반복적인 문구가 보입니까?\")"
   ]
  },
  {
   "cell_type": "code",
   "execution_count": null,
   "id": "79916f55",
   "metadata": {
    "ExecuteTime": {
     "end_time": "2023-08-24T01:20:15.182657Z",
     "start_time": "2023-08-24T01:20:15.177675Z"
    }
   },
   "outputs": [],
   "source": [
    "def line(size):\n",
    "    print('*'*size)\n",
    "    return  # 생략가능"
   ]
  },
  {
   "cell_type": "code",
   "execution_count": null,
   "id": "2e7cf0e6",
   "metadata": {
    "ExecuteTime": {
     "end_time": "2023-08-24T01:20:16.950113Z",
     "start_time": "2023-08-24T01:20:16.946125Z"
    }
   },
   "outputs": [],
   "source": [
    "print(\"안녕!\")\n",
    "line(10)\n",
    "line(20)\n",
    "print(\"뭘 봐\")\n",
    "print(\"오늘이 목요일이라니~\")\n",
    "print(\"체감은 일요일이야\")\n",
    "line(5)\n",
    "line(30)\n",
    "print(\"반복적인 문구가 보입니까?\")"
   ]
  },
  {
   "cell_type": "code",
   "execution_count": null,
   "id": "ae28194f",
   "metadata": {
    "ExecuteTime": {
     "end_time": "2023-08-24T01:22:40.003295Z",
     "start_time": "2023-08-24T01:22:39.989981Z"
    }
   },
   "outputs": [],
   "source": [
    "# 1. 매개변수 x, 리턴값 x\n",
    "def aaa():\n",
    "    print(\"sub 프로그램의 시작\")"
   ]
  },
  {
   "cell_type": "code",
   "execution_count": null,
   "id": "a25a40d7",
   "metadata": {
    "ExecuteTime": {
     "end_time": "2023-08-24T01:31:30.560957Z",
     "start_time": "2023-08-24T01:31:30.546247Z"
    }
   },
   "outputs": [],
   "source": [
    "# 2. 매개변수 x, 리턴값 o\n",
    "def bbb():\n",
    "    return \"ok\" # main 리턴값을 처리하는 과정이 필요"
   ]
  },
  {
   "cell_type": "code",
   "execution_count": null,
   "id": "3df70dd0",
   "metadata": {
    "ExecuteTime": {
     "end_time": "2023-08-24T01:25:03.123976Z",
     "start_time": "2023-08-24T01:25:03.116967Z"
    }
   },
   "outputs": [],
   "source": [
    "# 3. 매개변수 o, 리턴값 x\n",
    "def ccc(len):\n",
    "    if len >= 10:\n",
    "        print(\"길어\")\n",
    "    else:\n",
    "        print(\"짧아\")"
   ]
  },
  {
   "cell_type": "code",
   "execution_count": null,
   "id": "483aff5a",
   "metadata": {
    "ExecuteTime": {
     "end_time": "2023-08-24T01:26:39.175729Z",
     "start_time": "2023-08-24T01:26:39.172732Z"
    }
   },
   "outputs": [],
   "source": [
    "# 4. 매개변수 o, 리턴값 o\n",
    "def adder(a, b):\n",
    "    return a + b"
   ]
  },
  {
   "cell_type": "code",
   "execution_count": null,
   "id": "b88a6b73",
   "metadata": {
    "ExecuteTime": {
     "end_time": "2023-08-24T01:35:19.257358Z",
     "start_time": "2023-08-24T01:35:19.241451Z"
    }
   },
   "outputs": [],
   "source": [
    "print(\"main 시작\")\n",
    "\n",
    "# 호출: 서브프로그램과 매크로 프로그램\n",
    "\n",
    "## Call by Name: 이름에 의한 호출 - 매개변수를 가지고 있지 않은 함수를 호출\n",
    "aaa()\n",
    "print(bbb())\n",
    "string = bbb()\n",
    "print(string)\n",
    "\n",
    "## Call by value: 값에 의한 호출 - 매개변수 값을 전달해서 함수를 호출하는 행위\n",
    "ccc(5)\n",
    "print(adder(76,34))\n",
    "tot = adder(76, 34)\n",
    "print(\"tot =\",tot)\n",
    "print(\"main 끝\")"
   ]
  },
  {
   "cell_type": "markdown",
   "id": "3d431e81",
   "metadata": {},
   "source": [
    "## 다섯 개의 정수를 입력받아 그 합과 평균을 계산하여 출력하는 프로그램"
   ]
  },
  {
   "cell_type": "code",
   "execution_count": null,
   "id": "e939a316",
   "metadata": {
    "ExecuteTime": {
     "end_time": "2023-08-24T01:45:07.808707Z",
     "start_time": "2023-08-24T01:44:57.143341Z"
    }
   },
   "outputs": [],
   "source": [
    "# a = int(input(\"수1 = \"))\n",
    "# b = int(input(\"수2 = \"))\n",
    "# c = int(input(\"수3 = \"))\n",
    "# d = int(input(\"수4 = \"))\n",
    "# e = int(input(\"수5 = \"))\n",
    "\n",
    "num = list(map(int, input('수 입력 =').split()))\n",
    "print(num, type(num))\n",
    "\n",
    "# tot = a + b+ c+ d+ e\n",
    "# avg = tot / 5\n",
    "tot = 0\n",
    "for i in num:\n",
    "    tot += i\n",
    "\n",
    "avg = tot / len(num) # len() 요소의 개수를 불러오는 함수\n",
    "\n",
    "print(\"합 = \", tot)\n",
    "print(\"평균 = \", avg)"
   ]
  },
  {
   "cell_type": "code",
   "execution_count": null,
   "id": "2ad80b68",
   "metadata": {
    "ExecuteTime": {
     "end_time": "2023-08-24T01:46:34.417041Z",
     "start_time": "2023-08-24T01:46:34.403956Z"
    }
   },
   "outputs": [],
   "source": [
    "def inData():\n",
    "    num = list(map(int, input('수 입력 =').split()))\n",
    "    return num"
   ]
  },
  {
   "cell_type": "code",
   "execution_count": null,
   "id": "39c81db8",
   "metadata": {
    "ExecuteTime": {
     "end_time": "2023-08-24T01:50:15.681405Z",
     "start_time": "2023-08-24T01:50:15.668035Z"
    }
   },
   "outputs": [],
   "source": [
    "def process():\n",
    "    tot = 0\n",
    "    num = inData()\n",
    "    for i in num:\n",
    "        tot += i\n",
    "    avg = tot / len(num)\n",
    "    return tot, avg   # (tot, avg)"
   ]
  },
  {
   "cell_type": "code",
   "execution_count": null,
   "id": "9c36fce6",
   "metadata": {
    "ExecuteTime": {
     "end_time": "2023-08-24T01:53:56.696145Z",
     "start_time": "2023-08-24T01:53:52.539762Z"
    }
   },
   "outputs": [],
   "source": [
    "# main\n",
    "print(\"main start\")\n",
    "t = process()\n",
    "print(t, type(t))  # tuple\n",
    "\n",
    "print(\"합 = \", t[0])\n",
    "print(\"평균 = \", t[1])"
   ]
  },
  {
   "cell_type": "code",
   "execution_count": null,
   "id": "851efa39",
   "metadata": {
    "ExecuteTime": {
     "end_time": "2023-08-24T02:01:01.901233Z",
     "start_time": "2023-08-24T02:01:01.885690Z"
    }
   },
   "outputs": [],
   "source": [
    "# process 함수 수정\n",
    "## Call by Reference: 참조에 의한 호출, 매개변수의 값이 아닌 주소를 이용하여 함수 호출\n",
    "def process(num):  # 하나 이상의 값이 담긴 변수는 주소를 가져옴\n",
    "    tot = 0\n",
    "    for i in num:\n",
    "        tot += i\n",
    "    avg = tot / len(num)\n",
    "    return tot, avg   # (tot, avg)"
   ]
  },
  {
   "cell_type": "code",
   "execution_count": null,
   "id": "5d8f30b2",
   "metadata": {
    "ExecuteTime": {
     "end_time": "2023-08-24T02:01:06.501613Z",
     "start_time": "2023-08-24T02:01:04.001247Z"
    }
   },
   "outputs": [],
   "source": [
    "num = list(map(int, input('수 입력 =').split()))\n",
    "t = process(num)\n",
    "# print(t, type(t)) - tuple\n",
    "\n",
    "print(\"합 = \", t[0])\n",
    "print(\"평균 = \", t[1])"
   ]
  },
  {
   "cell_type": "markdown",
   "id": "015179e3",
   "metadata": {},
   "source": [
    "## 계산기 프로그램\n",
    "\n",
    "- 두 개의 정수와 하나의 연산자를 입력받아 계산을 수행한 후 결과를 출력하는 프로그램\n",
    "- 연산자에 따른 계산식을 각각의 함수로 구현하시오.\n",
    "- adder, subtract, multiply, divide\n",
    "- 사용자가 원하는 계산을 수행할 수 있도록 구현할 것.\n",
    "- 언제든 프로그램을 종료할 수 있도록 구현할 것. 무한 Loop를 사용\n",
    "- Main Menu: [1] 더하기, [2] 빼기, [3] 곱하기, [4] 나누기, [5] 종료"
   ]
  },
  {
   "cell_type": "code",
   "execution_count": null,
   "id": "1115963a",
   "metadata": {
    "ExecuteTime": {
     "end_time": "2023-08-24T02:21:50.306398Z",
     "start_time": "2023-08-24T02:21:47.200311Z"
    }
   },
   "outputs": [],
   "source": [
    "# num = int(input('숫자 = ')) - 정수형으로 캐스팅\n",
    "# num = float(input('숫자 = ')) - 실수형으로 캐스팅 \n",
    "num = eval(input('숫자 = ')) # eval() 정수형과 실수형을 알아서 캐스팅\n",
    "print(num, type(num))"
   ]
  },
  {
   "cell_type": "code",
   "execution_count": null,
   "id": "3ed1c70f",
   "metadata": {
    "ExecuteTime": {
     "start_time": "2023-08-24T02:35:48.479Z"
    }
   },
   "outputs": [],
   "source": [
    "def add(x, y):\n",
    "    return x + y\n",
    "def sub(x, y):\n",
    "    return x - y\n",
    "def mul(x, y):\n",
    "    return x * y\n",
    "def div(x, y):\n",
    "    return x / y\n",
    "\n",
    "\n",
    "while True:\n",
    "    type = int(input('타입(종료:5) : '))\n",
    "    first = eval(input('첫번째 수 = '))\n",
    "    second = eval(input('두번째 수 = '))\n",
    "    \n",
    "    if type == 1:\n",
    "        result = add(first, second)\n",
    "        print(f'{first} + {second} = {result}')\n",
    "    elif type == 2:\n",
    "        result = sub(first, second)\n",
    "        print(f'{first} - {second} = {result}')\n",
    "    elif type == 3:\n",
    "        result = mul(first, second)\n",
    "        print(f'{first} * {second} = {result}')\n",
    "    elif type == 4:\n",
    "        result = div(first, second)\n",
    "        print(f'{first} / {second} = {result}')\n",
    "    elif type == 5:\n",
    "        break\n",
    "    else:\n",
    "        print('타입이 올바르지 않습니다.')\n",
    "        \n",
    "print('프로그램을 종료합니다.')\n",
    "       \n",
    "        "
   ]
  },
  {
   "cell_type": "markdown",
   "id": "774b009e",
   "metadata": {},
   "source": [
    "## 성적처리 프로그램 3단계\n",
    "- 국어, 영어, 수학 점수를 입력받아 총점과 평균 그리고 학점을 계산하여 출력하는 프로그램\n",
    "- 한 명 이상의 학생에 대한 정보를 받아 처리하도록 구현할 것.\n",
    "- 주어진 입력 및 출력형식에 맞게 구현할 것."
   ]
  },
  {
   "cell_type": "code",
   "execution_count": null,
   "id": "5ec91b74",
   "metadata": {
    "ExecuteTime": {
     "end_time": "2023-08-24T02:39:06.694926Z",
     "start_time": "2023-08-24T02:39:06.687901Z"
    }
   },
   "outputs": [],
   "source": [
    "# 한명의 학생정보\n",
    "student = {'name':'홍길동', 'kor':80, 'eng': 92, 'math':77}\n",
    "print(student)"
   ]
  },
  {
   "cell_type": "code",
   "execution_count": null,
   "id": "99710203",
   "metadata": {
    "ExecuteTime": {
     "end_time": "2023-08-24T02:39:20.638120Z",
     "start_time": "2023-08-24T02:39:20.616142Z"
    }
   },
   "outputs": [],
   "source": [
    "# 사전은 키를 이용하여 값을 추출\n",
    "student['name']"
   ]
  },
  {
   "cell_type": "code",
   "execution_count": null,
   "id": "98775647",
   "metadata": {
    "ExecuteTime": {
     "end_time": "2023-08-24T02:39:31.285531Z",
     "start_time": "2023-08-24T02:39:31.274499Z"
    }
   },
   "outputs": [],
   "source": [
    "student.get('name')"
   ]
  },
  {
   "cell_type": "code",
   "execution_count": null,
   "id": "a3442615",
   "metadata": {
    "ExecuteTime": {
     "end_time": "2023-08-24T02:39:46.076943Z",
     "start_time": "2023-08-24T02:39:46.066114Z"
    }
   },
   "outputs": [],
   "source": [
    "student['name'] = '장보고'\n",
    "student"
   ]
  },
  {
   "cell_type": "code",
   "execution_count": null,
   "id": "fb2195ef",
   "metadata": {
    "ExecuteTime": {
     "end_time": "2023-08-24T02:40:50.166441Z",
     "start_time": "2023-08-24T02:40:50.160393Z"
    }
   },
   "outputs": [],
   "source": [
    "student['tot'] = student['kor'] + student['eng'] + student['math']\n",
    "print(student)"
   ]
  },
  {
   "cell_type": "code",
   "execution_count": null,
   "id": "226be148",
   "metadata": {
    "ExecuteTime": {
     "end_time": "2023-08-24T02:44:08.727318Z",
     "start_time": "2023-08-24T02:43:59.742439Z"
    }
   },
   "outputs": [],
   "source": [
    "name = input('이름 =')\n",
    "kor = int(input('국어 ='))\n",
    "eng = int(input('영어 ='))\n",
    "math = int(input('수학 ='))\n",
    "\n",
    "stu = dict()  # 빈 사전 생성\n",
    "stu['name'] = name\n",
    "stu['kor'] = kor\n",
    "stu['eng'] = eng\n",
    "stu['math'] = math\n",
    "\n",
    "print(stu)"
   ]
  },
  {
   "cell_type": "code",
   "execution_count": null,
   "id": "8cd1e282",
   "metadata": {
    "ExecuteTime": {
     "end_time": "2023-08-24T02:53:00.125023Z",
     "start_time": "2023-08-24T02:52:44.455516Z"
    }
   },
   "outputs": [],
   "source": [
    "# 여러명의 학생의 정보를 담을 리스트 객체 생성\n",
    "students = []\n",
    "\n",
    "for i in range(3):\n",
    "    name = input('이름 =')\n",
    "    kor = int(input('국어 ='))\n",
    "    eng = int(input('영어 ='))\n",
    "    math = int(input('수학 ='))\n",
    "\n",
    "    stu = dict()  # 빈 사전 생성\n",
    "    stu['name'] = name\n",
    "    stu['kor'] = kor\n",
    "    stu['eng'] = eng\n",
    "    stu['math'] = math\n",
    "    stu['tot'] = kor + eng + math\n",
    "    stu['avg'] = round((kor + eng + math) / 3, 2)\n",
    "    students.append(stu)\n",
    "\n",
    "for i in students:\n",
    "    print(i)"
   ]
  },
  {
   "cell_type": "code",
   "execution_count": 3,
   "id": "9ed6ed60",
   "metadata": {
    "ExecuteTime": {
     "end_time": "2023-08-24T03:47:31.737935Z",
     "start_time": "2023-08-24T03:47:31.735891Z"
    }
   },
   "outputs": [],
   "source": [
    "# 전역함수\n",
    "def menu():\n",
    "    print(\"== 성적처리 프로그램 ==\")\n",
    "    print(\"1. 신규학생등록\")\n",
    "    print(\"2. 전체성적조회\")\n",
    "    print(\"3. 학생성적조회\") # 특정학생 - 이름\n",
    "    print(\"4. 학생정보삭제\")\n",
    "    print(\"5. 프로그램종료\")    "
   ]
  },
  {
   "cell_type": "code",
   "execution_count": null,
   "id": "7cb8f11f",
   "metadata": {
    "ExecuteTime": {
     "end_time": "2023-08-24T02:59:49.154054Z",
     "start_time": "2023-08-24T02:59:49.145013Z"
    }
   },
   "outputs": [],
   "source": [
    "# 변수 범위(scope, 영역): 전역변수, 지역변수\n",
    "a = 100 # 전역변수(정해진 영역이 없는 변수)"
   ]
  },
  {
   "cell_type": "code",
   "execution_count": null,
   "id": "9702d10b",
   "metadata": {
    "ExecuteTime": {
     "end_time": "2023-08-24T02:59:50.622425Z",
     "start_time": "2023-08-24T02:59:50.611059Z"
    }
   },
   "outputs": [],
   "source": [
    "def check():\n",
    "    a = 10 # 지역변수(함수 안에서 선언되는 변수)\n",
    "    print(\"a = \", a)"
   ]
  },
  {
   "cell_type": "code",
   "execution_count": null,
   "id": "9e557674",
   "metadata": {
    "ExecuteTime": {
     "end_time": "2023-08-24T03:00:18.308626Z",
     "start_time": "2023-08-24T03:00:18.296383Z"
    }
   },
   "outputs": [],
   "source": [
    "print(\"a = \", a)"
   ]
  },
  {
   "cell_type": "code",
   "execution_count": null,
   "id": "a9c4a3af",
   "metadata": {
    "ExecuteTime": {
     "end_time": "2023-08-24T03:00:20.152347Z",
     "start_time": "2023-08-24T03:00:20.139377Z"
    }
   },
   "outputs": [],
   "source": [
    "check()\n",
    "print(\"a = \", a)"
   ]
  },
  {
   "cell_type": "code",
   "execution_count": 4,
   "id": "a245c086",
   "metadata": {
    "ExecuteTime": {
     "end_time": "2023-08-24T03:47:36.375409Z",
     "start_time": "2023-08-24T03:47:36.367290Z"
    }
   },
   "outputs": [],
   "source": [
    "# 신규학생을 등록하는 함수 makeStudent\n",
    "def makeStudent():\n",
    "    stu = dict()\n",
    "\n",
    "    stu['name'] = input('이름 =')\n",
    "    stu['kor'] = int(input('국어 ='))\n",
    "    stu['eng'] = int(input('영어 ='))\n",
    "    stu['math'] = int(input('수학 ='))\n",
    "\n",
    "    # 총점과 평균 학점을 처리하는 로직\n",
    "    stu['tot'] = stu['kor'] + stu['eng'] + stu['math']\n",
    "    stu['avg'] = stu['tot'] / 3\n",
    "    if stu['avg'] >= 90:\n",
    "        stu['grade'] = 'A'\n",
    "    elif stu['avg'] >= 80:\n",
    "        stu['grade'] = 'B'\n",
    "    elif stu['avg'] >= 70:\n",
    "        stu['grade'] = 'C'\n",
    "    elif stu['avg'] >= 60:\n",
    "        stu['grade'] = 'D'\n",
    "    else:\n",
    "        stu['grade'] = 'F'\n",
    "        \n",
    "    return stu"
   ]
  },
  {
   "cell_type": "code",
   "execution_count": 5,
   "id": "c5c7f137",
   "metadata": {
    "ExecuteTime": {
     "end_time": "2023-08-24T03:47:38.612623Z",
     "start_time": "2023-08-24T03:47:38.602884Z"
    }
   },
   "outputs": [],
   "source": [
    "# 학생정보를 찾아내는 함수 search\n",
    "def search(name):\n",
    "    sw = False\n",
    "\n",
    "    for i in students:\n",
    "        if students[i]['name'] == name:\n",
    "            sw = True\n",
    "            break        \n",
    "\n",
    "    if sw == True:\n",
    "        print(students[i])\n",
    "\n",
    "    else:\n",
    "        print(\"해당 학생이 존재하지 않습니다.\")"
   ]
  },
  {
   "cell_type": "code",
   "execution_count": 6,
   "id": "5691be63",
   "metadata": {
    "ExecuteTime": {
     "end_time": "2023-08-24T03:48:02.696847Z",
     "start_time": "2023-08-24T03:47:40.067796Z"
    }
   },
   "outputs": [
    {
     "name": "stdout",
     "output_type": "stream",
     "text": [
      "\n",
      "== 성적처리 프로그램 ==\n",
      "1. 신규학생등록\n",
      "2. 전체성적조회\n",
      "3. 학생성적조회\n",
      "4. 학생정보삭제\n",
      "5. 프로그램종료\n",
      "메뉴선택: 3\n",
      "조회할 학생 정보를 입력하세요\n",
      "이름: 이소라\n",
      "해당 학생이 존재하지 않습니다.\n",
      "\n",
      "== 성적처리 프로그램 ==\n",
      "1. 신규학생등록\n",
      "2. 전체성적조회\n",
      "3. 학생성적조회\n",
      "4. 학생정보삭제\n",
      "5. 프로그램종료\n",
      "메뉴선택: 1\n",
      "이름 =이소라\n",
      "국어 =100\n",
      "영어 =100\n",
      "수학 =100\n",
      "\n",
      "== 성적처리 프로그램 ==\n",
      "1. 신규학생등록\n",
      "2. 전체성적조회\n",
      "3. 학생성적조회\n",
      "4. 학생정보삭제\n",
      "5. 프로그램종료\n",
      "메뉴선택: 3\n",
      "조회할 학생 정보를 입력하세요\n",
      "이름: 이소라\n"
     ]
    },
    {
     "ename": "TypeError",
     "evalue": "list indices must be integers or slices, not dict",
     "output_type": "error",
     "traceback": [
      "\u001b[1;31m---------------------------------------------------------------------------\u001b[0m",
      "\u001b[1;31mTypeError\u001b[0m                                 Traceback (most recent call last)",
      "\u001b[1;32m<ipython-input-6-d4d9680c9de5>\u001b[0m in \u001b[0;36m<module>\u001b[1;34m\u001b[0m\n\u001b[0;32m     21\u001b[0m         \u001b[0mprint\u001b[0m\u001b[1;33m(\u001b[0m\u001b[1;34m\"조회할 학생 정보를 입력하세요\"\u001b[0m\u001b[1;33m)\u001b[0m\u001b[1;33m\u001b[0m\u001b[1;33m\u001b[0m\u001b[0m\n\u001b[0;32m     22\u001b[0m         \u001b[0mname\u001b[0m \u001b[1;33m=\u001b[0m \u001b[0minput\u001b[0m\u001b[1;33m(\u001b[0m\u001b[1;34m'이름: '\u001b[0m\u001b[1;33m)\u001b[0m\u001b[1;33m\u001b[0m\u001b[1;33m\u001b[0m\u001b[0m\n\u001b[1;32m---> 23\u001b[1;33m         \u001b[0msearch\u001b[0m\u001b[1;33m(\u001b[0m\u001b[0mname\u001b[0m\u001b[1;33m)\u001b[0m\u001b[1;33m\u001b[0m\u001b[1;33m\u001b[0m\u001b[0m\n\u001b[0m\u001b[0;32m     24\u001b[0m     \u001b[1;32melif\u001b[0m \u001b[0mch\u001b[0m \u001b[1;33m==\u001b[0m \u001b[1;36m4\u001b[0m\u001b[1;33m:\u001b[0m\u001b[1;33m\u001b[0m\u001b[1;33m\u001b[0m\u001b[0m\n\u001b[0;32m     25\u001b[0m         \u001b[1;32mpass\u001b[0m\u001b[1;33m\u001b[0m\u001b[1;33m\u001b[0m\u001b[0m\n",
      "\u001b[1;32m<ipython-input-5-33eba49360f0>\u001b[0m in \u001b[0;36msearch\u001b[1;34m(name)\u001b[0m\n\u001b[0;32m      4\u001b[0m \u001b[1;33m\u001b[0m\u001b[0m\n\u001b[0;32m      5\u001b[0m     \u001b[1;32mfor\u001b[0m \u001b[0mi\u001b[0m \u001b[1;32min\u001b[0m \u001b[0mstudents\u001b[0m\u001b[1;33m:\u001b[0m\u001b[1;33m\u001b[0m\u001b[1;33m\u001b[0m\u001b[0m\n\u001b[1;32m----> 6\u001b[1;33m         \u001b[1;32mif\u001b[0m \u001b[0mstudents\u001b[0m\u001b[1;33m[\u001b[0m\u001b[0mi\u001b[0m\u001b[1;33m]\u001b[0m\u001b[1;33m[\u001b[0m\u001b[1;34m'name'\u001b[0m\u001b[1;33m]\u001b[0m \u001b[1;33m==\u001b[0m \u001b[0mname\u001b[0m\u001b[1;33m:\u001b[0m\u001b[1;33m\u001b[0m\u001b[1;33m\u001b[0m\u001b[0m\n\u001b[0m\u001b[0;32m      7\u001b[0m             \u001b[0msw\u001b[0m \u001b[1;33m=\u001b[0m \u001b[1;32mTrue\u001b[0m\u001b[1;33m\u001b[0m\u001b[1;33m\u001b[0m\u001b[0m\n\u001b[0;32m      8\u001b[0m             \u001b[1;32mbreak\u001b[0m\u001b[1;33m\u001b[0m\u001b[1;33m\u001b[0m\u001b[0m\n",
      "\u001b[1;31mTypeError\u001b[0m: list indices must be integers or slices, not dict"
     ]
    }
   ],
   "source": [
    "# 학생정보를 저장하는 리스트 객체 - 전역변수\n",
    "students = []\n",
    "\n",
    "while True:\n",
    "    print()  # 개행\n",
    "    \n",
    "    # 메뉴 출력\n",
    "    menu()\n",
    "    \n",
    "    # 메뉴 입력\n",
    "    ch = int(input('메뉴선택: '))\n",
    "    \n",
    "    # 선택에 따른 로직 구현\n",
    "    if ch == 1:\n",
    "        stu = makeStudent()\n",
    "        students.append(stu)\n",
    "    elif ch == 2:\n",
    "        for i in students:\n",
    "            print(i)\n",
    "    elif ch == 3:\n",
    "        print(\"조회할 학생 정보를 입력하세요\")\n",
    "        name = input('이름: ')\n",
    "        search(name)\n",
    "    elif ch == 4:\n",
    "        pass\n",
    "    elif ch == 5:\n",
    "        print(\"프로그램을 종료합니다.\")\n",
    "        break\n",
    "    else:\n",
    "        print(\"메뉴의 선택이 올바르지 않습니다.\")"
   ]
  },
  {
   "cell_type": "code",
   "execution_count": null,
   "id": "ec980845",
   "metadata": {
    "ExecuteTime": {
     "end_time": "2023-08-24T03:23:24.084342Z",
     "start_time": "2023-08-24T03:23:24.070393Z"
    }
   },
   "outputs": [],
   "source": [
    "a = {'id':111, 'name':'aaa'}\n",
    "b = {'id':222, 'name':'bbb'}\n",
    "c = {'id':333, 'name':'ccc'}\n",
    "\n",
    "imsi = list()\n",
    "imsi.append(a)\n",
    "imsi.append(b)\n",
    "imsi.append(c)\n",
    "\n",
    "print(imsi)"
   ]
  },
  {
   "cell_type": "code",
   "execution_count": null,
   "id": "8eb93c3f",
   "metadata": {
    "ExecuteTime": {
     "end_time": "2023-08-24T03:24:19.828836Z",
     "start_time": "2023-08-24T03:24:19.811556Z"
    }
   },
   "outputs": [],
   "source": [
    "imsi[2]"
   ]
  },
  {
   "cell_type": "code",
   "execution_count": null,
   "id": "7359fc28",
   "metadata": {
    "ExecuteTime": {
     "end_time": "2023-08-24T03:26:50.544081Z",
     "start_time": "2023-08-24T03:26:50.526599Z"
    }
   },
   "outputs": [],
   "source": [
    "print(imsi[1]['id'])\n",
    "print(imsi[2]['name'])\n",
    "print(imsi[0]['id'])"
   ]
  },
  {
   "cell_type": "code",
   "execution_count": null,
   "id": "a4031063",
   "metadata": {
    "ExecuteTime": {
     "end_time": "2023-08-24T03:36:15.714762Z",
     "start_time": "2023-08-24T03:36:13.360563Z"
    }
   },
   "outputs": [],
   "source": [
    "# 전체 학생 이름 조회\n",
    "for i in range(3):\n",
    "    print(imsi[i]['name'])\n",
    "    \n",
    "# bbb의 정보만 출력\n",
    "for i in range(3):\n",
    "    if imsi[i]['name'] == \"bbb\":\n",
    "        print(imsi[i])\n",
    "\n",
    "# 입력 받은 이름의 정보만 출력\n",
    "name = input('이름: ')\n",
    "for i in range(3):\n",
    "    if imsi[i]['name'] == name:\n",
    "        print(imsi[i])\n",
    "        \n",
    "# 이름이 없을 때 오류메세지 출력\n",
    "# 스위칭 변수(switch == toggle)\n",
    "sw = False\n",
    "\n",
    "for i in range(3):\n",
    "    if imsi[i]['name'] == name:\n",
    "        sw = True\n",
    "        break\n",
    "        \n",
    "if sw == True:\n",
    "    print(imsi[i])\n",
    "else:\n",
    "    print(\"해당 학생이 존재하지 않습니다.\")"
   ]
  },
  {
   "cell_type": "code",
   "execution_count": null,
   "id": "a12be862",
   "metadata": {},
   "outputs": [],
   "source": []
  }
 ],
 "metadata": {
  "kernelspec": {
   "display_name": "Python 3",
   "language": "python",
   "name": "python3"
  },
  "language_info": {
   "codemirror_mode": {
    "name": "ipython",
    "version": 3
   },
   "file_extension": ".py",
   "mimetype": "text/x-python",
   "name": "python",
   "nbconvert_exporter": "python",
   "pygments_lexer": "ipython3",
   "version": "3.8.8"
  },
  "toc": {
   "base_numbering": 1,
   "nav_menu": {},
   "number_sections": true,
   "sideBar": true,
   "skip_h1_title": false,
   "title_cell": "Table of Contents",
   "title_sidebar": "Contents",
   "toc_cell": false,
   "toc_position": {
    "height": "calc(100% - 180px)",
    "left": "10px",
    "top": "150px",
    "width": "307.2px"
   },
   "toc_section_display": true,
   "toc_window_display": true
  }
 },
 "nbformat": 4,
 "nbformat_minor": 5
}
