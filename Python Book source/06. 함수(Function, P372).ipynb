{
 "cells": [
  {
   "cell_type": "markdown",
   "id": "c064cfd5",
   "metadata": {},
   "source": [
    "# 함수(Function)\n",
    "- 반복적인 코드를 생산하지 않는다.\n",
    "- 코드를 간결하게 작성한다.\n",
    "- 기능이나 역할에 따라 함수를 구현한다.\n",
    "- 유지보수가 쉽다\n",
    "- 반복문의 확장형\n",
    "- def 함수이름(입력매개변수):\n",
    "- 호출: 이름, 매개변수를 담아 호출\n",
    "- return\n",
    "- return 값 or 수식"
   ]
  },
  {
   "cell_type": "code",
   "execution_count": 1,
   "id": "34754ae8",
   "metadata": {
    "ExecuteTime": {
     "end_time": "2023-08-31T07:13:51.414488Z",
     "start_time": "2023-08-31T07:13:51.401335Z"
    }
   },
   "outputs": [
    {
     "name": "stdout",
     "output_type": "stream",
     "text": [
      "hello\n"
     ]
    }
   ],
   "source": [
    "def hello():\n",
    "    print(\"hello\")\n",
    "hello()"
   ]
  },
  {
   "cell_type": "code",
   "execution_count": 2,
   "id": "545bfcf8",
   "metadata": {
    "ExecuteTime": {
     "end_time": "2023-08-31T07:15:00.196186Z",
     "start_time": "2023-08-31T07:15:00.188246Z"
    }
   },
   "outputs": [
    {
     "name": "stdout",
     "output_type": "stream",
     "text": [
      "hello\n"
     ]
    }
   ],
   "source": [
    "def hi():\n",
    "    hello()\n",
    "    \n",
    "hi()"
   ]
  },
  {
   "cell_type": "code",
   "execution_count": 10,
   "id": "5fb53ea8",
   "metadata": {
    "ExecuteTime": {
     "end_time": "2023-08-31T07:42:49.231631Z",
     "start_time": "2023-08-31T07:42:45.092685Z"
    }
   },
   "outputs": [
    {
     "name": "stdout",
     "output_type": "stream",
     "text": [
      "\n",
      "계산기 프로그램\n",
      "\n",
      "첫번째 수 = 5\n",
      "연산자(+,-,*,/) = +\n",
      "두번째 수 = 6\n",
      "5 + 6 = 11\n"
     ]
    }
   ],
   "source": [
    "# 계산기 프로그램\n",
    "print(\"\\n계산기 프로그램\\n\")\n",
    "num1 = eval(input('첫번째 수 = '))\n",
    "\n",
    "sw = True\n",
    "while sw:    \n",
    "    op = input('연산자(+,-,*,/) = ')\n",
    "    if op == '+' or op == '-' or op == '*' or op == '/':\n",
    "        sw = False\n",
    "\n",
    "# ZeroDivisionError 처리\n",
    "sw = True\n",
    "while sw:\n",
    "    num2 = eval(input('두번째 수 = '))\n",
    "    if op == '/' and num2 == 0:\n",
    "        sw = True\n",
    "    else:\n",
    "        sw = False\n",
    "\n",
    "if op == '+':\n",
    "    print(f\"{num1} + {num2} = {adder(num1, num2)}\")\n",
    "elif op == '-':\n",
    "    print(f\"{num1} - {num2} = {sub(num1, num2)}\")\n",
    "elif op == '*':\n",
    "    print(f\"{num1} * {num2} = {mul(num1, num2)}\")\n",
    "elif op == '/':\n",
    "    print(f\"{num1} / {num2} = {div(num1, num2)}\")\n",
    "else:\n",
    "    print('연산자 기호가 올바르지 않습니다.')"
   ]
  },
  {
   "cell_type": "code",
   "execution_count": 6,
   "id": "fb48c1ab",
   "metadata": {
    "ExecuteTime": {
     "end_time": "2023-08-31T07:37:34.760404Z",
     "start_time": "2023-08-31T07:37:34.745215Z"
    }
   },
   "outputs": [],
   "source": [
    "def adder(num1, num2):\n",
    "    return num1 + num2\n",
    "def sub(num1, num2):\n",
    "    return num1 - num2\n",
    "def mul(num1, num2):\n",
    "    return num1 * num2\n",
    "def div(num1, num2):\n",
    "    return num1 / num2    "
   ]
  },
  {
   "cell_type": "markdown",
   "id": "fbcce997",
   "metadata": {},
   "source": [
    "# 가변길이 매개변수"
   ]
  },
  {
   "cell_type": "code",
   "execution_count": 11,
   "id": "fee2261c",
   "metadata": {
    "ExecuteTime": {
     "end_time": "2023-08-31T07:43:55.739828Z",
     "start_time": "2023-08-31T07:43:55.721475Z"
    }
   },
   "outputs": [
    {
     "name": "stdout",
     "output_type": "stream",
     "text": [
      "누적합 =  15\n"
     ]
    }
   ],
   "source": [
    "x = [1,2,3,4,5]\n",
    "\n",
    "tot = 0\n",
    "\n",
    "for i in x:\n",
    "    tot += i\n",
    "    \n",
    "print(\"누적합 = \", tot)"
   ]
  },
  {
   "cell_type": "code",
   "execution_count": 12,
   "id": "830094f5",
   "metadata": {
    "ExecuteTime": {
     "end_time": "2023-08-31T07:45:10.948513Z",
     "start_time": "2023-08-31T07:45:10.930444Z"
    }
   },
   "outputs": [
    {
     "name": "stdout",
     "output_type": "stream",
     "text": [
      "누적합 =  15\n"
     ]
    }
   ],
   "source": [
    "x = [1,2,3,4,5]\n",
    "\n",
    "tot = 0\n",
    "\n",
    "for i in range(len(x)):  # 인덱스로 가져올 때\n",
    "    tot += x[i]\n",
    "    \n",
    "print(\"누적합 = \", tot)"
   ]
  },
  {
   "cell_type": "code",
   "execution_count": 15,
   "id": "e6973faf",
   "metadata": {
    "ExecuteTime": {
     "end_time": "2023-08-31T07:47:49.034773Z",
     "start_time": "2023-08-31T07:47:49.030859Z"
    }
   },
   "outputs": [],
   "source": [
    "def arraySum(data):\n",
    "    tot = 0\n",
    "    for i in range(len(data)):\n",
    "        tot += data[i]\n",
    "    return tot"
   ]
  },
  {
   "cell_type": "code",
   "execution_count": 16,
   "id": "63f8868b",
   "metadata": {
    "ExecuteTime": {
     "end_time": "2023-08-31T07:47:49.852304Z",
     "start_time": "2023-08-31T07:47:49.845298Z"
    }
   },
   "outputs": [
    {
     "name": "stdout",
     "output_type": "stream",
     "text": [
      "누적합 =  15\n"
     ]
    }
   ],
   "source": [
    "x = [1,2,3,4,5]\n",
    "\n",
    "tot = arraySum(x)  # Call by Reference\n",
    "    \n",
    "print(\"누적합 = \", tot)"
   ]
  },
  {
   "cell_type": "markdown",
   "id": "e7a72155",
   "metadata": {},
   "source": [
    "- 함수 호출 방법\n",
    " 1. Call by Name: 이름에 의한 호출\n",
    "   - 매개변수 없이 함수의 이름만으로 호출하는 행위\n",
    " 2. Call by Value: 값에 의한 호출\n",
    "   - 매개변수의 값을 이용하여 함수를 호출하는 행위\n",
    " 3. Call by Reference: 주소에 의한 호출\n",
    "   - 매개변수의 주소를 이용하여 함수를 호출하는 행위"
   ]
  },
  {
   "cell_type": "code",
   "execution_count": 17,
   "id": "14cba30c",
   "metadata": {
    "ExecuteTime": {
     "end_time": "2023-08-31T07:50:32.266911Z",
     "start_time": "2023-08-31T07:50:32.250965Z"
    }
   },
   "outputs": [],
   "source": [
    "def getSum(a, b):\n",
    "    return a + b"
   ]
  },
  {
   "cell_type": "code",
   "execution_count": 18,
   "id": "cbbfbe77",
   "metadata": {
    "ExecuteTime": {
     "end_time": "2023-08-31T07:50:38.762156Z",
     "start_time": "2023-08-31T07:50:38.741718Z"
    }
   },
   "outputs": [
    {
     "data": {
      "text/plain": [
       "8"
      ]
     },
     "execution_count": 18,
     "metadata": {},
     "output_type": "execute_result"
    }
   ],
   "source": [
    "getSum(3,5)"
   ]
  },
  {
   "cell_type": "code",
   "execution_count": 19,
   "id": "d87b795e",
   "metadata": {
    "ExecuteTime": {
     "end_time": "2023-08-31T08:00:25.227302Z",
     "start_time": "2023-08-31T08:00:25.210180Z"
    }
   },
   "outputs": [],
   "source": [
    "# 가변길이 매개변수: 매개변수의 개수와 상관없이 받아서 처리하도록 생성된 변수로 앞에 * 를 붙인다.\n",
    "def get_sum(*x):\n",
    "    tot = 0\n",
    "    for i in x:\n",
    "        tot += i\n",
    "    return tot"
   ]
  },
  {
   "cell_type": "code",
   "execution_count": 20,
   "id": "93c4e2c1",
   "metadata": {
    "ExecuteTime": {
     "end_time": "2023-08-31T08:00:40.430267Z",
     "start_time": "2023-08-31T08:00:40.417669Z"
    }
   },
   "outputs": [
    {
     "data": {
      "text/plain": [
       "113"
      ]
     },
     "execution_count": 20,
     "metadata": {},
     "output_type": "execute_result"
    }
   ],
   "source": [
    "get_sum(46,51,2,1,4,9)"
   ]
  },
  {
   "cell_type": "code",
   "execution_count": null,
   "id": "585f7bbf",
   "metadata": {},
   "outputs": [],
   "source": []
  }
 ],
 "metadata": {
  "kernelspec": {
   "display_name": "Python 3",
   "language": "python",
   "name": "python3"
  },
  "language_info": {
   "codemirror_mode": {
    "name": "ipython",
    "version": 3
   },
   "file_extension": ".py",
   "mimetype": "text/x-python",
   "name": "python",
   "nbconvert_exporter": "python",
   "pygments_lexer": "ipython3",
   "version": "3.8.8"
  },
  "toc": {
   "base_numbering": 1,
   "nav_menu": {},
   "number_sections": true,
   "sideBar": true,
   "skip_h1_title": false,
   "title_cell": "Table of Contents",
   "title_sidebar": "Contents",
   "toc_cell": false,
   "toc_position": {},
   "toc_section_display": true,
   "toc_window_display": false
  }
 },
 "nbformat": 4,
 "nbformat_minor": 5
}
