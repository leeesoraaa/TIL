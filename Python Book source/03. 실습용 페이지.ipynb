{
 "cells": [
  {
   "cell_type": "markdown",
   "id": "9c13dc1d",
   "metadata": {},
   "source": [
    "# 가로, 세로의 길이를 이용하여 사각형의 면적을 구하는 프로그램"
   ]
  },
  {
   "cell_type": "code",
   "execution_count": 1,
   "id": "6512c762",
   "metadata": {
    "ExecuteTime": {
     "end_time": "2023-08-30T07:22:48.052292Z",
     "start_time": "2023-08-30T07:22:45.094624Z"
    }
   },
   "outputs": [
    {
     "name": "stdout",
     "output_type": "stream",
     "text": [
      "가로:5\n",
      "세로:7\n"
     ]
    },
    {
     "ename": "NameError",
     "evalue": "name 'area' is not defined",
     "output_type": "error",
     "traceback": [
      "\u001b[1;31m---------------------------------------------------------------------------\u001b[0m",
      "\u001b[1;31mNameError\u001b[0m                                 Traceback (most recent call last)",
      "\u001b[1;32m<ipython-input-1-5ae2cb0d565d>\u001b[0m in \u001b[0;36m<module>\u001b[1;34m\u001b[0m\n\u001b[0;32m      2\u001b[0m \u001b[0msero\u001b[0m \u001b[1;33m=\u001b[0m \u001b[0mint\u001b[0m\u001b[1;33m(\u001b[0m\u001b[0minput\u001b[0m\u001b[1;33m(\u001b[0m\u001b[1;34m'세로:'\u001b[0m\u001b[1;33m)\u001b[0m\u001b[1;33m)\u001b[0m\u001b[1;33m\u001b[0m\u001b[1;33m\u001b[0m\u001b[0m\n\u001b[0;32m      3\u001b[0m \u001b[1;33m\u001b[0m\u001b[0m\n\u001b[1;32m----> 4\u001b[1;33m \u001b[0ma\u001b[0m \u001b[1;33m=\u001b[0m \u001b[0marea\u001b[0m\u001b[1;33m(\u001b[0m\u001b[0mgaro\u001b[0m\u001b[1;33m,\u001b[0m \u001b[0msero\u001b[0m\u001b[1;33m)\u001b[0m\u001b[1;33m\u001b[0m\u001b[1;33m\u001b[0m\u001b[0m\n\u001b[0m\u001b[0;32m      5\u001b[0m \u001b[0mprint\u001b[0m\u001b[1;33m(\u001b[0m\u001b[0ma\u001b[0m\u001b[1;33m)\u001b[0m\u001b[1;33m\u001b[0m\u001b[1;33m\u001b[0m\u001b[0m\n",
      "\u001b[1;31mNameError\u001b[0m: name 'area' is not defined"
     ]
    }
   ],
   "source": [
    "garo = int(input('가로:'))\n",
    "sero = int(input('세로:'))\n",
    "\n",
    "a = area(garo, sero)\n",
    "print(a)"
   ]
  },
  {
   "cell_type": "code",
   "execution_count": 2,
   "id": "1f291a05",
   "metadata": {
    "ExecuteTime": {
     "end_time": "2023-08-30T07:25:57.417332Z",
     "start_time": "2023-08-30T07:25:55.445016Z"
    }
   },
   "outputs": [
    {
     "name": "stdout",
     "output_type": "stream",
     "text": [
      "가로:4\n",
      "세로:7\n",
      "28\n"
     ]
    }
   ],
   "source": [
    "from rectangle import *\n",
    "garo = int(input('가로:'))\n",
    "sero = int(input('세로:'))\n",
    "\n",
    "a = area(garo, sero)\n",
    "print(a)"
   ]
  },
  {
   "cell_type": "markdown",
   "id": "64f699fe",
   "metadata": {},
   "source": [
    "## 객체지향적인 표현"
   ]
  },
  {
   "cell_type": "code",
   "execution_count": 3,
   "id": "59a860f1",
   "metadata": {
    "ExecuteTime": {
     "end_time": "2023-08-30T07:29:05.621430Z",
     "start_time": "2023-08-30T07:29:05.609155Z"
    }
   },
   "outputs": [],
   "source": [
    "class Rect:\n",
    "    # 멤버 메서드: 인스턴스 메서드\n",
    "    def area(self):\n",
    "        return self.h * self.w"
   ]
  },
  {
   "cell_type": "code",
   "execution_count": 4,
   "id": "b3f98c83",
   "metadata": {
    "ExecuteTime": {
     "end_time": "2023-08-30T07:30:23.388569Z",
     "start_time": "2023-08-30T07:30:23.372199Z"
    }
   },
   "outputs": [
    {
     "name": "stdout",
     "output_type": "stream",
     "text": [
      "면적: 20\n"
     ]
    }
   ],
   "source": [
    "obj = Rect()\n",
    "obj.h = 4\n",
    "obj.w = 5\n",
    "print('면적:', obj.area())"
   ]
  },
  {
   "cell_type": "code",
   "execution_count": 5,
   "id": "093527ec",
   "metadata": {
    "ExecuteTime": {
     "end_time": "2023-08-30T07:33:25.056926Z",
     "start_time": "2023-08-30T07:33:25.041534Z"
    }
   },
   "outputs": [],
   "source": [
    "class Rect:\n",
    "    # 생성자 메서드 - 멤버 필드를 초기화 시켜주는 역할\n",
    "    def __init__(self):\n",
    "        self.h = int(input('가로 = '))\n",
    "        self.w = int(input('세로 = '))\n",
    "    # 멤버 메서드: 인스턴스 메서드\n",
    "    def area(self):\n",
    "        return self.h * self.w"
   ]
  },
  {
   "cell_type": "code",
   "execution_count": 6,
   "id": "8e606e64",
   "metadata": {
    "ExecuteTime": {
     "end_time": "2023-08-30T07:33:52.593125Z",
     "start_time": "2023-08-30T07:33:50.372823Z"
    }
   },
   "outputs": [
    {
     "name": "stdout",
     "output_type": "stream",
     "text": [
      "가로 = 7\n",
      "세로 = 9\n",
      "면적: 63\n"
     ]
    }
   ],
   "source": [
    "r = Rect()\n",
    "print('면적:', r.area())"
   ]
  },
  {
   "cell_type": "code",
   "execution_count": 7,
   "id": "fad710df",
   "metadata": {
    "ExecuteTime": {
     "end_time": "2023-08-30T07:36:32.802115Z",
     "start_time": "2023-08-30T07:36:27.572862Z"
    }
   },
   "outputs": [
    {
     "name": "stdout",
     "output_type": "stream",
     "text": [
      "가로 = 4\n",
      "세로 = 7\n",
      "가로 = 5\n",
      "세로 = 1\n",
      "가로 = 3\n",
      "세로 = 66\n",
      "면적: 28\n",
      "면적: 5\n",
      "면적: 198\n"
     ]
    }
   ],
   "source": [
    "r1 = Rect()\n",
    "r2 = Rect()\n",
    "r3 = Rect()\n",
    "\n",
    "print('면적:', r1.area())\n",
    "print('면적:', r2.area())\n",
    "print('면적:', r3.area())"
   ]
  },
  {
   "cell_type": "code",
   "execution_count": 8,
   "id": "5cafd94c",
   "metadata": {
    "ExecuteTime": {
     "end_time": "2023-08-30T07:39:29.112541Z",
     "start_time": "2023-08-30T07:39:23.971039Z"
    }
   },
   "outputs": [
    {
     "name": "stdout",
     "output_type": "stream",
     "text": [
      "가로 = 7\n",
      "세로 = 9\n",
      "가로 = 8\n",
      "세로 = 6\n",
      "가로 = 5\n",
      "세로 = 2\n",
      "면적: 63\n",
      "면적: 48\n",
      "면적: 10\n"
     ]
    }
   ],
   "source": [
    "# obj = [Rect(),Rect(),Rect()]\n",
    "obj = []\n",
    "for i in range(3):\n",
    "    obj.append(Rect())\n",
    "    \n",
    "for i in obj:\n",
    "    print('면적:', i.area())    "
   ]
  },
  {
   "cell_type": "markdown",
   "id": "c3f72817",
   "metadata": {},
   "source": [
    "# 성적처리 프로그램\n",
    "## 한 명의 성적을 계산하여 출력하는 프로그램\n",
    "- 국어, 영어, 수학, 사회과목의 점수를 이용하여 총점과 평균을 출력하는 프로그램"
   ]
  },
  {
   "cell_type": "code",
   "execution_count": 10,
   "id": "bf82a640",
   "metadata": {
    "ExecuteTime": {
     "end_time": "2023-08-30T07:45:37.111090Z",
     "start_time": "2023-08-30T07:45:37.090073Z"
    }
   },
   "outputs": [
    {
     "name": "stdout",
     "output_type": "stream",
     "text": [
      "총점:320, 평균:80.00\n"
     ]
    }
   ],
   "source": [
    "name = \"홍길동\"\n",
    "kor = 90\n",
    "eng = 100\n",
    "math = 70\n",
    "soc = 60\n",
    "\n",
    "tot = kor + eng + math + soc\n",
    "avg = tot / 4\n",
    "\n",
    "print(\"총점:{0}, 평균:{1:.2f}\".format(tot, avg))"
   ]
  },
  {
   "cell_type": "markdown",
   "id": "52fdbd5c",
   "metadata": {},
   "source": [
    "## 세명의 성적을 처리하는 프로그램"
   ]
  },
  {
   "cell_type": "code",
   "execution_count": 14,
   "id": "98ed65dc",
   "metadata": {
    "ExecuteTime": {
     "end_time": "2023-08-30T07:54:50.249516Z",
     "start_time": "2023-08-30T07:54:50.223696Z"
    }
   },
   "outputs": [
    {
     "name": "stdout",
     "output_type": "stream",
     "text": [
      "이름:홍길동, 총점:320, 평균:80.00\n",
      "이름:이소라, 총점:324, 평균:81.00\n",
      "이름:이순신, 총점:352, 평균:88.00\n"
     ]
    }
   ],
   "source": [
    "name_1 = \"홍길동\"\n",
    "kor_1 = 90\n",
    "eng_1 = 100\n",
    "math_1 = 70\n",
    "soc_1 = 60\n",
    "\n",
    "name_2 = \"이소라\"\n",
    "kor_2 = 80\n",
    "eng_2 = 76\n",
    "math_2 = 100\n",
    "soc_2 = 68\n",
    "\n",
    "name_3 = \"이순신\"\n",
    "kor_3 = 100\n",
    "eng_3 = 75\n",
    "math_3 = 94\n",
    "soc_3 = 83\n",
    "\n",
    "def get_tot(kor, eng, math, soc):\n",
    "    return kor + eng + math + soc\n",
    "\n",
    "def get_avg(tot):\n",
    "    return tot / 4\n",
    "\n",
    "tot1 = get_tot(kor_1, eng_1, math_1, soc_1)\n",
    "tot2 = get_tot(kor_2, eng_2, math_2, soc_2)\n",
    "tot3 = get_tot(kor_3, eng_3, math_3, soc_3)\n",
    "\n",
    "avg1 = get_avg(tot1)\n",
    "avg2 = get_avg(tot2)\n",
    "avg3 = get_avg(tot3)\n",
    "\n",
    "print(\"이름:{0}, 총점:{1}, 평균:{2:.2f}\".format(name_1, tot1, avg1))\n",
    "print(\"이름:{0}, 총점:{1}, 평균:{2:.2f}\".format(name_2, tot2, avg2))\n",
    "print(\"이름:{0}, 총점:{1}, 평균:{2:.2f}\".format(name_3, tot3, avg3))"
   ]
  },
  {
   "cell_type": "code",
   "execution_count": 16,
   "id": "3c93e61e",
   "metadata": {
    "ExecuteTime": {
     "end_time": "2023-08-30T07:58:06.223167Z",
     "start_time": "2023-08-30T07:58:06.192073Z"
    }
   },
   "outputs": [
    {
     "name": "stdout",
     "output_type": "stream",
     "text": [
      "이름:홍길동, 총점:323, 평균:80.75\n",
      "이름:장보고, 총점:277, 평균:69.25\n",
      "이름:이순신, 총점:254, 평균:63.50\n"
     ]
    }
   ],
   "source": [
    "stu1 = [\"홍길동\", 88,78,92,65]\n",
    "stu2 = [\"장보고\", 64,97,81,35]\n",
    "stu3 = [\"이순신\", 64,57,35,98]\n",
    "\n",
    "tot1 = get_tot(stu1[1], stu1[2], stu1[3], stu1[4])\n",
    "tot2 = get_tot(stu2[1], stu2[2], stu2[3], stu2[4])\n",
    "tot3 = get_tot(stu3[1], stu3[2], stu3[3], stu3[4])\n",
    "\n",
    "avg1 = get_avg(tot1)\n",
    "avg2 = get_avg(tot2)\n",
    "avg3 = get_avg(tot3)\n",
    "\n",
    "print(\"이름:{0}, 총점:{1}, 평균:{2:.2f}\".format(stu1[0], tot1, avg1))\n",
    "print(\"이름:{0}, 총점:{1}, 평균:{2:.2f}\".format(stu2[0], tot2, avg2))\n",
    "print(\"이름:{0}, 총점:{1}, 평균:{2:.2f}\".format(stu3[0], tot3, avg3))"
   ]
  },
  {
   "cell_type": "code",
   "execution_count": 18,
   "id": "098815d4",
   "metadata": {
    "ExecuteTime": {
     "end_time": "2023-08-30T08:01:23.016742Z",
     "start_time": "2023-08-30T08:01:23.001122Z"
    }
   },
   "outputs": [],
   "source": [
    "students = [\n",
    "    [\"홍길동\", 88,78,92,65],\n",
    "    [\"장보고\", 64,97,81,35],\n",
    "    [\"이순신\", 64,57,35,98]\n",
    "]\n",
    "\n",
    "def get_tot(student):\n",
    "    tot = 0\n",
    "    for i in range(1, 5):\n",
    "        tot += i\n",
    "    return tot\n",
    "\n",
    "def get_avg(tot):\n",
    "    return tot / 4"
   ]
  },
  {
   "cell_type": "code",
   "execution_count": 19,
   "id": "ce0288f6",
   "metadata": {
    "ExecuteTime": {
     "end_time": "2023-08-30T08:02:37.621112Z",
     "start_time": "2023-08-30T08:02:37.612244Z"
    }
   },
   "outputs": [
    {
     "name": "stdout",
     "output_type": "stream",
     "text": [
      "['홍길동', 88, 78, 92, 65]\n",
      "['장보고', 64, 97, 81, 35]\n",
      "['이순신', 64, 57, 35, 98]\n"
     ]
    }
   ],
   "source": [
    "for i in students:\n",
    "    print(i)"
   ]
  },
  {
   "cell_type": "code",
   "execution_count": 20,
   "id": "7b455c90",
   "metadata": {
    "ExecuteTime": {
     "end_time": "2023-08-30T08:05:04.272540Z",
     "start_time": "2023-08-30T08:05:04.255812Z"
    }
   },
   "outputs": [
    {
     "name": "stdout",
     "output_type": "stream",
     "text": [
      "323\n",
      "277\n",
      "254\n"
     ]
    }
   ],
   "source": [
    "for i in students:\n",
    "    tot = 0\n",
    "    for j in range(1, 5):\n",
    "        tot += i[j]\n",
    "    print(tot)"
   ]
  },
  {
   "cell_type": "code",
   "execution_count": 25,
   "id": "8ca5a4a1",
   "metadata": {
    "ExecuteTime": {
     "end_time": "2023-08-30T08:14:27.142289Z",
     "start_time": "2023-08-30T08:14:27.110976Z"
    }
   },
   "outputs": [],
   "source": [
    "class Student:\n",
    "    def __init__(self, name, kor, eng, math, soc):\n",
    "        self.name = name\n",
    "        self.kor = kor\n",
    "        self.eng = eng\n",
    "        self.math = math\n",
    "        self.soc = soc\n",
    "        \n",
    "    def get_tot(self):\n",
    "        return self.kor + self.eng + self.math + self.soc\n",
    "    \n",
    "    def get_avg(self):\n",
    "        return self.get_tot() / 4\n",
    "    \n",
    "    def show(self):\n",
    "        print(\"이름: {0}, 총점: {1}, 평균: {2:.2f}\".format(self.name, self.get_tot(), self.get_avg()))       "
   ]
  },
  {
   "cell_type": "code",
   "execution_count": 26,
   "id": "afcbcdc2",
   "metadata": {
    "ExecuteTime": {
     "end_time": "2023-08-30T08:14:28.039728Z",
     "start_time": "2023-08-30T08:14:28.027302Z"
    }
   },
   "outputs": [
    {
     "name": "stdout",
     "output_type": "stream",
     "text": [
      "이름: 홍길동, 총점: 323, 평균: 80.75\n",
      "이름: 장보고, 총점: 277, 평균: 69.25\n",
      "이름: 이순신, 총점: 254, 평균: 63.50\n"
     ]
    }
   ],
   "source": [
    "students = [\n",
    "    Student(\"홍길동\", 88,78,92,65),\n",
    "    Student(\"장보고\", 64,97,81,35),\n",
    "    Student(\"이순신\", 64,57,35,98)\n",
    "]\n",
    "\n",
    "for stu in students:\n",
    "    stu.show()"
   ]
  },
  {
   "cell_type": "markdown",
   "id": "7d90fab9",
   "metadata": {},
   "source": [
    "# 은행 계좌관리 프로그램\n",
    "- 둘 이상의 고객에 대한 계좌정보를 관리할 목적으로 프로그램을 구현할 것.\n",
    "- 고객정보는 고객이름, 계좌번호, 예금금액을 관리할 것.\n",
    "- 계좌번호를 이용하여 고객을 식별할 것.\n",
    "- 계좌개설, 입금처리, 출금처리, 계좌정보 출력, 전체 계좌정보 출력의 기능을 제공할 것.\n",
    "- 사용자가 원하는 작업을 수행할 수 있도록 구현할 것\n",
    "- 객체 지향적인 프로그래밍 기법을 활용할 것.\n",
    "- 기타 조건은 일반적인 흐름에 맞게 구현할 것."
   ]
  },
  {
   "cell_type": "code",
   "execution_count": 38,
   "id": "e3ab6ffa",
   "metadata": {
    "ExecuteTime": {
     "end_time": "2023-08-30T08:50:21.002437Z",
     "start_time": "2023-08-30T08:50:20.991035Z"
    }
   },
   "outputs": [],
   "source": [
    "# 한 명의 고객에 대한 계좌정보를 관리할 목적의 클래스 선언부\n",
    "class Account:\n",
    "    \n",
    "    def __init__(self, name, acid, balance):\n",
    "        self.name = name\n",
    "        self.acid = acid\n",
    "        self.balance = balance\n",
    "        \n",
    "    # 입금처리\n",
    "    def inMoney(self, money):\n",
    "        self.balance += money\n",
    "        \n",
    "    # 출금처리\n",
    "    def outMoney(self, money):\n",
    "        if self.balance < money:\n",
    "            print(\"잔액이 부족합니다.\")\n",
    "        else:\n",
    "            self.balance -= money\n",
    "            print(\"출금처리가 완료되었습니다.\")\n",
    "            print(\"현재잔액:\", self.balance)\n",
    "            \n",
    "    # 고객 정보 출력\n",
    "    def show(self):\n",
    "        print(f\"{self.acid} : {self.name} : {self.balance}\")\n",
    "        \n",
    "    # 계좌번호를 반환\n",
    "    def get_id(self):\n",
    "        if self.acid == acid:\n",
    "            return self.acid       "
   ]
  },
  {
   "cell_type": "code",
   "execution_count": 39,
   "id": "fde4aa99",
   "metadata": {
    "ExecuteTime": {
     "end_time": "2023-08-30T08:50:25.640797Z",
     "start_time": "2023-08-30T08:50:25.634504Z"
    }
   },
   "outputs": [
    {
     "name": "stdout",
     "output_type": "stream",
     "text": [
      "1234 : aaa : 1000\n"
     ]
    }
   ],
   "source": [
    "# 계좌 생성\n",
    "acc = Account('aaa', '1234', 1000)\n",
    "acc.show()"
   ]
  },
  {
   "cell_type": "code",
   "execution_count": 40,
   "id": "377cb26f",
   "metadata": {
    "ExecuteTime": {
     "end_time": "2023-08-30T08:50:27.137055Z",
     "start_time": "2023-08-30T08:50:27.128410Z"
    }
   },
   "outputs": [
    {
     "name": "stdout",
     "output_type": "stream",
     "text": [
      "1234 : aaa : 1500\n"
     ]
    }
   ],
   "source": [
    "# 500 입금\n",
    "acc.inMoney(500)\n",
    "acc.show()"
   ]
  },
  {
   "cell_type": "code",
   "execution_count": 41,
   "id": "b6c9cedc",
   "metadata": {
    "ExecuteTime": {
     "end_time": "2023-08-30T08:50:28.993535Z",
     "start_time": "2023-08-30T08:50:28.987124Z"
    }
   },
   "outputs": [
    {
     "name": "stdout",
     "output_type": "stream",
     "text": [
      "출금처리가 완료되었습니다.\n",
      "현재잔액: 700\n"
     ]
    }
   ],
   "source": [
    "# 800 출금\n",
    "acc.outMoney(800)"
   ]
  },
  {
   "cell_type": "code",
   "execution_count": 42,
   "id": "c0856e2e",
   "metadata": {
    "ExecuteTime": {
     "end_time": "2023-08-30T08:50:31.792170Z",
     "start_time": "2023-08-30T08:50:31.769503Z"
    }
   },
   "outputs": [
    {
     "name": "stdout",
     "output_type": "stream",
     "text": [
      "잔액이 부족합니다.\n"
     ]
    }
   ],
   "source": [
    "acc.outMoney(1000)"
   ]
  },
  {
   "cell_type": "code",
   "execution_count": 43,
   "id": "0685c979",
   "metadata": {
    "ExecuteTime": {
     "end_time": "2023-08-30T08:50:33.403188Z",
     "start_time": "2023-08-30T08:50:33.395674Z"
    }
   },
   "outputs": [
    {
     "name": "stdout",
     "output_type": "stream",
     "text": [
      "3456 : bbb : 2000\n"
     ]
    }
   ],
   "source": [
    "acc2 = Account('bbb', '3456', 2000)\n",
    "acc2.show()"
   ]
  },
  {
   "cell_type": "code",
   "execution_count": 44,
   "id": "6ee067a4",
   "metadata": {
    "ExecuteTime": {
     "end_time": "2023-08-30T08:50:42.211773Z",
     "start_time": "2023-08-30T08:50:34.220465Z"
    }
   },
   "outputs": [
    {
     "name": "stdout",
     "output_type": "stream",
     "text": [
      "입금처리\n",
      "계좌번호 = 1234\n",
      "입금금액:500\n"
     ]
    }
   ],
   "source": [
    "print(\"입금처리\")\n",
    "acid = input(\"계좌번호 = \")\n",
    "\n",
    "# 입력 받은 계좌번호가 존재해야 입금과 출금이 가능\n",
    "if acid == acc.get_id():\n",
    "    money = int(input('입금금액:'))\n",
    "    acc.inMoney(money)\n",
    "elif acid == acc2.get_id():\n",
    "    money = int(input('입금금액:'))\n",
    "    acc2.inMoney(money)\n",
    "else:\n",
    "    print(\"해당 계좌번호가 존재하지 않습니다.\")"
   ]
  },
  {
   "cell_type": "code",
   "execution_count": 45,
   "id": "53621f32",
   "metadata": {
    "ExecuteTime": {
     "end_time": "2023-08-30T08:50:59.720402Z",
     "start_time": "2023-08-30T08:50:59.713387Z"
    }
   },
   "outputs": [
    {
     "name": "stdout",
     "output_type": "stream",
     "text": [
      "1234 : aaa : 1200\n"
     ]
    }
   ],
   "source": [
    "acc.show()"
   ]
  },
  {
   "cell_type": "code",
   "execution_count": null,
   "id": "65cd7d4a",
   "metadata": {},
   "outputs": [],
   "source": [
    "# 메뉴 출력 \n",
    "def showMenu():\n",
    "    print(\"== Bank Account\")\n",
    "    print(\"1. 계좌개설\")\n",
    "    print(\"2. 입금처리\")\n",
    "    print(\"3. 출금처리\")\n",
    "    print(\"4. 잔액조회\")\n",
    "    print(\"5. 계좌조회\")\n",
    "    print(\"6. 작업종료\")\n",
    "    print(\"=================\")"
   ]
  },
  {
   "cell_type": "code",
   "execution_count": null,
   "id": "64b88845",
   "metadata": {},
   "outputs": [],
   "source": [
    "# main processor\n",
    "\n",
    "accounts = list()\n",
    "\n",
    "while True:\n",
    "    showMenu()\n",
    "    print(\"메뉴를 선택하세요.\")\n",
    "    menu = int(input(\"선택: \"))\n",
    "    \n",
    "    if menu == 1:\n",
    "        pass\n",
    "    elif menu == 2:\n",
    "        pass\n",
    "    elif menu == 3:\n",
    "        pass\n",
    "    elif menu == 4:\n",
    "        pass\n",
    "    elif menu == 5:\n",
    "        pass\n",
    "    elif menu == 6:\n",
    "        print(\"프로그램을 종료합니다.\")\n",
    "        break\n",
    "        "
   ]
  }
 ],
 "metadata": {
  "kernelspec": {
   "display_name": "Python 3",
   "language": "python",
   "name": "python3"
  },
  "language_info": {
   "codemirror_mode": {
    "name": "ipython",
    "version": 3
   },
   "file_extension": ".py",
   "mimetype": "text/x-python",
   "name": "python",
   "nbconvert_exporter": "python",
   "pygments_lexer": "ipython3",
   "version": "3.8.8"
  },
  "toc": {
   "base_numbering": 1,
   "nav_menu": {},
   "number_sections": true,
   "sideBar": true,
   "skip_h1_title": false,
   "title_cell": "Table of Contents",
   "title_sidebar": "Contents",
   "toc_cell": false,
   "toc_position": {},
   "toc_section_display": true,
   "toc_window_display": false
  }
 },
 "nbformat": 4,
 "nbformat_minor": 5
}
