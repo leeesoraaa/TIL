{
 "cells": [
  {
   "cell_type": "markdown",
   "id": "bb2b86e7",
   "metadata": {},
   "source": [
    "# 함수의 종류\n",
    "- 내장함수\n",
    "- 사용자 정의 함수"
   ]
  },
  {
   "cell_type": "markdown",
   "id": "b17989f3",
   "metadata": {
    "ExecuteTime": {
     "end_time": "2023-08-24T07:10:44.659625Z",
     "start_time": "2023-08-24T07:10:44.642372Z"
    }
   },
   "source": [
    "## 내장함수\n",
    "https://docs.python.org/ko/3/library/functions.html"
   ]
  },
  {
   "cell_type": "code",
   "execution_count": 2,
   "id": "df0f1305",
   "metadata": {
    "ExecuteTime": {
     "end_time": "2023-08-24T07:12:39.058471Z",
     "start_time": "2023-08-24T07:12:39.050966Z"
    }
   },
   "outputs": [
    {
     "name": "stdout",
     "output_type": "stream",
     "text": [
      "['__add__', '__class__', '__contains__', '__delattr__', '__delitem__', '__dir__', '__doc__', '__eq__', '__format__', '__ge__', '__getattribute__', '__getitem__', '__gt__', '__hash__', '__iadd__', '__imul__', '__init__', '__init_subclass__', '__iter__', '__le__', '__len__', '__lt__', '__mul__', '__ne__', '__new__', '__reduce__', '__reduce_ex__', '__repr__', '__reversed__', '__rmul__', '__setattr__', '__setitem__', '__sizeof__', '__str__', '__subclasshook__', 'append', 'clear', 'copy', 'count', 'extend', 'index', 'insert', 'pop', 'remove', 'reverse', 'sort']\n"
     ]
    }
   ],
   "source": [
    "# 메모리 주소 확인 id()\n",
    "# 매직명령어: %who\n",
    "# 객체의 멤버(변수나 함수, 메소드)\n",
    "# dir()\n",
    "print(dir([1,2,3]))"
   ]
  },
  {
   "cell_type": "code",
   "execution_count": 3,
   "id": "4ca725ff",
   "metadata": {
    "ExecuteTime": {
     "end_time": "2023-08-24T07:13:54.035326Z",
     "start_time": "2023-08-24T07:13:54.019457Z"
    }
   },
   "outputs": [
    {
     "name": "stdout",
     "output_type": "stream",
     "text": [
      "['__class__', '__contains__', '__delattr__', '__delitem__', '__dir__', '__doc__', '__eq__', '__format__', '__ge__', '__getattribute__', '__getitem__', '__gt__', '__hash__', '__init__', '__init_subclass__', '__iter__', '__le__', '__len__', '__lt__', '__ne__', '__new__', '__reduce__', '__reduce_ex__', '__repr__', '__reversed__', '__setattr__', '__setitem__', '__sizeof__', '__str__', '__subclasshook__', 'clear', 'copy', 'fromkeys', 'get', 'items', 'keys', 'pop', 'popitem', 'setdefault', 'update', 'values']\n"
     ]
    }
   ],
   "source": [
    "print(dir({'name':'장보고'}))"
   ]
  },
  {
   "cell_type": "code",
   "execution_count": 4,
   "id": "ebef3667",
   "metadata": {
    "ExecuteTime": {
     "end_time": "2023-08-24T07:17:04.465153Z",
     "start_time": "2023-08-24T07:17:04.449204Z"
    }
   },
   "outputs": [
    {
     "name": "stdout",
     "output_type": "stream",
     "text": [
      "정수 몫: 2, 나머지: 1\n"
     ]
    }
   ],
   "source": [
    "# 몫과 나머지 연산\n",
    "a = 7\n",
    "b = 3\n",
    "\n",
    "c = a / b # 실수몫\n",
    "d = a // b # 정수몫\n",
    "e = a % b # 나머지\n",
    "\n",
    "print(\"정수 몫: {0}, 나머지: {1}\".format(d, e))"
   ]
  },
  {
   "cell_type": "code",
   "execution_count": 5,
   "id": "900faafd",
   "metadata": {
    "ExecuteTime": {
     "end_time": "2023-08-24T07:18:37.189194Z",
     "start_time": "2023-08-24T07:18:37.173551Z"
    }
   },
   "outputs": [
    {
     "name": "stdout",
     "output_type": "stream",
     "text": [
      "정수 몫: 2, 나머지: 1\n"
     ]
    }
   ],
   "source": [
    "# divmod(수, 나눌 수)\n",
    "mok, nmg = divmod(7,3)\n",
    "print(\"정수 몫: {0}, 나머지: {1}\".format(mok, nmg))"
   ]
  },
  {
   "cell_type": "code",
   "execution_count": 7,
   "id": "2682acef",
   "metadata": {
    "ExecuteTime": {
     "end_time": "2023-08-24T07:20:30.075465Z",
     "start_time": "2023-08-24T07:20:30.054527Z"
    }
   },
   "outputs": [
    {
     "name": "stdout",
     "output_type": "stream",
     "text": [
      "<enumerate object at 0x00000272D18F4640>\n"
     ]
    }
   ],
   "source": [
    "# 인덱스와 값을 리턴하는 함수: enumerate\n",
    "print([10, 20, 30, 40, 50])"
   ]
  },
  {
   "cell_type": "code",
   "execution_count": 8,
   "id": "b1157072",
   "metadata": {
    "ExecuteTime": {
     "end_time": "2023-08-24T07:21:47.944485Z",
     "start_time": "2023-08-24T07:21:47.932623Z"
    }
   },
   "outputs": [
    {
     "name": "stdout",
     "output_type": "stream",
     "text": [
      "[(0, 10), (1, 20), (2, 30), (3, 40), (4, 50)]\n"
     ]
    }
   ],
   "source": [
    "# 변수: 값, 참조변수(주소)\n",
    "print(list(enumerate([10, 20, 30, 40, 50])))"
   ]
  },
  {
   "cell_type": "code",
   "execution_count": 9,
   "id": "d27c006b",
   "metadata": {
    "ExecuteTime": {
     "end_time": "2023-08-24T07:23:14.706162Z",
     "start_time": "2023-08-24T07:23:14.691854Z"
    }
   },
   "outputs": [
    {
     "name": "stdout",
     "output_type": "stream",
     "text": [
      "0 10\n",
      "1 20\n",
      "2 30\n",
      "3 40\n",
      "4 50\n"
     ]
    }
   ],
   "source": [
    "for idx, val in enumerate([10, 20, 30, 40, 50]):\n",
    "    print(idx, val)"
   ]
  },
  {
   "cell_type": "code",
   "execution_count": 10,
   "id": "8735fbec",
   "metadata": {
    "ExecuteTime": {
     "end_time": "2023-08-24T07:24:35.362612Z",
     "start_time": "2023-08-24T07:24:32.155059Z"
    }
   },
   "outputs": [
    {
     "name": "stdout",
     "output_type": "stream",
     "text": [
      "10.5\n"
     ]
    },
    {
     "ename": "ValueError",
     "evalue": "invalid literal for int() with base 10: '10.5'",
     "output_type": "error",
     "traceback": [
      "\u001b[1;31m---------------------------------------------------------------------------\u001b[0m",
      "\u001b[1;31mValueError\u001b[0m                                Traceback (most recent call last)",
      "\u001b[1;32m<ipython-input-10-a49bc952cb4d>\u001b[0m in \u001b[0;36m<module>\u001b[1;34m\u001b[0m\n\u001b[0;32m      1\u001b[0m \u001b[1;31m# eval(): 자동 형변환의 의미\u001b[0m\u001b[1;33m\u001b[0m\u001b[1;33m\u001b[0m\u001b[1;33m\u001b[0m\u001b[0m\n\u001b[1;32m----> 2\u001b[1;33m \u001b[0ma\u001b[0m \u001b[1;33m=\u001b[0m \u001b[0mint\u001b[0m\u001b[1;33m(\u001b[0m\u001b[0minput\u001b[0m\u001b[1;33m(\u001b[0m\u001b[1;33m)\u001b[0m\u001b[1;33m)\u001b[0m\u001b[1;33m\u001b[0m\u001b[1;33m\u001b[0m\u001b[0m\n\u001b[0m\u001b[0;32m      3\u001b[0m \u001b[0mprint\u001b[0m\u001b[1;33m(\u001b[0m\u001b[1;34m\"a =\"\u001b[0m\u001b[1;33m,\u001b[0m \u001b[0ma\u001b[0m\u001b[1;33m)\u001b[0m\u001b[1;33m\u001b[0m\u001b[1;33m\u001b[0m\u001b[0m\n",
      "\u001b[1;31mValueError\u001b[0m: invalid literal for int() with base 10: '10.5'"
     ]
    }
   ],
   "source": [
    "# eval(): 자동 형변환의 의미\n",
    "a = int(input())\n",
    "print(\"a =\", a)"
   ]
  },
  {
   "cell_type": "code",
   "execution_count": 11,
   "id": "92ae6beb",
   "metadata": {
    "ExecuteTime": {
     "end_time": "2023-08-24T07:30:25.914941Z",
     "start_time": "2023-08-24T07:30:25.905444Z"
    }
   },
   "outputs": [
    {
     "name": "stdout",
     "output_type": "stream",
     "text": [
      "divmod(10, 3)\n",
      "(3, 1)\n"
     ]
    }
   ],
   "source": [
    "# eval - 수식을 문자열로 묶어서 입력하면 계산결과를 반환한다.\n",
    "string = \"divmod(10, 3)\"\n",
    "print(string)\n",
    "print(eval(string))"
   ]
  },
  {
   "cell_type": "code",
   "execution_count": 12,
   "id": "f0e04b65",
   "metadata": {
    "ExecuteTime": {
     "end_time": "2023-08-24T07:32:38.572627Z",
     "start_time": "2023-08-24T07:32:38.566608Z"
    }
   },
   "outputs": [
    {
     "name": "stdout",
     "output_type": "stream",
     "text": [
      "(1, 'sugar')\n",
      "(2, 'spice')\n",
      "(3, 'everything nice')\n"
     ]
    }
   ],
   "source": [
    "# zip: 여러 개의 객체를 인덱스별로 묶어서 처리할 때\n",
    "for item in zip([1,2,3], ['sugar', 'spice', 'everything nice']):\n",
    "    print(item)"
   ]
  },
  {
   "cell_type": "code",
   "execution_count": 13,
   "id": "8a7c5f80",
   "metadata": {
    "ExecuteTime": {
     "end_time": "2023-08-24T07:33:09.117607Z",
     "start_time": "2023-08-24T07:33:09.105120Z"
    }
   },
   "outputs": [
    {
     "name": "stdout",
     "output_type": "stream",
     "text": [
      "[1, 2, 3]\n"
     ]
    }
   ],
   "source": [
    "data = [3,1,2]\n",
    "# sort() : 자기 자신을 변환\n",
    "data.sort()\n",
    "print(data)"
   ]
  },
  {
   "cell_type": "code",
   "execution_count": 14,
   "id": "c58ee33e",
   "metadata": {
    "ExecuteTime": {
     "end_time": "2023-08-24T07:33:51.201583Z",
     "start_time": "2023-08-24T07:33:51.196670Z"
    }
   },
   "outputs": [
    {
     "name": "stdout",
     "output_type": "stream",
     "text": [
      "[1, 2, 3]\n",
      "[3, 1, 2]\n"
     ]
    }
   ],
   "source": [
    "items = [3,1,2]\n",
    "a = sorted(items)\n",
    "print(a)\n",
    "print(items)"
   ]
  },
  {
   "cell_type": "markdown",
   "id": "b2b16903",
   "metadata": {},
   "source": [
    "## 사용자 정의 함수"
   ]
  },
  {
   "cell_type": "code",
   "execution_count": 17,
   "id": "ff30939a",
   "metadata": {
    "ExecuteTime": {
     "end_time": "2023-08-24T07:36:16.520309Z",
     "start_time": "2023-08-24T07:36:16.512020Z"
    }
   },
   "outputs": [],
   "source": [
    "# 함수 선언문 def 함수명(매개변수):\n",
    "def say():\n",
    "    a = \"안녕하세요\"\n",
    "    print(a)"
   ]
  },
  {
   "cell_type": "code",
   "execution_count": 18,
   "id": "99c6aabc",
   "metadata": {
    "ExecuteTime": {
     "end_time": "2023-08-24T07:36:20.410102Z",
     "start_time": "2023-08-24T07:36:20.406028Z"
    }
   },
   "outputs": [
    {
     "name": "stdout",
     "output_type": "stream",
     "text": [
      "안녕하세요\n"
     ]
    }
   ],
   "source": [
    "say()"
   ]
  },
  {
   "cell_type": "code",
   "execution_count": 19,
   "id": "f5841f06",
   "metadata": {
    "ExecuteTime": {
     "end_time": "2023-08-24T07:36:58.127352Z",
     "start_time": "2023-08-24T07:36:58.120306Z"
    }
   },
   "outputs": [],
   "source": [
    "def say():\n",
    "    a = \"안녕하세요\"\n",
    "    return a"
   ]
  },
  {
   "cell_type": "code",
   "execution_count": 20,
   "id": "53e537ab",
   "metadata": {
    "ExecuteTime": {
     "end_time": "2023-08-24T07:37:02.696553Z",
     "start_time": "2023-08-24T07:37:02.674164Z"
    }
   },
   "outputs": [
    {
     "data": {
      "text/plain": [
       "'안녕하세요'"
      ]
     },
     "execution_count": 20,
     "metadata": {},
     "output_type": "execute_result"
    }
   ],
   "source": [
    "say()"
   ]
  },
  {
   "cell_type": "code",
   "execution_count": 21,
   "id": "e68f5deb",
   "metadata": {
    "ExecuteTime": {
     "end_time": "2023-08-24T07:38:04.449849Z",
     "start_time": "2023-08-24T07:38:04.440882Z"
    }
   },
   "outputs": [
    {
     "name": "stdout",
     "output_type": "stream",
     "text": [
      "안녕하세요\n"
     ]
    }
   ],
   "source": [
    "string = say()\n",
    "print(string)"
   ]
  },
  {
   "cell_type": "code",
   "execution_count": 22,
   "id": "7a658a60",
   "metadata": {
    "ExecuteTime": {
     "end_time": "2023-08-24T07:39:55.299805Z",
     "start_time": "2023-08-24T07:39:55.291678Z"
    }
   },
   "outputs": [],
   "source": [
    "# 매개변수가 있는 함수\n",
    "def hello(name):\n",
    "    message = \"Hello, {0}\".format(name)\n",
    "    return message"
   ]
  },
  {
   "cell_type": "code",
   "execution_count": 23,
   "id": "eb090a43",
   "metadata": {
    "ExecuteTime": {
     "end_time": "2023-08-24T07:40:22.132213Z",
     "start_time": "2023-08-24T07:40:22.119157Z"
    }
   },
   "outputs": [
    {
     "data": {
      "text/plain": [
       "'Hello, 소라'"
      ]
     },
     "execution_count": 23,
     "metadata": {},
     "output_type": "execute_result"
    }
   ],
   "source": [
    "hello('소라')"
   ]
  },
  {
   "cell_type": "code",
   "execution_count": 24,
   "id": "7c57f41b",
   "metadata": {
    "ExecuteTime": {
     "end_time": "2023-08-24T07:40:30.167693Z",
     "start_time": "2023-08-24T07:40:30.160647Z"
    }
   },
   "outputs": [
    {
     "ename": "TypeError",
     "evalue": "hello() missing 1 required positional argument: 'name'",
     "output_type": "error",
     "traceback": [
      "\u001b[1;31m---------------------------------------------------------------------------\u001b[0m",
      "\u001b[1;31mTypeError\u001b[0m                                 Traceback (most recent call last)",
      "\u001b[1;32m<ipython-input-24-a75d7781aaeb>\u001b[0m in \u001b[0;36m<module>\u001b[1;34m\u001b[0m\n\u001b[1;32m----> 1\u001b[1;33m \u001b[0mhello\u001b[0m\u001b[1;33m(\u001b[0m\u001b[1;33m)\u001b[0m\u001b[1;33m\u001b[0m\u001b[1;33m\u001b[0m\u001b[0m\n\u001b[0m",
      "\u001b[1;31mTypeError\u001b[0m: hello() missing 1 required positional argument: 'name'"
     ]
    }
   ],
   "source": [
    "hello()"
   ]
  },
  {
   "cell_type": "markdown",
   "id": "c847e771",
   "metadata": {},
   "source": [
    "### default parameter: 초기화 파라미터\n",
    "- 매개변수에 초기화를 시켜주는 기능"
   ]
  },
  {
   "cell_type": "code",
   "execution_count": 25,
   "id": "14319826",
   "metadata": {
    "ExecuteTime": {
     "end_time": "2023-08-24T07:44:24.383832Z",
     "start_time": "2023-08-24T07:44:24.368381Z"
    }
   },
   "outputs": [],
   "source": [
    "# None: 매개변수가 입력되지 않았을 경우 내부적으로 값이 없음을 뜻하는 상수\n",
    "def hello(name = None):\n",
    "    if name == None:\n",
    "        print(\"이름을 입력해주세요.\")\n",
    "        return\n",
    "\n",
    "    print(\"Hello, {0}\".format(name))"
   ]
  },
  {
   "cell_type": "code",
   "execution_count": 26,
   "id": "b8eea849",
   "metadata": {
    "ExecuteTime": {
     "end_time": "2023-08-24T07:44:36.069898Z",
     "start_time": "2023-08-24T07:44:36.055742Z"
    }
   },
   "outputs": [
    {
     "name": "stdout",
     "output_type": "stream",
     "text": [
      "Hello, kim\n"
     ]
    }
   ],
   "source": [
    "hello('kim')"
   ]
  },
  {
   "cell_type": "code",
   "execution_count": 27,
   "id": "70051b07",
   "metadata": {
    "ExecuteTime": {
     "end_time": "2023-08-24T07:44:40.320738Z",
     "start_time": "2023-08-24T07:44:40.313724Z"
    }
   },
   "outputs": [
    {
     "name": "stdout",
     "output_type": "stream",
     "text": [
      "이름을 입력해주세요.\n"
     ]
    }
   ],
   "source": [
    "hello()"
   ]
  },
  {
   "cell_type": "code",
   "execution_count": 28,
   "id": "a1067c9b",
   "metadata": {
    "ExecuteTime": {
     "end_time": "2023-08-24T07:45:58.223213Z",
     "start_time": "2023-08-24T07:45:58.206249Z"
    }
   },
   "outputs": [],
   "source": [
    "def hello(name = 'kim'):\n",
    "    print(\"Hello, {0}\".format(name))"
   ]
  },
  {
   "cell_type": "code",
   "execution_count": 29,
   "id": "9d40d534",
   "metadata": {
    "ExecuteTime": {
     "end_time": "2023-08-24T07:46:03.689718Z",
     "start_time": "2023-08-24T07:46:03.683659Z"
    }
   },
   "outputs": [
    {
     "name": "stdout",
     "output_type": "stream",
     "text": [
      "Hello, kim\n"
     ]
    }
   ],
   "source": [
    "hello('kim')"
   ]
  },
  {
   "cell_type": "code",
   "execution_count": 30,
   "id": "479fb429",
   "metadata": {
    "ExecuteTime": {
     "end_time": "2023-08-24T07:46:09.191255Z",
     "start_time": "2023-08-24T07:46:09.182284Z"
    }
   },
   "outputs": [
    {
     "name": "stdout",
     "output_type": "stream",
     "text": [
      "Hello, lee\n"
     ]
    }
   ],
   "source": [
    "hello('lee')"
   ]
  },
  {
   "cell_type": "code",
   "execution_count": 31,
   "id": "1d7da2e7",
   "metadata": {
    "ExecuteTime": {
     "end_time": "2023-08-24T07:46:11.818868Z",
     "start_time": "2023-08-24T07:46:11.802424Z"
    }
   },
   "outputs": [
    {
     "name": "stdout",
     "output_type": "stream",
     "text": [
      "Hello, kim\n"
     ]
    }
   ],
   "source": [
    "hello()  # 초기값 ('kim') 출력"
   ]
  },
  {
   "cell_type": "code",
   "execution_count": 32,
   "id": "e3d90c80",
   "metadata": {
    "ExecuteTime": {
     "end_time": "2023-08-24T07:47:15.758414Z",
     "start_time": "2023-08-24T07:47:15.744393Z"
    }
   },
   "outputs": [],
   "source": [
    "# 세 개의 수를 더한 결과를 반환하는 함수\n",
    "def hap(a, b, c):\n",
    "    return a + b + c"
   ]
  },
  {
   "cell_type": "code",
   "execution_count": 33,
   "id": "c3b3ad49",
   "metadata": {
    "ExecuteTime": {
     "end_time": "2023-08-24T07:47:29.601023Z",
     "start_time": "2023-08-24T07:47:29.583341Z"
    }
   },
   "outputs": [
    {
     "name": "stdout",
     "output_type": "stream",
     "text": [
      "15\n"
     ]
    }
   ],
   "source": [
    "print(hap(4, 5, 6))"
   ]
  },
  {
   "cell_type": "code",
   "execution_count": 34,
   "id": "3cebb085",
   "metadata": {
    "ExecuteTime": {
     "end_time": "2023-08-24T07:48:10.779874Z",
     "start_time": "2023-08-24T07:48:10.763411Z"
    }
   },
   "outputs": [
    {
     "ename": "TypeError",
     "evalue": "hap() missing 1 required positional argument: 'c'",
     "output_type": "error",
     "traceback": [
      "\u001b[1;31m---------------------------------------------------------------------------\u001b[0m",
      "\u001b[1;31mTypeError\u001b[0m                                 Traceback (most recent call last)",
      "\u001b[1;32m<ipython-input-34-5ebb022d18f2>\u001b[0m in \u001b[0;36m<module>\u001b[1;34m\u001b[0m\n\u001b[1;32m----> 1\u001b[1;33m \u001b[0mprint\u001b[0m\u001b[1;33m(\u001b[0m\u001b[0mhap\u001b[0m\u001b[1;33m(\u001b[0m\u001b[1;36m2\u001b[0m\u001b[1;33m,\u001b[0m\u001b[1;36m3\u001b[0m\u001b[1;33m)\u001b[0m\u001b[1;33m)\u001b[0m\u001b[1;33m\u001b[0m\u001b[1;33m\u001b[0m\u001b[0m\n\u001b[0m",
      "\u001b[1;31mTypeError\u001b[0m: hap() missing 1 required positional argument: 'c'"
     ]
    }
   ],
   "source": [
    "print(hap(2,3))"
   ]
  },
  {
   "cell_type": "code",
   "execution_count": 35,
   "id": "3ab00a61",
   "metadata": {
    "ExecuteTime": {
     "end_time": "2023-08-24T07:50:10.619120Z",
     "start_time": "2023-08-24T07:50:10.616133Z"
    }
   },
   "outputs": [],
   "source": [
    "def hap(a = 1, b =2, c =3):\n",
    "    return a + b + c"
   ]
  },
  {
   "cell_type": "code",
   "execution_count": 36,
   "id": "52db822c",
   "metadata": {
    "ExecuteTime": {
     "end_time": "2023-08-24T07:50:23.266771Z",
     "start_time": "2023-08-24T07:50:23.251208Z"
    }
   },
   "outputs": [
    {
     "name": "stdout",
     "output_type": "stream",
     "text": [
      "6\n"
     ]
    }
   ],
   "source": [
    "a = hap()\n",
    "print(a)"
   ]
  },
  {
   "cell_type": "code",
   "execution_count": 37,
   "id": "e005061b",
   "metadata": {
    "ExecuteTime": {
     "end_time": "2023-08-24T07:50:38.551734Z",
     "start_time": "2023-08-24T07:50:38.542259Z"
    }
   },
   "outputs": [
    {
     "name": "stdout",
     "output_type": "stream",
     "text": [
      "105\n"
     ]
    }
   ],
   "source": [
    "a = hap(100)\n",
    "print(a)"
   ]
  },
  {
   "cell_type": "code",
   "execution_count": 38,
   "id": "9bce905a",
   "metadata": {
    "ExecuteTime": {
     "end_time": "2023-08-24T07:51:22.270506Z",
     "start_time": "2023-08-24T07:51:22.256555Z"
    }
   },
   "outputs": [
    {
     "name": "stdout",
     "output_type": "stream",
     "text": [
      "303\n"
     ]
    }
   ],
   "source": [
    "a = hap(100, 200)\n",
    "print(a)"
   ]
  },
  {
   "cell_type": "code",
   "execution_count": 39,
   "id": "770f7dbd",
   "metadata": {
    "ExecuteTime": {
     "end_time": "2023-08-24T07:51:45.399639Z",
     "start_time": "2023-08-24T07:51:45.386661Z"
    }
   },
   "outputs": [],
   "source": [
    "def hap(a, b = 2, c = 3):  # 값은 뒤부터 채움 \n",
    "    return a + b + c"
   ]
  },
  {
   "cell_type": "code",
   "execution_count": 40,
   "id": "cdd34047",
   "metadata": {
    "ExecuteTime": {
     "end_time": "2023-08-24T07:51:59.088185Z",
     "start_time": "2023-08-24T07:51:59.072886Z"
    }
   },
   "outputs": [
    {
     "name": "stdout",
     "output_type": "stream",
     "text": [
      "10\n"
     ]
    }
   ],
   "source": [
    "a = hap(5)\n",
    "print(a)"
   ]
  },
  {
   "cell_type": "markdown",
   "id": "2a84b186",
   "metadata": {},
   "source": [
    "### 가변길이 파라미터\n",
    "- 매개변수의 개수와 상관없이 동작하도록 구현한 파라미터\n",
    "- 가변길이 매개변수를 구별하기 위해 변수명 앞에 '*'를 붙인다."
   ]
  },
  {
   "cell_type": "code",
   "execution_count": 43,
   "id": "e2f9e648",
   "metadata": {
    "ExecuteTime": {
     "end_time": "2023-08-24T07:55:09.138496Z",
     "start_time": "2023-08-24T07:55:09.124036Z"
    }
   },
   "outputs": [],
   "source": [
    "def adder(a):\n",
    "    res = 0\n",
    "    for i in a :\n",
    "        res += i\n",
    "    \n",
    "    return res"
   ]
  },
  {
   "cell_type": "code",
   "execution_count": 44,
   "id": "80d9d274",
   "metadata": {
    "ExecuteTime": {
     "end_time": "2023-08-24T07:55:10.430137Z",
     "start_time": "2023-08-24T07:55:10.417013Z"
    }
   },
   "outputs": [
    {
     "name": "stdout",
     "output_type": "stream",
     "text": [
      "tot =  15\n"
     ]
    }
   ],
   "source": [
    "x = [1, 2, 3, 4, 5]\n",
    "tot = adder(x)\n",
    "print(\"tot = \", tot)"
   ]
  },
  {
   "cell_type": "code",
   "execution_count": 45,
   "id": "977df6eb",
   "metadata": {
    "ExecuteTime": {
     "end_time": "2023-08-24T07:56:18.880795Z",
     "start_time": "2023-08-24T07:56:18.863786Z"
    }
   },
   "outputs": [
    {
     "name": "stdout",
     "output_type": "stream",
     "text": [
      "tot =  30\n"
     ]
    }
   ],
   "source": [
    "y =(2, 4, 6, 8, 10)\n",
    "tot = adder(y)\n",
    "print(\"tot = \", tot)"
   ]
  },
  {
   "cell_type": "code",
   "execution_count": 49,
   "id": "2f5756e5",
   "metadata": {
    "ExecuteTime": {
     "end_time": "2023-08-24T08:02:43.960514Z",
     "start_time": "2023-08-24T08:02:43.944893Z"
    }
   },
   "outputs": [],
   "source": [
    "def adder(*ar):   # *: 길이가 정해져 있지 않은, 튜플로 묶임\n",
    "    print(ar, type(ar))\n",
    "    res = 0\n",
    "    \n",
    "    for i in ar:\n",
    "        res += i\n",
    "        \n",
    "    return res"
   ]
  },
  {
   "cell_type": "code",
   "execution_count": 50,
   "id": "e39f41a2",
   "metadata": {
    "ExecuteTime": {
     "end_time": "2023-08-24T08:02:45.792342Z",
     "start_time": "2023-08-24T08:02:45.781267Z"
    }
   },
   "outputs": [
    {
     "name": "stdout",
     "output_type": "stream",
     "text": [
      "(1, 2, 3, 4) <class 'tuple'>\n",
      "10\n"
     ]
    }
   ],
   "source": [
    "tot = adder(1,2,3,4)\n",
    "print(tot)"
   ]
  },
  {
   "cell_type": "code",
   "execution_count": 51,
   "id": "914d8c78",
   "metadata": {
    "ExecuteTime": {
     "end_time": "2023-08-24T08:02:48.125498Z",
     "start_time": "2023-08-24T08:02:48.115632Z"
    }
   },
   "outputs": [
    {
     "name": "stdout",
     "output_type": "stream",
     "text": [
      "(1, 2, 3, 4, 5, 6, 7, 8, 9, 10) <class 'tuple'>\n",
      "55\n"
     ]
    }
   ],
   "source": [
    "tot = adder(1,2,3,4,5,6,7,8,9,10)\n",
    "print(tot)"
   ]
  },
  {
   "cell_type": "code",
   "execution_count": 52,
   "id": "6fceb431",
   "metadata": {
    "ExecuteTime": {
     "end_time": "2023-08-24T08:05:37.994229Z",
     "start_time": "2023-08-24T08:05:37.989244Z"
    }
   },
   "outputs": [],
   "source": [
    "def order(size, *topping):\n",
    "    print(\"\\n\" + size + \"피자를 주문하셨습니다.\\n토핑: \", end='')\n",
    "    for i in topping:\n",
    "        print(i + \",\", end='')"
   ]
  },
  {
   "cell_type": "code",
   "execution_count": 53,
   "id": "a70997f4",
   "metadata": {
    "ExecuteTime": {
     "end_time": "2023-08-24T08:07:48.037218Z",
     "start_time": "2023-08-24T08:07:48.029127Z"
    }
   },
   "outputs": [
    {
     "name": "stdout",
     "output_type": "stream",
     "text": [
      "\n",
      "large피자를 주문하셨습니다.\n",
      "토핑: 토마토,라임,파인애플,\n",
      "small피자를 주문하셨습니다.\n",
      "토핑: 버섯,피클,오이,땅콩,가지,\n",
      "medium피자를 주문하셨습니다.\n",
      "토핑: 고구마무스,파인애플,버섯,토마토,더블크리스피,체다치즈,"
     ]
    }
   ],
   "source": [
    "order('large', '토마토', '라임', '파인애플')\n",
    "order('small', '버섯', '피클', '오이', '땅콩', '가지')\n",
    "order('medium', '고구마무스', '파인애플', '버섯', '토마토', '더블크리스피', '체다치즈')"
   ]
  },
  {
   "cell_type": "markdown",
   "id": "9a5281a2",
   "metadata": {},
   "source": [
    "### 딕셔너리(사전)을 매개변수로 넘길 때\n",
    "- 매개변수의 이름앞에 '**'을 붙인다."
   ]
  },
  {
   "cell_type": "code",
   "execution_count": 54,
   "id": "f4bb9d02",
   "metadata": {
    "ExecuteTime": {
     "end_time": "2023-08-24T08:25:48.204224Z",
     "start_time": "2023-08-24T08:25:48.186755Z"
    }
   },
   "outputs": [],
   "source": [
    "def func(**kwargs):\n",
    "    print(kwargs)"
   ]
  },
  {
   "cell_type": "code",
   "execution_count": 55,
   "id": "bb3723f2",
   "metadata": {
    "ExecuteTime": {
     "end_time": "2023-08-24T08:26:15.825363Z",
     "start_time": "2023-08-24T08:26:15.794234Z"
    }
   },
   "outputs": [
    {
     "name": "stdout",
     "output_type": "stream",
     "text": [
      "{'name': 'aaa', 'age': 15, 'birth': '1992'}\n"
     ]
    }
   ],
   "source": [
    "func(name = 'aaa', age = 15, birth = '1992')"
   ]
  },
  {
   "cell_type": "markdown",
   "id": "26d8b799",
   "metadata": {},
   "source": [
    "### 람다 함수(Lambda Function) or 람다 표현식(Lambda Expression)\n",
    "- 이름이 없는 함수(익명의 함수)\n",
    "- 매크로함수 or 인라인 함수\n",
    "- 인라인 함수: 한 줄로 구성된 함수\n",
    "- 함수가 간결하고 메모리를 절약하는 장점을 가지고 있다.\n",
    "- 형식: lambda 매개변수: 표현식 / lambda 입력값 : 출력값"
   ]
  },
  {
   "cell_type": "code",
   "execution_count": 56,
   "id": "6747b576",
   "metadata": {
    "ExecuteTime": {
     "end_time": "2023-08-24T08:29:22.686092Z",
     "start_time": "2023-08-24T08:29:22.668153Z"
    }
   },
   "outputs": [],
   "source": [
    "def plus(a):\n",
    "    return a + 1"
   ]
  },
  {
   "cell_type": "code",
   "execution_count": 57,
   "id": "37136c91",
   "metadata": {
    "ExecuteTime": {
     "end_time": "2023-08-24T08:29:38.081287Z",
     "start_time": "2023-08-24T08:29:38.072159Z"
    }
   },
   "outputs": [
    {
     "name": "stdout",
     "output_type": "stream",
     "text": [
      "6\n"
     ]
    }
   ],
   "source": [
    "print(plus(5))"
   ]
  },
  {
   "cell_type": "code",
   "execution_count": 59,
   "id": "e19dc578",
   "metadata": {
    "ExecuteTime": {
     "end_time": "2023-08-24T08:30:49.865752Z",
     "start_time": "2023-08-24T08:30:49.855022Z"
    }
   },
   "outputs": [
    {
     "name": "stdout",
     "output_type": "stream",
     "text": [
      "8\n"
     ]
    }
   ],
   "source": [
    "plus = lambda x : x + 1\n",
    "print(plus(7))   # x = 7"
   ]
  },
  {
   "cell_type": "code",
   "execution_count": 60,
   "id": "f31f1fbd",
   "metadata": {
    "ExecuteTime": {
     "end_time": "2023-08-24T08:33:16.558666Z",
     "start_time": "2023-08-24T08:33:16.543988Z"
    }
   },
   "outputs": [],
   "source": [
    "# 짝수를 판별하는 함수\n",
    "def is_even(x):\n",
    "    return x % 2 == 0  # T / F"
   ]
  },
  {
   "cell_type": "code",
   "execution_count": 61,
   "id": "38f28f91",
   "metadata": {
    "ExecuteTime": {
     "end_time": "2023-08-24T08:34:25.189730Z",
     "start_time": "2023-08-24T08:34:25.175250Z"
    }
   },
   "outputs": [
    {
     "name": "stdout",
     "output_type": "stream",
     "text": [
      "홀수\n"
     ]
    }
   ],
   "source": [
    "# if 조건식:\n",
    "## 조건식은 반드시 그 결과가 참또는 거짓으로 판정되는 식\n",
    "\n",
    "if is_even(3):\n",
    "    print(\"짝수\")\n",
    "else:\n",
    "    print('홀수')"
   ]
  },
  {
   "cell_type": "code",
   "execution_count": 63,
   "id": "b3456460",
   "metadata": {
    "ExecuteTime": {
     "end_time": "2023-08-24T08:35:38.995985Z",
     "start_time": "2023-08-24T08:35:38.991074Z"
    }
   },
   "outputs": [
    {
     "data": {
      "text/plain": [
       "False"
      ]
     },
     "execution_count": 63,
     "metadata": {},
     "output_type": "execute_result"
    }
   ],
   "source": [
    "is_even = lambda x : x % 2 == 0\n",
    "is_even(1)\n",
    "is_even(2)\n",
    "is_even(5)"
   ]
  },
  {
   "cell_type": "code",
   "execution_count": 64,
   "id": "4fa47a51",
   "metadata": {
    "ExecuteTime": {
     "end_time": "2023-08-24T08:36:32.508306Z",
     "start_time": "2023-08-24T08:36:32.493286Z"
    }
   },
   "outputs": [],
   "source": [
    "# map(함수, 집합객체 = 리스트나 튜플)\n",
    "def add(x):\n",
    "    return x + 2"
   ]
  },
  {
   "cell_type": "code",
   "execution_count": 66,
   "id": "cd9e69a3",
   "metadata": {
    "ExecuteTime": {
     "end_time": "2023-08-24T08:37:25.109171Z",
     "start_time": "2023-08-24T08:37:25.098173Z"
    }
   },
   "outputs": [
    {
     "name": "stdout",
     "output_type": "stream",
     "text": [
      "[3, 4, 5, 6, 7]\n"
     ]
    }
   ],
   "source": [
    "print(list(map(add, [1,2,3,4,5])))"
   ]
  },
  {
   "cell_type": "code",
   "execution_count": 69,
   "id": "257c5b2b",
   "metadata": {
    "ExecuteTime": {
     "end_time": "2023-08-24T08:39:04.751956Z",
     "start_time": "2023-08-24T08:39:04.744830Z"
    }
   },
   "outputs": [
    {
     "name": "stdout",
     "output_type": "stream",
     "text": [
      "[3, 4, 5, 6, 7, 8, 9]\n"
     ]
    }
   ],
   "source": [
    "res = list(map(lambda x : x + 2, [1,2,3,4,5,6,7]))\n",
    "print(res)"
   ]
  },
  {
   "cell_type": "code",
   "execution_count": 70,
   "id": "59662c63",
   "metadata": {
    "ExecuteTime": {
     "end_time": "2023-08-24T08:40:19.925925Z",
     "start_time": "2023-08-24T08:40:19.920845Z"
    }
   },
   "outputs": [],
   "source": [
    "# filter(함수, 리스트나 튜플)\n",
    "# 리스트의 요소 중 짝수만 추출하는 작업\n",
    "def is_even(x):\n",
    "    return x % 2 == 0"
   ]
  },
  {
   "cell_type": "code",
   "execution_count": 71,
   "id": "73b98cdb",
   "metadata": {
    "ExecuteTime": {
     "end_time": "2023-08-24T08:41:37.563704Z",
     "start_time": "2023-08-24T08:41:37.559682Z"
    }
   },
   "outputs": [
    {
     "name": "stdout",
     "output_type": "stream",
     "text": [
      "[True, False, True, False, True, False, True, False, True, False]\n"
     ]
    }
   ],
   "source": [
    "result1 = list(map(is_even, range(10)))\n",
    "print(result1)"
   ]
  },
  {
   "cell_type": "code",
   "execution_count": 72,
   "id": "7aee2401",
   "metadata": {
    "ExecuteTime": {
     "end_time": "2023-08-24T08:42:01.593495Z",
     "start_time": "2023-08-24T08:42:01.584457Z"
    }
   },
   "outputs": [
    {
     "name": "stdout",
     "output_type": "stream",
     "text": [
      "[0, 2, 4, 6, 8]\n"
     ]
    }
   ],
   "source": [
    "result2 = list(filter(is_even, range(10)))\n",
    "print(result2)"
   ]
  },
  {
   "cell_type": "code",
   "execution_count": 73,
   "id": "71a241e6",
   "metadata": {
    "ExecuteTime": {
     "end_time": "2023-08-24T08:43:06.917428Z",
     "start_time": "2023-08-24T08:43:06.908460Z"
    }
   },
   "outputs": [
    {
     "name": "stdout",
     "output_type": "stream",
     "text": [
      "[0, 2, 4, 6, 8]\n"
     ]
    }
   ],
   "source": [
    "result3 = list(filter(lambda x : x % 2 == 0, range(10)))\n",
    "print(result3)"
   ]
  },
  {
   "cell_type": "code",
   "execution_count": 75,
   "id": "b919c05b",
   "metadata": {
    "ExecuteTime": {
     "end_time": "2023-08-24T08:44:51.808395Z",
     "start_time": "2023-08-24T08:44:51.798589Z"
    }
   },
   "outputs": [
    {
     "name": "stdout",
     "output_type": "stream",
     "text": [
      "True\n"
     ]
    }
   ],
   "source": [
    "print((lambda x : x % 2 == 0)(8))"
   ]
  },
  {
   "cell_type": "code",
   "execution_count": 78,
   "id": "cfc37a70",
   "metadata": {
    "ExecuteTime": {
     "end_time": "2023-08-24T08:49:03.151731Z",
     "start_time": "2023-08-24T08:49:03.132636Z"
    }
   },
   "outputs": [
    {
     "name": "stdout",
     "output_type": "stream",
     "text": [
      "[1, -2, 3, -4, 5, -6, 7, -8, 9]\n"
     ]
    }
   ],
   "source": [
    "# 리스트에 입력된 값중 짝수를 음수로 변환하는 작업\n",
    "x = [1,2,3,4,5,6,7,8,9]\n",
    "y = list()\n",
    "\n",
    "def change(x):\n",
    "    for i in x:\n",
    "        if i % 2 == 0:\n",
    "            y.append(-i)\n",
    "        else:\n",
    "            y.append(i)\n",
    "    return y\n",
    "        \n",
    "print(change(x))"
   ]
  },
  {
   "cell_type": "markdown",
   "id": "8ada4946",
   "metadata": {},
   "source": [
    "#### 리스트 내포"
   ]
  },
  {
   "cell_type": "code",
   "execution_count": 8,
   "id": "0625d19a",
   "metadata": {
    "ExecuteTime": {
     "end_time": "2023-08-25T00:07:07.198244Z",
     "start_time": "2023-08-25T00:07:07.181612Z"
    }
   },
   "outputs": [
    {
     "name": "stdout",
     "output_type": "stream",
     "text": [
      "[-2, -4, -6, -8]\n"
     ]
    }
   ],
   "source": [
    "x = [1,2,3,4,5,6,7,8,9]\n",
    "y = [i * -1 for i in x if i % 2 == 0]\n",
    "print(y)"
   ]
  },
  {
   "cell_type": "code",
   "execution_count": null,
   "id": "a70ca39f",
   "metadata": {},
   "outputs": [],
   "source": []
  }
 ],
 "metadata": {
  "kernelspec": {
   "display_name": "Python 3",
   "language": "python",
   "name": "python3"
  },
  "language_info": {
   "codemirror_mode": {
    "name": "ipython",
    "version": 3
   },
   "file_extension": ".py",
   "mimetype": "text/x-python",
   "name": "python",
   "nbconvert_exporter": "python",
   "pygments_lexer": "ipython3",
   "version": "3.8.8"
  },
  "toc": {
   "base_numbering": 1,
   "nav_menu": {},
   "number_sections": true,
   "sideBar": true,
   "skip_h1_title": false,
   "title_cell": "Table of Contents",
   "title_sidebar": "Contents",
   "toc_cell": false,
   "toc_position": {},
   "toc_section_display": true,
   "toc_window_display": false
  }
 },
 "nbformat": 4,
 "nbformat_minor": 5
}
