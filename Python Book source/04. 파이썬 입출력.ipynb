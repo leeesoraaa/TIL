{
 "cells": [
  {
   "cell_type": "markdown",
   "id": "2515fdaa",
   "metadata": {},
   "source": [
    "# 파이썬 Input/Output\n",
    "\n",
    "1. 콘솔환경: input(), print()\n",
    "2. 파일환경: open(filename, mode), mode - r, w, a\n",
    "3. 데이터베이스 환경: connect(\"사용자계정\", \"비밀번호\", \"url\"), cursor "
   ]
  },
  {
   "cell_type": "markdown",
   "id": "d9aa6a57",
   "metadata": {},
   "source": [
    "## File In/Out\n",
    "\n",
    "- 작업순서\n",
    "  1. 파일 객체 생성 + 파일 열기: f = open(filename, mode)\n",
    "  2. 실제 수행할 작업 기술 - 비즈니스 로직\n",
    "  3. 파일 객체 닫기: close(), with구문"
   ]
  },
  {
   "cell_type": "code",
   "execution_count": null,
   "id": "d4de201b",
   "metadata": {
    "ExecuteTime": {
     "end_time": "2023-08-31T00:15:57.114930Z",
     "start_time": "2023-08-31T00:15:57.105325Z"
    }
   },
   "outputs": [],
   "source": [
    "# step1. 파일 생성\n",
    "f = open(\"hello.txt\", \"w\")\n",
    "\n",
    "# step2. 작업 기술\n",
    "# write(문자열)\n",
    "# writelines([문자열1, 문자열2])\n",
    "f.write(\"Hello Python!\")\n",
    "\n",
    "# step3. 파일 닫기\n",
    "f.close()"
   ]
  },
  {
   "cell_type": "markdown",
   "id": "bbd49f0d",
   "metadata": {},
   "source": [
    "1. 파일 쓰기\n",
    "  - write(문자열)\n",
    "  - writelines([문자열1, 문자열2,...])\n",
    "  \n",
    "2. 파일 읽기\n",
    "  - read(): 문자열을 읽어오는 함수\n",
    "  - read(n): 문자 n개를 읽어오는 함수\n",
    "  - readline(): 줄 단위로 읽어오는 함수, 개행('\\n')\n",
    "  - readlines(): 모든 문자열을 한꺼번에 읽어서 리스트로 반환\n",
    "  \n",
    "3. 파일 접근 방식\n",
    "  - 순차 접근 방식(SASD): 순차적으로 데이터를 읽고 쓰는 방식, tape\n",
    "  - 직접 접근 방식(DASD): 임의의 위치를 이용하여 읽고 쓰는 방식, cd...\n",
    "  - seek(위치): 해당 위치로 커서를 옮김, 파일의 맨 처음 위치는 0\n",
    "  - tell(): 현재 커서의 위치를 반환하는 함수"
   ]
  },
  {
   "cell_type": "code",
   "execution_count": null,
   "id": "5bc7b388",
   "metadata": {
    "ExecuteTime": {
     "end_time": "2023-08-31T00:28:13.813292Z",
     "start_time": "2023-08-31T00:28:13.800010Z"
    }
   },
   "outputs": [],
   "source": [
    "# step1\n",
    "try:\n",
    "    f = open(\"hello2.txt\", \"r\")\n",
    "except FileNotFoundError as e:\n",
    "    print(\"에러메세지:\", e)\n",
    "    print(\"해당 파일이 존재하지 않습니다.\")\n",
    "else:\n",
    "    string = f.read()\n",
    "    print(\"읽은 문자열:\", string)\n",
    "finally:\n",
    "    f.close()"
   ]
  },
  {
   "cell_type": "markdown",
   "id": "4a2e0ef1",
   "metadata": {},
   "source": [
    "## 여러 줄에 입력된 문자열을 파일에 읽고 쓰기"
   ]
  },
  {
   "cell_type": "code",
   "execution_count": null,
   "id": "1eca7a87",
   "metadata": {
    "ExecuteTime": {
     "end_time": "2023-08-31T00:34:56.607793Z",
     "start_time": "2023-08-31T00:34:56.598729Z"
    }
   },
   "outputs": [],
   "source": [
    "# step1\n",
    "f = open(\"test1.txt\", \"a\")\n",
    "\n",
    "# step2\n",
    "for i in range(10):\n",
    "    string = \"Good Morning Everyone~!!\\n\"\n",
    "    f.write(string)\n",
    "\n",
    "#step3\n",
    "f.close()"
   ]
  },
  {
   "cell_type": "code",
   "execution_count": null,
   "id": "442d9df2",
   "metadata": {
    "ExecuteTime": {
     "end_time": "2023-08-31T00:42:05.792612Z",
     "start_time": "2023-08-31T00:42:05.759834Z"
    }
   },
   "outputs": [],
   "source": [
    "# 자동 close 구문\n",
    "with open(\"test1.txt\",\"a\") as f:\n",
    "    for i in range(10):\n",
    "        string = \"Good Afternoon and Good Evening\\n\"\n",
    "        f.write(string)"
   ]
  },
  {
   "cell_type": "code",
   "execution_count": null,
   "id": "b5d77cde",
   "metadata": {
    "ExecuteTime": {
     "end_time": "2023-08-31T00:43:47.774069Z",
     "start_time": "2023-08-31T00:43:47.763695Z"
    }
   },
   "outputs": [],
   "source": [
    "f = open(\"test1.txt\", \"r\")\n",
    "\n",
    "while True:\n",
    "    line = f.readline()\n",
    "    # 변수에 문자열이 있다면 True, 없다면 False\n",
    "    if not line: break\n",
    "    print(line)"
   ]
  },
  {
   "cell_type": "code",
   "execution_count": null,
   "id": "13dc9ba6",
   "metadata": {
    "ExecuteTime": {
     "end_time": "2023-08-31T00:44:44.782539Z",
     "start_time": "2023-08-31T00:44:44.773570Z"
    }
   },
   "outputs": [],
   "source": [
    "f = open(\"test1.txt\", \"r\")\n",
    "line = None\n",
    "while line != '':\n",
    "    line = f.readline()\n",
    "    print(line)"
   ]
  },
  {
   "cell_type": "markdown",
   "id": "8f2f1bab",
   "metadata": {},
   "source": [
    "## List 타입의 객체를 통한 읽고 쓰기"
   ]
  },
  {
   "cell_type": "code",
   "execution_count": null,
   "id": "55145b07",
   "metadata": {},
   "outputs": [],
   "source": []
  },
  {
   "cell_type": "code",
   "execution_count": null,
   "id": "c9b983fb",
   "metadata": {
    "ExecuteTime": {
     "end_time": "2023-08-31T01:02:31.195324Z",
     "start_time": "2023-08-31T01:02:24.153212Z"
    }
   },
   "outputs": [],
   "source": [
    "# 5명의 학생 이름을 입력받아 student.txt파일에 쓰고 다시 그 내용을 콘솔 환경에 출력하는 프로그램\n",
    "f = open(\"student1.txt\", \"a\")\n",
    "for i in range(1,6):\n",
    "    name = input(\"이름: \")\n",
    "    f.write(f\"학생{i}: {name} \\n\")\n",
    "f.close() "
   ]
  },
  {
   "cell_type": "code",
   "execution_count": null,
   "id": "5c5508d5",
   "metadata": {
    "ExecuteTime": {
     "end_time": "2023-08-31T01:03:10.702208Z",
     "start_time": "2023-08-31T01:03:10.686181Z"
    }
   },
   "outputs": [],
   "source": [
    "f = open(\"student1.txt\", \"r\")\n",
    "\n",
    "while True:\n",
    "    line = f.readline()\n",
    "    # 변수에 문자열이 있다면 True, 없다면 False\n",
    "    if not line: break\n",
    "    print(line)"
   ]
  },
  {
   "cell_type": "code",
   "execution_count": null,
   "id": "7830dbba",
   "metadata": {
    "ExecuteTime": {
     "end_time": "2023-08-31T01:19:42.896687Z",
     "start_time": "2023-08-31T01:19:42.882337Z"
    }
   },
   "outputs": [],
   "source": [
    "f = open(\"student_t.txt\", \"a\")\n",
    "\n",
    "f.writelines(['홍길동', '이순신', '장보고', '임꺽정', '김유신', '\\n'])\n",
    "f.writelines('\\n'.join(['신사임당', '유관순', '세종대왕']))\n",
    "\n",
    "f.close()"
   ]
  },
  {
   "cell_type": "code",
   "execution_count": null,
   "id": "596f7e8b",
   "metadata": {
    "ExecuteTime": {
     "end_time": "2023-08-31T01:24:10.396276Z",
     "start_time": "2023-08-31T01:24:10.388492Z"
    }
   },
   "outputs": [],
   "source": [
    "f = open(\"student_t.txt\", \"r\")\n",
    "\n",
    "while True:\n",
    "    line = f.readline()\n",
    "    if not line:\n",
    "        break\n",
    "    print(line, end = '')"
   ]
  },
  {
   "cell_type": "code",
   "execution_count": null,
   "id": "f2c333bc",
   "metadata": {
    "ExecuteTime": {
     "end_time": "2023-08-31T01:26:41.087714Z",
     "start_time": "2023-08-31T01:26:32.181044Z"
    }
   },
   "outputs": [],
   "source": [
    "# 이름을 저장할 컨테이너 객체 선언\n",
    "names = []\n",
    "for i in range(5):\n",
    "    name = input(\"이름 = \")\n",
    "    names.append(name)\n",
    "print(names)\n",
    "\n",
    "f = open(\"stu.txt\", \"w\")\n",
    "f.writelines(names)  # 리스트 객체를 담을 땐 writelines()\n",
    "f.close()"
   ]
  },
  {
   "cell_type": "markdown",
   "id": "f06a455d",
   "metadata": {},
   "source": [
    "# 객체 단위로 파일에 저장하는 모듈 pickle\n",
    "1. File(파일): 컴퓨터에서 저장하는 최소단위\n",
    "2. 파일 종류: 텍스트 파일(txt), 바이너리 파일(binary)\n",
    "  - 텍스트 파일: txt(문서)로 구성된 파일, 사람이 식별할 수 있다\n",
    "  - 바이너리 파일: binary(2진수), 사람이 식별하기 어려운 형태(별도의 파일 편집툴 필요)\n",
    "3. 파일 오픈: open(filename, mode)\n",
    "  - mode 일반: r, w, a\n",
    "  - mode 이진파일(binary mode): rb, wb, ab\n",
    "\n",
    "- 파이썬 객체를 파일 입출력하는 모둘 pickle  \n",
    "  https://docs.python.org/3/library/pickle.html  \n",
    "- pickle.dump(객체, 파일)로 저장  \n",
    "- pickle.load(파일)로 로딩  "
   ]
  },
  {
   "cell_type": "code",
   "execution_count": null,
   "id": "d656f748",
   "metadata": {
    "ExecuteTime": {
     "end_time": "2023-08-31T01:38:46.136209Z",
     "start_time": "2023-08-31T01:38:46.119314Z"
    }
   },
   "outputs": [],
   "source": [
    "import pickle\n",
    "\n",
    "names = ['홍길동', '이순신', '이소라', '장보고', '김유신']\n",
    "\n",
    "# save pickle\n",
    "with open(\"data.pickle\", \"wb\") as fw:\n",
    "    pickle.dump(names, fw)\n",
    "    \n",
    "# load pickle\n",
    "with open(\"data.pickle\", \"rb\") as fr:\n",
    "    data = pickle.load(fr)\n",
    "    \n",
    "print(data)"
   ]
  },
  {
   "cell_type": "code",
   "execution_count": null,
   "id": "bfcbde34",
   "metadata": {
    "ExecuteTime": {
     "end_time": "2023-08-31T01:44:44.954167Z",
     "start_time": "2023-08-31T01:44:44.946197Z"
    }
   },
   "outputs": [],
   "source": [
    "name = 'james'\n",
    "age = 17\n",
    "address = '서울시 금천구 가산동'\n",
    "score = {'kor':97, 'eng':100, 'math': 80}\n",
    "\n",
    "f = open('stu.pickle', 'wb')\n",
    "\n",
    "pickle.dump(name, f)\n",
    "pickle.dump(age, f)\n",
    "pickle.dump(address, f)\n",
    "pickle.dump(score, f)\n",
    "\n",
    "f.close()"
   ]
  },
  {
   "cell_type": "code",
   "execution_count": null,
   "id": "ec53d650",
   "metadata": {
    "ExecuteTime": {
     "end_time": "2023-08-31T01:45:59.951781Z",
     "start_time": "2023-08-31T01:45:59.942146Z"
    }
   },
   "outputs": [],
   "source": [
    "with open(\"stu.pickle\", \"rb\") as f:\n",
    "    name = pickle.load(f)\n",
    "    age = pickle.load(f)\n",
    "    address = pickle.load(f)\n",
    "    score = pickle.load(f)\n",
    "    \n",
    "print(name)\n",
    "print(age)\n",
    "print(address)\n",
    "print(score)"
   ]
  },
  {
   "cell_type": "markdown",
   "id": "b870df78",
   "metadata": {},
   "source": [
    "# 도서관리 프로그램\n",
    "- 도서정보(도서번호, 도서명, 주요내용)을 관리하는 프로그램\n",
    "- 주요기능: 도서등록, 도서출력, 도서검색\n",
    "- book_module.py로 구현"
   ]
  },
  {
   "cell_type": "code",
   "execution_count": 1,
   "id": "09e6fe32",
   "metadata": {
    "ExecuteTime": {
     "end_time": "2023-08-31T02:13:53.856743Z",
     "start_time": "2023-08-31T02:13:53.824068Z"
    }
   },
   "outputs": [
    {
     "name": "stdout",
     "output_type": "stream",
     "text": [
      "도서번호: 1\n",
      "도서제목: 파이썬 코딩도장\n",
      "도서내용: 매우 두꺼움\n"
     ]
    }
   ],
   "source": [
    "from book_module import * \n",
    "\n",
    "# 도서 저장\n",
    "add_book('1', '파이썬 코딩도장', '매우 두꺼움')\n",
    "\n",
    "# 도서 조회\n",
    "book = get_book('1')\n",
    "print(\"도서번호:\", book['no'])\n",
    "print(\"도서제목:\", book['subject'])\n",
    "print(\"도서내용:\", book['content'])"
   ]
  },
  {
   "cell_type": "markdown",
   "id": "7b84d14d",
   "metadata": {},
   "source": [
    "# 학생관리 프로그램"
   ]
  },
  {
   "cell_type": "code",
   "execution_count": 6,
   "id": "ccdb029a",
   "metadata": {
    "ExecuteTime": {
     "end_time": "2023-08-31T06:28:05.343747Z",
     "start_time": "2023-08-31T06:27:55.879310Z"
    }
   },
   "outputs": [
    {
     "name": "stdout",
     "output_type": "stream",
     "text": [
      "\n",
      "==== 학생관리 프로그램 ====\n",
      "1.신규 학생 등록\n",
      "2.학생 정보 조회\n",
      "3.전체 학생 조회\n",
      "4.프로그램 종료\n",
      "메뉴:1\n",
      "==== 학생관리 프로그램 ====\n",
      "1.신규 학생 등록\n",
      "2.학생 정보 조회\n",
      "3.전체 학생 조회\n",
      "4.프로그램 종료\n",
      "메뉴:2\n",
      "==== 학생관리 프로그램 ====\n",
      "1.신규 학생 등록\n",
      "2.학생 정보 조회\n",
      "3.전체 학생 조회\n",
      "4.프로그램 종료\n",
      "메뉴:3\n",
      "==== 학생관리 프로그램 ====\n",
      "1.신규 학생 등록\n",
      "2.학생 정보 조회\n",
      "3.전체 학생 조회\n",
      "4.프로그램 종료\n",
      "메뉴:4\n",
      "\n",
      "프로그램을 종료합니다.\n"
     ]
    }
   ],
   "source": [
    "from sample import *\n",
    "\n",
    "main()"
   ]
  },
  {
   "cell_type": "code",
   "execution_count": null,
   "id": "f0c96fdc",
   "metadata": {},
   "outputs": [],
   "source": []
  }
 ],
 "metadata": {
  "kernelspec": {
   "display_name": "Python 3",
   "language": "python",
   "name": "python3"
  },
  "language_info": {
   "codemirror_mode": {
    "name": "ipython",
    "version": 3
   },
   "file_extension": ".py",
   "mimetype": "text/x-python",
   "name": "python",
   "nbconvert_exporter": "python",
   "pygments_lexer": "ipython3",
   "version": "3.8.8"
  },
  "toc": {
   "base_numbering": 1,
   "nav_menu": {},
   "number_sections": true,
   "sideBar": true,
   "skip_h1_title": false,
   "title_cell": "Table of Contents",
   "title_sidebar": "Contents",
   "toc_cell": false,
   "toc_position": {},
   "toc_section_display": true,
   "toc_window_display": false
  }
 },
 "nbformat": 4,
 "nbformat_minor": 5
}
