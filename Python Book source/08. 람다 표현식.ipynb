{
 "cells": [
  {
   "cell_type": "markdown",
   "id": "87a399ee",
   "metadata": {},
   "source": [
    "# Lambda 함수: 익명의 함수\n",
    "- 매크로 함수: 한 줄짜리 함수\n",
    "- 인라인 함수\n",
    "- 형식: lambda 입력값: 출력값\n",
    "- 일반함수 형식: def 함수명(매개변수): return 반환값"
   ]
  },
  {
   "cell_type": "code",
   "execution_count": 1,
   "id": "1df058af",
   "metadata": {
    "ExecuteTime": {
     "end_time": "2023-09-01T01:50:31.787949Z",
     "start_time": "2023-09-01T01:50:31.774488Z"
    }
   },
   "outputs": [],
   "source": [
    "# 하나의 숫자를 입력받아 그 숫자에 10을 더한 값을 리턴하는 함수\n",
    "def get(number):\n",
    "    return number + 10"
   ]
  },
  {
   "cell_type": "code",
   "execution_count": 2,
   "id": "85d5b08f",
   "metadata": {
    "ExecuteTime": {
     "end_time": "2023-09-01T01:50:35.955398Z",
     "start_time": "2023-09-01T01:50:35.938473Z"
    }
   },
   "outputs": [
    {
     "data": {
      "text/plain": [
       "15"
      ]
     },
     "execution_count": 2,
     "metadata": {},
     "output_type": "execute_result"
    }
   ],
   "source": [
    "get(5)"
   ]
  },
  {
   "cell_type": "code",
   "execution_count": 4,
   "id": "e9493e7c",
   "metadata": {
    "ExecuteTime": {
     "end_time": "2023-09-01T01:53:24.128838Z",
     "start_time": "2023-09-01T01:53:24.109816Z"
    }
   },
   "outputs": [
    {
     "data": {
      "text/plain": [
       "15"
      ]
     },
     "execution_count": 4,
     "metadata": {},
     "output_type": "execute_result"
    }
   ],
   "source": [
    "(lambda number : number + 10)(5)"
   ]
  },
  {
   "cell_type": "markdown",
   "id": "0c19ba9a",
   "metadata": {},
   "source": [
    "- 람다 표현식은 변수를 생성할 수 없다."
   ]
  },
  {
   "cell_type": "markdown",
   "id": "7ba882fe",
   "metadata": {},
   "source": [
    "## lambda 함수와 map 객체\n",
    "\n",
    "- map(함수, 리스트나 튜플)"
   ]
  },
  {
   "cell_type": "code",
   "execution_count": 5,
   "id": "6b02f3b4",
   "metadata": {
    "ExecuteTime": {
     "end_time": "2023-09-01T01:58:06.130158Z",
     "start_time": "2023-09-01T01:58:02.938137Z"
    }
   },
   "outputs": [
    {
     "name": "stdout",
     "output_type": "stream",
     "text": [
      "숫자 = 1\n",
      "숫자 = 2\n",
      "숫자 = 3\n"
     ]
    }
   ],
   "source": [
    "a = int(input(\"숫자 = \"))\n",
    "b = int(input(\"숫자 = \"))\n",
    "c = int(input(\"숫자 = \"))"
   ]
  },
  {
   "cell_type": "code",
   "execution_count": 7,
   "id": "c8a54932",
   "metadata": {
    "ExecuteTime": {
     "end_time": "2023-09-01T01:59:32.200228Z",
     "start_time": "2023-09-01T01:59:29.875636Z"
    }
   },
   "outputs": [
    {
     "name": "stdout",
     "output_type": "stream",
     "text": [
      "숫자 =1 2 3\n"
     ]
    }
   ],
   "source": [
    "a, b, c = map(int, input('숫자 =').split())"
   ]
  },
  {
   "cell_type": "code",
   "execution_count": 8,
   "id": "df73d58f",
   "metadata": {
    "ExecuteTime": {
     "end_time": "2023-09-01T02:13:40.683720Z",
     "start_time": "2023-09-01T02:13:40.677741Z"
    }
   },
   "outputs": [
    {
     "name": "stdout",
     "output_type": "stream",
     "text": [
      "[3, 4, 5, 6, 7]\n"
     ]
    }
   ],
   "source": [
    "# 숫자리스트에 있는 모든 요소에 2씩 더하여 새로운 리스트 생성\n",
    "def plus2(x):\n",
    "    return x + 2\n",
    "result = list(map(plus2,[1, 2, 3, 4, 5]))\n",
    "print(result)\n"
   ]
  },
  {
   "cell_type": "code",
   "execution_count": 10,
   "id": "de5fbf96",
   "metadata": {
    "ExecuteTime": {
     "end_time": "2023-09-01T02:15:17.917496Z",
     "start_time": "2023-09-01T02:15:17.899402Z"
    }
   },
   "outputs": [
    {
     "name": "stdout",
     "output_type": "stream",
     "text": [
      "[3, 4, 5, 6, 7]\n"
     ]
    }
   ],
   "source": [
    "result = list(map((lambda x : x + 2), [1, 2, 3, 4, 5]))\n",
    "print(result)"
   ]
  },
  {
   "cell_type": "code",
   "execution_count": 11,
   "id": "9e10f841",
   "metadata": {
    "ExecuteTime": {
     "end_time": "2023-09-01T02:16:17.478948Z",
     "start_time": "2023-09-01T02:16:17.474961Z"
    }
   },
   "outputs": [
    {
     "name": "stdout",
     "output_type": "stream",
     "text": [
      "[3, 4, 5, 6, 7]\n"
     ]
    }
   ],
   "source": [
    "result = list(map((lambda x : x + 2), range(1, 6)))\n",
    "print(result)"
   ]
  },
  {
   "cell_type": "markdown",
   "id": "89ace761",
   "metadata": {},
   "source": [
    "## lambda 함수와 filter 객체\n",
    "- filter(함수, 리스트나 튜플)"
   ]
  },
  {
   "cell_type": "code",
   "execution_count": 16,
   "id": "beb864a9",
   "metadata": {
    "ExecuteTime": {
     "end_time": "2023-09-01T02:21:13.853076Z",
     "start_time": "2023-09-01T02:21:13.837612Z"
    }
   },
   "outputs": [
    {
     "name": "stdout",
     "output_type": "stream",
     "text": [
      "False\n",
      "True\n",
      "False\n",
      "True\n",
      "False\n",
      "True\n",
      "False\n",
      "True\n",
      "False\n",
      "True\n"
     ]
    }
   ],
   "source": [
    "# 1 ~ 10 중 짝수만 추출하는 함수\n",
    "def even(x):\n",
    "    return x % 2 == 0 \n",
    "\n",
    "for i in range(1, 11):\n",
    "    print(even(i))"
   ]
  },
  {
   "cell_type": "code",
   "execution_count": 17,
   "id": "b239b420",
   "metadata": {
    "ExecuteTime": {
     "end_time": "2023-09-01T02:21:16.092924Z",
     "start_time": "2023-09-01T02:21:16.087943Z"
    }
   },
   "outputs": [
    {
     "name": "stdout",
     "output_type": "stream",
     "text": [
      "[2, 4, 6, 8, 10]\n"
     ]
    }
   ],
   "source": [
    "result = list(filter(even, range(1, 11)))\n",
    "print(result)"
   ]
  },
  {
   "cell_type": "code",
   "execution_count": 20,
   "id": "91f8261c",
   "metadata": {
    "ExecuteTime": {
     "end_time": "2023-09-01T02:22:07.663522Z",
     "start_time": "2023-09-01T02:22:07.648991Z"
    }
   },
   "outputs": [
    {
     "name": "stdout",
     "output_type": "stream",
     "text": [
      "[2, 4, 6, 8, 10]\n"
     ]
    }
   ],
   "source": [
    "result = list(filter((lambda x : x % 2 == 0), range(1, 11)))\n",
    "print(result)"
   ]
  },
  {
   "cell_type": "markdown",
   "id": "db13c298",
   "metadata": {},
   "source": [
    "# List Comprehension: 리스트 내포\n",
    "- for문 if 문을 한 줄에 작성하여 새로운 리스트를 생성\n",
    "- 간결하고 처리속도가 빠름\n",
    "- 기본형식 => 리스트명 = [표현식 for 개별변수 in 집합변수]\n",
    "- 조건식을 포함 => 리스트명 = [표현식 for 개별변수 in 집합변수 if 조건문]\n",
    "- 조건식 확장 => 리스트명 = [표현식 if 조건문 else 조건문 for 개별변수 in 집합변수]"
   ]
  },
  {
   "cell_type": "code",
   "execution_count": 21,
   "id": "bb947534",
   "metadata": {
    "ExecuteTime": {
     "end_time": "2023-09-01T02:30:41.364867Z",
     "start_time": "2023-09-01T02:30:41.346421Z"
    }
   },
   "outputs": [
    {
     "name": "stdout",
     "output_type": "stream",
     "text": [
      "[3, 6, 9, 12, 15, 18, 21, 24, 27]\n"
     ]
    }
   ],
   "source": [
    "# 1부터 9까지의 숫자에 3을 곱한 값들을 리스트로 생성\n",
    "result = []\n",
    "for i in range(1, 10):\n",
    "    result.append(i * 3)\n",
    "    \n",
    "print(result)"
   ]
  },
  {
   "cell_type": "code",
   "execution_count": 23,
   "id": "9bfc634a",
   "metadata": {
    "ExecuteTime": {
     "end_time": "2023-09-01T02:31:50.731387Z",
     "start_time": "2023-09-01T02:31:50.719335Z"
    }
   },
   "outputs": [
    {
     "name": "stdout",
     "output_type": "stream",
     "text": [
      "[3, 6, 9, 12, 15, 18, 21, 24, 27]\n"
     ]
    }
   ],
   "source": [
    "res = [i*3 for i in range(1, 10)]\n",
    "print(res)"
   ]
  },
  {
   "cell_type": "markdown",
   "id": "983b556c",
   "metadata": {
    "ExecuteTime": {
     "end_time": "2023-09-01T02:34:09.692596Z",
     "start_time": "2023-09-01T02:34:09.673596Z"
    }
   },
   "source": [
    "## 다중 for 문"
   ]
  },
  {
   "cell_type": "code",
   "execution_count": 26,
   "id": "4c5f11fe",
   "metadata": {
    "ExecuteTime": {
     "end_time": "2023-09-01T02:38:23.513912Z",
     "start_time": "2023-09-01T02:38:23.497966Z"
    }
   },
   "outputs": [
    {
     "name": "stdout",
     "output_type": "stream",
     "text": [
      "[0, 1, 2, 3, 4, 1, 2, 3, 4, 5, 2, 3, 4, 5, 6]\n"
     ]
    }
   ],
   "source": [
    "result = []\n",
    "for i in range(3):\n",
    "    for j in range(5):\n",
    "        result.append(i+j)\n",
    "        \n",
    "print(result)"
   ]
  },
  {
   "cell_type": "code",
   "execution_count": 27,
   "id": "353685a9",
   "metadata": {
    "ExecuteTime": {
     "end_time": "2023-09-01T02:40:05.343959Z",
     "start_time": "2023-09-01T02:40:05.334483Z"
    }
   },
   "outputs": [
    {
     "name": "stdout",
     "output_type": "stream",
     "text": [
      "[0, 1, 2, 3, 4, 1, 2, 3, 4, 5, 2, 3, 4, 5, 6]\n"
     ]
    }
   ],
   "source": [
    "result = [i+j for i in range(3) for j in range(5)]\n",
    "print(result)"
   ]
  },
  {
   "cell_type": "code",
   "execution_count": 28,
   "id": "6c934c99",
   "metadata": {
    "ExecuteTime": {
     "end_time": "2023-09-01T02:40:46.574879Z",
     "start_time": "2023-09-01T02:40:46.559020Z"
    }
   },
   "outputs": [
    {
     "name": "stdout",
     "output_type": "stream",
     "text": [
      "01234\n",
      "12345\n",
      "23456\n"
     ]
    }
   ],
   "source": [
    "for i in range(3):\n",
    "    for j in range(5):\n",
    "        print(i+j, end = '')\n",
    "    print()"
   ]
  },
  {
   "cell_type": "code",
   "execution_count": 31,
   "id": "d0ce6a34",
   "metadata": {
    "ExecuteTime": {
     "end_time": "2023-09-01T02:42:15.236508Z",
     "start_time": "2023-09-01T02:42:15.220489Z"
    }
   },
   "outputs": [
    {
     "name": "stdout",
     "output_type": "stream",
     "text": [
      "[[0, 1, 2, 3, 4], [1, 2, 3, 4, 5], [2, 3, 4, 5, 6]]\n"
     ]
    }
   ],
   "source": [
    "result = [[i+j for i in range(5)] for j in range(3)]\n",
    "print(result)"
   ]
  },
  {
   "cell_type": "markdown",
   "id": "1e716144",
   "metadata": {},
   "source": [
    "## 조건식"
   ]
  },
  {
   "cell_type": "code",
   "execution_count": 32,
   "id": "ba3d6212",
   "metadata": {
    "ExecuteTime": {
     "end_time": "2023-09-01T02:47:47.137956Z",
     "start_time": "2023-09-01T02:47:47.122765Z"
    }
   },
   "outputs": [
    {
     "name": "stdout",
     "output_type": "stream",
     "text": [
      "[2, 4, 6, 8, 10, 12, 14, 16, 18, 3, 6, 9, 12, 15, 18, 21, 24, 27, 4, 8, 12, 16, 20, 24, 28, 32, 36, 5, 10, 15, 20, 25, 30, 35, 40, 45, 6, 12, 18, 24, 30, 36, 42, 48, 54, 7, 14, 21, 28, 35, 42, 49, 56, 63, 8, 16, 24, 32, 40, 48, 56, 64, 72, 9, 18, 27, 36, 45, 54, 63, 72, 81]\n"
     ]
    }
   ],
   "source": [
    "# 2부터 9까지의 구구단을 출력하는 프로그램\n",
    "# 결과를 리스트로 담아서 출력하는 프로그램\n",
    "result = []\n",
    "\n",
    "for x in range(2, 10):\n",
    "    for y in range(1, 10):\n",
    "        result.append(x * y)\n",
    "        \n",
    "print(result)"
   ]
  },
  {
   "cell_type": "code",
   "execution_count": 37,
   "id": "96ec3e54",
   "metadata": {
    "ExecuteTime": {
     "end_time": "2023-09-01T02:49:21.811459Z",
     "start_time": "2023-09-01T02:49:21.807955Z"
    }
   },
   "outputs": [
    {
     "name": "stdout",
     "output_type": "stream",
     "text": [
      "[2, 4, 6, 8, 10, 12, 14, 16, 18, 3, 6, 9, 12, 15, 18, 21, 24, 27, 4, 8, 12, 16, 20, 24, 28, 32, 36, 5, 10, 15, 20, 25, 30, 35, 40, 45, 6, 12, 18, 24, 30, 36, 42, 48, 54, 7, 14, 21, 28, 35, 42, 49, 56, 63, 8, 16, 24, 32, 40, 48, 56, 64, 72, 9, 18, 27, 36, 45, 54, 63, 72, 81]\n"
     ]
    }
   ],
   "source": [
    "# 리스트 내포\n",
    "result = [x * y for x in range(2, 10) for y in range(1, 10)]\n",
    "print(result)"
   ]
  },
  {
   "cell_type": "code",
   "execution_count": 38,
   "id": "07584246",
   "metadata": {
    "ExecuteTime": {
     "end_time": "2023-09-01T02:50:22.734655Z",
     "start_time": "2023-09-01T02:50:22.718192Z"
    }
   },
   "outputs": [
    {
     "name": "stdout",
     "output_type": "stream",
     "text": [
      "[2, 4, 6, 8, 10, 12, 14, 16, 18, 4, 8, 12, 16, 20, 24, 28, 32, 36, 6, 12, 18, 24, 30, 36, 42, 48, 54, 8, 16, 24, 32, 40, 48, 56, 64, 72]\n"
     ]
    }
   ],
   "source": [
    "# 짝수의 결과만 추출하는 작업\n",
    "result = []\n",
    "\n",
    "for x in range(2, 10):\n",
    "    if x % 2 == 0:\n",
    "        for y in range(1, 10):\n",
    "            result.append(x * y)\n",
    "\n",
    "print(result)"
   ]
  },
  {
   "cell_type": "code",
   "execution_count": 39,
   "id": "442fc7a2",
   "metadata": {
    "ExecuteTime": {
     "end_time": "2023-09-01T02:51:26.732175Z",
     "start_time": "2023-09-01T02:51:26.720985Z"
    }
   },
   "outputs": [
    {
     "name": "stdout",
     "output_type": "stream",
     "text": [
      "[2, 4, 6, 8, 10, 12, 14, 16, 18, 4, 8, 12, 16, 20, 24, 28, 32, 36, 6, 12, 18, 24, 30, 36, 42, 48, 54, 8, 16, 24, 32, 40, 48, 56, 64, 72]\n"
     ]
    }
   ],
   "source": [
    "result = [x * y for x in range(2,10) if x % 2 == 0 for y in range(1, 10)]\n",
    "print(result)"
   ]
  },
  {
   "cell_type": "markdown",
   "id": "1744e077",
   "metadata": {},
   "source": [
    "## if ~ else"
   ]
  },
  {
   "cell_type": "code",
   "execution_count": 40,
   "id": "09f37a68",
   "metadata": {
    "ExecuteTime": {
     "end_time": "2023-09-01T02:54:36.067195Z",
     "start_time": "2023-09-01T02:54:36.060058Z"
    }
   },
   "outputs": [
    {
     "name": "stdout",
     "output_type": "stream",
     "text": [
      "[1, 4, 27, 16, 125, 36, 343, 64, 729, 100]\n"
     ]
    }
   ],
   "source": [
    "# 1부터 10 중 짝수일 경우 제곱, 홀수일경우 세제곱\n",
    "result = []\n",
    "for i in range(1, 11):\n",
    "    if i % 2 == 0:\n",
    "        result.append(i ** 2)\n",
    "    else:\n",
    "        result.append(i ** 3)\n",
    "        \n",
    "print(result)"
   ]
  },
  {
   "cell_type": "code",
   "execution_count": 42,
   "id": "f8ec7927",
   "metadata": {
    "ExecuteTime": {
     "end_time": "2023-09-01T02:56:29.820700Z",
     "start_time": "2023-09-01T02:56:29.806746Z"
    }
   },
   "outputs": [
    {
     "name": "stdout",
     "output_type": "stream",
     "text": [
      "[1, 4, 27, 16, 125, 36, 343, 64, 729, 100]\n"
     ]
    }
   ],
   "source": [
    "result = [i ** 2 if i % 2 == 0 else i ** 3 for i in range(1, 11)]\n",
    "print(result)"
   ]
  }
 ],
 "metadata": {
  "kernelspec": {
   "display_name": "Python 3",
   "language": "python",
   "name": "python3"
  },
  "language_info": {
   "codemirror_mode": {
    "name": "ipython",
    "version": 3
   },
   "file_extension": ".py",
   "mimetype": "text/x-python",
   "name": "python",
   "nbconvert_exporter": "python",
   "pygments_lexer": "ipython3",
   "version": "3.8.8"
  },
  "toc": {
   "base_numbering": 1,
   "nav_menu": {},
   "number_sections": true,
   "sideBar": true,
   "skip_h1_title": false,
   "title_cell": "Table of Contents",
   "title_sidebar": "Contents",
   "toc_cell": false,
   "toc_position": {},
   "toc_section_display": true,
   "toc_window_display": false
  }
 },
 "nbformat": 4,
 "nbformat_minor": 5
}
