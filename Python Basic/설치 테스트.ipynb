{
 "cells": [
  {
   "cell_type": "markdown",
   "id": "6f7554da",
   "metadata": {},
   "source": [
    "<h1> 실행 단축키 Shift + Enter </h1>\n",
    "- h(head line, 제목), 1~6(글자 크기)"
   ]
  },
  {
   "cell_type": "code",
   "execution_count": 3,
   "id": "0cce111e",
   "metadata": {},
   "outputs": [
    {
     "name": "stdout",
     "output_type": "stream",
     "text": [
      "Hello Python!!!\n"
     ]
    }
   ],
   "source": [
    "print('Hello Python!!!')"
   ]
  },
  {
   "cell_type": "markdown",
   "id": "61ebddd8",
   "metadata": {},
   "source": [
    "# 실행단축키 Ctrl + Enter\n",
    "- 현재 셀의 실행만 수행한다."
   ]
  },
  {
   "cell_type": "code",
   "execution_count": 4,
   "id": "1f3dd98d",
   "metadata": {},
   "outputs": [
    {
     "name": "stdout",
     "output_type": "stream",
     "text": [
      "welcome Python\n"
     ]
    }
   ],
   "source": [
    "print('welcome Python')"
   ]
  },
  {
   "cell_type": "code",
   "execution_count": null,
   "id": "33e69866",
   "metadata": {},
   "outputs": [],
   "source": []
  }
 ],
 "metadata": {
  "kernelspec": {
   "display_name": "Python 3",
   "language": "python",
   "name": "python3"
  },
  "language_info": {
   "codemirror_mode": {
    "name": "ipython",
    "version": 3
   },
   "file_extension": ".py",
   "mimetype": "text/x-python",
   "name": "python",
   "nbconvert_exporter": "python",
   "pygments_lexer": "ipython3",
   "version": "3.8.8"
  }
 },
 "nbformat": 4,
 "nbformat_minor": 5
}
