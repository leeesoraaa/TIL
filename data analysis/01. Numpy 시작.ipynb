{
 "cells": [
  {
   "cell_type": "markdown",
   "id": "b41b15ce",
   "metadata": {},
   "source": [
    "# Numpy\n",
    "- C언어로 구현된 파이썬 라이브러리\n",
    "- 고성능 수치계산을 위해 제작\n",
    "- Numerical Python\n",
    "- 벡터 및 행렬 연산에 매우 편리한 기능 제공\n",
    "- Pandas와 matplotlib과 더블어 데이터분석에 필수 라이브러리\n",
    "- 기본적으로 array 단위로 데이터 처리\n",
    "- 대표적인 자료형 : ndarray 객체"
   ]
  },
  {
   "cell_type": "markdown",
   "id": "8021f420",
   "metadata": {},
   "source": [
    "## Numpy"
   ]
  },
  {
   "cell_type": "code",
   "execution_count": 2,
   "id": "4cfb3d56",
   "metadata": {
    "ExecuteTime": {
     "end_time": "2023-09-22T05:03:46.134751Z",
     "start_time": "2023-09-22T05:03:45.994374Z"
    }
   },
   "outputs": [],
   "source": [
    "# numpy 모듈 불러오기\n",
    "import numpy as np"
   ]
  },
  {
   "cell_type": "markdown",
   "id": "c91bdae4",
   "metadata": {},
   "source": [
    "## Array 정의 및 사용"
   ]
  },
  {
   "cell_type": "code",
   "execution_count": 2,
   "id": "5a32d770",
   "metadata": {
    "ExecuteTime": {
     "end_time": "2023-09-22T03:10:52.434882Z",
     "start_time": "2023-09-22T03:10:52.419247Z"
    }
   },
   "outputs": [
    {
     "data": {
      "text/plain": [
       "[1, 2, 3, 4, 5]"
      ]
     },
     "execution_count": 2,
     "metadata": {},
     "output_type": "execute_result"
    }
   ],
   "source": [
    "# Python의 List 이용\n",
    "a = [1, 2, 3, 4, 5]\n",
    "a"
   ]
  },
  {
   "cell_type": "code",
   "execution_count": 3,
   "id": "0c5830d5",
   "metadata": {
    "ExecuteTime": {
     "end_time": "2023-09-22T03:11:05.260784Z",
     "start_time": "2023-09-22T03:11:05.255785Z"
    }
   },
   "outputs": [
    {
     "data": {
      "text/plain": [
       "[1, 2, 3, 4, 5]"
      ]
     },
     "execution_count": 3,
     "metadata": {},
     "output_type": "execute_result"
    }
   ],
   "source": [
    "b = [1, 2, 3, 4, 5]\n",
    "b"
   ]
  },
  {
   "cell_type": "code",
   "execution_count": 4,
   "id": "033f96fb",
   "metadata": {
    "ExecuteTime": {
     "end_time": "2023-09-22T03:11:33.423040Z",
     "start_time": "2023-09-22T03:11:33.403324Z"
    }
   },
   "outputs": [
    {
     "data": {
      "text/plain": [
       "array([1, 2, 3, 4, 5])"
      ]
     },
     "execution_count": 4,
     "metadata": {},
     "output_type": "execute_result"
    }
   ],
   "source": [
    "arr1 = np.array(a)\n",
    "arr1"
   ]
  },
  {
   "cell_type": "code",
   "execution_count": 5,
   "id": "32660c4f",
   "metadata": {
    "ExecuteTime": {
     "end_time": "2023-09-22T03:12:01.958476Z",
     "start_time": "2023-09-22T03:12:01.951513Z"
    }
   },
   "outputs": [
    {
     "data": {
      "text/plain": [
       "array([1, 2, 3, 4, 5])"
      ]
     },
     "execution_count": 5,
     "metadata": {},
     "output_type": "execute_result"
    }
   ],
   "source": [
    "arr2 = np.array([1, 2, 3, 4, 5])\n",
    "arr2"
   ]
  },
  {
   "cell_type": "code",
   "execution_count": 6,
   "id": "ca368f1f",
   "metadata": {
    "ExecuteTime": {
     "end_time": "2023-09-22T03:12:32.523317Z",
     "start_time": "2023-09-22T03:12:32.514986Z"
    }
   },
   "outputs": [
    {
     "data": {
      "text/plain": [
       "(5,)"
      ]
     },
     "execution_count": 6,
     "metadata": {},
     "output_type": "execute_result"
    }
   ],
   "source": [
    "# array 형태(크기) 확인\n",
    "arr1.shape"
   ]
  },
  {
   "cell_type": "code",
   "execution_count": 7,
   "id": "784dc1fb",
   "metadata": {
    "ExecuteTime": {
     "end_time": "2023-09-22T03:13:06.821140Z",
     "start_time": "2023-09-22T03:13:06.813050Z"
    }
   },
   "outputs": [
    {
     "data": {
      "text/plain": [
       "dtype('int32')"
      ]
     },
     "execution_count": 7,
     "metadata": {},
     "output_type": "execute_result"
    }
   ],
   "source": [
    "# array 자료형 확인\n",
    "arr1.dtype"
   ]
  },
  {
   "cell_type": "markdown",
   "id": "af260c68",
   "metadata": {},
   "source": [
    "## 1.3 배열 생성 : Numpy가 제공하는 함수를 이용한 단순 배열 생성\n",
    "- zeros, ones\n",
    "- zeros_like, ones_like\n",
    "- empty\n",
    "- arange\n",
    "- linespace, logspace"
   ]
  },
  {
   "cell_type": "code",
   "execution_count": 8,
   "id": "2ce2b2b1",
   "metadata": {
    "ExecuteTime": {
     "end_time": "2023-09-22T03:16:59.076068Z",
     "start_time": "2023-09-22T03:16:59.068095Z"
    }
   },
   "outputs": [
    {
     "data": {
      "text/plain": [
       "array([0., 0., 0., 0., 0.])"
      ]
     },
     "execution_count": 8,
     "metadata": {},
     "output_type": "execute_result"
    }
   ],
   "source": [
    "# 0인 배열 생성 : zeros(배열의 크기)\n",
    "a = np.zeros(5)\n",
    "a"
   ]
  },
  {
   "cell_type": "code",
   "execution_count": 9,
   "id": "2a39ab19",
   "metadata": {
    "ExecuteTime": {
     "end_time": "2023-09-22T03:17:41.920330Z",
     "start_time": "2023-09-22T03:17:41.912789Z"
    }
   },
   "outputs": [
    {
     "data": {
      "text/plain": [
       "array([0, 0, 0, 0, 0], dtype=int32)"
      ]
     },
     "execution_count": 9,
     "metadata": {},
     "output_type": "execute_result"
    }
   ],
   "source": [
    "b = np.zeros(5, dtype=\"i\")\n",
    "b"
   ]
  },
  {
   "cell_type": "markdown",
   "id": "21d6ff6c",
   "metadata": {},
   "source": [
    "- numpy 자료형, dtype의 접두사\n",
    "- \"i\" : 정수형\n",
    "- \"u\" : uint(unsign int), 부호가 없는 정수\n",
    "- \"f\" : float\n",
    "- \"b\" : 논리형(bool)\n",
    "- \"c\" : 복소수(complex)\n",
    "- \"s\" : 문자열(string)"
   ]
  },
  {
   "cell_type": "code",
   "execution_count": 10,
   "id": "3ceb0cf3",
   "metadata": {
    "ExecuteTime": {
     "end_time": "2023-09-22T03:21:02.552028Z",
     "start_time": "2023-09-22T03:21:02.543971Z"
    }
   },
   "outputs": [
    {
     "data": {
      "text/plain": [
       "dtype('float32')"
      ]
     },
     "execution_count": 10,
     "metadata": {},
     "output_type": "execute_result"
    }
   ],
   "source": [
    "x = np.array([1, 2, 3], dtype='f')\n",
    "x.dtype"
   ]
  },
  {
   "cell_type": "code",
   "execution_count": 11,
   "id": "222c0d1a",
   "metadata": {
    "ExecuteTime": {
     "end_time": "2023-09-22T03:22:08.300212Z",
     "start_time": "2023-09-22T03:22:08.291948Z"
    }
   },
   "outputs": [
    {
     "data": {
      "text/plain": [
       "array([[0., 0., 0.],\n",
       "       [0., 0., 0.]])"
      ]
     },
     "execution_count": 11,
     "metadata": {},
     "output_type": "execute_result"
    }
   ],
   "source": [
    "b = np.zeros((2, 3))\n",
    "b"
   ]
  },
  {
   "cell_type": "code",
   "execution_count": 12,
   "id": "ed20e0b6",
   "metadata": {
    "ExecuteTime": {
     "end_time": "2023-09-22T03:22:33.267267Z",
     "start_time": "2023-09-22T03:22:33.259269Z"
    }
   },
   "outputs": [
    {
     "data": {
      "text/plain": [
       "array([[0, 0],\n",
       "       [0, 0],\n",
       "       [0, 0],\n",
       "       [0, 0],\n",
       "       [0, 0]], dtype=int32)"
      ]
     },
     "execution_count": 12,
     "metadata": {},
     "output_type": "execute_result"
    }
   ],
   "source": [
    "c = np.zeros((5, 2), dtype='i')\n",
    "c"
   ]
  },
  {
   "cell_type": "code",
   "execution_count": 13,
   "id": "bbfde60c",
   "metadata": {
    "ExecuteTime": {
     "end_time": "2023-09-22T03:23:28.717737Z",
     "start_time": "2023-09-22T03:23:28.709249Z"
    }
   },
   "outputs": [
    {
     "data": {
      "text/plain": [
       "array([[[1., 1., 1., 1.],\n",
       "        [1., 1., 1., 1.],\n",
       "        [1., 1., 1., 1.]],\n",
       "\n",
       "       [[1., 1., 1., 1.],\n",
       "        [1., 1., 1., 1.],\n",
       "        [1., 1., 1., 1.]]])"
      ]
     },
     "execution_count": 13,
     "metadata": {},
     "output_type": "execute_result"
    }
   ],
   "source": [
    "e = np.ones((2, 3, 4))\n",
    "e"
   ]
  },
  {
   "cell_type": "code",
   "execution_count": 14,
   "id": "c43162b1",
   "metadata": {
    "ExecuteTime": {
     "end_time": "2023-09-22T03:24:21.988381Z",
     "start_time": "2023-09-22T03:24:21.978415Z"
    }
   },
   "outputs": [
    {
     "data": {
      "text/plain": [
       "array([[0., 0., 0.],\n",
       "       [0., 0., 0.]])"
      ]
     },
     "execution_count": 14,
     "metadata": {},
     "output_type": "execute_result"
    }
   ],
   "source": [
    "# 기존의 배열의 크기를 그대로 사용하여 배열 생성\n",
    "## zeros_like\n",
    "## ones_like\n",
    "b"
   ]
  },
  {
   "cell_type": "code",
   "execution_count": 15,
   "id": "0959c7b0",
   "metadata": {
    "ExecuteTime": {
     "end_time": "2023-09-22T03:25:04.107546Z",
     "start_time": "2023-09-22T03:25:04.100557Z"
    }
   },
   "outputs": [
    {
     "data": {
      "text/plain": [
       "array([[1., 1., 1.],\n",
       "       [1., 1., 1.]])"
      ]
     },
     "execution_count": 15,
     "metadata": {},
     "output_type": "execute_result"
    }
   ],
   "source": [
    "f = np.ones_like(b)\n",
    "f"
   ]
  },
  {
   "cell_type": "code",
   "execution_count": 16,
   "id": "0c9cb42f",
   "metadata": {
    "ExecuteTime": {
     "end_time": "2023-09-22T03:26:09.886006Z",
     "start_time": "2023-09-22T03:26:09.880032Z"
    }
   },
   "outputs": [
    {
     "data": {
      "text/plain": [
       "array([[1.46695114e-311, 2.47032823e-322, 0.00000000e+000],\n",
       "       [0.00000000e+000, 2.14321575e-312, 3.69776220e-062],\n",
       "       [5.27390942e-091, 2.74954875e+180, 8.40869129e+164],\n",
       "       [1.90352982e+185, 3.99910963e+252, 9.13597212e+169]])"
      ]
     },
     "execution_count": 16,
     "metadata": {},
     "output_type": "execute_result"
    }
   ],
   "source": [
    "g = np.empty((4, 3))\n",
    "g"
   ]
  },
  {
   "cell_type": "code",
   "execution_count": 17,
   "id": "4cd32223",
   "metadata": {
    "ExecuteTime": {
     "end_time": "2023-09-22T03:28:09.116284Z",
     "start_time": "2023-09-22T03:28:09.106399Z"
    }
   },
   "outputs": [
    {
     "data": {
      "text/plain": [
       "array([0, 1, 2, 3, 4, 5, 6, 7, 8, 9])"
      ]
     },
     "execution_count": 17,
     "metadata": {},
     "output_type": "execute_result"
    }
   ],
   "source": [
    "# range() : 순차리스트, 수열생성 함수\n",
    "# range(5) : 0, 1, 2, 3, 4\n",
    "# range(1, 10) : 1, 9\n",
    "# arange() : Numpy 버전의 range 명령어이다.\n",
    "np.arange(10) # 0 ~ n-1"
   ]
  },
  {
   "cell_type": "code",
   "execution_count": 18,
   "id": "6df4f24e",
   "metadata": {
    "ExecuteTime": {
     "end_time": "2023-09-22T03:28:36.107251Z",
     "start_time": "2023-09-22T03:28:36.098278Z"
    }
   },
   "outputs": [
    {
     "data": {
      "text/plain": [
       "array([ 3,  5,  7,  9, 11, 13, 15, 17, 19])"
      ]
     },
     "execution_count": 18,
     "metadata": {},
     "output_type": "execute_result"
    }
   ],
   "source": [
    "np.arange(3, 21, 2)"
   ]
  },
  {
   "cell_type": "code",
   "execution_count": 19,
   "id": "6a4b8da7",
   "metadata": {
    "ExecuteTime": {
     "end_time": "2023-09-22T03:29:43.608821Z",
     "start_time": "2023-09-22T03:29:43.597714Z"
    }
   },
   "outputs": [
    {
     "data": {
      "text/plain": [
       "array([  0.,  25.,  50.,  75., 100.])"
      ]
     },
     "execution_count": 19,
     "metadata": {},
     "output_type": "execute_result"
    }
   ],
   "source": [
    "np.linspace(0, 100, 5)"
   ]
  },
  {
   "cell_type": "code",
   "execution_count": 20,
   "id": "91b83a35",
   "metadata": {
    "ExecuteTime": {
     "end_time": "2023-09-22T03:30:11.956039Z",
     "start_time": "2023-09-22T03:30:11.941789Z"
    }
   },
   "outputs": [
    {
     "data": {
      "text/plain": [
       "array([ 1.25892541,  1.58489319,  1.99526231,  2.51188643,  3.16227766,\n",
       "        3.98107171,  5.01187234,  6.30957344,  7.94328235, 10.        ])"
      ]
     },
     "execution_count": 20,
     "metadata": {},
     "output_type": "execute_result"
    }
   ],
   "source": [
    "np.logspace(0.1, 1, 10)"
   ]
  },
  {
   "cell_type": "markdown",
   "id": "c88ce34f",
   "metadata": {},
   "source": [
    "## 전치행렬\n",
    "- 행과 열을 바꾸는 기능\n",
    "- T"
   ]
  },
  {
   "cell_type": "code",
   "execution_count": 21,
   "id": "438bae19",
   "metadata": {
    "ExecuteTime": {
     "end_time": "2023-09-22T03:31:38.961892Z",
     "start_time": "2023-09-22T03:31:38.951913Z"
    }
   },
   "outputs": [
    {
     "data": {
      "text/plain": [
       "array([[1, 2, 3],\n",
       "       [4, 5, 6]])"
      ]
     },
     "execution_count": 21,
     "metadata": {},
     "output_type": "execute_result"
    }
   ],
   "source": [
    "A = np.array([[1, 2, 3],[4, 5, 6]])\n",
    "A"
   ]
  },
  {
   "cell_type": "code",
   "execution_count": 22,
   "id": "0d83cc93",
   "metadata": {
    "ExecuteTime": {
     "end_time": "2023-09-22T03:31:53.051861Z",
     "start_time": "2023-09-22T03:31:53.042016Z"
    }
   },
   "outputs": [
    {
     "data": {
      "text/plain": [
       "array([[1, 4],\n",
       "       [2, 5],\n",
       "       [3, 6]])"
      ]
     },
     "execution_count": 22,
     "metadata": {},
     "output_type": "execute_result"
    }
   ],
   "source": [
    "A.T"
   ]
  },
  {
   "cell_type": "markdown",
   "id": "a5a747ff",
   "metadata": {},
   "source": [
    "## 배열의 크기 변형\n",
    "- 배열의 크기 속성 : shape, 배열명.속성\n",
    "- 배열의 크기 변경 : reshape"
   ]
  },
  {
   "cell_type": "code",
   "execution_count": 24,
   "id": "0675c6e1",
   "metadata": {
    "ExecuteTime": {
     "end_time": "2023-09-22T03:33:33.390498Z",
     "start_time": "2023-09-22T03:33:33.381464Z"
    }
   },
   "outputs": [
    {
     "data": {
      "text/plain": [
       "array([ 0,  1,  2,  3,  4,  5,  6,  7,  8,  9, 10, 11])"
      ]
     },
     "execution_count": 24,
     "metadata": {},
     "output_type": "execute_result"
    }
   ],
   "source": [
    "a = np.arange(12)\n",
    "a"
   ]
  },
  {
   "cell_type": "code",
   "execution_count": 25,
   "id": "66bb773a",
   "metadata": {
    "ExecuteTime": {
     "end_time": "2023-09-22T03:33:42.597458Z",
     "start_time": "2023-09-22T03:33:42.588565Z"
    }
   },
   "outputs": [
    {
     "data": {
      "text/plain": [
       "(12,)"
      ]
     },
     "execution_count": 25,
     "metadata": {},
     "output_type": "execute_result"
    }
   ],
   "source": [
    "a.shape"
   ]
  },
  {
   "cell_type": "code",
   "execution_count": 26,
   "id": "1a654cdd",
   "metadata": {
    "ExecuteTime": {
     "end_time": "2023-09-22T03:34:13.517687Z",
     "start_time": "2023-09-22T03:34:13.507553Z"
    }
   },
   "outputs": [
    {
     "data": {
      "text/plain": [
       "array([[ 0,  1,  2,  3],\n",
       "       [ 4,  5,  6,  7],\n",
       "       [ 8,  9, 10, 11]])"
      ]
     },
     "execution_count": 26,
     "metadata": {},
     "output_type": "execute_result"
    }
   ],
   "source": [
    "b = a.reshape(3, 4)\n",
    "b"
   ]
  },
  {
   "cell_type": "code",
   "execution_count": 27,
   "id": "7e550b1b",
   "metadata": {
    "ExecuteTime": {
     "end_time": "2023-09-22T03:35:20.288067Z",
     "start_time": "2023-09-22T03:35:20.275387Z"
    }
   },
   "outputs": [
    {
     "data": {
      "text/plain": [
       "array([[ 0,  1,  2,  3],\n",
       "       [ 4,  5,  6,  7],\n",
       "       [ 8,  9, 10, 11]])"
      ]
     },
     "execution_count": 27,
     "metadata": {},
     "output_type": "execute_result"
    }
   ],
   "source": [
    "a.reshape(3, -1)"
   ]
  },
  {
   "cell_type": "code",
   "execution_count": 28,
   "id": "3465137e",
   "metadata": {
    "ExecuteTime": {
     "end_time": "2023-09-22T03:36:02.246881Z",
     "start_time": "2023-09-22T03:36:02.240910Z"
    }
   },
   "outputs": [
    {
     "data": {
      "text/plain": [
       "array([[[ 0,  1,  2],\n",
       "        [ 3,  4,  5]],\n",
       "\n",
       "       [[ 6,  7,  8],\n",
       "        [ 9, 10, 11]]])"
      ]
     },
     "execution_count": 28,
     "metadata": {},
     "output_type": "execute_result"
    }
   ],
   "source": [
    "a.reshape(2, 2, -1)"
   ]
  },
  {
   "cell_type": "code",
   "execution_count": 29,
   "id": "d0f5bc8c",
   "metadata": {
    "ExecuteTime": {
     "end_time": "2023-09-22T03:36:28.682899Z",
     "start_time": "2023-09-22T03:36:28.671701Z"
    }
   },
   "outputs": [
    {
     "data": {
      "text/plain": [
       "array([[[ 0,  1],\n",
       "        [ 2,  3],\n",
       "        [ 4,  5]],\n",
       "\n",
       "       [[ 6,  7],\n",
       "        [ 8,  9],\n",
       "        [10, 11]]])"
      ]
     },
     "execution_count": 29,
     "metadata": {},
     "output_type": "execute_result"
    }
   ],
   "source": [
    "a.reshape(2, -1, 2)"
   ]
  },
  {
   "cell_type": "code",
   "execution_count": 30,
   "id": "93b3ff45",
   "metadata": {
    "ExecuteTime": {
     "end_time": "2023-09-22T03:37:34.107303Z",
     "start_time": "2023-09-22T03:37:34.098304Z"
    }
   },
   "outputs": [
    {
     "data": {
      "text/plain": [
       "array([ 0,  1,  2,  3,  4,  5,  6,  7,  8,  9, 10, 11])"
      ]
     },
     "execution_count": 30,
     "metadata": {},
     "output_type": "execute_result"
    }
   ],
   "source": [
    "# 다차원 배열을 1차원 배열로 생성하는 flatten, ravel 메서드\n",
    "a"
   ]
  },
  {
   "cell_type": "code",
   "execution_count": 31,
   "id": "ea3970e8",
   "metadata": {
    "ExecuteTime": {
     "end_time": "2023-09-22T03:37:56.441201Z",
     "start_time": "2023-09-22T03:37:56.430189Z"
    }
   },
   "outputs": [
    {
     "data": {
      "text/plain": [
       "array([[ 0,  1,  2,  3],\n",
       "       [ 4,  5,  6,  7],\n",
       "       [ 8,  9, 10, 11]])"
      ]
     },
     "execution_count": 31,
     "metadata": {},
     "output_type": "execute_result"
    }
   ],
   "source": [
    "a = a.reshape(3, 4)\n",
    "a"
   ]
  },
  {
   "cell_type": "code",
   "execution_count": 32,
   "id": "3411b026",
   "metadata": {
    "ExecuteTime": {
     "end_time": "2023-09-22T03:38:11.344307Z",
     "start_time": "2023-09-22T03:38:11.332695Z"
    }
   },
   "outputs": [
    {
     "data": {
      "text/plain": [
       "array([ 0,  1,  2,  3,  4,  5,  6,  7,  8,  9, 10, 11])"
      ]
     },
     "execution_count": 32,
     "metadata": {},
     "output_type": "execute_result"
    }
   ],
   "source": [
    "a.flatten()"
   ]
  },
  {
   "cell_type": "code",
   "execution_count": 33,
   "id": "57bf4543",
   "metadata": {
    "ExecuteTime": {
     "end_time": "2023-09-22T03:38:42.044972Z",
     "start_time": "2023-09-22T03:38:42.035970Z"
    }
   },
   "outputs": [
    {
     "data": {
      "text/plain": [
       "array([ 0,  1,  2,  3,  4,  5,  6,  7,  8,  9, 10, 11])"
      ]
     },
     "execution_count": 33,
     "metadata": {},
     "output_type": "execute_result"
    }
   ],
   "source": [
    "a.ravel()"
   ]
  },
  {
   "cell_type": "code",
   "execution_count": 34,
   "id": "46352697",
   "metadata": {
    "ExecuteTime": {
     "end_time": "2023-09-22T03:39:33.650463Z",
     "start_time": "2023-09-22T03:39:33.639595Z"
    }
   },
   "outputs": [
    {
     "data": {
      "text/plain": [
       "array([0, 1, 2, 3, 4])"
      ]
     },
     "execution_count": 34,
     "metadata": {},
     "output_type": "execute_result"
    }
   ],
   "source": [
    "x = np.arange(5)\n",
    "x"
   ]
  },
  {
   "cell_type": "code",
   "execution_count": 35,
   "id": "3ec8401c",
   "metadata": {
    "ExecuteTime": {
     "end_time": "2023-09-22T03:39:42.331902Z",
     "start_time": "2023-09-22T03:39:42.323936Z"
    }
   },
   "outputs": [
    {
     "data": {
      "text/plain": [
       "(5,)"
      ]
     },
     "execution_count": 35,
     "metadata": {},
     "output_type": "execute_result"
    }
   ],
   "source": [
    "x.shape"
   ]
  },
  {
   "cell_type": "code",
   "execution_count": 36,
   "id": "49f27ae8",
   "metadata": {
    "ExecuteTime": {
     "end_time": "2023-09-22T03:40:07.870240Z",
     "start_time": "2023-09-22T03:40:07.864275Z"
    }
   },
   "outputs": [
    {
     "data": {
      "text/plain": [
       "array([[0, 1, 2, 3, 4]])"
      ]
     },
     "execution_count": 36,
     "metadata": {},
     "output_type": "execute_result"
    }
   ],
   "source": [
    "x.reshape(1, 5)"
   ]
  },
  {
   "cell_type": "code",
   "execution_count": 37,
   "id": "43102293",
   "metadata": {
    "ExecuteTime": {
     "end_time": "2023-09-22T03:40:27.253848Z",
     "start_time": "2023-09-22T03:40:27.238018Z"
    }
   },
   "outputs": [
    {
     "data": {
      "text/plain": [
       "array([[0],\n",
       "       [1],\n",
       "       [2],\n",
       "       [3],\n",
       "       [4]])"
      ]
     },
     "execution_count": 37,
     "metadata": {},
     "output_type": "execute_result"
    }
   ],
   "source": [
    "x.reshape(5, 1)"
   ]
  },
  {
   "cell_type": "code",
   "execution_count": 38,
   "id": "6b216494",
   "metadata": {
    "ExecuteTime": {
     "end_time": "2023-09-22T03:41:32.792956Z",
     "start_time": "2023-09-22T03:41:32.779613Z"
    }
   },
   "outputs": [
    {
     "data": {
      "text/plain": [
       "array([0, 1, 2, 3, 4])"
      ]
     },
     "execution_count": 38,
     "metadata": {},
     "output_type": "execute_result"
    }
   ],
   "source": [
    "# 차원만 증가시키는 newaxis\n",
    "x"
   ]
  },
  {
   "cell_type": "code",
   "execution_count": 39,
   "id": "93775b2f",
   "metadata": {
    "ExecuteTime": {
     "end_time": "2023-09-22T03:42:05.867178Z",
     "start_time": "2023-09-22T03:42:05.855447Z"
    }
   },
   "outputs": [
    {
     "data": {
      "text/plain": [
       "(5,)"
      ]
     },
     "execution_count": 39,
     "metadata": {},
     "output_type": "execute_result"
    }
   ],
   "source": [
    "x.shape"
   ]
  },
  {
   "cell_type": "code",
   "execution_count": 40,
   "id": "620707c9",
   "metadata": {
    "ExecuteTime": {
     "end_time": "2023-09-22T03:42:14.312518Z",
     "start_time": "2023-09-22T03:42:14.304509Z"
    }
   },
   "outputs": [
    {
     "data": {
      "text/plain": [
       "array([[0],\n",
       "       [1],\n",
       "       [2],\n",
       "       [3],\n",
       "       [4]])"
      ]
     },
     "execution_count": 40,
     "metadata": {},
     "output_type": "execute_result"
    }
   ],
   "source": [
    "x[:, np.newaxis]"
   ]
  },
  {
   "cell_type": "markdown",
   "id": "fe72391a",
   "metadata": {},
   "source": [
    "# Numpy 배열의 연산"
   ]
  },
  {
   "cell_type": "code",
   "execution_count": null,
   "id": "f0289b09",
   "metadata": {},
   "outputs": [],
   "source": [
    "## 반복문을 썼을 때와 반복문을 쓰지 않았을 때의 시간 차이"
   ]
  },
  {
   "cell_type": "code",
   "execution_count": 3,
   "id": "f707f058",
   "metadata": {
    "ExecuteTime": {
     "end_time": "2023-09-22T05:03:50.841785Z",
     "start_time": "2023-09-22T05:03:50.832850Z"
    }
   },
   "outputs": [],
   "source": [
    "x = np.arange(1, 10001)\n",
    "y = np.arange(10001, 20001)"
   ]
  },
  {
   "cell_type": "code",
   "execution_count": 4,
   "id": "67115e28",
   "metadata": {
    "ExecuteTime": {
     "end_time": "2023-09-22T05:05:17.181942Z",
     "start_time": "2023-09-22T05:05:17.150361Z"
    }
   },
   "outputs": [
    {
     "name": "stdout",
     "output_type": "stream",
     "text": [
      "CPU times: total: 15.6 ms\n",
      "Wall time: 8.26 ms\n"
     ]
    }
   ],
   "source": [
    "%%time\n",
    "res = np.zeros_like(x)\n",
    "for i in range(10000):\n",
    "    res[i] = x[i] + y[i]"
   ]
  },
  {
   "cell_type": "code",
   "execution_count": 5,
   "id": "c09647aa",
   "metadata": {
    "ExecuteTime": {
     "end_time": "2023-09-22T05:06:02.581421Z",
     "start_time": "2023-09-22T05:06:02.565427Z"
    }
   },
   "outputs": [
    {
     "data": {
      "text/plain": [
       "array([10002, 10004, 10006, 10008, 10010, 10012, 10014, 10016, 10018,\n",
       "       10020])"
      ]
     },
     "execution_count": 5,
     "metadata": {},
     "output_type": "execute_result"
    }
   ],
   "source": [
    "res[:10]"
   ]
  },
  {
   "cell_type": "code",
   "execution_count": 6,
   "id": "97d64912",
   "metadata": {
    "ExecuteTime": {
     "end_time": "2023-09-22T05:06:39.224692Z",
     "start_time": "2023-09-22T05:06:39.198189Z"
    }
   },
   "outputs": [
    {
     "name": "stdout",
     "output_type": "stream",
     "text": [
      "CPU times: total: 0 ns\n",
      "Wall time: 0 ns\n"
     ]
    }
   ],
   "source": [
    "%%time\n",
    "z = x + y"
   ]
  },
  {
   "cell_type": "code",
   "execution_count": 7,
   "id": "2543f736",
   "metadata": {
    "ExecuteTime": {
     "end_time": "2023-09-22T05:07:03.476231Z",
     "start_time": "2023-09-22T05:07:03.452086Z"
    }
   },
   "outputs": [
    {
     "data": {
      "text/plain": [
       "array([10002, 10004, 10006, 10008, 10010, 10012, 10014, 10016, 10018,\n",
       "       10020])"
      ]
     },
     "execution_count": 7,
     "metadata": {},
     "output_type": "execute_result"
    }
   ],
   "source": [
    "z[:10]"
   ]
  },
  {
   "cell_type": "code",
   "execution_count": 8,
   "id": "12fcc0fe",
   "metadata": {
    "ExecuteTime": {
     "end_time": "2023-09-22T05:08:46.087047Z",
     "start_time": "2023-09-22T05:08:46.079019Z"
    }
   },
   "outputs": [],
   "source": [
    "a = np.array([1,2,3,4])\n",
    "b = np.array([4,2,2,4])"
   ]
  },
  {
   "cell_type": "code",
   "execution_count": 9,
   "id": "e981c251",
   "metadata": {
    "ExecuteTime": {
     "end_time": "2023-09-22T05:08:54.186132Z",
     "start_time": "2023-09-22T05:08:54.172986Z"
    }
   },
   "outputs": [
    {
     "data": {
      "text/plain": [
       "array([False,  True, False,  True])"
      ]
     },
     "execution_count": 9,
     "metadata": {},
     "output_type": "execute_result"
    }
   ],
   "source": [
    "a == b  # 요소 단위로 계산"
   ]
  },
  {
   "cell_type": "code",
   "execution_count": 10,
   "id": "b2a21dcf",
   "metadata": {
    "ExecuteTime": {
     "end_time": "2023-09-22T05:09:49.660450Z",
     "start_time": "2023-09-22T05:09:49.644920Z"
    }
   },
   "outputs": [
    {
     "data": {
      "text/plain": [
       "array([False,  True,  True,  True])"
      ]
     },
     "execution_count": 10,
     "metadata": {},
     "output_type": "execute_result"
    }
   ],
   "source": [
    "a >= b"
   ]
  },
  {
   "cell_type": "code",
   "execution_count": 11,
   "id": "f3065729",
   "metadata": {
    "ExecuteTime": {
     "end_time": "2023-09-22T05:09:58.885880Z",
     "start_time": "2023-09-22T05:09:58.868098Z"
    }
   },
   "outputs": [
    {
     "data": {
      "text/plain": [
       "False"
      ]
     },
     "execution_count": 11,
     "metadata": {},
     "output_type": "execute_result"
    }
   ],
   "source": [
    "np.all(a==b) # 요소 전체"
   ]
  },
  {
   "cell_type": "code",
   "execution_count": 12,
   "id": "1b99d3af",
   "metadata": {
    "ExecuteTime": {
     "end_time": "2023-09-22T05:10:34.412966Z",
     "start_time": "2023-09-22T05:10:34.389189Z"
    }
   },
   "outputs": [
    {
     "data": {
      "text/plain": [
       "array([0, 1, 2, 3, 4])"
      ]
     },
     "execution_count": 12,
     "metadata": {},
     "output_type": "execute_result"
    }
   ],
   "source": [
    "a = np.arange(5)\n",
    "a"
   ]
  },
  {
   "cell_type": "code",
   "execution_count": 13,
   "id": "f3c15a13",
   "metadata": {
    "ExecuteTime": {
     "end_time": "2023-09-22T05:11:00.270878Z",
     "start_time": "2023-09-22T05:11:00.244821Z"
    }
   },
   "outputs": [
    {
     "data": {
      "text/plain": [
       "array([ 1.        ,  2.71828183,  7.3890561 , 20.08553692, 54.59815003])"
      ]
     },
     "execution_count": 13,
     "metadata": {},
     "output_type": "execute_result"
    }
   ],
   "source": [
    "np.exp(a)"
   ]
  },
  {
   "cell_type": "code",
   "execution_count": 14,
   "id": "2392a173",
   "metadata": {
    "ExecuteTime": {
     "end_time": "2023-09-22T05:11:18.374764Z",
     "start_time": "2023-09-22T05:11:18.351677Z"
    }
   },
   "outputs": [
    {
     "data": {
      "text/plain": [
       "array([    1,    10,   100,  1000, 10000], dtype=int32)"
      ]
     },
     "execution_count": 14,
     "metadata": {},
     "output_type": "execute_result"
    }
   ],
   "source": [
    "10 ** a"
   ]
  },
  {
   "cell_type": "code",
   "execution_count": 15,
   "id": "77824491",
   "metadata": {
    "ExecuteTime": {
     "end_time": "2023-09-22T05:11:33.568028Z",
     "start_time": "2023-09-22T05:11:33.543523Z"
    }
   },
   "outputs": [
    {
     "data": {
      "text/plain": [
       "array([0.        , 0.69314718, 1.09861229, 1.38629436, 1.60943791])"
      ]
     },
     "execution_count": 15,
     "metadata": {},
     "output_type": "execute_result"
    }
   ],
   "source": [
    "np.log(1 + a)"
   ]
  },
  {
   "cell_type": "code",
   "execution_count": 16,
   "id": "643eb8fb",
   "metadata": {
    "ExecuteTime": {
     "end_time": "2023-09-22T05:11:56.807540Z",
     "start_time": "2023-09-22T05:11:56.783454Z"
    }
   },
   "outputs": [
    {
     "data": {
      "text/plain": [
       "array([0, 1, 2, 3, 4, 5, 6, 7, 8, 9])"
      ]
     },
     "execution_count": 16,
     "metadata": {},
     "output_type": "execute_result"
    }
   ],
   "source": [
    "x = np.arange(10)\n",
    "x"
   ]
  },
  {
   "cell_type": "code",
   "execution_count": 17,
   "id": "141dd32b",
   "metadata": {
    "ExecuteTime": {
     "end_time": "2023-09-22T05:12:04.619006Z",
     "start_time": "2023-09-22T05:12:04.603002Z"
    }
   },
   "outputs": [
    {
     "data": {
      "text/plain": [
       "array([  0, 100, 200, 300, 400, 500, 600, 700, 800, 900])"
      ]
     },
     "execution_count": 17,
     "metadata": {},
     "output_type": "execute_result"
    }
   ],
   "source": [
    "100 * x"
   ]
  },
  {
   "cell_type": "code",
   "execution_count": 18,
   "id": "4bedd2ad",
   "metadata": {
    "ExecuteTime": {
     "end_time": "2023-09-22T05:13:24.433818Z",
     "start_time": "2023-09-22T05:13:24.427865Z"
    }
   },
   "outputs": [],
   "source": [
    "x = np.arange(12).reshape(3, 4) # 0~11의 요소를 가진 1차원의 배열을 3행 4열의 2차원의 배열로 변형"
   ]
  },
  {
   "cell_type": "code",
   "execution_count": 19,
   "id": "4131c4a0",
   "metadata": {
    "ExecuteTime": {
     "end_time": "2023-09-22T05:13:32.120892Z",
     "start_time": "2023-09-22T05:13:32.097831Z"
    }
   },
   "outputs": [
    {
     "data": {
      "text/plain": [
       "array([[   0,  100,  200,  300],\n",
       "       [ 400,  500,  600,  700],\n",
       "       [ 800,  900, 1000, 1100]])"
      ]
     },
     "execution_count": 19,
     "metadata": {},
     "output_type": "execute_result"
    }
   ],
   "source": [
    "100 *x"
   ]
  },
  {
   "cell_type": "markdown",
   "id": "38c0d73b",
   "metadata": {},
   "source": [
    "##  브로드캐스팅(broadcasting)\n",
    " - 서로 크기가 다른 배열의 사칙연산을 수행하는 기능\n",
    " - 크기가 작은 배열이 자동적으로 크기가 큰 배열의 크기로 맞춰지는 기능"
   ]
  },
  {
   "cell_type": "code",
   "execution_count": 20,
   "id": "1c4e7230",
   "metadata": {
    "ExecuteTime": {
     "end_time": "2023-09-22T05:14:39.295725Z",
     "start_time": "2023-09-22T05:14:39.272524Z"
    }
   },
   "outputs": [
    {
     "data": {
      "text/plain": [
       "array([0, 1, 2, 3, 4])"
      ]
     },
     "execution_count": 20,
     "metadata": {},
     "output_type": "execute_result"
    }
   ],
   "source": [
    "x = np.arange(5)\n",
    "x"
   ]
  },
  {
   "cell_type": "code",
   "execution_count": 22,
   "id": "b6333e70",
   "metadata": {
    "ExecuteTime": {
     "end_time": "2023-09-22T05:15:05.771721Z",
     "start_time": "2023-09-22T05:15:05.746085Z"
    }
   },
   "outputs": [
    {
     "data": {
      "text/plain": [
       "array([1, 1, 1, 1, 1])"
      ]
     },
     "execution_count": 22,
     "metadata": {},
     "output_type": "execute_result"
    }
   ],
   "source": [
    "y = np.ones_like(x)\n",
    "y"
   ]
  },
  {
   "cell_type": "code",
   "execution_count": 23,
   "id": "2cd5d752",
   "metadata": {
    "ExecuteTime": {
     "end_time": "2023-09-22T05:15:34.015081Z",
     "start_time": "2023-09-22T05:15:33.992955Z"
    }
   },
   "outputs": [
    {
     "data": {
      "text/plain": [
       "array([1, 2, 3, 4, 5])"
      ]
     },
     "execution_count": 23,
     "metadata": {},
     "output_type": "execute_result"
    }
   ],
   "source": [
    "x + 1"
   ]
  },
  {
   "cell_type": "code",
   "execution_count": 24,
   "id": "9b1da700",
   "metadata": {
    "ExecuteTime": {
     "end_time": "2023-09-22T05:16:16.761749Z",
     "start_time": "2023-09-22T05:16:16.735931Z"
    }
   },
   "outputs": [
    {
     "data": {
      "text/plain": [
       "array([[ 0,  1,  2,  3],\n",
       "       [ 4,  5,  6,  7],\n",
       "       [ 8,  9, 10, 11]])"
      ]
     },
     "execution_count": 24,
     "metadata": {},
     "output_type": "execute_result"
    }
   ],
   "source": [
    "y = np.arange(12).reshape(3, 4)\n",
    "y"
   ]
  },
  {
   "cell_type": "code",
   "execution_count": 25,
   "id": "3b37ad7a",
   "metadata": {
    "ExecuteTime": {
     "end_time": "2023-09-22T05:17:33.411447Z",
     "start_time": "2023-09-22T05:17:33.395309Z"
    }
   },
   "outputs": [
    {
     "data": {
      "text/plain": [
       "array([[ 1,  2,  3,  4],\n",
       "       [ 5,  6,  7,  8],\n",
       "       [ 9, 10, 11, 12]])"
      ]
     },
     "execution_count": 25,
     "metadata": {},
     "output_type": "execute_result"
    }
   ],
   "source": [
    "y + 1  # 차원이 다른 값들의 사칙연산 (브로드캐스팅)"
   ]
  },
  {
   "cell_type": "code",
   "execution_count": 26,
   "id": "d35758ed",
   "metadata": {
    "ExecuteTime": {
     "end_time": "2023-09-22T05:17:54.955777Z",
     "start_time": "2023-09-22T05:17:54.933447Z"
    }
   },
   "outputs": [
    {
     "data": {
      "text/plain": [
       "array([[1, 1, 1, 1],\n",
       "       [1, 1, 1, 1],\n",
       "       [1, 1, 1, 1]])"
      ]
     },
     "execution_count": 26,
     "metadata": {},
     "output_type": "execute_result"
    }
   ],
   "source": [
    "z = np.ones_like(y)\n",
    "z"
   ]
  },
  {
   "cell_type": "code",
   "execution_count": 27,
   "id": "1b56f95c",
   "metadata": {
    "ExecuteTime": {
     "end_time": "2023-09-22T05:18:10.863459Z",
     "start_time": "2023-09-22T05:18:10.839404Z"
    }
   },
   "outputs": [
    {
     "data": {
      "text/plain": [
       "array([[ 1,  2,  3,  4],\n",
       "       [ 5,  6,  7,  8],\n",
       "       [ 9, 10, 11, 12]])"
      ]
     },
     "execution_count": 27,
     "metadata": {},
     "output_type": "execute_result"
    }
   ],
   "source": [
    "y + z  # == y + 1"
   ]
  },
  {
   "cell_type": "markdown",
   "id": "4bccfb66",
   "metadata": {},
   "source": [
    "## 그룹함수 (=차원 축소 연산)\n",
    "- 최대/최소: min, max(최대/최소 값을 반환), argmin, argmax(최대/최소 값의 인덱스를 반환)\n",
    "- 기초통계: sum, mean, median, std, var\n",
    "- 논리연산: all, any"
   ]
  },
  {
   "cell_type": "code",
   "execution_count": 28,
   "id": "774436cb",
   "metadata": {
    "ExecuteTime": {
     "end_time": "2023-09-22T05:20:58.250379Z",
     "start_time": "2023-09-22T05:20:58.234402Z"
    }
   },
   "outputs": [
    {
     "data": {
      "text/plain": [
       "array([1, 2, 3, 4])"
      ]
     },
     "execution_count": 28,
     "metadata": {},
     "output_type": "execute_result"
    }
   ],
   "source": [
    "x = np.array([1,2,3,4])\n",
    "x"
   ]
  },
  {
   "cell_type": "code",
   "execution_count": 29,
   "id": "86da1c58",
   "metadata": {
    "ExecuteTime": {
     "end_time": "2023-09-22T05:21:33.447863Z",
     "start_time": "2023-09-22T05:21:33.423783Z"
    }
   },
   "outputs": [
    {
     "data": {
      "text/plain": [
       "10"
      ]
     },
     "execution_count": 29,
     "metadata": {},
     "output_type": "execute_result"
    }
   ],
   "source": [
    "np.sum(x)  # numpy"
   ]
  },
  {
   "cell_type": "code",
   "execution_count": 30,
   "id": "0fba9598",
   "metadata": {
    "ExecuteTime": {
     "end_time": "2023-09-22T05:21:49.540348Z",
     "start_time": "2023-09-22T05:21:49.532311Z"
    }
   },
   "outputs": [
    {
     "data": {
      "text/plain": [
       "10"
      ]
     },
     "execution_count": 30,
     "metadata": {},
     "output_type": "execute_result"
    }
   ],
   "source": [
    "x.sum()   # python"
   ]
  },
  {
   "cell_type": "code",
   "execution_count": 31,
   "id": "43de5edf",
   "metadata": {
    "ExecuteTime": {
     "end_time": "2023-09-22T05:22:19.693295Z",
     "start_time": "2023-09-22T05:22:19.670549Z"
    }
   },
   "outputs": [
    {
     "data": {
      "text/plain": [
       "array([1, 3, 2])"
      ]
     },
     "execution_count": 31,
     "metadata": {},
     "output_type": "execute_result"
    }
   ],
   "source": [
    "x = np.array([1, 3, 2])\n",
    "x"
   ]
  },
  {
   "cell_type": "code",
   "execution_count": 32,
   "id": "afaad181",
   "metadata": {
    "ExecuteTime": {
     "end_time": "2023-09-22T05:22:26.006972Z",
     "start_time": "2023-09-22T05:22:25.982911Z"
    }
   },
   "outputs": [
    {
     "data": {
      "text/plain": [
       "1"
      ]
     },
     "execution_count": 32,
     "metadata": {},
     "output_type": "execute_result"
    }
   ],
   "source": [
    "np.min(x)  # numpy"
   ]
  },
  {
   "cell_type": "code",
   "execution_count": 33,
   "id": "61a34281",
   "metadata": {
    "ExecuteTime": {
     "end_time": "2023-09-22T05:22:53.715996Z",
     "start_time": "2023-09-22T05:22:53.689557Z"
    }
   },
   "outputs": [
    {
     "data": {
      "text/plain": [
       "1"
      ]
     },
     "execution_count": 33,
     "metadata": {},
     "output_type": "execute_result"
    }
   ],
   "source": [
    "x.min()  # python"
   ]
  },
  {
   "cell_type": "code",
   "execution_count": 34,
   "id": "9cff563b",
   "metadata": {
    "ExecuteTime": {
     "end_time": "2023-09-22T05:23:03.759279Z",
     "start_time": "2023-09-22T05:23:03.743946Z"
    }
   },
   "outputs": [
    {
     "data": {
      "text/plain": [
       "0"
      ]
     },
     "execution_count": 34,
     "metadata": {},
     "output_type": "execute_result"
    }
   ],
   "source": [
    "x.argmin()  # 최소값의 위치"
   ]
  },
  {
   "cell_type": "code",
   "execution_count": 35,
   "id": "4ba1bf36",
   "metadata": {
    "ExecuteTime": {
     "end_time": "2023-09-22T05:23:35.104347Z",
     "start_time": "2023-09-22T05:23:35.081631Z"
    }
   },
   "outputs": [
    {
     "data": {
      "text/plain": [
       "1"
      ]
     },
     "execution_count": 35,
     "metadata": {},
     "output_type": "execute_result"
    }
   ],
   "source": [
    "x.argmax()  # 최대값의 위치"
   ]
  },
  {
   "cell_type": "code",
   "execution_count": 36,
   "id": "5ad1cb58",
   "metadata": {
    "ExecuteTime": {
     "end_time": "2023-09-22T05:23:58.558251Z",
     "start_time": "2023-09-22T05:23:58.548164Z"
    }
   },
   "outputs": [
    {
     "data": {
      "text/plain": [
       "2.0"
      ]
     },
     "execution_count": 36,
     "metadata": {},
     "output_type": "execute_result"
    }
   ],
   "source": [
    "x.mean()"
   ]
  },
  {
   "cell_type": "code",
   "execution_count": 37,
   "id": "a8a8aa80",
   "metadata": {
    "ExecuteTime": {
     "end_time": "2023-09-22T05:24:07.030276Z",
     "start_time": "2023-09-22T05:24:07.006944Z"
    }
   },
   "outputs": [
    {
     "data": {
      "text/plain": [
       "2.0"
      ]
     },
     "execution_count": 37,
     "metadata": {},
     "output_type": "execute_result"
    }
   ],
   "source": [
    "np.mean(x)"
   ]
  },
  {
   "cell_type": "code",
   "execution_count": 38,
   "id": "9263b9b3",
   "metadata": {
    "ExecuteTime": {
     "end_time": "2023-09-22T05:24:17.534907Z",
     "start_time": "2023-09-22T05:24:17.517272Z"
    }
   },
   "outputs": [
    {
     "data": {
      "text/plain": [
       "2.0"
      ]
     },
     "execution_count": 38,
     "metadata": {},
     "output_type": "execute_result"
    }
   ],
   "source": [
    "np.median(x)"
   ]
  },
  {
   "cell_type": "code",
   "execution_count": 39,
   "id": "437d5d7b",
   "metadata": {
    "ExecuteTime": {
     "end_time": "2023-09-22T05:25:35.235167Z",
     "start_time": "2023-09-22T05:25:35.211349Z"
    }
   },
   "outputs": [
    {
     "data": {
      "text/plain": [
       "array([1, 2, 3, 1])"
      ]
     },
     "execution_count": 39,
     "metadata": {},
     "output_type": "execute_result"
    }
   ],
   "source": [
    "y = np.array([1, 2, 3, 1])\n",
    "y"
   ]
  },
  {
   "cell_type": "code",
   "execution_count": 40,
   "id": "a3e9709f",
   "metadata": {
    "ExecuteTime": {
     "end_time": "2023-09-22T05:25:52.327782Z",
     "start_time": "2023-09-22T05:25:52.305648Z"
    }
   },
   "outputs": [
    {
     "data": {
      "text/plain": [
       "1.5"
      ]
     },
     "execution_count": 40,
     "metadata": {},
     "output_type": "execute_result"
    }
   ],
   "source": [
    "np.median(y)"
   ]
  },
  {
   "cell_type": "code",
   "execution_count": 41,
   "id": "849a2a02",
   "metadata": {
    "ExecuteTime": {
     "end_time": "2023-09-22T05:25:58.873151Z",
     "start_time": "2023-09-22T05:25:58.787213Z"
    }
   },
   "outputs": [
    {
     "ename": "AttributeError",
     "evalue": "'numpy.ndarray' object has no attribute 'median'",
     "output_type": "error",
     "traceback": [
      "\u001b[1;31m---------------------------------------------------------------------------\u001b[0m",
      "\u001b[1;31mAttributeError\u001b[0m                            Traceback (most recent call last)",
      "Cell \u001b[1;32mIn[41], line 1\u001b[0m\n\u001b[1;32m----> 1\u001b[0m \u001b[43my\u001b[49m\u001b[38;5;241;43m.\u001b[39;49m\u001b[43mmedian\u001b[49m()\n",
      "\u001b[1;31mAttributeError\u001b[0m: 'numpy.ndarray' object has no attribute 'median'"
     ]
    }
   ],
   "source": [
    "y.median()  # 파이썬에는 median()이 없다."
   ]
  },
  {
   "cell_type": "code",
   "execution_count": 42,
   "id": "1d51fd24",
   "metadata": {
    "ExecuteTime": {
     "end_time": "2023-09-22T05:27:49.005854Z",
     "start_time": "2023-09-22T05:27:48.989581Z"
    }
   },
   "outputs": [
    {
     "data": {
      "text/plain": [
       "False"
      ]
     },
     "execution_count": 42,
     "metadata": {},
     "output_type": "execute_result"
    }
   ],
   "source": [
    "np.all([True, True, False])  # 모두 참인가?"
   ]
  },
  {
   "cell_type": "code",
   "execution_count": 43,
   "id": "79a4e3f4",
   "metadata": {
    "ExecuteTime": {
     "end_time": "2023-09-22T05:28:03.923868Z",
     "start_time": "2023-09-22T05:28:03.910811Z"
    }
   },
   "outputs": [
    {
     "data": {
      "text/plain": [
       "True"
      ]
     },
     "execution_count": 43,
     "metadata": {},
     "output_type": "execute_result"
    }
   ],
   "source": [
    "np.any([True, True, False])  # 어느 거 하나라도 참인가?"
   ]
  },
  {
   "cell_type": "code",
   "execution_count": 44,
   "id": "1759f470",
   "metadata": {
    "ExecuteTime": {
     "end_time": "2023-09-22T05:29:01.614311Z",
     "start_time": "2023-09-22T05:29:01.591983Z"
    }
   },
   "outputs": [
    {
     "data": {
      "text/plain": [
       "array([[0, 0, 0, ..., 0, 0, 0],\n",
       "       [0, 0, 0, ..., 0, 0, 0],\n",
       "       [0, 0, 0, ..., 0, 0, 0],\n",
       "       ...,\n",
       "       [0, 0, 0, ..., 0, 0, 0],\n",
       "       [0, 0, 0, ..., 0, 0, 0],\n",
       "       [0, 0, 0, ..., 0, 0, 0]], dtype=int32)"
      ]
     },
     "execution_count": 44,
     "metadata": {},
     "output_type": "execute_result"
    }
   ],
   "source": [
    "a = np.zeros((100, 100), dtype='i')\n",
    "a"
   ]
  },
  {
   "cell_type": "code",
   "execution_count": 45,
   "id": "f514332d",
   "metadata": {
    "ExecuteTime": {
     "end_time": "2023-09-22T05:30:00.735630Z",
     "start_time": "2023-09-22T05:30:00.710361Z"
    }
   },
   "outputs": [
    {
     "data": {
      "text/plain": [
       "False"
      ]
     },
     "execution_count": 45,
     "metadata": {},
     "output_type": "execute_result"
    }
   ],
   "source": [
    "np.any(a != 0)"
   ]
  },
  {
   "cell_type": "code",
   "execution_count": 46,
   "id": "801fa190",
   "metadata": {
    "ExecuteTime": {
     "end_time": "2023-09-22T05:30:19.381571Z",
     "start_time": "2023-09-22T05:30:19.358158Z"
    }
   },
   "outputs": [
    {
     "data": {
      "text/plain": [
       "True"
      ]
     },
     "execution_count": 46,
     "metadata": {},
     "output_type": "execute_result"
    }
   ],
   "source": [
    "np.all(a == 0)"
   ]
  },
  {
   "cell_type": "code",
   "execution_count": 47,
   "id": "8f1b685d",
   "metadata": {
    "ExecuteTime": {
     "end_time": "2023-09-22T05:30:52.041297Z",
     "start_time": "2023-09-22T05:30:52.016960Z"
    }
   },
   "outputs": [],
   "source": [
    "a = np.array([1,2,3,2])\n",
    "b = np.array([2,2,3,4])\n",
    "c = np.array([6,4,4,5])"
   ]
  },
  {
   "cell_type": "code",
   "execution_count": 50,
   "id": "8144bf68",
   "metadata": {
    "ExecuteTime": {
     "end_time": "2023-09-22T05:32:32.045673Z",
     "start_time": "2023-09-22T05:32:32.021420Z"
    }
   },
   "outputs": [
    {
     "data": {
      "text/plain": [
       "True"
      ]
     },
     "execution_count": 50,
     "metadata": {},
     "output_type": "execute_result"
    }
   ],
   "source": [
    "((a <= b) & (b <= c)).all()"
   ]
  },
  {
   "cell_type": "markdown",
   "id": "df35b34d",
   "metadata": {},
   "source": [
    "- 축(axis): axis = 0(열), axis = 1(행), default(axis=0)"
   ]
  },
  {
   "cell_type": "code",
   "execution_count": 51,
   "id": "98dd414c",
   "metadata": {
    "ExecuteTime": {
     "end_time": "2023-09-22T05:34:16.795864Z",
     "start_time": "2023-09-22T05:34:16.770793Z"
    }
   },
   "outputs": [
    {
     "data": {
      "text/plain": [
       "array([[1, 1],\n",
       "       [2, 2]])"
      ]
     },
     "execution_count": 51,
     "metadata": {},
     "output_type": "execute_result"
    }
   ],
   "source": [
    "x = np.array([[1,1], [2,2]])\n",
    "x"
   ]
  },
  {
   "cell_type": "code",
   "execution_count": 52,
   "id": "ec736538",
   "metadata": {
    "ExecuteTime": {
     "end_time": "2023-09-22T05:35:51.187220Z",
     "start_time": "2023-09-22T05:35:51.171130Z"
    }
   },
   "outputs": [
    {
     "data": {
      "text/plain": [
       "6"
      ]
     },
     "execution_count": 52,
     "metadata": {},
     "output_type": "execute_result"
    }
   ],
   "source": [
    "x.sum()"
   ]
  },
  {
   "cell_type": "code",
   "execution_count": 53,
   "id": "daf720f4",
   "metadata": {
    "ExecuteTime": {
     "end_time": "2023-09-22T05:35:59.357299Z",
     "start_time": "2023-09-22T05:35:59.334414Z"
    }
   },
   "outputs": [
    {
     "data": {
      "text/plain": [
       "array([3, 3])"
      ]
     },
     "execution_count": 53,
     "metadata": {},
     "output_type": "execute_result"
    }
   ],
   "source": [
    "x.sum(axis=0)"
   ]
  },
  {
   "cell_type": "code",
   "execution_count": 54,
   "id": "b1020a05",
   "metadata": {
    "ExecuteTime": {
     "end_time": "2023-09-22T05:36:11.353629Z",
     "start_time": "2023-09-22T05:36:11.330869Z"
    }
   },
   "outputs": [
    {
     "data": {
      "text/plain": [
       "array([2, 4])"
      ]
     },
     "execution_count": 54,
     "metadata": {},
     "output_type": "execute_result"
    }
   ],
   "source": [
    "x.sum(axis=1)"
   ]
  },
  {
   "cell_type": "markdown",
   "id": "df05c019",
   "metadata": {},
   "source": [
    "## 정렬(sort)\n",
    "- 2차원이상일 경우에는 행이나 열을 각각 따로 정렬한다.\n",
    "- axis = 0이면 각 열을 기준으로 정렬, axis = 1이면 각 행을 기준으로 정렬\n",
    "- 정렬에서 default axis = 1\n",
    "- axis = -1은 axis = 1 과 같다."
   ]
  },
  {
   "cell_type": "code",
   "execution_count": 60,
   "id": "2f97a6c7",
   "metadata": {
    "ExecuteTime": {
     "end_time": "2023-09-22T05:45:09.909154Z",
     "start_time": "2023-09-22T05:45:09.881661Z"
    }
   },
   "outputs": [
    {
     "data": {
      "text/plain": [
       "array([[ 4,  3,  5,  7],\n",
       "       [ 1, 12, 11,  9],\n",
       "       [ 2, 15,  1, 14]])"
      ]
     },
     "execution_count": 60,
     "metadata": {},
     "output_type": "execute_result"
    }
   ],
   "source": [
    "a = np.array([[4,3,5,7],\n",
    "             [1,12,11,9],\n",
    "             [2,15,1,14]])\n",
    "a"
   ]
  },
  {
   "cell_type": "code",
   "execution_count": 56,
   "id": "6bbfc20f",
   "metadata": {
    "ExecuteTime": {
     "end_time": "2023-09-22T05:39:47.303960Z",
     "start_time": "2023-09-22T05:39:47.281832Z"
    }
   },
   "outputs": [
    {
     "data": {
      "text/plain": [
       "array([[ 3,  4,  5,  7],\n",
       "       [ 1,  9, 11, 12],\n",
       "       [ 1,  2, 14, 15]])"
      ]
     },
     "execution_count": 56,
     "metadata": {},
     "output_type": "execute_result"
    }
   ],
   "source": [
    "np.sort(a) # axis = 1(axis = -1과 동일)"
   ]
  },
  {
   "cell_type": "code",
   "execution_count": 57,
   "id": "f1f4da4e",
   "metadata": {
    "ExecuteTime": {
     "end_time": "2023-09-22T05:42:16.512703Z",
     "start_time": "2023-09-22T05:42:16.499433Z"
    }
   },
   "outputs": [
    {
     "data": {
      "text/plain": [
       "array([[ 1,  3,  1,  7],\n",
       "       [ 2, 12,  5,  9],\n",
       "       [ 4, 15, 11, 14]])"
      ]
     },
     "execution_count": 57,
     "metadata": {},
     "output_type": "execute_result"
    }
   ],
   "source": [
    "np.sort(a, axis=0)"
   ]
  },
  {
   "cell_type": "code",
   "execution_count": 58,
   "id": "6099b6c3",
   "metadata": {
    "ExecuteTime": {
     "end_time": "2023-09-22T05:42:35.160087Z",
     "start_time": "2023-09-22T05:42:35.149160Z"
    }
   },
   "outputs": [
    {
     "data": {
      "text/plain": [
       "array([[ 3,  4,  5,  7],\n",
       "       [ 1,  9, 11, 12],\n",
       "       [ 1,  2, 14, 15]])"
      ]
     },
     "execution_count": 58,
     "metadata": {},
     "output_type": "execute_result"
    }
   ],
   "source": [
    "np.sort(a, axis=-1)"
   ]
  },
  {
   "cell_type": "code",
   "execution_count": 59,
   "id": "143114a9",
   "metadata": {
    "ExecuteTime": {
     "end_time": "2023-09-22T05:44:11.551514Z",
     "start_time": "2023-09-22T05:44:11.526221Z"
    }
   },
   "outputs": [
    {
     "data": {
      "text/plain": [
       "array([[ 3,  4,  5,  7],\n",
       "       [ 1,  9, 11, 12],\n",
       "       [ 1,  2, 14, 15]])"
      ]
     },
     "execution_count": 59,
     "metadata": {},
     "output_type": "execute_result"
    }
   ],
   "source": [
    "a.sort()\n",
    "a"
   ]
  },
  {
   "cell_type": "code",
   "execution_count": 61,
   "id": "88684401",
   "metadata": {
    "ExecuteTime": {
     "end_time": "2023-09-22T05:45:14.066967Z",
     "start_time": "2023-09-22T05:45:14.043267Z"
    }
   },
   "outputs": [
    {
     "data": {
      "text/plain": [
       "array([[ 3,  4,  5,  7],\n",
       "       [ 1,  9, 11, 12],\n",
       "       [ 1,  2, 14, 15]])"
      ]
     },
     "execution_count": 61,
     "metadata": {},
     "output_type": "execute_result"
    }
   ],
   "source": [
    "a.sort(axis=1)\n",
    "a"
   ]
  },
  {
   "cell_type": "code",
   "execution_count": 62,
   "id": "eb57605e",
   "metadata": {
    "ExecuteTime": {
     "end_time": "2023-09-22T05:47:04.403462Z",
     "start_time": "2023-09-22T05:47:04.386668Z"
    }
   },
   "outputs": [
    {
     "data": {
      "text/plain": [
       "array([1, 2, 0, 3], dtype=int64)"
      ]
     },
     "execution_count": 62,
     "metadata": {},
     "output_type": "execute_result"
    }
   ],
   "source": [
    "# 정렬을 하지 않고 순서만 알고 싶다면 argsort 명령을 사용한다.\n",
    "## argsort: 정렬 인덱스 출력\n",
    "a = np.array([4, 2, 3, 8])\n",
    "b = np.argsort(a)\n",
    "b"
   ]
  },
  {
   "cell_type": "code",
   "execution_count": 63,
   "id": "e8ae5227",
   "metadata": {
    "ExecuteTime": {
     "end_time": "2023-09-22T05:47:15.925309Z",
     "start_time": "2023-09-22T05:47:15.902622Z"
    }
   },
   "outputs": [
    {
     "data": {
      "text/plain": [
       "array([2, 3, 4, 8])"
      ]
     },
     "execution_count": 63,
     "metadata": {},
     "output_type": "execute_result"
    }
   ],
   "source": [
    "a[b]"
   ]
  },
  {
   "cell_type": "markdown",
   "id": "d0362edf",
   "metadata": {},
   "source": [
    "## Fancy Indexion: 펜시인덱싱\n",
    " - boolean 인덱싱을 이용하는 것\n",
    " - 마스크 인덱싱\n",
    " - 규칙이 일정하지 않지만 원하는 데이터를 추출하고자 할 때 사용한다."
   ]
  },
  {
   "cell_type": "code",
   "execution_count": 64,
   "id": "7d1c02fc",
   "metadata": {
    "ExecuteTime": {
     "end_time": "2023-09-22T05:51:40.457503Z",
     "start_time": "2023-09-22T05:51:40.442342Z"
    }
   },
   "outputs": [
    {
     "data": {
      "text/plain": [
       "array(['park', 'park', 'kim', 'joan', 'lee', 'park', 'hong', 'park'],\n",
       "      dtype='<U4')"
      ]
     },
     "execution_count": 64,
     "metadata": {},
     "output_type": "execute_result"
    }
   ],
   "source": [
    "names = np.array(['park', 'park', 'kim', 'joan', 'lee', 'park', 'hong', 'park'])\n",
    "names"
   ]
  },
  {
   "cell_type": "code",
   "execution_count": 65,
   "id": "62826dc9",
   "metadata": {
    "ExecuteTime": {
     "end_time": "2023-09-22T05:51:46.078039Z",
     "start_time": "2023-09-22T05:51:46.053636Z"
    }
   },
   "outputs": [
    {
     "data": {
      "text/plain": [
       "(8,)"
      ]
     },
     "execution_count": 65,
     "metadata": {},
     "output_type": "execute_result"
    }
   ],
   "source": [
    "names.shape  # 1차원 배열, 8개 요소"
   ]
  },
  {
   "cell_type": "code",
   "execution_count": 66,
   "id": "38ecc60a",
   "metadata": {
    "ExecuteTime": {
     "end_time": "2023-09-22T05:55:33.219089Z",
     "start_time": "2023-09-22T05:55:33.203524Z"
    }
   },
   "outputs": [
    {
     "data": {
      "text/plain": [
       "array([[-0.4677975 , -0.43463794,  0.34152843,  1.40733221],\n",
       "       [-0.60233348,  0.94900927, -0.62743396,  0.81218609],\n",
       "       [-0.68978495, -0.9296477 ,  0.2002509 , -2.07166355],\n",
       "       [-0.3431542 , -0.14614195, -1.606254  ,  0.34090443],\n",
       "       [-0.2600008 , -0.77615178, -0.05336538, -1.96369425],\n",
       "       [ 0.66167275,  0.3365099 ,  1.12696464,  0.50090021],\n",
       "       [-0.7801516 , -0.47518442, -0.66742633,  0.06626301],\n",
       "       [-0.75395313, -0.32960909, -0.71027934,  0.25366488]])"
      ]
     },
     "execution_count": 66,
     "metadata": {},
     "output_type": "execute_result"
    }
   ],
   "source": [
    "# 정규분포: np.random.randn(), 평균=0, 표준편차=1\n",
    "# 0~1 사이의 난수 발생\n",
    "data = np.random.randn(8, 4)  # 표준 정규분포 난수(8행 4열)\n",
    "data"
   ]
  },
  {
   "cell_type": "code",
   "execution_count": 67,
   "id": "69c17bcf",
   "metadata": {
    "ExecuteTime": {
     "end_time": "2023-09-22T05:56:16.165239Z",
     "start_time": "2023-09-22T05:56:16.150924Z"
    }
   },
   "outputs": [
    {
     "data": {
      "text/plain": [
       "(8, 4)"
      ]
     },
     "execution_count": 67,
     "metadata": {},
     "output_type": "execute_result"
    }
   ],
   "source": [
    "data.shape"
   ]
  },
  {
   "cell_type": "code",
   "execution_count": 68,
   "id": "c1be0de5",
   "metadata": {
    "ExecuteTime": {
     "end_time": "2023-09-22T05:58:31.214378Z",
     "start_time": "2023-09-22T05:58:31.192015Z"
    }
   },
   "outputs": [
    {
     "data": {
      "text/plain": [
       "array([[-0.4677975 , -0.43463794,  0.34152843,  1.40733221],\n",
       "       [-0.60233348,  0.94900927, -0.62743396,  0.81218609],\n",
       "       [ 0.66167275,  0.3365099 ,  1.12696464,  0.50090021],\n",
       "       [-0.75395313, -0.32960909, -0.71027934,  0.25366488]])"
      ]
     },
     "execution_count": 68,
     "metadata": {},
     "output_type": "execute_result"
    }
   ],
   "source": [
    "index = (names == 'park')\n",
    "data[index, :]"
   ]
  },
  {
   "cell_type": "code",
   "execution_count": 69,
   "id": "8af16d30",
   "metadata": {
    "ExecuteTime": {
     "end_time": "2023-09-22T05:59:46.773979Z",
     "start_time": "2023-09-22T05:59:46.747231Z"
    }
   },
   "outputs": [
    {
     "data": {
      "text/plain": [
       "array([[-0.68978495, -0.9296477 ,  0.2002509 , -2.07166355]])"
      ]
     },
     "execution_count": 69,
     "metadata": {},
     "output_type": "execute_result"
    }
   ],
   "source": [
    "# 요소가 'kim'인 행의ㅣ 데이터만 추출\n",
    "data[names == 'kim', :]"
   ]
  },
  {
   "cell_type": "code",
   "execution_count": 70,
   "id": "6d8f9775",
   "metadata": {
    "ExecuteTime": {
     "end_time": "2023-09-22T05:59:57.301332Z",
     "start_time": "2023-09-22T05:59:57.278347Z"
    }
   },
   "outputs": [
    {
     "data": {
      "text/plain": [
       "array([-0.68978495, -0.9296477 ,  0.2002509 , -2.07166355])"
      ]
     },
     "execution_count": 70,
     "metadata": {},
     "output_type": "execute_result"
    }
   ],
   "source": [
    "data[2,:]"
   ]
  },
  {
   "cell_type": "code",
   "execution_count": 71,
   "id": "54ba677a",
   "metadata": {
    "ExecuteTime": {
     "end_time": "2023-09-22T06:01:22.519241Z",
     "start_time": "2023-09-22T06:01:22.494038Z"
    }
   },
   "outputs": [
    {
     "data": {
      "text/plain": [
       "array([[-0.68978495, -0.9296477 ,  0.2002509 , -2.07166355],\n",
       "       [-0.7801516 , -0.47518442, -0.66742633,  0.06626301]])"
      ]
     },
     "execution_count": 71,
     "metadata": {},
     "output_type": "execute_result"
    }
   ],
   "source": [
    "# kim과 hong\n",
    "data[(names=='kim') | (names == 'hong'),:]"
   ]
  },
  {
   "cell_type": "code",
   "execution_count": 72,
   "id": "8fd9ef86",
   "metadata": {
    "ExecuteTime": {
     "end_time": "2023-09-22T06:03:26.903978Z",
     "start_time": "2023-09-22T06:03:26.892321Z"
    }
   },
   "outputs": [
    {
     "data": {
      "text/plain": [
       "array([[-0.4677975 , -0.43463794,  0.34152843,  1.40733221],\n",
       "       [-0.60233348,  0.94900927, -0.62743396,  0.81218609],\n",
       "       [-0.68978495, -0.9296477 ,  0.2002509 , -2.07166355],\n",
       "       [-0.3431542 , -0.14614195, -1.606254  ,  0.34090443],\n",
       "       [-0.2600008 , -0.77615178, -0.05336538, -1.96369425],\n",
       "       [ 0.66167275,  0.3365099 ,  1.12696464,  0.50090021],\n",
       "       [-0.7801516 , -0.47518442, -0.66742633,  0.06626301],\n",
       "       [-0.75395313, -0.32960909, -0.71027934,  0.25366488]])"
      ]
     },
     "execution_count": 72,
     "metadata": {},
     "output_type": "execute_result"
    }
   ],
   "source": [
    "data"
   ]
  },
  {
   "cell_type": "code",
   "execution_count": 73,
   "id": "3781aee9",
   "metadata": {
    "ExecuteTime": {
     "end_time": "2023-09-22T06:05:10.067569Z",
     "start_time": "2023-09-22T06:05:10.040560Z"
    }
   },
   "outputs": [
    {
     "data": {
      "text/plain": [
       "array([[-0.4677975 , -0.43463794,  0.34152843,  1.40733221],\n",
       "       [-0.60233348,  0.94900927, -0.62743396,  0.81218609],\n",
       "       [-0.68978495, -0.9296477 ,  0.2002509 , -2.07166355],\n",
       "       [-0.3431542 , -0.14614195, -1.606254  ,  0.34090443],\n",
       "       [-0.2600008 , -0.77615178, -0.05336538, -1.96369425],\n",
       "       [-0.7801516 , -0.47518442, -0.66742633,  0.06626301],\n",
       "       [-0.75395313, -0.32960909, -0.71027934,  0.25366488]])"
      ]
     },
     "execution_count": 73,
     "metadata": {},
     "output_type": "execute_result"
    }
   ],
   "source": [
    "# 0번째 열의 값이 0보다 작은 행을 추출\n",
    "data[:,0] < 0  # True/False만 뜸 == 마스크비트\n",
    "data[data[:,0] < 0,:]"
   ]
  },
  {
   "cell_type": "code",
   "execution_count": 75,
   "id": "82947974",
   "metadata": {
    "ExecuteTime": {
     "end_time": "2023-09-22T06:06:50.490520Z",
     "start_time": "2023-09-22T06:06:50.465342Z"
    }
   },
   "outputs": [
    {
     "data": {
      "text/plain": [
       "array([[ 0.34152843,  1.40733221],\n",
       "       [-0.62743396,  0.81218609],\n",
       "       [ 0.2002509 , -2.07166355],\n",
       "       [-1.606254  ,  0.34090443],\n",
       "       [-0.05336538, -1.96369425],\n",
       "       [-0.66742633,  0.06626301],\n",
       "       [-0.71027934,  0.25366488]])"
      ]
     },
     "execution_count": 75,
     "metadata": {},
     "output_type": "execute_result"
    }
   ],
   "source": [
    "# 0번째 열의 값이 0보다 작은 행의 2,3번째 열의 값만 추출\n",
    "data[data[:,0] < 0,2:4]"
   ]
  },
  {
   "cell_type": "code",
   "execution_count": 76,
   "id": "ca7d8555",
   "metadata": {
    "ExecuteTime": {
     "end_time": "2023-09-22T06:07:38.811210Z",
     "start_time": "2023-09-22T06:07:38.784277Z"
    }
   },
   "outputs": [
    {
     "data": {
      "text/plain": [
       "array([[-0.4677975 , -0.43463794,  0.        ,  0.        ],\n",
       "       [-0.60233348,  0.94900927,  0.        ,  0.        ],\n",
       "       [-0.68978495, -0.9296477 ,  0.        ,  0.        ],\n",
       "       [-0.3431542 , -0.14614195,  0.        ,  0.        ],\n",
       "       [-0.2600008 , -0.77615178,  0.        ,  0.        ],\n",
       "       [ 0.66167275,  0.3365099 ,  1.12696464,  0.50090021],\n",
       "       [-0.7801516 , -0.47518442,  0.        ,  0.        ],\n",
       "       [-0.75395313, -0.32960909,  0.        ,  0.        ]])"
      ]
     },
     "execution_count": 76,
     "metadata": {},
     "output_type": "execute_result"
    }
   ],
   "source": [
    "# 0번째 열의 값이 0보다 작은 행의 2,3번째 열의 값을 0으로 치환\n",
    "data[data[:,0] < 0,2:4] = 0\n",
    "data"
   ]
  },
  {
   "cell_type": "markdown",
   "id": "39181e8d",
   "metadata": {},
   "source": [
    "# 기술통계분석"
   ]
  },
  {
   "cell_type": "code",
   "execution_count": 77,
   "id": "8db6e5c7",
   "metadata": {
    "ExecuteTime": {
     "end_time": "2023-09-22T06:20:12.258694Z",
     "start_time": "2023-09-22T06:20:12.231467Z"
    }
   },
   "outputs": [
    {
     "data": {
      "text/plain": [
       "array([ 18,   5,  10,  23,  19,  -8,  10,   0,   0,   5,   2,  15,   8,\n",
       "         2,   5,   4,  15,  -1,   4,  -7, -24,   7,   9,  -6,  23, -13])"
      ]
     },
     "execution_count": 77,
     "metadata": {},
     "output_type": "execute_result"
    }
   ],
   "source": [
    "x = np.array([18,   5,  10,  23,  19,  -8,  10,   0,   0,   5,   2,  15,   8,\n",
    "              2,   5,   4,  15,  -1,   4,  -7, -24,   7,   9,  -6,  23, -13])\n",
    "x"
   ]
  },
  {
   "cell_type": "markdown",
   "id": "e42c66f7",
   "metadata": {},
   "source": [
    "## 데이터의 개수: len"
   ]
  },
  {
   "cell_type": "code",
   "execution_count": 78,
   "id": "c0efe2c8",
   "metadata": {
    "ExecuteTime": {
     "end_time": "2023-09-22T06:20:29.431311Z",
     "start_time": "2023-09-22T06:20:29.415531Z"
    }
   },
   "outputs": [
    {
     "data": {
      "text/plain": [
       "26"
      ]
     },
     "execution_count": 78,
     "metadata": {},
     "output_type": "execute_result"
    }
   ],
   "source": [
    "len(x)"
   ]
  },
  {
   "cell_type": "markdown",
   "id": "6f7f051b",
   "metadata": {},
   "source": [
    "## 평균: mean"
   ]
  },
  {
   "cell_type": "code",
   "execution_count": 79,
   "id": "aec236af",
   "metadata": {
    "ExecuteTime": {
     "end_time": "2023-09-22T06:21:17.456782Z",
     "start_time": "2023-09-22T06:21:17.422343Z"
    }
   },
   "outputs": [
    {
     "data": {
      "text/plain": [
       "4.8076923076923075"
      ]
     },
     "execution_count": 79,
     "metadata": {},
     "output_type": "execute_result"
    }
   ],
   "source": [
    "np.mean(x)"
   ]
  },
  {
   "cell_type": "markdown",
   "id": "c56c8e5a",
   "metadata": {},
   "source": [
    "## 분산: var"
   ]
  },
  {
   "cell_type": "code",
   "execution_count": 80,
   "id": "72069b48",
   "metadata": {
    "ExecuteTime": {
     "end_time": "2023-09-22T06:21:40.195419Z",
     "start_time": "2023-09-22T06:21:40.171867Z"
    }
   },
   "outputs": [
    {
     "data": {
      "text/plain": [
       "115.23224852071006"
      ]
     },
     "execution_count": 80,
     "metadata": {},
     "output_type": "execute_result"
    }
   ],
   "source": [
    "np.var(x)"
   ]
  },
  {
   "cell_type": "code",
   "execution_count": 81,
   "id": "e02c9e6d",
   "metadata": {
    "ExecuteTime": {
     "end_time": "2023-09-22T06:23:18.686639Z",
     "start_time": "2023-09-22T06:23:18.663754Z"
    }
   },
   "outputs": [
    {
     "data": {
      "text/plain": [
       "119.84153846153846"
      ]
     },
     "execution_count": 81,
     "metadata": {},
     "output_type": "execute_result"
    }
   ],
   "source": [
    "# 비편향 분산\n",
    "np.var(x, ddof=1)"
   ]
  },
  {
   "cell_type": "markdown",
   "id": "ad56c458",
   "metadata": {},
   "source": [
    "## 표준편차: std"
   ]
  },
  {
   "cell_type": "code",
   "execution_count": 82,
   "id": "2bf4608f",
   "metadata": {
    "ExecuteTime": {
     "end_time": "2023-09-22T06:23:44.122412Z",
     "start_time": "2023-09-22T06:23:44.099310Z"
    }
   },
   "outputs": [
    {
     "data": {
      "text/plain": [
       "10.734628476137871"
      ]
     },
     "execution_count": 82,
     "metadata": {},
     "output_type": "execute_result"
    }
   ],
   "source": [
    "np.std(x)"
   ]
  },
  {
   "cell_type": "markdown",
   "id": "c1abd72d",
   "metadata": {},
   "source": [
    "## 최대값과 최소값: max, min"
   ]
  },
  {
   "cell_type": "code",
   "execution_count": 83,
   "id": "b7ce66d9",
   "metadata": {
    "ExecuteTime": {
     "end_time": "2023-09-22T06:24:08.173359Z",
     "start_time": "2023-09-22T06:24:08.157227Z"
    }
   },
   "outputs": [
    {
     "data": {
      "text/plain": [
       "23"
      ]
     },
     "execution_count": 83,
     "metadata": {},
     "output_type": "execute_result"
    }
   ],
   "source": [
    "np.max(x)"
   ]
  },
  {
   "cell_type": "code",
   "execution_count": 84,
   "id": "2ac6fb70",
   "metadata": {
    "ExecuteTime": {
     "end_time": "2023-09-22T06:24:11.508807Z",
     "start_time": "2023-09-22T06:24:11.483434Z"
    }
   },
   "outputs": [
    {
     "data": {
      "text/plain": [
       "-24"
      ]
     },
     "execution_count": 84,
     "metadata": {},
     "output_type": "execute_result"
    }
   ],
   "source": [
    "np.min(x)"
   ]
  },
  {
   "cell_type": "markdown",
   "id": "460308bb",
   "metadata": {},
   "source": [
    "## 중위수: median"
   ]
  },
  {
   "cell_type": "code",
   "execution_count": 85,
   "id": "533ef110",
   "metadata": {
    "ExecuteTime": {
     "end_time": "2023-09-22T06:26:01.016276Z",
     "start_time": "2023-09-22T06:26:00.992605Z"
    }
   },
   "outputs": [
    {
     "data": {
      "text/plain": [
       "5.0"
      ]
     },
     "execution_count": 85,
     "metadata": {},
     "output_type": "execute_result"
    }
   ],
   "source": [
    "np.median(x)"
   ]
  },
  {
   "cell_type": "markdown",
   "id": "3e9a3b8e",
   "metadata": {},
   "source": [
    "## 사분위수: quantile, percentile"
   ]
  },
  {
   "cell_type": "code",
   "execution_count": 86,
   "id": "1cc44465",
   "metadata": {
    "ExecuteTime": {
     "end_time": "2023-09-22T06:26:25.208344Z",
     "start_time": "2023-09-22T06:26:25.185137Z"
    }
   },
   "outputs": [
    {
     "data": {
      "text/plain": [
       "-24.0"
      ]
     },
     "execution_count": 86,
     "metadata": {},
     "output_type": "execute_result"
    }
   ],
   "source": [
    "np.percentile(x,0) # 최소값"
   ]
  },
  {
   "cell_type": "code",
   "execution_count": 87,
   "id": "b1ee35c4",
   "metadata": {
    "ExecuteTime": {
     "end_time": "2023-09-22T06:26:41.074006Z",
     "start_time": "2023-09-22T06:26:41.050517Z"
    }
   },
   "outputs": [
    {
     "data": {
      "text/plain": [
       "0.0"
      ]
     },
     "execution_count": 87,
     "metadata": {},
     "output_type": "execute_result"
    }
   ],
   "source": [
    "np.percentile(x, 25) # 1사분위수"
   ]
  },
  {
   "cell_type": "markdown",
   "id": "c3b8c8f8",
   "metadata": {},
   "source": [
    "# 난수(random number)"
   ]
  },
  {
   "cell_type": "markdown",
   "id": "ebbb1c98",
   "metadata": {},
   "source": [
    "## 시드설정(seed): 0과 같거나 큰 정수"
   ]
  },
  {
   "cell_type": "code",
   "execution_count": 88,
   "id": "347ae8be",
   "metadata": {
    "ExecuteTime": {
     "end_time": "2023-09-22T06:30:56.857542Z",
     "start_time": "2023-09-22T06:30:56.841538Z"
    }
   },
   "outputs": [],
   "source": [
    "np.random.seed(0)"
   ]
  },
  {
   "cell_type": "code",
   "execution_count": 89,
   "id": "d260ed2e",
   "metadata": {
    "ExecuteTime": {
     "end_time": "2023-09-22T06:31:08.386005Z",
     "start_time": "2023-09-22T06:31:08.360066Z"
    }
   },
   "outputs": [
    {
     "data": {
      "text/plain": [
       "array([0.5488135 , 0.71518937, 0.60276338, 0.54488318, 0.4236548 ])"
      ]
     },
     "execution_count": 89,
     "metadata": {},
     "output_type": "execute_result"
    }
   ],
   "source": [
    "np.random.rand(5)"
   ]
  },
  {
   "cell_type": "code",
   "execution_count": 90,
   "id": "74bfb9a8",
   "metadata": {
    "ExecuteTime": {
     "end_time": "2023-09-22T06:31:16.592161Z",
     "start_time": "2023-09-22T06:31:16.570237Z"
    }
   },
   "outputs": [
    {
     "data": {
      "text/plain": [
       "array([0.64589411, 0.43758721, 0.891773  , 0.96366276, 0.38344152,\n",
       "       0.79172504, 0.52889492, 0.56804456, 0.92559664, 0.07103606])"
      ]
     },
     "execution_count": 90,
     "metadata": {},
     "output_type": "execute_result"
    }
   ],
   "source": [
    "np.random.rand(10)"
   ]
  },
  {
   "cell_type": "code",
   "execution_count": 91,
   "id": "c3659d52",
   "metadata": {
    "ExecuteTime": {
     "end_time": "2023-09-22T06:33:26.847246Z",
     "start_time": "2023-09-22T06:33:26.821653Z"
    }
   },
   "outputs": [
    {
     "data": {
      "text/plain": [
       "array([0.0871293 , 0.0202184 , 0.83261985, 0.77815675, 0.87001215,\n",
       "       0.97861834, 0.79915856, 0.46147936, 0.78052918, 0.11827443])"
      ]
     },
     "execution_count": 91,
     "metadata": {},
     "output_type": "execute_result"
    }
   ],
   "source": [
    "np.random.rand(10)"
   ]
  },
  {
   "cell_type": "code",
   "execution_count": 94,
   "id": "b9058830",
   "metadata": {
    "ExecuteTime": {
     "end_time": "2023-09-22T06:33:46.615968Z",
     "start_time": "2023-09-22T06:33:46.607971Z"
    }
   },
   "outputs": [],
   "source": [
    "np.random.seed(0)"
   ]
  },
  {
   "cell_type": "code",
   "execution_count": 95,
   "id": "98aaf486",
   "metadata": {
    "ExecuteTime": {
     "end_time": "2023-09-22T06:33:52.609791Z",
     "start_time": "2023-09-22T06:33:52.587125Z"
    }
   },
   "outputs": [
    {
     "data": {
      "text/plain": [
       "array([0.5488135 , 0.71518937, 0.60276338, 0.54488318, 0.4236548 ])"
      ]
     },
     "execution_count": 95,
     "metadata": {},
     "output_type": "execute_result"
    }
   ],
   "source": [
    "np.random.rand(5)"
   ]
  },
  {
   "cell_type": "code",
   "execution_count": 100,
   "id": "688dc4df",
   "metadata": {
    "ExecuteTime": {
     "end_time": "2023-09-22T06:37:45.987404Z",
     "start_time": "2023-09-22T06:37:45.961857Z"
    }
   },
   "outputs": [
    {
     "data": {
      "text/plain": [
       "array([[0.0187898 , 0.6176355 , 0.61209572],\n",
       "       [0.616934  , 0.94374808, 0.6818203 ],\n",
       "       [0.3595079 , 0.43703195, 0.6976312 ]])"
      ]
     },
     "execution_count": 100,
     "metadata": {},
     "output_type": "execute_result"
    }
   ],
   "source": [
    "arr1 = np.random.random((3, 3))  # 0~1 사이의 실수 균등 분포\n",
    "arr1"
   ]
  },
  {
   "cell_type": "code",
   "execution_count": 98,
   "id": "87996f5f",
   "metadata": {
    "ExecuteTime": {
     "end_time": "2023-09-22T06:36:55.787046Z",
     "start_time": "2023-09-22T06:36:55.771333Z"
    }
   },
   "outputs": [
    {
     "data": {
      "text/plain": [
       "array([[2.44386323, 2.33367433],\n",
       "       [3.49407907, 1.79484174],\n",
       "       [2.3130677 , 1.14590426]])"
      ]
     },
     "execution_count": 98,
     "metadata": {},
     "output_type": "execute_result"
    }
   ],
   "source": [
    "arr2 = np.random.normal(2,1,(3,2)) # 평균(2), 편차(1)인 정규분포\n",
    "arr2"
   ]
  },
  {
   "cell_type": "code",
   "execution_count": 99,
   "id": "3ab90042",
   "metadata": {
    "ExecuteTime": {
     "end_time": "2023-09-22T06:37:32.917609Z",
     "start_time": "2023-09-22T06:37:32.893059Z"
    }
   },
   "outputs": [
    {
     "data": {
      "text/plain": [
       "array([[-2.55298982,  0.6536186 ,  0.8644362 ],\n",
       "       [-0.74216502,  2.26975462, -1.45436567]])"
      ]
     },
     "execution_count": 99,
     "metadata": {},
     "output_type": "execute_result"
    }
   ],
   "source": [
    "arr3 = np.random.randn(2, 3) # 표준 정규분포(평균 0, 편차 1)\n",
    "arr3"
   ]
  },
  {
   "cell_type": "code",
   "execution_count": 101,
   "id": "eb106eb4",
   "metadata": {
    "ExecuteTime": {
     "end_time": "2023-09-22T06:38:17.134191Z",
     "start_time": "2023-09-22T06:38:17.118198Z"
    }
   },
   "outputs": [
    {
     "data": {
      "text/plain": [
       "array([[9, 9],\n",
       "       [3, 6]])"
      ]
     },
     "execution_count": 101,
     "metadata": {},
     "output_type": "execute_result"
    }
   ],
   "source": [
    "arr4 = np.random.randint(0, 10,(2, 2))\n",
    "arr4"
   ]
  },
  {
   "cell_type": "markdown",
   "id": "97235767",
   "metadata": {},
   "source": [
    "## 데이터 샘플링(sampling), shuffle 명령과 같다\n",
    "- np.choice(배열, size, replace, p)\n",
    "- 배열: arange(n)"
   ]
  },
  {
   "cell_type": "code",
   "execution_count": 103,
   "id": "f6683ac7",
   "metadata": {
    "ExecuteTime": {
     "end_time": "2023-09-22T06:41:52.559727Z",
     "start_time": "2023-09-22T06:41:52.532133Z"
    }
   },
   "outputs": [
    {
     "data": {
      "text/plain": [
       "array([1, 4, 0, 3, 2])"
      ]
     },
     "execution_count": 103,
     "metadata": {},
     "output_type": "execute_result"
    }
   ],
   "source": [
    "np.random.choice(5, 5, replace=False)  # replace=False: 중복 불가"
   ]
  },
  {
   "cell_type": "code",
   "execution_count": 104,
   "id": "1326eacc",
   "metadata": {
    "ExecuteTime": {
     "end_time": "2023-09-22T06:42:18.675744Z",
     "start_time": "2023-09-22T06:42:18.651752Z"
    }
   },
   "outputs": [
    {
     "data": {
      "text/plain": [
       "array([2, 4, 0])"
      ]
     },
     "execution_count": 104,
     "metadata": {},
     "output_type": "execute_result"
    }
   ],
   "source": [
    "np.random.choice(5, 3, replace=False)  # 0~4 중 3개"
   ]
  },
  {
   "cell_type": "code",
   "execution_count": 105,
   "id": "9b997641",
   "metadata": {
    "ExecuteTime": {
     "end_time": "2023-09-22T06:43:03.525798Z",
     "start_time": "2023-09-22T06:43:03.479681Z"
    }
   },
   "outputs": [
    {
     "ename": "ValueError",
     "evalue": "Cannot take a larger sample than population when 'replace=False'",
     "output_type": "error",
     "traceback": [
      "\u001b[1;31m---------------------------------------------------------------------------\u001b[0m",
      "\u001b[1;31mValueError\u001b[0m                                Traceback (most recent call last)",
      "Cell \u001b[1;32mIn[105], line 1\u001b[0m\n\u001b[1;32m----> 1\u001b[0m \u001b[43mnp\u001b[49m\u001b[38;5;241;43m.\u001b[39;49m\u001b[43mrandom\u001b[49m\u001b[38;5;241;43m.\u001b[39;49m\u001b[43mchoice\u001b[49m\u001b[43m(\u001b[49m\u001b[38;5;241;43m5\u001b[39;49m\u001b[43m,\u001b[49m\u001b[43m \u001b[49m\u001b[38;5;241;43m10\u001b[39;49m\u001b[43m,\u001b[49m\u001b[43m \u001b[49m\u001b[43mreplace\u001b[49m\u001b[38;5;241;43m=\u001b[39;49m\u001b[38;5;28;43;01mFalse\u001b[39;49;00m\u001b[43m)\u001b[49m\n",
      "File \u001b[1;32mmtrand.pyx:984\u001b[0m, in \u001b[0;36mnumpy.random.mtrand.RandomState.choice\u001b[1;34m()\u001b[0m\n",
      "\u001b[1;31mValueError\u001b[0m: Cannot take a larger sample than population when 'replace=False'"
     ]
    }
   ],
   "source": [
    "np.random.choice(5, 10, replace=False)  # Error(중복없이 10개 추출 불가)"
   ]
  },
  {
   "cell_type": "code",
   "execution_count": 106,
   "id": "20e90967",
   "metadata": {
    "ExecuteTime": {
     "end_time": "2023-09-22T06:44:07.302632Z",
     "start_time": "2023-09-22T06:44:07.276900Z"
    }
   },
   "outputs": [
    {
     "data": {
      "text/plain": [
       "array([0, 3, 3, 3, 3, 3, 3, 3, 3, 3])"
      ]
     },
     "execution_count": 106,
     "metadata": {},
     "output_type": "execute_result"
    }
   ],
   "source": [
    "np.random.choice(5, 10, p=[0.1, 0, 0.3, 0.6, 0])"
   ]
  },
  {
   "cell_type": "code",
   "execution_count": 107,
   "id": "fc6bcf4d",
   "metadata": {
    "ExecuteTime": {
     "end_time": "2023-09-22T06:47:03.103731Z",
     "start_time": "2023-09-22T06:47:03.081100Z"
    }
   },
   "outputs": [
    {
     "data": {
      "text/plain": [
       "array([0.33800761, 0.67475232, 0.31720174, 0.77834548, 0.94957105,\n",
       "       0.66252687, 0.01357164, 0.6228461 , 0.67365963, 0.971945  ])"
      ]
     },
     "execution_count": 107,
     "metadata": {},
     "output_type": "execute_result"
    }
   ],
   "source": [
    "# 0에서 1 사이의 균일분포\n",
    "np.random.rand(10)"
   ]
  },
  {
   "cell_type": "code",
   "execution_count": 108,
   "id": "1fa6f603",
   "metadata": {
    "ExecuteTime": {
     "end_time": "2023-09-22T06:47:17.617463Z",
     "start_time": "2023-09-22T06:47:17.594262Z"
    }
   },
   "outputs": [
    {
     "data": {
      "text/plain": [
       "array([[0.87819347, 0.50962438, 0.05571469, 0.45115921, 0.01998767],\n",
       "       [0.44171092, 0.97958673, 0.35944446, 0.48089353, 0.68866118],\n",
       "       [0.88047589, 0.91823547, 0.21682214, 0.56518887, 0.86510256]])"
      ]
     },
     "execution_count": 108,
     "metadata": {},
     "output_type": "execute_result"
    }
   ],
   "source": [
    "np.random.rand(3,5)"
   ]
  },
  {
   "cell_type": "code",
   "execution_count": 109,
   "id": "6f85b930",
   "metadata": {
    "ExecuteTime": {
     "end_time": "2023-09-22T06:47:55.271680Z",
     "start_time": "2023-09-22T06:47:55.261312Z"
    }
   },
   "outputs": [
    {
     "data": {
      "text/plain": [
       "array([12, 19, 11, 14, 16, 18, 12, 13, 10, 10])"
      ]
     },
     "execution_count": 109,
     "metadata": {},
     "output_type": "execute_result"
    }
   ],
   "source": [
    "# np.random.randint(low, high=None, size)\n",
    "np.random.randint(10, 20, size=10)"
   ]
  },
  {
   "cell_type": "code",
   "execution_count": 110,
   "id": "6040e4a8",
   "metadata": {
    "ExecuteTime": {
     "end_time": "2023-09-22T06:48:20.361848Z",
     "start_time": "2023-09-22T06:48:20.336504Z"
    }
   },
   "outputs": [
    {
     "data": {
      "text/plain": [
       "array([[16, 10, 16, 13, 13],\n",
       "       [18, 18, 18, 12, 13],\n",
       "       [12, 10, 18, 18, 13]])"
      ]
     },
     "execution_count": 110,
     "metadata": {},
     "output_type": "execute_result"
    }
   ],
   "source": [
    "np.random.randint(10, 20, size =(3, 5))"
   ]
  },
  {
   "cell_type": "markdown",
   "id": "9ef42eb1",
   "metadata": {},
   "source": [
    "## 정수 데이터 카운팅\n",
    "- unique: 중복을 제거하고 중복되지 않은 값\n",
    "- return_counts = True, 각 값의 갯수"
   ]
  },
  {
   "cell_type": "code",
   "execution_count": 111,
   "id": "c0c482da",
   "metadata": {
    "ExecuteTime": {
     "end_time": "2023-09-22T06:50:03.811749Z",
     "start_time": "2023-09-22T06:50:03.786955Z"
    }
   },
   "outputs": [
    {
     "data": {
      "text/plain": [
       "array([ 2,  3, 11])"
      ]
     },
     "execution_count": 111,
     "metadata": {},
     "output_type": "execute_result"
    }
   ],
   "source": [
    "np.unique([11,11,2,2,3,3])"
   ]
  },
  {
   "cell_type": "code",
   "execution_count": 112,
   "id": "afbc1612",
   "metadata": {
    "ExecuteTime": {
     "end_time": "2023-09-22T06:51:52.856418Z",
     "start_time": "2023-09-22T06:51:52.834224Z"
    }
   },
   "outputs": [
    {
     "data": {
      "text/plain": [
       "array(['a', 'b', 'c', 'b', 'a'], dtype='<U1')"
      ]
     },
     "execution_count": 112,
     "metadata": {},
     "output_type": "execute_result"
    }
   ],
   "source": [
    "a = np.array(['a', 'b', 'c', 'b', 'a'])\n",
    "a"
   ]
  },
  {
   "cell_type": "code",
   "execution_count": 113,
   "id": "7d48f25a",
   "metadata": {
    "ExecuteTime": {
     "end_time": "2023-09-22T06:51:57.577779Z",
     "start_time": "2023-09-22T06:51:57.553709Z"
    }
   },
   "outputs": [
    {
     "data": {
      "text/plain": [
       "array(['a', 'b', 'c'], dtype='<U1')"
      ]
     },
     "execution_count": 113,
     "metadata": {},
     "output_type": "execute_result"
    }
   ],
   "source": [
    "np.unique(a)"
   ]
  },
  {
   "cell_type": "code",
   "execution_count": 114,
   "id": "6d863655",
   "metadata": {
    "ExecuteTime": {
     "end_time": "2023-09-22T06:52:27.609960Z",
     "start_time": "2023-09-22T06:52:27.580982Z"
    }
   },
   "outputs": [],
   "source": [
    "index, count = np.unique(a, return_counts=True)"
   ]
  },
  {
   "cell_type": "code",
   "execution_count": 115,
   "id": "11565c7b",
   "metadata": {
    "ExecuteTime": {
     "end_time": "2023-09-22T06:52:30.960760Z",
     "start_time": "2023-09-22T06:52:30.937835Z"
    }
   },
   "outputs": [
    {
     "data": {
      "text/plain": [
       "array(['a', 'b', 'c'], dtype='<U1')"
      ]
     },
     "execution_count": 115,
     "metadata": {},
     "output_type": "execute_result"
    }
   ],
   "source": [
    "index"
   ]
  },
  {
   "cell_type": "code",
   "execution_count": 116,
   "id": "ada7950d",
   "metadata": {
    "ExecuteTime": {
     "end_time": "2023-09-22T06:52:33.949281Z",
     "start_time": "2023-09-22T06:52:33.925733Z"
    }
   },
   "outputs": [
    {
     "data": {
      "text/plain": [
       "array([2, 2, 1], dtype=int64)"
      ]
     },
     "execution_count": 116,
     "metadata": {},
     "output_type": "execute_result"
    }
   ],
   "source": [
    "count"
   ]
  },
  {
   "cell_type": "markdown",
   "id": "ae9664cd",
   "metadata": {},
   "source": [
    "# Data Analysis - 2nd"
   ]
  },
  {
   "cell_type": "code",
   "execution_count": 117,
   "id": "9e641e29",
   "metadata": {
    "ExecuteTime": {
     "end_time": "2023-09-22T07:04:38.935209Z",
     "start_time": "2023-09-22T07:04:38.907995Z"
    }
   },
   "outputs": [
    {
     "data": {
      "text/plain": [
       "array([[5, 5, 5],\n",
       "       [5, 5, 5]])"
      ]
     },
     "execution_count": 117,
     "metadata": {},
     "output_type": "execute_result"
    }
   ],
   "source": [
    "# zeros, ones, full, eye\n",
    "a = np.full((2, 3), 5)  # 2행 3열을 5로 채워라\n",
    "a"
   ]
  },
  {
   "cell_type": "code",
   "execution_count": 118,
   "id": "ff9edebe",
   "metadata": {
    "ExecuteTime": {
     "end_time": "2023-09-22T07:06:16.091657Z",
     "start_time": "2023-09-22T07:06:16.065528Z"
    }
   },
   "outputs": [
    {
     "name": "stdout",
     "output_type": "stream",
     "text": [
      "[[1. 0. 0.]\n",
      " [0. 1. 0.]\n",
      " [0. 0. 1.]]\n"
     ]
    }
   ],
   "source": [
    "# eye: 정방행렬(행과 열의 수가 같은)\n",
    "b = np.eye(3)\n",
    "print(b)"
   ]
  },
  {
   "cell_type": "code",
   "execution_count": 119,
   "id": "99648924",
   "metadata": {
    "ExecuteTime": {
     "end_time": "2023-09-22T07:11:15.489500Z",
     "start_time": "2023-09-22T07:11:15.475949Z"
    }
   },
   "outputs": [
    {
     "data": {
      "text/plain": [
       "array([[1, 2, 3],\n",
       "       [4, 5, 6],\n",
       "       [7, 8, 9]])"
      ]
     },
     "execution_count": 119,
     "metadata": {},
     "output_type": "execute_result"
    }
   ],
   "source": [
    "arr2d = np.array([[1,2,3], [4,5,6], [7,8,9]])\n",
    "arr2d"
   ]
  },
  {
   "cell_type": "code",
   "execution_count": 120,
   "id": "75dada67",
   "metadata": {
    "ExecuteTime": {
     "end_time": "2023-09-22T07:11:33.922769Z",
     "start_time": "2023-09-22T07:11:33.906659Z"
    }
   },
   "outputs": [
    {
     "data": {
      "text/plain": [
       "array([7, 8, 9])"
      ]
     },
     "execution_count": 120,
     "metadata": {},
     "output_type": "execute_result"
    }
   ],
   "source": [
    "arr2d[2]  # 인덱스가 1개만 주어진다면 행을 뜻한다."
   ]
  },
  {
   "cell_type": "code",
   "execution_count": 121,
   "id": "d58d4c55",
   "metadata": {
    "ExecuteTime": {
     "end_time": "2023-09-22T07:12:02.242748Z",
     "start_time": "2023-09-22T07:12:02.226843Z"
    }
   },
   "outputs": [
    {
     "data": {
      "text/plain": [
       "7"
      ]
     },
     "execution_count": 121,
     "metadata": {},
     "output_type": "execute_result"
    }
   ],
   "source": [
    "arr2d[2][0] # 2행 1열"
   ]
  },
  {
   "cell_type": "code",
   "execution_count": 122,
   "id": "2c342c41",
   "metadata": {
    "ExecuteTime": {
     "end_time": "2023-09-22T07:27:40.314514Z",
     "start_time": "2023-09-22T07:27:40.298453Z"
    }
   },
   "outputs": [],
   "source": [
    "a = np.array([[1,2,3,4], [5,6,7,8], [9,10,11,12]])"
   ]
  },
  {
   "cell_type": "code",
   "execution_count": 123,
   "id": "cd39c1f9",
   "metadata": {
    "ExecuteTime": {
     "end_time": "2023-09-22T07:28:19.861018Z",
     "start_time": "2023-09-22T07:28:19.838139Z"
    }
   },
   "outputs": [
    {
     "data": {
      "text/plain": [
       "array([[ 1,  2,  3,  4],\n",
       "       [ 5,  6,  7,  8],\n",
       "       [ 9, 10, 11, 12]])"
      ]
     },
     "execution_count": 123,
     "metadata": {},
     "output_type": "execute_result"
    }
   ],
   "source": [
    "b = a # b = a[:] 얕은복사(주소공유)\n",
    "b"
   ]
  },
  {
   "cell_type": "code",
   "execution_count": 124,
   "id": "b45420c0",
   "metadata": {
    "ExecuteTime": {
     "end_time": "2023-09-22T07:28:48.491630Z",
     "start_time": "2023-09-22T07:28:48.467468Z"
    }
   },
   "outputs": [
    {
     "name": "stdout",
     "output_type": "stream",
     "text": [
      "[[100   2   3   4]\n",
      " [  5   6   7   8]\n",
      " [  9  10  11  12]]\n",
      "[[100   2   3   4]\n",
      " [  5   6   7   8]\n",
      " [  9  10  11  12]]\n"
     ]
    }
   ],
   "source": [
    "a[0,0] = 100\n",
    "print(a)\n",
    "print(b)"
   ]
  },
  {
   "cell_type": "code",
   "execution_count": 125,
   "id": "67e2822f",
   "metadata": {
    "ExecuteTime": {
     "end_time": "2023-09-22T07:29:29.975923Z",
     "start_time": "2023-09-22T07:29:29.950793Z"
    }
   },
   "outputs": [
    {
     "data": {
      "text/plain": [
       "array([[100,   2,   3,   4],\n",
       "       [  5,   6,   7,   8],\n",
       "       [  9,  10,  11,  12]])"
      ]
     },
     "execution_count": 125,
     "metadata": {},
     "output_type": "execute_result"
    }
   ],
   "source": [
    "# copy(): 깊은 복사\n",
    "c = a.copy()\n",
    "c"
   ]
  },
  {
   "cell_type": "code",
   "execution_count": 127,
   "id": "c3d984f4",
   "metadata": {
    "ExecuteTime": {
     "end_time": "2023-09-22T07:29:55.487242Z",
     "start_time": "2023-09-22T07:29:55.474395Z"
    }
   },
   "outputs": [
    {
     "name": "stdout",
     "output_type": "stream",
     "text": [
      "[[100   2   3   4]\n",
      " [  5   6   7   8]\n",
      " [  9  10  11  12]]\n",
      "[[100   2   3   4]\n",
      " [  5 100   7   8]\n",
      " [  9  10  11  12]]\n"
     ]
    }
   ],
   "source": [
    "a[1,1] = 100\n",
    "print(c)\n",
    "print(a)"
   ]
  },
  {
   "cell_type": "code",
   "execution_count": 128,
   "id": "ca5a68c0",
   "metadata": {
    "ExecuteTime": {
     "end_time": "2023-09-22T07:33:22.127406Z",
     "start_time": "2023-09-22T07:33:22.114798Z"
    }
   },
   "outputs": [
    {
     "data": {
      "text/plain": [
       "array([[[ 1,  2,  3],\n",
       "        [ 4,  5,  6]],\n",
       "\n",
       "       [[ 7,  8,  9],\n",
       "        [10, 11, 12]]])"
      ]
     },
     "execution_count": 128,
     "metadata": {},
     "output_type": "execute_result"
    }
   ],
   "source": [
    "array = np.array([[[1,2,3], [4,5,6]], [[7,8,9],[10,11,12]]])\n",
    "array"
   ]
  },
  {
   "cell_type": "code",
   "execution_count": 130,
   "id": "5993b665",
   "metadata": {
    "ExecuteTime": {
     "end_time": "2023-09-22T07:33:43.075350Z",
     "start_time": "2023-09-22T07:33:43.049869Z"
    }
   },
   "outputs": [
    {
     "data": {
      "text/plain": [
       "array([[1, 2, 3],\n",
       "       [4, 5, 6]])"
      ]
     },
     "execution_count": 130,
     "metadata": {},
     "output_type": "execute_result"
    }
   ],
   "source": [
    "arr1 = array[0].copy()\n",
    "arr1"
   ]
  },
  {
   "cell_type": "code",
   "execution_count": 131,
   "id": "2a07bfa4",
   "metadata": {
    "ExecuteTime": {
     "end_time": "2023-09-22T07:33:52.130154Z",
     "start_time": "2023-09-22T07:33:52.107472Z"
    }
   },
   "outputs": [
    {
     "data": {
      "text/plain": [
       "array([4, 5, 6])"
      ]
     },
     "execution_count": 131,
     "metadata": {},
     "output_type": "execute_result"
    }
   ],
   "source": [
    "array[0][1]"
   ]
  },
  {
   "cell_type": "code",
   "execution_count": 132,
   "id": "a46b17ab",
   "metadata": {
    "ExecuteTime": {
     "end_time": "2023-09-22T07:34:01.542425Z",
     "start_time": "2023-09-22T07:34:01.527188Z"
    }
   },
   "outputs": [
    {
     "data": {
      "text/plain": [
       "array([4, 5, 6])"
      ]
     },
     "execution_count": 132,
     "metadata": {},
     "output_type": "execute_result"
    }
   ],
   "source": [
    "array[0,1, :]"
   ]
  },
  {
   "cell_type": "code",
   "execution_count": 135,
   "id": "27646f94",
   "metadata": {
    "ExecuteTime": {
     "end_time": "2023-09-22T07:36:48.761729Z",
     "start_time": "2023-09-22T07:36:48.732033Z"
    }
   },
   "outputs": [
    {
     "data": {
      "text/plain": [
       "array([[ 0,  1,  2,  3,  4],\n",
       "       [ 5,  6,  7,  8,  9],\n",
       "       [10, 11, 12, 13, 14]])"
      ]
     },
     "execution_count": 135,
     "metadata": {},
     "output_type": "execute_result"
    }
   ],
   "source": [
    "arr = np.arange(15).reshape(3, -1)\n",
    "arr"
   ]
  },
  {
   "cell_type": "code",
   "execution_count": 134,
   "id": "33c59e6c",
   "metadata": {
    "ExecuteTime": {
     "end_time": "2023-09-22T07:36:43.075420Z",
     "start_time": "2023-09-22T07:36:43.063146Z"
    }
   },
   "outputs": [
    {
     "data": {
      "text/plain": [
       "array([[ 0,  5, 10],\n",
       "       [ 1,  6, 11],\n",
       "       [ 2,  7, 12],\n",
       "       [ 3,  8, 13],\n",
       "       [ 4,  9, 14]])"
      ]
     },
     "execution_count": 134,
     "metadata": {},
     "output_type": "execute_result"
    }
   ],
   "source": [
    "arr.T"
   ]
  },
  {
   "cell_type": "code",
   "execution_count": 137,
   "id": "a32e329d",
   "metadata": {
    "ExecuteTime": {
     "end_time": "2023-09-22T07:39:16.824143Z",
     "start_time": "2023-09-22T07:39:16.801558Z"
    }
   },
   "outputs": [],
   "source": [
    "ary1 = np.array([1,2,2,3,4,4,5,6,7,8,8,8])\n",
    "np.random.shuffle(ary1)  # 요소들을 섞어라"
   ]
  },
  {
   "cell_type": "code",
   "execution_count": 138,
   "id": "5a178e3f",
   "metadata": {
    "ExecuteTime": {
     "end_time": "2023-09-22T07:39:21.556172Z",
     "start_time": "2023-09-22T07:39:21.531947Z"
    }
   },
   "outputs": [
    {
     "data": {
      "text/plain": [
       "array([5, 8, 2, 4, 1, 6, 3, 4, 8, 2, 8, 7])"
      ]
     },
     "execution_count": 138,
     "metadata": {},
     "output_type": "execute_result"
    }
   ],
   "source": [
    "ary1"
   ]
  },
  {
   "cell_type": "code",
   "execution_count": null,
   "id": "f95fa377",
   "metadata": {},
   "outputs": [],
   "source": []
  }
 ],
 "metadata": {
  "kernelspec": {
   "display_name": "Python 3 (ipykernel)",
   "language": "python",
   "name": "python3"
  },
  "language_info": {
   "codemirror_mode": {
    "name": "ipython",
    "version": 3
   },
   "file_extension": ".py",
   "mimetype": "text/x-python",
   "name": "python",
   "nbconvert_exporter": "python",
   "pygments_lexer": "ipython3",
   "version": "3.8.17"
  },
  "toc": {
   "base_numbering": 1,
   "nav_menu": {},
   "number_sections": true,
   "sideBar": true,
   "skip_h1_title": false,
   "title_cell": "Table of Contents",
   "title_sidebar": "Contents",
   "toc_cell": false,
   "toc_position": {
    "height": "calc(100% - 180px)",
    "left": "10px",
    "top": "150px",
    "width": "219.429px"
   },
   "toc_section_display": true,
   "toc_window_display": true
  },
  "varInspector": {
   "cols": {
    "lenName": 16,
    "lenType": 16,
    "lenVar": 40
   },
   "kernels_config": {
    "python": {
     "delete_cmd_postfix": "",
     "delete_cmd_prefix": "del ",
     "library": "var_list.py",
     "varRefreshCmd": "print(var_dic_list())"
    },
    "r": {
     "delete_cmd_postfix": ") ",
     "delete_cmd_prefix": "rm(",
     "library": "var_list.r",
     "varRefreshCmd": "cat(var_dic_list()) "
    }
   },
   "types_to_exclude": [
    "module",
    "function",
    "builtin_function_or_method",
    "instance",
    "_Feature"
   ],
   "window_display": false
  }
 },
 "nbformat": 4,
 "nbformat_minor": 5
}
