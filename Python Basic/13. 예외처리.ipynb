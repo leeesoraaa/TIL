{
 "cells": [
  {
   "cell_type": "markdown",
   "id": "937f9917",
   "metadata": {},
   "source": [
    "# 에러와 예외\n",
    "\n",
    "1. 에러(Syntax Error)\n",
    "  - 문법적 에러  \n",
    "  - 파이썬은 상대적으로 언어적 문법이 간단하므로 구문 자체의 에러 발생 비율이 낮다.  \n",
    "  \n",
    "2. 예외(Exception)  \n",
    "  - 구문 에러는 없으나 프로그램 실행 중 더 이상 진행할 수 없는 상황  \n",
    "  - 예외가 발생하면 프로그램은 바로 종료된다.  \n",
    "  - 개발자에 의해 임의로 또는 강제로 발생시키는 에러  \n",
    "  \n",
    "3. 예외처리 방법  \n",
    "  - try 구문: 예외가 발생할 만한 문구를 기술  \n",
    "  - except Exception: 예외가 발생했을 때 실행할 문장 기술  \n",
    "  - else: 예외가 발생하지 않았을 때 실행할 문장 기술  \n",
    "  - finally: 예외와 상관없이 실행할 문장을 기술  "
   ]
  },
  {
   "cell_type": "code",
   "execution_count": null,
   "id": "d20c9790",
   "metadata": {
    "ExecuteTime": {
     "end_time": "2023-08-28T08:30:43.611071Z",
     "start_time": "2023-08-28T08:30:43.425347Z"
    }
   },
   "outputs": [],
   "source": [
    "# 일반적인 프로그램의 흐름은 위에서 아래로, 좌에서 우로 진행된다.\n",
    "print(\"start\")\n",
    "4/0  # 예외 발생하자마자 프로그램 종료\n",
    "print(\"end\")"
   ]
  },
  {
   "cell_type": "markdown",
   "id": "d213d7da",
   "metadata": {},
   "source": [
    "## 예외처리"
   ]
  },
  {
   "cell_type": "markdown",
   "id": "9e12cf75",
   "metadata": {},
   "source": [
    "- 파이썬 내장 예외 종류  \n",
    "http://docs.python.org/3/library/exceptions.html"
   ]
  },
  {
   "cell_type": "code",
   "execution_count": null,
   "id": "026cc2c7",
   "metadata": {
    "ExecuteTime": {
     "end_time": "2023-08-28T08:37:41.558023Z",
     "start_time": "2023-08-28T08:37:41.537743Z"
    }
   },
   "outputs": [],
   "source": [
    "print(\"start\")\n",
    "\n",
    "try:   # 예외가 발생할 만한 구문을 기술함 -- 예외가 발생해도 프로그램이 종료되지 않도록\n",
    "    4/0 \n",
    "except ZeroDivisionError as e:\n",
    "    print(e)  # e.message(division by zero)\n",
    "\n",
    "print(\"end\")"
   ]
  },
  {
   "cell_type": "code",
   "execution_count": null,
   "id": "53cbe0d1",
   "metadata": {
    "ExecuteTime": {
     "end_time": "2023-08-28T08:42:24.106760Z",
     "start_time": "2023-08-28T08:42:16.756439Z"
    }
   },
   "outputs": [],
   "source": [
    "print(\"종료하려면 q를 입력하세요.\")\n",
    "\n",
    "while True:\n",
    "    num1 = input(\"\\n분자 = \")\n",
    "    if num1 == \"q\":\n",
    "        break\n",
    "    num2 = input(\"분모 = \")\n",
    "    \n",
    "    result = int(num1) / int(num2)\n",
    "    \n",
    "    print(f\"{num1} / {num2} = {result}\")\n",
    "    \n",
    "print(\"프로그램을 종료합니다.\")"
   ]
  },
  {
   "cell_type": "code",
   "execution_count": null,
   "id": "02c6cf8a",
   "metadata": {
    "ExecuteTime": {
     "end_time": "2023-08-28T08:45:28.706645Z",
     "start_time": "2023-08-28T08:45:04.568471Z"
    }
   },
   "outputs": [],
   "source": [
    "# zero division 예외처리\n",
    "print(\"종료하려면 q를 입력하세요.\")\n",
    "\n",
    "while True:\n",
    "    num1 = input(\"\\n분자 = \")\n",
    "    if num1 == \"q\":\n",
    "        break\n",
    "    num2 = input(\"분모 = \")\n",
    "    try:\n",
    "        result = int(num1) / int(num2)\n",
    "        print(f\"{num1} / {num2} = {result}\")\n",
    "    except Exception as e:\n",
    "        print(\"분모에 0이 입력될 수 없습니다.\")\n",
    "        print(\"오류 메시지:\", e)\n",
    "    \n",
    "print(\"프로그램을 종료합니다.\")"
   ]
  },
  {
   "cell_type": "code",
   "execution_count": null,
   "id": "9d097f0a",
   "metadata": {
    "ExecuteTime": {
     "end_time": "2023-08-29T00:26:02.225813Z",
     "start_time": "2023-08-29T00:25:47.994001Z"
    }
   },
   "outputs": [],
   "source": [
    "# zero division 예외처리\n",
    "print(\"종료하려면 q를 입력하세요.\")\n",
    "\n",
    "while True:\n",
    "    num1 = input(\"\\n분자 = \")\n",
    "    if num1 == \"q\":\n",
    "        break\n",
    "    num2 = input(\"분모 = \")\n",
    "    try:\n",
    "        result = int(num1) / int(num2)\n",
    "        print(f\"{num1} / {num2} = {result}\")\n",
    "    except ZeroDivisionError as e:\n",
    "        print(\"분모에 0이 입력될 수 없습니다.\")\n",
    "        print(\"오류 메시지:\", e)\n",
    "    except ValueError as e:\n",
    "        print(\"나누기는 숫자로만 처리됩니다.\")\n",
    "        print(\"오류 메시지:\", e)\n",
    "print(\"프로그램을 종료합니다.\")"
   ]
  },
  {
   "cell_type": "code",
   "execution_count": null,
   "id": "4f7f059f",
   "metadata": {
    "ExecuteTime": {
     "end_time": "2023-08-28T08:46:49.555966Z",
     "start_time": "2023-08-28T08:46:49.542991Z"
    }
   },
   "outputs": [],
   "source": [
    "def exception_test():\n",
    "    print(\"start\")\n",
    "    print(2 + \"2\")\n",
    "    print(\"end\")\n",
    "    \n",
    "exception_test()"
   ]
  },
  {
   "cell_type": "code",
   "execution_count": null,
   "id": "070be465",
   "metadata": {
    "ExecuteTime": {
     "end_time": "2023-08-28T08:49:04.388774Z",
     "start_time": "2023-08-28T08:49:04.372796Z"
    }
   },
   "outputs": [],
   "source": [
    "def exception_test():\n",
    "    print(\"start\")\n",
    "    try:\n",
    "        print(2 + \"2\")\n",
    "    except TypeError as e:\n",
    "        print(\"에러: {}\".format(e))\n",
    "        print(\"자료형이 일치하지 않습니다.\")\n",
    "    print(\"end\")\n",
    "    \n",
    "exception_test()"
   ]
  },
  {
   "cell_type": "code",
   "execution_count": null,
   "id": "e9549e7f",
   "metadata": {
    "ExecuteTime": {
     "end_time": "2023-08-29T00:06:37.070852Z",
     "start_time": "2023-08-29T00:06:37.048785Z"
    }
   },
   "outputs": [],
   "source": [
    "print(\"Hello Python\")"
   ]
  },
  {
   "cell_type": "code",
   "execution_count": null,
   "id": "5abd656a",
   "metadata": {
    "ExecuteTime": {
     "end_time": "2023-08-29T00:06:55.840180Z",
     "start_time": "2023-08-29T00:06:55.648264Z"
    }
   },
   "outputs": [],
   "source": [
    "Print(\"Hello Python\") # SyntaxError"
   ]
  },
  {
   "cell_type": "markdown",
   "id": "09ffde87",
   "metadata": {},
   "source": [
    "## 파일입출력에서의 예외처리"
   ]
  },
  {
   "cell_type": "code",
   "execution_count": null,
   "id": "e29406f8",
   "metadata": {
    "ExecuteTime": {
     "end_time": "2023-08-29T00:32:50.896555Z",
     "start_time": "2023-08-29T00:32:50.886241Z"
    }
   },
   "outputs": [],
   "source": [
    "# step1. 파일 객체 생성과 파일오픈\n",
    "## open(파일이름, 모드), 모드: r, w, a\n",
    "f = open(\"test2.txt\", \"r\")  # FileNotFoundError\n",
    "\n",
    "# step2. 실제 처리할 작업을 기술(비즈니스 로직)\n",
    "while True:\n",
    "    line = f.readline()  # 줄단위로 읽어오기\n",
    "    if not line:\n",
    "        break\n",
    "    print(line, end = '')\n",
    "    \n",
    "# step3. 파일 객체 닫기\n",
    "f.close()"
   ]
  },
  {
   "cell_type": "code",
   "execution_count": null,
   "id": "294987c6",
   "metadata": {
    "ExecuteTime": {
     "end_time": "2023-08-29T00:37:18.792660Z",
     "start_time": "2023-08-29T00:37:18.785576Z"
    }
   },
   "outputs": [],
   "source": [
    "# step1. 파일 객체 생성과 파일오픈\n",
    "## open(파일이름, 모드), 모드: r, w, a\n",
    "try:\n",
    "    f = open(\"test2.txt\", \"r\")  \n",
    "except FileNotFoundError as e:\n",
    "    print(\"에러메시지: \", e)\n",
    "    print(\"해당 파일이 존재하지 않습니다.\")\n",
    "    \n",
    "else:\n",
    "    # step2. 실제 처리할 작업을 기술(비즈니스 로직)\n",
    "    while True:\n",
    "        line = f.readline()  # 줄단위로 읽어오기\n",
    "        if not line:\n",
    "             break\n",
    "        print(line, end = '')\n",
    "        \n",
    "    # step3. 파일객체 닫기\n",
    "    f.close()\n",
    "    "
   ]
  },
  {
   "cell_type": "markdown",
   "id": "7c0c2bb5",
   "metadata": {},
   "source": [
    "## 계산기 프로그램\n",
    "- 처리조건  \n",
    "1. 두 개의 숫자와 하나의 연산자를 입력받아 사칙연산을 수행하는 프로그램을 구현하시오.  \n",
    "2. 연산자는 +,-,*,/만 입력되도록 한다. 이외의 연산자가 들어오면 예외처리 수행  \n",
    "3. 연산자가 / 이고, 두번째로 입력받은 숫자(분모)가 0이면 예외처리 수행  \n",
    "4. 계산을 수행할 값이 숫자가 아닌 값이 들어오면 예외처리 수행  \n",
    "5. 주어진 입출력형식에 맞게 프로그램을 구현한다.  \n",
    "6. 사용자가 원하는 연산을 수행할 수 있도록 구현한다.  \n",
    "7. 첫번째 수로 q이 입력되면 프로그램을 종료한다.  \n",
    "\n",
    "- 입력형식  \n",
    "첫번째 수 =  \n",
    "연산자(+,-,*,/) =   \n",
    "두번째수 =   \n",
    "  \n",
    "- 출력형식  \n",
    "10 - 4 = 6  "
   ]
  },
  {
   "cell_type": "code",
   "execution_count": 1,
   "id": "6cf41e4c",
   "metadata": {
    "ExecuteTime": {
     "end_time": "2023-08-30T07:16:05.002820Z",
     "start_time": "2023-08-30T07:16:04.991355Z"
    }
   },
   "outputs": [],
   "source": [
    "# 연산 함수 생성\n",
    "def add(num1, num2):\n",
    "    print(f\"{num1} + {num2} = {num1 + num2}\")\n",
    "\n",
    "def sub(num1, num2):\n",
    "    print(f\"{num1} - {num2} = {num1 - num2}\")\n",
    "\n",
    "def mul(num1, num2):\n",
    "    print(f\"{num1} * {num2} = {num1 * num2}\")\n",
    "\n",
    "def div(num1, num2):\n",
    "    try:\n",
    "        print(f\"{num1} / {num2} = {num1 / num2}\")\n",
    "    except ZeroDivisionError as e:\n",
    "        print(\"에러메세지: \", e)\n",
    "        print(\"분모는 0일 수 없습니다.\")\n"
   ]
  },
  {
   "cell_type": "code",
   "execution_count": null,
   "id": "99115942",
   "metadata": {
    "ExecuteTime": {
     "end_time": "2023-08-30T06:48:09.965819Z",
     "start_time": "2023-08-30T06:48:09.953704Z"
    }
   },
   "outputs": [],
   "source": [
    "add(1,2)"
   ]
  },
  {
   "cell_type": "code",
   "execution_count": null,
   "id": "068bbf7d",
   "metadata": {
    "ExecuteTime": {
     "end_time": "2023-08-30T06:49:27.218181Z",
     "start_time": "2023-08-30T06:49:27.200981Z"
    }
   },
   "outputs": [],
   "source": [
    "div(5,0)"
   ]
  },
  {
   "cell_type": "code",
   "execution_count": null,
   "id": "cbeb1a54",
   "metadata": {
    "ExecuteTime": {
     "end_time": "2023-08-30T06:53:15.761969Z",
     "start_time": "2023-08-30T06:53:05.459814Z"
    }
   },
   "outputs": [],
   "source": [
    "while True:\n",
    "    num1 = input('숫자1 = ')\n",
    "    if num1 == 'q':\n",
    "        print(\"프로그램을 종료합니다.\")\n",
    "        break\n",
    "    else:\n",
    "        op = input('연산자(+,-,*,/) = ')\n",
    "        num2 = eval(input('숫자2 = '))\n",
    "        if op == '+':\n",
    "            add(eval(num1), num2)\n",
    "        elif op == '-':\n",
    "            sub(eval(num1), num2)\n",
    "        elif op == '*':\n",
    "            mul(eval(num1), num2) \n",
    "        elif op == '/':\n",
    "            div(eval(num1), num2)    \n",
    "        else:\n",
    "            print(\"선택이 올바르지 않습니다.\")\n",
    "            "
   ]
  },
  {
   "cell_type": "code",
   "execution_count": null,
   "id": "79480f16",
   "metadata": {
    "ExecuteTime": {
     "end_time": "2023-08-30T07:01:40.937232Z",
     "start_time": "2023-08-30T07:01:21.142369Z"
    }
   },
   "outputs": [],
   "source": [
    "while True:\n",
    "    try:\n",
    "        num1 = int(input('숫자1 = '))\n",
    "    except Exception as e:\n",
    "        print(\"올바른 값이 아닙니다.\")\n",
    "    else:\n",
    "        if num1 == 0:\n",
    "            print(\"프로그램을 종료합니다.\")\n",
    "            break\n",
    "        else:\n",
    "            op = input('연산자(+,-,*,/) = ')\n",
    "            if(op != \"+\" and op != \"-\" and op != \"*\" and op != \"/\"):\n",
    "                print(\"연산자가 올바르지 않습니다.\")  \n",
    "                op = input('연산자(+,-,*,/) = ')\n",
    "             \n",
    "            num2 = eval(input('숫자2 = '))\n",
    "            if op == \"/\" and num2 == 0:\n",
    "                print(\"0으로 나눌 수 없습니다.\")\n",
    "            else:    \n",
    "                if op == '+':\n",
    "                    add(eval(num1), num2)\n",
    "                elif op == '-':\n",
    "                    sub(eval(num1), num2)\n",
    "                elif op == '*':\n",
    "                    mul(eval(num1), num2) \n",
    "                elif op == '/':\n",
    "                    div(eval(num1), num2)    \n",
    "                else:\n",
    "                    print(\"선택이 올바르지 않습니다.\")\n",
    "            "
   ]
  },
  {
   "cell_type": "code",
   "execution_count": 2,
   "id": "170b1667",
   "metadata": {
    "ExecuteTime": {
     "end_time": "2023-08-30T07:16:35.860810Z",
     "start_time": "2023-08-30T07:16:10.317000Z"
    }
   },
   "outputs": [
    {
     "name": "stdout",
     "output_type": "stream",
     "text": [
      "숫자1 = 1\n",
      "연산자(+, -, *, /) = h\n",
      "숫자2 = 2\n",
      "연산자가 올바르지 않습니다.\n",
      "연산자(+, -, *, /) = -\n",
      "숫자1 = 0\n",
      "연산자(+, -, *, /) = +\n",
      "숫자2 = 1\n",
      "프로그램을 종료합니다.\n"
     ]
    }
   ],
   "source": [
    "while True:\n",
    "    try:\n",
    "        num1 = eval(input(\"숫자1 = \"))\n",
    "        op = input(\"연산자(+, -, *, /) = \")\n",
    "        num2 = eval(input(\"숫자2 = \"))\n",
    "    except ValueError as e:\n",
    "        print(\"문자를 입력하면 연산을 수행할 수 없습니다.\")\n",
    "    except ZeroDivisionError as e:\n",
    "        print(\"0으로 나눌 수 없습니다.\")\n",
    "    else:\n",
    "        if num1 == 0:\n",
    "            print(\"프로그램을 종료합니다.\")\n",
    "            break\n",
    "        else:\n",
    "            if(op != \"+\" and op != \"-\" and op != \"*\" and op != \"/\"):\n",
    "                print(\"연산자가 올바르지 않습니다.\")\n",
    "                op = input(\"연산자(+, -, *, /) = \")\n",
    "            else:                \n",
    "                if op == '+':\n",
    "                    add(num1, num2)\n",
    "                elif op == '-':\n",
    "                     sub(num1, num2)\n",
    "                elif op == '*':\n",
    "                     mul(num1, num2) \n",
    "                elif op == '/':\n",
    "                     div(num1, num2)    \n",
    "                else:\n",
    "                     print(\"선택이 올바르지 않습니다.\")"
   ]
  },
  {
   "cell_type": "code",
   "execution_count": null,
   "id": "bf675c44",
   "metadata": {
    "ExecuteTime": {
     "end_time": "2023-08-30T07:09:04.902764Z",
     "start_time": "2023-08-30T07:08:59.283206Z"
    }
   },
   "outputs": [],
   "source": [
    "num1 = int(input(\"숫자1 = \"))\n",
    "op = input(\"연산자(+, -, *, /) = \")\n",
    "num2 = int(input(\"숫자2 = \"))\n",
    "result = num1 / num2\n",
    "print(result)"
   ]
  },
  {
   "cell_type": "code",
   "execution_count": null,
   "id": "e9fc5c52",
   "metadata": {},
   "outputs": [],
   "source": []
  }
 ],
 "metadata": {
  "kernelspec": {
   "display_name": "Python 3",
   "language": "python",
   "name": "python3"
  },
  "language_info": {
   "codemirror_mode": {
    "name": "ipython",
    "version": 3
   },
   "file_extension": ".py",
   "mimetype": "text/x-python",
   "name": "python",
   "nbconvert_exporter": "python",
   "pygments_lexer": "ipython3",
   "version": "3.8.8"
  },
  "toc": {
   "base_numbering": 1,
   "nav_menu": {},
   "number_sections": true,
   "sideBar": true,
   "skip_h1_title": false,
   "title_cell": "Table of Contents",
   "title_sidebar": "Contents",
   "toc_cell": false,
   "toc_position": {
    "height": "calc(100% - 180px)",
    "left": "10px",
    "top": "150px",
    "width": "307.2px"
   },
   "toc_section_display": true,
   "toc_window_display": true
  }
 },
 "nbformat": 4,
 "nbformat_minor": 5
}
