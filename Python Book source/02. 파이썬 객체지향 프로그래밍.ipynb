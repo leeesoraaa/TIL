{
 "cells": [
  {
   "cell_type": "markdown",
   "id": "0e4e14c7",
   "metadata": {},
   "source": [
    "# 객체(Object)\n",
    "- 자료구조(Data Structure): 하나 이상의 데이터를 효율적으로 관리할 목적으로 구현된 틀\n",
    "- 변수: 하나의 데이터를 저장하는 자료구조\n",
    "- 리스트, 튜플, 사전, 집합: 하나 이상의 데이터를 묶어서 처리하는\n",
    "- 함수(Function): 행위나 동작을 기술하는 틀\n",
    "- 객체(object, instance):"
   ]
  },
  {
   "cell_type": "markdown",
   "id": "cdfae608",
   "metadata": {},
   "source": [
    "## 객체지향을 사용하지 않는 표현\n",
    "- 가로와 세로의 길이를 이용하여 사각형의 면적을 구하는 프로그램"
   ]
  },
  {
   "cell_type": "code",
   "execution_count": 1,
   "id": "3e2cdcbd",
   "metadata": {
    "ExecuteTime": {
     "end_time": "2023-08-30T07:19:58.763705Z",
     "start_time": "2023-08-30T07:19:58.747035Z"
    }
   },
   "outputs": [
    {
     "name": "stdout",
     "output_type": "stream",
     "text": [
      "400\n"
     ]
    }
   ],
   "source": [
    "h = 20\n",
    "w = 20\n",
    "def area(h, w):\n",
    "    return h * w\n",
    "\n",
    "result = area(h, w)\n",
    "print(result)"
   ]
  },
  {
   "cell_type": "code",
   "execution_count": 3,
   "id": "0311400a",
   "metadata": {
    "ExecuteTime": {
     "end_time": "2023-08-30T07:21:17.676439Z",
     "start_time": "2023-08-30T07:21:15.951631Z"
    }
   },
   "outputs": [
    {
     "name": "stdout",
     "output_type": "stream",
     "text": [
      "가로:4\n",
      "세로:7\n",
      "면적: 28\n"
     ]
    }
   ],
   "source": [
    "h = eval(input('가로:'))\n",
    "w = eval(input('세로:'))\n",
    "\n",
    "a = area(h, w)\n",
    "print(\"면적:\", a)"
   ]
  },
  {
   "cell_type": "code",
   "execution_count": null,
   "id": "bec52ded",
   "metadata": {},
   "outputs": [],
   "source": []
  }
 ],
 "metadata": {
  "kernelspec": {
   "display_name": "Python 3",
   "language": "python",
   "name": "python3"
  },
  "language_info": {
   "codemirror_mode": {
    "name": "ipython",
    "version": 3
   },
   "file_extension": ".py",
   "mimetype": "text/x-python",
   "name": "python",
   "nbconvert_exporter": "python",
   "pygments_lexer": "ipython3",
   "version": "3.8.8"
  },
  "toc": {
   "base_numbering": 1,
   "nav_menu": {},
   "number_sections": true,
   "sideBar": true,
   "skip_h1_title": false,
   "title_cell": "Table of Contents",
   "title_sidebar": "Contents",
   "toc_cell": false,
   "toc_position": {},
   "toc_section_display": true,
   "toc_window_display": false
  }
 },
 "nbformat": 4,
 "nbformat_minor": 5
}
