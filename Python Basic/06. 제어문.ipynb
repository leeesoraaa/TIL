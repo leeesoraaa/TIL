{
 "cells": [
  {
   "cell_type": "markdown",
   "id": "cce2200f",
   "metadata": {},
   "source": [
    "# 파이썬 제어문\n",
    "\n",
    "1. 조건문 or 선택문 or 비교/판단문\n",
    "  - 주어진 조건에 따라 실행 여부를 판단하는 문장\n",
    "  - 반드시 조건식은 그 결과가 참 또는 거짓으로 판정이 되어야 한다.\n",
    "  - 논리연산자와 관계연산자를 이용한다.\n",
    "  \n",
    "  1) if문: 단순 if문, 조건이 참일 때만 문장을 제어할 때 사용하는 제어문\n",
    "  \n",
    "  2) elif ~ else문: 다중 if문, 여러 개의 조건을 이용해서 문장을 제어할 때 사용  \n",
    "  \n",
    "\n",
    "2. 반복문\n",
    "  - 주어진 조건 또는 횟수에 의해 반복 처리하는 문장\n",
    "  - 동일하거나 일정한 규칙을 가지고 있는 문장\n",
    "  \n",
    "  1) for문: 반복할 횟수가 명확할 때 사용하는 반복문\n",
    "  \n",
    "  2) while문: 사용자에 의해 반복을 제어할 때 사용하는 반복문"
   ]
  },
  {
   "cell_type": "markdown",
   "id": "d386bdbd",
   "metadata": {},
   "source": [
    "## 단순 if문\n",
    "\n",
    "if 조건식:  \n",
    "&nbsp;&nbsp; 조건이 참일 때 실행할 문장"
   ]
  },
  {
   "cell_type": "code",
   "execution_count": null,
   "id": "efd03f1d",
   "metadata": {
    "ExecuteTime": {
     "end_time": "2023-08-23T02:38:21.012608Z",
     "start_time": "2023-08-23T02:38:16.644213Z"
    }
   },
   "outputs": [],
   "source": [
    "color = input('좋아하는 색상?')\n",
    "\n",
    "if color == 'blue':\n",
    "    print('me too')\n",
    "    \n",
    "print('The end!')"
   ]
  },
  {
   "cell_type": "markdown",
   "id": "e51abb9c",
   "metadata": {},
   "source": [
    "## if ~ else문\n",
    "\n",
    "if 조건식:  \n",
    "&nbsp;&nbsp; 주어진 조건식이 참일 때 실행할 문장  \n",
    "else:   \n",
    "&nbsp;&nbsp; 주어진 조건식이 거짓일 때 실행할 문장 "
   ]
  },
  {
   "cell_type": "code",
   "execution_count": null,
   "id": "32aa617b",
   "metadata": {
    "ExecuteTime": {
     "end_time": "2023-08-23T02:45:54.357117Z",
     "start_time": "2023-08-23T02:45:50.037102Z"
    }
   },
   "outputs": [],
   "source": [
    "# 하나의 숫자를 입력받아 짝수인지 홀수인지 판정하여 출력하는 프로그램\n",
    "\n",
    "## 입력문\n",
    "num = int(input(\"숫자= \"))\n",
    "## 처리문\n",
    "\n",
    "## 출력문\n",
    "if num % 2 == 0:\n",
    "    print('even')\n",
    "else:\n",
    "    print('odd')\n",
    "    \n",
    "print('The end!')"
   ]
  },
  {
   "cell_type": "markdown",
   "id": "ada58866",
   "metadata": {},
   "source": [
    "## 다중 if문: elif ~ else 문\n",
    "if 조건식1:  \n",
    "&nbsp;&nbsp; 조건식1이 참일 때 실행할 문장  \n",
    "elif 조건식2:  \n",
    "&nbsp;&nbsp; 조건식2가 참일 때 실행할 문장  \n",
    "else:  \n",
    "&nbsp;&nbsp; 주어진 모든 조건식이 거짓일 때 실행할 문장  "
   ]
  },
  {
   "cell_type": "code",
   "execution_count": null,
   "id": "c4f11029",
   "metadata": {
    "ExecuteTime": {
     "end_time": "2023-08-23T02:55:31.702316Z",
     "start_time": "2023-08-23T02:55:24.084732Z"
    }
   },
   "outputs": [],
   "source": [
    "# 숫자를 입력받아 음수인지 양수인지 판정하는 프로그램을 구현하시오.\n",
    "num = int(input('숫자 ='))\n",
    "\n",
    "if num > 0:\n",
    "    print('positive')\n",
    "elif num == 0:\n",
    "    print('0')\n",
    "else:\n",
    "    print('negative')"
   ]
  },
  {
   "cell_type": "markdown",
   "id": "fcfb9b6c",
   "metadata": {},
   "source": [
    "### 성적처리 프로그램 2단계\n",
    "\n",
    "- 처리조건\n",
    "  1. 국어, 영어, 수학점수를 입력받아 처리한다.\n",
    "  2. 총점과 평균 그리고 학점을 계산하여 출력한다.\n",
    "  3. 학점은 평균이 90점 이상이면 'A학점', 80점 이상이면 'B학점', 70점 이상이면 'C학점'..."
   ]
  },
  {
   "cell_type": "code",
   "execution_count": null,
   "id": "48ed7200",
   "metadata": {
    "ExecuteTime": {
     "end_time": "2023-08-23T03:13:45.644350Z",
     "start_time": "2023-08-23T03:13:38.998514Z"
    }
   },
   "outputs": [],
   "source": [
    "## 입력문\n",
    "kor = int(input('국어: '))\n",
    "eng = int(input('영어: '))\n",
    "mat = int(input('수학: '))\n",
    "\n",
    "## 처리문\n",
    "tot = kor + eng + mat\n",
    "avg = tot / 3\n",
    "\n",
    "if avg >= 90:\n",
    "    grade = 'A'\n",
    "elif avg >= 80:\n",
    "    grade = 'B'\n",
    "elif avg >= 70:\n",
    "    grade = 'C'\n",
    "elif avg >= 60:\n",
    "    grade = 'D'\n",
    "else:\n",
    "    grade = 'F'\n",
    "    \n",
    "## 출력문\n",
    "print(f'총점: {tot}점, 평균: {avg:.2f}점, 학점: {grade}학점')"
   ]
  },
  {
   "cell_type": "markdown",
   "id": "310cb5f4",
   "metadata": {},
   "source": [
    "### 세 개의 정수를 입력받아 가장 큰 수와 작은 수를 출력하는 프로그램\n",
    "- 세 개의 정수를 입력받는다.\n",
    "- 입력받은 숫자 중 큰 수와 작은 수를 판정하여 출력한다."
   ]
  },
  {
   "cell_type": "code",
   "execution_count": null,
   "id": "255f5123",
   "metadata": {
    "ExecuteTime": {
     "end_time": "2023-08-23T03:44:29.858953Z",
     "start_time": "2023-08-23T03:44:22.239659Z"
    }
   },
   "outputs": [],
   "source": [
    "# 입력문\n",
    "first, second, third = map(int, input().split())\n",
    "\n",
    "# 처리문\n",
    "## first라는 변수에 가장 큰 수가 들어오지 않는 경우 또는 first가 가장 큰 수가 되는 경우\n",
    "if second >= first and second >= third:\n",
    "    first, second = second, first\n",
    "elif third >= first and third >= second:\n",
    "    first, third = third, first\n",
    "    \n",
    "## 두번째와 세번째 숫자 비교\n",
    "if third >= second:\n",
    "    second, third = third, second\n",
    "    \n",
    "# 출력문\n",
    "print(f'{first} >= {second} >= {third}')\n"
   ]
  },
  {
   "cell_type": "markdown",
   "id": "3c73b4cf",
   "metadata": {},
   "source": [
    "### 계산기 프로그램\n",
    "\n",
    "- 두 개의 숫자와 하나의 연산자를 입력받아 계산을 수행한 후 결과를 출력하는 프로그램\n",
    "- 주어진 입력 및 출력 형식에 맞게 프로그램을 구현할 것.\n",
    "- 입력형식\n",
    "  첫번째 수 =  \n",
    "  연산자(+, -, *, /) =   \n",
    "  두번째 수 =  \n",
    "<br>\n",
    "- 예시\n",
    "  첫번째 수 = 10  \n",
    "  연산자(+, -, *, /) = /  \n",
    "  두번째 수 = 2  \n",
    "  \n",
    "  10 / 2 = 5"
   ]
  },
  {
   "cell_type": "code",
   "execution_count": null,
   "id": "7ed2d48e",
   "metadata": {
    "ExecuteTime": {
     "end_time": "2023-08-23T03:48:55.615047Z",
     "start_time": "2023-08-23T03:48:51.411635Z"
    }
   },
   "outputs": [],
   "source": [
    "# 입력문\n",
    "first = int(input('첫번째 수 = '))\n",
    "op = input('연산자(+, - , *, /) = ')\n",
    "second = int(input('두번째 수 = '))\n",
    "\n",
    "# 처리문\n",
    "if op == \"+\":\n",
    "    result = first + second\n",
    "elif op == \"-\":\n",
    "    result = first - second\n",
    "elif op == \"*\":\n",
    "    result = first * second\n",
    "else:\n",
    "    result = first / second\n",
    "\n",
    "# 출력문\n",
    "print(f'{first} {op} {second} = {result}')"
   ]
  },
  {
   "cell_type": "code",
   "execution_count": null,
   "id": "0addd2ee",
   "metadata": {
    "ExecuteTime": {
     "end_time": "2023-08-23T05:03:23.810313Z",
     "start_time": "2023-08-23T05:03:18.804774Z"
    }
   },
   "outputs": [],
   "source": [
    "string = int(input('식으로 입력하세요').split())\n",
    "\n",
    "# 첫번째 수: string[0]\n",
    "# 연산자: string[1]\n",
    "# 두번째 수: string[2]\n",
    "\n",
    "if string[1] == '+':\n",
    "    print(string[0] + \" \" + string[1] + \" = \" + (int(string[0]) + int(string[2])))\n",
    "    \n",
    "print(string)"
   ]
  },
  {
   "cell_type": "markdown",
   "id": "10ab00d8",
   "metadata": {
    "ExecuteTime": {
     "end_time": "2023-08-23T05:04:42.459872Z",
     "start_time": "2023-08-23T05:04:42.440689Z"
    }
   },
   "source": [
    "## 반복문\n",
    "\n",
    "- 동일한 문장\n",
    "- 유사한 문장(일정한 규칙을 가지고 있는 문장)"
   ]
  },
  {
   "cell_type": "markdown",
   "id": "4a445453",
   "metadata": {},
   "source": [
    "### for 문\n",
    "\n",
    "for 개별변수 in 집합변수:  \n",
    "&nbsp;&nbsp; 반복 수행할 문장"
   ]
  },
  {
   "cell_type": "code",
   "execution_count": null,
   "id": "6b3df815",
   "metadata": {
    "ExecuteTime": {
     "end_time": "2023-08-23T05:11:35.139194Z",
     "start_time": "2023-08-23T05:11:35.135933Z"
    }
   },
   "outputs": [],
   "source": [
    "# 동일한 문장\n",
    "print('hi')\n",
    "range(5)  # 0, 1, 2, 3, 4\n",
    "# for 개별변수 in 집합변수(컨테이너 객체):\n",
    "for i in range(5):\n",
    "    print('hi')"
   ]
  },
  {
   "cell_type": "code",
   "execution_count": null,
   "id": "52ae9b59",
   "metadata": {
    "ExecuteTime": {
     "end_time": "2023-08-23T05:13:58.600625Z",
     "start_time": "2023-08-23T05:13:58.588208Z"
    }
   },
   "outputs": [],
   "source": [
    "for _ in range(20):  # _ = i\n",
    "    print('이소라')"
   ]
  },
  {
   "cell_type": "code",
   "execution_count": null,
   "id": "66cf8b9d",
   "metadata": {
    "ExecuteTime": {
     "end_time": "2023-08-23T05:16:37.146730Z",
     "start_time": "2023-08-23T05:16:37.137016Z"
    }
   },
   "outputs": [],
   "source": [
    "for i in range(1, 6):\n",
    "    print(i)"
   ]
  },
  {
   "cell_type": "code",
   "execution_count": null,
   "id": "c2eaa3de",
   "metadata": {
    "ExecuteTime": {
     "end_time": "2023-08-23T05:17:31.319487Z",
     "start_time": "2023-08-23T05:17:31.305827Z"
    }
   },
   "outputs": [],
   "source": [
    "for _ in range(1, 11):\n",
    "    print(_)"
   ]
  },
  {
   "cell_type": "markdown",
   "id": "e52e26bc",
   "metadata": {},
   "source": [
    "### while문\n",
    "\n",
    "while 조건식:  \n",
    "&nbsp;&nbsp; 반복수행할 문장"
   ]
  },
  {
   "cell_type": "code",
   "execution_count": null,
   "id": "ad24e9ef",
   "metadata": {
    "ExecuteTime": {
     "end_time": "2023-08-23T05:23:01.620555Z",
     "start_time": "2023-08-23T05:23:01.607599Z"
    }
   },
   "outputs": [],
   "source": [
    "i = 0\n",
    "while i < 5:\n",
    "    print('Hi')\n",
    "    i += 1 # i = i + 1"
   ]
  },
  {
   "cell_type": "code",
   "execution_count": null,
   "id": "d5633ac1",
   "metadata": {
    "ExecuteTime": {
     "end_time": "2023-08-23T05:25:10.924894Z",
     "start_time": "2023-08-23T05:25:10.905910Z"
    }
   },
   "outputs": [],
   "source": [
    "i = 0\n",
    "while i < 5:\n",
    "    i += 1 # i = i + 1\n",
    "    print(i)"
   ]
  },
  {
   "cell_type": "code",
   "execution_count": null,
   "id": "e2bd1844",
   "metadata": {
    "ExecuteTime": {
     "end_time": "2023-08-23T05:27:18.799255Z",
     "start_time": "2023-08-23T05:27:18.785032Z"
    }
   },
   "outputs": [],
   "source": [
    "i = 0\n",
    "while True:  #무한 Loop\n",
    "    i += 1  # i = i + 1\n",
    "    print(i)\n",
    "    if i == 5: break"
   ]
  },
  {
   "cell_type": "code",
   "execution_count": null,
   "id": "9a2b4d05",
   "metadata": {
    "ExecuteTime": {
     "end_time": "2023-08-23T05:30:39.886062Z",
     "start_time": "2023-08-23T05:30:17.584141Z"
    }
   },
   "outputs": [],
   "source": [
    "# 알파벳을 입력받아 출력하는 작업을 수행한다. 단, 입력 받은 알파벳이 q이면 반복을 종료\n",
    "\n",
    "while True: \n",
    "    ch = input('종료(q) = ')\n",
    "    if ch == 'q':break\n",
    "    print(ch)"
   ]
  },
  {
   "cell_type": "markdown",
   "id": "9f50e851",
   "metadata": {},
   "source": [
    "#### 1부터 10까지의 자연수의 합을 계산하여 출력하는 프로그램을 구현하시오."
   ]
  },
  {
   "cell_type": "code",
   "execution_count": null,
   "id": "25c5c941",
   "metadata": {
    "ExecuteTime": {
     "end_time": "2023-08-23T05:36:46.488960Z",
     "start_time": "2023-08-23T05:36:46.476806Z"
    }
   },
   "outputs": [],
   "source": [
    "tot = 0\n",
    "for i in range(1, 11):\n",
    "    tot += i\n",
    "print(\"tot=\", tot)"
   ]
  },
  {
   "cell_type": "code",
   "execution_count": null,
   "id": "f8bc2d97",
   "metadata": {
    "ExecuteTime": {
     "end_time": "2023-08-23T05:40:30.385131Z",
     "start_time": "2023-08-23T05:40:30.354149Z"
    }
   },
   "outputs": [],
   "source": [
    "tot = 0\n",
    "i = 0\n",
    "while i < 10:\n",
    "    i += 1\n",
    "    tot += i\n",
    "\n",
    "print(\"tot=\", tot)"
   ]
  },
  {
   "cell_type": "markdown",
   "id": "97c6843d",
   "metadata": {
    "ExecuteTime": {
     "end_time": "2023-08-23T05:44:49.724811Z",
     "start_time": "2023-08-23T05:44:48.014594Z"
    }
   },
   "source": [
    "#### 단을 입력 받아 해당 단의 구구단을 출력하는 프로그램을 구현하시오."
   ]
  },
  {
   "cell_type": "code",
   "execution_count": null,
   "id": "7e263cec",
   "metadata": {
    "ExecuteTime": {
     "end_time": "2023-08-23T05:52:28.942914Z",
     "start_time": "2023-08-23T05:52:26.935849Z"
    }
   },
   "outputs": [],
   "source": [
    "dan = int(input('단: '))\n",
    "\n",
    "for i in range(1, 10):\n",
    "    gob = dan * i\n",
    "    print(f'{dan} x {i} = {gob}')"
   ]
  },
  {
   "cell_type": "code",
   "execution_count": null,
   "id": "d3568c9c",
   "metadata": {
    "ExecuteTime": {
     "end_time": "2023-08-23T05:53:55.694542Z",
     "start_time": "2023-08-23T05:53:53.259232Z"
    }
   },
   "outputs": [],
   "source": [
    "# 입력문\n",
    "dan = int(input('단 = '))\n",
    "\n",
    "# 처리문 & 출력문\n",
    "for i in range(1, 10):\n",
    "    print('{0} x {1} = {2}'.format(dan, i, dan*i))"
   ]
  },
  {
   "cell_type": "code",
   "execution_count": null,
   "id": "c8488c88",
   "metadata": {
    "ExecuteTime": {
     "end_time": "2023-08-23T06:03:48.174545Z",
     "start_time": "2023-08-23T06:03:33.924955Z"
    }
   },
   "outputs": [],
   "source": [
    "while True :\n",
    "    # 입력문\n",
    "    dan = int(input('(종료:0)단 = '))\n",
    "\n",
    "    if dan == 0 : break\n",
    "        \n",
    "    # 처리문 & 출력문\n",
    "    for i in range(1, 10) :\n",
    "        print('{0} x {1} = {2}'.format(dan, i, dan*i))"
   ]
  },
  {
   "cell_type": "markdown",
   "id": "bfa4313a",
   "metadata": {},
   "source": [
    "#### 구구단을 출력하는 프로그램을 구현하시오.\n",
    "\n",
    "for 개별변수1 in 집합변수1:  \n",
    "&nbsp;&nbsp;&nbsp;&nbsp; 반복문장1  \n",
    "&nbsp;&nbsp;&nbsp;&nbsp; for 개별변수2 in 집합변수2:  \n",
    "&nbsp;&nbsp;&nbsp;&nbsp;&nbsp;&nbsp; 반복문장2  "
   ]
  },
  {
   "cell_type": "code",
   "execution_count": null,
   "id": "3eeaa1c6",
   "metadata": {
    "ExecuteTime": {
     "end_time": "2023-08-23T06:02:08.559333Z",
     "start_time": "2023-08-23T06:02:08.551275Z"
    }
   },
   "outputs": [],
   "source": [
    "for dan in range(2, 10):\n",
    "    print(\"=={0}단==\".format(dan))  # 8 번 반복\n",
    "    for i in range(1, 10):  # 8 * 9 번 반복\n",
    "        print('{0} x {1} = {2}'.format(dan, i, dan*i))\n",
    "    \n",
    "    print() # 줄바꿈"
   ]
  },
  {
   "cell_type": "markdown",
   "id": "d8981cbd",
   "metadata": {},
   "source": [
    "### 멀티 프로그램을 구현하시오.\n",
    "1. 처리조건\n",
    "  - 주어진 입출력형식에 맞게 프로그램을 구현하시오.\n",
    "  - 사용자에 의해 처리할 작업을 선택할 수 있도록 구현하시오.\n",
    "  - 사용자가 원하면 언제든지 프로그램을 종료할 수 있도록 구현하시오.\n",
    "  - 기타 조건은 주어진 입출력 형식에 맞게 구현하시오.\n",
    "<br>\n",
    "<br>\n",
    "2. 입력형식\n",
    "<pre>\n",
    "  == 멀티 프로그램 ==\n",
    "  1. 수나열\n",
    "  2. 계산기 프로그램\n",
    "  3. 작업종료\n",
    "  ==================\n",
    "  선택 =\n",
    "</pre>\n",
    "<br>\n",
    "<br>\n",
    "3. 기능설명\n",
    "  - 수나열은 세개의 정수를 입력받아 큰 순서대로 출력하는 프로그램\n",
    "  - 계산기는 두 개의 정수와 하나의 연산자를 입력받아 계산결과를 출력하는 프로그램\n",
    "  - 작업종료를 선택하지 않으면 프로그램을 무한 루프로 동작되도록 구현"
   ]
  },
  {
   "cell_type": "code",
   "execution_count": 5,
   "id": "cac528ca",
   "metadata": {
    "ExecuteTime": {
     "end_time": "2023-08-23T06:56:57.892171Z",
     "start_time": "2023-08-23T06:56:34.173017Z"
    }
   },
   "outputs": [
    {
     "name": "stdout",
     "output_type": "stream",
     "text": [
      "== 멀티 프로그램 ==\n",
      "1. 수 나열\n",
      "2. 계산기\n",
      "3. 작업종료\n",
      "=================\n",
      "선택 = 2\n",
      "첫번째 수 = 56\n",
      "연산자(+,-,*,/)= -\n",
      "두번째 수 = 7\n",
      "56 - 7 = 49\n",
      "== 멀티 프로그램 ==\n",
      "1. 수 나열\n",
      "2. 계산기\n",
      "3. 작업종료\n",
      "=================\n",
      "선택 = 3\n",
      "프로그램을 종료합니다.\n"
     ]
    }
   ],
   "source": [
    "while True:\n",
    "    # 메뉴출력\n",
    "    print(\"== 멀티 프로그램 ==\")\n",
    "    print(\"1. 수 나열\")\n",
    "    print(\"2. 계산기\")\n",
    "    print(\"3. 작업종료\")\n",
    "    print(\"=================\")\n",
    "    # print(\"선택 = \")\n",
    "    ch = int(input('선택 = '))\n",
    "    \n",
    "    # 선택에 따른 로직 구현\n",
    "    if ch == 1:\n",
    "        # 입력문\n",
    "        first, second, third = map(int, input().split())\n",
    "        # 처리문\n",
    "        if second >= first and second >= third:\n",
    "            first, second = second, first\n",
    "        elif third >= first and third >= second:\n",
    "            first, third = third, first\n",
    "            \n",
    "        if third >= second:\n",
    "            second, third = third, second\n",
    "        \n",
    "        print(f'{first} >= {second} >= {third}')\n",
    "    elif ch == 2:\n",
    "        # 입력문\n",
    "        first = int(input('첫번째 수 = '))\n",
    "        op = input('연산자(+,-,*,/)= ')\n",
    "        second = int(input('두번째 수 = '))\n",
    "        # 처리문\n",
    "        if op == '+':\n",
    "            result = first + second\n",
    "        elif op == '-':\n",
    "            result = first - second\n",
    "        elif op == '*':\n",
    "            result = first * second\n",
    "        else:\n",
    "            result = first / second\n",
    "        # 출력문\n",
    "        print(f'{first} {op} {second} = {result}')\n",
    "        \n",
    "    elif ch == 3:\n",
    "        break\n",
    "    else:\n",
    "        print(\"선택이 올바르지 않습니다.\")\n",
    "        \n",
    "print(\"프로그램을 종료합니다.\")"
   ]
  },
  {
   "cell_type": "markdown",
   "id": "ddb3ab9e",
   "metadata": {
    "ExecuteTime": {
     "end_time": "2023-08-23T06:20:32.223587Z",
     "start_time": "2023-08-23T06:20:32.220343Z"
    }
   },
   "source": [
    "## 리스트, 튜플, 문자열 등 iterable한 객체 이용한 제어문 처리"
   ]
  },
  {
   "cell_type": "code",
   "execution_count": null,
   "id": "0defa130",
   "metadata": {
    "ExecuteTime": {
     "end_time": "2023-08-23T06:22:25.592633Z",
     "start_time": "2023-08-23T06:22:25.581670Z"
    }
   },
   "outputs": [],
   "source": [
    "a = [2,1,5,3,4]"
   ]
  },
  {
   "cell_type": "code",
   "execution_count": null,
   "id": "07fdb45c",
   "metadata": {
    "ExecuteTime": {
     "end_time": "2023-08-23T06:22:28.186972Z",
     "start_time": "2023-08-23T06:22:28.169964Z"
    }
   },
   "outputs": [],
   "source": [
    "# for 개별변수 in 집합변수(컨테이너 객체)\n",
    "for i in a:\n",
    "    print(i)"
   ]
  },
  {
   "cell_type": "code",
   "execution_count": null,
   "id": "08a455b2",
   "metadata": {
    "ExecuteTime": {
     "end_time": "2023-08-23T06:23:30.631929Z",
     "start_time": "2023-08-23T06:23:30.622298Z"
    }
   },
   "outputs": [],
   "source": [
    "students = ('John', 'Minsu', 'Gildong', 'Chris')\n",
    "print(students)\n",
    "            "
   ]
  },
  {
   "cell_type": "code",
   "execution_count": null,
   "id": "a5d9d0d5",
   "metadata": {
    "ExecuteTime": {
     "end_time": "2023-08-23T06:23:42.544459Z",
     "start_time": "2023-08-23T06:23:42.539468Z"
    }
   },
   "outputs": [],
   "source": [
    "for name in students:\n",
    "    print(name)"
   ]
  },
  {
   "cell_type": "code",
   "execution_count": null,
   "id": "538c7bc2",
   "metadata": {
    "ExecuteTime": {
     "end_time": "2023-08-23T06:23:57.955420Z",
     "start_time": "2023-08-23T06:23:57.941433Z"
    }
   },
   "outputs": [],
   "source": [
    "for k in \"python\":\n",
    "    print(k)"
   ]
  },
  {
   "cell_type": "markdown",
   "id": "3cf56ce6",
   "metadata": {},
   "source": [
    "## 리스트 내포(List comprehension)\n",
    "\n",
    "- 파이썬에서는 for문과 if문 등 한 줄로 코드를 작성하여 직관적이고 실행속도를 높여주는 기능\n",
    "- 결과를 다시 리스트에 담아야 하는 상황에 해당 명령을 리스트에 포함시키는 코드 방식\n",
    "- 기본 형식\n",
    "  리스트명 = [표현식 for 개별변수 in 집합변수]"
   ]
  },
  {
   "cell_type": "code",
   "execution_count": null,
   "id": "67dc808e",
   "metadata": {
    "ExecuteTime": {
     "end_time": "2023-08-23T06:30:59.545268Z",
     "start_time": "2023-08-23T06:30:59.539287Z"
    }
   },
   "outputs": [],
   "source": [
    "a = [1,2,3]\n",
    "b = []\n",
    "\n",
    "for i in a:\n",
    "    b.append(i * 2)\n",
    "    \n",
    "print(b)"
   ]
  },
  {
   "cell_type": "code",
   "execution_count": null,
   "id": "d3527dd1",
   "metadata": {
    "ExecuteTime": {
     "end_time": "2023-08-23T06:32:01.261224Z",
     "start_time": "2023-08-23T06:32:01.244645Z"
    }
   },
   "outputs": [],
   "source": [
    "# 리스트 내포 사용\n",
    "a = [1, 2, 3]\n",
    "b = [i * 2 for i in a]\n",
    "print(b)"
   ]
  },
  {
   "cell_type": "markdown",
   "id": "e154dbd8",
   "metadata": {
    "ExecuteTime": {
     "end_time": "2023-08-23T06:32:21.009567Z",
     "start_time": "2023-08-23T06:32:21.004584Z"
    }
   },
   "source": [
    "리스트명 = [표현식 for 개별변수 in 집합변수 if 조건문]"
   ]
  },
  {
   "cell_type": "code",
   "execution_count": null,
   "id": "da1b6aa5",
   "metadata": {
    "ExecuteTime": {
     "end_time": "2023-08-23T06:37:23.615999Z",
     "start_time": "2023-08-23T06:37:23.611055Z"
    }
   },
   "outputs": [],
   "source": [
    "a = [3, 7, 9, 10]\n",
    "b = list()\n",
    "# 주어진 리스트의 요소의 값이 홀수인 것만 100을 곱해 b에 담음\n",
    "\n",
    "for i in a:\n",
    "    if i % 2 != 0:\n",
    "        b.append(i * 100)\n",
    "        \n",
    "print(b)"
   ]
  },
  {
   "cell_type": "code",
   "execution_count": 1,
   "id": "8cd12333",
   "metadata": {
    "ExecuteTime": {
     "end_time": "2023-08-25T00:03:58.894805Z",
     "start_time": "2023-08-25T00:03:58.879819Z"
    }
   },
   "outputs": [
    {
     "name": "stdout",
     "output_type": "stream",
     "text": [
      "[300, 700, 900]\n"
     ]
    }
   ],
   "source": [
    "# 리스트 내포 사용\n",
    "a = [3, 7, 9, 10]\n",
    "b = [i * 100 for i in a if i%2 != 0]\n",
    "print(b)"
   ]
  },
  {
   "cell_type": "markdown",
   "id": "cfc834cf",
   "metadata": {},
   "source": [
    "## 기타 제어문\n",
    "- break문: 해당 블록에서 벗어나라\n",
    "- continue문: 이하 생략"
   ]
  },
  {
   "cell_type": "code",
   "execution_count": null,
   "id": "4acde3d2",
   "metadata": {
    "ExecuteTime": {
     "end_time": "2023-08-23T06:41:35.236676Z",
     "start_time": "2023-08-23T06:41:35.216565Z"
    }
   },
   "outputs": [],
   "source": [
    "# 1부터 100 사이의 자연수를 출력하는 프로그램\n",
    "for i in range(1,101):\n",
    "    print(i, end = ' ')"
   ]
  },
  {
   "cell_type": "code",
   "execution_count": 2,
   "id": "1a88e714",
   "metadata": {
    "ExecuteTime": {
     "end_time": "2023-08-23T06:45:56.611586Z",
     "start_time": "2023-08-23T06:45:56.600167Z"
    }
   },
   "outputs": [
    {
     "name": "stdout",
     "output_type": "stream",
     "text": [
      "1 2 3 4 5 6 7 8 9 10 \n",
      "11 12 13 14 15 16 17 18 19 20 \n",
      "21 22 23 24 25 26 27 28 29 30 \n",
      "31 32 33 34 35 36 37 38 39 40 \n",
      "41 42 43 44 45 46 47 48 49 50 \n",
      "51 52 53 54 55 56 57 58 59 60 \n",
      "61 62 63 64 65 66 67 68 69 70 \n",
      "71 72 73 74 75 76 77 78 79 80 \n",
      "81 82 83 84 85 86 87 88 89 90 \n",
      "91 92 93 94 95 96 97 98 99 100 \n"
     ]
    }
   ],
   "source": [
    "# 1 줄에 10개씩만 출력\n",
    "for i in range(1,101):\n",
    "    print(i, end = ' ')\n",
    "    if i % 10 == 0:\n",
    "        print()"
   ]
  },
  {
   "cell_type": "code",
   "execution_count": 4,
   "id": "e4623e2c",
   "metadata": {
    "ExecuteTime": {
     "end_time": "2023-08-23T06:49:40.222615Z",
     "start_time": "2023-08-23T06:49:40.215638Z"
    }
   },
   "outputs": [
    {
     "name": "stdout",
     "output_type": "stream",
     "text": [
      "1 3 5 7 9 \n",
      "11 13 15 17 19 \n",
      "21 23 25 27 29 \n",
      "31 33 35 37 39 \n",
      "41 43 45 47 49 \n",
      "51 53 55 57 59 \n",
      "61 63 65 67 69 \n",
      "71 73 75 77 79 \n",
      "81 83 85 87 89 \n",
      "91 93 95 97 99 \n"
     ]
    }
   ],
   "source": [
    "# 1부터 100 사이의 자연수 중 홀수만 추출하시오. 단 한줄에 5개씩 추출하시오.\n",
    "for i in range(1,101):\n",
    "    if i % 2 == 0:\n",
    "        continue  # 생략(건너뛰어라)\n",
    "    print(i, end = ' ')\n",
    "    if i % 10 == 9:\n",
    "        print()"
   ]
  },
  {
   "cell_type": "code",
   "execution_count": 6,
   "id": "3c40b804",
   "metadata": {
    "ExecuteTime": {
     "end_time": "2023-08-23T07:17:49.467383Z",
     "start_time": "2023-08-23T07:17:49.461438Z"
    }
   },
   "outputs": [
    {
     "name": "stdout",
     "output_type": "stream",
     "text": [
      "1 3 5 7 9 \n",
      "11 13 15 17 19 \n",
      "21 23 25 27 29 \n",
      "31 33 35 37 39 \n",
      "41 43 45 47 49 \n",
      "51 53 55 57 59 \n",
      "61 63 65 67 69 \n",
      "71 73 75 77 79 \n",
      "81 83 85 87 89 \n",
      "91 93 95 97 99 \n"
     ]
    }
   ],
   "source": [
    "cnt = 0\n",
    "for i in range(1,101):\n",
    "    if i % 2 == 0:\n",
    "        continue  # 생략(건너뛰어라)\n",
    "    else:\n",
    "        cnt += 1 # 홀수의 개수를 누적\n",
    "        print(i, end = ' ')\n",
    "    if cnt % 5 == 0:\n",
    "        print()   "
   ]
  },
  {
   "cell_type": "markdown",
   "id": "c6d33b7d",
   "metadata": {},
   "source": [
    "# 자료구조와 제어문"
   ]
  },
  {
   "cell_type": "code",
   "execution_count": 8,
   "id": "746298a3",
   "metadata": {
    "ExecuteTime": {
     "end_time": "2023-08-23T07:21:11.200774Z",
     "start_time": "2023-08-23T07:21:11.191767Z"
    }
   },
   "outputs": [
    {
     "name": "stdout",
     "output_type": "stream",
     "text": [
      "[(1, 2), (3, 4), (5, 6), (7, 8), (9, 10)]\n"
     ]
    }
   ],
   "source": [
    "a = [(1, 2), (3, 4), (5, 6), (7, 8), (9, 10)]\n",
    "print(a)"
   ]
  },
  {
   "cell_type": "code",
   "execution_count": 10,
   "id": "87c84277",
   "metadata": {
    "ExecuteTime": {
     "end_time": "2023-08-23T07:23:18.069487Z",
     "start_time": "2023-08-23T07:23:18.052769Z"
    }
   },
   "outputs": [
    {
     "name": "stdout",
     "output_type": "stream",
     "text": [
      "1 2\n",
      "3 4\n",
      "5 6\n",
      "7 8\n",
      "9 10\n"
     ]
    }
   ],
   "source": [
    "for i in a:\n",
    "    print(i[0], i[1])"
   ]
  },
  {
   "cell_type": "code",
   "execution_count": 11,
   "id": "1e9dc222",
   "metadata": {
    "ExecuteTime": {
     "end_time": "2023-08-23T07:24:21.215038Z",
     "start_time": "2023-08-23T07:24:21.211124Z"
    }
   },
   "outputs": [
    {
     "name": "stdout",
     "output_type": "stream",
     "text": [
      "1 + 2 = 3\n",
      "3 + 4 = 7\n",
      "5 + 6 = 11\n",
      "7 + 8 = 15\n",
      "9 + 10 = 19\n"
     ]
    }
   ],
   "source": [
    "for (first, second) in a:\n",
    "    print(\"{0} + {1} = {2}\".format(first, second, first + second))"
   ]
  },
  {
   "cell_type": "markdown",
   "id": "0efc86e3",
   "metadata": {},
   "source": [
    "### 년도를 입력받아 평년인지 윤년인지 판단하여 출력하는 프로그램\n",
    "\n",
    "- 입력받은 년도가 0이면 작업을 종료할 것\n",
    "- 윤년은 4년마다 돌아오는데 100으로 나누어 떨어지는 연도는 평년, 하지만 400으로 나누어 떨어지면 윤년"
   ]
  },
  {
   "cell_type": "code",
   "execution_count": 13,
   "id": "cafa84c2",
   "metadata": {
    "ExecuteTime": {
     "end_time": "2023-08-23T07:35:42.469315Z",
     "start_time": "2023-08-23T07:34:43.314970Z"
    }
   },
   "outputs": [
    {
     "name": "stdout",
     "output_type": "stream",
     "text": [
      "년도(종료:0) = 2023\n",
      "2023년도는 평년입니다.\n",
      "년도(종료:0) = 2024\n",
      "2024년도는 윤년입니다.\n",
      "년도(종료:0) = 0\n",
      "프로그램을 종료합니다.\n"
     ]
    }
   ],
   "source": [
    "while True:\n",
    "    year = int(input('년도(종료:0) = '))\n",
    "    if year == 0:\n",
    "        print(\"프로그램을 종료합니다.\")\n",
    "        break\n",
    "    elif year % 4 == 0 and year % 100 != 0 or year % 400 == 0:\n",
    "        print(\"{0}년도는 윤년입니다.\".format(year))\n",
    "    else:\n",
    "        print(\"{0}년도는 평년입니다.\".format(year))\n"
   ]
  },
  {
   "cell_type": "markdown",
   "id": "c3a3349b",
   "metadata": {},
   "source": [
    "## 1부터 100사이의 수중 소수에 해당하는 숫자를 출력하는 프로그램\n",
    "\n",
    "- 처리조건: 한 줄에 10개씩 출력되도록 구현할 것\n",
    "- 소수(Prime): 1과 자기자신으로만 나누어 떨어지는 수"
   ]
  },
  {
   "cell_type": "code",
   "execution_count": 15,
   "id": "5622ed14",
   "metadata": {
    "ExecuteTime": {
     "end_time": "2023-08-23T07:51:41.074298Z",
     "start_time": "2023-08-23T07:51:38.096693Z"
    }
   },
   "outputs": [
    {
     "name": "stdout",
     "output_type": "stream",
     "text": [
      "수 = 19\n",
      "소수이다.\n"
     ]
    }
   ],
   "source": [
    "num = int(input('수 = '))\n",
    "ck = 0\n",
    "\n",
    "for i in range(1, num+1):\n",
    "    if num % i == 0:\n",
    "        ck += 1\n",
    "        \n",
    "if ck == 2:\n",
    "    print('소수이다.')\n",
    "else:\n",
    "    print('소수가 아니다.')"
   ]
  },
  {
   "cell_type": "code",
   "execution_count": 16,
   "id": "55db2879",
   "metadata": {
    "ExecuteTime": {
     "end_time": "2023-08-23T07:55:09.562669Z",
     "start_time": "2023-08-23T07:55:09.553069Z"
    }
   },
   "outputs": [
    {
     "name": "stdout",
     "output_type": "stream",
     "text": [
      "2 3 5 7 11 13 17 19 23 29 31 37 41 43 47 53 59 61 67 71 73 79 83 89 97 "
     ]
    }
   ],
   "source": [
    "for i in range(1, 101):\n",
    "    check = 0 # 나누어지는 수의 개수를 누적할 변수\n",
    "    \n",
    "    for j in range(1, i + 1):\n",
    "        if i % j == 0:\n",
    "            check += 1\n",
    "            \n",
    "    if check == 2:\n",
    "        print(i, end = ' ')"
   ]
  }
 ],
 "metadata": {
  "kernelspec": {
   "display_name": "Python 3",
   "language": "python",
   "name": "python3"
  },
  "language_info": {
   "codemirror_mode": {
    "name": "ipython",
    "version": 3
   },
   "file_extension": ".py",
   "mimetype": "text/x-python",
   "name": "python",
   "nbconvert_exporter": "python",
   "pygments_lexer": "ipython3",
   "version": "3.8.8"
  },
  "toc": {
   "base_numbering": 1,
   "nav_menu": {},
   "number_sections": true,
   "sideBar": true,
   "skip_h1_title": false,
   "title_cell": "Table of Contents",
   "title_sidebar": "Contents",
   "toc_cell": false,
   "toc_position": {
    "height": "calc(100% - 180px)",
    "left": "10px",
    "top": "150px",
    "width": "165px"
   },
   "toc_section_display": true,
   "toc_window_display": true
  }
 },
 "nbformat": 4,
 "nbformat_minor": 5
}
